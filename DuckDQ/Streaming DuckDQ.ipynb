{
 "cells": [
  {
   "cell_type": "code",
   "execution_count": null,
   "metadata": {
    "application/vnd.databricks.v1+cell": {
     "cellMetadata": {
      "byteLimit": 2048000,
      "rowLimit": 10000
     },
     "inputWidgets": {},
     "nuid": "3f133065-f45a-4ce2-8ce4-6236ca2fa934",
     "showTitle": false,
     "title": ""
    }
   },
   "outputs": [
    {
     "data": {
      "text/html": [
       "<style scoped>\n",
       "  .ansiout {\n",
       "    display: block;\n",
       "    unicode-bidi: embed;\n",
       "    white-space: pre-wrap;\n",
       "    word-wrap: break-word;\n",
       "    word-break: break-all;\n",
       "    font-family: \"Menlo\", \"Monaco\", \"Consolas\", \"Ubuntu Mono\", \"Source Code Pro\", monospace;\n",
       "    font-size: 13px;\n",
       "    color: #555;\n",
       "    margin-left: 4px;\n",
       "    line-height: 19px;\n",
       "  }\n",
       "</style>\n",
       "<div class=\"ansiout\">  % Total    % Received % Xferd  Average Speed   Time    Time     Time  Current\n",
       "                                 Dload  Upload   Total   Spent    Left  Speed\n",
       "\n",
       "  0     0    0     0    0     0      0      0 --:--:-- --:--:-- --:--:--     0\n",
       "100 13605    0 13605    0     0  14613      0 --:--:-- --:--:-- --:--:-- 14597\n",
       "100 78966    0 78966    0     0  44288      0 --:--:--  0:00:01 --:--:-- 44263\n",
       "100  149k    0  149k    0     0  61339      0 --:--:--  0:00:02 --:--:-- 61339\n",
       "</div>"
      ]
     },
     "metadata": {
      "application/vnd.databricks.v1+output": {
       "addedWidgets": {},
       "arguments": {},
       "data": "<div class=\"ansiout\">  % Total    % Received % Xferd  Average Speed   Time    Time     Time  Current\n                                 Dload  Upload   Total   Spent    Left  Speed\n\n  0     0    0     0    0     0      0      0 --:--:-- --:--:-- --:--:--     0\n100 13605    0 13605    0     0  14613      0 --:--:-- --:--:-- --:--:-- 14597\n100 78966    0 78966    0     0  44288      0 --:--:--  0:00:01 --:--:-- 44263\n100  149k    0  149k    0     0  61339      0 --:--:--  0:00:02 --:--:-- 61339\n</div>",
       "datasetInfos": [],
       "metadata": {},
       "removedWidgets": [],
       "type": "html"
      }
     },
     "output_type": "display_data"
    }
   ],
   "source": [
    "%sh\n",
    "# clear the delta checkpoint\n",
    "rm -rf /dbfs/tmp/StreamingDataQuality/checkpoint\n",
    "\n",
    "# download some generated stock tick data; this is a public Mockaroo endpoint- as such, we can't guarantee availability!\n",
    "curl \"https://api.mockaroo.com/api/2aedaa80?count=1000&key=8eb06b50\" > /tmp/stockTicks.json\n"
   ]
  },
  {
   "cell_type": "code",
   "execution_count": null,
   "metadata": {
    "application/vnd.databricks.v1+cell": {
     "cellMetadata": {
      "byteLimit": 2048000,
      "rowLimit": 10000
     },
     "inputWidgets": {},
     "nuid": "98986e94-e4bd-4b26-9485-94646eda4d33",
     "showTitle": false,
     "title": ""
    }
   },
   "outputs": [
    {
     "data": {
      "text/html": [
       "<style scoped>\n",
       "  .ansiout {\n",
       "    display: block;\n",
       "    unicode-bidi: embed;\n",
       "    white-space: pre-wrap;\n",
       "    word-wrap: break-word;\n",
       "    word-break: break-all;\n",
       "    font-family: \"Menlo\", \"Monaco\", \"Consolas\", \"Ubuntu Mono\", \"Source Code Pro\", monospace;\n",
       "    font-size: 13px;\n",
       "    color: #555;\n",
       "    margin-left: 4px;\n",
       "    line-height: 19px;\n",
       "  }\n",
       "</style>\n",
       "<div class=\"ansiout\">Out[2]: True</div>"
      ]
     },
     "metadata": {
      "application/vnd.databricks.v1+output": {
       "addedWidgets": {},
       "arguments": {},
       "data": "<div class=\"ansiout\">Out[2]: True</div>",
       "datasetInfos": [],
       "metadata": {},
       "removedWidgets": [],
       "type": "html"
      }
     },
     "output_type": "display_data"
    }
   ],
   "source": [
    "dbutils.fs.mv(\"file:/tmp/stockTicks.json\", \"dbfs:/tmp/StreamingDataQuality/stockTicks.json\")"
   ]
  },
  {
   "cell_type": "code",
   "execution_count": null,
   "metadata": {
    "application/vnd.databricks.v1+cell": {
     "cellMetadata": {
      "byteLimit": 2048000,
      "rowLimit": 10000
     },
     "inputWidgets": {},
     "nuid": "0abfa659-04dd-4d95-8069-ceaa82b532df",
     "showTitle": false,
     "title": ""
    }
   },
   "outputs": [
    {
     "data": {
      "text/html": [
       "<style scoped>\n",
       "  .ansiout {\n",
       "    display: block;\n",
       "    unicode-bidi: embed;\n",
       "    white-space: pre-wrap;\n",
       "    word-wrap: break-word;\n",
       "    word-break: break-all;\n",
       "    font-family: \"Menlo\", \"Monaco\", \"Consolas\", \"Ubuntu Mono\", \"Source Code Pro\", monospace;\n",
       "    font-size: 13px;\n",
       "    color: #555;\n",
       "    margin-left: 4px;\n",
       "    line-height: 19px;\n",
       "  }\n",
       "</style>\n",
       "<div class=\"ansiout\"></div>"
      ]
     },
     "metadata": {
      "application/vnd.databricks.v1+output": {
       "addedWidgets": {},
       "arguments": {},
       "data": "<div class=\"ansiout\"></div>",
       "datasetInfos": [],
       "metadata": {},
       "removedWidgets": [],
       "type": "html"
      }
     },
     "output_type": "display_data"
    }
   ],
   "source": [
    "spark.read.json(\"/tmp/StreamingDataQuality/stockTicks.json\").repartition(100).write.mode(\"overwrite\").parquet(\"/tmp/StreamingDataQuality/source/\")"
   ]
  },
  {
   "cell_type": "code",
   "execution_count": null,
   "metadata": {
    "application/vnd.databricks.v1+cell": {
     "cellMetadata": {
      "byteLimit": 2048000,
      "rowLimit": 10000
     },
     "inputWidgets": {},
     "nuid": "d14cdb52-b6d6-4e62-8b10-ad7c46da74d8",
     "showTitle": false,
     "title": ""
    }
   },
   "outputs": [
    {
     "data": {
      "text/html": [
       "<style scoped>\n",
       "  .table-result-container {\n",
       "    max-height: 300px;\n",
       "    overflow: auto;\n",
       "  }\n",
       "  table, th, td {\n",
       "    border: 1px solid black;\n",
       "    border-collapse: collapse;\n",
       "  }\n",
       "  th, td {\n",
       "    padding: 5px;\n",
       "  }\n",
       "  th {\n",
       "    text-align: left;\n",
       "  }\n",
       "</style><div class='table-result-container'><table class='table-result'><thead style='background-color: white'><tr><th>path</th><th>name</th><th>size</th></tr></thead><tbody><tr><td>dbfs:/tmp/StreamingDataQuality/source/_SUCCESS</td><td>_SUCCESS</td><td>0</td></tr><tr><td>dbfs:/tmp/StreamingDataQuality/source/_committed_6528151237972479421</td><td>_committed_6528151237972479421</td><td>9918</td></tr><tr><td>dbfs:/tmp/StreamingDataQuality/source/_started_6528151237972479421</td><td>_started_6528151237972479421</td><td>0</td></tr><tr><td>dbfs:/tmp/StreamingDataQuality/source/part-00000-tid-6528151237972479421-7b3266ae-77e1-4333-ba8b-c7d75d1750d2-2-1-c000.snappy.parquet</td><td>part-00000-tid-6528151237972479421-7b3266ae-77e1-4333-ba8b-c7d75d1750d2-2-1-c000.snappy.parquet</td><td>2758</td></tr><tr><td>dbfs:/tmp/StreamingDataQuality/source/part-00001-tid-6528151237972479421-7b3266ae-77e1-4333-ba8b-c7d75d1750d2-3-1-c000.snappy.parquet</td><td>part-00001-tid-6528151237972479421-7b3266ae-77e1-4333-ba8b-c7d75d1750d2-3-1-c000.snappy.parquet</td><td>2770</td></tr><tr><td>dbfs:/tmp/StreamingDataQuality/source/part-00002-tid-6528151237972479421-7b3266ae-77e1-4333-ba8b-c7d75d1750d2-4-1-c000.snappy.parquet</td><td>part-00002-tid-6528151237972479421-7b3266ae-77e1-4333-ba8b-c7d75d1750d2-4-1-c000.snappy.parquet</td><td>2725</td></tr><tr><td>dbfs:/tmp/StreamingDataQuality/source/part-00003-tid-6528151237972479421-7b3266ae-77e1-4333-ba8b-c7d75d1750d2-5-1-c000.snappy.parquet</td><td>part-00003-tid-6528151237972479421-7b3266ae-77e1-4333-ba8b-c7d75d1750d2-5-1-c000.snappy.parquet</td><td>2754</td></tr><tr><td>dbfs:/tmp/StreamingDataQuality/source/part-00004-tid-6528151237972479421-7b3266ae-77e1-4333-ba8b-c7d75d1750d2-6-1-c000.snappy.parquet</td><td>part-00004-tid-6528151237972479421-7b3266ae-77e1-4333-ba8b-c7d75d1750d2-6-1-c000.snappy.parquet</td><td>2782</td></tr><tr><td>dbfs:/tmp/StreamingDataQuality/source/part-00005-tid-6528151237972479421-7b3266ae-77e1-4333-ba8b-c7d75d1750d2-7-1-c000.snappy.parquet</td><td>part-00005-tid-6528151237972479421-7b3266ae-77e1-4333-ba8b-c7d75d1750d2-7-1-c000.snappy.parquet</td><td>2761</td></tr><tr><td>dbfs:/tmp/StreamingDataQuality/source/part-00006-tid-6528151237972479421-7b3266ae-77e1-4333-ba8b-c7d75d1750d2-8-1-c000.snappy.parquet</td><td>part-00006-tid-6528151237972479421-7b3266ae-77e1-4333-ba8b-c7d75d1750d2-8-1-c000.snappy.parquet</td><td>2750</td></tr><tr><td>dbfs:/tmp/StreamingDataQuality/source/part-00007-tid-6528151237972479421-7b3266ae-77e1-4333-ba8b-c7d75d1750d2-9-1-c000.snappy.parquet</td><td>part-00007-tid-6528151237972479421-7b3266ae-77e1-4333-ba8b-c7d75d1750d2-9-1-c000.snappy.parquet</td><td>2718</td></tr><tr><td>dbfs:/tmp/StreamingDataQuality/source/part-00008-tid-6528151237972479421-7b3266ae-77e1-4333-ba8b-c7d75d1750d2-10-1-c000.snappy.parquet</td><td>part-00008-tid-6528151237972479421-7b3266ae-77e1-4333-ba8b-c7d75d1750d2-10-1-c000.snappy.parquet</td><td>2755</td></tr><tr><td>dbfs:/tmp/StreamingDataQuality/source/part-00009-tid-6528151237972479421-7b3266ae-77e1-4333-ba8b-c7d75d1750d2-11-1-c000.snappy.parquet</td><td>part-00009-tid-6528151237972479421-7b3266ae-77e1-4333-ba8b-c7d75d1750d2-11-1-c000.snappy.parquet</td><td>2765</td></tr><tr><td>dbfs:/tmp/StreamingDataQuality/source/part-00010-tid-6528151237972479421-7b3266ae-77e1-4333-ba8b-c7d75d1750d2-12-1-c000.snappy.parquet</td><td>part-00010-tid-6528151237972479421-7b3266ae-77e1-4333-ba8b-c7d75d1750d2-12-1-c000.snappy.parquet</td><td>2746</td></tr><tr><td>dbfs:/tmp/StreamingDataQuality/source/part-00011-tid-6528151237972479421-7b3266ae-77e1-4333-ba8b-c7d75d1750d2-13-1-c000.snappy.parquet</td><td>part-00011-tid-6528151237972479421-7b3266ae-77e1-4333-ba8b-c7d75d1750d2-13-1-c000.snappy.parquet</td><td>2738</td></tr><tr><td>dbfs:/tmp/StreamingDataQuality/source/part-00012-tid-6528151237972479421-7b3266ae-77e1-4333-ba8b-c7d75d1750d2-14-1-c000.snappy.parquet</td><td>part-00012-tid-6528151237972479421-7b3266ae-77e1-4333-ba8b-c7d75d1750d2-14-1-c000.snappy.parquet</td><td>2736</td></tr><tr><td>dbfs:/tmp/StreamingDataQuality/source/part-00013-tid-6528151237972479421-7b3266ae-77e1-4333-ba8b-c7d75d1750d2-15-1-c000.snappy.parquet</td><td>part-00013-tid-6528151237972479421-7b3266ae-77e1-4333-ba8b-c7d75d1750d2-15-1-c000.snappy.parquet</td><td>2750</td></tr><tr><td>dbfs:/tmp/StreamingDataQuality/source/part-00014-tid-6528151237972479421-7b3266ae-77e1-4333-ba8b-c7d75d1750d2-16-1-c000.snappy.parquet</td><td>part-00014-tid-6528151237972479421-7b3266ae-77e1-4333-ba8b-c7d75d1750d2-16-1-c000.snappy.parquet</td><td>2691</td></tr><tr><td>dbfs:/tmp/StreamingDataQuality/source/part-00015-tid-6528151237972479421-7b3266ae-77e1-4333-ba8b-c7d75d1750d2-17-1-c000.snappy.parquet</td><td>part-00015-tid-6528151237972479421-7b3266ae-77e1-4333-ba8b-c7d75d1750d2-17-1-c000.snappy.parquet</td><td>2734</td></tr><tr><td>dbfs:/tmp/StreamingDataQuality/source/part-00016-tid-6528151237972479421-7b3266ae-77e1-4333-ba8b-c7d75d1750d2-18-1-c000.snappy.parquet</td><td>part-00016-tid-6528151237972479421-7b3266ae-77e1-4333-ba8b-c7d75d1750d2-18-1-c000.snappy.parquet</td><td>2772</td></tr><tr><td>dbfs:/tmp/StreamingDataQuality/source/part-00017-tid-6528151237972479421-7b3266ae-77e1-4333-ba8b-c7d75d1750d2-19-1-c000.snappy.parquet</td><td>part-00017-tid-6528151237972479421-7b3266ae-77e1-4333-ba8b-c7d75d1750d2-19-1-c000.snappy.parquet</td><td>2741</td></tr><tr><td>dbfs:/tmp/StreamingDataQuality/source/part-00018-tid-6528151237972479421-7b3266ae-77e1-4333-ba8b-c7d75d1750d2-20-1-c000.snappy.parquet</td><td>part-00018-tid-6528151237972479421-7b3266ae-77e1-4333-ba8b-c7d75d1750d2-20-1-c000.snappy.parquet</td><td>2765</td></tr><tr><td>dbfs:/tmp/StreamingDataQuality/source/part-00019-tid-6528151237972479421-7b3266ae-77e1-4333-ba8b-c7d75d1750d2-21-1-c000.snappy.parquet</td><td>part-00019-tid-6528151237972479421-7b3266ae-77e1-4333-ba8b-c7d75d1750d2-21-1-c000.snappy.parquet</td><td>2763</td></tr><tr><td>dbfs:/tmp/StreamingDataQuality/source/part-00020-tid-6528151237972479421-7b3266ae-77e1-4333-ba8b-c7d75d1750d2-22-1-c000.snappy.parquet</td><td>part-00020-tid-6528151237972479421-7b3266ae-77e1-4333-ba8b-c7d75d1750d2-22-1-c000.snappy.parquet</td><td>2743</td></tr><tr><td>dbfs:/tmp/StreamingDataQuality/source/part-00021-tid-6528151237972479421-7b3266ae-77e1-4333-ba8b-c7d75d1750d2-23-1-c000.snappy.parquet</td><td>part-00021-tid-6528151237972479421-7b3266ae-77e1-4333-ba8b-c7d75d1750d2-23-1-c000.snappy.parquet</td><td>2731</td></tr><tr><td>dbfs:/tmp/StreamingDataQuality/source/part-00022-tid-6528151237972479421-7b3266ae-77e1-4333-ba8b-c7d75d1750d2-24-1-c000.snappy.parquet</td><td>part-00022-tid-6528151237972479421-7b3266ae-77e1-4333-ba8b-c7d75d1750d2-24-1-c000.snappy.parquet</td><td>2733</td></tr><tr><td>dbfs:/tmp/StreamingDataQuality/source/part-00023-tid-6528151237972479421-7b3266ae-77e1-4333-ba8b-c7d75d1750d2-25-1-c000.snappy.parquet</td><td>part-00023-tid-6528151237972479421-7b3266ae-77e1-4333-ba8b-c7d75d1750d2-25-1-c000.snappy.parquet</td><td>2694</td></tr><tr><td>dbfs:/tmp/StreamingDataQuality/source/part-00024-tid-6528151237972479421-7b3266ae-77e1-4333-ba8b-c7d75d1750d2-26-1-c000.snappy.parquet</td><td>part-00024-tid-6528151237972479421-7b3266ae-77e1-4333-ba8b-c7d75d1750d2-26-1-c000.snappy.parquet</td><td>2755</td></tr><tr><td>dbfs:/tmp/StreamingDataQuality/source/part-00025-tid-6528151237972479421-7b3266ae-77e1-4333-ba8b-c7d75d1750d2-27-1-c000.snappy.parquet</td><td>part-00025-tid-6528151237972479421-7b3266ae-77e1-4333-ba8b-c7d75d1750d2-27-1-c000.snappy.parquet</td><td>2707</td></tr><tr><td>dbfs:/tmp/StreamingDataQuality/source/part-00026-tid-6528151237972479421-7b3266ae-77e1-4333-ba8b-c7d75d1750d2-28-1-c000.snappy.parquet</td><td>part-00026-tid-6528151237972479421-7b3266ae-77e1-4333-ba8b-c7d75d1750d2-28-1-c000.snappy.parquet</td><td>2739</td></tr><tr><td>dbfs:/tmp/StreamingDataQuality/source/part-00027-tid-6528151237972479421-7b3266ae-77e1-4333-ba8b-c7d75d1750d2-29-1-c000.snappy.parquet</td><td>part-00027-tid-6528151237972479421-7b3266ae-77e1-4333-ba8b-c7d75d1750d2-29-1-c000.snappy.parquet</td><td>2737</td></tr><tr><td>dbfs:/tmp/StreamingDataQuality/source/part-00028-tid-6528151237972479421-7b3266ae-77e1-4333-ba8b-c7d75d1750d2-30-1-c000.snappy.parquet</td><td>part-00028-tid-6528151237972479421-7b3266ae-77e1-4333-ba8b-c7d75d1750d2-30-1-c000.snappy.parquet</td><td>2719</td></tr><tr><td>dbfs:/tmp/StreamingDataQuality/source/part-00029-tid-6528151237972479421-7b3266ae-77e1-4333-ba8b-c7d75d1750d2-31-1-c000.snappy.parquet</td><td>part-00029-tid-6528151237972479421-7b3266ae-77e1-4333-ba8b-c7d75d1750d2-31-1-c000.snappy.parquet</td><td>2747</td></tr><tr><td>dbfs:/tmp/StreamingDataQuality/source/part-00030-tid-6528151237972479421-7b3266ae-77e1-4333-ba8b-c7d75d1750d2-32-1-c000.snappy.parquet</td><td>part-00030-tid-6528151237972479421-7b3266ae-77e1-4333-ba8b-c7d75d1750d2-32-1-c000.snappy.parquet</td><td>2728</td></tr><tr><td>dbfs:/tmp/StreamingDataQuality/source/part-00031-tid-6528151237972479421-7b3266ae-77e1-4333-ba8b-c7d75d1750d2-33-1-c000.snappy.parquet</td><td>part-00031-tid-6528151237972479421-7b3266ae-77e1-4333-ba8b-c7d75d1750d2-33-1-c000.snappy.parquet</td><td>2773</td></tr><tr><td>dbfs:/tmp/StreamingDataQuality/source/part-00032-tid-6528151237972479421-7b3266ae-77e1-4333-ba8b-c7d75d1750d2-34-1-c000.snappy.parquet</td><td>part-00032-tid-6528151237972479421-7b3266ae-77e1-4333-ba8b-c7d75d1750d2-34-1-c000.snappy.parquet</td><td>2721</td></tr><tr><td>dbfs:/tmp/StreamingDataQuality/source/part-00033-tid-6528151237972479421-7b3266ae-77e1-4333-ba8b-c7d75d1750d2-35-1-c000.snappy.parquet</td><td>part-00033-tid-6528151237972479421-7b3266ae-77e1-4333-ba8b-c7d75d1750d2-35-1-c000.snappy.parquet</td><td>2721</td></tr><tr><td>dbfs:/tmp/StreamingDataQuality/source/part-00034-tid-6528151237972479421-7b3266ae-77e1-4333-ba8b-c7d75d1750d2-36-1-c000.snappy.parquet</td><td>part-00034-tid-6528151237972479421-7b3266ae-77e1-4333-ba8b-c7d75d1750d2-36-1-c000.snappy.parquet</td><td>2710</td></tr><tr><td>dbfs:/tmp/StreamingDataQuality/source/part-00035-tid-6528151237972479421-7b3266ae-77e1-4333-ba8b-c7d75d1750d2-37-1-c000.snappy.parquet</td><td>part-00035-tid-6528151237972479421-7b3266ae-77e1-4333-ba8b-c7d75d1750d2-37-1-c000.snappy.parquet</td><td>2763</td></tr><tr><td>dbfs:/tmp/StreamingDataQuality/source/part-00036-tid-6528151237972479421-7b3266ae-77e1-4333-ba8b-c7d75d1750d2-38-1-c000.snappy.parquet</td><td>part-00036-tid-6528151237972479421-7b3266ae-77e1-4333-ba8b-c7d75d1750d2-38-1-c000.snappy.parquet</td><td>2758</td></tr><tr><td>dbfs:/tmp/StreamingDataQuality/source/part-00037-tid-6528151237972479421-7b3266ae-77e1-4333-ba8b-c7d75d1750d2-39-1-c000.snappy.parquet</td><td>part-00037-tid-6528151237972479421-7b3266ae-77e1-4333-ba8b-c7d75d1750d2-39-1-c000.snappy.parquet</td><td>2696</td></tr><tr><td>dbfs:/tmp/StreamingDataQuality/source/part-00038-tid-6528151237972479421-7b3266ae-77e1-4333-ba8b-c7d75d1750d2-40-1-c000.snappy.parquet</td><td>part-00038-tid-6528151237972479421-7b3266ae-77e1-4333-ba8b-c7d75d1750d2-40-1-c000.snappy.parquet</td><td>2767</td></tr><tr><td>dbfs:/tmp/StreamingDataQuality/source/part-00039-tid-6528151237972479421-7b3266ae-77e1-4333-ba8b-c7d75d1750d2-41-1-c000.snappy.parquet</td><td>part-00039-tid-6528151237972479421-7b3266ae-77e1-4333-ba8b-c7d75d1750d2-41-1-c000.snappy.parquet</td><td>2743</td></tr><tr><td>dbfs:/tmp/StreamingDataQuality/source/part-00040-tid-6528151237972479421-7b3266ae-77e1-4333-ba8b-c7d75d1750d2-42-1-c000.snappy.parquet</td><td>part-00040-tid-6528151237972479421-7b3266ae-77e1-4333-ba8b-c7d75d1750d2-42-1-c000.snappy.parquet</td><td>2719</td></tr><tr><td>dbfs:/tmp/StreamingDataQuality/source/part-00041-tid-6528151237972479421-7b3266ae-77e1-4333-ba8b-c7d75d1750d2-43-1-c000.snappy.parquet</td><td>part-00041-tid-6528151237972479421-7b3266ae-77e1-4333-ba8b-c7d75d1750d2-43-1-c000.snappy.parquet</td><td>2769</td></tr><tr><td>dbfs:/tmp/StreamingDataQuality/source/part-00042-tid-6528151237972479421-7b3266ae-77e1-4333-ba8b-c7d75d1750d2-44-1-c000.snappy.parquet</td><td>part-00042-tid-6528151237972479421-7b3266ae-77e1-4333-ba8b-c7d75d1750d2-44-1-c000.snappy.parquet</td><td>2748</td></tr><tr><td>dbfs:/tmp/StreamingDataQuality/source/part-00043-tid-6528151237972479421-7b3266ae-77e1-4333-ba8b-c7d75d1750d2-45-1-c000.snappy.parquet</td><td>part-00043-tid-6528151237972479421-7b3266ae-77e1-4333-ba8b-c7d75d1750d2-45-1-c000.snappy.parquet</td><td>2728</td></tr><tr><td>dbfs:/tmp/StreamingDataQuality/source/part-00044-tid-6528151237972479421-7b3266ae-77e1-4333-ba8b-c7d75d1750d2-46-1-c000.snappy.parquet</td><td>part-00044-tid-6528151237972479421-7b3266ae-77e1-4333-ba8b-c7d75d1750d2-46-1-c000.snappy.parquet</td><td>2776</td></tr><tr><td>dbfs:/tmp/StreamingDataQuality/source/part-00045-tid-6528151237972479421-7b3266ae-77e1-4333-ba8b-c7d75d1750d2-47-1-c000.snappy.parquet</td><td>part-00045-tid-6528151237972479421-7b3266ae-77e1-4333-ba8b-c7d75d1750d2-47-1-c000.snappy.parquet</td><td>2750</td></tr><tr><td>dbfs:/tmp/StreamingDataQuality/source/part-00046-tid-6528151237972479421-7b3266ae-77e1-4333-ba8b-c7d75d1750d2-48-1-c000.snappy.parquet</td><td>part-00046-tid-6528151237972479421-7b3266ae-77e1-4333-ba8b-c7d75d1750d2-48-1-c000.snappy.parquet</td><td>2728</td></tr><tr><td>dbfs:/tmp/StreamingDataQuality/source/part-00047-tid-6528151237972479421-7b3266ae-77e1-4333-ba8b-c7d75d1750d2-49-1-c000.snappy.parquet</td><td>part-00047-tid-6528151237972479421-7b3266ae-77e1-4333-ba8b-c7d75d1750d2-49-1-c000.snappy.parquet</td><td>2728</td></tr><tr><td>dbfs:/tmp/StreamingDataQuality/source/part-00048-tid-6528151237972479421-7b3266ae-77e1-4333-ba8b-c7d75d1750d2-50-1-c000.snappy.parquet</td><td>part-00048-tid-6528151237972479421-7b3266ae-77e1-4333-ba8b-c7d75d1750d2-50-1-c000.snappy.parquet</td><td>2727</td></tr><tr><td>dbfs:/tmp/StreamingDataQuality/source/part-00049-tid-6528151237972479421-7b3266ae-77e1-4333-ba8b-c7d75d1750d2-51-1-c000.snappy.parquet</td><td>part-00049-tid-6528151237972479421-7b3266ae-77e1-4333-ba8b-c7d75d1750d2-51-1-c000.snappy.parquet</td><td>2713</td></tr><tr><td>dbfs:/tmp/StreamingDataQuality/source/part-00050-tid-6528151237972479421-7b3266ae-77e1-4333-ba8b-c7d75d1750d2-52-1-c000.snappy.parquet</td><td>part-00050-tid-6528151237972479421-7b3266ae-77e1-4333-ba8b-c7d75d1750d2-52-1-c000.snappy.parquet</td><td>2734</td></tr><tr><td>dbfs:/tmp/StreamingDataQuality/source/part-00051-tid-6528151237972479421-7b3266ae-77e1-4333-ba8b-c7d75d1750d2-53-1-c000.snappy.parquet</td><td>part-00051-tid-6528151237972479421-7b3266ae-77e1-4333-ba8b-c7d75d1750d2-53-1-c000.snappy.parquet</td><td>2752</td></tr><tr><td>dbfs:/tmp/StreamingDataQuality/source/part-00052-tid-6528151237972479421-7b3266ae-77e1-4333-ba8b-c7d75d1750d2-54-1-c000.snappy.parquet</td><td>part-00052-tid-6528151237972479421-7b3266ae-77e1-4333-ba8b-c7d75d1750d2-54-1-c000.snappy.parquet</td><td>2745</td></tr><tr><td>dbfs:/tmp/StreamingDataQuality/source/part-00053-tid-6528151237972479421-7b3266ae-77e1-4333-ba8b-c7d75d1750d2-55-1-c000.snappy.parquet</td><td>part-00053-tid-6528151237972479421-7b3266ae-77e1-4333-ba8b-c7d75d1750d2-55-1-c000.snappy.parquet</td><td>2712</td></tr><tr><td>dbfs:/tmp/StreamingDataQuality/source/part-00054-tid-6528151237972479421-7b3266ae-77e1-4333-ba8b-c7d75d1750d2-56-1-c000.snappy.parquet</td><td>part-00054-tid-6528151237972479421-7b3266ae-77e1-4333-ba8b-c7d75d1750d2-56-1-c000.snappy.parquet</td><td>2717</td></tr><tr><td>dbfs:/tmp/StreamingDataQuality/source/part-00055-tid-6528151237972479421-7b3266ae-77e1-4333-ba8b-c7d75d1750d2-57-1-c000.snappy.parquet</td><td>part-00055-tid-6528151237972479421-7b3266ae-77e1-4333-ba8b-c7d75d1750d2-57-1-c000.snappy.parquet</td><td>2726</td></tr><tr><td>dbfs:/tmp/StreamingDataQuality/source/part-00056-tid-6528151237972479421-7b3266ae-77e1-4333-ba8b-c7d75d1750d2-58-1-c000.snappy.parquet</td><td>part-00056-tid-6528151237972479421-7b3266ae-77e1-4333-ba8b-c7d75d1750d2-58-1-c000.snappy.parquet</td><td>2767</td></tr><tr><td>dbfs:/tmp/StreamingDataQuality/source/part-00057-tid-6528151237972479421-7b3266ae-77e1-4333-ba8b-c7d75d1750d2-59-1-c000.snappy.parquet</td><td>part-00057-tid-6528151237972479421-7b3266ae-77e1-4333-ba8b-c7d75d1750d2-59-1-c000.snappy.parquet</td><td>2754</td></tr><tr><td>dbfs:/tmp/StreamingDataQuality/source/part-00058-tid-6528151237972479421-7b3266ae-77e1-4333-ba8b-c7d75d1750d2-60-1-c000.snappy.parquet</td><td>part-00058-tid-6528151237972479421-7b3266ae-77e1-4333-ba8b-c7d75d1750d2-60-1-c000.snappy.parquet</td><td>2757</td></tr><tr><td>dbfs:/tmp/StreamingDataQuality/source/part-00059-tid-6528151237972479421-7b3266ae-77e1-4333-ba8b-c7d75d1750d2-61-1-c000.snappy.parquet</td><td>part-00059-tid-6528151237972479421-7b3266ae-77e1-4333-ba8b-c7d75d1750d2-61-1-c000.snappy.parquet</td><td>2766</td></tr><tr><td>dbfs:/tmp/StreamingDataQuality/source/part-00060-tid-6528151237972479421-7b3266ae-77e1-4333-ba8b-c7d75d1750d2-62-1-c000.snappy.parquet</td><td>part-00060-tid-6528151237972479421-7b3266ae-77e1-4333-ba8b-c7d75d1750d2-62-1-c000.snappy.parquet</td><td>2735</td></tr><tr><td>dbfs:/tmp/StreamingDataQuality/source/part-00061-tid-6528151237972479421-7b3266ae-77e1-4333-ba8b-c7d75d1750d2-63-1-c000.snappy.parquet</td><td>part-00061-tid-6528151237972479421-7b3266ae-77e1-4333-ba8b-c7d75d1750d2-63-1-c000.snappy.parquet</td><td>2743</td></tr><tr><td>dbfs:/tmp/StreamingDataQuality/source/part-00062-tid-6528151237972479421-7b3266ae-77e1-4333-ba8b-c7d75d1750d2-64-1-c000.snappy.parquet</td><td>part-00062-tid-6528151237972479421-7b3266ae-77e1-4333-ba8b-c7d75d1750d2-64-1-c000.snappy.parquet</td><td>2755</td></tr><tr><td>dbfs:/tmp/StreamingDataQuality/source/part-00063-tid-6528151237972479421-7b3266ae-77e1-4333-ba8b-c7d75d1750d2-65-1-c000.snappy.parquet</td><td>part-00063-tid-6528151237972479421-7b3266ae-77e1-4333-ba8b-c7d75d1750d2-65-1-c000.snappy.parquet</td><td>2679</td></tr><tr><td>dbfs:/tmp/StreamingDataQuality/source/part-00064-tid-6528151237972479421-7b3266ae-77e1-4333-ba8b-c7d75d1750d2-66-1-c000.snappy.parquet</td><td>part-00064-tid-6528151237972479421-7b3266ae-77e1-4333-ba8b-c7d75d1750d2-66-1-c000.snappy.parquet</td><td>2725</td></tr><tr><td>dbfs:/tmp/StreamingDataQuality/source/part-00065-tid-6528151237972479421-7b3266ae-77e1-4333-ba8b-c7d75d1750d2-67-1-c000.snappy.parquet</td><td>part-00065-tid-6528151237972479421-7b3266ae-77e1-4333-ba8b-c7d75d1750d2-67-1-c000.snappy.parquet</td><td>2721</td></tr><tr><td>dbfs:/tmp/StreamingDataQuality/source/part-00066-tid-6528151237972479421-7b3266ae-77e1-4333-ba8b-c7d75d1750d2-68-1-c000.snappy.parquet</td><td>part-00066-tid-6528151237972479421-7b3266ae-77e1-4333-ba8b-c7d75d1750d2-68-1-c000.snappy.parquet</td><td>2745</td></tr><tr><td>dbfs:/tmp/StreamingDataQuality/source/part-00067-tid-6528151237972479421-7b3266ae-77e1-4333-ba8b-c7d75d1750d2-69-1-c000.snappy.parquet</td><td>part-00067-tid-6528151237972479421-7b3266ae-77e1-4333-ba8b-c7d75d1750d2-69-1-c000.snappy.parquet</td><td>2764</td></tr><tr><td>dbfs:/tmp/StreamingDataQuality/source/part-00068-tid-6528151237972479421-7b3266ae-77e1-4333-ba8b-c7d75d1750d2-70-1-c000.snappy.parquet</td><td>part-00068-tid-6528151237972479421-7b3266ae-77e1-4333-ba8b-c7d75d1750d2-70-1-c000.snappy.parquet</td><td>2765</td></tr><tr><td>dbfs:/tmp/StreamingDataQuality/source/part-00069-tid-6528151237972479421-7b3266ae-77e1-4333-ba8b-c7d75d1750d2-71-1-c000.snappy.parquet</td><td>part-00069-tid-6528151237972479421-7b3266ae-77e1-4333-ba8b-c7d75d1750d2-71-1-c000.snappy.parquet</td><td>2750</td></tr><tr><td>dbfs:/tmp/StreamingDataQuality/source/part-00070-tid-6528151237972479421-7b3266ae-77e1-4333-ba8b-c7d75d1750d2-72-1-c000.snappy.parquet</td><td>part-00070-tid-6528151237972479421-7b3266ae-77e1-4333-ba8b-c7d75d1750d2-72-1-c000.snappy.parquet</td><td>2744</td></tr><tr><td>dbfs:/tmp/StreamingDataQuality/source/part-00071-tid-6528151237972479421-7b3266ae-77e1-4333-ba8b-c7d75d1750d2-73-1-c000.snappy.parquet</td><td>part-00071-tid-6528151237972479421-7b3266ae-77e1-4333-ba8b-c7d75d1750d2-73-1-c000.snappy.parquet</td><td>2711</td></tr><tr><td>dbfs:/tmp/StreamingDataQuality/source/part-00072-tid-6528151237972479421-7b3266ae-77e1-4333-ba8b-c7d75d1750d2-74-1-c000.snappy.parquet</td><td>part-00072-tid-6528151237972479421-7b3266ae-77e1-4333-ba8b-c7d75d1750d2-74-1-c000.snappy.parquet</td><td>2725</td></tr><tr><td>dbfs:/tmp/StreamingDataQuality/source/part-00073-tid-6528151237972479421-7b3266ae-77e1-4333-ba8b-c7d75d1750d2-75-1-c000.snappy.parquet</td><td>part-00073-tid-6528151237972479421-7b3266ae-77e1-4333-ba8b-c7d75d1750d2-75-1-c000.snappy.parquet</td><td>2749</td></tr><tr><td>dbfs:/tmp/StreamingDataQuality/source/part-00074-tid-6528151237972479421-7b3266ae-77e1-4333-ba8b-c7d75d1750d2-76-1-c000.snappy.parquet</td><td>part-00074-tid-6528151237972479421-7b3266ae-77e1-4333-ba8b-c7d75d1750d2-76-1-c000.snappy.parquet</td><td>2719</td></tr><tr><td>dbfs:/tmp/StreamingDataQuality/source/part-00075-tid-6528151237972479421-7b3266ae-77e1-4333-ba8b-c7d75d1750d2-77-1-c000.snappy.parquet</td><td>part-00075-tid-6528151237972479421-7b3266ae-77e1-4333-ba8b-c7d75d1750d2-77-1-c000.snappy.parquet</td><td>2797</td></tr><tr><td>dbfs:/tmp/StreamingDataQuality/source/part-00076-tid-6528151237972479421-7b3266ae-77e1-4333-ba8b-c7d75d1750d2-78-1-c000.snappy.parquet</td><td>part-00076-tid-6528151237972479421-7b3266ae-77e1-4333-ba8b-c7d75d1750d2-78-1-c000.snappy.parquet</td><td>2707</td></tr><tr><td>dbfs:/tmp/StreamingDataQuality/source/part-00077-tid-6528151237972479421-7b3266ae-77e1-4333-ba8b-c7d75d1750d2-79-1-c000.snappy.parquet</td><td>part-00077-tid-6528151237972479421-7b3266ae-77e1-4333-ba8b-c7d75d1750d2-79-1-c000.snappy.parquet</td><td>2776</td></tr><tr><td>dbfs:/tmp/StreamingDataQuality/source/part-00078-tid-6528151237972479421-7b3266ae-77e1-4333-ba8b-c7d75d1750d2-80-1-c000.snappy.parquet</td><td>part-00078-tid-6528151237972479421-7b3266ae-77e1-4333-ba8b-c7d75d1750d2-80-1-c000.snappy.parquet</td><td>2762</td></tr><tr><td>dbfs:/tmp/StreamingDataQuality/source/part-00079-tid-6528151237972479421-7b3266ae-77e1-4333-ba8b-c7d75d1750d2-81-1-c000.snappy.parquet</td><td>part-00079-tid-6528151237972479421-7b3266ae-77e1-4333-ba8b-c7d75d1750d2-81-1-c000.snappy.parquet</td><td>2744</td></tr><tr><td>dbfs:/tmp/StreamingDataQuality/source/part-00080-tid-6528151237972479421-7b3266ae-77e1-4333-ba8b-c7d75d1750d2-82-1-c000.snappy.parquet</td><td>part-00080-tid-6528151237972479421-7b3266ae-77e1-4333-ba8b-c7d75d1750d2-82-1-c000.snappy.parquet</td><td>2729</td></tr><tr><td>dbfs:/tmp/StreamingDataQuality/source/part-00081-tid-6528151237972479421-7b3266ae-77e1-4333-ba8b-c7d75d1750d2-83-1-c000.snappy.parquet</td><td>part-00081-tid-6528151237972479421-7b3266ae-77e1-4333-ba8b-c7d75d1750d2-83-1-c000.snappy.parquet</td><td>2766</td></tr><tr><td>dbfs:/tmp/StreamingDataQuality/source/part-00082-tid-6528151237972479421-7b3266ae-77e1-4333-ba8b-c7d75d1750d2-84-1-c000.snappy.parquet</td><td>part-00082-tid-6528151237972479421-7b3266ae-77e1-4333-ba8b-c7d75d1750d2-84-1-c000.snappy.parquet</td><td>2733</td></tr><tr><td>dbfs:/tmp/StreamingDataQuality/source/part-00083-tid-6528151237972479421-7b3266ae-77e1-4333-ba8b-c7d75d1750d2-85-1-c000.snappy.parquet</td><td>part-00083-tid-6528151237972479421-7b3266ae-77e1-4333-ba8b-c7d75d1750d2-85-1-c000.snappy.parquet</td><td>2728</td></tr><tr><td>dbfs:/tmp/StreamingDataQuality/source/part-00084-tid-6528151237972479421-7b3266ae-77e1-4333-ba8b-c7d75d1750d2-86-1-c000.snappy.parquet</td><td>part-00084-tid-6528151237972479421-7b3266ae-77e1-4333-ba8b-c7d75d1750d2-86-1-c000.snappy.parquet</td><td>2737</td></tr><tr><td>dbfs:/tmp/StreamingDataQuality/source/part-00085-tid-6528151237972479421-7b3266ae-77e1-4333-ba8b-c7d75d1750d2-87-1-c000.snappy.parquet</td><td>part-00085-tid-6528151237972479421-7b3266ae-77e1-4333-ba8b-c7d75d1750d2-87-1-c000.snappy.parquet</td><td>2763</td></tr><tr><td>dbfs:/tmp/StreamingDataQuality/source/part-00086-tid-6528151237972479421-7b3266ae-77e1-4333-ba8b-c7d75d1750d2-88-1-c000.snappy.parquet</td><td>part-00086-tid-6528151237972479421-7b3266ae-77e1-4333-ba8b-c7d75d1750d2-88-1-c000.snappy.parquet</td><td>2729</td></tr><tr><td>dbfs:/tmp/StreamingDataQuality/source/part-00087-tid-6528151237972479421-7b3266ae-77e1-4333-ba8b-c7d75d1750d2-89-1-c000.snappy.parquet</td><td>part-00087-tid-6528151237972479421-7b3266ae-77e1-4333-ba8b-c7d75d1750d2-89-1-c000.snappy.parquet</td><td>2767</td></tr><tr><td>dbfs:/tmp/StreamingDataQuality/source/part-00088-tid-6528151237972479421-7b3266ae-77e1-4333-ba8b-c7d75d1750d2-90-1-c000.snappy.parquet</td><td>part-00088-tid-6528151237972479421-7b3266ae-77e1-4333-ba8b-c7d75d1750d2-90-1-c000.snappy.parquet</td><td>2736</td></tr><tr><td>dbfs:/tmp/StreamingDataQuality/source/part-00089-tid-6528151237972479421-7b3266ae-77e1-4333-ba8b-c7d75d1750d2-91-1-c000.snappy.parquet</td><td>part-00089-tid-6528151237972479421-7b3266ae-77e1-4333-ba8b-c7d75d1750d2-91-1-c000.snappy.parquet</td><td>2709</td></tr><tr><td>dbfs:/tmp/StreamingDataQuality/source/part-00090-tid-6528151237972479421-7b3266ae-77e1-4333-ba8b-c7d75d1750d2-92-1-c000.snappy.parquet</td><td>part-00090-tid-6528151237972479421-7b3266ae-77e1-4333-ba8b-c7d75d1750d2-92-1-c000.snappy.parquet</td><td>2717</td></tr><tr><td>dbfs:/tmp/StreamingDataQuality/source/part-00091-tid-6528151237972479421-7b3266ae-77e1-4333-ba8b-c7d75d1750d2-93-1-c000.snappy.parquet</td><td>part-00091-tid-6528151237972479421-7b3266ae-77e1-4333-ba8b-c7d75d1750d2-93-1-c000.snappy.parquet</td><td>2755</td></tr><tr><td>dbfs:/tmp/StreamingDataQuality/source/part-00092-tid-6528151237972479421-7b3266ae-77e1-4333-ba8b-c7d75d1750d2-94-1-c000.snappy.parquet</td><td>part-00092-tid-6528151237972479421-7b3266ae-77e1-4333-ba8b-c7d75d1750d2-94-1-c000.snappy.parquet</td><td>2722</td></tr><tr><td>dbfs:/tmp/StreamingDataQuality/source/part-00093-tid-6528151237972479421-7b3266ae-77e1-4333-ba8b-c7d75d1750d2-95-1-c000.snappy.parquet</td><td>part-00093-tid-6528151237972479421-7b3266ae-77e1-4333-ba8b-c7d75d1750d2-95-1-c000.snappy.parquet</td><td>2734</td></tr><tr><td>dbfs:/tmp/StreamingDataQuality/source/part-00094-tid-6528151237972479421-7b3266ae-77e1-4333-ba8b-c7d75d1750d2-96-1-c000.snappy.parquet</td><td>part-00094-tid-6528151237972479421-7b3266ae-77e1-4333-ba8b-c7d75d1750d2-96-1-c000.snappy.parquet</td><td>2725</td></tr><tr><td>dbfs:/tmp/StreamingDataQuality/source/part-00095-tid-6528151237972479421-7b3266ae-77e1-4333-ba8b-c7d75d1750d2-97-1-c000.snappy.parquet</td><td>part-00095-tid-6528151237972479421-7b3266ae-77e1-4333-ba8b-c7d75d1750d2-97-1-c000.snappy.parquet</td><td>2772</td></tr><tr><td>dbfs:/tmp/StreamingDataQuality/source/part-00096-tid-6528151237972479421-7b3266ae-77e1-4333-ba8b-c7d75d1750d2-98-1-c000.snappy.parquet</td><td>part-00096-tid-6528151237972479421-7b3266ae-77e1-4333-ba8b-c7d75d1750d2-98-1-c000.snappy.parquet</td><td>2769</td></tr><tr><td>dbfs:/tmp/StreamingDataQuality/source/part-00097-tid-6528151237972479421-7b3266ae-77e1-4333-ba8b-c7d75d1750d2-99-1-c000.snappy.parquet</td><td>part-00097-tid-6528151237972479421-7b3266ae-77e1-4333-ba8b-c7d75d1750d2-99-1-c000.snappy.parquet</td><td>2754</td></tr><tr><td>dbfs:/tmp/StreamingDataQuality/source/part-00098-tid-6528151237972479421-7b3266ae-77e1-4333-ba8b-c7d75d1750d2-100-1-c000.snappy.parquet</td><td>part-00098-tid-6528151237972479421-7b3266ae-77e1-4333-ba8b-c7d75d1750d2-100-1-c000.snappy.parquet</td><td>2775</td></tr><tr><td>dbfs:/tmp/StreamingDataQuality/source/part-00099-tid-6528151237972479421-7b3266ae-77e1-4333-ba8b-c7d75d1750d2-101-1-c000.snappy.parquet</td><td>part-00099-tid-6528151237972479421-7b3266ae-77e1-4333-ba8b-c7d75d1750d2-101-1-c000.snappy.parquet</td><td>2742</td></tr></tbody></table></div>"
      ]
     },
     "metadata": {
      "application/vnd.databricks.v1+output": {
       "addedWidgets": {},
       "aggData": [],
       "aggError": "",
       "aggOverflow": false,
       "aggSchema": [],
       "aggSeriesLimitReached": false,
       "aggType": "",
       "arguments": {},
       "columnCustomDisplayInfos": {},
       "data": [
        [
         "dbfs:/tmp/StreamingDataQuality/source/_SUCCESS",
         "_SUCCESS",
         0
        ],
        [
         "dbfs:/tmp/StreamingDataQuality/source/_committed_6528151237972479421",
         "_committed_6528151237972479421",
         9918
        ],
        [
         "dbfs:/tmp/StreamingDataQuality/source/_started_6528151237972479421",
         "_started_6528151237972479421",
         0
        ],
        [
         "dbfs:/tmp/StreamingDataQuality/source/part-00000-tid-6528151237972479421-7b3266ae-77e1-4333-ba8b-c7d75d1750d2-2-1-c000.snappy.parquet",
         "part-00000-tid-6528151237972479421-7b3266ae-77e1-4333-ba8b-c7d75d1750d2-2-1-c000.snappy.parquet",
         2758
        ],
        [
         "dbfs:/tmp/StreamingDataQuality/source/part-00001-tid-6528151237972479421-7b3266ae-77e1-4333-ba8b-c7d75d1750d2-3-1-c000.snappy.parquet",
         "part-00001-tid-6528151237972479421-7b3266ae-77e1-4333-ba8b-c7d75d1750d2-3-1-c000.snappy.parquet",
         2770
        ],
        [
         "dbfs:/tmp/StreamingDataQuality/source/part-00002-tid-6528151237972479421-7b3266ae-77e1-4333-ba8b-c7d75d1750d2-4-1-c000.snappy.parquet",
         "part-00002-tid-6528151237972479421-7b3266ae-77e1-4333-ba8b-c7d75d1750d2-4-1-c000.snappy.parquet",
         2725
        ],
        [
         "dbfs:/tmp/StreamingDataQuality/source/part-00003-tid-6528151237972479421-7b3266ae-77e1-4333-ba8b-c7d75d1750d2-5-1-c000.snappy.parquet",
         "part-00003-tid-6528151237972479421-7b3266ae-77e1-4333-ba8b-c7d75d1750d2-5-1-c000.snappy.parquet",
         2754
        ],
        [
         "dbfs:/tmp/StreamingDataQuality/source/part-00004-tid-6528151237972479421-7b3266ae-77e1-4333-ba8b-c7d75d1750d2-6-1-c000.snappy.parquet",
         "part-00004-tid-6528151237972479421-7b3266ae-77e1-4333-ba8b-c7d75d1750d2-6-1-c000.snappy.parquet",
         2782
        ],
        [
         "dbfs:/tmp/StreamingDataQuality/source/part-00005-tid-6528151237972479421-7b3266ae-77e1-4333-ba8b-c7d75d1750d2-7-1-c000.snappy.parquet",
         "part-00005-tid-6528151237972479421-7b3266ae-77e1-4333-ba8b-c7d75d1750d2-7-1-c000.snappy.parquet",
         2761
        ],
        [
         "dbfs:/tmp/StreamingDataQuality/source/part-00006-tid-6528151237972479421-7b3266ae-77e1-4333-ba8b-c7d75d1750d2-8-1-c000.snappy.parquet",
         "part-00006-tid-6528151237972479421-7b3266ae-77e1-4333-ba8b-c7d75d1750d2-8-1-c000.snappy.parquet",
         2750
        ],
        [
         "dbfs:/tmp/StreamingDataQuality/source/part-00007-tid-6528151237972479421-7b3266ae-77e1-4333-ba8b-c7d75d1750d2-9-1-c000.snappy.parquet",
         "part-00007-tid-6528151237972479421-7b3266ae-77e1-4333-ba8b-c7d75d1750d2-9-1-c000.snappy.parquet",
         2718
        ],
        [
         "dbfs:/tmp/StreamingDataQuality/source/part-00008-tid-6528151237972479421-7b3266ae-77e1-4333-ba8b-c7d75d1750d2-10-1-c000.snappy.parquet",
         "part-00008-tid-6528151237972479421-7b3266ae-77e1-4333-ba8b-c7d75d1750d2-10-1-c000.snappy.parquet",
         2755
        ],
        [
         "dbfs:/tmp/StreamingDataQuality/source/part-00009-tid-6528151237972479421-7b3266ae-77e1-4333-ba8b-c7d75d1750d2-11-1-c000.snappy.parquet",
         "part-00009-tid-6528151237972479421-7b3266ae-77e1-4333-ba8b-c7d75d1750d2-11-1-c000.snappy.parquet",
         2765
        ],
        [
         "dbfs:/tmp/StreamingDataQuality/source/part-00010-tid-6528151237972479421-7b3266ae-77e1-4333-ba8b-c7d75d1750d2-12-1-c000.snappy.parquet",
         "part-00010-tid-6528151237972479421-7b3266ae-77e1-4333-ba8b-c7d75d1750d2-12-1-c000.snappy.parquet",
         2746
        ],
        [
         "dbfs:/tmp/StreamingDataQuality/source/part-00011-tid-6528151237972479421-7b3266ae-77e1-4333-ba8b-c7d75d1750d2-13-1-c000.snappy.parquet",
         "part-00011-tid-6528151237972479421-7b3266ae-77e1-4333-ba8b-c7d75d1750d2-13-1-c000.snappy.parquet",
         2738
        ],
        [
         "dbfs:/tmp/StreamingDataQuality/source/part-00012-tid-6528151237972479421-7b3266ae-77e1-4333-ba8b-c7d75d1750d2-14-1-c000.snappy.parquet",
         "part-00012-tid-6528151237972479421-7b3266ae-77e1-4333-ba8b-c7d75d1750d2-14-1-c000.snappy.parquet",
         2736
        ],
        [
         "dbfs:/tmp/StreamingDataQuality/source/part-00013-tid-6528151237972479421-7b3266ae-77e1-4333-ba8b-c7d75d1750d2-15-1-c000.snappy.parquet",
         "part-00013-tid-6528151237972479421-7b3266ae-77e1-4333-ba8b-c7d75d1750d2-15-1-c000.snappy.parquet",
         2750
        ],
        [
         "dbfs:/tmp/StreamingDataQuality/source/part-00014-tid-6528151237972479421-7b3266ae-77e1-4333-ba8b-c7d75d1750d2-16-1-c000.snappy.parquet",
         "part-00014-tid-6528151237972479421-7b3266ae-77e1-4333-ba8b-c7d75d1750d2-16-1-c000.snappy.parquet",
         2691
        ],
        [
         "dbfs:/tmp/StreamingDataQuality/source/part-00015-tid-6528151237972479421-7b3266ae-77e1-4333-ba8b-c7d75d1750d2-17-1-c000.snappy.parquet",
         "part-00015-tid-6528151237972479421-7b3266ae-77e1-4333-ba8b-c7d75d1750d2-17-1-c000.snappy.parquet",
         2734
        ],
        [
         "dbfs:/tmp/StreamingDataQuality/source/part-00016-tid-6528151237972479421-7b3266ae-77e1-4333-ba8b-c7d75d1750d2-18-1-c000.snappy.parquet",
         "part-00016-tid-6528151237972479421-7b3266ae-77e1-4333-ba8b-c7d75d1750d2-18-1-c000.snappy.parquet",
         2772
        ],
        [
         "dbfs:/tmp/StreamingDataQuality/source/part-00017-tid-6528151237972479421-7b3266ae-77e1-4333-ba8b-c7d75d1750d2-19-1-c000.snappy.parquet",
         "part-00017-tid-6528151237972479421-7b3266ae-77e1-4333-ba8b-c7d75d1750d2-19-1-c000.snappy.parquet",
         2741
        ],
        [
         "dbfs:/tmp/StreamingDataQuality/source/part-00018-tid-6528151237972479421-7b3266ae-77e1-4333-ba8b-c7d75d1750d2-20-1-c000.snappy.parquet",
         "part-00018-tid-6528151237972479421-7b3266ae-77e1-4333-ba8b-c7d75d1750d2-20-1-c000.snappy.parquet",
         2765
        ],
        [
         "dbfs:/tmp/StreamingDataQuality/source/part-00019-tid-6528151237972479421-7b3266ae-77e1-4333-ba8b-c7d75d1750d2-21-1-c000.snappy.parquet",
         "part-00019-tid-6528151237972479421-7b3266ae-77e1-4333-ba8b-c7d75d1750d2-21-1-c000.snappy.parquet",
         2763
        ],
        [
         "dbfs:/tmp/StreamingDataQuality/source/part-00020-tid-6528151237972479421-7b3266ae-77e1-4333-ba8b-c7d75d1750d2-22-1-c000.snappy.parquet",
         "part-00020-tid-6528151237972479421-7b3266ae-77e1-4333-ba8b-c7d75d1750d2-22-1-c000.snappy.parquet",
         2743
        ],
        [
         "dbfs:/tmp/StreamingDataQuality/source/part-00021-tid-6528151237972479421-7b3266ae-77e1-4333-ba8b-c7d75d1750d2-23-1-c000.snappy.parquet",
         "part-00021-tid-6528151237972479421-7b3266ae-77e1-4333-ba8b-c7d75d1750d2-23-1-c000.snappy.parquet",
         2731
        ],
        [
         "dbfs:/tmp/StreamingDataQuality/source/part-00022-tid-6528151237972479421-7b3266ae-77e1-4333-ba8b-c7d75d1750d2-24-1-c000.snappy.parquet",
         "part-00022-tid-6528151237972479421-7b3266ae-77e1-4333-ba8b-c7d75d1750d2-24-1-c000.snappy.parquet",
         2733
        ],
        [
         "dbfs:/tmp/StreamingDataQuality/source/part-00023-tid-6528151237972479421-7b3266ae-77e1-4333-ba8b-c7d75d1750d2-25-1-c000.snappy.parquet",
         "part-00023-tid-6528151237972479421-7b3266ae-77e1-4333-ba8b-c7d75d1750d2-25-1-c000.snappy.parquet",
         2694
        ],
        [
         "dbfs:/tmp/StreamingDataQuality/source/part-00024-tid-6528151237972479421-7b3266ae-77e1-4333-ba8b-c7d75d1750d2-26-1-c000.snappy.parquet",
         "part-00024-tid-6528151237972479421-7b3266ae-77e1-4333-ba8b-c7d75d1750d2-26-1-c000.snappy.parquet",
         2755
        ],
        [
         "dbfs:/tmp/StreamingDataQuality/source/part-00025-tid-6528151237972479421-7b3266ae-77e1-4333-ba8b-c7d75d1750d2-27-1-c000.snappy.parquet",
         "part-00025-tid-6528151237972479421-7b3266ae-77e1-4333-ba8b-c7d75d1750d2-27-1-c000.snappy.parquet",
         2707
        ],
        [
         "dbfs:/tmp/StreamingDataQuality/source/part-00026-tid-6528151237972479421-7b3266ae-77e1-4333-ba8b-c7d75d1750d2-28-1-c000.snappy.parquet",
         "part-00026-tid-6528151237972479421-7b3266ae-77e1-4333-ba8b-c7d75d1750d2-28-1-c000.snappy.parquet",
         2739
        ],
        [
         "dbfs:/tmp/StreamingDataQuality/source/part-00027-tid-6528151237972479421-7b3266ae-77e1-4333-ba8b-c7d75d1750d2-29-1-c000.snappy.parquet",
         "part-00027-tid-6528151237972479421-7b3266ae-77e1-4333-ba8b-c7d75d1750d2-29-1-c000.snappy.parquet",
         2737
        ],
        [
         "dbfs:/tmp/StreamingDataQuality/source/part-00028-tid-6528151237972479421-7b3266ae-77e1-4333-ba8b-c7d75d1750d2-30-1-c000.snappy.parquet",
         "part-00028-tid-6528151237972479421-7b3266ae-77e1-4333-ba8b-c7d75d1750d2-30-1-c000.snappy.parquet",
         2719
        ],
        [
         "dbfs:/tmp/StreamingDataQuality/source/part-00029-tid-6528151237972479421-7b3266ae-77e1-4333-ba8b-c7d75d1750d2-31-1-c000.snappy.parquet",
         "part-00029-tid-6528151237972479421-7b3266ae-77e1-4333-ba8b-c7d75d1750d2-31-1-c000.snappy.parquet",
         2747
        ],
        [
         "dbfs:/tmp/StreamingDataQuality/source/part-00030-tid-6528151237972479421-7b3266ae-77e1-4333-ba8b-c7d75d1750d2-32-1-c000.snappy.parquet",
         "part-00030-tid-6528151237972479421-7b3266ae-77e1-4333-ba8b-c7d75d1750d2-32-1-c000.snappy.parquet",
         2728
        ],
        [
         "dbfs:/tmp/StreamingDataQuality/source/part-00031-tid-6528151237972479421-7b3266ae-77e1-4333-ba8b-c7d75d1750d2-33-1-c000.snappy.parquet",
         "part-00031-tid-6528151237972479421-7b3266ae-77e1-4333-ba8b-c7d75d1750d2-33-1-c000.snappy.parquet",
         2773
        ],
        [
         "dbfs:/tmp/StreamingDataQuality/source/part-00032-tid-6528151237972479421-7b3266ae-77e1-4333-ba8b-c7d75d1750d2-34-1-c000.snappy.parquet",
         "part-00032-tid-6528151237972479421-7b3266ae-77e1-4333-ba8b-c7d75d1750d2-34-1-c000.snappy.parquet",
         2721
        ],
        [
         "dbfs:/tmp/StreamingDataQuality/source/part-00033-tid-6528151237972479421-7b3266ae-77e1-4333-ba8b-c7d75d1750d2-35-1-c000.snappy.parquet",
         "part-00033-tid-6528151237972479421-7b3266ae-77e1-4333-ba8b-c7d75d1750d2-35-1-c000.snappy.parquet",
         2721
        ],
        [
         "dbfs:/tmp/StreamingDataQuality/source/part-00034-tid-6528151237972479421-7b3266ae-77e1-4333-ba8b-c7d75d1750d2-36-1-c000.snappy.parquet",
         "part-00034-tid-6528151237972479421-7b3266ae-77e1-4333-ba8b-c7d75d1750d2-36-1-c000.snappy.parquet",
         2710
        ],
        [
         "dbfs:/tmp/StreamingDataQuality/source/part-00035-tid-6528151237972479421-7b3266ae-77e1-4333-ba8b-c7d75d1750d2-37-1-c000.snappy.parquet",
         "part-00035-tid-6528151237972479421-7b3266ae-77e1-4333-ba8b-c7d75d1750d2-37-1-c000.snappy.parquet",
         2763
        ],
        [
         "dbfs:/tmp/StreamingDataQuality/source/part-00036-tid-6528151237972479421-7b3266ae-77e1-4333-ba8b-c7d75d1750d2-38-1-c000.snappy.parquet",
         "part-00036-tid-6528151237972479421-7b3266ae-77e1-4333-ba8b-c7d75d1750d2-38-1-c000.snappy.parquet",
         2758
        ],
        [
         "dbfs:/tmp/StreamingDataQuality/source/part-00037-tid-6528151237972479421-7b3266ae-77e1-4333-ba8b-c7d75d1750d2-39-1-c000.snappy.parquet",
         "part-00037-tid-6528151237972479421-7b3266ae-77e1-4333-ba8b-c7d75d1750d2-39-1-c000.snappy.parquet",
         2696
        ],
        [
         "dbfs:/tmp/StreamingDataQuality/source/part-00038-tid-6528151237972479421-7b3266ae-77e1-4333-ba8b-c7d75d1750d2-40-1-c000.snappy.parquet",
         "part-00038-tid-6528151237972479421-7b3266ae-77e1-4333-ba8b-c7d75d1750d2-40-1-c000.snappy.parquet",
         2767
        ],
        [
         "dbfs:/tmp/StreamingDataQuality/source/part-00039-tid-6528151237972479421-7b3266ae-77e1-4333-ba8b-c7d75d1750d2-41-1-c000.snappy.parquet",
         "part-00039-tid-6528151237972479421-7b3266ae-77e1-4333-ba8b-c7d75d1750d2-41-1-c000.snappy.parquet",
         2743
        ],
        [
         "dbfs:/tmp/StreamingDataQuality/source/part-00040-tid-6528151237972479421-7b3266ae-77e1-4333-ba8b-c7d75d1750d2-42-1-c000.snappy.parquet",
         "part-00040-tid-6528151237972479421-7b3266ae-77e1-4333-ba8b-c7d75d1750d2-42-1-c000.snappy.parquet",
         2719
        ],
        [
         "dbfs:/tmp/StreamingDataQuality/source/part-00041-tid-6528151237972479421-7b3266ae-77e1-4333-ba8b-c7d75d1750d2-43-1-c000.snappy.parquet",
         "part-00041-tid-6528151237972479421-7b3266ae-77e1-4333-ba8b-c7d75d1750d2-43-1-c000.snappy.parquet",
         2769
        ],
        [
         "dbfs:/tmp/StreamingDataQuality/source/part-00042-tid-6528151237972479421-7b3266ae-77e1-4333-ba8b-c7d75d1750d2-44-1-c000.snappy.parquet",
         "part-00042-tid-6528151237972479421-7b3266ae-77e1-4333-ba8b-c7d75d1750d2-44-1-c000.snappy.parquet",
         2748
        ],
        [
         "dbfs:/tmp/StreamingDataQuality/source/part-00043-tid-6528151237972479421-7b3266ae-77e1-4333-ba8b-c7d75d1750d2-45-1-c000.snappy.parquet",
         "part-00043-tid-6528151237972479421-7b3266ae-77e1-4333-ba8b-c7d75d1750d2-45-1-c000.snappy.parquet",
         2728
        ],
        [
         "dbfs:/tmp/StreamingDataQuality/source/part-00044-tid-6528151237972479421-7b3266ae-77e1-4333-ba8b-c7d75d1750d2-46-1-c000.snappy.parquet",
         "part-00044-tid-6528151237972479421-7b3266ae-77e1-4333-ba8b-c7d75d1750d2-46-1-c000.snappy.parquet",
         2776
        ],
        [
         "dbfs:/tmp/StreamingDataQuality/source/part-00045-tid-6528151237972479421-7b3266ae-77e1-4333-ba8b-c7d75d1750d2-47-1-c000.snappy.parquet",
         "part-00045-tid-6528151237972479421-7b3266ae-77e1-4333-ba8b-c7d75d1750d2-47-1-c000.snappy.parquet",
         2750
        ],
        [
         "dbfs:/tmp/StreamingDataQuality/source/part-00046-tid-6528151237972479421-7b3266ae-77e1-4333-ba8b-c7d75d1750d2-48-1-c000.snappy.parquet",
         "part-00046-tid-6528151237972479421-7b3266ae-77e1-4333-ba8b-c7d75d1750d2-48-1-c000.snappy.parquet",
         2728
        ],
        [
         "dbfs:/tmp/StreamingDataQuality/source/part-00047-tid-6528151237972479421-7b3266ae-77e1-4333-ba8b-c7d75d1750d2-49-1-c000.snappy.parquet",
         "part-00047-tid-6528151237972479421-7b3266ae-77e1-4333-ba8b-c7d75d1750d2-49-1-c000.snappy.parquet",
         2728
        ],
        [
         "dbfs:/tmp/StreamingDataQuality/source/part-00048-tid-6528151237972479421-7b3266ae-77e1-4333-ba8b-c7d75d1750d2-50-1-c000.snappy.parquet",
         "part-00048-tid-6528151237972479421-7b3266ae-77e1-4333-ba8b-c7d75d1750d2-50-1-c000.snappy.parquet",
         2727
        ],
        [
         "dbfs:/tmp/StreamingDataQuality/source/part-00049-tid-6528151237972479421-7b3266ae-77e1-4333-ba8b-c7d75d1750d2-51-1-c000.snappy.parquet",
         "part-00049-tid-6528151237972479421-7b3266ae-77e1-4333-ba8b-c7d75d1750d2-51-1-c000.snappy.parquet",
         2713
        ],
        [
         "dbfs:/tmp/StreamingDataQuality/source/part-00050-tid-6528151237972479421-7b3266ae-77e1-4333-ba8b-c7d75d1750d2-52-1-c000.snappy.parquet",
         "part-00050-tid-6528151237972479421-7b3266ae-77e1-4333-ba8b-c7d75d1750d2-52-1-c000.snappy.parquet",
         2734
        ],
        [
         "dbfs:/tmp/StreamingDataQuality/source/part-00051-tid-6528151237972479421-7b3266ae-77e1-4333-ba8b-c7d75d1750d2-53-1-c000.snappy.parquet",
         "part-00051-tid-6528151237972479421-7b3266ae-77e1-4333-ba8b-c7d75d1750d2-53-1-c000.snappy.parquet",
         2752
        ],
        [
         "dbfs:/tmp/StreamingDataQuality/source/part-00052-tid-6528151237972479421-7b3266ae-77e1-4333-ba8b-c7d75d1750d2-54-1-c000.snappy.parquet",
         "part-00052-tid-6528151237972479421-7b3266ae-77e1-4333-ba8b-c7d75d1750d2-54-1-c000.snappy.parquet",
         2745
        ],
        [
         "dbfs:/tmp/StreamingDataQuality/source/part-00053-tid-6528151237972479421-7b3266ae-77e1-4333-ba8b-c7d75d1750d2-55-1-c000.snappy.parquet",
         "part-00053-tid-6528151237972479421-7b3266ae-77e1-4333-ba8b-c7d75d1750d2-55-1-c000.snappy.parquet",
         2712
        ],
        [
         "dbfs:/tmp/StreamingDataQuality/source/part-00054-tid-6528151237972479421-7b3266ae-77e1-4333-ba8b-c7d75d1750d2-56-1-c000.snappy.parquet",
         "part-00054-tid-6528151237972479421-7b3266ae-77e1-4333-ba8b-c7d75d1750d2-56-1-c000.snappy.parquet",
         2717
        ],
        [
         "dbfs:/tmp/StreamingDataQuality/source/part-00055-tid-6528151237972479421-7b3266ae-77e1-4333-ba8b-c7d75d1750d2-57-1-c000.snappy.parquet",
         "part-00055-tid-6528151237972479421-7b3266ae-77e1-4333-ba8b-c7d75d1750d2-57-1-c000.snappy.parquet",
         2726
        ],
        [
         "dbfs:/tmp/StreamingDataQuality/source/part-00056-tid-6528151237972479421-7b3266ae-77e1-4333-ba8b-c7d75d1750d2-58-1-c000.snappy.parquet",
         "part-00056-tid-6528151237972479421-7b3266ae-77e1-4333-ba8b-c7d75d1750d2-58-1-c000.snappy.parquet",
         2767
        ],
        [
         "dbfs:/tmp/StreamingDataQuality/source/part-00057-tid-6528151237972479421-7b3266ae-77e1-4333-ba8b-c7d75d1750d2-59-1-c000.snappy.parquet",
         "part-00057-tid-6528151237972479421-7b3266ae-77e1-4333-ba8b-c7d75d1750d2-59-1-c000.snappy.parquet",
         2754
        ],
        [
         "dbfs:/tmp/StreamingDataQuality/source/part-00058-tid-6528151237972479421-7b3266ae-77e1-4333-ba8b-c7d75d1750d2-60-1-c000.snappy.parquet",
         "part-00058-tid-6528151237972479421-7b3266ae-77e1-4333-ba8b-c7d75d1750d2-60-1-c000.snappy.parquet",
         2757
        ],
        [
         "dbfs:/tmp/StreamingDataQuality/source/part-00059-tid-6528151237972479421-7b3266ae-77e1-4333-ba8b-c7d75d1750d2-61-1-c000.snappy.parquet",
         "part-00059-tid-6528151237972479421-7b3266ae-77e1-4333-ba8b-c7d75d1750d2-61-1-c000.snappy.parquet",
         2766
        ],
        [
         "dbfs:/tmp/StreamingDataQuality/source/part-00060-tid-6528151237972479421-7b3266ae-77e1-4333-ba8b-c7d75d1750d2-62-1-c000.snappy.parquet",
         "part-00060-tid-6528151237972479421-7b3266ae-77e1-4333-ba8b-c7d75d1750d2-62-1-c000.snappy.parquet",
         2735
        ],
        [
         "dbfs:/tmp/StreamingDataQuality/source/part-00061-tid-6528151237972479421-7b3266ae-77e1-4333-ba8b-c7d75d1750d2-63-1-c000.snappy.parquet",
         "part-00061-tid-6528151237972479421-7b3266ae-77e1-4333-ba8b-c7d75d1750d2-63-1-c000.snappy.parquet",
         2743
        ],
        [
         "dbfs:/tmp/StreamingDataQuality/source/part-00062-tid-6528151237972479421-7b3266ae-77e1-4333-ba8b-c7d75d1750d2-64-1-c000.snappy.parquet",
         "part-00062-tid-6528151237972479421-7b3266ae-77e1-4333-ba8b-c7d75d1750d2-64-1-c000.snappy.parquet",
         2755
        ],
        [
         "dbfs:/tmp/StreamingDataQuality/source/part-00063-tid-6528151237972479421-7b3266ae-77e1-4333-ba8b-c7d75d1750d2-65-1-c000.snappy.parquet",
         "part-00063-tid-6528151237972479421-7b3266ae-77e1-4333-ba8b-c7d75d1750d2-65-1-c000.snappy.parquet",
         2679
        ],
        [
         "dbfs:/tmp/StreamingDataQuality/source/part-00064-tid-6528151237972479421-7b3266ae-77e1-4333-ba8b-c7d75d1750d2-66-1-c000.snappy.parquet",
         "part-00064-tid-6528151237972479421-7b3266ae-77e1-4333-ba8b-c7d75d1750d2-66-1-c000.snappy.parquet",
         2725
        ],
        [
         "dbfs:/tmp/StreamingDataQuality/source/part-00065-tid-6528151237972479421-7b3266ae-77e1-4333-ba8b-c7d75d1750d2-67-1-c000.snappy.parquet",
         "part-00065-tid-6528151237972479421-7b3266ae-77e1-4333-ba8b-c7d75d1750d2-67-1-c000.snappy.parquet",
         2721
        ],
        [
         "dbfs:/tmp/StreamingDataQuality/source/part-00066-tid-6528151237972479421-7b3266ae-77e1-4333-ba8b-c7d75d1750d2-68-1-c000.snappy.parquet",
         "part-00066-tid-6528151237972479421-7b3266ae-77e1-4333-ba8b-c7d75d1750d2-68-1-c000.snappy.parquet",
         2745
        ],
        [
         "dbfs:/tmp/StreamingDataQuality/source/part-00067-tid-6528151237972479421-7b3266ae-77e1-4333-ba8b-c7d75d1750d2-69-1-c000.snappy.parquet",
         "part-00067-tid-6528151237972479421-7b3266ae-77e1-4333-ba8b-c7d75d1750d2-69-1-c000.snappy.parquet",
         2764
        ],
        [
         "dbfs:/tmp/StreamingDataQuality/source/part-00068-tid-6528151237972479421-7b3266ae-77e1-4333-ba8b-c7d75d1750d2-70-1-c000.snappy.parquet",
         "part-00068-tid-6528151237972479421-7b3266ae-77e1-4333-ba8b-c7d75d1750d2-70-1-c000.snappy.parquet",
         2765
        ],
        [
         "dbfs:/tmp/StreamingDataQuality/source/part-00069-tid-6528151237972479421-7b3266ae-77e1-4333-ba8b-c7d75d1750d2-71-1-c000.snappy.parquet",
         "part-00069-tid-6528151237972479421-7b3266ae-77e1-4333-ba8b-c7d75d1750d2-71-1-c000.snappy.parquet",
         2750
        ],
        [
         "dbfs:/tmp/StreamingDataQuality/source/part-00070-tid-6528151237972479421-7b3266ae-77e1-4333-ba8b-c7d75d1750d2-72-1-c000.snappy.parquet",
         "part-00070-tid-6528151237972479421-7b3266ae-77e1-4333-ba8b-c7d75d1750d2-72-1-c000.snappy.parquet",
         2744
        ],
        [
         "dbfs:/tmp/StreamingDataQuality/source/part-00071-tid-6528151237972479421-7b3266ae-77e1-4333-ba8b-c7d75d1750d2-73-1-c000.snappy.parquet",
         "part-00071-tid-6528151237972479421-7b3266ae-77e1-4333-ba8b-c7d75d1750d2-73-1-c000.snappy.parquet",
         2711
        ],
        [
         "dbfs:/tmp/StreamingDataQuality/source/part-00072-tid-6528151237972479421-7b3266ae-77e1-4333-ba8b-c7d75d1750d2-74-1-c000.snappy.parquet",
         "part-00072-tid-6528151237972479421-7b3266ae-77e1-4333-ba8b-c7d75d1750d2-74-1-c000.snappy.parquet",
         2725
        ],
        [
         "dbfs:/tmp/StreamingDataQuality/source/part-00073-tid-6528151237972479421-7b3266ae-77e1-4333-ba8b-c7d75d1750d2-75-1-c000.snappy.parquet",
         "part-00073-tid-6528151237972479421-7b3266ae-77e1-4333-ba8b-c7d75d1750d2-75-1-c000.snappy.parquet",
         2749
        ],
        [
         "dbfs:/tmp/StreamingDataQuality/source/part-00074-tid-6528151237972479421-7b3266ae-77e1-4333-ba8b-c7d75d1750d2-76-1-c000.snappy.parquet",
         "part-00074-tid-6528151237972479421-7b3266ae-77e1-4333-ba8b-c7d75d1750d2-76-1-c000.snappy.parquet",
         2719
        ],
        [
         "dbfs:/tmp/StreamingDataQuality/source/part-00075-tid-6528151237972479421-7b3266ae-77e1-4333-ba8b-c7d75d1750d2-77-1-c000.snappy.parquet",
         "part-00075-tid-6528151237972479421-7b3266ae-77e1-4333-ba8b-c7d75d1750d2-77-1-c000.snappy.parquet",
         2797
        ],
        [
         "dbfs:/tmp/StreamingDataQuality/source/part-00076-tid-6528151237972479421-7b3266ae-77e1-4333-ba8b-c7d75d1750d2-78-1-c000.snappy.parquet",
         "part-00076-tid-6528151237972479421-7b3266ae-77e1-4333-ba8b-c7d75d1750d2-78-1-c000.snappy.parquet",
         2707
        ],
        [
         "dbfs:/tmp/StreamingDataQuality/source/part-00077-tid-6528151237972479421-7b3266ae-77e1-4333-ba8b-c7d75d1750d2-79-1-c000.snappy.parquet",
         "part-00077-tid-6528151237972479421-7b3266ae-77e1-4333-ba8b-c7d75d1750d2-79-1-c000.snappy.parquet",
         2776
        ],
        [
         "dbfs:/tmp/StreamingDataQuality/source/part-00078-tid-6528151237972479421-7b3266ae-77e1-4333-ba8b-c7d75d1750d2-80-1-c000.snappy.parquet",
         "part-00078-tid-6528151237972479421-7b3266ae-77e1-4333-ba8b-c7d75d1750d2-80-1-c000.snappy.parquet",
         2762
        ],
        [
         "dbfs:/tmp/StreamingDataQuality/source/part-00079-tid-6528151237972479421-7b3266ae-77e1-4333-ba8b-c7d75d1750d2-81-1-c000.snappy.parquet",
         "part-00079-tid-6528151237972479421-7b3266ae-77e1-4333-ba8b-c7d75d1750d2-81-1-c000.snappy.parquet",
         2744
        ],
        [
         "dbfs:/tmp/StreamingDataQuality/source/part-00080-tid-6528151237972479421-7b3266ae-77e1-4333-ba8b-c7d75d1750d2-82-1-c000.snappy.parquet",
         "part-00080-tid-6528151237972479421-7b3266ae-77e1-4333-ba8b-c7d75d1750d2-82-1-c000.snappy.parquet",
         2729
        ],
        [
         "dbfs:/tmp/StreamingDataQuality/source/part-00081-tid-6528151237972479421-7b3266ae-77e1-4333-ba8b-c7d75d1750d2-83-1-c000.snappy.parquet",
         "part-00081-tid-6528151237972479421-7b3266ae-77e1-4333-ba8b-c7d75d1750d2-83-1-c000.snappy.parquet",
         2766
        ],
        [
         "dbfs:/tmp/StreamingDataQuality/source/part-00082-tid-6528151237972479421-7b3266ae-77e1-4333-ba8b-c7d75d1750d2-84-1-c000.snappy.parquet",
         "part-00082-tid-6528151237972479421-7b3266ae-77e1-4333-ba8b-c7d75d1750d2-84-1-c000.snappy.parquet",
         2733
        ],
        [
         "dbfs:/tmp/StreamingDataQuality/source/part-00083-tid-6528151237972479421-7b3266ae-77e1-4333-ba8b-c7d75d1750d2-85-1-c000.snappy.parquet",
         "part-00083-tid-6528151237972479421-7b3266ae-77e1-4333-ba8b-c7d75d1750d2-85-1-c000.snappy.parquet",
         2728
        ],
        [
         "dbfs:/tmp/StreamingDataQuality/source/part-00084-tid-6528151237972479421-7b3266ae-77e1-4333-ba8b-c7d75d1750d2-86-1-c000.snappy.parquet",
         "part-00084-tid-6528151237972479421-7b3266ae-77e1-4333-ba8b-c7d75d1750d2-86-1-c000.snappy.parquet",
         2737
        ],
        [
         "dbfs:/tmp/StreamingDataQuality/source/part-00085-tid-6528151237972479421-7b3266ae-77e1-4333-ba8b-c7d75d1750d2-87-1-c000.snappy.parquet",
         "part-00085-tid-6528151237972479421-7b3266ae-77e1-4333-ba8b-c7d75d1750d2-87-1-c000.snappy.parquet",
         2763
        ],
        [
         "dbfs:/tmp/StreamingDataQuality/source/part-00086-tid-6528151237972479421-7b3266ae-77e1-4333-ba8b-c7d75d1750d2-88-1-c000.snappy.parquet",
         "part-00086-tid-6528151237972479421-7b3266ae-77e1-4333-ba8b-c7d75d1750d2-88-1-c000.snappy.parquet",
         2729
        ],
        [
         "dbfs:/tmp/StreamingDataQuality/source/part-00087-tid-6528151237972479421-7b3266ae-77e1-4333-ba8b-c7d75d1750d2-89-1-c000.snappy.parquet",
         "part-00087-tid-6528151237972479421-7b3266ae-77e1-4333-ba8b-c7d75d1750d2-89-1-c000.snappy.parquet",
         2767
        ],
        [
         "dbfs:/tmp/StreamingDataQuality/source/part-00088-tid-6528151237972479421-7b3266ae-77e1-4333-ba8b-c7d75d1750d2-90-1-c000.snappy.parquet",
         "part-00088-tid-6528151237972479421-7b3266ae-77e1-4333-ba8b-c7d75d1750d2-90-1-c000.snappy.parquet",
         2736
        ],
        [
         "dbfs:/tmp/StreamingDataQuality/source/part-00089-tid-6528151237972479421-7b3266ae-77e1-4333-ba8b-c7d75d1750d2-91-1-c000.snappy.parquet",
         "part-00089-tid-6528151237972479421-7b3266ae-77e1-4333-ba8b-c7d75d1750d2-91-1-c000.snappy.parquet",
         2709
        ],
        [
         "dbfs:/tmp/StreamingDataQuality/source/part-00090-tid-6528151237972479421-7b3266ae-77e1-4333-ba8b-c7d75d1750d2-92-1-c000.snappy.parquet",
         "part-00090-tid-6528151237972479421-7b3266ae-77e1-4333-ba8b-c7d75d1750d2-92-1-c000.snappy.parquet",
         2717
        ],
        [
         "dbfs:/tmp/StreamingDataQuality/source/part-00091-tid-6528151237972479421-7b3266ae-77e1-4333-ba8b-c7d75d1750d2-93-1-c000.snappy.parquet",
         "part-00091-tid-6528151237972479421-7b3266ae-77e1-4333-ba8b-c7d75d1750d2-93-1-c000.snappy.parquet",
         2755
        ],
        [
         "dbfs:/tmp/StreamingDataQuality/source/part-00092-tid-6528151237972479421-7b3266ae-77e1-4333-ba8b-c7d75d1750d2-94-1-c000.snappy.parquet",
         "part-00092-tid-6528151237972479421-7b3266ae-77e1-4333-ba8b-c7d75d1750d2-94-1-c000.snappy.parquet",
         2722
        ],
        [
         "dbfs:/tmp/StreamingDataQuality/source/part-00093-tid-6528151237972479421-7b3266ae-77e1-4333-ba8b-c7d75d1750d2-95-1-c000.snappy.parquet",
         "part-00093-tid-6528151237972479421-7b3266ae-77e1-4333-ba8b-c7d75d1750d2-95-1-c000.snappy.parquet",
         2734
        ],
        [
         "dbfs:/tmp/StreamingDataQuality/source/part-00094-tid-6528151237972479421-7b3266ae-77e1-4333-ba8b-c7d75d1750d2-96-1-c000.snappy.parquet",
         "part-00094-tid-6528151237972479421-7b3266ae-77e1-4333-ba8b-c7d75d1750d2-96-1-c000.snappy.parquet",
         2725
        ],
        [
         "dbfs:/tmp/StreamingDataQuality/source/part-00095-tid-6528151237972479421-7b3266ae-77e1-4333-ba8b-c7d75d1750d2-97-1-c000.snappy.parquet",
         "part-00095-tid-6528151237972479421-7b3266ae-77e1-4333-ba8b-c7d75d1750d2-97-1-c000.snappy.parquet",
         2772
        ],
        [
         "dbfs:/tmp/StreamingDataQuality/source/part-00096-tid-6528151237972479421-7b3266ae-77e1-4333-ba8b-c7d75d1750d2-98-1-c000.snappy.parquet",
         "part-00096-tid-6528151237972479421-7b3266ae-77e1-4333-ba8b-c7d75d1750d2-98-1-c000.snappy.parquet",
         2769
        ],
        [
         "dbfs:/tmp/StreamingDataQuality/source/part-00097-tid-6528151237972479421-7b3266ae-77e1-4333-ba8b-c7d75d1750d2-99-1-c000.snappy.parquet",
         "part-00097-tid-6528151237972479421-7b3266ae-77e1-4333-ba8b-c7d75d1750d2-99-1-c000.snappy.parquet",
         2754
        ],
        [
         "dbfs:/tmp/StreamingDataQuality/source/part-00098-tid-6528151237972479421-7b3266ae-77e1-4333-ba8b-c7d75d1750d2-100-1-c000.snappy.parquet",
         "part-00098-tid-6528151237972479421-7b3266ae-77e1-4333-ba8b-c7d75d1750d2-100-1-c000.snappy.parquet",
         2775
        ],
        [
         "dbfs:/tmp/StreamingDataQuality/source/part-00099-tid-6528151237972479421-7b3266ae-77e1-4333-ba8b-c7d75d1750d2-101-1-c000.snappy.parquet",
         "part-00099-tid-6528151237972479421-7b3266ae-77e1-4333-ba8b-c7d75d1750d2-101-1-c000.snappy.parquet",
         2742
        ]
       ],
       "datasetInfos": [],
       "dbfsResultPath": null,
       "isJsonSchema": true,
       "metadata": {},
       "overflow": false,
       "plotOptions": {
        "customPlotOptions": {},
        "displayType": "table",
        "pivotAggregation": null,
        "pivotColumns": null,
        "xColumns": null,
        "yColumns": null
       },
       "removedWidgets": [],
       "schema": [
        {
         "metadata": "{}",
         "name": "path",
         "type": "\"string\""
        },
        {
         "metadata": "{}",
         "name": "name",
         "type": "\"string\""
        },
        {
         "metadata": "{}",
         "name": "size",
         "type": "\"long\""
        }
       ],
       "type": "table"
      }
     },
     "output_type": "display_data"
    }
   ],
   "source": [
    "%fs ls /tmp/StreamingDataQuality/source/"
   ]
  },
  {
   "cell_type": "code",
   "execution_count": null,
   "metadata": {
    "application/vnd.databricks.v1+cell": {
     "cellMetadata": {
      "byteLimit": 2048000,
      "rowLimit": 10000
     },
     "inputWidgets": {},
     "nuid": "e8897468-4a63-44a6-90cb-d4fa2f690aeb",
     "showTitle": false,
     "title": ""
    }
   },
   "outputs": [
    {
     "data": {
      "text/html": [
       "<style scoped>\n",
       "  .ansiout {\n",
       "    display: block;\n",
       "    unicode-bidi: embed;\n",
       "    white-space: pre-wrap;\n",
       "    word-wrap: break-word;\n",
       "    word-break: break-all;\n",
       "    font-family: \"Menlo\", \"Monaco\", \"Consolas\", \"Ubuntu Mono\", \"Source Code Pro\", monospace;\n",
       "    font-size: 13px;\n",
       "    color: #555;\n",
       "    margin-left: 4px;\n",
       "    line-height: 19px;\n",
       "  }\n",
       "</style>\n",
       "<div class=\"ansiout\"></div>"
      ]
     },
     "metadata": {
      "application/vnd.databricks.v1+output": {
       "addedWidgets": {},
       "arguments": {},
       "data": "<div class=\"ansiout\"></div>",
       "datasetInfos": [],
       "metadata": {},
       "removedWidgets": [],
       "type": "html"
      }
     },
     "output_type": "display_data"
    }
   ],
   "source": [
    "%sh\n",
    "# clear the delta checkpoint\n",
    "rm -rf /dbfs/tmp/StreamingDataQuality/checkpoint\n"
   ]
  },
  {
   "cell_type": "code",
   "execution_count": null,
   "metadata": {
    "application/vnd.databricks.v1+cell": {
     "cellMetadata": {
      "byteLimit": 2048000,
      "rowLimit": 10000
     },
     "inputWidgets": {},
     "nuid": "fc8075c2-edaa-425b-8232-9930e7aa1607",
     "showTitle": false,
     "title": ""
    }
   },
   "outputs": [
    {
     "data": {
      "text/html": [
       "<style scoped>\n",
       "  .ansiout {\n",
       "    display: block;\n",
       "    unicode-bidi: embed;\n",
       "    white-space: pre-wrap;\n",
       "    word-wrap: break-word;\n",
       "    word-break: break-all;\n",
       "    font-family: \"Menlo\", \"Monaco\", \"Consolas\", \"Ubuntu Mono\", \"Source Code Pro\", monospace;\n",
       "    font-size: 13px;\n",
       "    color: #555;\n",
       "    margin-left: 4px;\n",
       "    line-height: 19px;\n",
       "  }\n",
       "</style>\n",
       "<div class=\"ansiout\"></div>"
      ]
     },
     "metadata": {
      "application/vnd.databricks.v1+output": {
       "addedWidgets": {},
       "arguments": {},
       "data": "<div class=\"ansiout\"></div>",
       "datasetInfos": [],
       "metadata": {},
       "removedWidgets": [],
       "type": "html"
      }
     },
     "output_type": "display_data"
    }
   ],
   "source": [
    "from pyspark.sql import SparkSession\n",
    "from pyspark.sql.types import StructType, StructField, StringType, DoubleType\n",
    "\n",
    "\n",
    "inputPath = \"/tmp/StreamingDataQuality/source/\"\n",
    "\n",
    "# Define the schema to speed up processing\n",
    "jsonSchema = StructType([\n",
    "    StructField('buysell', StringType(), True),\n",
    "    StructField('date', StringType(), True),\n",
    "    StructField('ipaddr', StringType(), True),\n",
    "    StructField('ordertype', StringType(), True),\n",
    "    StructField('price', DoubleType(), True),\n",
    "    StructField('quantity', DoubleType(), True),\n",
    "    StructField('symbol', StringType(), True),\n",
    "    StructField('time', StringType(), True)\n",
    "])\n",
    "\n",
    "streamingInputDF = (\n",
    "  spark\n",
    "    .readStream\n",
    "    .schema(jsonSchema)               # Set the schema of the JSON data\n",
    "    .option(\"maxFilesPerTrigger\", 1)  # Treat a sequence of files as a stream by picking one file at a time\n",
    "    .parquet(inputPath)\n",
    ")\n",
    "\n",
    "streamingCountsDF = (\n",
    "  streamingInputDF\n",
    "    .groupBy(streamingInputDF.date)\n",
    "    .count()\n",
    ")\n",
    "\n",
    "query = (\n",
    "  streamingCountsDF\n",
    "    .writeStream\n",
    "    .format(\"memory\")        # memory = store in-memory table (for testing only)\n",
    "    .queryName(\"counts\")     # counts = name of the in-memory table\n",
    "    .outputMode(\"complete\")  # complete = all the counts should be in the table\n",
    "    .start()\n",
    ")"
   ]
  },
  {
   "cell_type": "code",
   "execution_count": null,
   "metadata": {
    "application/vnd.databricks.v1+cell": {
     "cellMetadata": {
      "byteLimit": 2048000,
      "rowLimit": 10000
     },
     "inputWidgets": {},
     "nuid": "90f76b18-7265-4de8-bb03-23f60af8e855",
     "showTitle": false,
     "title": ""
    }
   },
   "outputs": [
    {
     "data": {
      "text/html": [
       "<style scoped>\n",
       "  .ansiout {\n",
       "    display: block;\n",
       "    unicode-bidi: embed;\n",
       "    white-space: pre-wrap;\n",
       "    word-wrap: break-word;\n",
       "    word-break: break-all;\n",
       "    font-family: \"Menlo\", \"Monaco\", \"Consolas\", \"Ubuntu Mono\", \"Source Code Pro\", monospace;\n",
       "    font-size: 13px;\n",
       "    color: #555;\n",
       "    margin-left: 4px;\n",
       "    line-height: 19px;\n",
       "  }\n",
       "</style>\n",
       "<div class=\"ansiout\">Python interpreter will be restarted.\n",
       "Collecting git+https://github.com/tdoehmen/duckdq\n",
       "  Cloning https://github.com/tdoehmen/duckdq to /tmp/pip-req-build-p9uhw5_i\n",
       "  Running command git clone -q https://github.com/tdoehmen/duckdq /tmp/pip-req-build-p9uhw5_i\n",
       "Collecting duckdb&gt;=0.2.3\n",
       "  Downloading duckdb-0.10.1-cp38-cp38-manylinux_2_17_x86_64.manylinux2014_x86_64.whl (18.1 MB)\n",
       "Collecting SQLAlchemy\n",
       "  Downloading SQLAlchemy-2.0.29-cp38-cp38-manylinux_2_17_x86_64.manylinux2014_x86_64.whl (3.1 MB)\n",
       "Requirement already satisfied: pandas in /databricks/python3/lib/python3.8/site-packages (from duckdq==0.0.post0.dev9+g5032943) (1.2.4)\n",
       "Collecting whylabs-datasketches\n",
       "  Downloading whylabs_datasketches-2.2.0b1-cp38-cp38-manylinux2010_x86_64.whl (405 kB)\n",
       "Requirement already satisfied: dill in /databricks/python3/lib/python3.8/site-packages (from duckdq==0.0.post0.dev9+g5032943) (0.3.2)\n",
       "Collecting tryingsnake\n",
       "  Downloading tryingsnake-0.5.1.tar.gz (13 kB)\n",
       "Requirement already satisfied: pytz&gt;=2017.3 in /databricks/python3/lib/python3.8/site-packages (from pandas-&gt;duckdq==0.0.post0.dev9+g5032943) (2020.5)\n",
       "Requirement already satisfied: numpy&gt;=1.16.5 in /databricks/python3/lib/python3.8/site-packages (from pandas-&gt;duckdq==0.0.post0.dev9+g5032943) (1.19.2)\n",
       "Requirement already satisfied: python-dateutil&gt;=2.7.3 in /databricks/python3/lib/python3.8/site-packages (from pandas-&gt;duckdq==0.0.post0.dev9+g5032943) (2.8.1)\n",
       "Requirement already satisfied: six&gt;=1.5 in /databricks/python3/lib/python3.8/site-packages (from python-dateutil&gt;=2.7.3-&gt;pandas-&gt;duckdq==0.0.post0.dev9+g5032943) (1.15.0)\n",
       "Collecting typing-extensions&gt;=4.6.0\n",
       "  Downloading typing_extensions-4.11.0-py3-none-any.whl (34 kB)\n",
       "Collecting greenlet!=0.4.17\n",
       "  Downloading greenlet-3.0.3-cp38-cp38-manylinux_2_24_x86_64.manylinux_2_28_x86_64.whl (622 kB)\n",
       "Building wheels for collected packages: duckdq, tryingsnake\n",
       "  Building wheel for duckdq (setup.py): started\n",
       "  Building wheel for duckdq (setup.py): finished with status &#39;done&#39;\n",
       "  Created wheel for duckdq: filename=duckdq-0.0.post0.dev9+g5032943-py2.py3-none-any.whl size=43626 sha256=3c0c9607440c5322b31ca0de5d63988a02945fb8f200d17030c6cd7e798af6d0\n",
       "  Stored in directory: /tmp/pip-ephem-wheel-cache-jtdfadcq/wheels/88/a5/74/5b722e499bbd67855336523f1b88d3078e69eeb50f563fbfce\n",
       "  Building wheel for tryingsnake (setup.py): started\n",
       "  Building wheel for tryingsnake (setup.py): finished with status &#39;done&#39;\n",
       "  Created wheel for tryingsnake: filename=tryingsnake-0.5.1-py3-none-any.whl size=11427 sha256=c07f209213f60256d90c98d250c1d31fe466ee2466e3d4caa982090731999e2e\n",
       "  Stored in directory: /root/.cache/pip/wheels/0a/e8/c5/7eda97b4220dd6b8cc007d52a6f41aae0e64b1d9a5572dfa28\n",
       "Successfully built duckdq tryingsnake\n",
       "Installing collected packages: typing-extensions, greenlet, whylabs-datasketches, tryingsnake, SQLAlchemy, duckdb, duckdq\n",
       "  Attempting uninstall: typing-extensions\n",
       "    Found existing installation: typing-extensions 3.7.4.3\n",
       "    Not uninstalling typing-extensions at /databricks/python3/lib/python3.8/site-packages, outside environment /local_disk0/.ephemeral_nfs/envs/pythonEnv-61c7c747-7b4f-41f6-8c21-884b6eabc39d\n",
       "    Can&#39;t uninstall &#39;typing-extensions&#39;. No files were found to uninstall.\n",
       "ERROR: pip&#39;s dependency resolver does not currently take into account all the packages that are installed. This behaviour is the source of the following dependency conflicts.\n",
       "tensorflow-cpu 2.6.0 requires typing-extensions~=3.7.4, but you have typing-extensions 4.11.0 which is incompatible.\n",
       "Successfully installed SQLAlchemy-2.0.29 duckdb-0.10.1 duckdq-0.0.post0.dev9+g5032943 greenlet-3.0.3 tryingsnake-0.5.1 typing-extensions-4.11.0 whylabs-datasketches-2.2.0b1\n",
       "WARNING: You are using pip version 21.0.1; however, version 24.0 is available.\n",
       "You should consider upgrading via the &#39;/local_disk0/.ephemeral_nfs/envs/pythonEnv-61c7c747-7b4f-41f6-8c21-884b6eabc39d/bin/python -m pip install --upgrade pip&#39; command.\n",
       "Python interpreter will be restarted.\n",
       "</div>"
      ]
     },
     "metadata": {
      "application/vnd.databricks.v1+output": {
       "addedWidgets": {},
       "arguments": {},
       "data": "<div class=\"ansiout\">Python interpreter will be restarted.\nCollecting git+https://github.com/tdoehmen/duckdq\n  Cloning https://github.com/tdoehmen/duckdq to /tmp/pip-req-build-p9uhw5_i\n  Running command git clone -q https://github.com/tdoehmen/duckdq /tmp/pip-req-build-p9uhw5_i\nCollecting duckdb&gt;=0.2.3\n  Downloading duckdb-0.10.1-cp38-cp38-manylinux_2_17_x86_64.manylinux2014_x86_64.whl (18.1 MB)\nCollecting SQLAlchemy\n  Downloading SQLAlchemy-2.0.29-cp38-cp38-manylinux_2_17_x86_64.manylinux2014_x86_64.whl (3.1 MB)\nRequirement already satisfied: pandas in /databricks/python3/lib/python3.8/site-packages (from duckdq==0.0.post0.dev9+g5032943) (1.2.4)\nCollecting whylabs-datasketches\n  Downloading whylabs_datasketches-2.2.0b1-cp38-cp38-manylinux2010_x86_64.whl (405 kB)\nRequirement already satisfied: dill in /databricks/python3/lib/python3.8/site-packages (from duckdq==0.0.post0.dev9+g5032943) (0.3.2)\nCollecting tryingsnake\n  Downloading tryingsnake-0.5.1.tar.gz (13 kB)\nRequirement already satisfied: pytz&gt;=2017.3 in /databricks/python3/lib/python3.8/site-packages (from pandas-&gt;duckdq==0.0.post0.dev9+g5032943) (2020.5)\nRequirement already satisfied: numpy&gt;=1.16.5 in /databricks/python3/lib/python3.8/site-packages (from pandas-&gt;duckdq==0.0.post0.dev9+g5032943) (1.19.2)\nRequirement already satisfied: python-dateutil&gt;=2.7.3 in /databricks/python3/lib/python3.8/site-packages (from pandas-&gt;duckdq==0.0.post0.dev9+g5032943) (2.8.1)\nRequirement already satisfied: six&gt;=1.5 in /databricks/python3/lib/python3.8/site-packages (from python-dateutil&gt;=2.7.3-&gt;pandas-&gt;duckdq==0.0.post0.dev9+g5032943) (1.15.0)\nCollecting typing-extensions&gt;=4.6.0\n  Downloading typing_extensions-4.11.0-py3-none-any.whl (34 kB)\nCollecting greenlet!=0.4.17\n  Downloading greenlet-3.0.3-cp38-cp38-manylinux_2_24_x86_64.manylinux_2_28_x86_64.whl (622 kB)\nBuilding wheels for collected packages: duckdq, tryingsnake\n  Building wheel for duckdq (setup.py): started\n  Building wheel for duckdq (setup.py): finished with status &#39;done&#39;\n  Created wheel for duckdq: filename=duckdq-0.0.post0.dev9+g5032943-py2.py3-none-any.whl size=43626 sha256=3c0c9607440c5322b31ca0de5d63988a02945fb8f200d17030c6cd7e798af6d0\n  Stored in directory: /tmp/pip-ephem-wheel-cache-jtdfadcq/wheels/88/a5/74/5b722e499bbd67855336523f1b88d3078e69eeb50f563fbfce\n  Building wheel for tryingsnake (setup.py): started\n  Building wheel for tryingsnake (setup.py): finished with status &#39;done&#39;\n  Created wheel for tryingsnake: filename=tryingsnake-0.5.1-py3-none-any.whl size=11427 sha256=c07f209213f60256d90c98d250c1d31fe466ee2466e3d4caa982090731999e2e\n  Stored in directory: /root/.cache/pip/wheels/0a/e8/c5/7eda97b4220dd6b8cc007d52a6f41aae0e64b1d9a5572dfa28\nSuccessfully built duckdq tryingsnake\nInstalling collected packages: typing-extensions, greenlet, whylabs-datasketches, tryingsnake, SQLAlchemy, duckdb, duckdq\n  Attempting uninstall: typing-extensions\n    Found existing installation: typing-extensions 3.7.4.3\n    Not uninstalling typing-extensions at /databricks/python3/lib/python3.8/site-packages, outside environment /local_disk0/.ephemeral_nfs/envs/pythonEnv-61c7c747-7b4f-41f6-8c21-884b6eabc39d\n    Can&#39;t uninstall &#39;typing-extensions&#39;. No files were found to uninstall.\nERROR: pip&#39;s dependency resolver does not currently take into account all the packages that are installed. This behaviour is the source of the following dependency conflicts.\ntensorflow-cpu 2.6.0 requires typing-extensions~=3.7.4, but you have typing-extensions 4.11.0 which is incompatible.\nSuccessfully installed SQLAlchemy-2.0.29 duckdb-0.10.1 duckdq-0.0.post0.dev9+g5032943 greenlet-3.0.3 tryingsnake-0.5.1 typing-extensions-4.11.0 whylabs-datasketches-2.2.0b1\nWARNING: You are using pip version 21.0.1; however, version 24.0 is available.\nYou should consider upgrading via the &#39;/local_disk0/.ephemeral_nfs/envs/pythonEnv-61c7c747-7b4f-41f6-8c21-884b6eabc39d/bin/python -m pip install --upgrade pip&#39; command.\nPython interpreter will be restarted.\n</div>",
       "datasetInfos": [],
       "metadata": {},
       "removedWidgets": [],
       "type": "html"
      }
     },
     "output_type": "display_data"
    }
   ],
   "source": [
    "%pip install git+https://github.com/tdoehmen/duckdq"
   ]
  },
  {
   "cell_type": "code",
   "execution_count": null,
   "metadata": {
    "application/vnd.databricks.v1+cell": {
     "cellMetadata": {
      "byteLimit": 2048000,
      "rowLimit": 10000
     },
     "inputWidgets": {},
     "nuid": "800d1eb5-fefd-4a50-b2c9-3a4a7782e64c",
     "showTitle": false,
     "title": ""
    }
   },
   "outputs": [
    {
     "data": {
      "text/html": [
       "<style scoped>\n",
       "  .ansiout {\n",
       "    display: block;\n",
       "    unicode-bidi: embed;\n",
       "    white-space: pre-wrap;\n",
       "    word-wrap: break-word;\n",
       "    word-break: break-all;\n",
       "    font-family: \"Menlo\", \"Monaco\", \"Consolas\", \"Ubuntu Mono\", \"Source Code Pro\", monospace;\n",
       "    font-size: 13px;\n",
       "    color: #555;\n",
       "    margin-left: 4px;\n",
       "    line-height: 19px;\n",
       "  }\n",
       "</style>\n",
       "<div class=\"ansiout\"></div>"
      ]
     },
     "metadata": {
      "application/vnd.databricks.v1+output": {
       "addedWidgets": {},
       "arguments": {},
       "data": "<div class=\"ansiout\"></div>",
       "datasetInfos": [],
       "metadata": {},
       "removedWidgets": [],
       "type": "html"
      }
     },
     "output_type": "display_data"
    }
   ],
   "source": [
    "from duckdq.checks import Check, CheckLevel\n"
   ]
  },
  {
   "cell_type": "code",
   "execution_count": null,
   "metadata": {
    "application/vnd.databricks.v1+cell": {
     "cellMetadata": {
      "byteLimit": 2048000,
      "rowLimit": 10000
     },
     "inputWidgets": {},
     "nuid": "e5328781-a833-40ba-bbcb-c585c12e9e20",
     "showTitle": false,
     "title": ""
    }
   },
   "outputs": [
    {
     "data": {
      "text/html": [
       "<style scoped>\n",
       "  .ansiout {\n",
       "    display: block;\n",
       "    unicode-bidi: embed;\n",
       "    white-space: pre-wrap;\n",
       "    word-wrap: break-word;\n",
       "    word-break: break-all;\n",
       "    font-family: \"Menlo\", \"Monaco\", \"Consolas\", \"Ubuntu Mono\", \"Source Code Pro\", monospace;\n",
       "    font-size: 13px;\n",
       "    color: #555;\n",
       "    margin-left: 4px;\n",
       "    line-height: 19px;\n",
       "  }\n",
       "</style>\n",
       "<div class=\"ansiout\">import spark.implicits._\n",
       "import org.apache.spark.sql._\n",
       "import org.apache.spark.sql.functions._\n",
       "import org.apache.spark.sql.functions.concat\n",
       "data_path: String = /tmp/StreamingDataQuality/source/\n",
       "checkpoint_path: String = /tmp/StreamingDataQuality/checkpoint/\n",
       "base_df: org.apache.spark.sql.DataFrame = [buysell: string, date: string ... 6 more fields]\n",
       "empty_df: org.apache.spark.sql.Dataset[org.apache.spark.sql.Row] = [buysell: string, date: string ... 6 more fields]\n",
       "l1: Long = 0\n",
       "res7: Boolean = true\n",
       "</div>"
      ]
     },
     "metadata": {
      "application/vnd.databricks.v1+output": {
       "addedWidgets": {},
       "arguments": {},
       "data": "<div class=\"ansiout\">import spark.implicits._\nimport org.apache.spark.sql._\nimport org.apache.spark.sql.functions._\nimport org.apache.spark.sql.functions.concat\ndata_path: String = /tmp/StreamingDataQuality/source/\ncheckpoint_path: String = /tmp/StreamingDataQuality/checkpoint/\nbase_df: org.apache.spark.sql.DataFrame = [buysell: string, date: string ... 6 more fields]\nempty_df: org.apache.spark.sql.Dataset[org.apache.spark.sql.Row] = [buysell: string, date: string ... 6 more fields]\nl1: Long = 0\nres7: Boolean = true\n</div>",
       "datasetInfos": [],
       "metadata": {
        "isDbfsCommandResult": false
       },
       "removedWidgets": [],
       "type": "html"
      }
     },
     "output_type": "display_data"
    }
   ],
   "source": [
    "%scala\n",
    "import spark.implicits._\n",
    "import org.apache.spark.sql._\n",
    "import org.apache.spark.sql.functions._\n",
    "import org.apache.spark.sql.functions.concat\n",
    "\n",
    "val data_path = \"/tmp/StreamingDataQuality/source/\"\n",
    "val checkpoint_path = \"/tmp/StreamingDataQuality/checkpoint/\"\n",
    "val base_df = spark.read.parquet(data_path)\n",
    "val empty_df = base_df.where(\"0 = 1\")\n",
    "val l1: Long = 0\n",
    "\n",
    "spark.sql(\"DROP TABLE IF EXISTS trades_delta\")\n",
    "spark.sql(\"DROP TABLE IF EXISTS bad_records\")\n",
    "spark.sql(\"DROP TABLE IF EXISTS duck_metrics\")\n",
    "\n",
    "base_df.createOrReplaceTempView(\"trades_historical\")\n",
    "empty_df.write.format(\"delta\").saveAsTable(\"trades_delta\")\n",
    "empty_df.withColumn(\"batchID\",lit(l1)).write.format(\"delta\").saveAsTable(\"bad_records\")\n",
    "dbutils.fs.mkdirs(checkpoint_path)"
   ]
  },
  {
   "cell_type": "code",
   "execution_count": null,
   "metadata": {
    "application/vnd.databricks.v1+cell": {
     "cellMetadata": {
      "byteLimit": 2048000,
      "rowLimit": 10000
     },
     "inputWidgets": {},
     "nuid": "bb3398a1-4276-4095-9e4c-4ecf9b765e21",
     "showTitle": false,
     "title": ""
    }
   },
   "outputs": [
    {
     "data": {
      "text/html": [
       "<style scoped>\n",
       "  .ansiout {\n",
       "    display: block;\n",
       "    unicode-bidi: embed;\n",
       "    white-space: pre-wrap;\n",
       "    word-wrap: break-word;\n",
       "    word-break: break-all;\n",
       "    font-family: \"Menlo\", \"Monaco\", \"Consolas\", \"Ubuntu Mono\", \"Source Code Pro\", monospace;\n",
       "    font-size: 13px;\n",
       "    color: #555;\n",
       "    margin-left: 4px;\n",
       "    line-height: 19px;\n",
       "  }\n",
       "</style>\n",
       "<div class=\"ansiout\"></div>"
      ]
     },
     "metadata": {
      "application/vnd.databricks.v1+output": {
       "addedWidgets": {},
       "arguments": {},
       "data": "<div class=\"ansiout\"></div>",
       "datasetInfos": [],
       "metadata": {},
       "removedWidgets": [],
       "type": "html"
      }
     },
     "output_type": "display_data"
    }
   ],
   "source": [
    "%sh\n",
    "# clear the delta checkpoint\n",
    "rm -rf /dbfs/tmp/StreamingDataQuality/checkpoint\n"
   ]
  },
  {
   "cell_type": "code",
   "execution_count": null,
   "metadata": {
    "application/vnd.databricks.v1+cell": {
     "cellMetadata": {
      "byteLimit": 2048000,
      "rowLimit": 10000
     },
     "inputWidgets": {},
     "nuid": "af77bbbe-cd5b-49af-ba60-73f7878120f2",
     "showTitle": false,
     "title": ""
    }
   },
   "outputs": [
    {
     "data": {
      "text/html": [
       "<style scoped>\n",
       "  .ansiout {\n",
       "    display: block;\n",
       "    unicode-bidi: embed;\n",
       "    white-space: pre-wrap;\n",
       "    word-wrap: break-word;\n",
       "    word-break: break-all;\n",
       "    font-family: \"Menlo\", \"Monaco\", \"Consolas\", \"Ubuntu Mono\", \"Source Code Pro\", monospace;\n",
       "    font-size: 13px;\n",
       "    color: #555;\n",
       "    margin-left: 4px;\n",
       "    line-height: 19px;\n",
       "  }\n",
       "</style>\n",
       "<div class=\"ansiout\">Out[31]: &lt;pyspark.sql.streaming.StreamingQuery at 0x7f70d2610700&gt;</div>"
      ]
     },
     "metadata": {
      "application/vnd.databricks.v1+output": {
       "addedWidgets": {},
       "arguments": {},
       "data": "<div class=\"ansiout\">Out[31]: &lt;pyspark.sql.streaming.StreamingQuery at 0x7f70d2610700&gt;</div>",
       "datasetInfos": [],
       "metadata": {},
       "removedWidgets": [],
       "type": "html"
      }
     },
     "output_type": "display_data"
    }
   ],
   "source": [
    "(spark\n",
    " .readStream\n",
    " .schema(jsonSchema) \n",
    " .format(\"parquet\")\n",
    " .option(\"maxFilesPerTrigger\", 1)\n",
    " .load(\"/tmp/StreamingDataQuality/source/\")\n",
    " .writeStream\n",
    " .format(\"delta\")\n",
    " .option(\"failOnDataLoss\", \"false\")\n",
    " .option(\"checkpointLocation\", \"/tmp/StreamingDataQuality/checkpoint/\")\n",
    " .toTable(\"trades_delta\"))"
   ]
  },
  {
   "cell_type": "code",
   "execution_count": null,
   "metadata": {
    "application/vnd.databricks.v1+cell": {
     "cellMetadata": {
      "byteLimit": 2048000,
      "rowLimit": 10000
     },
     "inputWidgets": {},
     "nuid": "94d5f08a-6917-4d0f-a9a4-61acfc41bf88",
     "showTitle": false,
     "title": ""
    }
   },
   "outputs": [
    {
     "data": {
      "text/html": [
       "<style scoped>\n",
       "  .ansiout {\n",
       "    display: block;\n",
       "    unicode-bidi: embed;\n",
       "    white-space: pre-wrap;\n",
       "    word-wrap: break-word;\n",
       "    word-break: break-all;\n",
       "    font-family: \"Menlo\", \"Monaco\", \"Consolas\", \"Ubuntu Mono\", \"Source Code Pro\", monospace;\n",
       "    font-size: 13px;\n",
       "    color: #555;\n",
       "    margin-left: 4px;\n",
       "    line-height: 19px;\n",
       "  }\n",
       "</style>\n",
       "<div class=\"ansiout\"></div>"
      ]
     },
     "metadata": {
      "application/vnd.databricks.v1+output": {
       "addedWidgets": {},
       "arguments": {},
       "data": "<div class=\"ansiout\"></div>",
       "datasetInfos": [],
       "metadata": {},
       "removedWidgets": [],
       "type": "html"
      }
     },
     "output_type": "display_data"
    }
   ],
   "source": [
    "from pyspark.sql import SparkSession\n",
    "from pyspark.sql.functions import lit, current_timestamp\n",
    "from duckdq.checks import Check, CheckLevel\n",
    "from duckdq.verification_suite import VerificationResult, VerificationSuite\n",
    "from pyspark.sql.types import LongType\n",
    "\n",
    "# Initialize SparkSession\n",
    "spark = SparkSession.builder.appName(\"StreamingDataQuality\").getOrCreate()\n",
    "\n",
    "# Read the delta table as a streaming source\n",
    "trades_delta_stream = spark.readStream \\\n",
    "    .format(\"delta\") \\\n",
    "    .table(\"trades_delta\")\n",
    "\n",
    "# Process each batch of data\n",
    "def process_batch(batchDF, batchId):\n",
    "\n",
    "    df = batchDF.toPandas()\n",
    "    verificationResult = (\n",
    "      VerificationSuite()\n",
    "        .on_data(df)\n",
    "        .add_check(\n",
    "        Check(CheckLevel.WARNING, \"Basic Check 2\")\n",
    "        .is_complete(\"ipaddr\")\n",
    "        .is_complete(\"quantity\")\n",
    "        .is_complete(\"price\")\n",
    "        .has_max(\"quantity\", lambda mx: mx <= 10000)\n",
    "        .is_non_negative(\"quantity\")\n",
    "            )\n",
    "            .run()\n",
    "    )\n",
    "\n",
    "    data = [] \n",
    "\n",
    "    for check, check_result in verificationResult.check_results.items():\n",
    "        check_description = check.description\n",
    "        for constraint_result in check_result.constraint_results:\n",
    "            constraint_s = constraint_result.constraint.__str__()\n",
    "            constraint_result_s = constraint_result.status.name\n",
    "            metric_value = constraint_result.metric.value\n",
    "            metric_s = metric_value.get() if metric_value.isSuccess else \"Error retrieving metric\"\n",
    "            data.append({\n",
    "                \"Check\": check_description,\n",
    "                \"Constraint\": constraint_s,\n",
    "                \"Status\": constraint_result_s,\n",
    "                \"Metric\": metric_s\n",
    "            })\n",
    "\n",
    "\n",
    "    schema = StructType([\n",
    "        StructField(\"Check\", StringType(), True),\n",
    "        StructField(\"Constraint\", StringType(), True),\n",
    "        StructField(\"Status\", StringType(), True),\n",
    "        StructField(\"Metric\", StringType(), True)  \n",
    "    ])\n",
    "\n",
    "    batchDF = batchDF.withColumn(\"batchID\", lit(batchId).cast(LongType()))\n",
    "    ver_df = spark.createDataFrame(data, schema=schema)\n",
    "\n",
    "    # If verification fails, write batch to bad records table\n",
    "    if verificationResult.status != \"Success\":\n",
    "        batchDF = batchDF.withColumn(\"batchID\", lit(batchId).cast(LongType()))\n",
    "        batchDF.write.format(\"delta\").mode(\"append\").saveAsTable(\"bad_records\")\n",
    "\n",
    "    metric_results = ver_df \n",
    "    metric_results.withColumn(\"ts\", current_timestamp()) \\\n",
    "        .write.format(\"delta\").mode(\"append\").saveAsTable(\"duck_metrics\")\n",
    "\n",
    "# Applying the foreachBatch function\n",
    "query = trades_delta_stream.writeStream.foreachBatch(process_batch).start()\n",
    "\n"
   ]
  },
  {
   "cell_type": "code",
   "execution_count": null,
   "metadata": {
    "application/vnd.databricks.v1+cell": {
     "cellMetadata": {
      "byteLimit": 2048000,
      "rowLimit": 10000
     },
     "inputWidgets": {},
     "nuid": "09b5171e-81f8-4269-9e1d-88b63e4344bc",
     "showTitle": false,
     "title": ""
    }
   },
   "outputs": [
    {
     "data": {
      "text/html": [
       "<style scoped>\n",
       "  .table-result-container {\n",
       "    max-height: 300px;\n",
       "    overflow: auto;\n",
       "  }\n",
       "  table, th, td {\n",
       "    border: 1px solid black;\n",
       "    border-collapse: collapse;\n",
       "  }\n",
       "  th, td {\n",
       "    padding: 5px;\n",
       "  }\n",
       "  th {\n",
       "    text-align: left;\n",
       "  }\n",
       "</style><div class='table-result-container'><table class='table-result'><thead style='background-color: white'><tr><th>Check</th><th>Constraint</th><th>Status</th><th>Metric</th><th>ts</th></tr></thead><tbody><tr><td>Basic Check 2</td><td>ComplianceConstraint(Compliance(quantity is non-negative))</td><td>FAILURE</td><td>0.95</td><td>2024-04-09T05:09:39.855+0000</td></tr><tr><td>Basic Check 2</td><td>ComplianceConstraint(Compliance(quantity is non-negative))</td><td>FAILURE</td><td>0.95</td><td>2024-04-09T05:11:18.677+0000</td></tr><tr><td>Basic Check 2</td><td>ComplianceConstraint(Compliance(quantity is non-negative))</td><td>FAILURE</td><td>0.95</td><td>2024-04-09T05:10:27.335+0000</td></tr><tr><td>Basic Check 2</td><td>ComplianceConstraint(Compliance(quantity is non-negative))</td><td>FAILURE</td><td>0.95</td><td>2024-04-09T05:11:03.232+0000</td></tr><tr><td>Basic Check 2</td><td>ComplianceConstraint(Compliance(quantity is non-negative))</td><td>FAILURE</td><td>0.95</td><td>2024-04-09T05:11:34.234+0000</td></tr><tr><td>Basic Check 2</td><td>ComplianceConstraint(Compliance(quantity is non-negative))</td><td>FAILURE</td><td>0.95</td><td>2024-04-09T05:09:11.713+0000</td></tr><tr><td>Basic Check 2</td><td>ComplianceConstraint(Compliance(quantity is non-negative))</td><td>FAILURE</td><td>0.85</td><td>2024-04-09T05:09:35.564+0000</td></tr><tr><td>Basic Check 2</td><td>ComplianceConstraint(Compliance(quantity is non-negative))</td><td>FAILURE</td><td>0.95</td><td>2024-04-09T05:09:56.237+0000</td></tr><tr><td>Basic Check 2</td><td>ComplianceConstraint(Compliance(quantity is non-negative))</td><td>FAILURE</td><td>0.95</td><td>2024-04-09T05:09:25.423+0000</td></tr><tr><td>Basic Check 2</td><td>ComplianceConstraint(Compliance(quantity is non-negative))</td><td>FAILURE</td><td>0.95</td><td>2024-04-09T05:09:15.756+0000</td></tr><tr><td>Basic Check 2</td><td>ComplianceConstraint(Compliance(quantity is non-negative))</td><td>FAILURE</td><td>0.85</td><td>2024-04-09T05:09:07.389+0000</td></tr><tr><td>Basic Check 2</td><td>ComplianceConstraint(Compliance(quantity is non-negative))</td><td>FAILURE</td><td>0.95</td><td>2024-04-09T05:10:42.903+0000</td></tr><tr><td>Basic Check 2</td><td>ComplianceConstraint(Compliance(quantity is non-negative))</td><td>FAILURE</td><td>0.95</td><td>2024-04-09T05:10:37.726+0000</td></tr><tr><td>Basic Check 2</td><td>ComplianceConstraint(Compliance(quantity is non-negative))</td><td>FAILURE</td><td>0.95</td><td>2024-04-09T05:10:53.366+0000</td></tr><tr><td>Basic Check 2</td><td>ComplianceConstraint(Compliance(quantity is non-negative))</td><td>FAILURE</td><td>0.95</td><td>2024-04-09T05:10:58.620+0000</td></tr><tr><td>Basic Check 2</td><td>ComplianceConstraint(Compliance(quantity is non-negative))</td><td>FAILURE</td><td>0.95</td><td>2024-04-09T05:11:12.832+0000</td></tr><tr><td>Basic Check 2</td><td>ComplianceConstraint(Compliance(quantity is non-negative))</td><td>SUCCESS</td><td>1.0</td><td>2024-04-09T05:10:16.675+0000</td></tr><tr><td>Basic Check 2</td><td>ComplianceConstraint(Compliance(quantity is non-negative))</td><td>SUCCESS</td><td>1.0</td><td>2024-04-09T05:10:01.485+0000</td></tr><tr><td>Basic Check 2</td><td>ComplianceConstraint(Compliance(quantity is non-negative))</td><td>SUCCESS</td><td>1.0</td><td>2024-04-09T05:10:48.132+0000</td></tr><tr><td>Basic Check 2</td><td>ComplianceConstraint(Compliance(quantity is non-negative))</td><td>SUCCESS</td><td>1.0</td><td>2024-04-09T05:10:11.386+0000</td></tr><tr><td>Basic Check 2</td><td>ComplianceConstraint(Compliance(quantity is non-negative))</td><td>SUCCESS</td><td>1.0</td><td>2024-04-09T05:09:50.119+0000</td></tr><tr><td>Basic Check 2</td><td>ComplianceConstraint(Compliance(quantity is non-negative))</td><td>SUCCESS</td><td>1.0</td><td>2024-04-09T05:11:24.009+0000</td></tr><tr><td>Basic Check 2</td><td>ComplianceConstraint(Compliance(quantity is non-negative))</td><td>SUCCESS</td><td>1.0</td><td>2024-04-09T05:09:45.327+0000</td></tr><tr><td>Basic Check 2</td><td>ComplianceConstraint(Compliance(quantity is non-negative))</td><td>SUCCESS</td><td>1.0</td><td>2024-04-09T05:09:30.401+0000</td></tr><tr><td>Basic Check 2</td><td>ComplianceConstraint(Compliance(quantity is non-negative))</td><td>SUCCESS</td><td>1.0</td><td>2024-04-09T05:10:21.703+0000</td></tr><tr><td>Basic Check 2</td><td>ComplianceConstraint(Compliance(quantity is non-negative))</td><td>SUCCESS</td><td>1.0</td><td>2024-04-09T05:09:21.056+0000</td></tr><tr><td>Basic Check 2</td><td>ComplianceConstraint(Compliance(quantity is non-negative))</td><td>SUCCESS</td><td>1.0</td><td>2024-04-09T05:10:32.047+0000</td></tr><tr><td>Basic Check 2</td><td>ComplianceConstraint(Compliance(quantity is non-negative))</td><td>FAILURE</td><td>0.9</td><td>2024-04-09T05:11:28.836+0000</td></tr><tr><td>Basic Check 2</td><td>ComplianceConstraint(Compliance(quantity is non-negative))</td><td>FAILURE</td><td>0.9</td><td>2024-04-09T05:09:02.690+0000</td></tr><tr><td>Basic Check 2</td><td>ComplianceConstraint(Compliance(quantity is non-negative))</td><td>FAILURE</td><td>0.9</td><td>2024-04-09T05:10:05.868+0000</td></tr><tr><td>Basic Check 2</td><td>ComplianceConstraint(Compliance(quantity is non-negative))</td><td>FAILURE</td><td>0.9</td><td>2024-04-09T05:11:08.466+0000</td></tr><tr><td>Basic Check 2</td><td>CompletenessConstraint(Completeness(ipaddr))</td><td>FAILURE</td><td>0.95</td><td>2024-04-09T05:09:21.056+0000</td></tr><tr><td>Basic Check 2</td><td>CompletenessConstraint(Completeness(ipaddr))</td><td>FAILURE</td><td>0.95</td><td>2024-04-09T05:09:39.855+0000</td></tr><tr><td>Basic Check 2</td><td>CompletenessConstraint(Completeness(ipaddr))</td><td>FAILURE</td><td>0.85</td><td>2024-04-09T05:11:03.232+0000</td></tr><tr><td>Basic Check 2</td><td>CompletenessConstraint(Completeness(ipaddr))</td><td>FAILURE</td><td>0.95</td><td>2024-04-09T05:10:16.675+0000</td></tr><tr><td>Basic Check 2</td><td>CompletenessConstraint(Completeness(ipaddr))</td><td>FAILURE</td><td>0.85</td><td>2024-04-09T05:10:37.726+0000</td></tr><tr><td>Basic Check 2</td><td>CompletenessConstraint(Completeness(ipaddr))</td><td>FAILURE</td><td>0.95</td><td>2024-04-09T05:09:11.713+0000</td></tr><tr><td>Basic Check 2</td><td>CompletenessConstraint(Completeness(ipaddr))</td><td>FAILURE</td><td>0.95</td><td>2024-04-09T05:10:27.335+0000</td></tr><tr><td>Basic Check 2</td><td>CompletenessConstraint(Completeness(ipaddr))</td><td>FAILURE</td><td>0.95</td><td>2024-04-09T05:10:42.903+0000</td></tr><tr><td>Basic Check 2</td><td>CompletenessConstraint(Completeness(ipaddr))</td><td>FAILURE</td><td>0.95</td><td>2024-04-09T05:11:08.466+0000</td></tr><tr><td>Basic Check 2</td><td>CompletenessConstraint(Completeness(ipaddr))</td><td>FAILURE</td><td>0.95</td><td>2024-04-09T05:09:35.564+0000</td></tr><tr><td>Basic Check 2</td><td>CompletenessConstraint(Completeness(ipaddr))</td><td>FAILURE</td><td>0.95</td><td>2024-04-09T05:10:05.868+0000</td></tr><tr><td>Basic Check 2</td><td>CompletenessConstraint(Completeness(ipaddr))</td><td>FAILURE</td><td>0.95</td><td>2024-04-09T05:10:58.620+0000</td></tr><tr><td>Basic Check 2</td><td>CompletenessConstraint(Completeness(ipaddr))</td><td>SUCCESS</td><td>1.0</td><td>2024-04-09T05:10:48.132+0000</td></tr><tr><td>Basic Check 2</td><td>CompletenessConstraint(Completeness(ipaddr))</td><td>SUCCESS</td><td>1.0</td><td>2024-04-09T05:09:50.119+0000</td></tr><tr><td>Basic Check 2</td><td>CompletenessConstraint(Completeness(ipaddr))</td><td>SUCCESS</td><td>1.0</td><td>2024-04-09T05:10:21.703+0000</td></tr><tr><td>Basic Check 2</td><td>CompletenessConstraint(Completeness(ipaddr))</td><td>SUCCESS</td><td>1.0</td><td>2024-04-09T05:11:34.234+0000</td></tr><tr><td>Basic Check 2</td><td>CompletenessConstraint(Completeness(ipaddr))</td><td>SUCCESS</td><td>1.0</td><td>2024-04-09T05:09:25.423+0000</td></tr><tr><td>Basic Check 2</td><td>CompletenessConstraint(Completeness(ipaddr))</td><td>SUCCESS</td><td>1.0</td><td>2024-04-09T05:10:11.386+0000</td></tr><tr><td>Basic Check 2</td><td>CompletenessConstraint(Completeness(ipaddr))</td><td>SUCCESS</td><td>1.0</td><td>2024-04-09T05:09:02.690+0000</td></tr><tr><td>Basic Check 2</td><td>CompletenessConstraint(Completeness(ipaddr))</td><td>SUCCESS</td><td>1.0</td><td>2024-04-09T05:09:30.401+0000</td></tr><tr><td>Basic Check 2</td><td>CompletenessConstraint(Completeness(ipaddr))</td><td>SUCCESS</td><td>1.0</td><td>2024-04-09T05:11:28.836+0000</td></tr><tr><td>Basic Check 2</td><td>CompletenessConstraint(Completeness(ipaddr))</td><td>SUCCESS</td><td>1.0</td><td>2024-04-09T05:11:24.009+0000</td></tr><tr><td>Basic Check 2</td><td>CompletenessConstraint(Completeness(ipaddr))</td><td>SUCCESS</td><td>1.0</td><td>2024-04-09T05:09:45.327+0000</td></tr><tr><td>Basic Check 2</td><td>CompletenessConstraint(Completeness(ipaddr))</td><td>SUCCESS</td><td>1.0</td><td>2024-04-09T05:10:01.485+0000</td></tr><tr><td>Basic Check 2</td><td>CompletenessConstraint(Completeness(ipaddr))</td><td>SUCCESS</td><td>1.0</td><td>2024-04-09T05:09:07.389+0000</td></tr><tr><td>Basic Check 2</td><td>CompletenessConstraint(Completeness(ipaddr))</td><td>FAILURE</td><td>0.9</td><td>2024-04-09T05:09:15.756+0000</td></tr><tr><td>Basic Check 2</td><td>CompletenessConstraint(Completeness(ipaddr))</td><td>FAILURE</td><td>0.9</td><td>2024-04-09T05:09:56.237+0000</td></tr><tr><td>Basic Check 2</td><td>CompletenessConstraint(Completeness(ipaddr))</td><td>FAILURE</td><td>0.9</td><td>2024-04-09T05:11:18.677+0000</td></tr><tr><td>Basic Check 2</td><td>CompletenessConstraint(Completeness(ipaddr))</td><td>SUCCESS</td><td>1.0</td><td>2024-04-09T05:10:32.047+0000</td></tr><tr><td>Basic Check 2</td><td>CompletenessConstraint(Completeness(ipaddr))</td><td>SUCCESS</td><td>1.0</td><td>2024-04-09T05:11:12.832+0000</td></tr><tr><td>Basic Check 2</td><td>CompletenessConstraint(Completeness(ipaddr))</td><td>FAILURE</td><td>0.9</td><td>2024-04-09T05:10:53.366+0000</td></tr><tr><td>Basic Check 2</td><td>MaximumConstraint(Maximum(quantity))</td><td>SUCCESS</td><td>3409.7085</td><td>2024-04-09T05:09:11.713+0000</td></tr><tr><td>Basic Check 2</td><td>MaximumConstraint(Maximum(quantity))</td><td>SUCCESS</td><td>3433.6876</td><td>2024-04-09T05:09:39.855+0000</td></tr><tr><td>Basic Check 2</td><td>MaximumConstraint(Maximum(quantity))</td><td>SUCCESS</td><td>3289.1355</td><td>2024-04-09T05:09:21.056+0000</td></tr><tr><td>Basic Check 2</td><td>MaximumConstraint(Maximum(quantity))</td><td>SUCCESS</td><td>4055.9772</td><td>2024-04-09T05:10:42.903+0000</td></tr><tr><td>Basic Check 2</td><td>MaximumConstraint(Maximum(quantity))</td><td>SUCCESS</td><td>3929.5476</td><td>2024-04-09T05:11:03.232+0000</td></tr><tr><td>Basic Check 2</td><td>MaximumConstraint(Maximum(quantity))</td><td>SUCCESS</td><td>3696.2062</td><td>2024-04-09T05:10:01.485+0000</td></tr><tr><td>Basic Check 2</td><td>MaximumConstraint(Maximum(quantity))</td><td>SUCCESS</td><td>4191.3429</td><td>2024-04-09T05:11:18.677+0000</td></tr><tr><td>Basic Check 2</td><td>MaximumConstraint(Maximum(quantity))</td><td>SUCCESS</td><td>3442.4145</td><td>2024-04-09T05:10:05.868+0000</td></tr><tr><td>Basic Check 2</td><td>MaximumConstraint(Maximum(quantity))</td><td>SUCCESS</td><td>3786.3752</td><td>2024-04-09T05:09:25.423+0000</td></tr><tr><td>Basic Check 2</td><td>MaximumConstraint(Maximum(quantity))</td><td>SUCCESS</td><td>3200.9985</td><td>2024-04-09T05:09:50.119+0000</td></tr><tr><td>Basic Check 2</td><td>MaximumConstraint(Maximum(quantity))</td><td>SUCCESS</td><td>3305.2592</td><td>2024-04-09T05:10:48.132+0000</td></tr><tr><td>Basic Check 2</td><td>MaximumConstraint(Maximum(quantity))</td><td>SUCCESS</td><td>3369.6448</td><td>2024-04-09T05:11:08.466+0000</td></tr><tr><td>Basic Check 2</td><td>MaximumConstraint(Maximum(quantity))</td><td>SUCCESS</td><td>4147.0704</td><td>2024-04-09T05:10:37.726+0000</td></tr><tr><td>Basic Check 2</td><td>MaximumConstraint(Maximum(quantity))</td><td>SUCCESS</td><td>3561.9571</td><td>2024-04-09T05:09:45.327+0000</td></tr><tr><td>Basic Check 2</td><td>MaximumConstraint(Maximum(quantity))</td><td>SUCCESS</td><td>5133.2374</td><td>2024-04-09T05:11:24.009+0000</td></tr><tr><td>Basic Check 2</td><td>MaximumConstraint(Maximum(quantity))</td><td>SUCCESS</td><td>3617.2939</td><td>2024-04-09T05:09:56.237+0000</td></tr><tr><td>Basic Check 2</td><td>MaximumConstraint(Maximum(quantity))</td><td>SUCCESS</td><td>3452.7638</td><td>2024-04-09T05:10:21.703+0000</td></tr><tr><td>Basic Check 2</td><td>MaximumConstraint(Maximum(quantity))</td><td>SUCCESS</td><td>4172.3773</td><td>2024-04-09T05:11:28.836+0000</td></tr><tr><td>Basic Check 2</td><td>MaximumConstraint(Maximum(quantity))</td><td>SUCCESS</td><td>3922.7952</td><td>2024-04-09T05:10:11.386+0000</td></tr><tr><td>Basic Check 2</td><td>MaximumConstraint(Maximum(quantity))</td><td>SUCCESS</td><td>3076.2633</td><td>2024-04-09T05:09:35.564+0000</td></tr><tr><td>Basic Check 2</td><td>MaximumConstraint(Maximum(quantity))</td><td>SUCCESS</td><td>3802.7184</td><td>2024-04-09T05:09:15.756+0000</td></tr><tr><td>Basic Check 2</td><td>MaximumConstraint(Maximum(quantity))</td><td>SUCCESS</td><td>2826.6056</td><td>2024-04-09T05:09:02.690+0000</td></tr><tr><td>Basic Check 2</td><td>MaximumConstraint(Maximum(quantity))</td><td>SUCCESS</td><td>3089.9904</td><td>2024-04-09T05:10:32.047+0000</td></tr><tr><td>Basic Check 2</td><td>MaximumConstraint(Maximum(quantity))</td><td>SUCCESS</td><td>3418.5777</td><td>2024-04-09T05:10:58.620+0000</td></tr><tr><td>Basic Check 2</td><td>MaximumConstraint(Maximum(quantity))</td><td>SUCCESS</td><td>3332.4048</td><td>2024-04-09T05:11:12.832+0000</td></tr><tr><td>Basic Check 2</td><td>MaximumConstraint(Maximum(quantity))</td><td>SUCCESS</td><td>4050.1125</td><td>2024-04-09T05:11:34.234+0000</td></tr><tr><td>Basic Check 2</td><td>MaximumConstraint(Maximum(quantity))</td><td>SUCCESS</td><td>4221.8248</td><td>2024-04-09T05:10:53.366+0000</td></tr><tr><td>Basic Check 2</td><td>MaximumConstraint(Maximum(quantity))</td><td>SUCCESS</td><td>3132.193</td><td>2024-04-09T05:10:16.675+0000</td></tr><tr><td>Basic Check 2</td><td>MaximumConstraint(Maximum(quantity))</td><td>SUCCESS</td><td>4928.359</td><td>2024-04-09T05:09:07.389+0000</td></tr><tr><td>Basic Check 2</td><td>MaximumConstraint(Maximum(quantity))</td><td>SUCCESS</td><td>2956.745</td><td>2024-04-09T05:10:27.335+0000</td></tr><tr><td>Basic Check 2</td><td>MaximumConstraint(Maximum(quantity))</td><td>SUCCESS</td><td>3233.7</td><td>2024-04-09T05:09:30.401+0000</td></tr></tbody></table></div>"
      ]
     },
     "metadata": {
      "application/vnd.databricks.v1+output": {
       "addedWidgets": {},
       "aggData": [],
       "aggError": "",
       "aggOverflow": false,
       "aggSchema": [],
       "aggSeriesLimitReached": false,
       "aggType": "",
       "arguments": {},
       "columnCustomDisplayInfos": {},
       "data": [
        [
         "Basic Check 2",
         "ComplianceConstraint(Compliance(quantity is non-negative))",
         "FAILURE",
         "0.95",
         "2024-04-09T05:09:39.855+0000"
        ],
        [
         "Basic Check 2",
         "ComplianceConstraint(Compliance(quantity is non-negative))",
         "FAILURE",
         "0.95",
         "2024-04-09T05:11:18.677+0000"
        ],
        [
         "Basic Check 2",
         "ComplianceConstraint(Compliance(quantity is non-negative))",
         "FAILURE",
         "0.95",
         "2024-04-09T05:10:27.335+0000"
        ],
        [
         "Basic Check 2",
         "ComplianceConstraint(Compliance(quantity is non-negative))",
         "FAILURE",
         "0.95",
         "2024-04-09T05:11:03.232+0000"
        ],
        [
         "Basic Check 2",
         "ComplianceConstraint(Compliance(quantity is non-negative))",
         "FAILURE",
         "0.95",
         "2024-04-09T05:11:34.234+0000"
        ],
        [
         "Basic Check 2",
         "ComplianceConstraint(Compliance(quantity is non-negative))",
         "FAILURE",
         "0.95",
         "2024-04-09T05:09:11.713+0000"
        ],
        [
         "Basic Check 2",
         "ComplianceConstraint(Compliance(quantity is non-negative))",
         "FAILURE",
         "0.85",
         "2024-04-09T05:09:35.564+0000"
        ],
        [
         "Basic Check 2",
         "ComplianceConstraint(Compliance(quantity is non-negative))",
         "FAILURE",
         "0.95",
         "2024-04-09T05:09:56.237+0000"
        ],
        [
         "Basic Check 2",
         "ComplianceConstraint(Compliance(quantity is non-negative))",
         "FAILURE",
         "0.95",
         "2024-04-09T05:09:25.423+0000"
        ],
        [
         "Basic Check 2",
         "ComplianceConstraint(Compliance(quantity is non-negative))",
         "FAILURE",
         "0.95",
         "2024-04-09T05:09:15.756+0000"
        ],
        [
         "Basic Check 2",
         "ComplianceConstraint(Compliance(quantity is non-negative))",
         "FAILURE",
         "0.85",
         "2024-04-09T05:09:07.389+0000"
        ],
        [
         "Basic Check 2",
         "ComplianceConstraint(Compliance(quantity is non-negative))",
         "FAILURE",
         "0.95",
         "2024-04-09T05:10:42.903+0000"
        ],
        [
         "Basic Check 2",
         "ComplianceConstraint(Compliance(quantity is non-negative))",
         "FAILURE",
         "0.95",
         "2024-04-09T05:10:37.726+0000"
        ],
        [
         "Basic Check 2",
         "ComplianceConstraint(Compliance(quantity is non-negative))",
         "FAILURE",
         "0.95",
         "2024-04-09T05:10:53.366+0000"
        ],
        [
         "Basic Check 2",
         "ComplianceConstraint(Compliance(quantity is non-negative))",
         "FAILURE",
         "0.95",
         "2024-04-09T05:10:58.620+0000"
        ],
        [
         "Basic Check 2",
         "ComplianceConstraint(Compliance(quantity is non-negative))",
         "FAILURE",
         "0.95",
         "2024-04-09T05:11:12.832+0000"
        ],
        [
         "Basic Check 2",
         "ComplianceConstraint(Compliance(quantity is non-negative))",
         "SUCCESS",
         "1.0",
         "2024-04-09T05:10:16.675+0000"
        ],
        [
         "Basic Check 2",
         "ComplianceConstraint(Compliance(quantity is non-negative))",
         "SUCCESS",
         "1.0",
         "2024-04-09T05:10:01.485+0000"
        ],
        [
         "Basic Check 2",
         "ComplianceConstraint(Compliance(quantity is non-negative))",
         "SUCCESS",
         "1.0",
         "2024-04-09T05:10:48.132+0000"
        ],
        [
         "Basic Check 2",
         "ComplianceConstraint(Compliance(quantity is non-negative))",
         "SUCCESS",
         "1.0",
         "2024-04-09T05:10:11.386+0000"
        ],
        [
         "Basic Check 2",
         "ComplianceConstraint(Compliance(quantity is non-negative))",
         "SUCCESS",
         "1.0",
         "2024-04-09T05:09:50.119+0000"
        ],
        [
         "Basic Check 2",
         "ComplianceConstraint(Compliance(quantity is non-negative))",
         "SUCCESS",
         "1.0",
         "2024-04-09T05:11:24.009+0000"
        ],
        [
         "Basic Check 2",
         "ComplianceConstraint(Compliance(quantity is non-negative))",
         "SUCCESS",
         "1.0",
         "2024-04-09T05:09:45.327+0000"
        ],
        [
         "Basic Check 2",
         "ComplianceConstraint(Compliance(quantity is non-negative))",
         "SUCCESS",
         "1.0",
         "2024-04-09T05:09:30.401+0000"
        ],
        [
         "Basic Check 2",
         "ComplianceConstraint(Compliance(quantity is non-negative))",
         "SUCCESS",
         "1.0",
         "2024-04-09T05:10:21.703+0000"
        ],
        [
         "Basic Check 2",
         "ComplianceConstraint(Compliance(quantity is non-negative))",
         "SUCCESS",
         "1.0",
         "2024-04-09T05:09:21.056+0000"
        ],
        [
         "Basic Check 2",
         "ComplianceConstraint(Compliance(quantity is non-negative))",
         "SUCCESS",
         "1.0",
         "2024-04-09T05:10:32.047+0000"
        ],
        [
         "Basic Check 2",
         "ComplianceConstraint(Compliance(quantity is non-negative))",
         "FAILURE",
         "0.9",
         "2024-04-09T05:11:28.836+0000"
        ],
        [
         "Basic Check 2",
         "ComplianceConstraint(Compliance(quantity is non-negative))",
         "FAILURE",
         "0.9",
         "2024-04-09T05:09:02.690+0000"
        ],
        [
         "Basic Check 2",
         "ComplianceConstraint(Compliance(quantity is non-negative))",
         "FAILURE",
         "0.9",
         "2024-04-09T05:10:05.868+0000"
        ],
        [
         "Basic Check 2",
         "ComplianceConstraint(Compliance(quantity is non-negative))",
         "FAILURE",
         "0.9",
         "2024-04-09T05:11:08.466+0000"
        ],
        [
         "Basic Check 2",
         "CompletenessConstraint(Completeness(ipaddr))",
         "FAILURE",
         "0.95",
         "2024-04-09T05:09:21.056+0000"
        ],
        [
         "Basic Check 2",
         "CompletenessConstraint(Completeness(ipaddr))",
         "FAILURE",
         "0.95",
         "2024-04-09T05:09:39.855+0000"
        ],
        [
         "Basic Check 2",
         "CompletenessConstraint(Completeness(ipaddr))",
         "FAILURE",
         "0.85",
         "2024-04-09T05:11:03.232+0000"
        ],
        [
         "Basic Check 2",
         "CompletenessConstraint(Completeness(ipaddr))",
         "FAILURE",
         "0.95",
         "2024-04-09T05:10:16.675+0000"
        ],
        [
         "Basic Check 2",
         "CompletenessConstraint(Completeness(ipaddr))",
         "FAILURE",
         "0.85",
         "2024-04-09T05:10:37.726+0000"
        ],
        [
         "Basic Check 2",
         "CompletenessConstraint(Completeness(ipaddr))",
         "FAILURE",
         "0.95",
         "2024-04-09T05:09:11.713+0000"
        ],
        [
         "Basic Check 2",
         "CompletenessConstraint(Completeness(ipaddr))",
         "FAILURE",
         "0.95",
         "2024-04-09T05:10:27.335+0000"
        ],
        [
         "Basic Check 2",
         "CompletenessConstraint(Completeness(ipaddr))",
         "FAILURE",
         "0.95",
         "2024-04-09T05:10:42.903+0000"
        ],
        [
         "Basic Check 2",
         "CompletenessConstraint(Completeness(ipaddr))",
         "FAILURE",
         "0.95",
         "2024-04-09T05:11:08.466+0000"
        ],
        [
         "Basic Check 2",
         "CompletenessConstraint(Completeness(ipaddr))",
         "FAILURE",
         "0.95",
         "2024-04-09T05:09:35.564+0000"
        ],
        [
         "Basic Check 2",
         "CompletenessConstraint(Completeness(ipaddr))",
         "FAILURE",
         "0.95",
         "2024-04-09T05:10:05.868+0000"
        ],
        [
         "Basic Check 2",
         "CompletenessConstraint(Completeness(ipaddr))",
         "FAILURE",
         "0.95",
         "2024-04-09T05:10:58.620+0000"
        ],
        [
         "Basic Check 2",
         "CompletenessConstraint(Completeness(ipaddr))",
         "SUCCESS",
         "1.0",
         "2024-04-09T05:10:48.132+0000"
        ],
        [
         "Basic Check 2",
         "CompletenessConstraint(Completeness(ipaddr))",
         "SUCCESS",
         "1.0",
         "2024-04-09T05:09:50.119+0000"
        ],
        [
         "Basic Check 2",
         "CompletenessConstraint(Completeness(ipaddr))",
         "SUCCESS",
         "1.0",
         "2024-04-09T05:10:21.703+0000"
        ],
        [
         "Basic Check 2",
         "CompletenessConstraint(Completeness(ipaddr))",
         "SUCCESS",
         "1.0",
         "2024-04-09T05:11:34.234+0000"
        ],
        [
         "Basic Check 2",
         "CompletenessConstraint(Completeness(ipaddr))",
         "SUCCESS",
         "1.0",
         "2024-04-09T05:09:25.423+0000"
        ],
        [
         "Basic Check 2",
         "CompletenessConstraint(Completeness(ipaddr))",
         "SUCCESS",
         "1.0",
         "2024-04-09T05:10:11.386+0000"
        ],
        [
         "Basic Check 2",
         "CompletenessConstraint(Completeness(ipaddr))",
         "SUCCESS",
         "1.0",
         "2024-04-09T05:09:02.690+0000"
        ],
        [
         "Basic Check 2",
         "CompletenessConstraint(Completeness(ipaddr))",
         "SUCCESS",
         "1.0",
         "2024-04-09T05:09:30.401+0000"
        ],
        [
         "Basic Check 2",
         "CompletenessConstraint(Completeness(ipaddr))",
         "SUCCESS",
         "1.0",
         "2024-04-09T05:11:28.836+0000"
        ],
        [
         "Basic Check 2",
         "CompletenessConstraint(Completeness(ipaddr))",
         "SUCCESS",
         "1.0",
         "2024-04-09T05:11:24.009+0000"
        ],
        [
         "Basic Check 2",
         "CompletenessConstraint(Completeness(ipaddr))",
         "SUCCESS",
         "1.0",
         "2024-04-09T05:09:45.327+0000"
        ],
        [
         "Basic Check 2",
         "CompletenessConstraint(Completeness(ipaddr))",
         "SUCCESS",
         "1.0",
         "2024-04-09T05:10:01.485+0000"
        ],
        [
         "Basic Check 2",
         "CompletenessConstraint(Completeness(ipaddr))",
         "SUCCESS",
         "1.0",
         "2024-04-09T05:09:07.389+0000"
        ],
        [
         "Basic Check 2",
         "CompletenessConstraint(Completeness(ipaddr))",
         "FAILURE",
         "0.9",
         "2024-04-09T05:09:15.756+0000"
        ],
        [
         "Basic Check 2",
         "CompletenessConstraint(Completeness(ipaddr))",
         "FAILURE",
         "0.9",
         "2024-04-09T05:09:56.237+0000"
        ],
        [
         "Basic Check 2",
         "CompletenessConstraint(Completeness(ipaddr))",
         "FAILURE",
         "0.9",
         "2024-04-09T05:11:18.677+0000"
        ],
        [
         "Basic Check 2",
         "CompletenessConstraint(Completeness(ipaddr))",
         "SUCCESS",
         "1.0",
         "2024-04-09T05:10:32.047+0000"
        ],
        [
         "Basic Check 2",
         "CompletenessConstraint(Completeness(ipaddr))",
         "SUCCESS",
         "1.0",
         "2024-04-09T05:11:12.832+0000"
        ],
        [
         "Basic Check 2",
         "CompletenessConstraint(Completeness(ipaddr))",
         "FAILURE",
         "0.9",
         "2024-04-09T05:10:53.366+0000"
        ],
        [
         "Basic Check 2",
         "MaximumConstraint(Maximum(quantity))",
         "SUCCESS",
         "3409.7085",
         "2024-04-09T05:09:11.713+0000"
        ],
        [
         "Basic Check 2",
         "MaximumConstraint(Maximum(quantity))",
         "SUCCESS",
         "3433.6876",
         "2024-04-09T05:09:39.855+0000"
        ],
        [
         "Basic Check 2",
         "MaximumConstraint(Maximum(quantity))",
         "SUCCESS",
         "3289.1355",
         "2024-04-09T05:09:21.056+0000"
        ],
        [
         "Basic Check 2",
         "MaximumConstraint(Maximum(quantity))",
         "SUCCESS",
         "4055.9772",
         "2024-04-09T05:10:42.903+0000"
        ],
        [
         "Basic Check 2",
         "MaximumConstraint(Maximum(quantity))",
         "SUCCESS",
         "3929.5476",
         "2024-04-09T05:11:03.232+0000"
        ],
        [
         "Basic Check 2",
         "MaximumConstraint(Maximum(quantity))",
         "SUCCESS",
         "3696.2062",
         "2024-04-09T05:10:01.485+0000"
        ],
        [
         "Basic Check 2",
         "MaximumConstraint(Maximum(quantity))",
         "SUCCESS",
         "4191.3429",
         "2024-04-09T05:11:18.677+0000"
        ],
        [
         "Basic Check 2",
         "MaximumConstraint(Maximum(quantity))",
         "SUCCESS",
         "3442.4145",
         "2024-04-09T05:10:05.868+0000"
        ],
        [
         "Basic Check 2",
         "MaximumConstraint(Maximum(quantity))",
         "SUCCESS",
         "3786.3752",
         "2024-04-09T05:09:25.423+0000"
        ],
        [
         "Basic Check 2",
         "MaximumConstraint(Maximum(quantity))",
         "SUCCESS",
         "3200.9985",
         "2024-04-09T05:09:50.119+0000"
        ],
        [
         "Basic Check 2",
         "MaximumConstraint(Maximum(quantity))",
         "SUCCESS",
         "3305.2592",
         "2024-04-09T05:10:48.132+0000"
        ],
        [
         "Basic Check 2",
         "MaximumConstraint(Maximum(quantity))",
         "SUCCESS",
         "3369.6448",
         "2024-04-09T05:11:08.466+0000"
        ],
        [
         "Basic Check 2",
         "MaximumConstraint(Maximum(quantity))",
         "SUCCESS",
         "4147.0704",
         "2024-04-09T05:10:37.726+0000"
        ],
        [
         "Basic Check 2",
         "MaximumConstraint(Maximum(quantity))",
         "SUCCESS",
         "3561.9571",
         "2024-04-09T05:09:45.327+0000"
        ],
        [
         "Basic Check 2",
         "MaximumConstraint(Maximum(quantity))",
         "SUCCESS",
         "5133.2374",
         "2024-04-09T05:11:24.009+0000"
        ],
        [
         "Basic Check 2",
         "MaximumConstraint(Maximum(quantity))",
         "SUCCESS",
         "3617.2939",
         "2024-04-09T05:09:56.237+0000"
        ],
        [
         "Basic Check 2",
         "MaximumConstraint(Maximum(quantity))",
         "SUCCESS",
         "3452.7638",
         "2024-04-09T05:10:21.703+0000"
        ],
        [
         "Basic Check 2",
         "MaximumConstraint(Maximum(quantity))",
         "SUCCESS",
         "4172.3773",
         "2024-04-09T05:11:28.836+0000"
        ],
        [
         "Basic Check 2",
         "MaximumConstraint(Maximum(quantity))",
         "SUCCESS",
         "3922.7952",
         "2024-04-09T05:10:11.386+0000"
        ],
        [
         "Basic Check 2",
         "MaximumConstraint(Maximum(quantity))",
         "SUCCESS",
         "3076.2633",
         "2024-04-09T05:09:35.564+0000"
        ],
        [
         "Basic Check 2",
         "MaximumConstraint(Maximum(quantity))",
         "SUCCESS",
         "3802.7184",
         "2024-04-09T05:09:15.756+0000"
        ],
        [
         "Basic Check 2",
         "MaximumConstraint(Maximum(quantity))",
         "SUCCESS",
         "2826.6056",
         "2024-04-09T05:09:02.690+0000"
        ],
        [
         "Basic Check 2",
         "MaximumConstraint(Maximum(quantity))",
         "SUCCESS",
         "3089.9904",
         "2024-04-09T05:10:32.047+0000"
        ],
        [
         "Basic Check 2",
         "MaximumConstraint(Maximum(quantity))",
         "SUCCESS",
         "3418.5777",
         "2024-04-09T05:10:58.620+0000"
        ],
        [
         "Basic Check 2",
         "MaximumConstraint(Maximum(quantity))",
         "SUCCESS",
         "3332.4048",
         "2024-04-09T05:11:12.832+0000"
        ],
        [
         "Basic Check 2",
         "MaximumConstraint(Maximum(quantity))",
         "SUCCESS",
         "4050.1125",
         "2024-04-09T05:11:34.234+0000"
        ],
        [
         "Basic Check 2",
         "MaximumConstraint(Maximum(quantity))",
         "SUCCESS",
         "4221.8248",
         "2024-04-09T05:10:53.366+0000"
        ],
        [
         "Basic Check 2",
         "MaximumConstraint(Maximum(quantity))",
         "SUCCESS",
         "3132.193",
         "2024-04-09T05:10:16.675+0000"
        ],
        [
         "Basic Check 2",
         "MaximumConstraint(Maximum(quantity))",
         "SUCCESS",
         "4928.359",
         "2024-04-09T05:09:07.389+0000"
        ],
        [
         "Basic Check 2",
         "MaximumConstraint(Maximum(quantity))",
         "SUCCESS",
         "2956.745",
         "2024-04-09T05:10:27.335+0000"
        ],
        [
         "Basic Check 2",
         "MaximumConstraint(Maximum(quantity))",
         "SUCCESS",
         "3233.7",
         "2024-04-09T05:09:30.401+0000"
        ]
       ],
       "datasetInfos": [],
       "dbfsResultPath": null,
       "isJsonSchema": true,
       "metadata": {},
       "overflow": false,
       "plotOptions": {
        "customPlotOptions": {},
        "displayType": "table",
        "pivotAggregation": null,
        "pivotColumns": null,
        "xColumns": null,
        "yColumns": null
       },
       "removedWidgets": [],
       "schema": [
        {
         "metadata": "{}",
         "name": "Check",
         "type": "\"string\""
        },
        {
         "metadata": "{}",
         "name": "Constraint",
         "type": "\"string\""
        },
        {
         "metadata": "{}",
         "name": "Status",
         "type": "\"string\""
        },
        {
         "metadata": "{}",
         "name": "Metric",
         "type": "\"string\""
        },
        {
         "metadata": "{}",
         "name": "ts",
         "type": "\"timestamp\""
        }
       ],
       "type": "table"
      }
     },
     "output_type": "display_data"
    }
   ],
   "source": [
    "%scala\n",
    "display(spark.readStream.format(\"delta\")\n",
    "        .option(\"ignoreChanges\", \"true\")\n",
    "        .table(\"duck_metrics\"))"
   ]
  },
  {
   "cell_type": "code",
   "execution_count": null,
   "metadata": {
    "application/vnd.databricks.v1+cell": {
     "cellMetadata": {
      "byteLimit": 2048000,
      "rowLimit": 10000
     },
     "inputWidgets": {},
     "nuid": "9621507f-995f-421a-9794-4d155f7d2a6c",
     "showTitle": false,
     "title": ""
    }
   },
   "outputs": [
    {
     "data": {
      "text/html": [
       "<style scoped>\n",
       "  .table-result-container {\n",
       "    max-height: 300px;\n",
       "    overflow: auto;\n",
       "  }\n",
       "  table, th, td {\n",
       "    border: 1px solid black;\n",
       "    border-collapse: collapse;\n",
       "  }\n",
       "  th, td {\n",
       "    padding: 5px;\n",
       "  }\n",
       "  th {\n",
       "    text-align: left;\n",
       "  }\n",
       "</style><div class='table-result-container'><table class='table-result'><thead style='background-color: white'><tr><th>Check</th><th>Constraint</th><th>Status</th><th>Metric</th><th>ts</th></tr></thead><tbody><tr><td>Basic Check 2</td><td>CompletenessConstraint(Completeness(price))</td><td>FAILURE</td><td>0.9666666666666667</td><td>2024-04-09T05:32:47.410+0000</td></tr><tr><td>Basic Check 2</td><td>CompletenessConstraint(Completeness(quantity))</td><td>FAILURE</td><td>0.95</td><td>2024-04-09T05:31:58.023+0000</td></tr><tr><td>Basic Check 2</td><td>CompletenessConstraint(Completeness(quantity))</td><td>FAILURE</td><td>0.95</td><td>2024-04-09T05:32:51.730+0000</td></tr><tr><td>Basic Check 2</td><td>CompletenessConstraint(Completeness(quantity))</td><td>FAILURE</td><td>0.95</td><td>2024-04-09T05:33:21.859+0000</td></tr><tr><td>Basic Check 2</td><td>CompletenessConstraint(Completeness(quantity))</td><td>FAILURE</td><td>0.95</td><td>2024-04-09T05:33:11.825+0000</td></tr><tr><td>Basic Check 2</td><td>CompletenessConstraint(Completeness(quantity))</td><td>FAILURE</td><td>0.95</td><td>2024-04-09T05:31:16.362+0000</td></tr><tr><td>Basic Check 2</td><td>CompletenessConstraint(Completeness(quantity))</td><td>FAILURE</td><td>0.85</td><td>2024-04-09T05:31:34.234+0000</td></tr><tr><td>Basic Check 2</td><td>CompletenessConstraint(Completeness(quantity))</td><td>FAILURE</td><td>0.95</td><td>2024-04-09T05:31:12.306+0000</td></tr><tr><td>Basic Check 2</td><td>CompletenessConstraint(Completeness(quantity))</td><td>FAILURE</td><td>0.95</td><td>2024-04-09T05:33:02.140+0000</td></tr><tr><td>Basic Check 2</td><td>CompletenessConstraint(Completeness(quantity))</td><td>FAILURE</td><td>0.95</td><td>2024-04-09T05:32:41.513+0000</td></tr><tr><td>Basic Check 2</td><td>CompletenessConstraint(Completeness(quantity))</td><td>FAILURE</td><td>0.95</td><td>2024-04-09T05:32:02.947+0000</td></tr><tr><td>Basic Check 2</td><td>CompletenessConstraint(Completeness(quantity))</td><td>SUCCESS</td><td>1.0</td><td>2024-04-09T05:31:20.731+0000</td></tr><tr><td>Basic Check 2</td><td>CompletenessConstraint(Completeness(quantity))</td><td>SUCCESS</td><td>1.0</td><td>2024-04-09T05:32:35.557+0000</td></tr><tr><td>Basic Check 2</td><td>CompletenessConstraint(Completeness(quantity))</td><td>SUCCESS</td><td>1.0</td><td>2024-04-09T05:33:16.714+0000</td></tr><tr><td>Basic Check 2</td><td>CompletenessConstraint(Completeness(quantity))</td><td>SUCCESS</td><td>1.0</td><td>2024-04-09T05:31:39.507+0000</td></tr><tr><td>Basic Check 2</td><td>CompletenessConstraint(Completeness(quantity))</td><td>SUCCESS</td><td>1.0</td><td>2024-04-09T05:32:30.999+0000</td></tr><tr><td>Basic Check 2</td><td>CompletenessConstraint(Completeness(quantity))</td><td>SUCCESS</td><td>1.0</td><td>2024-04-09T05:32:21.221+0000</td></tr><tr><td>Basic Check 2</td><td>CompletenessConstraint(Completeness(quantity))</td><td>SUCCESS</td><td>1.0</td><td>2024-04-09T05:31:43.433+0000</td></tr><tr><td>Basic Check 2</td><td>CompletenessConstraint(Completeness(quantity))</td><td>SUCCESS</td><td>1.0</td><td>2024-04-09T05:32:47.410+0000</td></tr><tr><td>Basic Check 2</td><td>CompletenessConstraint(Completeness(quantity))</td><td>SUCCESS</td><td>1.0</td><td>2024-04-09T05:32:17.164+0000</td></tr><tr><td>Basic Check 2</td><td>CompletenessConstraint(Completeness(quantity))</td><td>SUCCESS</td><td>1.0</td><td>2024-04-09T05:33:06.538+0000</td></tr><tr><td>Basic Check 2</td><td>CompletenessConstraint(Completeness(quantity))</td><td>SUCCESS</td><td>1.0</td><td>2024-04-09T05:32:56.975+0000</td></tr><tr><td>Basic Check 2</td><td>CompletenessConstraint(Completeness(quantity))</td><td>SUCCESS</td><td>1.0</td><td>2024-04-09T05:31:07.379+0000</td></tr><tr><td>Basic Check 2</td><td>CompletenessConstraint(Completeness(quantity))</td><td>SUCCESS</td><td>1.0</td><td>2024-04-09T05:31:25.134+0000</td></tr><tr><td>Basic Check 2</td><td>CompletenessConstraint(Completeness(quantity))</td><td>SUCCESS</td><td>1.0</td><td>2024-04-09T05:31:48.243+0000</td></tr><tr><td>Basic Check 2</td><td>CompletenessConstraint(Completeness(quantity))</td><td>SUCCESS</td><td>1.0</td><td>2024-04-09T05:32:08.078+0000</td></tr><tr><td>Basic Check 2</td><td>CompletenessConstraint(Completeness(quantity))</td><td>FAILURE</td><td>0.9</td><td>2024-04-09T05:31:30.438+0000</td></tr><tr><td>Basic Check 2</td><td>CompletenessConstraint(Completeness(quantity))</td><td>FAILURE</td><td>0.8</td><td>2024-04-09T05:32:12.239+0000</td></tr><tr><td>Basic Check 2</td><td>CompletenessConstraint(Completeness(quantity))</td><td>FAILURE</td><td>0.9</td><td>2024-04-09T05:31:53.340+0000</td></tr><tr><td>Basic Check 2</td><td>CompletenessConstraint(Completeness(quantity))</td><td>SUCCESS</td><td>1.0</td><td>2024-04-09T05:32:26.352+0000</td></tr><tr><td>Basic Check 2</td><td>CompletenessConstraint(Completeness(ipaddr))</td><td>FAILURE</td><td>0.85</td><td>2024-04-09T05:32:35.557+0000</td></tr><tr><td>Basic Check 2</td><td>CompletenessConstraint(Completeness(ipaddr))</td><td>FAILURE</td><td>0.95</td><td>2024-04-09T05:32:41.513+0000</td></tr><tr><td>Basic Check 2</td><td>CompletenessConstraint(Completeness(ipaddr))</td><td>FAILURE</td><td>0.95</td><td>2024-04-09T05:32:56.975+0000</td></tr><tr><td>Basic Check 2</td><td>CompletenessConstraint(Completeness(ipaddr))</td><td>FAILURE</td><td>0.95</td><td>2024-04-09T05:31:16.362+0000</td></tr><tr><td>Basic Check 2</td><td>CompletenessConstraint(Completeness(ipaddr))</td><td>FAILURE</td><td>0.95</td><td>2024-04-09T05:33:06.538+0000</td></tr><tr><td>Basic Check 2</td><td>CompletenessConstraint(Completeness(ipaddr))</td><td>FAILURE</td><td>0.95</td><td>2024-04-09T05:31:43.433+0000</td></tr><tr><td>Basic Check 2</td><td>CompletenessConstraint(Completeness(ipaddr))</td><td>FAILURE</td><td>0.95</td><td>2024-04-09T05:31:25.134+0000</td></tr><tr><td>Basic Check 2</td><td>CompletenessConstraint(Completeness(ipaddr))</td><td>FAILURE</td><td>0.85</td><td>2024-04-09T05:33:02.140+0000</td></tr><tr><td>Basic Check 2</td><td>CompletenessConstraint(Completeness(ipaddr))</td><td>FAILURE</td><td>0.95</td><td>2024-04-09T05:31:39.507+0000</td></tr><tr><td>Basic Check 2</td><td>CompletenessConstraint(Completeness(ipaddr))</td><td>FAILURE</td><td>0.95</td><td>2024-04-09T05:32:21.221+0000</td></tr><tr><td>Basic Check 2</td><td>CompletenessConstraint(Completeness(ipaddr))</td><td>FAILURE</td><td>0.95</td><td>2024-04-09T05:32:12.239+0000</td></tr><tr><td>Basic Check 2</td><td>CompletenessConstraint(Completeness(ipaddr))</td><td>FAILURE</td><td>0.95</td><td>2024-04-09T05:32:26.352+0000</td></tr><tr><td>Basic Check 2</td><td>CompletenessConstraint(Completeness(price))</td><td>FAILURE</td><td>0.95</td><td>2024-04-09T05:31:25.134+0000</td></tr><tr><td>Basic Check 2</td><td>CompletenessConstraint(Completeness(price))</td><td>FAILURE</td><td>0.95</td><td>2024-04-09T05:31:30.438+0000</td></tr><tr><td>Basic Check 2</td><td>CompletenessConstraint(Completeness(price))</td><td>FAILURE</td><td>0.95</td><td>2024-04-09T05:32:30.999+0000</td></tr><tr><td>Basic Check 2</td><td>CompletenessConstraint(Completeness(price))</td><td>FAILURE</td><td>0.95</td><td>2024-04-09T05:31:39.507+0000</td></tr><tr><td>Basic Check 2</td><td>CompletenessConstraint(Completeness(price))</td><td>FAILURE</td><td>0.95</td><td>2024-04-09T05:31:48.243+0000</td></tr><tr><td>Basic Check 2</td><td>CompletenessConstraint(Completeness(price))</td><td>FAILURE</td><td>0.95</td><td>2024-04-09T05:32:51.730+0000</td></tr><tr><td>Basic Check 2</td><td>CompletenessConstraint(Completeness(price))</td><td>FAILURE</td><td>0.95</td><td>2024-04-09T05:31:20.731+0000</td></tr><tr><td>Basic Check 2</td><td>CompletenessConstraint(Completeness(price))</td><td>FAILURE</td><td>0.95</td><td>2024-04-09T05:32:21.221+0000</td></tr><tr><td>Basic Check 2</td><td>CompletenessConstraint(Completeness(price))</td><td>FAILURE</td><td>0.95</td><td>2024-04-09T05:31:53.340+0000</td></tr><tr><td>Basic Check 2</td><td>CompletenessConstraint(Completeness(price))</td><td>FAILURE</td><td>0.95</td><td>2024-04-09T05:31:16.362+0000</td></tr><tr><td>Basic Check 2</td><td>CompletenessConstraint(Completeness(ipaddr))</td><td>SUCCESS</td><td>1.0</td><td>2024-04-09T05:33:21.859+0000</td></tr><tr><td>Basic Check 2</td><td>CompletenessConstraint(Completeness(ipaddr))</td><td>SUCCESS</td><td>1.0</td><td>2024-04-09T05:33:11.825+0000</td></tr><tr><td>Basic Check 2</td><td>CompletenessConstraint(Completeness(ipaddr))</td><td>SUCCESS</td><td>1.0</td><td>2024-04-09T05:31:07.379+0000</td></tr><tr><td>Basic Check 2</td><td>CompletenessConstraint(Completeness(ipaddr))</td><td>SUCCESS</td><td>1.0</td><td>2024-04-09T05:32:17.164+0000</td></tr><tr><td>Basic Check 2</td><td>CompletenessConstraint(Completeness(ipaddr))</td><td>SUCCESS</td><td>1.0</td><td>2024-04-09T05:32:08.078+0000</td></tr><tr><td>Basic Check 2</td><td>CompletenessConstraint(Completeness(ipaddr))</td><td>SUCCESS</td><td>1.0</td><td>2024-04-09T05:31:12.306+0000</td></tr><tr><td>Basic Check 2</td><td>CompletenessConstraint(Completeness(ipaddr))</td><td>SUCCESS</td><td>1.0</td><td>2024-04-09T05:31:48.243+0000</td></tr><tr><td>Basic Check 2</td><td>CompletenessConstraint(Completeness(ipaddr))</td><td>SUCCESS</td><td>1.0</td><td>2024-04-09T05:31:34.234+0000</td></tr><tr><td>Basic Check 2</td><td>CompletenessConstraint(Completeness(ipaddr))</td><td>SUCCESS</td><td>1.0</td><td>2024-04-09T05:32:30.999+0000</td></tr><tr><td>Basic Check 2</td><td>CompletenessConstraint(Completeness(ipaddr))</td><td>SUCCESS</td><td>1.0</td><td>2024-04-09T05:32:47.410+0000</td></tr><tr><td>Basic Check 2</td><td>CompletenessConstraint(Completeness(ipaddr))</td><td>SUCCESS</td><td>1.0</td><td>2024-04-09T05:31:30.438+0000</td></tr><tr><td>Basic Check 2</td><td>CompletenessConstraint(Completeness(ipaddr))</td><td>SUCCESS</td><td>1.0</td><td>2024-04-09T05:31:53.340+0000</td></tr><tr><td>Basic Check 2</td><td>CompletenessConstraint(Completeness(ipaddr))</td><td>SUCCESS</td><td>1.0</td><td>2024-04-09T05:32:02.947+0000</td></tr><tr><td>Basic Check 2</td><td>CompletenessConstraint(Completeness(ipaddr))</td><td>FAILURE</td><td>0.9</td><td>2024-04-09T05:33:16.714+0000</td></tr><tr><td>Basic Check 2</td><td>CompletenessConstraint(Completeness(ipaddr))</td><td>FAILURE</td><td>0.9</td><td>2024-04-09T05:31:20.731+0000</td></tr><tr><td>Basic Check 2</td><td>CompletenessConstraint(Completeness(ipaddr))</td><td>FAILURE</td><td>0.9</td><td>2024-04-09T05:32:51.730+0000</td></tr><tr><td>Basic Check 2</td><td>CompletenessConstraint(Completeness(ipaddr))</td><td>FAILURE</td><td>0.9</td><td>2024-04-09T05:31:58.023+0000</td></tr><tr><td>Basic Check 2</td><td>CompletenessConstraint(Completeness(price))</td><td>SUCCESS</td><td>1.0</td><td>2024-04-09T05:31:43.433+0000</td></tr><tr><td>Basic Check 2</td><td>CompletenessConstraint(Completeness(price))</td><td>SUCCESS</td><td>1.0</td><td>2024-04-09T05:32:56.975+0000</td></tr><tr><td>Basic Check 2</td><td>CompletenessConstraint(Completeness(price))</td><td>SUCCESS</td><td>1.0</td><td>2024-04-09T05:33:11.825+0000</td></tr><tr><td>Basic Check 2</td><td>CompletenessConstraint(Completeness(price))</td><td>SUCCESS</td><td>1.0</td><td>2024-04-09T05:33:16.714+0000</td></tr><tr><td>Basic Check 2</td><td>CompletenessConstraint(Completeness(price))</td><td>SUCCESS</td><td>1.0</td><td>2024-04-09T05:33:21.859+0000</td></tr><tr><td>Basic Check 2</td><td>CompletenessConstraint(Completeness(price))</td><td>SUCCESS</td><td>1.0</td><td>2024-04-09T05:32:08.078+0000</td></tr><tr><td>Basic Check 2</td><td>CompletenessConstraint(Completeness(price))</td><td>SUCCESS</td><td>1.0</td><td>2024-04-09T05:33:06.538+0000</td></tr><tr><td>Basic Check 2</td><td>CompletenessConstraint(Completeness(price))</td><td>SUCCESS</td><td>1.0</td><td>2024-04-09T05:32:41.513+0000</td></tr><tr><td>Basic Check 2</td><td>CompletenessConstraint(Completeness(price))</td><td>SUCCESS</td><td>1.0</td><td>2024-04-09T05:31:12.306+0000</td></tr><tr><td>Basic Check 2</td><td>CompletenessConstraint(Completeness(price))</td><td>SUCCESS</td><td>1.0</td><td>2024-04-09T05:31:07.379+0000</td></tr><tr><td>Basic Check 2</td><td>CompletenessConstraint(Completeness(price))</td><td>SUCCESS</td><td>1.0</td><td>2024-04-09T05:32:12.239+0000</td></tr><tr><td>Basic Check 2</td><td>CompletenessConstraint(Completeness(price))</td><td>SUCCESS</td><td>1.0</td><td>2024-04-09T05:32:17.164+0000</td></tr><tr><td>Basic Check 2</td><td>CompletenessConstraint(Completeness(price))</td><td>SUCCESS</td><td>1.0</td><td>2024-04-09T05:33:02.140+0000</td></tr><tr><td>Basic Check 2</td><td>CompletenessConstraint(Completeness(price))</td><td>SUCCESS</td><td>1.0</td><td>2024-04-09T05:31:58.023+0000</td></tr><tr><td>Basic Check 2</td><td>CompletenessConstraint(Completeness(price))</td><td>FAILURE</td><td>0.9</td><td>2024-04-09T05:32:35.557+0000</td></tr><tr><td>Basic Check 2</td><td>CompletenessConstraint(Completeness(price))</td><td>SUCCESS</td><td>1.0</td><td>2024-04-09T05:32:26.352+0000</td></tr><tr><td>Basic Check 2</td><td>CompletenessConstraint(Completeness(price))</td><td>FAILURE</td><td>0.9</td><td>2024-04-09T05:31:34.234+0000</td></tr><tr><td>Basic Check 2</td><td>CompletenessConstraint(Completeness(price))</td><td>FAILURE</td><td>0.9</td><td>2024-04-09T05:32:02.947+0000</td></tr></tbody></table></div>"
      ]
     },
     "metadata": {
      "application/vnd.databricks.v1+output": {
       "addedWidgets": {},
       "aggData": [],
       "aggError": "",
       "aggOverflow": false,
       "aggSchema": [],
       "aggSeriesLimitReached": false,
       "aggType": "",
       "arguments": {},
       "columnCustomDisplayInfos": {},
       "data": [
        [
         "Basic Check 2",
         "CompletenessConstraint(Completeness(price))",
         "FAILURE",
         0.9666666666666667,
         "2024-04-09T05:32:47.410+0000"
        ],
        [
         "Basic Check 2",
         "CompletenessConstraint(Completeness(quantity))",
         "FAILURE",
         0.95,
         "2024-04-09T05:31:58.023+0000"
        ],
        [
         "Basic Check 2",
         "CompletenessConstraint(Completeness(quantity))",
         "FAILURE",
         0.95,
         "2024-04-09T05:32:51.730+0000"
        ],
        [
         "Basic Check 2",
         "CompletenessConstraint(Completeness(quantity))",
         "FAILURE",
         0.95,
         "2024-04-09T05:33:21.859+0000"
        ],
        [
         "Basic Check 2",
         "CompletenessConstraint(Completeness(quantity))",
         "FAILURE",
         0.95,
         "2024-04-09T05:33:11.825+0000"
        ],
        [
         "Basic Check 2",
         "CompletenessConstraint(Completeness(quantity))",
         "FAILURE",
         0.95,
         "2024-04-09T05:31:16.362+0000"
        ],
        [
         "Basic Check 2",
         "CompletenessConstraint(Completeness(quantity))",
         "FAILURE",
         0.85,
         "2024-04-09T05:31:34.234+0000"
        ],
        [
         "Basic Check 2",
         "CompletenessConstraint(Completeness(quantity))",
         "FAILURE",
         0.95,
         "2024-04-09T05:31:12.306+0000"
        ],
        [
         "Basic Check 2",
         "CompletenessConstraint(Completeness(quantity))",
         "FAILURE",
         0.95,
         "2024-04-09T05:33:02.140+0000"
        ],
        [
         "Basic Check 2",
         "CompletenessConstraint(Completeness(quantity))",
         "FAILURE",
         0.95,
         "2024-04-09T05:32:41.513+0000"
        ],
        [
         "Basic Check 2",
         "CompletenessConstraint(Completeness(quantity))",
         "FAILURE",
         0.95,
         "2024-04-09T05:32:02.947+0000"
        ],
        [
         "Basic Check 2",
         "CompletenessConstraint(Completeness(quantity))",
         "SUCCESS",
         1,
         "2024-04-09T05:31:20.731+0000"
        ],
        [
         "Basic Check 2",
         "CompletenessConstraint(Completeness(quantity))",
         "SUCCESS",
         1,
         "2024-04-09T05:32:35.557+0000"
        ],
        [
         "Basic Check 2",
         "CompletenessConstraint(Completeness(quantity))",
         "SUCCESS",
         1,
         "2024-04-09T05:33:16.714+0000"
        ],
        [
         "Basic Check 2",
         "CompletenessConstraint(Completeness(quantity))",
         "SUCCESS",
         1,
         "2024-04-09T05:31:39.507+0000"
        ],
        [
         "Basic Check 2",
         "CompletenessConstraint(Completeness(quantity))",
         "SUCCESS",
         1,
         "2024-04-09T05:32:30.999+0000"
        ],
        [
         "Basic Check 2",
         "CompletenessConstraint(Completeness(quantity))",
         "SUCCESS",
         1,
         "2024-04-09T05:32:21.221+0000"
        ],
        [
         "Basic Check 2",
         "CompletenessConstraint(Completeness(quantity))",
         "SUCCESS",
         1,
         "2024-04-09T05:31:43.433+0000"
        ],
        [
         "Basic Check 2",
         "CompletenessConstraint(Completeness(quantity))",
         "SUCCESS",
         1,
         "2024-04-09T05:32:47.410+0000"
        ],
        [
         "Basic Check 2",
         "CompletenessConstraint(Completeness(quantity))",
         "SUCCESS",
         1,
         "2024-04-09T05:32:17.164+0000"
        ],
        [
         "Basic Check 2",
         "CompletenessConstraint(Completeness(quantity))",
         "SUCCESS",
         1,
         "2024-04-09T05:33:06.538+0000"
        ],
        [
         "Basic Check 2",
         "CompletenessConstraint(Completeness(quantity))",
         "SUCCESS",
         1,
         "2024-04-09T05:32:56.975+0000"
        ],
        [
         "Basic Check 2",
         "CompletenessConstraint(Completeness(quantity))",
         "SUCCESS",
         1,
         "2024-04-09T05:31:07.379+0000"
        ],
        [
         "Basic Check 2",
         "CompletenessConstraint(Completeness(quantity))",
         "SUCCESS",
         1,
         "2024-04-09T05:31:25.134+0000"
        ],
        [
         "Basic Check 2",
         "CompletenessConstraint(Completeness(quantity))",
         "SUCCESS",
         1,
         "2024-04-09T05:31:48.243+0000"
        ],
        [
         "Basic Check 2",
         "CompletenessConstraint(Completeness(quantity))",
         "SUCCESS",
         1,
         "2024-04-09T05:32:08.078+0000"
        ],
        [
         "Basic Check 2",
         "CompletenessConstraint(Completeness(quantity))",
         "FAILURE",
         0.9,
         "2024-04-09T05:31:30.438+0000"
        ],
        [
         "Basic Check 2",
         "CompletenessConstraint(Completeness(quantity))",
         "FAILURE",
         0.8,
         "2024-04-09T05:32:12.239+0000"
        ],
        [
         "Basic Check 2",
         "CompletenessConstraint(Completeness(quantity))",
         "FAILURE",
         0.9,
         "2024-04-09T05:31:53.340+0000"
        ],
        [
         "Basic Check 2",
         "CompletenessConstraint(Completeness(quantity))",
         "SUCCESS",
         1,
         "2024-04-09T05:32:26.352+0000"
        ],
        [
         "Basic Check 2",
         "CompletenessConstraint(Completeness(ipaddr))",
         "FAILURE",
         0.85,
         "2024-04-09T05:32:35.557+0000"
        ],
        [
         "Basic Check 2",
         "CompletenessConstraint(Completeness(ipaddr))",
         "FAILURE",
         0.95,
         "2024-04-09T05:32:41.513+0000"
        ],
        [
         "Basic Check 2",
         "CompletenessConstraint(Completeness(ipaddr))",
         "FAILURE",
         0.95,
         "2024-04-09T05:32:56.975+0000"
        ],
        [
         "Basic Check 2",
         "CompletenessConstraint(Completeness(ipaddr))",
         "FAILURE",
         0.95,
         "2024-04-09T05:31:16.362+0000"
        ],
        [
         "Basic Check 2",
         "CompletenessConstraint(Completeness(ipaddr))",
         "FAILURE",
         0.95,
         "2024-04-09T05:33:06.538+0000"
        ],
        [
         "Basic Check 2",
         "CompletenessConstraint(Completeness(ipaddr))",
         "FAILURE",
         0.95,
         "2024-04-09T05:31:43.433+0000"
        ],
        [
         "Basic Check 2",
         "CompletenessConstraint(Completeness(ipaddr))",
         "FAILURE",
         0.95,
         "2024-04-09T05:31:25.134+0000"
        ],
        [
         "Basic Check 2",
         "CompletenessConstraint(Completeness(ipaddr))",
         "FAILURE",
         0.85,
         "2024-04-09T05:33:02.140+0000"
        ],
        [
         "Basic Check 2",
         "CompletenessConstraint(Completeness(ipaddr))",
         "FAILURE",
         0.95,
         "2024-04-09T05:31:39.507+0000"
        ],
        [
         "Basic Check 2",
         "CompletenessConstraint(Completeness(ipaddr))",
         "FAILURE",
         0.95,
         "2024-04-09T05:32:21.221+0000"
        ],
        [
         "Basic Check 2",
         "CompletenessConstraint(Completeness(ipaddr))",
         "FAILURE",
         0.95,
         "2024-04-09T05:32:12.239+0000"
        ],
        [
         "Basic Check 2",
         "CompletenessConstraint(Completeness(ipaddr))",
         "FAILURE",
         0.95,
         "2024-04-09T05:32:26.352+0000"
        ],
        [
         "Basic Check 2",
         "CompletenessConstraint(Completeness(price))",
         "FAILURE",
         0.95,
         "2024-04-09T05:31:25.134+0000"
        ],
        [
         "Basic Check 2",
         "CompletenessConstraint(Completeness(price))",
         "FAILURE",
         0.95,
         "2024-04-09T05:31:30.438+0000"
        ],
        [
         "Basic Check 2",
         "CompletenessConstraint(Completeness(price))",
         "FAILURE",
         0.95,
         "2024-04-09T05:32:30.999+0000"
        ],
        [
         "Basic Check 2",
         "CompletenessConstraint(Completeness(price))",
         "FAILURE",
         0.95,
         "2024-04-09T05:31:39.507+0000"
        ],
        [
         "Basic Check 2",
         "CompletenessConstraint(Completeness(price))",
         "FAILURE",
         0.95,
         "2024-04-09T05:31:48.243+0000"
        ],
        [
         "Basic Check 2",
         "CompletenessConstraint(Completeness(price))",
         "FAILURE",
         0.95,
         "2024-04-09T05:32:51.730+0000"
        ],
        [
         "Basic Check 2",
         "CompletenessConstraint(Completeness(price))",
         "FAILURE",
         0.95,
         "2024-04-09T05:31:20.731+0000"
        ],
        [
         "Basic Check 2",
         "CompletenessConstraint(Completeness(price))",
         "FAILURE",
         0.95,
         "2024-04-09T05:32:21.221+0000"
        ],
        [
         "Basic Check 2",
         "CompletenessConstraint(Completeness(price))",
         "FAILURE",
         0.95,
         "2024-04-09T05:31:53.340+0000"
        ],
        [
         "Basic Check 2",
         "CompletenessConstraint(Completeness(price))",
         "FAILURE",
         0.95,
         "2024-04-09T05:31:16.362+0000"
        ],
        [
         "Basic Check 2",
         "CompletenessConstraint(Completeness(ipaddr))",
         "SUCCESS",
         1,
         "2024-04-09T05:33:21.859+0000"
        ],
        [
         "Basic Check 2",
         "CompletenessConstraint(Completeness(ipaddr))",
         "SUCCESS",
         1,
         "2024-04-09T05:33:11.825+0000"
        ],
        [
         "Basic Check 2",
         "CompletenessConstraint(Completeness(ipaddr))",
         "SUCCESS",
         1,
         "2024-04-09T05:31:07.379+0000"
        ],
        [
         "Basic Check 2",
         "CompletenessConstraint(Completeness(ipaddr))",
         "SUCCESS",
         1,
         "2024-04-09T05:32:17.164+0000"
        ],
        [
         "Basic Check 2",
         "CompletenessConstraint(Completeness(ipaddr))",
         "SUCCESS",
         1,
         "2024-04-09T05:32:08.078+0000"
        ],
        [
         "Basic Check 2",
         "CompletenessConstraint(Completeness(ipaddr))",
         "SUCCESS",
         1,
         "2024-04-09T05:31:12.306+0000"
        ],
        [
         "Basic Check 2",
         "CompletenessConstraint(Completeness(ipaddr))",
         "SUCCESS",
         1,
         "2024-04-09T05:31:48.243+0000"
        ],
        [
         "Basic Check 2",
         "CompletenessConstraint(Completeness(ipaddr))",
         "SUCCESS",
         1,
         "2024-04-09T05:31:34.234+0000"
        ],
        [
         "Basic Check 2",
         "CompletenessConstraint(Completeness(ipaddr))",
         "SUCCESS",
         1,
         "2024-04-09T05:32:30.999+0000"
        ],
        [
         "Basic Check 2",
         "CompletenessConstraint(Completeness(ipaddr))",
         "SUCCESS",
         1,
         "2024-04-09T05:32:47.410+0000"
        ],
        [
         "Basic Check 2",
         "CompletenessConstraint(Completeness(ipaddr))",
         "SUCCESS",
         1,
         "2024-04-09T05:31:30.438+0000"
        ],
        [
         "Basic Check 2",
         "CompletenessConstraint(Completeness(ipaddr))",
         "SUCCESS",
         1,
         "2024-04-09T05:31:53.340+0000"
        ],
        [
         "Basic Check 2",
         "CompletenessConstraint(Completeness(ipaddr))",
         "SUCCESS",
         1,
         "2024-04-09T05:32:02.947+0000"
        ],
        [
         "Basic Check 2",
         "CompletenessConstraint(Completeness(ipaddr))",
         "FAILURE",
         0.9,
         "2024-04-09T05:33:16.714+0000"
        ],
        [
         "Basic Check 2",
         "CompletenessConstraint(Completeness(ipaddr))",
         "FAILURE",
         0.9,
         "2024-04-09T05:31:20.731+0000"
        ],
        [
         "Basic Check 2",
         "CompletenessConstraint(Completeness(ipaddr))",
         "FAILURE",
         0.9,
         "2024-04-09T05:32:51.730+0000"
        ],
        [
         "Basic Check 2",
         "CompletenessConstraint(Completeness(ipaddr))",
         "FAILURE",
         0.9,
         "2024-04-09T05:31:58.023+0000"
        ],
        [
         "Basic Check 2",
         "CompletenessConstraint(Completeness(price))",
         "SUCCESS",
         1,
         "2024-04-09T05:31:43.433+0000"
        ],
        [
         "Basic Check 2",
         "CompletenessConstraint(Completeness(price))",
         "SUCCESS",
         1,
         "2024-04-09T05:32:56.975+0000"
        ],
        [
         "Basic Check 2",
         "CompletenessConstraint(Completeness(price))",
         "SUCCESS",
         1,
         "2024-04-09T05:33:11.825+0000"
        ],
        [
         "Basic Check 2",
         "CompletenessConstraint(Completeness(price))",
         "SUCCESS",
         1,
         "2024-04-09T05:33:16.714+0000"
        ],
        [
         "Basic Check 2",
         "CompletenessConstraint(Completeness(price))",
         "SUCCESS",
         1,
         "2024-04-09T05:33:21.859+0000"
        ],
        [
         "Basic Check 2",
         "CompletenessConstraint(Completeness(price))",
         "SUCCESS",
         1,
         "2024-04-09T05:32:08.078+0000"
        ],
        [
         "Basic Check 2",
         "CompletenessConstraint(Completeness(price))",
         "SUCCESS",
         1,
         "2024-04-09T05:33:06.538+0000"
        ],
        [
         "Basic Check 2",
         "CompletenessConstraint(Completeness(price))",
         "SUCCESS",
         1,
         "2024-04-09T05:32:41.513+0000"
        ],
        [
         "Basic Check 2",
         "CompletenessConstraint(Completeness(price))",
         "SUCCESS",
         1,
         "2024-04-09T05:31:12.306+0000"
        ],
        [
         "Basic Check 2",
         "CompletenessConstraint(Completeness(price))",
         "SUCCESS",
         1,
         "2024-04-09T05:31:07.379+0000"
        ],
        [
         "Basic Check 2",
         "CompletenessConstraint(Completeness(price))",
         "SUCCESS",
         1,
         "2024-04-09T05:32:12.239+0000"
        ],
        [
         "Basic Check 2",
         "CompletenessConstraint(Completeness(price))",
         "SUCCESS",
         1,
         "2024-04-09T05:32:17.164+0000"
        ],
        [
         "Basic Check 2",
         "CompletenessConstraint(Completeness(price))",
         "SUCCESS",
         1,
         "2024-04-09T05:33:02.140+0000"
        ],
        [
         "Basic Check 2",
         "CompletenessConstraint(Completeness(price))",
         "SUCCESS",
         1,
         "2024-04-09T05:31:58.023+0000"
        ],
        [
         "Basic Check 2",
         "CompletenessConstraint(Completeness(price))",
         "FAILURE",
         0.9,
         "2024-04-09T05:32:35.557+0000"
        ],
        [
         "Basic Check 2",
         "CompletenessConstraint(Completeness(price))",
         "SUCCESS",
         1,
         "2024-04-09T05:32:26.352+0000"
        ],
        [
         "Basic Check 2",
         "CompletenessConstraint(Completeness(price))",
         "FAILURE",
         0.9,
         "2024-04-09T05:31:34.234+0000"
        ],
        [
         "Basic Check 2",
         "CompletenessConstraint(Completeness(price))",
         "FAILURE",
         0.9,
         "2024-04-09T05:32:02.947+0000"
        ]
       ],
       "datasetInfos": [],
       "dbfsResultPath": null,
       "isJsonSchema": true,
       "metadata": {},
       "overflow": false,
       "plotOptions": {
        "customPlotOptions": {},
        "displayType": "table",
        "pivotAggregation": null,
        "pivotColumns": null,
        "xColumns": null,
        "yColumns": null
       },
       "removedWidgets": [],
       "schema": [
        {
         "metadata": "{}",
         "name": "Check",
         "type": "\"string\""
        },
        {
         "metadata": "{}",
         "name": "Constraint",
         "type": "\"string\""
        },
        {
         "metadata": "{}",
         "name": "Status",
         "type": "\"string\""
        },
        {
         "metadata": "{}",
         "name": "Metric",
         "type": "\"double\""
        },
        {
         "metadata": "{}",
         "name": "ts",
         "type": "\"timestamp\""
        }
       ],
       "type": "table"
      }
     },
     "output_type": "display_data"
    },
    {
     "data": {
      "text/plain": [
       "Databricks visualization. Run in Databricks to view."
      ]
     },
     "metadata": {
      "application/vnd.databricks.v1.subcommand+json": {
       "baseErrorDetails": null,
       "bindings": {},
       "collapsed": false,
       "command": "%python\n__backend_agg_display_orig = display\n__backend_agg_dfs = []\ndef __backend_agg_display_new(df):\n    __backend_agg_df_modules = [\"pandas.core.frame\", \"databricks.koalas.frame\", \"pyspark.sql.dataframe\", \"pyspark.pandas.frame\", \"pyspark.sql.connect.dataframe\"]\n    if (type(df).__module__ in __backend_agg_df_modules and type(df).__name__ == 'DataFrame') or isinstance(df, list):\n        __backend_agg_dfs.append(df)\n\ndisplay = __backend_agg_display_new\n\ndef __backend_agg_user_code_fn():\n    import base64\n    exec(base64.standard_b64decode(\"ZnJvbSBweXNwYXJrLnNxbC5zZXNzaW9uIGltcG9ydCBTcGFya1Nlc3Npb24KZnJvbSBweXNwYXJrLnNxbCBpbXBvcnQgUm93CmZyb20gcHlzcGFyay5zcWwuZnVuY3Rpb25zIGltcG9ydCBjdXJyZW50X3RpbWVzdGFtcAppbXBvcnQgcGFuZGFzIGFzIHBkCmZyb20gcHlzcGFyay5zcWwuZnVuY3Rpb25zIGltcG9ydCBjb2wKCmRmID0gc3BhcmsudGFibGUoImR1Y2tfbWV0cmljcyIpCmRmID0gZGYud2l0aENvbHVtbigiTWV0cmljIiwgY29sKCJNZXRyaWMiKS5jYXN0KERvdWJsZVR5cGUoKSkpCgpkaXNwbGF5KGRmKQoKIyBpbXBvcnQgbWF0cGxvdGxpYi5weXBsb3QgYXMgcGx0CiMgaW1wb3J0IG1hdHBsb3RsaWIuZGF0ZXMgYXMgbWRhdGVzCgojIHBsdC5maWd1cmUoZmlnc2l6ZT0oMTAsIDYpKQoKIyAjIFBsb3QgZWFjaCBtZXRyaWMKIyBwbHQucGxvdChwZGZfYVsndHMnXSwgcGRmX2FbJ01ldHJpYyddLCBsYWJlbD0nTWV0cmljIEEnLCBtYXJrZXI9J28nLCBsaW5lc3R5bGU9Jy0nKQojIHBsdC5wbG90KHBkZl9iWyd0cyddLCBwZGZfYlsnTWV0cmljJ10sIGxhYmVsPSdNZXRyaWMgQicsIG1hcmtlcj0nbycsIGxpbmVzdHlsZT0nLScpCiMgcGx0LnBsb3QocGRmX2NbJ3RzJ10sIHBkZl9jWydNZXRyaWMnXSwgbGFiZWw9J01ldHJpYyBDJywgbWFya2VyPSdvJywgbGluZXN0eWxlPSctJykKCiMgIyBGb3JtYXR0aW5nIHRoZSBwbG90CiMgcGx0LnRpdGxlKCdNZXRyaWNzIE92ZXIgVGltZScpCiMgcGx0LnhsYWJlbCgnVGltZXN0YW1wJykKIyBwbHQueWxhYmVsKCdNZXRyaWMgVmFsdWUnKQojIHBsdC5sZWdlbmQoKQojIHBsdC54dGlja3Mocm90YXRpb249NDUpCiMgcGx0LmdjYSgpLnhheGlzLnNldF9tYWpvcl9mb3JtYXR0ZXIobWRhdGVzLkRhdGVGb3JtYXR0ZXIoJyVZLSVtLSVkICVIOiVNOiVTJykpCiMgcGx0LmdjYSgpLnhheGlzLnNldF9tYWpvcl9sb2NhdG9yKG1kYXRlcy5BdXRvRGF0ZUxvY2F0b3IoKSkKCiMgcGx0LnRpZ2h0X2xheW91dCgpICAjIEFkanVzdCBsYXlvdXQgdG8gbm90IGN1dCBvZmYgbGFiZWxzCiMgcGx0LnNob3coKQo=\").decode())\n\ntry:\n    # run user code\n    __backend_agg_user_code_fn()\n\n    #reset display function\n    display = __backend_agg_display_orig\n\n    if len(__backend_agg_dfs) > 0:\n        # create a temp view\n        if type(__backend_agg_dfs[0]).__module__ == \"databricks.koalas.frame\":\n            # koalas dataframe\n            __backend_agg_dfs[0].to_spark().createOrReplaceTempView(\"DatabricksView7eaecae\")\n        elif type(__backend_agg_dfs[0]).__module__ == \"pandas.core.frame\" or isinstance(__backend_agg_dfs[0], list):\n            # pandas dataframe\n            spark.createDataFrame(__backend_agg_dfs[0]).createOrReplaceTempView(\"DatabricksView7eaecae\")\n        else:\n            __backend_agg_dfs[0].createOrReplaceTempView(\"DatabricksView7eaecae\")\n        #run backend agg\n        display(spark.sql(\"\"\"WITH q AS (select * from DatabricksView7eaecae) SELECT `ts`,SUM(`Metric`) `column_131b4d1732`,`Constraint` FROM q GROUP BY `Constraint`,`ts`\"\"\"))\n    else:\n        displayHTML(\"dataframe no longer exists. If you're using dataframe.display(), use display(dataframe) instead.\")\n\n\nfinally:\n    spark.sql(\"drop view if exists DatabricksView7eaecae\")\n    display = __backend_agg_display_orig\n    del __backend_agg_display_new\n    del __backend_agg_display_orig\n    del __backend_agg_dfs\n    del __backend_agg_user_code_fn\n\n",
       "commandTitle": "Visualization 1",
       "commandType": "auto",
       "commandVersion": 0,
       "commentThread": [],
       "commentsVisible": false,
       "contentSha256Hex": null,
       "customPlotOptions": {
        "redashChart": [
         {
          "key": "type",
          "value": "CHART"
         },
         {
          "key": "options",
          "value": {
           "alignYAxesAtZero": true,
           "coefficient": 1,
           "columnConfigurationMap": {
            "series": {
             "column": "Constraint",
             "id": "column_131b4d1734"
            },
            "y": [
             {
              "column": "Metric",
              "id": "column_131b4d1732",
              "transform": "SUM"
             }
            ]
           },
           "dateTimeFormat": "DD/MM/YYYY HH:mm",
           "direction": {
            "type": "counterclockwise"
           },
           "error_y": {
            "type": "data",
            "visible": true
           },
           "globalSeriesType": "column",
           "isAggregationOn": true,
           "legend": {
            "traceorder": "normal"
           },
           "missingValuesAsZero": true,
           "numberFormat": "0,0.[00]",
           "percentFormat": "0[.]00%",
           "series": {
            "error_y": {
             "type": "data",
             "visible": true
            },
            "stacking": null
           },
           "seriesOptions": {
            "column_131b4d1732": {
             "type": "column",
             "yAxis": 0
            }
           },
           "showDataLabels": true,
           "sizemode": "diameter",
           "sortX": true,
           "sortY": true,
           "swappedAxes": false,
           "textFormat": "",
           "useAggregationsUi": true,
           "valuesOptions": {},
           "version": 2,
           "xAxis": {
            "labels": {
             "enabled": true
            },
            "type": "-"
           },
           "yAxis": [
            {
             "type": "-"
            },
            {
             "opposite": true,
             "type": "-"
            }
           ]
          }
         }
        ]
       },
       "datasetPreviewNameToCmdIdMap": {},
       "diffDeletes": [],
       "diffInserts": [],
       "displayType": "redashChart",
       "error": null,
       "errorDetails": null,
       "errorSummary": null,
       "errorTraceType": null,
       "finishTime": 0,
       "globalVars": {},
       "guid": "",
       "height": "auto",
       "hideCommandCode": false,
       "hideCommandResult": false,
       "iPythonMetadata": null,
       "inputWidgets": {},
       "isLockedInExamMode": false,
       "latestUser": "a user",
       "latestUserId": null,
       "listResultMetadata": null,
       "metadata": {},
       "nuid": "94f3e6fc-3840-47e7-8dc8-126958ea6543",
       "origId": 0,
       "parentHierarchy": [],
       "pivotAggregation": null,
       "pivotColumns": null,
       "position": 13,
       "resultDbfsErrorMessage": null,
       "resultDbfsStatus": "INLINED_IN_TREE",
       "results": null,
       "showCommandTitle": false,
       "startTime": 0,
       "state": "input",
       "streamStates": {},
       "subcommandOptions": {
        "queryPlan": {
         "groups": [
          {
           "column": "Constraint",
           "type": "column"
          }
         ],
         "selects": [
          {
           "alias": "column_131b4d1732",
           "args": [
            {
             "column": "Metric",
             "type": "column"
            }
           ],
           "function": "SUM",
           "type": "function"
          },
          {
           "column": "Constraint",
           "type": "column"
          }
         ]
        }
       },
       "submitTime": 0,
       "subtype": "tableResultSubCmd.visualization",
       "tableResultIndex": 0,
       "useConsistentColors": false,
       "version": "CommandV1",
       "width": "auto",
       "workflows": [],
       "xColumns": null,
       "yColumns": null
      }
     },
     "output_type": "display_data"
    },
    {
     "data": {
      "text/plain": [
       "Databricks visualization. Run in Databricks to view."
      ]
     },
     "metadata": {
      "application/vnd.databricks.v1.subcommand+json": {
       "baseErrorDetails": null,
       "bindings": {},
       "collapsed": false,
       "command": "%python\n__backend_agg_display_orig = display\n__backend_agg_dfs = []\ndef __backend_agg_display_new(df):\n    __backend_agg_df_modules = [\"pandas.core.frame\", \"databricks.koalas.frame\", \"pyspark.sql.dataframe\", \"pyspark.pandas.frame\", \"pyspark.sql.connect.dataframe\"]\n    if (type(df).__module__ in __backend_agg_df_modules and type(df).__name__ == 'DataFrame') or isinstance(df, list):\n        __backend_agg_dfs.append(df)\n\ndisplay = __backend_agg_display_new\n\ndef __backend_agg_user_code_fn():\n    import base64\n    exec(base64.standard_b64decode(\"ZnJvbSBweXNwYXJrLnNxbC5zZXNzaW9uIGltcG9ydCBTcGFya1Nlc3Npb24KZnJvbSBweXNwYXJrLnNxbCBpbXBvcnQgUm93CmZyb20gcHlzcGFyay5zcWwuZnVuY3Rpb25zIGltcG9ydCBjdXJyZW50X3RpbWVzdGFtcAppbXBvcnQgcGFuZGFzIGFzIHBkCmZyb20gcHlzcGFyay5zcWwuZnVuY3Rpb25zIGltcG9ydCBjb2wKCmRmID0gc3BhcmsudGFibGUoImR1Y2tfbWV0cmljcyIpCmRmID0gZGYud2l0aENvbHVtbigiTWV0cmljIiwgY29sKCJNZXRyaWMiKS5jYXN0KERvdWJsZVR5cGUoKSkpCmRmX2ZpbHRlcmVkID0gZGYuZmlsdGVyKGNvbCgiQ29uc3RyYWludCIpLnN0YXJ0c3dpdGgoIkNvbXBsZXRlbmVzc0NvbnN0cmFpbnQiKSkKZGlzcGxheShkZl9maWx0ZXJlZCkK\").decode())\n\ntry:\n    # run user code\n    __backend_agg_user_code_fn()\n\n    #reset display function\n    display = __backend_agg_display_orig\n\n    if len(__backend_agg_dfs) > 0:\n        # create a temp view\n        if type(__backend_agg_dfs[0]).__module__ == \"databricks.koalas.frame\":\n            # koalas dataframe\n            __backend_agg_dfs[0].to_spark().createOrReplaceTempView(\"DatabricksView28135d7\")\n        elif type(__backend_agg_dfs[0]).__module__ == \"pandas.core.frame\" or isinstance(__backend_agg_dfs[0], list):\n            # pandas dataframe\n            spark.createDataFrame(__backend_agg_dfs[0]).createOrReplaceTempView(\"DatabricksView28135d7\")\n        else:\n            __backend_agg_dfs[0].createOrReplaceTempView(\"DatabricksView28135d7\")\n        #run backend agg\n        display(spark.sql(\"\"\"WITH q AS (select * from DatabricksView28135d7) SELECT `Status`,SUM(`Metric`) `column_131b4d1753` FROM q GROUP BY `Status`\"\"\"))\n    else:\n        displayHTML(\"dataframe no longer exists. If you're using dataframe.display(), use display(dataframe) instead.\")\n\n\nfinally:\n    spark.sql(\"drop view if exists DatabricksView28135d7\")\n    display = __backend_agg_display_orig\n    del __backend_agg_display_new\n    del __backend_agg_display_orig\n    del __backend_agg_dfs\n    del __backend_agg_user_code_fn\n\n",
       "commandTitle": "Visualization 2",
       "commandType": "auto",
       "commandVersion": 0,
       "commentThread": [],
       "commentsVisible": false,
       "contentSha256Hex": null,
       "customPlotOptions": {
        "redashChart": [
         {
          "key": "type",
          "value": "CHART"
         },
         {
          "key": "options",
          "value": {
           "alignYAxesAtZero": true,
           "coefficient": 1,
           "columnConfigurationMap": {
            "x": {
             "column": "Status",
             "id": "column_131b4d1755"
            },
            "y": [
             {
              "column": "Metric",
              "id": "column_131b4d1753",
              "transform": "SUM"
             }
            ]
           },
           "dateTimeFormat": "DD/MM/YYYY HH:mm",
           "direction": {
            "type": "counterclockwise"
           },
           "error_y": {
            "type": "data",
            "visible": true
           },
           "globalSeriesType": "pie",
           "isAggregationOn": true,
           "legend": {
            "traceorder": "normal"
           },
           "missingValuesAsZero": true,
           "numberFormat": "0,0.[00000]",
           "percentFormat": "0[.]00%",
           "series": {
            "error_y": {
             "type": "data",
             "visible": true
            },
            "stacking": null
           },
           "seriesOptions": {
            "column_131b4d1753": {
             "type": "pie",
             "yAxis": 0
            }
           },
           "showDataLabels": true,
           "sizemode": "diameter",
           "sortX": true,
           "sortY": true,
           "swappedAxes": false,
           "textFormat": "",
           "useAggregationsUi": true,
           "valuesOptions": {},
           "version": 2,
           "xAxis": {
            "labels": {
             "enabled": true
            },
            "type": "-"
           },
           "yAxis": [
            {
             "type": "-"
            },
            {
             "opposite": true,
             "type": "-"
            }
           ]
          }
         }
        ]
       },
       "datasetPreviewNameToCmdIdMap": {},
       "diffDeletes": [],
       "diffInserts": [],
       "displayType": "redashChart",
       "error": null,
       "errorDetails": null,
       "errorSummary": null,
       "errorTraceType": null,
       "finishTime": 0,
       "globalVars": {},
       "guid": "",
       "height": "auto",
       "hideCommandCode": false,
       "hideCommandResult": false,
       "iPythonMetadata": null,
       "inputWidgets": {},
       "isLockedInExamMode": false,
       "latestUser": "a user",
       "latestUserId": null,
       "listResultMetadata": null,
       "metadata": {},
       "nuid": "729bb8e6-3a4c-4f7a-aa02-4705565165c7",
       "origId": 0,
       "parentHierarchy": [],
       "pivotAggregation": null,
       "pivotColumns": null,
       "position": 14,
       "resultDbfsErrorMessage": null,
       "resultDbfsStatus": "INLINED_IN_TREE",
       "results": null,
       "showCommandTitle": false,
       "startTime": 0,
       "state": "input",
       "streamStates": {},
       "subcommandOptions": {
        "queryPlan": {
         "groups": [
          {
           "column": "Status",
           "type": "column"
          }
         ],
         "selects": [
          {
           "column": "Status",
           "type": "column"
          },
          {
           "alias": "column_131b4d1753",
           "args": [
            {
             "column": "Metric",
             "type": "column"
            }
           ],
           "function": "SUM",
           "type": "function"
          }
         ]
        }
       },
       "submitTime": 0,
       "subtype": "tableResultSubCmd.visualization",
       "tableResultIndex": 0,
       "useConsistentColors": false,
       "version": "CommandV1",
       "width": "auto",
       "workflows": [],
       "xColumns": null,
       "yColumns": null
      }
     },
     "output_type": "display_data"
    }
   ],
   "source": [
    "from pyspark.sql.session import SparkSession\n",
    "from pyspark.sql import Row\n",
    "from pyspark.sql.functions import current_timestamp\n",
    "import pandas as pd\n",
    "from pyspark.sql.functions import col\n",
    "\n",
    "df = spark.table(\"duck_metrics\")\n",
    "df = df.withColumn(\"Metric\", col(\"Metric\").cast(DoubleType()))\n",
    "df_filtered = df.filter(col(\"Constraint\").startswith(\"CompletenessConstraint\"))\n",
    "display(df_filtered)\n"
   ]
  },
  {
   "cell_type": "code",
   "execution_count": null,
   "metadata": {
    "application/vnd.databricks.v1+cell": {
     "cellMetadata": {},
     "inputWidgets": {},
     "nuid": "8560ef47-6c0f-4315-95a8-4ee96b375d31",
     "showTitle": false,
     "title": ""
    }
   },
   "outputs": [],
   "source": []
  }
 ],
 "metadata": {
  "application/vnd.databricks.v1+notebook": {
   "dashboards": [],
   "language": "python",
   "notebookMetadata": {
    "mostRecentlyExecutedCommandWithImplicitDF": {
     "commandId": 2385787535382361,
     "dataframes": [
      "_sqldf"
     ]
    },
    "pythonIndentUnit": 4
   },
   "notebookName": "Streaming 2024-04-08 21:04:21",
   "widgets": {}
  },
  "language_info": {
   "name": "python"
  }
 },
 "nbformat": 4,
 "nbformat_minor": 0
}
