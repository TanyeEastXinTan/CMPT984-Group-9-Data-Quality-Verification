{
 "cells": [
  {
   "cell_type": "code",
   "execution_count": null,
   "metadata": {
    "application/vnd.databricks.v1+cell": {
     "cellMetadata": {
      "byteLimit": 2048000,
      "rowLimit": 10000
     },
     "inputWidgets": {},
     "nuid": "3f133065-f45a-4ce2-8ce4-6236ca2fa934",
     "showTitle": false,
     "title": ""
    }
   },
   "outputs": [
    {
     "data": {
      "text/html": [
       "<style scoped>\n",
       "  .ansiout {\n",
       "    display: block;\n",
       "    unicode-bidi: embed;\n",
       "    white-space: pre-wrap;\n",
       "    word-wrap: break-word;\n",
       "    word-break: break-all;\n",
       "    font-family: \"Menlo\", \"Monaco\", \"Consolas\", \"Ubuntu Mono\", \"Source Code Pro\", monospace;\n",
       "    font-size: 13px;\n",
       "    color: #555;\n",
       "    margin-left: 4px;\n",
       "    line-height: 19px;\n",
       "  }\n",
       "</style>\n",
       "<div class=\"ansiout\">  % Total    % Received % Xferd  Average Speed   Time    Time     Time  Current\n",
       "                                 Dload  Upload   Total   Spent    Left  Speed\n",
       "\n",
       "  0     0    0     0    0     0      0      0 --:--:-- --:--:-- --:--:--     0\n",
       "  0     0    0     0    0     0      0      0 --:--:-- --:--:-- --:--:--     0\n",
       "100 65113    0 65113    0     0  41003      0 --:--:--  0:00:01 --:--:-- 40977\n",
       "100  149k    0  149k    0     0  64375      0 --:--:--  0:00:02 --:--:-- 64375\n",
       "</div>"
      ]
     },
     "metadata": {
      "application/vnd.databricks.v1+output": {
       "addedWidgets": {},
       "arguments": {},
       "data": "<div class=\"ansiout\">  % Total    % Received % Xferd  Average Speed   Time    Time     Time  Current\n                                 Dload  Upload   Total   Spent    Left  Speed\n\n  0     0    0     0    0     0      0      0 --:--:-- --:--:-- --:--:--     0\n  0     0    0     0    0     0      0      0 --:--:-- --:--:-- --:--:--     0\n100 65113    0 65113    0     0  41003      0 --:--:--  0:00:01 --:--:-- 40977\n100  149k    0  149k    0     0  64375      0 --:--:--  0:00:02 --:--:-- 64375\n</div>",
       "datasetInfos": [],
       "metadata": {},
       "removedWidgets": [],
       "type": "html"
      }
     },
     "output_type": "display_data"
    }
   ],
   "source": [
    "%sh\n",
    "# clear the delta checkpoint\n",
    "rm -rf /tmp/StreamingDataQuality/\n",
    "rm -rf /dbfs/tmp/StreamingDataQuality/checkpoint\n",
    "\n",
    "# download some generated stock tick data; this is a public Mockaroo endpoint- as such, we can't guarantee availability!\n",
    "curl \"https://api.mockaroo.com/api/2aedaa80?count=1000&key=8eb06b50\" > /tmp/stockTicks.json\n"
   ]
  },
  {
   "cell_type": "code",
   "execution_count": null,
   "metadata": {
    "application/vnd.databricks.v1+cell": {
     "cellMetadata": {
      "byteLimit": 2048000,
      "rowLimit": 10000
     },
     "inputWidgets": {},
     "nuid": "98986e94-e4bd-4b26-9485-94646eda4d33",
     "showTitle": false,
     "title": ""
    }
   },
   "outputs": [
    {
     "data": {
      "text/html": [
       "<style scoped>\n",
       "  .ansiout {\n",
       "    display: block;\n",
       "    unicode-bidi: embed;\n",
       "    white-space: pre-wrap;\n",
       "    word-wrap: break-word;\n",
       "    word-break: break-all;\n",
       "    font-family: \"Menlo\", \"Monaco\", \"Consolas\", \"Ubuntu Mono\", \"Source Code Pro\", monospace;\n",
       "    font-size: 13px;\n",
       "    color: #555;\n",
       "    margin-left: 4px;\n",
       "    line-height: 19px;\n",
       "  }\n",
       "</style>\n",
       "<div class=\"ansiout\">Out[2]: True</div>"
      ]
     },
     "metadata": {
      "application/vnd.databricks.v1+output": {
       "addedWidgets": {},
       "arguments": {},
       "data": "<div class=\"ansiout\">Out[2]: True</div>",
       "datasetInfos": [],
       "metadata": {},
       "removedWidgets": [],
       "type": "html"
      }
     },
     "output_type": "display_data"
    }
   ],
   "source": [
    "dbutils.fs.mv(\"file:/tmp/stockTicks.json\", \"dbfs:/tmp/StreamingDataQuality/stockTicks.json\")"
   ]
  },
  {
   "cell_type": "code",
   "execution_count": null,
   "metadata": {
    "application/vnd.databricks.v1+cell": {
     "cellMetadata": {
      "byteLimit": 2048000,
      "rowLimit": 10000
     },
     "inputWidgets": {},
     "nuid": "0abfa659-04dd-4d95-8069-ceaa82b532df",
     "showTitle": false,
     "title": ""
    }
   },
   "outputs": [
    {
     "data": {
      "text/html": [
       "<style scoped>\n",
       "  .ansiout {\n",
       "    display: block;\n",
       "    unicode-bidi: embed;\n",
       "    white-space: pre-wrap;\n",
       "    word-wrap: break-word;\n",
       "    word-break: break-all;\n",
       "    font-family: \"Menlo\", \"Monaco\", \"Consolas\", \"Ubuntu Mono\", \"Source Code Pro\", monospace;\n",
       "    font-size: 13px;\n",
       "    color: #555;\n",
       "    margin-left: 4px;\n",
       "    line-height: 19px;\n",
       "  }\n",
       "</style>\n",
       "<div class=\"ansiout\"></div>"
      ]
     },
     "metadata": {
      "application/vnd.databricks.v1+output": {
       "addedWidgets": {},
       "arguments": {},
       "data": "<div class=\"ansiout\"></div>",
       "datasetInfos": [],
       "metadata": {},
       "removedWidgets": [],
       "type": "html"
      }
     },
     "output_type": "display_data"
    }
   ],
   "source": [
    "spark.read.json(\"/tmp/StreamingDataQuality/stockTicks.json\").repartition(100).write.mode(\"overwrite\").parquet(\"/tmp/StreamingDataQuality/source/\")"
   ]
  },
  {
   "cell_type": "code",
   "execution_count": null,
   "metadata": {
    "application/vnd.databricks.v1+cell": {
     "cellMetadata": {
      "byteLimit": 2048000,
      "rowLimit": 10000
     },
     "inputWidgets": {},
     "nuid": "d14cdb52-b6d6-4e62-8b10-ad7c46da74d8",
     "showTitle": false,
     "title": ""
    }
   },
   "outputs": [
    {
     "data": {
      "text/html": [
       "<style scoped>\n",
       "  .table-result-container {\n",
       "    max-height: 300px;\n",
       "    overflow: auto;\n",
       "  }\n",
       "  table, th, td {\n",
       "    border: 1px solid black;\n",
       "    border-collapse: collapse;\n",
       "  }\n",
       "  th, td {\n",
       "    padding: 5px;\n",
       "  }\n",
       "  th {\n",
       "    text-align: left;\n",
       "  }\n",
       "</style><div class='table-result-container'><table class='table-result'><thead style='background-color: white'><tr><th>path</th><th>name</th><th>size</th></tr></thead><tbody><tr><td>dbfs:/tmp/StreamingDataQuality/source/_committed_3595284656120321115</td><td>_committed_3595284656120321115</td><td>19813</td></tr><tr><td>dbfs:/tmp/StreamingDataQuality/source/_committed_4687190030274957800</td><td>_committed_4687190030274957800</td><td>20034</td></tr><tr><td>dbfs:/tmp/StreamingDataQuality/source/_committed_8486138945607898488</td><td>_committed_8486138945607898488</td><td>19919</td></tr><tr><td>dbfs:/tmp/StreamingDataQuality/source/_started_3595284656120321115</td><td>_started_3595284656120321115</td><td>0</td></tr><tr><td>dbfs:/tmp/StreamingDataQuality/source/part-00000-tid-3595284656120321115-1d68bd3d-a568-4d99-95ff-e29b69abe587-2-1-c000.snappy.parquet</td><td>part-00000-tid-3595284656120321115-1d68bd3d-a568-4d99-95ff-e29b69abe587-2-1-c000.snappy.parquet</td><td>2761</td></tr><tr><td>dbfs:/tmp/StreamingDataQuality/source/part-00001-tid-3595284656120321115-1d68bd3d-a568-4d99-95ff-e29b69abe587-3-1-c000.snappy.parquet</td><td>part-00001-tid-3595284656120321115-1d68bd3d-a568-4d99-95ff-e29b69abe587-3-1-c000.snappy.parquet</td><td>2761</td></tr><tr><td>dbfs:/tmp/StreamingDataQuality/source/part-00002-tid-3595284656120321115-1d68bd3d-a568-4d99-95ff-e29b69abe587-4-1-c000.snappy.parquet</td><td>part-00002-tid-3595284656120321115-1d68bd3d-a568-4d99-95ff-e29b69abe587-4-1-c000.snappy.parquet</td><td>2763</td></tr><tr><td>dbfs:/tmp/StreamingDataQuality/source/part-00003-tid-3595284656120321115-1d68bd3d-a568-4d99-95ff-e29b69abe587-5-1-c000.snappy.parquet</td><td>part-00003-tid-3595284656120321115-1d68bd3d-a568-4d99-95ff-e29b69abe587-5-1-c000.snappy.parquet</td><td>2742</td></tr><tr><td>dbfs:/tmp/StreamingDataQuality/source/part-00004-tid-3595284656120321115-1d68bd3d-a568-4d99-95ff-e29b69abe587-6-1-c000.snappy.parquet</td><td>part-00004-tid-3595284656120321115-1d68bd3d-a568-4d99-95ff-e29b69abe587-6-1-c000.snappy.parquet</td><td>2709</td></tr><tr><td>dbfs:/tmp/StreamingDataQuality/source/part-00005-tid-3595284656120321115-1d68bd3d-a568-4d99-95ff-e29b69abe587-7-1-c000.snappy.parquet</td><td>part-00005-tid-3595284656120321115-1d68bd3d-a568-4d99-95ff-e29b69abe587-7-1-c000.snappy.parquet</td><td>2735</td></tr><tr><td>dbfs:/tmp/StreamingDataQuality/source/part-00006-tid-3595284656120321115-1d68bd3d-a568-4d99-95ff-e29b69abe587-8-1-c000.snappy.parquet</td><td>part-00006-tid-3595284656120321115-1d68bd3d-a568-4d99-95ff-e29b69abe587-8-1-c000.snappy.parquet</td><td>2787</td></tr><tr><td>dbfs:/tmp/StreamingDataQuality/source/part-00007-tid-3595284656120321115-1d68bd3d-a568-4d99-95ff-e29b69abe587-9-1-c000.snappy.parquet</td><td>part-00007-tid-3595284656120321115-1d68bd3d-a568-4d99-95ff-e29b69abe587-9-1-c000.snappy.parquet</td><td>2729</td></tr><tr><td>dbfs:/tmp/StreamingDataQuality/source/part-00008-tid-3595284656120321115-1d68bd3d-a568-4d99-95ff-e29b69abe587-10-1-c000.snappy.parquet</td><td>part-00008-tid-3595284656120321115-1d68bd3d-a568-4d99-95ff-e29b69abe587-10-1-c000.snappy.parquet</td><td>2725</td></tr><tr><td>dbfs:/tmp/StreamingDataQuality/source/part-00009-tid-3595284656120321115-1d68bd3d-a568-4d99-95ff-e29b69abe587-11-1-c000.snappy.parquet</td><td>part-00009-tid-3595284656120321115-1d68bd3d-a568-4d99-95ff-e29b69abe587-11-1-c000.snappy.parquet</td><td>2748</td></tr><tr><td>dbfs:/tmp/StreamingDataQuality/source/part-00010-tid-3595284656120321115-1d68bd3d-a568-4d99-95ff-e29b69abe587-12-1-c000.snappy.parquet</td><td>part-00010-tid-3595284656120321115-1d68bd3d-a568-4d99-95ff-e29b69abe587-12-1-c000.snappy.parquet</td><td>2733</td></tr><tr><td>dbfs:/tmp/StreamingDataQuality/source/part-00011-tid-3595284656120321115-1d68bd3d-a568-4d99-95ff-e29b69abe587-13-1-c000.snappy.parquet</td><td>part-00011-tid-3595284656120321115-1d68bd3d-a568-4d99-95ff-e29b69abe587-13-1-c000.snappy.parquet</td><td>2768</td></tr><tr><td>dbfs:/tmp/StreamingDataQuality/source/part-00012-tid-3595284656120321115-1d68bd3d-a568-4d99-95ff-e29b69abe587-14-1-c000.snappy.parquet</td><td>part-00012-tid-3595284656120321115-1d68bd3d-a568-4d99-95ff-e29b69abe587-14-1-c000.snappy.parquet</td><td>2758</td></tr><tr><td>dbfs:/tmp/StreamingDataQuality/source/part-00013-tid-3595284656120321115-1d68bd3d-a568-4d99-95ff-e29b69abe587-15-1-c000.snappy.parquet</td><td>part-00013-tid-3595284656120321115-1d68bd3d-a568-4d99-95ff-e29b69abe587-15-1-c000.snappy.parquet</td><td>2735</td></tr><tr><td>dbfs:/tmp/StreamingDataQuality/source/part-00014-tid-3595284656120321115-1d68bd3d-a568-4d99-95ff-e29b69abe587-16-1-c000.snappy.parquet</td><td>part-00014-tid-3595284656120321115-1d68bd3d-a568-4d99-95ff-e29b69abe587-16-1-c000.snappy.parquet</td><td>2765</td></tr><tr><td>dbfs:/tmp/StreamingDataQuality/source/part-00015-tid-3595284656120321115-1d68bd3d-a568-4d99-95ff-e29b69abe587-17-1-c000.snappy.parquet</td><td>part-00015-tid-3595284656120321115-1d68bd3d-a568-4d99-95ff-e29b69abe587-17-1-c000.snappy.parquet</td><td>2752</td></tr><tr><td>dbfs:/tmp/StreamingDataQuality/source/part-00016-tid-3595284656120321115-1d68bd3d-a568-4d99-95ff-e29b69abe587-18-1-c000.snappy.parquet</td><td>part-00016-tid-3595284656120321115-1d68bd3d-a568-4d99-95ff-e29b69abe587-18-1-c000.snappy.parquet</td><td>2736</td></tr><tr><td>dbfs:/tmp/StreamingDataQuality/source/part-00017-tid-3595284656120321115-1d68bd3d-a568-4d99-95ff-e29b69abe587-19-1-c000.snappy.parquet</td><td>part-00017-tid-3595284656120321115-1d68bd3d-a568-4d99-95ff-e29b69abe587-19-1-c000.snappy.parquet</td><td>2715</td></tr><tr><td>dbfs:/tmp/StreamingDataQuality/source/part-00018-tid-3595284656120321115-1d68bd3d-a568-4d99-95ff-e29b69abe587-20-1-c000.snappy.parquet</td><td>part-00018-tid-3595284656120321115-1d68bd3d-a568-4d99-95ff-e29b69abe587-20-1-c000.snappy.parquet</td><td>2744</td></tr><tr><td>dbfs:/tmp/StreamingDataQuality/source/part-00019-tid-3595284656120321115-1d68bd3d-a568-4d99-95ff-e29b69abe587-21-1-c000.snappy.parquet</td><td>part-00019-tid-3595284656120321115-1d68bd3d-a568-4d99-95ff-e29b69abe587-21-1-c000.snappy.parquet</td><td>2739</td></tr><tr><td>dbfs:/tmp/StreamingDataQuality/source/part-00020-tid-3595284656120321115-1d68bd3d-a568-4d99-95ff-e29b69abe587-22-1-c000.snappy.parquet</td><td>part-00020-tid-3595284656120321115-1d68bd3d-a568-4d99-95ff-e29b69abe587-22-1-c000.snappy.parquet</td><td>2766</td></tr><tr><td>dbfs:/tmp/StreamingDataQuality/source/part-00021-tid-3595284656120321115-1d68bd3d-a568-4d99-95ff-e29b69abe587-23-1-c000.snappy.parquet</td><td>part-00021-tid-3595284656120321115-1d68bd3d-a568-4d99-95ff-e29b69abe587-23-1-c000.snappy.parquet</td><td>2738</td></tr><tr><td>dbfs:/tmp/StreamingDataQuality/source/part-00022-tid-3595284656120321115-1d68bd3d-a568-4d99-95ff-e29b69abe587-24-1-c000.snappy.parquet</td><td>part-00022-tid-3595284656120321115-1d68bd3d-a568-4d99-95ff-e29b69abe587-24-1-c000.snappy.parquet</td><td>2746</td></tr><tr><td>dbfs:/tmp/StreamingDataQuality/source/part-00023-tid-3595284656120321115-1d68bd3d-a568-4d99-95ff-e29b69abe587-25-1-c000.snappy.parquet</td><td>part-00023-tid-3595284656120321115-1d68bd3d-a568-4d99-95ff-e29b69abe587-25-1-c000.snappy.parquet</td><td>2720</td></tr><tr><td>dbfs:/tmp/StreamingDataQuality/source/part-00024-tid-3595284656120321115-1d68bd3d-a568-4d99-95ff-e29b69abe587-26-1-c000.snappy.parquet</td><td>part-00024-tid-3595284656120321115-1d68bd3d-a568-4d99-95ff-e29b69abe587-26-1-c000.snappy.parquet</td><td>2735</td></tr><tr><td>dbfs:/tmp/StreamingDataQuality/source/part-00025-tid-3595284656120321115-1d68bd3d-a568-4d99-95ff-e29b69abe587-27-1-c000.snappy.parquet</td><td>part-00025-tid-3595284656120321115-1d68bd3d-a568-4d99-95ff-e29b69abe587-27-1-c000.snappy.parquet</td><td>2705</td></tr><tr><td>dbfs:/tmp/StreamingDataQuality/source/part-00026-tid-3595284656120321115-1d68bd3d-a568-4d99-95ff-e29b69abe587-28-1-c000.snappy.parquet</td><td>part-00026-tid-3595284656120321115-1d68bd3d-a568-4d99-95ff-e29b69abe587-28-1-c000.snappy.parquet</td><td>2707</td></tr><tr><td>dbfs:/tmp/StreamingDataQuality/source/part-00027-tid-3595284656120321115-1d68bd3d-a568-4d99-95ff-e29b69abe587-29-1-c000.snappy.parquet</td><td>part-00027-tid-3595284656120321115-1d68bd3d-a568-4d99-95ff-e29b69abe587-29-1-c000.snappy.parquet</td><td>2754</td></tr><tr><td>dbfs:/tmp/StreamingDataQuality/source/part-00028-tid-3595284656120321115-1d68bd3d-a568-4d99-95ff-e29b69abe587-30-1-c000.snappy.parquet</td><td>part-00028-tid-3595284656120321115-1d68bd3d-a568-4d99-95ff-e29b69abe587-30-1-c000.snappy.parquet</td><td>2763</td></tr><tr><td>dbfs:/tmp/StreamingDataQuality/source/part-00029-tid-3595284656120321115-1d68bd3d-a568-4d99-95ff-e29b69abe587-31-1-c000.snappy.parquet</td><td>part-00029-tid-3595284656120321115-1d68bd3d-a568-4d99-95ff-e29b69abe587-31-1-c000.snappy.parquet</td><td>2737</td></tr><tr><td>dbfs:/tmp/StreamingDataQuality/source/part-00030-tid-3595284656120321115-1d68bd3d-a568-4d99-95ff-e29b69abe587-32-1-c000.snappy.parquet</td><td>part-00030-tid-3595284656120321115-1d68bd3d-a568-4d99-95ff-e29b69abe587-32-1-c000.snappy.parquet</td><td>2742</td></tr><tr><td>dbfs:/tmp/StreamingDataQuality/source/part-00031-tid-3595284656120321115-1d68bd3d-a568-4d99-95ff-e29b69abe587-33-1-c000.snappy.parquet</td><td>part-00031-tid-3595284656120321115-1d68bd3d-a568-4d99-95ff-e29b69abe587-33-1-c000.snappy.parquet</td><td>2755</td></tr><tr><td>dbfs:/tmp/StreamingDataQuality/source/part-00032-tid-3595284656120321115-1d68bd3d-a568-4d99-95ff-e29b69abe587-34-1-c000.snappy.parquet</td><td>part-00032-tid-3595284656120321115-1d68bd3d-a568-4d99-95ff-e29b69abe587-34-1-c000.snappy.parquet</td><td>2711</td></tr><tr><td>dbfs:/tmp/StreamingDataQuality/source/part-00033-tid-3595284656120321115-1d68bd3d-a568-4d99-95ff-e29b69abe587-35-1-c000.snappy.parquet</td><td>part-00033-tid-3595284656120321115-1d68bd3d-a568-4d99-95ff-e29b69abe587-35-1-c000.snappy.parquet</td><td>2775</td></tr><tr><td>dbfs:/tmp/StreamingDataQuality/source/part-00034-tid-3595284656120321115-1d68bd3d-a568-4d99-95ff-e29b69abe587-36-1-c000.snappy.parquet</td><td>part-00034-tid-3595284656120321115-1d68bd3d-a568-4d99-95ff-e29b69abe587-36-1-c000.snappy.parquet</td><td>2766</td></tr><tr><td>dbfs:/tmp/StreamingDataQuality/source/part-00035-tid-3595284656120321115-1d68bd3d-a568-4d99-95ff-e29b69abe587-37-1-c000.snappy.parquet</td><td>part-00035-tid-3595284656120321115-1d68bd3d-a568-4d99-95ff-e29b69abe587-37-1-c000.snappy.parquet</td><td>2715</td></tr><tr><td>dbfs:/tmp/StreamingDataQuality/source/part-00036-tid-3595284656120321115-1d68bd3d-a568-4d99-95ff-e29b69abe587-38-1-c000.snappy.parquet</td><td>part-00036-tid-3595284656120321115-1d68bd3d-a568-4d99-95ff-e29b69abe587-38-1-c000.snappy.parquet</td><td>2753</td></tr><tr><td>dbfs:/tmp/StreamingDataQuality/source/part-00037-tid-3595284656120321115-1d68bd3d-a568-4d99-95ff-e29b69abe587-39-1-c000.snappy.parquet</td><td>part-00037-tid-3595284656120321115-1d68bd3d-a568-4d99-95ff-e29b69abe587-39-1-c000.snappy.parquet</td><td>2726</td></tr><tr><td>dbfs:/tmp/StreamingDataQuality/source/part-00038-tid-3595284656120321115-1d68bd3d-a568-4d99-95ff-e29b69abe587-40-1-c000.snappy.parquet</td><td>part-00038-tid-3595284656120321115-1d68bd3d-a568-4d99-95ff-e29b69abe587-40-1-c000.snappy.parquet</td><td>2760</td></tr><tr><td>dbfs:/tmp/StreamingDataQuality/source/part-00039-tid-3595284656120321115-1d68bd3d-a568-4d99-95ff-e29b69abe587-41-1-c000.snappy.parquet</td><td>part-00039-tid-3595284656120321115-1d68bd3d-a568-4d99-95ff-e29b69abe587-41-1-c000.snappy.parquet</td><td>2739</td></tr><tr><td>dbfs:/tmp/StreamingDataQuality/source/part-00040-tid-3595284656120321115-1d68bd3d-a568-4d99-95ff-e29b69abe587-42-1-c000.snappy.parquet</td><td>part-00040-tid-3595284656120321115-1d68bd3d-a568-4d99-95ff-e29b69abe587-42-1-c000.snappy.parquet</td><td>2727</td></tr><tr><td>dbfs:/tmp/StreamingDataQuality/source/part-00041-tid-3595284656120321115-1d68bd3d-a568-4d99-95ff-e29b69abe587-43-1-c000.snappy.parquet</td><td>part-00041-tid-3595284656120321115-1d68bd3d-a568-4d99-95ff-e29b69abe587-43-1-c000.snappy.parquet</td><td>2748</td></tr><tr><td>dbfs:/tmp/StreamingDataQuality/source/part-00042-tid-3595284656120321115-1d68bd3d-a568-4d99-95ff-e29b69abe587-44-1-c000.snappy.parquet</td><td>part-00042-tid-3595284656120321115-1d68bd3d-a568-4d99-95ff-e29b69abe587-44-1-c000.snappy.parquet</td><td>2737</td></tr><tr><td>dbfs:/tmp/StreamingDataQuality/source/part-00043-tid-3595284656120321115-1d68bd3d-a568-4d99-95ff-e29b69abe587-45-1-c000.snappy.parquet</td><td>part-00043-tid-3595284656120321115-1d68bd3d-a568-4d99-95ff-e29b69abe587-45-1-c000.snappy.parquet</td><td>2750</td></tr><tr><td>dbfs:/tmp/StreamingDataQuality/source/part-00044-tid-3595284656120321115-1d68bd3d-a568-4d99-95ff-e29b69abe587-46-1-c000.snappy.parquet</td><td>part-00044-tid-3595284656120321115-1d68bd3d-a568-4d99-95ff-e29b69abe587-46-1-c000.snappy.parquet</td><td>2756</td></tr><tr><td>dbfs:/tmp/StreamingDataQuality/source/part-00045-tid-3595284656120321115-1d68bd3d-a568-4d99-95ff-e29b69abe587-47-1-c000.snappy.parquet</td><td>part-00045-tid-3595284656120321115-1d68bd3d-a568-4d99-95ff-e29b69abe587-47-1-c000.snappy.parquet</td><td>2753</td></tr><tr><td>dbfs:/tmp/StreamingDataQuality/source/part-00046-tid-3595284656120321115-1d68bd3d-a568-4d99-95ff-e29b69abe587-48-1-c000.snappy.parquet</td><td>part-00046-tid-3595284656120321115-1d68bd3d-a568-4d99-95ff-e29b69abe587-48-1-c000.snappy.parquet</td><td>2716</td></tr><tr><td>dbfs:/tmp/StreamingDataQuality/source/part-00047-tid-3595284656120321115-1d68bd3d-a568-4d99-95ff-e29b69abe587-49-1-c000.snappy.parquet</td><td>part-00047-tid-3595284656120321115-1d68bd3d-a568-4d99-95ff-e29b69abe587-49-1-c000.snappy.parquet</td><td>2767</td></tr><tr><td>dbfs:/tmp/StreamingDataQuality/source/part-00048-tid-3595284656120321115-1d68bd3d-a568-4d99-95ff-e29b69abe587-50-1-c000.snappy.parquet</td><td>part-00048-tid-3595284656120321115-1d68bd3d-a568-4d99-95ff-e29b69abe587-50-1-c000.snappy.parquet</td><td>2734</td></tr><tr><td>dbfs:/tmp/StreamingDataQuality/source/part-00049-tid-3595284656120321115-1d68bd3d-a568-4d99-95ff-e29b69abe587-51-1-c000.snappy.parquet</td><td>part-00049-tid-3595284656120321115-1d68bd3d-a568-4d99-95ff-e29b69abe587-51-1-c000.snappy.parquet</td><td>2751</td></tr><tr><td>dbfs:/tmp/StreamingDataQuality/source/part-00050-tid-3595284656120321115-1d68bd3d-a568-4d99-95ff-e29b69abe587-52-1-c000.snappy.parquet</td><td>part-00050-tid-3595284656120321115-1d68bd3d-a568-4d99-95ff-e29b69abe587-52-1-c000.snappy.parquet</td><td>2726</td></tr><tr><td>dbfs:/tmp/StreamingDataQuality/source/part-00051-tid-3595284656120321115-1d68bd3d-a568-4d99-95ff-e29b69abe587-53-1-c000.snappy.parquet</td><td>part-00051-tid-3595284656120321115-1d68bd3d-a568-4d99-95ff-e29b69abe587-53-1-c000.snappy.parquet</td><td>2759</td></tr><tr><td>dbfs:/tmp/StreamingDataQuality/source/part-00052-tid-3595284656120321115-1d68bd3d-a568-4d99-95ff-e29b69abe587-54-1-c000.snappy.parquet</td><td>part-00052-tid-3595284656120321115-1d68bd3d-a568-4d99-95ff-e29b69abe587-54-1-c000.snappy.parquet</td><td>2749</td></tr><tr><td>dbfs:/tmp/StreamingDataQuality/source/part-00053-tid-3595284656120321115-1d68bd3d-a568-4d99-95ff-e29b69abe587-55-1-c000.snappy.parquet</td><td>part-00053-tid-3595284656120321115-1d68bd3d-a568-4d99-95ff-e29b69abe587-55-1-c000.snappy.parquet</td><td>2755</td></tr><tr><td>dbfs:/tmp/StreamingDataQuality/source/part-00054-tid-3595284656120321115-1d68bd3d-a568-4d99-95ff-e29b69abe587-56-1-c000.snappy.parquet</td><td>part-00054-tid-3595284656120321115-1d68bd3d-a568-4d99-95ff-e29b69abe587-56-1-c000.snappy.parquet</td><td>2755</td></tr><tr><td>dbfs:/tmp/StreamingDataQuality/source/part-00055-tid-3595284656120321115-1d68bd3d-a568-4d99-95ff-e29b69abe587-57-1-c000.snappy.parquet</td><td>part-00055-tid-3595284656120321115-1d68bd3d-a568-4d99-95ff-e29b69abe587-57-1-c000.snappy.parquet</td><td>2758</td></tr><tr><td>dbfs:/tmp/StreamingDataQuality/source/part-00056-tid-3595284656120321115-1d68bd3d-a568-4d99-95ff-e29b69abe587-58-1-c000.snappy.parquet</td><td>part-00056-tid-3595284656120321115-1d68bd3d-a568-4d99-95ff-e29b69abe587-58-1-c000.snappy.parquet</td><td>2743</td></tr><tr><td>dbfs:/tmp/StreamingDataQuality/source/part-00057-tid-3595284656120321115-1d68bd3d-a568-4d99-95ff-e29b69abe587-59-1-c000.snappy.parquet</td><td>part-00057-tid-3595284656120321115-1d68bd3d-a568-4d99-95ff-e29b69abe587-59-1-c000.snappy.parquet</td><td>2769</td></tr><tr><td>dbfs:/tmp/StreamingDataQuality/source/part-00058-tid-3595284656120321115-1d68bd3d-a568-4d99-95ff-e29b69abe587-60-1-c000.snappy.parquet</td><td>part-00058-tid-3595284656120321115-1d68bd3d-a568-4d99-95ff-e29b69abe587-60-1-c000.snappy.parquet</td><td>2744</td></tr><tr><td>dbfs:/tmp/StreamingDataQuality/source/part-00059-tid-3595284656120321115-1d68bd3d-a568-4d99-95ff-e29b69abe587-61-1-c000.snappy.parquet</td><td>part-00059-tid-3595284656120321115-1d68bd3d-a568-4d99-95ff-e29b69abe587-61-1-c000.snappy.parquet</td><td>2753</td></tr><tr><td>dbfs:/tmp/StreamingDataQuality/source/part-00060-tid-3595284656120321115-1d68bd3d-a568-4d99-95ff-e29b69abe587-62-1-c000.snappy.parquet</td><td>part-00060-tid-3595284656120321115-1d68bd3d-a568-4d99-95ff-e29b69abe587-62-1-c000.snappy.parquet</td><td>2772</td></tr><tr><td>dbfs:/tmp/StreamingDataQuality/source/part-00061-tid-3595284656120321115-1d68bd3d-a568-4d99-95ff-e29b69abe587-63-1-c000.snappy.parquet</td><td>part-00061-tid-3595284656120321115-1d68bd3d-a568-4d99-95ff-e29b69abe587-63-1-c000.snappy.parquet</td><td>2787</td></tr><tr><td>dbfs:/tmp/StreamingDataQuality/source/part-00062-tid-3595284656120321115-1d68bd3d-a568-4d99-95ff-e29b69abe587-64-1-c000.snappy.parquet</td><td>part-00062-tid-3595284656120321115-1d68bd3d-a568-4d99-95ff-e29b69abe587-64-1-c000.snappy.parquet</td><td>2670</td></tr><tr><td>dbfs:/tmp/StreamingDataQuality/source/part-00063-tid-3595284656120321115-1d68bd3d-a568-4d99-95ff-e29b69abe587-65-1-c000.snappy.parquet</td><td>part-00063-tid-3595284656120321115-1d68bd3d-a568-4d99-95ff-e29b69abe587-65-1-c000.snappy.parquet</td><td>2762</td></tr><tr><td>dbfs:/tmp/StreamingDataQuality/source/part-00064-tid-3595284656120321115-1d68bd3d-a568-4d99-95ff-e29b69abe587-66-1-c000.snappy.parquet</td><td>part-00064-tid-3595284656120321115-1d68bd3d-a568-4d99-95ff-e29b69abe587-66-1-c000.snappy.parquet</td><td>2765</td></tr><tr><td>dbfs:/tmp/StreamingDataQuality/source/part-00065-tid-3595284656120321115-1d68bd3d-a568-4d99-95ff-e29b69abe587-67-1-c000.snappy.parquet</td><td>part-00065-tid-3595284656120321115-1d68bd3d-a568-4d99-95ff-e29b69abe587-67-1-c000.snappy.parquet</td><td>2740</td></tr><tr><td>dbfs:/tmp/StreamingDataQuality/source/part-00066-tid-3595284656120321115-1d68bd3d-a568-4d99-95ff-e29b69abe587-68-1-c000.snappy.parquet</td><td>part-00066-tid-3595284656120321115-1d68bd3d-a568-4d99-95ff-e29b69abe587-68-1-c000.snappy.parquet</td><td>2755</td></tr><tr><td>dbfs:/tmp/StreamingDataQuality/source/part-00067-tid-3595284656120321115-1d68bd3d-a568-4d99-95ff-e29b69abe587-69-1-c000.snappy.parquet</td><td>part-00067-tid-3595284656120321115-1d68bd3d-a568-4d99-95ff-e29b69abe587-69-1-c000.snappy.parquet</td><td>2723</td></tr><tr><td>dbfs:/tmp/StreamingDataQuality/source/part-00068-tid-3595284656120321115-1d68bd3d-a568-4d99-95ff-e29b69abe587-70-1-c000.snappy.parquet</td><td>part-00068-tid-3595284656120321115-1d68bd3d-a568-4d99-95ff-e29b69abe587-70-1-c000.snappy.parquet</td><td>2730</td></tr><tr><td>dbfs:/tmp/StreamingDataQuality/source/part-00069-tid-3595284656120321115-1d68bd3d-a568-4d99-95ff-e29b69abe587-71-1-c000.snappy.parquet</td><td>part-00069-tid-3595284656120321115-1d68bd3d-a568-4d99-95ff-e29b69abe587-71-1-c000.snappy.parquet</td><td>2764</td></tr><tr><td>dbfs:/tmp/StreamingDataQuality/source/part-00070-tid-3595284656120321115-1d68bd3d-a568-4d99-95ff-e29b69abe587-72-1-c000.snappy.parquet</td><td>part-00070-tid-3595284656120321115-1d68bd3d-a568-4d99-95ff-e29b69abe587-72-1-c000.snappy.parquet</td><td>2741</td></tr><tr><td>dbfs:/tmp/StreamingDataQuality/source/part-00071-tid-3595284656120321115-1d68bd3d-a568-4d99-95ff-e29b69abe587-73-1-c000.snappy.parquet</td><td>part-00071-tid-3595284656120321115-1d68bd3d-a568-4d99-95ff-e29b69abe587-73-1-c000.snappy.parquet</td><td>2752</td></tr><tr><td>dbfs:/tmp/StreamingDataQuality/source/part-00072-tid-3595284656120321115-1d68bd3d-a568-4d99-95ff-e29b69abe587-74-1-c000.snappy.parquet</td><td>part-00072-tid-3595284656120321115-1d68bd3d-a568-4d99-95ff-e29b69abe587-74-1-c000.snappy.parquet</td><td>2727</td></tr><tr><td>dbfs:/tmp/StreamingDataQuality/source/part-00073-tid-3595284656120321115-1d68bd3d-a568-4d99-95ff-e29b69abe587-75-1-c000.snappy.parquet</td><td>part-00073-tid-3595284656120321115-1d68bd3d-a568-4d99-95ff-e29b69abe587-75-1-c000.snappy.parquet</td><td>2731</td></tr><tr><td>dbfs:/tmp/StreamingDataQuality/source/part-00074-tid-3595284656120321115-1d68bd3d-a568-4d99-95ff-e29b69abe587-76-1-c000.snappy.parquet</td><td>part-00074-tid-3595284656120321115-1d68bd3d-a568-4d99-95ff-e29b69abe587-76-1-c000.snappy.parquet</td><td>2734</td></tr><tr><td>dbfs:/tmp/StreamingDataQuality/source/part-00075-tid-3595284656120321115-1d68bd3d-a568-4d99-95ff-e29b69abe587-77-1-c000.snappy.parquet</td><td>part-00075-tid-3595284656120321115-1d68bd3d-a568-4d99-95ff-e29b69abe587-77-1-c000.snappy.parquet</td><td>2715</td></tr><tr><td>dbfs:/tmp/StreamingDataQuality/source/part-00076-tid-3595284656120321115-1d68bd3d-a568-4d99-95ff-e29b69abe587-78-1-c000.snappy.parquet</td><td>part-00076-tid-3595284656120321115-1d68bd3d-a568-4d99-95ff-e29b69abe587-78-1-c000.snappy.parquet</td><td>2746</td></tr><tr><td>dbfs:/tmp/StreamingDataQuality/source/part-00077-tid-3595284656120321115-1d68bd3d-a568-4d99-95ff-e29b69abe587-79-1-c000.snappy.parquet</td><td>part-00077-tid-3595284656120321115-1d68bd3d-a568-4d99-95ff-e29b69abe587-79-1-c000.snappy.parquet</td><td>2755</td></tr><tr><td>dbfs:/tmp/StreamingDataQuality/source/part-00078-tid-3595284656120321115-1d68bd3d-a568-4d99-95ff-e29b69abe587-80-1-c000.snappy.parquet</td><td>part-00078-tid-3595284656120321115-1d68bd3d-a568-4d99-95ff-e29b69abe587-80-1-c000.snappy.parquet</td><td>2712</td></tr><tr><td>dbfs:/tmp/StreamingDataQuality/source/part-00079-tid-3595284656120321115-1d68bd3d-a568-4d99-95ff-e29b69abe587-81-1-c000.snappy.parquet</td><td>part-00079-tid-3595284656120321115-1d68bd3d-a568-4d99-95ff-e29b69abe587-81-1-c000.snappy.parquet</td><td>2753</td></tr><tr><td>dbfs:/tmp/StreamingDataQuality/source/part-00080-tid-3595284656120321115-1d68bd3d-a568-4d99-95ff-e29b69abe587-82-1-c000.snappy.parquet</td><td>part-00080-tid-3595284656120321115-1d68bd3d-a568-4d99-95ff-e29b69abe587-82-1-c000.snappy.parquet</td><td>2736</td></tr><tr><td>dbfs:/tmp/StreamingDataQuality/source/part-00081-tid-3595284656120321115-1d68bd3d-a568-4d99-95ff-e29b69abe587-83-1-c000.snappy.parquet</td><td>part-00081-tid-3595284656120321115-1d68bd3d-a568-4d99-95ff-e29b69abe587-83-1-c000.snappy.parquet</td><td>2726</td></tr><tr><td>dbfs:/tmp/StreamingDataQuality/source/part-00082-tid-3595284656120321115-1d68bd3d-a568-4d99-95ff-e29b69abe587-84-1-c000.snappy.parquet</td><td>part-00082-tid-3595284656120321115-1d68bd3d-a568-4d99-95ff-e29b69abe587-84-1-c000.snappy.parquet</td><td>2728</td></tr><tr><td>dbfs:/tmp/StreamingDataQuality/source/part-00083-tid-3595284656120321115-1d68bd3d-a568-4d99-95ff-e29b69abe587-85-1-c000.snappy.parquet</td><td>part-00083-tid-3595284656120321115-1d68bd3d-a568-4d99-95ff-e29b69abe587-85-1-c000.snappy.parquet</td><td>2743</td></tr><tr><td>dbfs:/tmp/StreamingDataQuality/source/part-00084-tid-3595284656120321115-1d68bd3d-a568-4d99-95ff-e29b69abe587-86-1-c000.snappy.parquet</td><td>part-00084-tid-3595284656120321115-1d68bd3d-a568-4d99-95ff-e29b69abe587-86-1-c000.snappy.parquet</td><td>2761</td></tr><tr><td>dbfs:/tmp/StreamingDataQuality/source/part-00085-tid-3595284656120321115-1d68bd3d-a568-4d99-95ff-e29b69abe587-87-1-c000.snappy.parquet</td><td>part-00085-tid-3595284656120321115-1d68bd3d-a568-4d99-95ff-e29b69abe587-87-1-c000.snappy.parquet</td><td>2745</td></tr><tr><td>dbfs:/tmp/StreamingDataQuality/source/part-00086-tid-3595284656120321115-1d68bd3d-a568-4d99-95ff-e29b69abe587-88-1-c000.snappy.parquet</td><td>part-00086-tid-3595284656120321115-1d68bd3d-a568-4d99-95ff-e29b69abe587-88-1-c000.snappy.parquet</td><td>2753</td></tr><tr><td>dbfs:/tmp/StreamingDataQuality/source/part-00087-tid-3595284656120321115-1d68bd3d-a568-4d99-95ff-e29b69abe587-89-1-c000.snappy.parquet</td><td>part-00087-tid-3595284656120321115-1d68bd3d-a568-4d99-95ff-e29b69abe587-89-1-c000.snappy.parquet</td><td>2731</td></tr><tr><td>dbfs:/tmp/StreamingDataQuality/source/part-00088-tid-3595284656120321115-1d68bd3d-a568-4d99-95ff-e29b69abe587-90-1-c000.snappy.parquet</td><td>part-00088-tid-3595284656120321115-1d68bd3d-a568-4d99-95ff-e29b69abe587-90-1-c000.snappy.parquet</td><td>2762</td></tr><tr><td>dbfs:/tmp/StreamingDataQuality/source/part-00089-tid-3595284656120321115-1d68bd3d-a568-4d99-95ff-e29b69abe587-91-1-c000.snappy.parquet</td><td>part-00089-tid-3595284656120321115-1d68bd3d-a568-4d99-95ff-e29b69abe587-91-1-c000.snappy.parquet</td><td>2739</td></tr><tr><td>dbfs:/tmp/StreamingDataQuality/source/part-00090-tid-3595284656120321115-1d68bd3d-a568-4d99-95ff-e29b69abe587-92-1-c000.snappy.parquet</td><td>part-00090-tid-3595284656120321115-1d68bd3d-a568-4d99-95ff-e29b69abe587-92-1-c000.snappy.parquet</td><td>2765</td></tr><tr><td>dbfs:/tmp/StreamingDataQuality/source/part-00091-tid-3595284656120321115-1d68bd3d-a568-4d99-95ff-e29b69abe587-93-1-c000.snappy.parquet</td><td>part-00091-tid-3595284656120321115-1d68bd3d-a568-4d99-95ff-e29b69abe587-93-1-c000.snappy.parquet</td><td>2773</td></tr><tr><td>dbfs:/tmp/StreamingDataQuality/source/part-00092-tid-3595284656120321115-1d68bd3d-a568-4d99-95ff-e29b69abe587-94-1-c000.snappy.parquet</td><td>part-00092-tid-3595284656120321115-1d68bd3d-a568-4d99-95ff-e29b69abe587-94-1-c000.snappy.parquet</td><td>2742</td></tr><tr><td>dbfs:/tmp/StreamingDataQuality/source/part-00093-tid-3595284656120321115-1d68bd3d-a568-4d99-95ff-e29b69abe587-95-1-c000.snappy.parquet</td><td>part-00093-tid-3595284656120321115-1d68bd3d-a568-4d99-95ff-e29b69abe587-95-1-c000.snappy.parquet</td><td>2749</td></tr><tr><td>dbfs:/tmp/StreamingDataQuality/source/part-00094-tid-3595284656120321115-1d68bd3d-a568-4d99-95ff-e29b69abe587-96-1-c000.snappy.parquet</td><td>part-00094-tid-3595284656120321115-1d68bd3d-a568-4d99-95ff-e29b69abe587-96-1-c000.snappy.parquet</td><td>2768</td></tr><tr><td>dbfs:/tmp/StreamingDataQuality/source/part-00095-tid-3595284656120321115-1d68bd3d-a568-4d99-95ff-e29b69abe587-97-1-c000.snappy.parquet</td><td>part-00095-tid-3595284656120321115-1d68bd3d-a568-4d99-95ff-e29b69abe587-97-1-c000.snappy.parquet</td><td>2723</td></tr><tr><td>dbfs:/tmp/StreamingDataQuality/source/part-00096-tid-3595284656120321115-1d68bd3d-a568-4d99-95ff-e29b69abe587-98-1-c000.snappy.parquet</td><td>part-00096-tid-3595284656120321115-1d68bd3d-a568-4d99-95ff-e29b69abe587-98-1-c000.snappy.parquet</td><td>2745</td></tr><tr><td>dbfs:/tmp/StreamingDataQuality/source/part-00097-tid-3595284656120321115-1d68bd3d-a568-4d99-95ff-e29b69abe587-99-1-c000.snappy.parquet</td><td>part-00097-tid-3595284656120321115-1d68bd3d-a568-4d99-95ff-e29b69abe587-99-1-c000.snappy.parquet</td><td>2744</td></tr><tr><td>dbfs:/tmp/StreamingDataQuality/source/part-00098-tid-3595284656120321115-1d68bd3d-a568-4d99-95ff-e29b69abe587-100-1-c000.snappy.parquet</td><td>part-00098-tid-3595284656120321115-1d68bd3d-a568-4d99-95ff-e29b69abe587-100-1-c000.snappy.parquet</td><td>2742</td></tr><tr><td>dbfs:/tmp/StreamingDataQuality/source/part-00099-tid-3595284656120321115-1d68bd3d-a568-4d99-95ff-e29b69abe587-101-1-c000.snappy.parquet</td><td>part-00099-tid-3595284656120321115-1d68bd3d-a568-4d99-95ff-e29b69abe587-101-1-c000.snappy.parquet</td><td>2749</td></tr></tbody></table></div>"
      ]
     },
     "metadata": {
      "application/vnd.databricks.v1+output": {
       "addedWidgets": {},
       "aggData": [],
       "aggError": "",
       "aggOverflow": false,
       "aggSchema": [],
       "aggSeriesLimitReached": false,
       "aggType": "",
       "arguments": {},
       "columnCustomDisplayInfos": {},
       "data": [
        [
         "dbfs:/tmp/StreamingDataQuality/source/_committed_3595284656120321115",
         "_committed_3595284656120321115",
         19813
        ],
        [
         "dbfs:/tmp/StreamingDataQuality/source/_committed_4687190030274957800",
         "_committed_4687190030274957800",
         20034
        ],
        [
         "dbfs:/tmp/StreamingDataQuality/source/_committed_8486138945607898488",
         "_committed_8486138945607898488",
         19919
        ],
        [
         "dbfs:/tmp/StreamingDataQuality/source/_started_3595284656120321115",
         "_started_3595284656120321115",
         0
        ],
        [
         "dbfs:/tmp/StreamingDataQuality/source/part-00000-tid-3595284656120321115-1d68bd3d-a568-4d99-95ff-e29b69abe587-2-1-c000.snappy.parquet",
         "part-00000-tid-3595284656120321115-1d68bd3d-a568-4d99-95ff-e29b69abe587-2-1-c000.snappy.parquet",
         2761
        ],
        [
         "dbfs:/tmp/StreamingDataQuality/source/part-00001-tid-3595284656120321115-1d68bd3d-a568-4d99-95ff-e29b69abe587-3-1-c000.snappy.parquet",
         "part-00001-tid-3595284656120321115-1d68bd3d-a568-4d99-95ff-e29b69abe587-3-1-c000.snappy.parquet",
         2761
        ],
        [
         "dbfs:/tmp/StreamingDataQuality/source/part-00002-tid-3595284656120321115-1d68bd3d-a568-4d99-95ff-e29b69abe587-4-1-c000.snappy.parquet",
         "part-00002-tid-3595284656120321115-1d68bd3d-a568-4d99-95ff-e29b69abe587-4-1-c000.snappy.parquet",
         2763
        ],
        [
         "dbfs:/tmp/StreamingDataQuality/source/part-00003-tid-3595284656120321115-1d68bd3d-a568-4d99-95ff-e29b69abe587-5-1-c000.snappy.parquet",
         "part-00003-tid-3595284656120321115-1d68bd3d-a568-4d99-95ff-e29b69abe587-5-1-c000.snappy.parquet",
         2742
        ],
        [
         "dbfs:/tmp/StreamingDataQuality/source/part-00004-tid-3595284656120321115-1d68bd3d-a568-4d99-95ff-e29b69abe587-6-1-c000.snappy.parquet",
         "part-00004-tid-3595284656120321115-1d68bd3d-a568-4d99-95ff-e29b69abe587-6-1-c000.snappy.parquet",
         2709
        ],
        [
         "dbfs:/tmp/StreamingDataQuality/source/part-00005-tid-3595284656120321115-1d68bd3d-a568-4d99-95ff-e29b69abe587-7-1-c000.snappy.parquet",
         "part-00005-tid-3595284656120321115-1d68bd3d-a568-4d99-95ff-e29b69abe587-7-1-c000.snappy.parquet",
         2735
        ],
        [
         "dbfs:/tmp/StreamingDataQuality/source/part-00006-tid-3595284656120321115-1d68bd3d-a568-4d99-95ff-e29b69abe587-8-1-c000.snappy.parquet",
         "part-00006-tid-3595284656120321115-1d68bd3d-a568-4d99-95ff-e29b69abe587-8-1-c000.snappy.parquet",
         2787
        ],
        [
         "dbfs:/tmp/StreamingDataQuality/source/part-00007-tid-3595284656120321115-1d68bd3d-a568-4d99-95ff-e29b69abe587-9-1-c000.snappy.parquet",
         "part-00007-tid-3595284656120321115-1d68bd3d-a568-4d99-95ff-e29b69abe587-9-1-c000.snappy.parquet",
         2729
        ],
        [
         "dbfs:/tmp/StreamingDataQuality/source/part-00008-tid-3595284656120321115-1d68bd3d-a568-4d99-95ff-e29b69abe587-10-1-c000.snappy.parquet",
         "part-00008-tid-3595284656120321115-1d68bd3d-a568-4d99-95ff-e29b69abe587-10-1-c000.snappy.parquet",
         2725
        ],
        [
         "dbfs:/tmp/StreamingDataQuality/source/part-00009-tid-3595284656120321115-1d68bd3d-a568-4d99-95ff-e29b69abe587-11-1-c000.snappy.parquet",
         "part-00009-tid-3595284656120321115-1d68bd3d-a568-4d99-95ff-e29b69abe587-11-1-c000.snappy.parquet",
         2748
        ],
        [
         "dbfs:/tmp/StreamingDataQuality/source/part-00010-tid-3595284656120321115-1d68bd3d-a568-4d99-95ff-e29b69abe587-12-1-c000.snappy.parquet",
         "part-00010-tid-3595284656120321115-1d68bd3d-a568-4d99-95ff-e29b69abe587-12-1-c000.snappy.parquet",
         2733
        ],
        [
         "dbfs:/tmp/StreamingDataQuality/source/part-00011-tid-3595284656120321115-1d68bd3d-a568-4d99-95ff-e29b69abe587-13-1-c000.snappy.parquet",
         "part-00011-tid-3595284656120321115-1d68bd3d-a568-4d99-95ff-e29b69abe587-13-1-c000.snappy.parquet",
         2768
        ],
        [
         "dbfs:/tmp/StreamingDataQuality/source/part-00012-tid-3595284656120321115-1d68bd3d-a568-4d99-95ff-e29b69abe587-14-1-c000.snappy.parquet",
         "part-00012-tid-3595284656120321115-1d68bd3d-a568-4d99-95ff-e29b69abe587-14-1-c000.snappy.parquet",
         2758
        ],
        [
         "dbfs:/tmp/StreamingDataQuality/source/part-00013-tid-3595284656120321115-1d68bd3d-a568-4d99-95ff-e29b69abe587-15-1-c000.snappy.parquet",
         "part-00013-tid-3595284656120321115-1d68bd3d-a568-4d99-95ff-e29b69abe587-15-1-c000.snappy.parquet",
         2735
        ],
        [
         "dbfs:/tmp/StreamingDataQuality/source/part-00014-tid-3595284656120321115-1d68bd3d-a568-4d99-95ff-e29b69abe587-16-1-c000.snappy.parquet",
         "part-00014-tid-3595284656120321115-1d68bd3d-a568-4d99-95ff-e29b69abe587-16-1-c000.snappy.parquet",
         2765
        ],
        [
         "dbfs:/tmp/StreamingDataQuality/source/part-00015-tid-3595284656120321115-1d68bd3d-a568-4d99-95ff-e29b69abe587-17-1-c000.snappy.parquet",
         "part-00015-tid-3595284656120321115-1d68bd3d-a568-4d99-95ff-e29b69abe587-17-1-c000.snappy.parquet",
         2752
        ],
        [
         "dbfs:/tmp/StreamingDataQuality/source/part-00016-tid-3595284656120321115-1d68bd3d-a568-4d99-95ff-e29b69abe587-18-1-c000.snappy.parquet",
         "part-00016-tid-3595284656120321115-1d68bd3d-a568-4d99-95ff-e29b69abe587-18-1-c000.snappy.parquet",
         2736
        ],
        [
         "dbfs:/tmp/StreamingDataQuality/source/part-00017-tid-3595284656120321115-1d68bd3d-a568-4d99-95ff-e29b69abe587-19-1-c000.snappy.parquet",
         "part-00017-tid-3595284656120321115-1d68bd3d-a568-4d99-95ff-e29b69abe587-19-1-c000.snappy.parquet",
         2715
        ],
        [
         "dbfs:/tmp/StreamingDataQuality/source/part-00018-tid-3595284656120321115-1d68bd3d-a568-4d99-95ff-e29b69abe587-20-1-c000.snappy.parquet",
         "part-00018-tid-3595284656120321115-1d68bd3d-a568-4d99-95ff-e29b69abe587-20-1-c000.snappy.parquet",
         2744
        ],
        [
         "dbfs:/tmp/StreamingDataQuality/source/part-00019-tid-3595284656120321115-1d68bd3d-a568-4d99-95ff-e29b69abe587-21-1-c000.snappy.parquet",
         "part-00019-tid-3595284656120321115-1d68bd3d-a568-4d99-95ff-e29b69abe587-21-1-c000.snappy.parquet",
         2739
        ],
        [
         "dbfs:/tmp/StreamingDataQuality/source/part-00020-tid-3595284656120321115-1d68bd3d-a568-4d99-95ff-e29b69abe587-22-1-c000.snappy.parquet",
         "part-00020-tid-3595284656120321115-1d68bd3d-a568-4d99-95ff-e29b69abe587-22-1-c000.snappy.parquet",
         2766
        ],
        [
         "dbfs:/tmp/StreamingDataQuality/source/part-00021-tid-3595284656120321115-1d68bd3d-a568-4d99-95ff-e29b69abe587-23-1-c000.snappy.parquet",
         "part-00021-tid-3595284656120321115-1d68bd3d-a568-4d99-95ff-e29b69abe587-23-1-c000.snappy.parquet",
         2738
        ],
        [
         "dbfs:/tmp/StreamingDataQuality/source/part-00022-tid-3595284656120321115-1d68bd3d-a568-4d99-95ff-e29b69abe587-24-1-c000.snappy.parquet",
         "part-00022-tid-3595284656120321115-1d68bd3d-a568-4d99-95ff-e29b69abe587-24-1-c000.snappy.parquet",
         2746
        ],
        [
         "dbfs:/tmp/StreamingDataQuality/source/part-00023-tid-3595284656120321115-1d68bd3d-a568-4d99-95ff-e29b69abe587-25-1-c000.snappy.parquet",
         "part-00023-tid-3595284656120321115-1d68bd3d-a568-4d99-95ff-e29b69abe587-25-1-c000.snappy.parquet",
         2720
        ],
        [
         "dbfs:/tmp/StreamingDataQuality/source/part-00024-tid-3595284656120321115-1d68bd3d-a568-4d99-95ff-e29b69abe587-26-1-c000.snappy.parquet",
         "part-00024-tid-3595284656120321115-1d68bd3d-a568-4d99-95ff-e29b69abe587-26-1-c000.snappy.parquet",
         2735
        ],
        [
         "dbfs:/tmp/StreamingDataQuality/source/part-00025-tid-3595284656120321115-1d68bd3d-a568-4d99-95ff-e29b69abe587-27-1-c000.snappy.parquet",
         "part-00025-tid-3595284656120321115-1d68bd3d-a568-4d99-95ff-e29b69abe587-27-1-c000.snappy.parquet",
         2705
        ],
        [
         "dbfs:/tmp/StreamingDataQuality/source/part-00026-tid-3595284656120321115-1d68bd3d-a568-4d99-95ff-e29b69abe587-28-1-c000.snappy.parquet",
         "part-00026-tid-3595284656120321115-1d68bd3d-a568-4d99-95ff-e29b69abe587-28-1-c000.snappy.parquet",
         2707
        ],
        [
         "dbfs:/tmp/StreamingDataQuality/source/part-00027-tid-3595284656120321115-1d68bd3d-a568-4d99-95ff-e29b69abe587-29-1-c000.snappy.parquet",
         "part-00027-tid-3595284656120321115-1d68bd3d-a568-4d99-95ff-e29b69abe587-29-1-c000.snappy.parquet",
         2754
        ],
        [
         "dbfs:/tmp/StreamingDataQuality/source/part-00028-tid-3595284656120321115-1d68bd3d-a568-4d99-95ff-e29b69abe587-30-1-c000.snappy.parquet",
         "part-00028-tid-3595284656120321115-1d68bd3d-a568-4d99-95ff-e29b69abe587-30-1-c000.snappy.parquet",
         2763
        ],
        [
         "dbfs:/tmp/StreamingDataQuality/source/part-00029-tid-3595284656120321115-1d68bd3d-a568-4d99-95ff-e29b69abe587-31-1-c000.snappy.parquet",
         "part-00029-tid-3595284656120321115-1d68bd3d-a568-4d99-95ff-e29b69abe587-31-1-c000.snappy.parquet",
         2737
        ],
        [
         "dbfs:/tmp/StreamingDataQuality/source/part-00030-tid-3595284656120321115-1d68bd3d-a568-4d99-95ff-e29b69abe587-32-1-c000.snappy.parquet",
         "part-00030-tid-3595284656120321115-1d68bd3d-a568-4d99-95ff-e29b69abe587-32-1-c000.snappy.parquet",
         2742
        ],
        [
         "dbfs:/tmp/StreamingDataQuality/source/part-00031-tid-3595284656120321115-1d68bd3d-a568-4d99-95ff-e29b69abe587-33-1-c000.snappy.parquet",
         "part-00031-tid-3595284656120321115-1d68bd3d-a568-4d99-95ff-e29b69abe587-33-1-c000.snappy.parquet",
         2755
        ],
        [
         "dbfs:/tmp/StreamingDataQuality/source/part-00032-tid-3595284656120321115-1d68bd3d-a568-4d99-95ff-e29b69abe587-34-1-c000.snappy.parquet",
         "part-00032-tid-3595284656120321115-1d68bd3d-a568-4d99-95ff-e29b69abe587-34-1-c000.snappy.parquet",
         2711
        ],
        [
         "dbfs:/tmp/StreamingDataQuality/source/part-00033-tid-3595284656120321115-1d68bd3d-a568-4d99-95ff-e29b69abe587-35-1-c000.snappy.parquet",
         "part-00033-tid-3595284656120321115-1d68bd3d-a568-4d99-95ff-e29b69abe587-35-1-c000.snappy.parquet",
         2775
        ],
        [
         "dbfs:/tmp/StreamingDataQuality/source/part-00034-tid-3595284656120321115-1d68bd3d-a568-4d99-95ff-e29b69abe587-36-1-c000.snappy.parquet",
         "part-00034-tid-3595284656120321115-1d68bd3d-a568-4d99-95ff-e29b69abe587-36-1-c000.snappy.parquet",
         2766
        ],
        [
         "dbfs:/tmp/StreamingDataQuality/source/part-00035-tid-3595284656120321115-1d68bd3d-a568-4d99-95ff-e29b69abe587-37-1-c000.snappy.parquet",
         "part-00035-tid-3595284656120321115-1d68bd3d-a568-4d99-95ff-e29b69abe587-37-1-c000.snappy.parquet",
         2715
        ],
        [
         "dbfs:/tmp/StreamingDataQuality/source/part-00036-tid-3595284656120321115-1d68bd3d-a568-4d99-95ff-e29b69abe587-38-1-c000.snappy.parquet",
         "part-00036-tid-3595284656120321115-1d68bd3d-a568-4d99-95ff-e29b69abe587-38-1-c000.snappy.parquet",
         2753
        ],
        [
         "dbfs:/tmp/StreamingDataQuality/source/part-00037-tid-3595284656120321115-1d68bd3d-a568-4d99-95ff-e29b69abe587-39-1-c000.snappy.parquet",
         "part-00037-tid-3595284656120321115-1d68bd3d-a568-4d99-95ff-e29b69abe587-39-1-c000.snappy.parquet",
         2726
        ],
        [
         "dbfs:/tmp/StreamingDataQuality/source/part-00038-tid-3595284656120321115-1d68bd3d-a568-4d99-95ff-e29b69abe587-40-1-c000.snappy.parquet",
         "part-00038-tid-3595284656120321115-1d68bd3d-a568-4d99-95ff-e29b69abe587-40-1-c000.snappy.parquet",
         2760
        ],
        [
         "dbfs:/tmp/StreamingDataQuality/source/part-00039-tid-3595284656120321115-1d68bd3d-a568-4d99-95ff-e29b69abe587-41-1-c000.snappy.parquet",
         "part-00039-tid-3595284656120321115-1d68bd3d-a568-4d99-95ff-e29b69abe587-41-1-c000.snappy.parquet",
         2739
        ],
        [
         "dbfs:/tmp/StreamingDataQuality/source/part-00040-tid-3595284656120321115-1d68bd3d-a568-4d99-95ff-e29b69abe587-42-1-c000.snappy.parquet",
         "part-00040-tid-3595284656120321115-1d68bd3d-a568-4d99-95ff-e29b69abe587-42-1-c000.snappy.parquet",
         2727
        ],
        [
         "dbfs:/tmp/StreamingDataQuality/source/part-00041-tid-3595284656120321115-1d68bd3d-a568-4d99-95ff-e29b69abe587-43-1-c000.snappy.parquet",
         "part-00041-tid-3595284656120321115-1d68bd3d-a568-4d99-95ff-e29b69abe587-43-1-c000.snappy.parquet",
         2748
        ],
        [
         "dbfs:/tmp/StreamingDataQuality/source/part-00042-tid-3595284656120321115-1d68bd3d-a568-4d99-95ff-e29b69abe587-44-1-c000.snappy.parquet",
         "part-00042-tid-3595284656120321115-1d68bd3d-a568-4d99-95ff-e29b69abe587-44-1-c000.snappy.parquet",
         2737
        ],
        [
         "dbfs:/tmp/StreamingDataQuality/source/part-00043-tid-3595284656120321115-1d68bd3d-a568-4d99-95ff-e29b69abe587-45-1-c000.snappy.parquet",
         "part-00043-tid-3595284656120321115-1d68bd3d-a568-4d99-95ff-e29b69abe587-45-1-c000.snappy.parquet",
         2750
        ],
        [
         "dbfs:/tmp/StreamingDataQuality/source/part-00044-tid-3595284656120321115-1d68bd3d-a568-4d99-95ff-e29b69abe587-46-1-c000.snappy.parquet",
         "part-00044-tid-3595284656120321115-1d68bd3d-a568-4d99-95ff-e29b69abe587-46-1-c000.snappy.parquet",
         2756
        ],
        [
         "dbfs:/tmp/StreamingDataQuality/source/part-00045-tid-3595284656120321115-1d68bd3d-a568-4d99-95ff-e29b69abe587-47-1-c000.snappy.parquet",
         "part-00045-tid-3595284656120321115-1d68bd3d-a568-4d99-95ff-e29b69abe587-47-1-c000.snappy.parquet",
         2753
        ],
        [
         "dbfs:/tmp/StreamingDataQuality/source/part-00046-tid-3595284656120321115-1d68bd3d-a568-4d99-95ff-e29b69abe587-48-1-c000.snappy.parquet",
         "part-00046-tid-3595284656120321115-1d68bd3d-a568-4d99-95ff-e29b69abe587-48-1-c000.snappy.parquet",
         2716
        ],
        [
         "dbfs:/tmp/StreamingDataQuality/source/part-00047-tid-3595284656120321115-1d68bd3d-a568-4d99-95ff-e29b69abe587-49-1-c000.snappy.parquet",
         "part-00047-tid-3595284656120321115-1d68bd3d-a568-4d99-95ff-e29b69abe587-49-1-c000.snappy.parquet",
         2767
        ],
        [
         "dbfs:/tmp/StreamingDataQuality/source/part-00048-tid-3595284656120321115-1d68bd3d-a568-4d99-95ff-e29b69abe587-50-1-c000.snappy.parquet",
         "part-00048-tid-3595284656120321115-1d68bd3d-a568-4d99-95ff-e29b69abe587-50-1-c000.snappy.parquet",
         2734
        ],
        [
         "dbfs:/tmp/StreamingDataQuality/source/part-00049-tid-3595284656120321115-1d68bd3d-a568-4d99-95ff-e29b69abe587-51-1-c000.snappy.parquet",
         "part-00049-tid-3595284656120321115-1d68bd3d-a568-4d99-95ff-e29b69abe587-51-1-c000.snappy.parquet",
         2751
        ],
        [
         "dbfs:/tmp/StreamingDataQuality/source/part-00050-tid-3595284656120321115-1d68bd3d-a568-4d99-95ff-e29b69abe587-52-1-c000.snappy.parquet",
         "part-00050-tid-3595284656120321115-1d68bd3d-a568-4d99-95ff-e29b69abe587-52-1-c000.snappy.parquet",
         2726
        ],
        [
         "dbfs:/tmp/StreamingDataQuality/source/part-00051-tid-3595284656120321115-1d68bd3d-a568-4d99-95ff-e29b69abe587-53-1-c000.snappy.parquet",
         "part-00051-tid-3595284656120321115-1d68bd3d-a568-4d99-95ff-e29b69abe587-53-1-c000.snappy.parquet",
         2759
        ],
        [
         "dbfs:/tmp/StreamingDataQuality/source/part-00052-tid-3595284656120321115-1d68bd3d-a568-4d99-95ff-e29b69abe587-54-1-c000.snappy.parquet",
         "part-00052-tid-3595284656120321115-1d68bd3d-a568-4d99-95ff-e29b69abe587-54-1-c000.snappy.parquet",
         2749
        ],
        [
         "dbfs:/tmp/StreamingDataQuality/source/part-00053-tid-3595284656120321115-1d68bd3d-a568-4d99-95ff-e29b69abe587-55-1-c000.snappy.parquet",
         "part-00053-tid-3595284656120321115-1d68bd3d-a568-4d99-95ff-e29b69abe587-55-1-c000.snappy.parquet",
         2755
        ],
        [
         "dbfs:/tmp/StreamingDataQuality/source/part-00054-tid-3595284656120321115-1d68bd3d-a568-4d99-95ff-e29b69abe587-56-1-c000.snappy.parquet",
         "part-00054-tid-3595284656120321115-1d68bd3d-a568-4d99-95ff-e29b69abe587-56-1-c000.snappy.parquet",
         2755
        ],
        [
         "dbfs:/tmp/StreamingDataQuality/source/part-00055-tid-3595284656120321115-1d68bd3d-a568-4d99-95ff-e29b69abe587-57-1-c000.snappy.parquet",
         "part-00055-tid-3595284656120321115-1d68bd3d-a568-4d99-95ff-e29b69abe587-57-1-c000.snappy.parquet",
         2758
        ],
        [
         "dbfs:/tmp/StreamingDataQuality/source/part-00056-tid-3595284656120321115-1d68bd3d-a568-4d99-95ff-e29b69abe587-58-1-c000.snappy.parquet",
         "part-00056-tid-3595284656120321115-1d68bd3d-a568-4d99-95ff-e29b69abe587-58-1-c000.snappy.parquet",
         2743
        ],
        [
         "dbfs:/tmp/StreamingDataQuality/source/part-00057-tid-3595284656120321115-1d68bd3d-a568-4d99-95ff-e29b69abe587-59-1-c000.snappy.parquet",
         "part-00057-tid-3595284656120321115-1d68bd3d-a568-4d99-95ff-e29b69abe587-59-1-c000.snappy.parquet",
         2769
        ],
        [
         "dbfs:/tmp/StreamingDataQuality/source/part-00058-tid-3595284656120321115-1d68bd3d-a568-4d99-95ff-e29b69abe587-60-1-c000.snappy.parquet",
         "part-00058-tid-3595284656120321115-1d68bd3d-a568-4d99-95ff-e29b69abe587-60-1-c000.snappy.parquet",
         2744
        ],
        [
         "dbfs:/tmp/StreamingDataQuality/source/part-00059-tid-3595284656120321115-1d68bd3d-a568-4d99-95ff-e29b69abe587-61-1-c000.snappy.parquet",
         "part-00059-tid-3595284656120321115-1d68bd3d-a568-4d99-95ff-e29b69abe587-61-1-c000.snappy.parquet",
         2753
        ],
        [
         "dbfs:/tmp/StreamingDataQuality/source/part-00060-tid-3595284656120321115-1d68bd3d-a568-4d99-95ff-e29b69abe587-62-1-c000.snappy.parquet",
         "part-00060-tid-3595284656120321115-1d68bd3d-a568-4d99-95ff-e29b69abe587-62-1-c000.snappy.parquet",
         2772
        ],
        [
         "dbfs:/tmp/StreamingDataQuality/source/part-00061-tid-3595284656120321115-1d68bd3d-a568-4d99-95ff-e29b69abe587-63-1-c000.snappy.parquet",
         "part-00061-tid-3595284656120321115-1d68bd3d-a568-4d99-95ff-e29b69abe587-63-1-c000.snappy.parquet",
         2787
        ],
        [
         "dbfs:/tmp/StreamingDataQuality/source/part-00062-tid-3595284656120321115-1d68bd3d-a568-4d99-95ff-e29b69abe587-64-1-c000.snappy.parquet",
         "part-00062-tid-3595284656120321115-1d68bd3d-a568-4d99-95ff-e29b69abe587-64-1-c000.snappy.parquet",
         2670
        ],
        [
         "dbfs:/tmp/StreamingDataQuality/source/part-00063-tid-3595284656120321115-1d68bd3d-a568-4d99-95ff-e29b69abe587-65-1-c000.snappy.parquet",
         "part-00063-tid-3595284656120321115-1d68bd3d-a568-4d99-95ff-e29b69abe587-65-1-c000.snappy.parquet",
         2762
        ],
        [
         "dbfs:/tmp/StreamingDataQuality/source/part-00064-tid-3595284656120321115-1d68bd3d-a568-4d99-95ff-e29b69abe587-66-1-c000.snappy.parquet",
         "part-00064-tid-3595284656120321115-1d68bd3d-a568-4d99-95ff-e29b69abe587-66-1-c000.snappy.parquet",
         2765
        ],
        [
         "dbfs:/tmp/StreamingDataQuality/source/part-00065-tid-3595284656120321115-1d68bd3d-a568-4d99-95ff-e29b69abe587-67-1-c000.snappy.parquet",
         "part-00065-tid-3595284656120321115-1d68bd3d-a568-4d99-95ff-e29b69abe587-67-1-c000.snappy.parquet",
         2740
        ],
        [
         "dbfs:/tmp/StreamingDataQuality/source/part-00066-tid-3595284656120321115-1d68bd3d-a568-4d99-95ff-e29b69abe587-68-1-c000.snappy.parquet",
         "part-00066-tid-3595284656120321115-1d68bd3d-a568-4d99-95ff-e29b69abe587-68-1-c000.snappy.parquet",
         2755
        ],
        [
         "dbfs:/tmp/StreamingDataQuality/source/part-00067-tid-3595284656120321115-1d68bd3d-a568-4d99-95ff-e29b69abe587-69-1-c000.snappy.parquet",
         "part-00067-tid-3595284656120321115-1d68bd3d-a568-4d99-95ff-e29b69abe587-69-1-c000.snappy.parquet",
         2723
        ],
        [
         "dbfs:/tmp/StreamingDataQuality/source/part-00068-tid-3595284656120321115-1d68bd3d-a568-4d99-95ff-e29b69abe587-70-1-c000.snappy.parquet",
         "part-00068-tid-3595284656120321115-1d68bd3d-a568-4d99-95ff-e29b69abe587-70-1-c000.snappy.parquet",
         2730
        ],
        [
         "dbfs:/tmp/StreamingDataQuality/source/part-00069-tid-3595284656120321115-1d68bd3d-a568-4d99-95ff-e29b69abe587-71-1-c000.snappy.parquet",
         "part-00069-tid-3595284656120321115-1d68bd3d-a568-4d99-95ff-e29b69abe587-71-1-c000.snappy.parquet",
         2764
        ],
        [
         "dbfs:/tmp/StreamingDataQuality/source/part-00070-tid-3595284656120321115-1d68bd3d-a568-4d99-95ff-e29b69abe587-72-1-c000.snappy.parquet",
         "part-00070-tid-3595284656120321115-1d68bd3d-a568-4d99-95ff-e29b69abe587-72-1-c000.snappy.parquet",
         2741
        ],
        [
         "dbfs:/tmp/StreamingDataQuality/source/part-00071-tid-3595284656120321115-1d68bd3d-a568-4d99-95ff-e29b69abe587-73-1-c000.snappy.parquet",
         "part-00071-tid-3595284656120321115-1d68bd3d-a568-4d99-95ff-e29b69abe587-73-1-c000.snappy.parquet",
         2752
        ],
        [
         "dbfs:/tmp/StreamingDataQuality/source/part-00072-tid-3595284656120321115-1d68bd3d-a568-4d99-95ff-e29b69abe587-74-1-c000.snappy.parquet",
         "part-00072-tid-3595284656120321115-1d68bd3d-a568-4d99-95ff-e29b69abe587-74-1-c000.snappy.parquet",
         2727
        ],
        [
         "dbfs:/tmp/StreamingDataQuality/source/part-00073-tid-3595284656120321115-1d68bd3d-a568-4d99-95ff-e29b69abe587-75-1-c000.snappy.parquet",
         "part-00073-tid-3595284656120321115-1d68bd3d-a568-4d99-95ff-e29b69abe587-75-1-c000.snappy.parquet",
         2731
        ],
        [
         "dbfs:/tmp/StreamingDataQuality/source/part-00074-tid-3595284656120321115-1d68bd3d-a568-4d99-95ff-e29b69abe587-76-1-c000.snappy.parquet",
         "part-00074-tid-3595284656120321115-1d68bd3d-a568-4d99-95ff-e29b69abe587-76-1-c000.snappy.parquet",
         2734
        ],
        [
         "dbfs:/tmp/StreamingDataQuality/source/part-00075-tid-3595284656120321115-1d68bd3d-a568-4d99-95ff-e29b69abe587-77-1-c000.snappy.parquet",
         "part-00075-tid-3595284656120321115-1d68bd3d-a568-4d99-95ff-e29b69abe587-77-1-c000.snappy.parquet",
         2715
        ],
        [
         "dbfs:/tmp/StreamingDataQuality/source/part-00076-tid-3595284656120321115-1d68bd3d-a568-4d99-95ff-e29b69abe587-78-1-c000.snappy.parquet",
         "part-00076-tid-3595284656120321115-1d68bd3d-a568-4d99-95ff-e29b69abe587-78-1-c000.snappy.parquet",
         2746
        ],
        [
         "dbfs:/tmp/StreamingDataQuality/source/part-00077-tid-3595284656120321115-1d68bd3d-a568-4d99-95ff-e29b69abe587-79-1-c000.snappy.parquet",
         "part-00077-tid-3595284656120321115-1d68bd3d-a568-4d99-95ff-e29b69abe587-79-1-c000.snappy.parquet",
         2755
        ],
        [
         "dbfs:/tmp/StreamingDataQuality/source/part-00078-tid-3595284656120321115-1d68bd3d-a568-4d99-95ff-e29b69abe587-80-1-c000.snappy.parquet",
         "part-00078-tid-3595284656120321115-1d68bd3d-a568-4d99-95ff-e29b69abe587-80-1-c000.snappy.parquet",
         2712
        ],
        [
         "dbfs:/tmp/StreamingDataQuality/source/part-00079-tid-3595284656120321115-1d68bd3d-a568-4d99-95ff-e29b69abe587-81-1-c000.snappy.parquet",
         "part-00079-tid-3595284656120321115-1d68bd3d-a568-4d99-95ff-e29b69abe587-81-1-c000.snappy.parquet",
         2753
        ],
        [
         "dbfs:/tmp/StreamingDataQuality/source/part-00080-tid-3595284656120321115-1d68bd3d-a568-4d99-95ff-e29b69abe587-82-1-c000.snappy.parquet",
         "part-00080-tid-3595284656120321115-1d68bd3d-a568-4d99-95ff-e29b69abe587-82-1-c000.snappy.parquet",
         2736
        ],
        [
         "dbfs:/tmp/StreamingDataQuality/source/part-00081-tid-3595284656120321115-1d68bd3d-a568-4d99-95ff-e29b69abe587-83-1-c000.snappy.parquet",
         "part-00081-tid-3595284656120321115-1d68bd3d-a568-4d99-95ff-e29b69abe587-83-1-c000.snappy.parquet",
         2726
        ],
        [
         "dbfs:/tmp/StreamingDataQuality/source/part-00082-tid-3595284656120321115-1d68bd3d-a568-4d99-95ff-e29b69abe587-84-1-c000.snappy.parquet",
         "part-00082-tid-3595284656120321115-1d68bd3d-a568-4d99-95ff-e29b69abe587-84-1-c000.snappy.parquet",
         2728
        ],
        [
         "dbfs:/tmp/StreamingDataQuality/source/part-00083-tid-3595284656120321115-1d68bd3d-a568-4d99-95ff-e29b69abe587-85-1-c000.snappy.parquet",
         "part-00083-tid-3595284656120321115-1d68bd3d-a568-4d99-95ff-e29b69abe587-85-1-c000.snappy.parquet",
         2743
        ],
        [
         "dbfs:/tmp/StreamingDataQuality/source/part-00084-tid-3595284656120321115-1d68bd3d-a568-4d99-95ff-e29b69abe587-86-1-c000.snappy.parquet",
         "part-00084-tid-3595284656120321115-1d68bd3d-a568-4d99-95ff-e29b69abe587-86-1-c000.snappy.parquet",
         2761
        ],
        [
         "dbfs:/tmp/StreamingDataQuality/source/part-00085-tid-3595284656120321115-1d68bd3d-a568-4d99-95ff-e29b69abe587-87-1-c000.snappy.parquet",
         "part-00085-tid-3595284656120321115-1d68bd3d-a568-4d99-95ff-e29b69abe587-87-1-c000.snappy.parquet",
         2745
        ],
        [
         "dbfs:/tmp/StreamingDataQuality/source/part-00086-tid-3595284656120321115-1d68bd3d-a568-4d99-95ff-e29b69abe587-88-1-c000.snappy.parquet",
         "part-00086-tid-3595284656120321115-1d68bd3d-a568-4d99-95ff-e29b69abe587-88-1-c000.snappy.parquet",
         2753
        ],
        [
         "dbfs:/tmp/StreamingDataQuality/source/part-00087-tid-3595284656120321115-1d68bd3d-a568-4d99-95ff-e29b69abe587-89-1-c000.snappy.parquet",
         "part-00087-tid-3595284656120321115-1d68bd3d-a568-4d99-95ff-e29b69abe587-89-1-c000.snappy.parquet",
         2731
        ],
        [
         "dbfs:/tmp/StreamingDataQuality/source/part-00088-tid-3595284656120321115-1d68bd3d-a568-4d99-95ff-e29b69abe587-90-1-c000.snappy.parquet",
         "part-00088-tid-3595284656120321115-1d68bd3d-a568-4d99-95ff-e29b69abe587-90-1-c000.snappy.parquet",
         2762
        ],
        [
         "dbfs:/tmp/StreamingDataQuality/source/part-00089-tid-3595284656120321115-1d68bd3d-a568-4d99-95ff-e29b69abe587-91-1-c000.snappy.parquet",
         "part-00089-tid-3595284656120321115-1d68bd3d-a568-4d99-95ff-e29b69abe587-91-1-c000.snappy.parquet",
         2739
        ],
        [
         "dbfs:/tmp/StreamingDataQuality/source/part-00090-tid-3595284656120321115-1d68bd3d-a568-4d99-95ff-e29b69abe587-92-1-c000.snappy.parquet",
         "part-00090-tid-3595284656120321115-1d68bd3d-a568-4d99-95ff-e29b69abe587-92-1-c000.snappy.parquet",
         2765
        ],
        [
         "dbfs:/tmp/StreamingDataQuality/source/part-00091-tid-3595284656120321115-1d68bd3d-a568-4d99-95ff-e29b69abe587-93-1-c000.snappy.parquet",
         "part-00091-tid-3595284656120321115-1d68bd3d-a568-4d99-95ff-e29b69abe587-93-1-c000.snappy.parquet",
         2773
        ],
        [
         "dbfs:/tmp/StreamingDataQuality/source/part-00092-tid-3595284656120321115-1d68bd3d-a568-4d99-95ff-e29b69abe587-94-1-c000.snappy.parquet",
         "part-00092-tid-3595284656120321115-1d68bd3d-a568-4d99-95ff-e29b69abe587-94-1-c000.snappy.parquet",
         2742
        ],
        [
         "dbfs:/tmp/StreamingDataQuality/source/part-00093-tid-3595284656120321115-1d68bd3d-a568-4d99-95ff-e29b69abe587-95-1-c000.snappy.parquet",
         "part-00093-tid-3595284656120321115-1d68bd3d-a568-4d99-95ff-e29b69abe587-95-1-c000.snappy.parquet",
         2749
        ],
        [
         "dbfs:/tmp/StreamingDataQuality/source/part-00094-tid-3595284656120321115-1d68bd3d-a568-4d99-95ff-e29b69abe587-96-1-c000.snappy.parquet",
         "part-00094-tid-3595284656120321115-1d68bd3d-a568-4d99-95ff-e29b69abe587-96-1-c000.snappy.parquet",
         2768
        ],
        [
         "dbfs:/tmp/StreamingDataQuality/source/part-00095-tid-3595284656120321115-1d68bd3d-a568-4d99-95ff-e29b69abe587-97-1-c000.snappy.parquet",
         "part-00095-tid-3595284656120321115-1d68bd3d-a568-4d99-95ff-e29b69abe587-97-1-c000.snappy.parquet",
         2723
        ],
        [
         "dbfs:/tmp/StreamingDataQuality/source/part-00096-tid-3595284656120321115-1d68bd3d-a568-4d99-95ff-e29b69abe587-98-1-c000.snappy.parquet",
         "part-00096-tid-3595284656120321115-1d68bd3d-a568-4d99-95ff-e29b69abe587-98-1-c000.snappy.parquet",
         2745
        ],
        [
         "dbfs:/tmp/StreamingDataQuality/source/part-00097-tid-3595284656120321115-1d68bd3d-a568-4d99-95ff-e29b69abe587-99-1-c000.snappy.parquet",
         "part-00097-tid-3595284656120321115-1d68bd3d-a568-4d99-95ff-e29b69abe587-99-1-c000.snappy.parquet",
         2744
        ],
        [
         "dbfs:/tmp/StreamingDataQuality/source/part-00098-tid-3595284656120321115-1d68bd3d-a568-4d99-95ff-e29b69abe587-100-1-c000.snappy.parquet",
         "part-00098-tid-3595284656120321115-1d68bd3d-a568-4d99-95ff-e29b69abe587-100-1-c000.snappy.parquet",
         2742
        ],
        [
         "dbfs:/tmp/StreamingDataQuality/source/part-00099-tid-3595284656120321115-1d68bd3d-a568-4d99-95ff-e29b69abe587-101-1-c000.snappy.parquet",
         "part-00099-tid-3595284656120321115-1d68bd3d-a568-4d99-95ff-e29b69abe587-101-1-c000.snappy.parquet",
         2749
        ]
       ],
       "datasetInfos": [],
       "dbfsResultPath": null,
       "isJsonSchema": true,
       "metadata": {},
       "overflow": false,
       "plotOptions": {
        "customPlotOptions": {},
        "displayType": "table",
        "pivotAggregation": null,
        "pivotColumns": null,
        "xColumns": null,
        "yColumns": null
       },
       "removedWidgets": [],
       "schema": [
        {
         "metadata": "{}",
         "name": "path",
         "type": "\"string\""
        },
        {
         "metadata": "{}",
         "name": "name",
         "type": "\"string\""
        },
        {
         "metadata": "{}",
         "name": "size",
         "type": "\"long\""
        }
       ],
       "type": "table"
      }
     },
     "output_type": "display_data"
    }
   ],
   "source": [
    "%fs ls /tmp/StreamingDataQuality/source/"
   ]
  },
  {
   "cell_type": "code",
   "execution_count": null,
   "metadata": {
    "application/vnd.databricks.v1+cell": {
     "cellMetadata": {
      "byteLimit": 2048000,
      "rowLimit": 10000
     },
     "inputWidgets": {},
     "nuid": "e8897468-4a63-44a6-90cb-d4fa2f690aeb",
     "showTitle": false,
     "title": ""
    }
   },
   "outputs": [
    {
     "data": {
      "text/html": [
       "<style scoped>\n",
       "  .ansiout {\n",
       "    display: block;\n",
       "    unicode-bidi: embed;\n",
       "    white-space: pre-wrap;\n",
       "    word-wrap: break-word;\n",
       "    word-break: break-all;\n",
       "    font-family: \"Menlo\", \"Monaco\", \"Consolas\", \"Ubuntu Mono\", \"Source Code Pro\", monospace;\n",
       "    font-size: 13px;\n",
       "    color: #555;\n",
       "    margin-left: 4px;\n",
       "    line-height: 19px;\n",
       "  }\n",
       "</style>\n",
       "<div class=\"ansiout\"></div>"
      ]
     },
     "metadata": {
      "application/vnd.databricks.v1+output": {
       "addedWidgets": {},
       "arguments": {},
       "data": "<div class=\"ansiout\"></div>",
       "datasetInfos": [],
       "metadata": {},
       "removedWidgets": [],
       "type": "html"
      }
     },
     "output_type": "display_data"
    }
   ],
   "source": [
    "%sh\n",
    "# clear the delta checkpoint\n",
    "rm -rf /dbfs/tmp/StreamingDataQuality/checkpoint\n"
   ]
  },
  {
   "cell_type": "code",
   "execution_count": null,
   "metadata": {
    "application/vnd.databricks.v1+cell": {
     "cellMetadata": {
      "byteLimit": 2048000,
      "rowLimit": 10000
     },
     "inputWidgets": {},
     "nuid": "fc8075c2-edaa-425b-8232-9930e7aa1607",
     "showTitle": false,
     "title": ""
    }
   },
   "outputs": [
    {
     "data": {
      "text/html": [
       "<style scoped>\n",
       "  .ansiout {\n",
       "    display: block;\n",
       "    unicode-bidi: embed;\n",
       "    white-space: pre-wrap;\n",
       "    word-wrap: break-word;\n",
       "    word-break: break-all;\n",
       "    font-family: \"Menlo\", \"Monaco\", \"Consolas\", \"Ubuntu Mono\", \"Source Code Pro\", monospace;\n",
       "    font-size: 13px;\n",
       "    color: #555;\n",
       "    margin-left: 4px;\n",
       "    line-height: 19px;\n",
       "  }\n",
       "</style>\n",
       "<div class=\"ansiout\"></div>"
      ]
     },
     "metadata": {
      "application/vnd.databricks.v1+output": {
       "addedWidgets": {},
       "arguments": {},
       "data": "<div class=\"ansiout\"></div>",
       "datasetInfos": [],
       "metadata": {},
       "removedWidgets": [],
       "type": "html"
      }
     },
     "output_type": "display_data"
    }
   ],
   "source": [
    "# Testing to see if spark is working, unrelated to project\n",
    "from pyspark.sql import SparkSession\n",
    "from pyspark.sql.types import StructType, StructField, StringType, DoubleType\n",
    "\n",
    "\n",
    "inputPath = \"/tmp/StreamingDataQuality/source/\"\n",
    "\n",
    "# Define the schema to speed up processing\n",
    "jsonSchema = StructType([\n",
    "    StructField('buysell', StringType(), True),\n",
    "    StructField('date', StringType(), True),\n",
    "    StructField('ipaddr', StringType(), True),\n",
    "    StructField('ordertype', StringType(), True),\n",
    "    StructField('price', DoubleType(), True),\n",
    "    StructField('quantity', DoubleType(), True),\n",
    "    StructField('symbol', StringType(), True),\n",
    "    StructField('time', StringType(), True)\n",
    "])\n",
    "\n",
    "# streamingInputDF = (\n",
    "#   spark\n",
    "#     .readStream\n",
    "#     .schema(jsonSchema)               # Set the schema of the JSON data\n",
    "#     .option(\"maxFilesPerTrigger\", 1)  # Treat a sequence of files as a stream by picking one file at a time\n",
    "#     .parquet(inputPath)\n",
    "# )\n",
    "\n",
    "# streamingCountsDF = (\n",
    "#   streamingInputDF\n",
    "#     .groupBy(streamingInputDF.date)\n",
    "#     .count()\n",
    "# )\n",
    "\n",
    "# query = (\n",
    "#   streamingCountsDF\n",
    "#     .writeStream\n",
    "#     .format(\"memory\")        # memory = store in-memory table (for testing only)\n",
    "#     .queryName(\"counts\")     # counts = name of the in-memory table\n",
    "#     .outputMode(\"complete\")  # complete = all the counts should be in the table\n",
    "#     .start()\n",
    "# )"
   ]
  },
  {
   "cell_type": "code",
   "execution_count": null,
   "metadata": {
    "application/vnd.databricks.v1+cell": {
     "cellMetadata": {
      "byteLimit": 2048000,
      "rowLimit": 10000
     },
     "inputWidgets": {},
     "nuid": "90f76b18-7265-4de8-bb03-23f60af8e855",
     "showTitle": false,
     "title": ""
    }
   },
   "outputs": [
    {
     "data": {
      "text/html": [
       "<style scoped>\n",
       "  .ansiout {\n",
       "    display: block;\n",
       "    unicode-bidi: embed;\n",
       "    white-space: pre-wrap;\n",
       "    word-wrap: break-word;\n",
       "    word-break: break-all;\n",
       "    font-family: \"Menlo\", \"Monaco\", \"Consolas\", \"Ubuntu Mono\", \"Source Code Pro\", monospace;\n",
       "    font-size: 13px;\n",
       "    color: #555;\n",
       "    margin-left: 4px;\n",
       "    line-height: 19px;\n",
       "  }\n",
       "</style>\n",
       "<div class=\"ansiout\">Python interpreter will be restarted.\n",
       "Collecting git+https://github.com/tdoehmen/duckdq\n",
       "  Cloning https://github.com/tdoehmen/duckdq to /tmp/pip-req-build-16to2zyt\n",
       "  Running command git clone -q https://github.com/tdoehmen/duckdq /tmp/pip-req-build-16to2zyt\n",
       "Collecting duckdb&gt;=0.2.3\n",
       "  Downloading duckdb-0.10.1-cp38-cp38-manylinux_2_17_x86_64.manylinux2014_x86_64.whl (18.1 MB)\n",
       "Collecting SQLAlchemy\n",
       "  Downloading SQLAlchemy-2.0.29-cp38-cp38-manylinux_2_17_x86_64.manylinux2014_x86_64.whl (3.1 MB)\n",
       "Requirement already satisfied: pandas in /databricks/python3/lib/python3.8/site-packages (from duckdq==0.0.post0.dev9+g5032943) (1.2.4)\n",
       "Collecting whylabs-datasketches\n",
       "  Downloading whylabs_datasketches-2.2.0b1-cp38-cp38-manylinux2010_x86_64.whl (405 kB)\n",
       "Requirement already satisfied: dill in /databricks/python3/lib/python3.8/site-packages (from duckdq==0.0.post0.dev9+g5032943) (0.3.2)\n",
       "Collecting tryingsnake\n",
       "  Downloading tryingsnake-0.5.1.tar.gz (13 kB)\n",
       "Requirement already satisfied: pytz&gt;=2017.3 in /databricks/python3/lib/python3.8/site-packages (from pandas-&gt;duckdq==0.0.post0.dev9+g5032943) (2020.5)\n",
       "Requirement already satisfied: numpy&gt;=1.16.5 in /databricks/python3/lib/python3.8/site-packages (from pandas-&gt;duckdq==0.0.post0.dev9+g5032943) (1.19.2)\n",
       "Requirement already satisfied: python-dateutil&gt;=2.7.3 in /databricks/python3/lib/python3.8/site-packages (from pandas-&gt;duckdq==0.0.post0.dev9+g5032943) (2.8.1)\n",
       "Requirement already satisfied: six&gt;=1.5 in /databricks/python3/lib/python3.8/site-packages (from python-dateutil&gt;=2.7.3-&gt;pandas-&gt;duckdq==0.0.post0.dev9+g5032943) (1.15.0)\n",
       "Collecting typing-extensions&gt;=4.6.0\n",
       "  Downloading typing_extensions-4.11.0-py3-none-any.whl (34 kB)\n",
       "Collecting greenlet!=0.4.17\n",
       "  Downloading greenlet-3.0.3-cp38-cp38-manylinux_2_24_x86_64.manylinux_2_28_x86_64.whl (622 kB)\n",
       "Building wheels for collected packages: duckdq, tryingsnake\n",
       "  Building wheel for duckdq (setup.py): started\n",
       "  Building wheel for duckdq (setup.py): finished with status &#39;done&#39;\n",
       "  Created wheel for duckdq: filename=duckdq-0.0.post0.dev9+g5032943-py2.py3-none-any.whl size=43626 sha256=936fe615548e6670f6f3dc11b0c5ba169b84ee8358a1df1b94c884a9d2643e33\n",
       "  Stored in directory: /tmp/pip-ephem-wheel-cache-n4zf59tp/wheels/88/a5/74/5b722e499bbd67855336523f1b88d3078e69eeb50f563fbfce\n",
       "  Building wheel for tryingsnake (setup.py): started\n",
       "  Building wheel for tryingsnake (setup.py): finished with status &#39;done&#39;\n",
       "  Created wheel for tryingsnake: filename=tryingsnake-0.5.1-py3-none-any.whl size=11427 sha256=4aa62f0a23ff64ae3faa690fb5822ece5a851cec4400d2e2810b7cb18eef28dd\n",
       "  Stored in directory: /root/.cache/pip/wheels/0a/e8/c5/7eda97b4220dd6b8cc007d52a6f41aae0e64b1d9a5572dfa28\n",
       "Successfully built duckdq tryingsnake\n",
       "Installing collected packages: typing-extensions, greenlet, whylabs-datasketches, tryingsnake, SQLAlchemy, duckdb, duckdq\n",
       "  Attempting uninstall: typing-extensions\n",
       "    Found existing installation: typing-extensions 3.7.4.3\n",
       "    Not uninstalling typing-extensions at /databricks/python3/lib/python3.8/site-packages, outside environment /local_disk0/.ephemeral_nfs/envs/pythonEnv-6c40e345-d2ac-4734-aaee-db4700844355\n",
       "    Can&#39;t uninstall &#39;typing-extensions&#39;. No files were found to uninstall.\n",
       "ERROR: pip&#39;s dependency resolver does not currently take into account all the packages that are installed. This behaviour is the source of the following dependency conflicts.\n",
       "tensorflow-cpu 2.6.0 requires typing-extensions~=3.7.4, but you have typing-extensions 4.11.0 which is incompatible.\n",
       "Successfully installed SQLAlchemy-2.0.29 duckdb-0.10.1 duckdq-0.0.post0.dev9+g5032943 greenlet-3.0.3 tryingsnake-0.5.1 typing-extensions-4.11.0 whylabs-datasketches-2.2.0b1\n",
       "WARNING: You are using pip version 21.0.1; however, version 24.0 is available.\n",
       "You should consider upgrading via the &#39;/local_disk0/.ephemeral_nfs/envs/pythonEnv-6c40e345-d2ac-4734-aaee-db4700844355/bin/python -m pip install --upgrade pip&#39; command.\n",
       "Python interpreter will be restarted.\n",
       "</div>"
      ]
     },
     "metadata": {
      "application/vnd.databricks.v1+output": {
       "addedWidgets": {},
       "arguments": {},
       "data": "<div class=\"ansiout\">Python interpreter will be restarted.\nCollecting git+https://github.com/tdoehmen/duckdq\n  Cloning https://github.com/tdoehmen/duckdq to /tmp/pip-req-build-16to2zyt\n  Running command git clone -q https://github.com/tdoehmen/duckdq /tmp/pip-req-build-16to2zyt\nCollecting duckdb&gt;=0.2.3\n  Downloading duckdb-0.10.1-cp38-cp38-manylinux_2_17_x86_64.manylinux2014_x86_64.whl (18.1 MB)\nCollecting SQLAlchemy\n  Downloading SQLAlchemy-2.0.29-cp38-cp38-manylinux_2_17_x86_64.manylinux2014_x86_64.whl (3.1 MB)\nRequirement already satisfied: pandas in /databricks/python3/lib/python3.8/site-packages (from duckdq==0.0.post0.dev9+g5032943) (1.2.4)\nCollecting whylabs-datasketches\n  Downloading whylabs_datasketches-2.2.0b1-cp38-cp38-manylinux2010_x86_64.whl (405 kB)\nRequirement already satisfied: dill in /databricks/python3/lib/python3.8/site-packages (from duckdq==0.0.post0.dev9+g5032943) (0.3.2)\nCollecting tryingsnake\n  Downloading tryingsnake-0.5.1.tar.gz (13 kB)\nRequirement already satisfied: pytz&gt;=2017.3 in /databricks/python3/lib/python3.8/site-packages (from pandas-&gt;duckdq==0.0.post0.dev9+g5032943) (2020.5)\nRequirement already satisfied: numpy&gt;=1.16.5 in /databricks/python3/lib/python3.8/site-packages (from pandas-&gt;duckdq==0.0.post0.dev9+g5032943) (1.19.2)\nRequirement already satisfied: python-dateutil&gt;=2.7.3 in /databricks/python3/lib/python3.8/site-packages (from pandas-&gt;duckdq==0.0.post0.dev9+g5032943) (2.8.1)\nRequirement already satisfied: six&gt;=1.5 in /databricks/python3/lib/python3.8/site-packages (from python-dateutil&gt;=2.7.3-&gt;pandas-&gt;duckdq==0.0.post0.dev9+g5032943) (1.15.0)\nCollecting typing-extensions&gt;=4.6.0\n  Downloading typing_extensions-4.11.0-py3-none-any.whl (34 kB)\nCollecting greenlet!=0.4.17\n  Downloading greenlet-3.0.3-cp38-cp38-manylinux_2_24_x86_64.manylinux_2_28_x86_64.whl (622 kB)\nBuilding wheels for collected packages: duckdq, tryingsnake\n  Building wheel for duckdq (setup.py): started\n  Building wheel for duckdq (setup.py): finished with status &#39;done&#39;\n  Created wheel for duckdq: filename=duckdq-0.0.post0.dev9+g5032943-py2.py3-none-any.whl size=43626 sha256=936fe615548e6670f6f3dc11b0c5ba169b84ee8358a1df1b94c884a9d2643e33\n  Stored in directory: /tmp/pip-ephem-wheel-cache-n4zf59tp/wheels/88/a5/74/5b722e499bbd67855336523f1b88d3078e69eeb50f563fbfce\n  Building wheel for tryingsnake (setup.py): started\n  Building wheel for tryingsnake (setup.py): finished with status &#39;done&#39;\n  Created wheel for tryingsnake: filename=tryingsnake-0.5.1-py3-none-any.whl size=11427 sha256=4aa62f0a23ff64ae3faa690fb5822ece5a851cec4400d2e2810b7cb18eef28dd\n  Stored in directory: /root/.cache/pip/wheels/0a/e8/c5/7eda97b4220dd6b8cc007d52a6f41aae0e64b1d9a5572dfa28\nSuccessfully built duckdq tryingsnake\nInstalling collected packages: typing-extensions, greenlet, whylabs-datasketches, tryingsnake, SQLAlchemy, duckdb, duckdq\n  Attempting uninstall: typing-extensions\n    Found existing installation: typing-extensions 3.7.4.3\n    Not uninstalling typing-extensions at /databricks/python3/lib/python3.8/site-packages, outside environment /local_disk0/.ephemeral_nfs/envs/pythonEnv-6c40e345-d2ac-4734-aaee-db4700844355\n    Can&#39;t uninstall &#39;typing-extensions&#39;. No files were found to uninstall.\nERROR: pip&#39;s dependency resolver does not currently take into account all the packages that are installed. This behaviour is the source of the following dependency conflicts.\ntensorflow-cpu 2.6.0 requires typing-extensions~=3.7.4, but you have typing-extensions 4.11.0 which is incompatible.\nSuccessfully installed SQLAlchemy-2.0.29 duckdb-0.10.1 duckdq-0.0.post0.dev9+g5032943 greenlet-3.0.3 tryingsnake-0.5.1 typing-extensions-4.11.0 whylabs-datasketches-2.2.0b1\nWARNING: You are using pip version 21.0.1; however, version 24.0 is available.\nYou should consider upgrading via the &#39;/local_disk0/.ephemeral_nfs/envs/pythonEnv-6c40e345-d2ac-4734-aaee-db4700844355/bin/python -m pip install --upgrade pip&#39; command.\nPython interpreter will be restarted.\n</div>",
       "datasetInfos": [],
       "metadata": {},
       "removedWidgets": [],
       "type": "html"
      }
     },
     "output_type": "display_data"
    }
   ],
   "source": [
    "%pip install git+https://github.com/tdoehmen/duckdq"
   ]
  },
  {
   "cell_type": "code",
   "execution_count": null,
   "metadata": {
    "application/vnd.databricks.v1+cell": {
     "cellMetadata": {
      "byteLimit": 2048000,
      "rowLimit": 10000
     },
     "inputWidgets": {},
     "nuid": "800d1eb5-fefd-4a50-b2c9-3a4a7782e64c",
     "showTitle": false,
     "title": ""
    }
   },
   "outputs": [
    {
     "data": {
      "text/html": [
       "<style scoped>\n",
       "  .ansiout {\n",
       "    display: block;\n",
       "    unicode-bidi: embed;\n",
       "    white-space: pre-wrap;\n",
       "    word-wrap: break-word;\n",
       "    word-break: break-all;\n",
       "    font-family: \"Menlo\", \"Monaco\", \"Consolas\", \"Ubuntu Mono\", \"Source Code Pro\", monospace;\n",
       "    font-size: 13px;\n",
       "    color: #555;\n",
       "    margin-left: 4px;\n",
       "    line-height: 19px;\n",
       "  }\n",
       "</style>\n",
       "<div class=\"ansiout\"></div>"
      ]
     },
     "metadata": {
      "application/vnd.databricks.v1+output": {
       "addedWidgets": {},
       "arguments": {},
       "data": "<div class=\"ansiout\"></div>",
       "datasetInfos": [],
       "metadata": {},
       "removedWidgets": [],
       "type": "html"
      }
     },
     "output_type": "display_data"
    }
   ],
   "source": [
    "from duckdq.checks import Check, CheckLevel\n"
   ]
  },
  {
   "cell_type": "code",
   "execution_count": null,
   "metadata": {
    "application/vnd.databricks.v1+cell": {
     "cellMetadata": {
      "byteLimit": 2048000,
      "rowLimit": 10000
     },
     "inputWidgets": {},
     "nuid": "e5328781-a833-40ba-bbcb-c585c12e9e20",
     "showTitle": false,
     "title": ""
    }
   },
   "outputs": [
    {
     "data": {
      "text/html": [
       "<style scoped>\n",
       "  .ansiout {\n",
       "    display: block;\n",
       "    unicode-bidi: embed;\n",
       "    white-space: pre-wrap;\n",
       "    word-wrap: break-word;\n",
       "    word-break: break-all;\n",
       "    font-family: \"Menlo\", \"Monaco\", \"Consolas\", \"Ubuntu Mono\", \"Source Code Pro\", monospace;\n",
       "    font-size: 13px;\n",
       "    color: #555;\n",
       "    margin-left: 4px;\n",
       "    line-height: 19px;\n",
       "  }\n",
       "</style>\n",
       "<div class=\"ansiout\">import spark.implicits._\n",
       "import org.apache.spark.sql._\n",
       "import org.apache.spark.sql.functions._\n",
       "import org.apache.spark.sql.functions.concat\n",
       "data_path: String = /tmp/StreamingDataQuality/source/\n",
       "checkpoint_path: String = /tmp/StreamingDataQuality/checkpoint/\n",
       "base_df: org.apache.spark.sql.DataFrame = [buysell: string, date: string ... 6 more fields]\n",
       "empty_df: org.apache.spark.sql.Dataset[org.apache.spark.sql.Row] = [buysell: string, date: string ... 6 more fields]\n",
       "l1: Long = 0\n",
       "res1: Boolean = true\n",
       "</div>"
      ]
     },
     "metadata": {
      "application/vnd.databricks.v1+output": {
       "addedWidgets": {},
       "arguments": {},
       "data": "<div class=\"ansiout\">import spark.implicits._\nimport org.apache.spark.sql._\nimport org.apache.spark.sql.functions._\nimport org.apache.spark.sql.functions.concat\ndata_path: String = /tmp/StreamingDataQuality/source/\ncheckpoint_path: String = /tmp/StreamingDataQuality/checkpoint/\nbase_df: org.apache.spark.sql.DataFrame = [buysell: string, date: string ... 6 more fields]\nempty_df: org.apache.spark.sql.Dataset[org.apache.spark.sql.Row] = [buysell: string, date: string ... 6 more fields]\nl1: Long = 0\nres1: Boolean = true\n</div>",
       "datasetInfos": [],
       "metadata": {
        "isDbfsCommandResult": false
       },
       "removedWidgets": [],
       "type": "html"
      }
     },
     "output_type": "display_data"
    }
   ],
   "source": [
    "%scala\n",
    "import spark.implicits._\n",
    "import org.apache.spark.sql._\n",
    "import org.apache.spark.sql.functions._\n",
    "import org.apache.spark.sql.functions.concat\n",
    "\n",
    "val data_path = \"/tmp/StreamingDataQuality/source/\"\n",
    "val checkpoint_path = \"/tmp/StreamingDataQuality/checkpoint/\"\n",
    "val base_df = spark.read.parquet(data_path)\n",
    "val empty_df = base_df.where(\"0 = 1\")\n",
    "val l1: Long = 0\n",
    "\n",
    "spark.sql(\"DROP TABLE IF EXISTS trades_delta\")\n",
    "spark.sql(\"DROP TABLE IF EXISTS bad_records\")\n",
    "spark.sql(\"DROP TABLE IF EXISTS duck_metrics\")\n",
    "\n",
    "base_df.createOrReplaceTempView(\"trades_historical\")\n",
    "empty_df.write.format(\"delta\").saveAsTable(\"trades_delta\")\n",
    "empty_df.withColumn(\"batchID\",lit(l1)).write.format(\"delta\").saveAsTable(\"bad_records\")\n",
    "dbutils.fs.mkdirs(checkpoint_path)"
   ]
  },
  {
   "cell_type": "code",
   "execution_count": null,
   "metadata": {
    "application/vnd.databricks.v1+cell": {
     "cellMetadata": {
      "byteLimit": 2048000,
      "rowLimit": 10000
     },
     "inputWidgets": {},
     "nuid": "bb3398a1-4276-4095-9e4c-4ecf9b765e21",
     "showTitle": false,
     "title": ""
    }
   },
   "outputs": [
    {
     "data": {
      "text/html": [
       "<style scoped>\n",
       "  .ansiout {\n",
       "    display: block;\n",
       "    unicode-bidi: embed;\n",
       "    white-space: pre-wrap;\n",
       "    word-wrap: break-word;\n",
       "    word-break: break-all;\n",
       "    font-family: \"Menlo\", \"Monaco\", \"Consolas\", \"Ubuntu Mono\", \"Source Code Pro\", monospace;\n",
       "    font-size: 13px;\n",
       "    color: #555;\n",
       "    margin-left: 4px;\n",
       "    line-height: 19px;\n",
       "  }\n",
       "</style>\n",
       "<div class=\"ansiout\"></div>"
      ]
     },
     "metadata": {
      "application/vnd.databricks.v1+output": {
       "addedWidgets": {},
       "arguments": {},
       "data": "<div class=\"ansiout\"></div>",
       "datasetInfos": [],
       "metadata": {},
       "removedWidgets": [],
       "type": "html"
      }
     },
     "output_type": "display_data"
    }
   ],
   "source": [
    "%sh\n",
    "# clear the delta checkpoint\n",
    "rm -rf /dbfs/tmp/StreamingDataQuality/checkpoint\n"
   ]
  },
  {
   "cell_type": "code",
   "execution_count": null,
   "metadata": {
    "application/vnd.databricks.v1+cell": {
     "cellMetadata": {
      "byteLimit": 2048000,
      "rowLimit": 10000
     },
     "inputWidgets": {},
     "nuid": "af77bbbe-cd5b-49af-ba60-73f7878120f2",
     "showTitle": false,
     "title": ""
    }
   },
   "outputs": [
    {
     "data": {
      "text/html": [
       "<style scoped>\n",
       "  .ansiout {\n",
       "    display: block;\n",
       "    unicode-bidi: embed;\n",
       "    white-space: pre-wrap;\n",
       "    word-wrap: break-word;\n",
       "    word-break: break-all;\n",
       "    font-family: \"Menlo\", \"Monaco\", \"Consolas\", \"Ubuntu Mono\", \"Source Code Pro\", monospace;\n",
       "    font-size: 13px;\n",
       "    color: #555;\n",
       "    margin-left: 4px;\n",
       "    line-height: 19px;\n",
       "  }\n",
       "</style>\n",
       "<div class=\"ansiout\">Out[8]: &lt;pyspark.sql.streaming.StreamingQuery at 0x7fdda5f70b80&gt;</div>"
      ]
     },
     "metadata": {
      "application/vnd.databricks.v1+output": {
       "addedWidgets": {},
       "arguments": {},
       "data": "<div class=\"ansiout\">Out[8]: &lt;pyspark.sql.streaming.StreamingQuery at 0x7fdda5f70b80&gt;</div>",
       "datasetInfos": [],
       "metadata": {},
       "removedWidgets": [],
       "type": "html"
      }
     },
     "output_type": "display_data"
    }
   ],
   "source": [
    "(spark\n",
    " .readStream\n",
    " .schema(jsonSchema)  # Make sure jsonSchema is defined or available in your context\n",
    " .format(\"parquet\")\n",
    " .option(\"maxFilesPerTrigger\", 1)\n",
    " .load(\"/tmp/StreamingDataQuality/source/\")\n",
    " .writeStream\n",
    " .format(\"delta\")\n",
    " .option(\"failOnDataLoss\", \"false\")\n",
    " .option(\"checkpointLocation\", \"/tmp/StreamingDataQuality/checkpoint/\")\n",
    " .toTable(\"trades_delta\"))"
   ]
  },
  {
   "cell_type": "code",
   "execution_count": null,
   "metadata": {
    "application/vnd.databricks.v1+cell": {
     "cellMetadata": {
      "byteLimit": 2048000,
      "rowLimit": 10000
     },
     "inputWidgets": {},
     "nuid": "94d5f08a-6917-4d0f-a9a4-61acfc41bf88",
     "showTitle": false,
     "title": ""
    }
   },
   "outputs": [
    {
     "data": {
      "text/html": [
       "<style scoped>\n",
       "  .ansiout {\n",
       "    display: block;\n",
       "    unicode-bidi: embed;\n",
       "    white-space: pre-wrap;\n",
       "    word-wrap: break-word;\n",
       "    word-break: break-all;\n",
       "    font-family: \"Menlo\", \"Monaco\", \"Consolas\", \"Ubuntu Mono\", \"Source Code Pro\", monospace;\n",
       "    font-size: 13px;\n",
       "    color: #555;\n",
       "    margin-left: 4px;\n",
       "    line-height: 19px;\n",
       "  }\n",
       "</style>\n",
       "<div class=\"ansiout\"></div>"
      ]
     },
     "metadata": {
      "application/vnd.databricks.v1+output": {
       "addedWidgets": {},
       "arguments": {},
       "data": "<div class=\"ansiout\"></div>",
       "datasetInfos": [],
       "metadata": {},
       "removedWidgets": [],
       "type": "html"
      }
     },
     "output_type": "display_data"
    }
   ],
   "source": [
    "from pyspark.sql import SparkSession\n",
    "from pyspark.sql.functions import lit, current_timestamp\n",
    "from duckdq.checks import Check, CheckLevel\n",
    "from duckdq.verification_suite import VerificationResult, VerificationSuite\n",
    "from pyspark.sql.types import LongType\n",
    "\n",
    "# Initialize SparkSession\n",
    "spark = SparkSession.builder.appName(\"StreamingDataQuality\").getOrCreate()\n",
    "\n",
    "# Read the delta table as a streaming source\n",
    "trades_delta_stream = spark.readStream \\\n",
    "    .format(\"delta\") \\\n",
    "    .table(\"trades_delta\")\n",
    "\n",
    "# Process each batch of data\n",
    "def process_batch(batchDF, batchId):\n",
    "\n",
    "    df = batchDF.toPandas()\n",
    "    verificationResult = (\n",
    "      VerificationSuite()\n",
    "        .on_data(df)\n",
    "        .add_check(\n",
    "        Check(CheckLevel.WARNING, \"Basic Check 2\")\n",
    "        .has_max(\"quantity\", lambda mx: mx <= 10000)\n",
    "        .is_non_negative(\"quantity\")\n",
    "        .is_complete(\"ipaddr\" )\n",
    "        .is_complete(\"quantity\")\n",
    "        .is_complete(\"price\")\n",
    "        .is_distinct(\"symbol\")\n",
    "            )\n",
    "            .run()\n",
    "    )\n",
    "\n",
    "    data = []  \n",
    "\n",
    "    for check, check_result in verificationResult.check_results.items():\n",
    "        check_description = check.description\n",
    "        for constraint_result in check_result.constraint_results:\n",
    "            constraint_s = constraint_result.constraint.__str__()\n",
    "            constraint_result_s = constraint_result.status.name\n",
    "            metric_value = constraint_result.metric.value\n",
    "            metric_s = metric_value.get() if metric_value.isSuccess else \"Error retrieving metric\"\n",
    "            data.append({\n",
    "                \"Check\": check_description,\n",
    "                \"Constraint\": constraint_s,\n",
    "                \"Status\": constraint_result_s,\n",
    "                \"Metric\": metric_s\n",
    "            })\n",
    "\n",
    "    schema = StructType([\n",
    "        StructField(\"Check\", StringType(), True),\n",
    "        StructField(\"Constraint\", StringType(), True),\n",
    "        StructField(\"Status\", StringType(), True),\n",
    "        StructField(\"Metric\", StringType(), True) \n",
    "    ])\n",
    "\n",
    "    batchDF = batchDF.withColumn(\"batchID\", lit(batchId).cast(LongType()))\n",
    "    ver_df = spark.createDataFrame(data, schema=schema)\n",
    "\n",
    "    if verificationResult.status != \"Success\":\n",
    "        batchDF = batchDF.withColumn(\"batchID\", lit(batchId).cast(LongType()))\n",
    "        batchDF.write.format(\"delta\").mode(\"append\").saveAsTable(\"bad_records\")\n",
    "\n",
    "    metric_results = ver_df \n",
    "    metric_results = metric_results.withColumn(\"batchID\", lit(batchId).cast(LongType()))\n",
    "    metric_results.withColumn(\"ts\", current_timestamp()) \\\n",
    "        .write.format(\"delta\").mode(\"append\").saveAsTable(\"duck_metrics\")\n",
    "\n",
    "# Applying the foreachBatch function\n",
    "query = trades_delta_stream.writeStream.foreachBatch(process_batch).start()\n",
    "\n"
   ]
  },
  {
   "cell_type": "code",
   "execution_count": null,
   "metadata": {
    "application/vnd.databricks.v1+cell": {
     "cellMetadata": {
      "byteLimit": 2048000,
      "rowLimit": 10000
     },
     "inputWidgets": {},
     "nuid": "09b5171e-81f8-4269-9e1d-88b63e4344bc",
     "showTitle": false,
     "title": ""
    }
   },
   "outputs": [
    {
     "data": {
      "text/html": [
       "<style scoped>\n",
       "  .table-result-container {\n",
       "    max-height: 300px;\n",
       "    overflow: auto;\n",
       "  }\n",
       "  table, th, td {\n",
       "    border: 1px solid black;\n",
       "    border-collapse: collapse;\n",
       "  }\n",
       "  th, td {\n",
       "    padding: 5px;\n",
       "  }\n",
       "  th {\n",
       "    text-align: left;\n",
       "  }\n",
       "</style><div class='table-result-container'><table class='table-result'><thead style='background-color: white'><tr><th>Check</th><th>Constraint</th><th>Status</th><th>Metric</th><th>batchID</th><th>ts</th></tr></thead><tbody><tr><td>Basic Check 2</td><td>CompletenessConstraint(Completeness(quantity))</td><td>FAILURE</td><td>0.9666666666666667</td><td>32</td><td>2024-04-10T22:33:38.495+0000</td></tr><tr><td>Basic Check 2</td><td>ComplianceConstraint(Compliance(quantity is non-negative))</td><td>FAILURE</td><td>0.9666666666666667</td><td>32</td><td>2024-04-10T22:33:38.495+0000</td></tr><tr><td>Basic Check 2</td><td>CompletenessConstraint(Completeness(ipaddr))</td><td>FAILURE</td><td>0.9666666666666667</td><td>32</td><td>2024-04-10T22:33:38.495+0000</td></tr><tr><td>Basic Check 2</td><td>CompletenessConstraint(Completeness(quantity))</td><td>FAILURE</td><td>0.85</td><td>38</td><td>2024-04-10T22:34:10.562+0000</td></tr><tr><td>Basic Check 2</td><td>CompletenessConstraint(Completeness(quantity))</td><td>FAILURE</td><td>0.95</td><td>49</td><td>2024-04-10T22:35:12.402+0000</td></tr><tr><td>Basic Check 2</td><td>CompletenessConstraint(Completeness(quantity))</td><td>FAILURE</td><td>0.95</td><td>45</td><td>2024-04-10T22:34:49.528+0000</td></tr><tr><td>Basic Check 2</td><td>CompletenessConstraint(Completeness(quantity))</td><td>FAILURE</td><td>0.95</td><td>43</td><td>2024-04-10T22:34:38.876+0000</td></tr><tr><td>Basic Check 2</td><td>CompletenessConstraint(Completeness(quantity))</td><td>FAILURE</td><td>0.95</td><td>37</td><td>2024-04-10T22:34:05.639+0000</td></tr><tr><td>Basic Check 2</td><td>CompletenessConstraint(Completeness(quantity))</td><td>FAILURE</td><td>0.95</td><td>25</td><td>2024-04-10T22:32:58.184+0000</td></tr><tr><td>Basic Check 2</td><td>CompletenessConstraint(Completeness(quantity))</td><td>FAILURE</td><td>0.85</td><td>6</td><td>2024-04-10T22:31:06.751+0000</td></tr><tr><td>Basic Check 2</td><td>CompletenessConstraint(Completeness(quantity))</td><td>FAILURE</td><td>0.95</td><td>31</td><td>2024-04-10T22:33:32.758+0000</td></tr><tr><td>Basic Check 2</td><td>CompletenessConstraint(Completeness(quantity))</td><td>FAILURE</td><td>0.95</td><td>11</td><td>2024-04-10T22:31:38.798+0000</td></tr><tr><td>Basic Check 2</td><td>CompletenessConstraint(Completeness(quantity))</td><td>FAILURE</td><td>0.85</td><td>9</td><td>2024-04-10T22:31:25.420+0000</td></tr><tr><td>Basic Check 2</td><td>CompletenessConstraint(Completeness(quantity))</td><td>FAILURE</td><td>0.95</td><td>39</td><td>2024-04-10T22:34:16.534+0000</td></tr><tr><td>Basic Check 2</td><td>CompletenessConstraint(Completeness(quantity))</td><td>FAILURE</td><td>0.95</td><td>8</td><td>2024-04-10T22:31:19.563+0000</td></tr><tr><td>Basic Check 2</td><td>CompletenessConstraint(Completeness(quantity))</td><td>FAILURE</td><td>0.95</td><td>41</td><td>2024-04-10T22:34:29.068+0000</td></tr><tr><td>Basic Check 2</td><td>CompletenessConstraint(Completeness(quantity))</td><td>FAILURE</td><td>0.95</td><td>7</td><td>2024-04-10T22:31:13.371+0000</td></tr><tr><td>Basic Check 2</td><td>CompletenessConstraint(Completeness(quantity))</td><td>FAILURE</td><td>0.85</td><td>40</td><td>2024-04-10T22:34:22.714+0000</td></tr><tr><td>Basic Check 2</td><td>CompletenessConstraint(Completeness(quantity))</td><td>FAILURE</td><td>0.95</td><td>26</td><td>2024-04-10T22:33:03.783+0000</td></tr><tr><td>Basic Check 2</td><td>CompletenessConstraint(Completeness(quantity))</td><td>FAILURE</td><td>0.95</td><td>12</td><td>2024-04-10T22:31:44.055+0000</td></tr><tr><td>Basic Check 2</td><td>CompletenessConstraint(Completeness(quantity))</td><td>FAILURE</td><td>0.95</td><td>10</td><td>2024-04-10T22:31:31.442+0000</td></tr><tr><td>Basic Check 2</td><td>CompletenessConstraint(Completeness(quantity))</td><td>FAILURE</td><td>0.95</td><td>15</td><td>2024-04-10T22:32:01.612+0000</td></tr><tr><td>Basic Check 2</td><td>ComplianceConstraint(Compliance(quantity is non-negative))</td><td>FAILURE</td><td>0.95</td><td>48</td><td>2024-04-10T22:35:06.336+0000</td></tr><tr><td>Basic Check 2</td><td>CompletenessConstraint(Completeness(ipaddr))</td><td>FAILURE</td><td>0.95</td><td>48</td><td>2024-04-10T22:35:06.336+0000</td></tr><tr><td>Basic Check 2</td><td>ComplianceConstraint(Compliance(quantity is non-negative))</td><td>FAILURE</td><td>0.95</td><td>47</td><td>2024-04-10T22:34:59.975+0000</td></tr><tr><td>Basic Check 2</td><td>CompletenessConstraint(Completeness(ipaddr))</td><td>FAILURE</td><td>0.95</td><td>47</td><td>2024-04-10T22:34:59.975+0000</td></tr><tr><td>Basic Check 2</td><td>ComplianceConstraint(Compliance(quantity is non-negative))</td><td>FAILURE</td><td>0.95</td><td>27</td><td>2024-04-10T22:33:08.532+0000</td></tr><tr><td>Basic Check 2</td><td>CompletenessConstraint(Completeness(ipaddr))</td><td>FAILURE</td><td>0.95</td><td>27</td><td>2024-04-10T22:33:08.532+0000</td></tr><tr><td>Basic Check 2</td><td>ComplianceConstraint(Compliance(quantity is non-negative))</td><td>FAILURE</td><td>0.95</td><td>14</td><td>2024-04-10T22:31:55.343+0000</td></tr><tr><td>Basic Check 2</td><td>CompletenessConstraint(Completeness(ipaddr))</td><td>FAILURE</td><td>0.95</td><td>14</td><td>2024-04-10T22:31:55.343+0000</td></tr><tr><td>Basic Check 2</td><td>ComplianceConstraint(Compliance(quantity is non-negative))</td><td>FAILURE</td><td>0.95</td><td>36</td><td>2024-04-10T22:33:59.422+0000</td></tr><tr><td>Basic Check 2</td><td>CompletenessConstraint(Completeness(ipaddr))</td><td>FAILURE</td><td>0.95</td><td>36</td><td>2024-04-10T22:33:59.422+0000</td></tr><tr><td>Basic Check 2</td><td>ComplianceConstraint(Compliance(quantity is non-negative))</td><td>FAILURE</td><td>0.95</td><td>15</td><td>2024-04-10T22:32:01.612+0000</td></tr><tr><td>Basic Check 2</td><td>CompletenessConstraint(Completeness(ipaddr))</td><td>FAILURE</td><td>0.95</td><td>15</td><td>2024-04-10T22:32:01.612+0000</td></tr><tr><td>Basic Check 2</td><td>CompletenessConstraint(Completeness(quantity))</td><td>SUCCESS</td><td>1.0</td><td>27</td><td>2024-04-10T22:33:08.532+0000</td></tr><tr><td>Basic Check 2</td><td>CompletenessConstraint(Completeness(quantity))</td><td>SUCCESS</td><td>1.0</td><td>29</td><td>2024-04-10T22:33:20.551+0000</td></tr><tr><td>Basic Check 2</td><td>CompletenessConstraint(Completeness(quantity))</td><td>SUCCESS</td><td>1.0</td><td>16</td><td>2024-04-10T22:32:07.825+0000</td></tr><tr><td>Basic Check 2</td><td>CompletenessConstraint(Completeness(quantity))</td><td>SUCCESS</td><td>1.0</td><td>18</td><td>2024-04-10T22:32:18.681+0000</td></tr><tr><td>Basic Check 2</td><td>CompletenessConstraint(Completeness(quantity))</td><td>SUCCESS</td><td>1.0</td><td>21</td><td>2024-04-10T22:32:36.363+0000</td></tr><tr><td>Basic Check 2</td><td>CompletenessConstraint(Completeness(quantity))</td><td>SUCCESS</td><td>1.0</td><td>36</td><td>2024-04-10T22:33:59.422+0000</td></tr><tr><td>Basic Check 2</td><td>CompletenessConstraint(Completeness(quantity))</td><td>SUCCESS</td><td>1.0</td><td>5</td><td>2024-04-10T22:31:01.240+0000</td></tr><tr><td>Basic Check 2</td><td>CompletenessConstraint(Completeness(quantity))</td><td>SUCCESS</td><td>1.0</td><td>14</td><td>2024-04-10T22:31:55.343+0000</td></tr><tr><td>Basic Check 2</td><td>CompletenessConstraint(Completeness(quantity))</td><td>SUCCESS</td><td>1.0</td><td>47</td><td>2024-04-10T22:34:59.975+0000</td></tr><tr><td>Basic Check 2</td><td>CompletenessConstraint(Completeness(quantity))</td><td>SUCCESS</td><td>1.0</td><td>34</td><td>2024-04-10T22:33:48.686+0000</td></tr><tr><td>Basic Check 2</td><td>CompletenessConstraint(Completeness(quantity))</td><td>SUCCESS</td><td>1.0</td><td>24</td><td>2024-04-10T22:32:52.699+0000</td></tr><tr><td>Basic Check 2</td><td>CompletenessConstraint(Completeness(quantity))</td><td>SUCCESS</td><td>1.0</td><td>0</td><td>2024-04-10T22:30:28.100+0000</td></tr><tr><td>Basic Check 2</td><td>CompletenessConstraint(Completeness(quantity))</td><td>SUCCESS</td><td>1.0</td><td>28</td><td>2024-04-10T22:33:14.794+0000</td></tr><tr><td>Basic Check 2</td><td>ComplianceConstraint(Compliance(quantity is non-negative))</td><td>FAILURE</td><td>0.95</td><td>2</td><td>2024-04-10T22:30:42.752+0000</td></tr><tr><td>Basic Check 2</td><td>CompletenessConstraint(Completeness(ipaddr))</td><td>FAILURE</td><td>0.95</td><td>2</td><td>2024-04-10T22:30:42.752+0000</td></tr><tr><td>Basic Check 2</td><td>CompletenessConstraint(Completeness(quantity))</td><td>SUCCESS</td><td>1.0</td><td>46</td><td>2024-04-10T22:34:55.037+0000</td></tr><tr><td>Basic Check 2</td><td>CompletenessConstraint(Completeness(quantity))</td><td>SUCCESS</td><td>1.0</td><td>44</td><td>2024-04-10T22:34:43.317+0000</td></tr><tr><td>Basic Check 2</td><td>CompletenessConstraint(Completeness(quantity))</td><td>SUCCESS</td><td>1.0</td><td>2</td><td>2024-04-10T22:30:42.752+0000</td></tr><tr><td>Basic Check 2</td><td>CompletenessConstraint(Completeness(quantity))</td><td>SUCCESS</td><td>1.0</td><td>4</td><td>2024-04-10T22:30:54.802+0000</td></tr><tr><td>Basic Check 2</td><td>CompletenessConstraint(Completeness(quantity))</td><td>SUCCESS</td><td>1.0</td><td>48</td><td>2024-04-10T22:35:06.336+0000</td></tr><tr><td>Basic Check 2</td><td>CompletenessConstraint(Completeness(quantity))</td><td>SUCCESS</td><td>1.0</td><td>19</td><td>2024-04-10T22:32:23.783+0000</td></tr><tr><td>Basic Check 2</td><td>CompletenessConstraint(Completeness(quantity))</td><td>SUCCESS</td><td>1.0</td><td>17</td><td>2024-04-10T22:32:13.121+0000</td></tr><tr><td>Basic Check 2</td><td>CompletenessConstraint(Completeness(quantity))</td><td>SUCCESS</td><td>1.0</td><td>33</td><td>2024-04-10T22:33:42.846+0000</td></tr><tr><td>Basic Check 2</td><td>CompletenessConstraint(Completeness(quantity))</td><td>SUCCESS</td><td>1.0</td><td>23</td><td>2024-04-10T22:32:46.642+0000</td></tr><tr><td>Basic Check 2</td><td>CompletenessConstraint(Completeness(quantity))</td><td>FAILURE</td><td>0.9</td><td>50</td><td>2024-04-10T22:35:17.270+0000</td></tr><tr><td>Basic Check 2</td><td>CompletenessConstraint(Completeness(quantity))</td><td>FAILURE</td><td>0.9</td><td>22</td><td>2024-04-10T22:32:40.819+0000</td></tr><tr><td>Basic Check 2</td><td>CompletenessConstraint(Completeness(quantity))</td><td>FAILURE</td><td>0.9</td><td>3</td><td>2024-04-10T22:30:49.534+0000</td></tr><tr><td>Basic Check 2</td><td>CompletenessConstraint(Completeness(quantity))</td><td>FAILURE</td><td>0.9</td><td>13</td><td>2024-04-10T22:31:49.714+0000</td></tr><tr><td>Basic Check 2</td><td>CompletenessConstraint(Completeness(quantity))</td><td>FAILURE</td><td>0.9</td><td>1</td><td>2024-04-10T22:30:36.711+0000</td></tr><tr><td>Basic Check 2</td><td>CompletenessConstraint(Completeness(quantity))</td><td>FAILURE</td><td>0.9</td><td>20</td><td>2024-04-10T22:32:29.773+0000</td></tr><tr><td>Basic Check 2</td><td>CompletenessConstraint(Completeness(quantity))</td><td>FAILURE</td><td>0.9</td><td>42</td><td>2024-04-10T22:34:33.827+0000</td></tr><tr><td>Basic Check 2</td><td>CompletenessConstraint(Completeness(quantity))</td><td>SUCCESS</td><td>1.0</td><td>30</td><td>2024-04-10T22:33:25.962+0000</td></tr><tr><td>Basic Check 2</td><td>CompletenessConstraint(Completeness(quantity))</td><td>FAILURE</td><td>0.9</td><td>35</td><td>2024-04-10T22:33:54.531+0000</td></tr><tr><td>Basic Check 2</td><td>ComplianceConstraint(Compliance(quantity is non-negative))</td><td>SUCCESS</td><td>1.0</td><td>50</td><td>2024-04-10T22:35:17.270+0000</td></tr><tr><td>Basic Check 2</td><td>CompletenessConstraint(Completeness(ipaddr))</td><td>SUCCESS</td><td>1.0</td><td>50</td><td>2024-04-10T22:35:17.270+0000</td></tr><tr><td>Basic Check 2</td><td>ComplianceConstraint(Compliance(quantity is non-negative))</td><td>SUCCESS</td><td>1.0</td><td>33</td><td>2024-04-10T22:33:42.846+0000</td></tr><tr><td>Basic Check 2</td><td>CompletenessConstraint(Completeness(ipaddr))</td><td>SUCCESS</td><td>1.0</td><td>33</td><td>2024-04-10T22:33:42.846+0000</td></tr><tr><td>Basic Check 2</td><td>ComplianceConstraint(Compliance(quantity is non-negative))</td><td>SUCCESS</td><td>1.0</td><td>1</td><td>2024-04-10T22:30:36.711+0000</td></tr><tr><td>Basic Check 2</td><td>CompletenessConstraint(Completeness(ipaddr))</td><td>SUCCESS</td><td>1.0</td><td>1</td><td>2024-04-10T22:30:36.711+0000</td></tr><tr><td>Basic Check 2</td><td>ComplianceConstraint(Compliance(quantity is non-negative))</td><td>SUCCESS</td><td>1.0</td><td>9</td><td>2024-04-10T22:31:25.420+0000</td></tr><tr><td>Basic Check 2</td><td>CompletenessConstraint(Completeness(ipaddr))</td><td>SUCCESS</td><td>1.0</td><td>9</td><td>2024-04-10T22:31:25.420+0000</td></tr><tr><td>Basic Check 2</td><td>ComplianceConstraint(Compliance(quantity is non-negative))</td><td>SUCCESS</td><td>1.0</td><td>11</td><td>2024-04-10T22:31:38.798+0000</td></tr><tr><td>Basic Check 2</td><td>CompletenessConstraint(Completeness(ipaddr))</td><td>SUCCESS</td><td>1.0</td><td>11</td><td>2024-04-10T22:31:38.798+0000</td></tr><tr><td>Basic Check 2</td><td>ComplianceConstraint(Compliance(quantity is non-negative))</td><td>SUCCESS</td><td>1.0</td><td>5</td><td>2024-04-10T22:31:01.240+0000</td></tr><tr><td>Basic Check 2</td><td>CompletenessConstraint(Completeness(ipaddr))</td><td>SUCCESS</td><td>1.0</td><td>5</td><td>2024-04-10T22:31:01.240+0000</td></tr><tr><td>Basic Check 2</td><td>CompletenessConstraint(Completeness(price))</td><td>FAILURE</td><td>0.9333333333333333</td><td>17</td><td>2024-04-10T22:32:13.121+0000</td></tr><tr><td>Basic Check 2</td><td>DistinctnessConstraint(Distinctness(symbol))</td><td>FAILURE</td><td>0.9666666666666667</td><td>17</td><td>2024-04-10T22:32:13.121+0000</td></tr><tr><td>Basic Check 2</td><td>MaximumConstraint(Maximum(quantity))</td><td>SUCCESS</td><td>3965.1982</td><td>47</td><td>2024-04-10T22:34:59.975+0000</td></tr><tr><td>Basic Check 2</td><td>MaximumConstraint(Maximum(quantity))</td><td>SUCCESS</td><td>3952.0156</td><td>17</td><td>2024-04-10T22:32:13.121+0000</td></tr><tr><td>Basic Check 2</td><td>MaximumConstraint(Maximum(quantity))</td><td>SUCCESS</td><td>3326.4704</td><td>20</td><td>2024-04-10T22:32:29.773+0000</td></tr><tr><td>Basic Check 2</td><td>MaximumConstraint(Maximum(quantity))</td><td>SUCCESS</td><td>3342.7584</td><td>22</td><td>2024-04-10T22:32:40.819+0000</td></tr><tr><td>Basic Check 2</td><td>MaximumConstraint(Maximum(quantity))</td><td>SUCCESS</td><td>3962.0804</td><td>4</td><td>2024-04-10T22:30:54.802+0000</td></tr><tr><td>Basic Check 2</td><td>MaximumConstraint(Maximum(quantity))</td><td>SUCCESS</td><td>3372.0172</td><td>41</td><td>2024-04-10T22:34:29.068+0000</td></tr><tr><td>Basic Check 2</td><td>MaximumConstraint(Maximum(quantity))</td><td>SUCCESS</td><td>3852.6281</td><td>46</td><td>2024-04-10T22:34:55.037+0000</td></tr><tr><td>Basic Check 2</td><td>MaximumConstraint(Maximum(quantity))</td><td>SUCCESS</td><td>4000.0875</td><td>27</td><td>2024-04-10T22:33:08.532+0000</td></tr><tr><td>Basic Check 2</td><td>MaximumConstraint(Maximum(quantity))</td><td>SUCCESS</td><td>2970.7165</td><td>49</td><td>2024-04-10T22:35:12.402+0000</td></tr><tr><td>Basic Check 2</td><td>MaximumConstraint(Maximum(quantity))</td><td>SUCCESS</td><td>3851.6741</td><td>1</td><td>2024-04-10T22:30:36.711+0000</td></tr><tr><td>Basic Check 2</td><td>MaximumConstraint(Maximum(quantity))</td><td>SUCCESS</td><td>3677.7048</td><td>36</td><td>2024-04-10T22:33:59.422+0000</td></tr><tr><td>Basic Check 2</td><td>MaximumConstraint(Maximum(quantity))</td><td>SUCCESS</td><td>4077.0198</td><td>34</td><td>2024-04-10T22:33:48.686+0000</td></tr><tr><td>Basic Check 2</td><td>MaximumConstraint(Maximum(quantity))</td><td>SUCCESS</td><td>3932.8046</td><td>40</td><td>2024-04-10T22:34:22.714+0000</td></tr><tr><td>Basic Check 2</td><td>MaximumConstraint(Maximum(quantity))</td><td>SUCCESS</td><td>3314.0922</td><td>18</td><td>2024-04-10T22:32:18.681+0000</td></tr><tr><td>Basic Check 2</td><td>MaximumConstraint(Maximum(quantity))</td><td>SUCCESS</td><td>4958.2046</td><td>14</td><td>2024-04-10T22:31:55.343+0000</td></tr><tr><td>Basic Check 2</td><td>MaximumConstraint(Maximum(quantity))</td><td>SUCCESS</td><td>4223.4615</td><td>7</td><td>2024-04-10T22:31:13.371+0000</td></tr><tr><td>Basic Check 2</td><td>MaximumConstraint(Maximum(quantity))</td><td>SUCCESS</td><td>2985.6011</td><td>45</td><td>2024-04-10T22:34:49.528+0000</td></tr><tr><td>Basic Check 2</td><td>MaximumConstraint(Maximum(quantity))</td><td>SUCCESS</td><td>4334.0544</td><td>29</td><td>2024-04-10T22:33:20.551+0000</td></tr><tr><td>Basic Check 2</td><td>MaximumConstraint(Maximum(quantity))</td><td>SUCCESS</td><td>2870.5248</td><td>19</td><td>2024-04-10T22:32:23.783+0000</td></tr><tr><td>Basic Check 2</td><td>MaximumConstraint(Maximum(quantity))</td><td>SUCCESS</td><td>3373.3386</td><td>43</td><td>2024-04-10T22:34:38.876+0000</td></tr><tr><td>Basic Check 2</td><td>MaximumConstraint(Maximum(quantity))</td><td>SUCCESS</td><td>3150.1623</td><td>26</td><td>2024-04-10T22:33:03.783+0000</td></tr><tr><td>Basic Check 2</td><td>MaximumConstraint(Maximum(quantity))</td><td>SUCCESS</td><td>4202.8543</td><td>5</td><td>2024-04-10T22:31:01.240+0000</td></tr><tr><td>Basic Check 2</td><td>MaximumConstraint(Maximum(quantity))</td><td>SUCCESS</td><td>3039.2931</td><td>24</td><td>2024-04-10T22:32:52.699+0000</td></tr><tr><td>Basic Check 2</td><td>MaximumConstraint(Maximum(quantity))</td><td>SUCCESS</td><td>4158.4257</td><td>2</td><td>2024-04-10T22:30:42.752+0000</td></tr><tr><td>Basic Check 2</td><td>MaximumConstraint(Maximum(quantity))</td><td>SUCCESS</td><td>4629.1496</td><td>32</td><td>2024-04-10T22:33:38.495+0000</td></tr><tr><td>Basic Check 2</td><td>MaximumConstraint(Maximum(quantity))</td><td>SUCCESS</td><td>3015.5076</td><td>6</td><td>2024-04-10T22:31:06.751+0000</td></tr><tr><td>Basic Check 2</td><td>MaximumConstraint(Maximum(quantity))</td><td>SUCCESS</td><td>3044.3688</td><td>0</td><td>2024-04-10T22:30:28.100+0000</td></tr><tr><td>Basic Check 2</td><td>MaximumConstraint(Maximum(quantity))</td><td>SUCCESS</td><td>3622.7494</td><td>31</td><td>2024-04-10T22:33:32.758+0000</td></tr><tr><td>Basic Check 2</td><td>MaximumConstraint(Maximum(quantity))</td><td>SUCCESS</td><td>4355.8522</td><td>9</td><td>2024-04-10T22:31:25.420+0000</td></tr><tr><td>Basic Check 2</td><td>MaximumConstraint(Maximum(quantity))</td><td>SUCCESS</td><td>5138.6351</td><td>23</td><td>2024-04-10T22:32:46.642+0000</td></tr><tr><td>Basic Check 2</td><td>MaximumConstraint(Maximum(quantity))</td><td>SUCCESS</td><td>4483.5527</td><td>11</td><td>2024-04-10T22:31:38.798+0000</td></tr><tr><td>Basic Check 2</td><td>MaximumConstraint(Maximum(quantity))</td><td>SUCCESS</td><td>3934.1336</td><td>12</td><td>2024-04-10T22:31:44.055+0000</td></tr><tr><td>Basic Check 2</td><td>MaximumConstraint(Maximum(quantity))</td><td>SUCCESS</td><td>4207.1725</td><td>35</td><td>2024-04-10T22:33:54.531+0000</td></tr><tr><td>Basic Check 2</td><td>MaximumConstraint(Maximum(quantity))</td><td>SUCCESS</td><td>3906.0597</td><td>15</td><td>2024-04-10T22:32:01.612+0000</td></tr><tr><td>Basic Check 2</td><td>MaximumConstraint(Maximum(quantity))</td><td>SUCCESS</td><td>3791.172</td><td>13</td><td>2024-04-10T22:31:49.714+0000</td></tr><tr><td>Basic Check 2</td><td>MaximumConstraint(Maximum(quantity))</td><td>SUCCESS</td><td>3593.484</td><td>44</td><td>2024-04-10T22:34:43.317+0000</td></tr><tr><td>Basic Check 2</td><td>MaximumConstraint(Maximum(quantity))</td><td>SUCCESS</td><td>4065.088</td><td>38</td><td>2024-04-10T22:34:10.562+0000</td></tr><tr><td>Basic Check 2</td><td>MaximumConstraint(Maximum(quantity))</td><td>SUCCESS</td><td>3545.184</td><td>25</td><td>2024-04-10T22:32:58.184+0000</td></tr><tr><td>Basic Check 2</td><td>MaximumConstraint(Maximum(quantity))</td><td>SUCCESS</td><td>3464.808</td><td>39</td><td>2024-04-10T22:34:16.534+0000</td></tr><tr><td>Basic Check 2</td><td>MaximumConstraint(Maximum(quantity))</td><td>SUCCESS</td><td>3177.936</td><td>48</td><td>2024-04-10T22:35:06.336+0000</td></tr><tr><td>Basic Check 2</td><td>MaximumConstraint(Maximum(quantity))</td><td>SUCCESS</td><td>2879.838</td><td>8</td><td>2024-04-10T22:31:19.563+0000</td></tr><tr><td>Basic Check 2</td><td>MaximumConstraint(Maximum(quantity))</td><td>SUCCESS</td><td>4399.512</td><td>50</td><td>2024-04-10T22:35:17.270+0000</td></tr><tr><td>Basic Check 2</td><td>MaximumConstraint(Maximum(quantity))</td><td>SUCCESS</td><td>4147.875</td><td>21</td><td>2024-04-10T22:32:36.363+0000</td></tr><tr><td>Basic Check 2</td><td>MaximumConstraint(Maximum(quantity))</td><td>SUCCESS</td><td>3039.687</td><td>33</td><td>2024-04-10T22:33:42.846+0000</td></tr><tr><td>Basic Check 2</td><td>MaximumConstraint(Maximum(quantity))</td><td>SUCCESS</td><td>3730.408</td><td>16</td><td>2024-04-10T22:32:07.825+0000</td></tr><tr><td>Basic Check 2</td><td>MaximumConstraint(Maximum(quantity))</td><td>SUCCESS</td><td>4211.882</td><td>3</td><td>2024-04-10T22:30:49.534+0000</td></tr><tr><td>Basic Check 2</td><td>MaximumConstraint(Maximum(quantity))</td><td>SUCCESS</td><td>3517.216</td><td>42</td><td>2024-04-10T22:34:33.827+0000</td></tr><tr><td>Basic Check 2</td><td>MaximumConstraint(Maximum(quantity))</td><td>SUCCESS</td><td>3577.385</td><td>10</td><td>2024-04-10T22:31:31.442+0000</td></tr><tr><td>Basic Check 2</td><td>MaximumConstraint(Maximum(quantity))</td><td>SUCCESS</td><td>3391.83</td><td>37</td><td>2024-04-10T22:34:05.639+0000</td></tr><tr><td>Basic Check 2</td><td>MaximumConstraint(Maximum(quantity))</td><td>SUCCESS</td><td>4981.04</td><td>28</td><td>2024-04-10T22:33:14.794+0000</td></tr><tr><td>Basic Check 2</td><td>ComplianceConstraint(Compliance(quantity is non-negative))</td><td>FAILURE</td><td>0.9</td><td>4</td><td>2024-04-10T22:30:54.802+0000</td></tr><tr><td>Basic Check 2</td><td>CompletenessConstraint(Completeness(ipaddr))</td><td>FAILURE</td><td>0.95</td><td>4</td><td>2024-04-10T22:30:54.802+0000</td></tr><tr><td>Basic Check 2</td><td>ComplianceConstraint(Compliance(quantity is non-negative))</td><td>FAILURE</td><td>0.9</td><td>37</td><td>2024-04-10T22:34:05.639+0000</td></tr><tr><td>Basic Check 2</td><td>CompletenessConstraint(Completeness(ipaddr))</td><td>FAILURE</td><td>0.95</td><td>37</td><td>2024-04-10T22:34:05.639+0000</td></tr><tr><td>Basic Check 2</td><td>MaximumConstraint(Maximum(quantity))</td><td>SUCCESS</td><td>3359.84</td><td>30</td><td>2024-04-10T22:33:25.962+0000</td></tr><tr><td>Basic Check 2</td><td>ComplianceConstraint(Compliance(quantity is non-negative))</td><td>FAILURE</td><td>0.9</td><td>41</td><td>2024-04-10T22:34:29.068+0000</td></tr><tr><td>Basic Check 2</td><td>CompletenessConstraint(Completeness(ipaddr))</td><td>FAILURE</td><td>0.95</td><td>41</td><td>2024-04-10T22:34:29.068+0000</td></tr><tr><td>Basic Check 2</td><td>ComplianceConstraint(Compliance(quantity is non-negative))</td><td>FAILURE</td><td>0.95</td><td>29</td><td>2024-04-10T22:33:20.551+0000</td></tr><tr><td>Basic Check 2</td><td>CompletenessConstraint(Completeness(ipaddr))</td><td>FAILURE</td><td>0.9</td><td>29</td><td>2024-04-10T22:33:20.551+0000</td></tr><tr><td>Basic Check 2</td><td>ComplianceConstraint(Compliance(quantity is non-negative))</td><td>FAILURE</td><td>0.95</td><td>38</td><td>2024-04-10T22:34:10.562+0000</td></tr><tr><td>Basic Check 2</td><td>CompletenessConstraint(Completeness(ipaddr))</td><td>FAILURE</td><td>0.9</td><td>38</td><td>2024-04-10T22:34:10.562+0000</td></tr><tr><td>Basic Check 2</td><td>ComplianceConstraint(Compliance(quantity is non-negative))</td><td>FAILURE</td><td>0.95</td><td>49</td><td>2024-04-10T22:35:12.402+0000</td></tr><tr><td>Basic Check 2</td><td>CompletenessConstraint(Completeness(ipaddr))</td><td>FAILURE</td><td>0.9</td><td>49</td><td>2024-04-10T22:35:12.402+0000</td></tr><tr><td>Basic Check 2</td><td>CompletenessConstraint(Completeness(price))</td><td>SUCCESS</td><td>1.0</td><td>24</td><td>2024-04-10T22:32:52.699+0000</td></tr><tr><td>Basic Check 2</td><td>DistinctnessConstraint(Distinctness(symbol))</td><td>SUCCESS</td><td>1.0</td><td>24</td><td>2024-04-10T22:32:52.699+0000</td></tr><tr><td>Basic Check 2</td><td>CompletenessConstraint(Completeness(price))</td><td>SUCCESS</td><td>1.0</td><td>0</td><td>2024-04-10T22:30:28.100+0000</td></tr><tr><td>Basic Check 2</td><td>DistinctnessConstraint(Distinctness(symbol))</td><td>SUCCESS</td><td>1.0</td><td>0</td><td>2024-04-10T22:30:28.100+0000</td></tr><tr><td>Basic Check 2</td><td>CompletenessConstraint(Completeness(price))</td><td>SUCCESS</td><td>1.0</td><td>33</td><td>2024-04-10T22:33:42.846+0000</td></tr><tr><td>Basic Check 2</td><td>DistinctnessConstraint(Distinctness(symbol))</td><td>SUCCESS</td><td>1.0</td><td>33</td><td>2024-04-10T22:33:42.846+0000</td></tr><tr><td>Basic Check 2</td><td>CompletenessConstraint(Completeness(price))</td><td>SUCCESS</td><td>1.0</td><td>1</td><td>2024-04-10T22:30:36.711+0000</td></tr><tr><td>Basic Check 2</td><td>DistinctnessConstraint(Distinctness(symbol))</td><td>SUCCESS</td><td>1.0</td><td>1</td><td>2024-04-10T22:30:36.711+0000</td></tr><tr><td>Basic Check 2</td><td>CompletenessConstraint(Completeness(price))</td><td>SUCCESS</td><td>1.0</td><td>47</td><td>2024-04-10T22:34:59.975+0000</td></tr><tr><td>Basic Check 2</td><td>DistinctnessConstraint(Distinctness(symbol))</td><td>SUCCESS</td><td>1.0</td><td>47</td><td>2024-04-10T22:34:59.975+0000</td></tr><tr><td>Basic Check 2</td><td>CompletenessConstraint(Completeness(price))</td><td>SUCCESS</td><td>1.0</td><td>6</td><td>2024-04-10T22:31:06.751+0000</td></tr><tr><td>Basic Check 2</td><td>DistinctnessConstraint(Distinctness(symbol))</td><td>SUCCESS</td><td>1.0</td><td>6</td><td>2024-04-10T22:31:06.751+0000</td></tr><tr><td>Basic Check 2</td><td>CompletenessConstraint(Completeness(price))</td><td>SUCCESS</td><td>1.0</td><td>44</td><td>2024-04-10T22:34:43.317+0000</td></tr><tr><td>Basic Check 2</td><td>DistinctnessConstraint(Distinctness(symbol))</td><td>SUCCESS</td><td>1.0</td><td>44</td><td>2024-04-10T22:34:43.317+0000</td></tr><tr><td>Basic Check 2</td><td>CompletenessConstraint(Completeness(price))</td><td>SUCCESS</td><td>1.0</td><td>40</td><td>2024-04-10T22:34:22.714+0000</td></tr><tr><td>Basic Check 2</td><td>DistinctnessConstraint(Distinctness(symbol))</td><td>SUCCESS</td><td>1.0</td><td>40</td><td>2024-04-10T22:34:22.714+0000</td></tr><tr><td>Basic Check 2</td><td>CompletenessConstraint(Completeness(price))</td><td>SUCCESS</td><td>1.0</td><td>21</td><td>2024-04-10T22:32:36.363+0000</td></tr><tr><td>Basic Check 2</td><td>DistinctnessConstraint(Distinctness(symbol))</td><td>SUCCESS</td><td>1.0</td><td>21</td><td>2024-04-10T22:32:36.363+0000</td></tr><tr><td>Basic Check 2</td><td>CompletenessConstraint(Completeness(price))</td><td>SUCCESS</td><td>1.0</td><td>32</td><td>2024-04-10T22:33:38.495+0000</td></tr><tr><td>Basic Check 2</td><td>DistinctnessConstraint(Distinctness(symbol))</td><td>SUCCESS</td><td>1.0</td><td>32</td><td>2024-04-10T22:33:38.495+0000</td></tr><tr><td>Basic Check 2</td><td>CompletenessConstraint(Completeness(price))</td><td>SUCCESS</td><td>1.0</td><td>14</td><td>2024-04-10T22:31:55.343+0000</td></tr><tr><td>Basic Check 2</td><td>DistinctnessConstraint(Distinctness(symbol))</td><td>SUCCESS</td><td>1.0</td><td>14</td><td>2024-04-10T22:31:55.343+0000</td></tr><tr><td>Basic Check 2</td><td>CompletenessConstraint(Completeness(price))</td><td>SUCCESS</td><td>1.0</td><td>5</td><td>2024-04-10T22:31:01.240+0000</td></tr><tr><td>Basic Check 2</td><td>DistinctnessConstraint(Distinctness(symbol))</td><td>SUCCESS</td><td>1.0</td><td>5</td><td>2024-04-10T22:31:01.240+0000</td></tr><tr><td>Basic Check 2</td><td>CompletenessConstraint(Completeness(price))</td><td>SUCCESS</td><td>1.0</td><td>9</td><td>2024-04-10T22:31:25.420+0000</td></tr><tr><td>Basic Check 2</td><td>DistinctnessConstraint(Distinctness(symbol))</td><td>SUCCESS</td><td>1.0</td><td>9</td><td>2024-04-10T22:31:25.420+0000</td></tr><tr><td>Basic Check 2</td><td>CompletenessConstraint(Completeness(price))</td><td>SUCCESS</td><td>1.0</td><td>37</td><td>2024-04-10T22:34:05.639+0000</td></tr><tr><td>Basic Check 2</td><td>DistinctnessConstraint(Distinctness(symbol))</td><td>SUCCESS</td><td>1.0</td><td>37</td><td>2024-04-10T22:34:05.639+0000</td></tr><tr><td>Basic Check 2</td><td>CompletenessConstraint(Completeness(price))</td><td>SUCCESS</td><td>1.0</td><td>36</td><td>2024-04-10T22:33:59.422+0000</td></tr><tr><td>Basic Check 2</td><td>DistinctnessConstraint(Distinctness(symbol))</td><td>SUCCESS</td><td>1.0</td><td>36</td><td>2024-04-10T22:33:59.422+0000</td></tr><tr><td>Basic Check 2</td><td>CompletenessConstraint(Completeness(price))</td><td>SUCCESS</td><td>1.0</td><td>49</td><td>2024-04-10T22:35:12.402+0000</td></tr><tr><td>Basic Check 2</td><td>DistinctnessConstraint(Distinctness(symbol))</td><td>SUCCESS</td><td>1.0</td><td>49</td><td>2024-04-10T22:35:12.402+0000</td></tr><tr><td>Basic Check 2</td><td>CompletenessConstraint(Completeness(price))</td><td>SUCCESS</td><td>1.0</td><td>27</td><td>2024-04-10T22:33:08.532+0000</td></tr><tr><td>Basic Check 2</td><td>DistinctnessConstraint(Distinctness(symbol))</td><td>SUCCESS</td><td>1.0</td><td>27</td><td>2024-04-10T22:33:08.532+0000</td></tr><tr><td>Basic Check 2</td><td>CompletenessConstraint(Completeness(price))</td><td>SUCCESS</td><td>1.0</td><td>3</td><td>2024-04-10T22:30:49.534+0000</td></tr><tr><td>Basic Check 2</td><td>DistinctnessConstraint(Distinctness(symbol))</td><td>SUCCESS</td><td>1.0</td><td>3</td><td>2024-04-10T22:30:49.534+0000</td></tr><tr><td>Basic Check 2</td><td>CompletenessConstraint(Completeness(price))</td><td>SUCCESS</td><td>1.0</td><td>8</td><td>2024-04-10T22:31:19.563+0000</td></tr><tr><td>Basic Check 2</td><td>DistinctnessConstraint(Distinctness(symbol))</td><td>SUCCESS</td><td>1.0</td><td>8</td><td>2024-04-10T22:31:19.563+0000</td></tr><tr><td>Basic Check 2</td><td>CompletenessConstraint(Completeness(price))</td><td>SUCCESS</td><td>1.0</td><td>25</td><td>2024-04-10T22:32:58.184+0000</td></tr><tr><td>Basic Check 2</td><td>DistinctnessConstraint(Distinctness(symbol))</td><td>SUCCESS</td><td>1.0</td><td>25</td><td>2024-04-10T22:32:58.184+0000</td></tr><tr><td>Basic Check 2</td><td>CompletenessConstraint(Completeness(price))</td><td>SUCCESS</td><td>1.0</td><td>39</td><td>2024-04-10T22:34:16.534+0000</td></tr><tr><td>Basic Check 2</td><td>DistinctnessConstraint(Distinctness(symbol))</td><td>SUCCESS</td><td>1.0</td><td>39</td><td>2024-04-10T22:34:16.534+0000</td></tr><tr><td>Basic Check 2</td><td>CompletenessConstraint(Completeness(price))</td><td>SUCCESS</td><td>1.0</td><td>19</td><td>2024-04-10T22:32:23.783+0000</td></tr><tr><td>Basic Check 2</td><td>DistinctnessConstraint(Distinctness(symbol))</td><td>SUCCESS</td><td>1.0</td><td>19</td><td>2024-04-10T22:32:23.783+0000</td></tr><tr><td>Basic Check 2</td><td>CompletenessConstraint(Completeness(price))</td><td>SUCCESS</td><td>1.0</td><td>10</td><td>2024-04-10T22:31:31.442+0000</td></tr><tr><td>Basic Check 2</td><td>DistinctnessConstraint(Distinctness(symbol))</td><td>SUCCESS</td><td>1.0</td><td>10</td><td>2024-04-10T22:31:31.442+0000</td></tr><tr><td>Basic Check 2</td><td>CompletenessConstraint(Completeness(price))</td><td>SUCCESS</td><td>1.0</td><td>48</td><td>2024-04-10T22:35:06.336+0000</td></tr><tr><td>Basic Check 2</td><td>DistinctnessConstraint(Distinctness(symbol))</td><td>SUCCESS</td><td>1.0</td><td>48</td><td>2024-04-10T22:35:06.336+0000</td></tr><tr><td>Basic Check 2</td><td>CompletenessConstraint(Completeness(price))</td><td>SUCCESS</td><td>1.0</td><td>35</td><td>2024-04-10T22:33:54.531+0000</td></tr><tr><td>Basic Check 2</td><td>DistinctnessConstraint(Distinctness(symbol))</td><td>SUCCESS</td><td>1.0</td><td>35</td><td>2024-04-10T22:33:54.531+0000</td></tr><tr><td>Basic Check 2</td><td>CompletenessConstraint(Completeness(price))</td><td>SUCCESS</td><td>1.0</td><td>34</td><td>2024-04-10T22:33:48.686+0000</td></tr><tr><td>Basic Check 2</td><td>DistinctnessConstraint(Distinctness(symbol))</td><td>SUCCESS</td><td>1.0</td><td>34</td><td>2024-04-10T22:33:48.686+0000</td></tr><tr><td>Basic Check 2</td><td>ComplianceConstraint(Compliance(quantity is non-negative))</td><td>SUCCESS</td><td>1.0</td><td>21</td><td>2024-04-10T22:32:36.363+0000</td></tr><tr><td>Basic Check 2</td><td>CompletenessConstraint(Completeness(ipaddr))</td><td>FAILURE</td><td>0.9333333333333333</td><td>21</td><td>2024-04-10T22:32:36.363+0000</td></tr><tr><td>Basic Check 2</td><td>ComplianceConstraint(Compliance(quantity is non-negative))</td><td>FAILURE</td><td>0.9666666666666667</td><td>17</td><td>2024-04-10T22:32:13.121+0000</td></tr><tr><td>Basic Check 2</td><td>CompletenessConstraint(Completeness(ipaddr))</td><td>SUCCESS</td><td>1.0</td><td>17</td><td>2024-04-10T22:32:13.121+0000</td></tr><tr><td>Basic Check 2</td><td>ComplianceConstraint(Compliance(quantity is non-negative))</td><td>FAILURE</td><td>0.95</td><td>44</td><td>2024-04-10T22:34:43.317+0000</td></tr><tr><td>Basic Check 2</td><td>CompletenessConstraint(Completeness(ipaddr))</td><td>SUCCESS</td><td>1.0</td><td>44</td><td>2024-04-10T22:34:43.317+0000</td></tr><tr><td>Basic Check 2</td><td>ComplianceConstraint(Compliance(quantity is non-negative))</td><td>SUCCESS</td><td>1.0</td><td>10</td><td>2024-04-10T22:31:31.442+0000</td></tr><tr><td>Basic Check 2</td><td>CompletenessConstraint(Completeness(ipaddr))</td><td>FAILURE</td><td>0.95</td><td>10</td><td>2024-04-10T22:31:31.442+0000</td></tr><tr><td>Basic Check 2</td><td>ComplianceConstraint(Compliance(quantity is non-negative))</td><td>FAILURE</td><td>0.95</td><td>18</td><td>2024-04-10T22:32:18.681+0000</td></tr><tr><td>Basic Check 2</td><td>CompletenessConstraint(Completeness(ipaddr))</td><td>SUCCESS</td><td>1.0</td><td>18</td><td>2024-04-10T22:32:18.681+0000</td></tr><tr><td>Basic Check 2</td><td>ComplianceConstraint(Compliance(quantity is non-negative))</td><td>SUCCESS</td><td>1.0</td><td>6</td><td>2024-04-10T22:31:06.751+0000</td></tr><tr><td>Basic Check 2</td><td>CompletenessConstraint(Completeness(ipaddr))</td><td>FAILURE</td><td>0.95</td><td>6</td><td>2024-04-10T22:31:06.751+0000</td></tr><tr><td>Basic Check 2</td><td>ComplianceConstraint(Compliance(quantity is non-negative))</td><td>FAILURE</td><td>0.95</td><td>7</td><td>2024-04-10T22:31:13.371+0000</td></tr><tr><td>Basic Check 2</td><td>CompletenessConstraint(Completeness(ipaddr))</td><td>SUCCESS</td><td>1.0</td><td>7</td><td>2024-04-10T22:31:13.371+0000</td></tr><tr><td>Basic Check 2</td><td>ComplianceConstraint(Compliance(quantity is non-negative))</td><td>FAILURE</td><td>0.95</td><td>43</td><td>2024-04-10T22:34:38.876+0000</td></tr><tr><td>Basic Check 2</td><td>CompletenessConstraint(Completeness(ipaddr))</td><td>SUCCESS</td><td>1.0</td><td>43</td><td>2024-04-10T22:34:38.876+0000</td></tr><tr><td>Basic Check 2</td><td>ComplianceConstraint(Compliance(quantity is non-negative))</td><td>SUCCESS</td><td>1.0</td><td>8</td><td>2024-04-10T22:31:19.563+0000</td></tr><tr><td>Basic Check 2</td><td>CompletenessConstraint(Completeness(ipaddr))</td><td>FAILURE</td><td>0.85</td><td>8</td><td>2024-04-10T22:31:19.563+0000</td></tr><tr><td>Basic Check 2</td><td>ComplianceConstraint(Compliance(quantity is non-negative))</td><td>SUCCESS</td><td>1.0</td><td>12</td><td>2024-04-10T22:31:44.055+0000</td></tr><tr><td>Basic Check 2</td><td>CompletenessConstraint(Completeness(ipaddr))</td><td>FAILURE</td><td>0.95</td><td>12</td><td>2024-04-10T22:31:44.055+0000</td></tr><tr><td>Basic Check 2</td><td>ComplianceConstraint(Compliance(quantity is non-negative))</td><td>FAILURE</td><td>0.85</td><td>24</td><td>2024-04-10T22:32:52.699+0000</td></tr><tr><td>Basic Check 2</td><td>CompletenessConstraint(Completeness(ipaddr))</td><td>SUCCESS</td><td>1.0</td><td>24</td><td>2024-04-10T22:32:52.699+0000</td></tr><tr><td>Basic Check 2</td><td>ComplianceConstraint(Compliance(quantity is non-negative))</td><td>SUCCESS</td><td>1.0</td><td>25</td><td>2024-04-10T22:32:58.184+0000</td></tr><tr><td>Basic Check 2</td><td>CompletenessConstraint(Completeness(ipaddr))</td><td>FAILURE</td><td>0.95</td><td>25</td><td>2024-04-10T22:32:58.184+0000</td></tr><tr><td>Basic Check 2</td><td>ComplianceConstraint(Compliance(quantity is non-negative))</td><td>SUCCESS</td><td>1.0</td><td>3</td><td>2024-04-10T22:30:49.534+0000</td></tr><tr><td>Basic Check 2</td><td>CompletenessConstraint(Completeness(ipaddr))</td><td>FAILURE</td><td>0.95</td><td>3</td><td>2024-04-10T22:30:49.534+0000</td></tr><tr><td>Basic Check 2</td><td>ComplianceConstraint(Compliance(quantity is non-negative))</td><td>SUCCESS</td><td>1.0</td><td>39</td><td>2024-04-10T22:34:16.534+0000</td></tr><tr><td>Basic Check 2</td><td>CompletenessConstraint(Completeness(ipaddr))</td><td>FAILURE</td><td>0.95</td><td>39</td><td>2024-04-10T22:34:16.534+0000</td></tr><tr><td>Basic Check 2</td><td>ComplianceConstraint(Compliance(quantity is non-negative))</td><td>FAILURE</td><td>0.95</td><td>26</td><td>2024-04-10T22:33:03.783+0000</td></tr><tr><td>Basic Check 2</td><td>CompletenessConstraint(Completeness(ipaddr))</td><td>SUCCESS</td><td>1.0</td><td>26</td><td>2024-04-10T22:33:03.783+0000</td></tr><tr><td>Basic Check 2</td><td>ComplianceConstraint(Compliance(quantity is non-negative))</td><td>FAILURE</td><td>0.95</td><td>20</td><td>2024-04-10T22:32:29.773+0000</td></tr><tr><td>Basic Check 2</td><td>CompletenessConstraint(Completeness(ipaddr))</td><td>SUCCESS</td><td>1.0</td><td>20</td><td>2024-04-10T22:32:29.773+0000</td></tr><tr><td>Basic Check 2</td><td>ComplianceConstraint(Compliance(quantity is non-negative))</td><td>FAILURE</td><td>0.95</td><td>45</td><td>2024-04-10T22:34:49.528+0000</td></tr><tr><td>Basic Check 2</td><td>CompletenessConstraint(Completeness(ipaddr))</td><td>SUCCESS</td><td>1.0</td><td>45</td><td>2024-04-10T22:34:49.528+0000</td></tr><tr><td>Basic Check 2</td><td>ComplianceConstraint(Compliance(quantity is non-negative))</td><td>FAILURE</td><td>0.85</td><td>35</td><td>2024-04-10T22:33:54.531+0000</td></tr><tr><td>Basic Check 2</td><td>CompletenessConstraint(Completeness(ipaddr))</td><td>SUCCESS</td><td>1.0</td><td>35</td><td>2024-04-10T22:33:54.531+0000</td></tr><tr><td>Basic Check 2</td><td>ComplianceConstraint(Compliance(quantity is non-negative))</td><td>SUCCESS</td><td>1.0</td><td>23</td><td>2024-04-10T22:32:46.642+0000</td></tr><tr><td>Basic Check 2</td><td>CompletenessConstraint(Completeness(ipaddr))</td><td>FAILURE</td><td>0.85</td><td>23</td><td>2024-04-10T22:32:46.642+0000</td></tr><tr><td>Basic Check 2</td><td>ComplianceConstraint(Compliance(quantity is non-negative))</td><td>FAILURE</td><td>0.95</td><td>34</td><td>2024-04-10T22:33:48.686+0000</td></tr><tr><td>Basic Check 2</td><td>CompletenessConstraint(Completeness(ipaddr))</td><td>SUCCESS</td><td>1.0</td><td>34</td><td>2024-04-10T22:33:48.686+0000</td></tr><tr><td>Basic Check 2</td><td>ComplianceConstraint(Compliance(quantity is non-negative))</td><td>SUCCESS</td><td>1.0</td><td>13</td><td>2024-04-10T22:31:49.714+0000</td></tr><tr><td>Basic Check 2</td><td>CompletenessConstraint(Completeness(ipaddr))</td><td>FAILURE</td><td>0.9</td><td>13</td><td>2024-04-10T22:31:49.714+0000</td></tr><tr><td>Basic Check 2</td><td>ComplianceConstraint(Compliance(quantity is non-negative))</td><td>SUCCESS</td><td>1.0</td><td>16</td><td>2024-04-10T22:32:07.825+0000</td></tr><tr><td>Basic Check 2</td><td>CompletenessConstraint(Completeness(ipaddr))</td><td>FAILURE</td><td>0.9</td><td>16</td><td>2024-04-10T22:32:07.825+0000</td></tr><tr><td>Basic Check 2</td><td>ComplianceConstraint(Compliance(quantity is non-negative))</td><td>FAILURE</td><td>0.9</td><td>19</td><td>2024-04-10T22:32:23.783+0000</td></tr><tr><td>Basic Check 2</td><td>CompletenessConstraint(Completeness(ipaddr))</td><td>SUCCESS</td><td>1.0</td><td>19</td><td>2024-04-10T22:32:23.783+0000</td></tr><tr><td>Basic Check 2</td><td>ComplianceConstraint(Compliance(quantity is non-negative))</td><td>SUCCESS</td><td>1.0</td><td>42</td><td>2024-04-10T22:34:33.827+0000</td></tr><tr><td>Basic Check 2</td><td>CompletenessConstraint(Completeness(ipaddr))</td><td>FAILURE</td><td>0.9</td><td>42</td><td>2024-04-10T22:34:33.827+0000</td></tr><tr><td>Basic Check 2</td><td>ComplianceConstraint(Compliance(quantity is non-negative))</td><td>FAILURE</td><td>0.9</td><td>0</td><td>2024-04-10T22:30:28.100+0000</td></tr><tr><td>Basic Check 2</td><td>CompletenessConstraint(Completeness(ipaddr))</td><td>SUCCESS</td><td>1.0</td><td>0</td><td>2024-04-10T22:30:28.100+0000</td></tr><tr><td>Basic Check 2</td><td>ComplianceConstraint(Compliance(quantity is non-negative))</td><td>SUCCESS</td><td>1.0</td><td>31</td><td>2024-04-10T22:33:32.758+0000</td></tr><tr><td>Basic Check 2</td><td>CompletenessConstraint(Completeness(ipaddr))</td><td>FAILURE</td><td>0.9</td><td>31</td><td>2024-04-10T22:33:32.758+0000</td></tr><tr><td>Basic Check 2</td><td>ComplianceConstraint(Compliance(quantity is non-negative))</td><td>FAILURE</td><td>0.8</td><td>40</td><td>2024-04-10T22:34:22.714+0000</td></tr><tr><td>Basic Check 2</td><td>CompletenessConstraint(Completeness(ipaddr))</td><td>SUCCESS</td><td>1.0</td><td>40</td><td>2024-04-10T22:34:22.714+0000</td></tr><tr><td>Basic Check 2</td><td>ComplianceConstraint(Compliance(quantity is non-negative))</td><td>FAILURE</td><td>0.9</td><td>46</td><td>2024-04-10T22:34:55.037+0000</td></tr><tr><td>Basic Check 2</td><td>CompletenessConstraint(Completeness(ipaddr))</td><td>SUCCESS</td><td>1.0</td><td>46</td><td>2024-04-10T22:34:55.037+0000</td></tr><tr><td>Basic Check 2</td><td>ComplianceConstraint(Compliance(quantity is non-negative))</td><td>FAILURE</td><td>0.9</td><td>28</td><td>2024-04-10T22:33:14.794+0000</td></tr><tr><td>Basic Check 2</td><td>CompletenessConstraint(Completeness(ipaddr))</td><td>SUCCESS</td><td>1.0</td><td>28</td><td>2024-04-10T22:33:14.794+0000</td></tr><tr><td>Basic Check 2</td><td>ComplianceConstraint(Compliance(quantity is non-negative))</td><td>FAILURE</td><td>0.9</td><td>30</td><td>2024-04-10T22:33:25.962+0000</td></tr><tr><td>Basic Check 2</td><td>CompletenessConstraint(Completeness(ipaddr))</td><td>SUCCESS</td><td>1.0</td><td>30</td><td>2024-04-10T22:33:25.962+0000</td></tr><tr><td>Basic Check 2</td><td>ComplianceConstraint(Compliance(quantity is non-negative))</td><td>FAILURE</td><td>0.9</td><td>22</td><td>2024-04-10T22:32:40.819+0000</td></tr><tr><td>Basic Check 2</td><td>CompletenessConstraint(Completeness(ipaddr))</td><td>SUCCESS</td><td>1.0</td><td>22</td><td>2024-04-10T22:32:40.819+0000</td></tr><tr><td>Basic Check 2</td><td>CompletenessConstraint(Completeness(price))</td><td>FAILURE</td><td>0.95</td><td>12</td><td>2024-04-10T22:31:44.055+0000</td></tr><tr><td>Basic Check 2</td><td>DistinctnessConstraint(Distinctness(symbol))</td><td>SUCCESS</td><td>1.0</td><td>12</td><td>2024-04-10T22:31:44.055+0000</td></tr><tr><td>Basic Check 2</td><td>CompletenessConstraint(Completeness(price))</td><td>FAILURE</td><td>0.95</td><td>41</td><td>2024-04-10T22:34:29.068+0000</td></tr><tr><td>Basic Check 2</td><td>DistinctnessConstraint(Distinctness(symbol))</td><td>SUCCESS</td><td>1.0</td><td>41</td><td>2024-04-10T22:34:29.068+0000</td></tr><tr><td>Basic Check 2</td><td>CompletenessConstraint(Completeness(price))</td><td>FAILURE</td><td>0.95</td><td>31</td><td>2024-04-10T22:33:32.758+0000</td></tr><tr><td>Basic Check 2</td><td>DistinctnessConstraint(Distinctness(symbol))</td><td>SUCCESS</td><td>1.0</td><td>31</td><td>2024-04-10T22:33:32.758+0000</td></tr><tr><td>Basic Check 2</td><td>CompletenessConstraint(Completeness(price))</td><td>FAILURE</td><td>0.95</td><td>4</td><td>2024-04-10T22:30:54.802+0000</td></tr><tr><td>Basic Check 2</td><td>DistinctnessConstraint(Distinctness(symbol))</td><td>SUCCESS</td><td>1.0</td><td>4</td><td>2024-04-10T22:30:54.802+0000</td></tr><tr><td>Basic Check 2</td><td>CompletenessConstraint(Completeness(price))</td><td>FAILURE</td><td>0.95</td><td>46</td><td>2024-04-10T22:34:55.037+0000</td></tr><tr><td>Basic Check 2</td><td>DistinctnessConstraint(Distinctness(symbol))</td><td>SUCCESS</td><td>1.0</td><td>46</td><td>2024-04-10T22:34:55.037+0000</td></tr><tr><td>Basic Check 2</td><td>CompletenessConstraint(Completeness(price))</td><td>SUCCESS</td><td>1.0</td><td>38</td><td>2024-04-10T22:34:10.562+0000</td></tr><tr><td>Basic Check 2</td><td>DistinctnessConstraint(Distinctness(symbol))</td><td>FAILURE</td><td>0.95</td><td>38</td><td>2024-04-10T22:34:10.562+0000</td></tr><tr><td>Basic Check 2</td><td>CompletenessConstraint(Completeness(price))</td><td>FAILURE</td><td>0.95</td><td>7</td><td>2024-04-10T22:31:13.371+0000</td></tr><tr><td>Basic Check 2</td><td>DistinctnessConstraint(Distinctness(symbol))</td><td>SUCCESS</td><td>1.0</td><td>7</td><td>2024-04-10T22:31:13.371+0000</td></tr><tr><td>Basic Check 2</td><td>CompletenessConstraint(Completeness(price))</td><td>FAILURE</td><td>0.95</td><td>29</td><td>2024-04-10T22:33:20.551+0000</td></tr><tr><td>Basic Check 2</td><td>DistinctnessConstraint(Distinctness(symbol))</td><td>SUCCESS</td><td>1.0</td><td>29</td><td>2024-04-10T22:33:20.551+0000</td></tr><tr><td>Basic Check 2</td><td>CompletenessConstraint(Completeness(price))</td><td>FAILURE</td><td>0.95</td><td>18</td><td>2024-04-10T22:32:18.681+0000</td></tr><tr><td>Basic Check 2</td><td>DistinctnessConstraint(Distinctness(symbol))</td><td>SUCCESS</td><td>1.0</td><td>18</td><td>2024-04-10T22:32:18.681+0000</td></tr><tr><td>Basic Check 2</td><td>CompletenessConstraint(Completeness(price))</td><td>FAILURE</td><td>0.95</td><td>26</td><td>2024-04-10T22:33:03.783+0000</td></tr><tr><td>Basic Check 2</td><td>DistinctnessConstraint(Distinctness(symbol))</td><td>SUCCESS</td><td>1.0</td><td>26</td><td>2024-04-10T22:33:03.783+0000</td></tr><tr><td>Basic Check 2</td><td>CompletenessConstraint(Completeness(price))</td><td>FAILURE</td><td>0.95</td><td>11</td><td>2024-04-10T22:31:38.798+0000</td></tr><tr><td>Basic Check 2</td><td>DistinctnessConstraint(Distinctness(symbol))</td><td>SUCCESS</td><td>1.0</td><td>11</td><td>2024-04-10T22:31:38.798+0000</td></tr><tr><td>Basic Check 2</td><td>CompletenessConstraint(Completeness(price))</td><td>FAILURE</td><td>0.95</td><td>45</td><td>2024-04-10T22:34:49.528+0000</td></tr><tr><td>Basic Check 2</td><td>DistinctnessConstraint(Distinctness(symbol))</td><td>SUCCESS</td><td>1.0</td><td>45</td><td>2024-04-10T22:34:49.528+0000</td></tr><tr><td>Basic Check 2</td><td>CompletenessConstraint(Completeness(price))</td><td>FAILURE</td><td>0.95</td><td>20</td><td>2024-04-10T22:32:29.773+0000</td></tr><tr><td>Basic Check 2</td><td>DistinctnessConstraint(Distinctness(symbol))</td><td>SUCCESS</td><td>1.0</td><td>20</td><td>2024-04-10T22:32:29.773+0000</td></tr><tr><td>Basic Check 2</td><td>CompletenessConstraint(Completeness(price))</td><td>FAILURE</td><td>0.95</td><td>16</td><td>2024-04-10T22:32:07.825+0000</td></tr><tr><td>Basic Check 2</td><td>DistinctnessConstraint(Distinctness(symbol))</td><td>SUCCESS</td><td>1.0</td><td>16</td><td>2024-04-10T22:32:07.825+0000</td></tr><tr><td>Basic Check 2</td><td>CompletenessConstraint(Completeness(price))</td><td>FAILURE</td><td>0.95</td><td>13</td><td>2024-04-10T22:31:49.714+0000</td></tr><tr><td>Basic Check 2</td><td>DistinctnessConstraint(Distinctness(symbol))</td><td>SUCCESS</td><td>1.0</td><td>13</td><td>2024-04-10T22:31:49.714+0000</td></tr><tr><td>Basic Check 2</td><td>CompletenessConstraint(Completeness(price))</td><td>FAILURE</td><td>0.95</td><td>42</td><td>2024-04-10T22:34:33.827+0000</td></tr><tr><td>Basic Check 2</td><td>DistinctnessConstraint(Distinctness(symbol))</td><td>SUCCESS</td><td>1.0</td><td>42</td><td>2024-04-10T22:34:33.827+0000</td></tr><tr><td>Basic Check 2</td><td>CompletenessConstraint(Completeness(price))</td><td>FAILURE</td><td>0.95</td><td>43</td><td>2024-04-10T22:34:38.876+0000</td></tr><tr><td>Basic Check 2</td><td>DistinctnessConstraint(Distinctness(symbol))</td><td>SUCCESS</td><td>1.0</td><td>43</td><td>2024-04-10T22:34:38.876+0000</td></tr><tr><td>Basic Check 2</td><td>CompletenessConstraint(Completeness(price))</td><td>SUCCESS</td><td>1.0</td><td>28</td><td>2024-04-10T22:33:14.794+0000</td></tr><tr><td>Basic Check 2</td><td>DistinctnessConstraint(Distinctness(symbol))</td><td>FAILURE</td><td>0.95</td><td>28</td><td>2024-04-10T22:33:14.794+0000</td></tr><tr><td>Basic Check 2</td><td>CompletenessConstraint(Completeness(price))</td><td>FAILURE</td><td>0.95</td><td>15</td><td>2024-04-10T22:32:01.612+0000</td></tr><tr><td>Basic Check 2</td><td>DistinctnessConstraint(Distinctness(symbol))</td><td>SUCCESS</td><td>1.0</td><td>15</td><td>2024-04-10T22:32:01.612+0000</td></tr><tr><td>Basic Check 2</td><td>CompletenessConstraint(Completeness(price))</td><td>FAILURE</td><td>0.95</td><td>30</td><td>2024-04-10T22:33:25.962+0000</td></tr><tr><td>Basic Check 2</td><td>DistinctnessConstraint(Distinctness(symbol))</td><td>SUCCESS</td><td>1.0</td><td>30</td><td>2024-04-10T22:33:25.962+0000</td></tr><tr><td>Basic Check 2</td><td>CompletenessConstraint(Completeness(price))</td><td>FAILURE</td><td>0.95</td><td>2</td><td>2024-04-10T22:30:42.752+0000</td></tr><tr><td>Basic Check 2</td><td>DistinctnessConstraint(Distinctness(symbol))</td><td>SUCCESS</td><td>1.0</td><td>2</td><td>2024-04-10T22:30:42.752+0000</td></tr><tr><td>Basic Check 2</td><td>CompletenessConstraint(Completeness(price))</td><td>FAILURE</td><td>0.9</td><td>50</td><td>2024-04-10T22:35:17.270+0000</td></tr><tr><td>Basic Check 2</td><td>DistinctnessConstraint(Distinctness(symbol))</td><td>SUCCESS</td><td>1.0</td><td>50</td><td>2024-04-10T22:35:17.270+0000</td></tr><tr><td>Basic Check 2</td><td>CompletenessConstraint(Completeness(price))</td><td>FAILURE</td><td>0.9</td><td>22</td><td>2024-04-10T22:32:40.819+0000</td></tr><tr><td>Basic Check 2</td><td>DistinctnessConstraint(Distinctness(symbol))</td><td>SUCCESS</td><td>1.0</td><td>22</td><td>2024-04-10T22:32:40.819+0000</td></tr><tr><td>Basic Check 2</td><td>CompletenessConstraint(Completeness(price))</td><td>FAILURE</td><td>0.9</td><td>23</td><td>2024-04-10T22:32:46.642+0000</td></tr><tr><td>Basic Check 2</td><td>DistinctnessConstraint(Distinctness(symbol))</td><td>SUCCESS</td><td>1.0</td><td>23</td><td>2024-04-10T22:32:46.642+0000</td></tr></tbody></table></div>"
      ]
     },
     "metadata": {
      "application/vnd.databricks.v1+output": {
       "addedWidgets": {},
       "aggData": [],
       "aggError": "",
       "aggOverflow": false,
       "aggSchema": [],
       "aggSeriesLimitReached": false,
       "aggType": "",
       "arguments": {},
       "columnCustomDisplayInfos": {},
       "data": [
        [
         "Basic Check 2",
         "CompletenessConstraint(Completeness(quantity))",
         "FAILURE",
         "0.9666666666666667",
         32,
         "2024-04-10T22:33:38.495+0000"
        ],
        [
         "Basic Check 2",
         "ComplianceConstraint(Compliance(quantity is non-negative))",
         "FAILURE",
         "0.9666666666666667",
         32,
         "2024-04-10T22:33:38.495+0000"
        ],
        [
         "Basic Check 2",
         "CompletenessConstraint(Completeness(ipaddr))",
         "FAILURE",
         "0.9666666666666667",
         32,
         "2024-04-10T22:33:38.495+0000"
        ],
        [
         "Basic Check 2",
         "CompletenessConstraint(Completeness(quantity))",
         "FAILURE",
         "0.85",
         38,
         "2024-04-10T22:34:10.562+0000"
        ],
        [
         "Basic Check 2",
         "CompletenessConstraint(Completeness(quantity))",
         "FAILURE",
         "0.95",
         49,
         "2024-04-10T22:35:12.402+0000"
        ],
        [
         "Basic Check 2",
         "CompletenessConstraint(Completeness(quantity))",
         "FAILURE",
         "0.95",
         45,
         "2024-04-10T22:34:49.528+0000"
        ],
        [
         "Basic Check 2",
         "CompletenessConstraint(Completeness(quantity))",
         "FAILURE",
         "0.95",
         43,
         "2024-04-10T22:34:38.876+0000"
        ],
        [
         "Basic Check 2",
         "CompletenessConstraint(Completeness(quantity))",
         "FAILURE",
         "0.95",
         37,
         "2024-04-10T22:34:05.639+0000"
        ],
        [
         "Basic Check 2",
         "CompletenessConstraint(Completeness(quantity))",
         "FAILURE",
         "0.95",
         25,
         "2024-04-10T22:32:58.184+0000"
        ],
        [
         "Basic Check 2",
         "CompletenessConstraint(Completeness(quantity))",
         "FAILURE",
         "0.85",
         6,
         "2024-04-10T22:31:06.751+0000"
        ],
        [
         "Basic Check 2",
         "CompletenessConstraint(Completeness(quantity))",
         "FAILURE",
         "0.95",
         31,
         "2024-04-10T22:33:32.758+0000"
        ],
        [
         "Basic Check 2",
         "CompletenessConstraint(Completeness(quantity))",
         "FAILURE",
         "0.95",
         11,
         "2024-04-10T22:31:38.798+0000"
        ],
        [
         "Basic Check 2",
         "CompletenessConstraint(Completeness(quantity))",
         "FAILURE",
         "0.85",
         9,
         "2024-04-10T22:31:25.420+0000"
        ],
        [
         "Basic Check 2",
         "CompletenessConstraint(Completeness(quantity))",
         "FAILURE",
         "0.95",
         39,
         "2024-04-10T22:34:16.534+0000"
        ],
        [
         "Basic Check 2",
         "CompletenessConstraint(Completeness(quantity))",
         "FAILURE",
         "0.95",
         8,
         "2024-04-10T22:31:19.563+0000"
        ],
        [
         "Basic Check 2",
         "CompletenessConstraint(Completeness(quantity))",
         "FAILURE",
         "0.95",
         41,
         "2024-04-10T22:34:29.068+0000"
        ],
        [
         "Basic Check 2",
         "CompletenessConstraint(Completeness(quantity))",
         "FAILURE",
         "0.95",
         7,
         "2024-04-10T22:31:13.371+0000"
        ],
        [
         "Basic Check 2",
         "CompletenessConstraint(Completeness(quantity))",
         "FAILURE",
         "0.85",
         40,
         "2024-04-10T22:34:22.714+0000"
        ],
        [
         "Basic Check 2",
         "CompletenessConstraint(Completeness(quantity))",
         "FAILURE",
         "0.95",
         26,
         "2024-04-10T22:33:03.783+0000"
        ],
        [
         "Basic Check 2",
         "CompletenessConstraint(Completeness(quantity))",
         "FAILURE",
         "0.95",
         12,
         "2024-04-10T22:31:44.055+0000"
        ],
        [
         "Basic Check 2",
         "CompletenessConstraint(Completeness(quantity))",
         "FAILURE",
         "0.95",
         10,
         "2024-04-10T22:31:31.442+0000"
        ],
        [
         "Basic Check 2",
         "CompletenessConstraint(Completeness(quantity))",
         "FAILURE",
         "0.95",
         15,
         "2024-04-10T22:32:01.612+0000"
        ],
        [
         "Basic Check 2",
         "ComplianceConstraint(Compliance(quantity is non-negative))",
         "FAILURE",
         "0.95",
         48,
         "2024-04-10T22:35:06.336+0000"
        ],
        [
         "Basic Check 2",
         "CompletenessConstraint(Completeness(ipaddr))",
         "FAILURE",
         "0.95",
         48,
         "2024-04-10T22:35:06.336+0000"
        ],
        [
         "Basic Check 2",
         "ComplianceConstraint(Compliance(quantity is non-negative))",
         "FAILURE",
         "0.95",
         47,
         "2024-04-10T22:34:59.975+0000"
        ],
        [
         "Basic Check 2",
         "CompletenessConstraint(Completeness(ipaddr))",
         "FAILURE",
         "0.95",
         47,
         "2024-04-10T22:34:59.975+0000"
        ],
        [
         "Basic Check 2",
         "ComplianceConstraint(Compliance(quantity is non-negative))",
         "FAILURE",
         "0.95",
         27,
         "2024-04-10T22:33:08.532+0000"
        ],
        [
         "Basic Check 2",
         "CompletenessConstraint(Completeness(ipaddr))",
         "FAILURE",
         "0.95",
         27,
         "2024-04-10T22:33:08.532+0000"
        ],
        [
         "Basic Check 2",
         "ComplianceConstraint(Compliance(quantity is non-negative))",
         "FAILURE",
         "0.95",
         14,
         "2024-04-10T22:31:55.343+0000"
        ],
        [
         "Basic Check 2",
         "CompletenessConstraint(Completeness(ipaddr))",
         "FAILURE",
         "0.95",
         14,
         "2024-04-10T22:31:55.343+0000"
        ],
        [
         "Basic Check 2",
         "ComplianceConstraint(Compliance(quantity is non-negative))",
         "FAILURE",
         "0.95",
         36,
         "2024-04-10T22:33:59.422+0000"
        ],
        [
         "Basic Check 2",
         "CompletenessConstraint(Completeness(ipaddr))",
         "FAILURE",
         "0.95",
         36,
         "2024-04-10T22:33:59.422+0000"
        ],
        [
         "Basic Check 2",
         "ComplianceConstraint(Compliance(quantity is non-negative))",
         "FAILURE",
         "0.95",
         15,
         "2024-04-10T22:32:01.612+0000"
        ],
        [
         "Basic Check 2",
         "CompletenessConstraint(Completeness(ipaddr))",
         "FAILURE",
         "0.95",
         15,
         "2024-04-10T22:32:01.612+0000"
        ],
        [
         "Basic Check 2",
         "CompletenessConstraint(Completeness(quantity))",
         "SUCCESS",
         "1.0",
         27,
         "2024-04-10T22:33:08.532+0000"
        ],
        [
         "Basic Check 2",
         "CompletenessConstraint(Completeness(quantity))",
         "SUCCESS",
         "1.0",
         29,
         "2024-04-10T22:33:20.551+0000"
        ],
        [
         "Basic Check 2",
         "CompletenessConstraint(Completeness(quantity))",
         "SUCCESS",
         "1.0",
         16,
         "2024-04-10T22:32:07.825+0000"
        ],
        [
         "Basic Check 2",
         "CompletenessConstraint(Completeness(quantity))",
         "SUCCESS",
         "1.0",
         18,
         "2024-04-10T22:32:18.681+0000"
        ],
        [
         "Basic Check 2",
         "CompletenessConstraint(Completeness(quantity))",
         "SUCCESS",
         "1.0",
         21,
         "2024-04-10T22:32:36.363+0000"
        ],
        [
         "Basic Check 2",
         "CompletenessConstraint(Completeness(quantity))",
         "SUCCESS",
         "1.0",
         36,
         "2024-04-10T22:33:59.422+0000"
        ],
        [
         "Basic Check 2",
         "CompletenessConstraint(Completeness(quantity))",
         "SUCCESS",
         "1.0",
         5,
         "2024-04-10T22:31:01.240+0000"
        ],
        [
         "Basic Check 2",
         "CompletenessConstraint(Completeness(quantity))",
         "SUCCESS",
         "1.0",
         14,
         "2024-04-10T22:31:55.343+0000"
        ],
        [
         "Basic Check 2",
         "CompletenessConstraint(Completeness(quantity))",
         "SUCCESS",
         "1.0",
         47,
         "2024-04-10T22:34:59.975+0000"
        ],
        [
         "Basic Check 2",
         "CompletenessConstraint(Completeness(quantity))",
         "SUCCESS",
         "1.0",
         34,
         "2024-04-10T22:33:48.686+0000"
        ],
        [
         "Basic Check 2",
         "CompletenessConstraint(Completeness(quantity))",
         "SUCCESS",
         "1.0",
         24,
         "2024-04-10T22:32:52.699+0000"
        ],
        [
         "Basic Check 2",
         "CompletenessConstraint(Completeness(quantity))",
         "SUCCESS",
         "1.0",
         0,
         "2024-04-10T22:30:28.100+0000"
        ],
        [
         "Basic Check 2",
         "CompletenessConstraint(Completeness(quantity))",
         "SUCCESS",
         "1.0",
         28,
         "2024-04-10T22:33:14.794+0000"
        ],
        [
         "Basic Check 2",
         "ComplianceConstraint(Compliance(quantity is non-negative))",
         "FAILURE",
         "0.95",
         2,
         "2024-04-10T22:30:42.752+0000"
        ],
        [
         "Basic Check 2",
         "CompletenessConstraint(Completeness(ipaddr))",
         "FAILURE",
         "0.95",
         2,
         "2024-04-10T22:30:42.752+0000"
        ],
        [
         "Basic Check 2",
         "CompletenessConstraint(Completeness(quantity))",
         "SUCCESS",
         "1.0",
         46,
         "2024-04-10T22:34:55.037+0000"
        ],
        [
         "Basic Check 2",
         "CompletenessConstraint(Completeness(quantity))",
         "SUCCESS",
         "1.0",
         44,
         "2024-04-10T22:34:43.317+0000"
        ],
        [
         "Basic Check 2",
         "CompletenessConstraint(Completeness(quantity))",
         "SUCCESS",
         "1.0",
         2,
         "2024-04-10T22:30:42.752+0000"
        ],
        [
         "Basic Check 2",
         "CompletenessConstraint(Completeness(quantity))",
         "SUCCESS",
         "1.0",
         4,
         "2024-04-10T22:30:54.802+0000"
        ],
        [
         "Basic Check 2",
         "CompletenessConstraint(Completeness(quantity))",
         "SUCCESS",
         "1.0",
         48,
         "2024-04-10T22:35:06.336+0000"
        ],
        [
         "Basic Check 2",
         "CompletenessConstraint(Completeness(quantity))",
         "SUCCESS",
         "1.0",
         19,
         "2024-04-10T22:32:23.783+0000"
        ],
        [
         "Basic Check 2",
         "CompletenessConstraint(Completeness(quantity))",
         "SUCCESS",
         "1.0",
         17,
         "2024-04-10T22:32:13.121+0000"
        ],
        [
         "Basic Check 2",
         "CompletenessConstraint(Completeness(quantity))",
         "SUCCESS",
         "1.0",
         33,
         "2024-04-10T22:33:42.846+0000"
        ],
        [
         "Basic Check 2",
         "CompletenessConstraint(Completeness(quantity))",
         "SUCCESS",
         "1.0",
         23,
         "2024-04-10T22:32:46.642+0000"
        ],
        [
         "Basic Check 2",
         "CompletenessConstraint(Completeness(quantity))",
         "FAILURE",
         "0.9",
         50,
         "2024-04-10T22:35:17.270+0000"
        ],
        [
         "Basic Check 2",
         "CompletenessConstraint(Completeness(quantity))",
         "FAILURE",
         "0.9",
         22,
         "2024-04-10T22:32:40.819+0000"
        ],
        [
         "Basic Check 2",
         "CompletenessConstraint(Completeness(quantity))",
         "FAILURE",
         "0.9",
         3,
         "2024-04-10T22:30:49.534+0000"
        ],
        [
         "Basic Check 2",
         "CompletenessConstraint(Completeness(quantity))",
         "FAILURE",
         "0.9",
         13,
         "2024-04-10T22:31:49.714+0000"
        ],
        [
         "Basic Check 2",
         "CompletenessConstraint(Completeness(quantity))",
         "FAILURE",
         "0.9",
         1,
         "2024-04-10T22:30:36.711+0000"
        ],
        [
         "Basic Check 2",
         "CompletenessConstraint(Completeness(quantity))",
         "FAILURE",
         "0.9",
         20,
         "2024-04-10T22:32:29.773+0000"
        ],
        [
         "Basic Check 2",
         "CompletenessConstraint(Completeness(quantity))",
         "FAILURE",
         "0.9",
         42,
         "2024-04-10T22:34:33.827+0000"
        ],
        [
         "Basic Check 2",
         "CompletenessConstraint(Completeness(quantity))",
         "SUCCESS",
         "1.0",
         30,
         "2024-04-10T22:33:25.962+0000"
        ],
        [
         "Basic Check 2",
         "CompletenessConstraint(Completeness(quantity))",
         "FAILURE",
         "0.9",
         35,
         "2024-04-10T22:33:54.531+0000"
        ],
        [
         "Basic Check 2",
         "ComplianceConstraint(Compliance(quantity is non-negative))",
         "SUCCESS",
         "1.0",
         50,
         "2024-04-10T22:35:17.270+0000"
        ],
        [
         "Basic Check 2",
         "CompletenessConstraint(Completeness(ipaddr))",
         "SUCCESS",
         "1.0",
         50,
         "2024-04-10T22:35:17.270+0000"
        ],
        [
         "Basic Check 2",
         "ComplianceConstraint(Compliance(quantity is non-negative))",
         "SUCCESS",
         "1.0",
         33,
         "2024-04-10T22:33:42.846+0000"
        ],
        [
         "Basic Check 2",
         "CompletenessConstraint(Completeness(ipaddr))",
         "SUCCESS",
         "1.0",
         33,
         "2024-04-10T22:33:42.846+0000"
        ],
        [
         "Basic Check 2",
         "ComplianceConstraint(Compliance(quantity is non-negative))",
         "SUCCESS",
         "1.0",
         1,
         "2024-04-10T22:30:36.711+0000"
        ],
        [
         "Basic Check 2",
         "CompletenessConstraint(Completeness(ipaddr))",
         "SUCCESS",
         "1.0",
         1,
         "2024-04-10T22:30:36.711+0000"
        ],
        [
         "Basic Check 2",
         "ComplianceConstraint(Compliance(quantity is non-negative))",
         "SUCCESS",
         "1.0",
         9,
         "2024-04-10T22:31:25.420+0000"
        ],
        [
         "Basic Check 2",
         "CompletenessConstraint(Completeness(ipaddr))",
         "SUCCESS",
         "1.0",
         9,
         "2024-04-10T22:31:25.420+0000"
        ],
        [
         "Basic Check 2",
         "ComplianceConstraint(Compliance(quantity is non-negative))",
         "SUCCESS",
         "1.0",
         11,
         "2024-04-10T22:31:38.798+0000"
        ],
        [
         "Basic Check 2",
         "CompletenessConstraint(Completeness(ipaddr))",
         "SUCCESS",
         "1.0",
         11,
         "2024-04-10T22:31:38.798+0000"
        ],
        [
         "Basic Check 2",
         "ComplianceConstraint(Compliance(quantity is non-negative))",
         "SUCCESS",
         "1.0",
         5,
         "2024-04-10T22:31:01.240+0000"
        ],
        [
         "Basic Check 2",
         "CompletenessConstraint(Completeness(ipaddr))",
         "SUCCESS",
         "1.0",
         5,
         "2024-04-10T22:31:01.240+0000"
        ],
        [
         "Basic Check 2",
         "CompletenessConstraint(Completeness(price))",
         "FAILURE",
         "0.9333333333333333",
         17,
         "2024-04-10T22:32:13.121+0000"
        ],
        [
         "Basic Check 2",
         "DistinctnessConstraint(Distinctness(symbol))",
         "FAILURE",
         "0.9666666666666667",
         17,
         "2024-04-10T22:32:13.121+0000"
        ],
        [
         "Basic Check 2",
         "MaximumConstraint(Maximum(quantity))",
         "SUCCESS",
         "3965.1982",
         47,
         "2024-04-10T22:34:59.975+0000"
        ],
        [
         "Basic Check 2",
         "MaximumConstraint(Maximum(quantity))",
         "SUCCESS",
         "3952.0156",
         17,
         "2024-04-10T22:32:13.121+0000"
        ],
        [
         "Basic Check 2",
         "MaximumConstraint(Maximum(quantity))",
         "SUCCESS",
         "3326.4704",
         20,
         "2024-04-10T22:32:29.773+0000"
        ],
        [
         "Basic Check 2",
         "MaximumConstraint(Maximum(quantity))",
         "SUCCESS",
         "3342.7584",
         22,
         "2024-04-10T22:32:40.819+0000"
        ],
        [
         "Basic Check 2",
         "MaximumConstraint(Maximum(quantity))",
         "SUCCESS",
         "3962.0804",
         4,
         "2024-04-10T22:30:54.802+0000"
        ],
        [
         "Basic Check 2",
         "MaximumConstraint(Maximum(quantity))",
         "SUCCESS",
         "3372.0172",
         41,
         "2024-04-10T22:34:29.068+0000"
        ],
        [
         "Basic Check 2",
         "MaximumConstraint(Maximum(quantity))",
         "SUCCESS",
         "3852.6281",
         46,
         "2024-04-10T22:34:55.037+0000"
        ],
        [
         "Basic Check 2",
         "MaximumConstraint(Maximum(quantity))",
         "SUCCESS",
         "4000.0875",
         27,
         "2024-04-10T22:33:08.532+0000"
        ],
        [
         "Basic Check 2",
         "MaximumConstraint(Maximum(quantity))",
         "SUCCESS",
         "2970.7165",
         49,
         "2024-04-10T22:35:12.402+0000"
        ],
        [
         "Basic Check 2",
         "MaximumConstraint(Maximum(quantity))",
         "SUCCESS",
         "3851.6741",
         1,
         "2024-04-10T22:30:36.711+0000"
        ],
        [
         "Basic Check 2",
         "MaximumConstraint(Maximum(quantity))",
         "SUCCESS",
         "3677.7048",
         36,
         "2024-04-10T22:33:59.422+0000"
        ],
        [
         "Basic Check 2",
         "MaximumConstraint(Maximum(quantity))",
         "SUCCESS",
         "4077.0198",
         34,
         "2024-04-10T22:33:48.686+0000"
        ],
        [
         "Basic Check 2",
         "MaximumConstraint(Maximum(quantity))",
         "SUCCESS",
         "3932.8046",
         40,
         "2024-04-10T22:34:22.714+0000"
        ],
        [
         "Basic Check 2",
         "MaximumConstraint(Maximum(quantity))",
         "SUCCESS",
         "3314.0922",
         18,
         "2024-04-10T22:32:18.681+0000"
        ],
        [
         "Basic Check 2",
         "MaximumConstraint(Maximum(quantity))",
         "SUCCESS",
         "4958.2046",
         14,
         "2024-04-10T22:31:55.343+0000"
        ],
        [
         "Basic Check 2",
         "MaximumConstraint(Maximum(quantity))",
         "SUCCESS",
         "4223.4615",
         7,
         "2024-04-10T22:31:13.371+0000"
        ],
        [
         "Basic Check 2",
         "MaximumConstraint(Maximum(quantity))",
         "SUCCESS",
         "2985.6011",
         45,
         "2024-04-10T22:34:49.528+0000"
        ],
        [
         "Basic Check 2",
         "MaximumConstraint(Maximum(quantity))",
         "SUCCESS",
         "4334.0544",
         29,
         "2024-04-10T22:33:20.551+0000"
        ],
        [
         "Basic Check 2",
         "MaximumConstraint(Maximum(quantity))",
         "SUCCESS",
         "2870.5248",
         19,
         "2024-04-10T22:32:23.783+0000"
        ],
        [
         "Basic Check 2",
         "MaximumConstraint(Maximum(quantity))",
         "SUCCESS",
         "3373.3386",
         43,
         "2024-04-10T22:34:38.876+0000"
        ],
        [
         "Basic Check 2",
         "MaximumConstraint(Maximum(quantity))",
         "SUCCESS",
         "3150.1623",
         26,
         "2024-04-10T22:33:03.783+0000"
        ],
        [
         "Basic Check 2",
         "MaximumConstraint(Maximum(quantity))",
         "SUCCESS",
         "4202.8543",
         5,
         "2024-04-10T22:31:01.240+0000"
        ],
        [
         "Basic Check 2",
         "MaximumConstraint(Maximum(quantity))",
         "SUCCESS",
         "3039.2931",
         24,
         "2024-04-10T22:32:52.699+0000"
        ],
        [
         "Basic Check 2",
         "MaximumConstraint(Maximum(quantity))",
         "SUCCESS",
         "4158.4257",
         2,
         "2024-04-10T22:30:42.752+0000"
        ],
        [
         "Basic Check 2",
         "MaximumConstraint(Maximum(quantity))",
         "SUCCESS",
         "4629.1496",
         32,
         "2024-04-10T22:33:38.495+0000"
        ],
        [
         "Basic Check 2",
         "MaximumConstraint(Maximum(quantity))",
         "SUCCESS",
         "3015.5076",
         6,
         "2024-04-10T22:31:06.751+0000"
        ],
        [
         "Basic Check 2",
         "MaximumConstraint(Maximum(quantity))",
         "SUCCESS",
         "3044.3688",
         0,
         "2024-04-10T22:30:28.100+0000"
        ],
        [
         "Basic Check 2",
         "MaximumConstraint(Maximum(quantity))",
         "SUCCESS",
         "3622.7494",
         31,
         "2024-04-10T22:33:32.758+0000"
        ],
        [
         "Basic Check 2",
         "MaximumConstraint(Maximum(quantity))",
         "SUCCESS",
         "4355.8522",
         9,
         "2024-04-10T22:31:25.420+0000"
        ],
        [
         "Basic Check 2",
         "MaximumConstraint(Maximum(quantity))",
         "SUCCESS",
         "5138.6351",
         23,
         "2024-04-10T22:32:46.642+0000"
        ],
        [
         "Basic Check 2",
         "MaximumConstraint(Maximum(quantity))",
         "SUCCESS",
         "4483.5527",
         11,
         "2024-04-10T22:31:38.798+0000"
        ],
        [
         "Basic Check 2",
         "MaximumConstraint(Maximum(quantity))",
         "SUCCESS",
         "3934.1336",
         12,
         "2024-04-10T22:31:44.055+0000"
        ],
        [
         "Basic Check 2",
         "MaximumConstraint(Maximum(quantity))",
         "SUCCESS",
         "4207.1725",
         35,
         "2024-04-10T22:33:54.531+0000"
        ],
        [
         "Basic Check 2",
         "MaximumConstraint(Maximum(quantity))",
         "SUCCESS",
         "3906.0597",
         15,
         "2024-04-10T22:32:01.612+0000"
        ],
        [
         "Basic Check 2",
         "MaximumConstraint(Maximum(quantity))",
         "SUCCESS",
         "3791.172",
         13,
         "2024-04-10T22:31:49.714+0000"
        ],
        [
         "Basic Check 2",
         "MaximumConstraint(Maximum(quantity))",
         "SUCCESS",
         "3593.484",
         44,
         "2024-04-10T22:34:43.317+0000"
        ],
        [
         "Basic Check 2",
         "MaximumConstraint(Maximum(quantity))",
         "SUCCESS",
         "4065.088",
         38,
         "2024-04-10T22:34:10.562+0000"
        ],
        [
         "Basic Check 2",
         "MaximumConstraint(Maximum(quantity))",
         "SUCCESS",
         "3545.184",
         25,
         "2024-04-10T22:32:58.184+0000"
        ],
        [
         "Basic Check 2",
         "MaximumConstraint(Maximum(quantity))",
         "SUCCESS",
         "3464.808",
         39,
         "2024-04-10T22:34:16.534+0000"
        ],
        [
         "Basic Check 2",
         "MaximumConstraint(Maximum(quantity))",
         "SUCCESS",
         "3177.936",
         48,
         "2024-04-10T22:35:06.336+0000"
        ],
        [
         "Basic Check 2",
         "MaximumConstraint(Maximum(quantity))",
         "SUCCESS",
         "2879.838",
         8,
         "2024-04-10T22:31:19.563+0000"
        ],
        [
         "Basic Check 2",
         "MaximumConstraint(Maximum(quantity))",
         "SUCCESS",
         "4399.512",
         50,
         "2024-04-10T22:35:17.270+0000"
        ],
        [
         "Basic Check 2",
         "MaximumConstraint(Maximum(quantity))",
         "SUCCESS",
         "4147.875",
         21,
         "2024-04-10T22:32:36.363+0000"
        ],
        [
         "Basic Check 2",
         "MaximumConstraint(Maximum(quantity))",
         "SUCCESS",
         "3039.687",
         33,
         "2024-04-10T22:33:42.846+0000"
        ],
        [
         "Basic Check 2",
         "MaximumConstraint(Maximum(quantity))",
         "SUCCESS",
         "3730.408",
         16,
         "2024-04-10T22:32:07.825+0000"
        ],
        [
         "Basic Check 2",
         "MaximumConstraint(Maximum(quantity))",
         "SUCCESS",
         "4211.882",
         3,
         "2024-04-10T22:30:49.534+0000"
        ],
        [
         "Basic Check 2",
         "MaximumConstraint(Maximum(quantity))",
         "SUCCESS",
         "3517.216",
         42,
         "2024-04-10T22:34:33.827+0000"
        ],
        [
         "Basic Check 2",
         "MaximumConstraint(Maximum(quantity))",
         "SUCCESS",
         "3577.385",
         10,
         "2024-04-10T22:31:31.442+0000"
        ],
        [
         "Basic Check 2",
         "MaximumConstraint(Maximum(quantity))",
         "SUCCESS",
         "3391.83",
         37,
         "2024-04-10T22:34:05.639+0000"
        ],
        [
         "Basic Check 2",
         "MaximumConstraint(Maximum(quantity))",
         "SUCCESS",
         "4981.04",
         28,
         "2024-04-10T22:33:14.794+0000"
        ],
        [
         "Basic Check 2",
         "ComplianceConstraint(Compliance(quantity is non-negative))",
         "FAILURE",
         "0.9",
         4,
         "2024-04-10T22:30:54.802+0000"
        ],
        [
         "Basic Check 2",
         "CompletenessConstraint(Completeness(ipaddr))",
         "FAILURE",
         "0.95",
         4,
         "2024-04-10T22:30:54.802+0000"
        ],
        [
         "Basic Check 2",
         "ComplianceConstraint(Compliance(quantity is non-negative))",
         "FAILURE",
         "0.9",
         37,
         "2024-04-10T22:34:05.639+0000"
        ],
        [
         "Basic Check 2",
         "CompletenessConstraint(Completeness(ipaddr))",
         "FAILURE",
         "0.95",
         37,
         "2024-04-10T22:34:05.639+0000"
        ],
        [
         "Basic Check 2",
         "MaximumConstraint(Maximum(quantity))",
         "SUCCESS",
         "3359.84",
         30,
         "2024-04-10T22:33:25.962+0000"
        ],
        [
         "Basic Check 2",
         "ComplianceConstraint(Compliance(quantity is non-negative))",
         "FAILURE",
         "0.9",
         41,
         "2024-04-10T22:34:29.068+0000"
        ],
        [
         "Basic Check 2",
         "CompletenessConstraint(Completeness(ipaddr))",
         "FAILURE",
         "0.95",
         41,
         "2024-04-10T22:34:29.068+0000"
        ],
        [
         "Basic Check 2",
         "ComplianceConstraint(Compliance(quantity is non-negative))",
         "FAILURE",
         "0.95",
         29,
         "2024-04-10T22:33:20.551+0000"
        ],
        [
         "Basic Check 2",
         "CompletenessConstraint(Completeness(ipaddr))",
         "FAILURE",
         "0.9",
         29,
         "2024-04-10T22:33:20.551+0000"
        ],
        [
         "Basic Check 2",
         "ComplianceConstraint(Compliance(quantity is non-negative))",
         "FAILURE",
         "0.95",
         38,
         "2024-04-10T22:34:10.562+0000"
        ],
        [
         "Basic Check 2",
         "CompletenessConstraint(Completeness(ipaddr))",
         "FAILURE",
         "0.9",
         38,
         "2024-04-10T22:34:10.562+0000"
        ],
        [
         "Basic Check 2",
         "ComplianceConstraint(Compliance(quantity is non-negative))",
         "FAILURE",
         "0.95",
         49,
         "2024-04-10T22:35:12.402+0000"
        ],
        [
         "Basic Check 2",
         "CompletenessConstraint(Completeness(ipaddr))",
         "FAILURE",
         "0.9",
         49,
         "2024-04-10T22:35:12.402+0000"
        ],
        [
         "Basic Check 2",
         "CompletenessConstraint(Completeness(price))",
         "SUCCESS",
         "1.0",
         24,
         "2024-04-10T22:32:52.699+0000"
        ],
        [
         "Basic Check 2",
         "DistinctnessConstraint(Distinctness(symbol))",
         "SUCCESS",
         "1.0",
         24,
         "2024-04-10T22:32:52.699+0000"
        ],
        [
         "Basic Check 2",
         "CompletenessConstraint(Completeness(price))",
         "SUCCESS",
         "1.0",
         0,
         "2024-04-10T22:30:28.100+0000"
        ],
        [
         "Basic Check 2",
         "DistinctnessConstraint(Distinctness(symbol))",
         "SUCCESS",
         "1.0",
         0,
         "2024-04-10T22:30:28.100+0000"
        ],
        [
         "Basic Check 2",
         "CompletenessConstraint(Completeness(price))",
         "SUCCESS",
         "1.0",
         33,
         "2024-04-10T22:33:42.846+0000"
        ],
        [
         "Basic Check 2",
         "DistinctnessConstraint(Distinctness(symbol))",
         "SUCCESS",
         "1.0",
         33,
         "2024-04-10T22:33:42.846+0000"
        ],
        [
         "Basic Check 2",
         "CompletenessConstraint(Completeness(price))",
         "SUCCESS",
         "1.0",
         1,
         "2024-04-10T22:30:36.711+0000"
        ],
        [
         "Basic Check 2",
         "DistinctnessConstraint(Distinctness(symbol))",
         "SUCCESS",
         "1.0",
         1,
         "2024-04-10T22:30:36.711+0000"
        ],
        [
         "Basic Check 2",
         "CompletenessConstraint(Completeness(price))",
         "SUCCESS",
         "1.0",
         47,
         "2024-04-10T22:34:59.975+0000"
        ],
        [
         "Basic Check 2",
         "DistinctnessConstraint(Distinctness(symbol))",
         "SUCCESS",
         "1.0",
         47,
         "2024-04-10T22:34:59.975+0000"
        ],
        [
         "Basic Check 2",
         "CompletenessConstraint(Completeness(price))",
         "SUCCESS",
         "1.0",
         6,
         "2024-04-10T22:31:06.751+0000"
        ],
        [
         "Basic Check 2",
         "DistinctnessConstraint(Distinctness(symbol))",
         "SUCCESS",
         "1.0",
         6,
         "2024-04-10T22:31:06.751+0000"
        ],
        [
         "Basic Check 2",
         "CompletenessConstraint(Completeness(price))",
         "SUCCESS",
         "1.0",
         44,
         "2024-04-10T22:34:43.317+0000"
        ],
        [
         "Basic Check 2",
         "DistinctnessConstraint(Distinctness(symbol))",
         "SUCCESS",
         "1.0",
         44,
         "2024-04-10T22:34:43.317+0000"
        ],
        [
         "Basic Check 2",
         "CompletenessConstraint(Completeness(price))",
         "SUCCESS",
         "1.0",
         40,
         "2024-04-10T22:34:22.714+0000"
        ],
        [
         "Basic Check 2",
         "DistinctnessConstraint(Distinctness(symbol))",
         "SUCCESS",
         "1.0",
         40,
         "2024-04-10T22:34:22.714+0000"
        ],
        [
         "Basic Check 2",
         "CompletenessConstraint(Completeness(price))",
         "SUCCESS",
         "1.0",
         21,
         "2024-04-10T22:32:36.363+0000"
        ],
        [
         "Basic Check 2",
         "DistinctnessConstraint(Distinctness(symbol))",
         "SUCCESS",
         "1.0",
         21,
         "2024-04-10T22:32:36.363+0000"
        ],
        [
         "Basic Check 2",
         "CompletenessConstraint(Completeness(price))",
         "SUCCESS",
         "1.0",
         32,
         "2024-04-10T22:33:38.495+0000"
        ],
        [
         "Basic Check 2",
         "DistinctnessConstraint(Distinctness(symbol))",
         "SUCCESS",
         "1.0",
         32,
         "2024-04-10T22:33:38.495+0000"
        ],
        [
         "Basic Check 2",
         "CompletenessConstraint(Completeness(price))",
         "SUCCESS",
         "1.0",
         14,
         "2024-04-10T22:31:55.343+0000"
        ],
        [
         "Basic Check 2",
         "DistinctnessConstraint(Distinctness(symbol))",
         "SUCCESS",
         "1.0",
         14,
         "2024-04-10T22:31:55.343+0000"
        ],
        [
         "Basic Check 2",
         "CompletenessConstraint(Completeness(price))",
         "SUCCESS",
         "1.0",
         5,
         "2024-04-10T22:31:01.240+0000"
        ],
        [
         "Basic Check 2",
         "DistinctnessConstraint(Distinctness(symbol))",
         "SUCCESS",
         "1.0",
         5,
         "2024-04-10T22:31:01.240+0000"
        ],
        [
         "Basic Check 2",
         "CompletenessConstraint(Completeness(price))",
         "SUCCESS",
         "1.0",
         9,
         "2024-04-10T22:31:25.420+0000"
        ],
        [
         "Basic Check 2",
         "DistinctnessConstraint(Distinctness(symbol))",
         "SUCCESS",
         "1.0",
         9,
         "2024-04-10T22:31:25.420+0000"
        ],
        [
         "Basic Check 2",
         "CompletenessConstraint(Completeness(price))",
         "SUCCESS",
         "1.0",
         37,
         "2024-04-10T22:34:05.639+0000"
        ],
        [
         "Basic Check 2",
         "DistinctnessConstraint(Distinctness(symbol))",
         "SUCCESS",
         "1.0",
         37,
         "2024-04-10T22:34:05.639+0000"
        ],
        [
         "Basic Check 2",
         "CompletenessConstraint(Completeness(price))",
         "SUCCESS",
         "1.0",
         36,
         "2024-04-10T22:33:59.422+0000"
        ],
        [
         "Basic Check 2",
         "DistinctnessConstraint(Distinctness(symbol))",
         "SUCCESS",
         "1.0",
         36,
         "2024-04-10T22:33:59.422+0000"
        ],
        [
         "Basic Check 2",
         "CompletenessConstraint(Completeness(price))",
         "SUCCESS",
         "1.0",
         49,
         "2024-04-10T22:35:12.402+0000"
        ],
        [
         "Basic Check 2",
         "DistinctnessConstraint(Distinctness(symbol))",
         "SUCCESS",
         "1.0",
         49,
         "2024-04-10T22:35:12.402+0000"
        ],
        [
         "Basic Check 2",
         "CompletenessConstraint(Completeness(price))",
         "SUCCESS",
         "1.0",
         27,
         "2024-04-10T22:33:08.532+0000"
        ],
        [
         "Basic Check 2",
         "DistinctnessConstraint(Distinctness(symbol))",
         "SUCCESS",
         "1.0",
         27,
         "2024-04-10T22:33:08.532+0000"
        ],
        [
         "Basic Check 2",
         "CompletenessConstraint(Completeness(price))",
         "SUCCESS",
         "1.0",
         3,
         "2024-04-10T22:30:49.534+0000"
        ],
        [
         "Basic Check 2",
         "DistinctnessConstraint(Distinctness(symbol))",
         "SUCCESS",
         "1.0",
         3,
         "2024-04-10T22:30:49.534+0000"
        ],
        [
         "Basic Check 2",
         "CompletenessConstraint(Completeness(price))",
         "SUCCESS",
         "1.0",
         8,
         "2024-04-10T22:31:19.563+0000"
        ],
        [
         "Basic Check 2",
         "DistinctnessConstraint(Distinctness(symbol))",
         "SUCCESS",
         "1.0",
         8,
         "2024-04-10T22:31:19.563+0000"
        ],
        [
         "Basic Check 2",
         "CompletenessConstraint(Completeness(price))",
         "SUCCESS",
         "1.0",
         25,
         "2024-04-10T22:32:58.184+0000"
        ],
        [
         "Basic Check 2",
         "DistinctnessConstraint(Distinctness(symbol))",
         "SUCCESS",
         "1.0",
         25,
         "2024-04-10T22:32:58.184+0000"
        ],
        [
         "Basic Check 2",
         "CompletenessConstraint(Completeness(price))",
         "SUCCESS",
         "1.0",
         39,
         "2024-04-10T22:34:16.534+0000"
        ],
        [
         "Basic Check 2",
         "DistinctnessConstraint(Distinctness(symbol))",
         "SUCCESS",
         "1.0",
         39,
         "2024-04-10T22:34:16.534+0000"
        ],
        [
         "Basic Check 2",
         "CompletenessConstraint(Completeness(price))",
         "SUCCESS",
         "1.0",
         19,
         "2024-04-10T22:32:23.783+0000"
        ],
        [
         "Basic Check 2",
         "DistinctnessConstraint(Distinctness(symbol))",
         "SUCCESS",
         "1.0",
         19,
         "2024-04-10T22:32:23.783+0000"
        ],
        [
         "Basic Check 2",
         "CompletenessConstraint(Completeness(price))",
         "SUCCESS",
         "1.0",
         10,
         "2024-04-10T22:31:31.442+0000"
        ],
        [
         "Basic Check 2",
         "DistinctnessConstraint(Distinctness(symbol))",
         "SUCCESS",
         "1.0",
         10,
         "2024-04-10T22:31:31.442+0000"
        ],
        [
         "Basic Check 2",
         "CompletenessConstraint(Completeness(price))",
         "SUCCESS",
         "1.0",
         48,
         "2024-04-10T22:35:06.336+0000"
        ],
        [
         "Basic Check 2",
         "DistinctnessConstraint(Distinctness(symbol))",
         "SUCCESS",
         "1.0",
         48,
         "2024-04-10T22:35:06.336+0000"
        ],
        [
         "Basic Check 2",
         "CompletenessConstraint(Completeness(price))",
         "SUCCESS",
         "1.0",
         35,
         "2024-04-10T22:33:54.531+0000"
        ],
        [
         "Basic Check 2",
         "DistinctnessConstraint(Distinctness(symbol))",
         "SUCCESS",
         "1.0",
         35,
         "2024-04-10T22:33:54.531+0000"
        ],
        [
         "Basic Check 2",
         "CompletenessConstraint(Completeness(price))",
         "SUCCESS",
         "1.0",
         34,
         "2024-04-10T22:33:48.686+0000"
        ],
        [
         "Basic Check 2",
         "DistinctnessConstraint(Distinctness(symbol))",
         "SUCCESS",
         "1.0",
         34,
         "2024-04-10T22:33:48.686+0000"
        ],
        [
         "Basic Check 2",
         "ComplianceConstraint(Compliance(quantity is non-negative))",
         "SUCCESS",
         "1.0",
         21,
         "2024-04-10T22:32:36.363+0000"
        ],
        [
         "Basic Check 2",
         "CompletenessConstraint(Completeness(ipaddr))",
         "FAILURE",
         "0.9333333333333333",
         21,
         "2024-04-10T22:32:36.363+0000"
        ],
        [
         "Basic Check 2",
         "ComplianceConstraint(Compliance(quantity is non-negative))",
         "FAILURE",
         "0.9666666666666667",
         17,
         "2024-04-10T22:32:13.121+0000"
        ],
        [
         "Basic Check 2",
         "CompletenessConstraint(Completeness(ipaddr))",
         "SUCCESS",
         "1.0",
         17,
         "2024-04-10T22:32:13.121+0000"
        ],
        [
         "Basic Check 2",
         "ComplianceConstraint(Compliance(quantity is non-negative))",
         "FAILURE",
         "0.95",
         44,
         "2024-04-10T22:34:43.317+0000"
        ],
        [
         "Basic Check 2",
         "CompletenessConstraint(Completeness(ipaddr))",
         "SUCCESS",
         "1.0",
         44,
         "2024-04-10T22:34:43.317+0000"
        ],
        [
         "Basic Check 2",
         "ComplianceConstraint(Compliance(quantity is non-negative))",
         "SUCCESS",
         "1.0",
         10,
         "2024-04-10T22:31:31.442+0000"
        ],
        [
         "Basic Check 2",
         "CompletenessConstraint(Completeness(ipaddr))",
         "FAILURE",
         "0.95",
         10,
         "2024-04-10T22:31:31.442+0000"
        ],
        [
         "Basic Check 2",
         "ComplianceConstraint(Compliance(quantity is non-negative))",
         "FAILURE",
         "0.95",
         18,
         "2024-04-10T22:32:18.681+0000"
        ],
        [
         "Basic Check 2",
         "CompletenessConstraint(Completeness(ipaddr))",
         "SUCCESS",
         "1.0",
         18,
         "2024-04-10T22:32:18.681+0000"
        ],
        [
         "Basic Check 2",
         "ComplianceConstraint(Compliance(quantity is non-negative))",
         "SUCCESS",
         "1.0",
         6,
         "2024-04-10T22:31:06.751+0000"
        ],
        [
         "Basic Check 2",
         "CompletenessConstraint(Completeness(ipaddr))",
         "FAILURE",
         "0.95",
         6,
         "2024-04-10T22:31:06.751+0000"
        ],
        [
         "Basic Check 2",
         "ComplianceConstraint(Compliance(quantity is non-negative))",
         "FAILURE",
         "0.95",
         7,
         "2024-04-10T22:31:13.371+0000"
        ],
        [
         "Basic Check 2",
         "CompletenessConstraint(Completeness(ipaddr))",
         "SUCCESS",
         "1.0",
         7,
         "2024-04-10T22:31:13.371+0000"
        ],
        [
         "Basic Check 2",
         "ComplianceConstraint(Compliance(quantity is non-negative))",
         "FAILURE",
         "0.95",
         43,
         "2024-04-10T22:34:38.876+0000"
        ],
        [
         "Basic Check 2",
         "CompletenessConstraint(Completeness(ipaddr))",
         "SUCCESS",
         "1.0",
         43,
         "2024-04-10T22:34:38.876+0000"
        ],
        [
         "Basic Check 2",
         "ComplianceConstraint(Compliance(quantity is non-negative))",
         "SUCCESS",
         "1.0",
         8,
         "2024-04-10T22:31:19.563+0000"
        ],
        [
         "Basic Check 2",
         "CompletenessConstraint(Completeness(ipaddr))",
         "FAILURE",
         "0.85",
         8,
         "2024-04-10T22:31:19.563+0000"
        ],
        [
         "Basic Check 2",
         "ComplianceConstraint(Compliance(quantity is non-negative))",
         "SUCCESS",
         "1.0",
         12,
         "2024-04-10T22:31:44.055+0000"
        ],
        [
         "Basic Check 2",
         "CompletenessConstraint(Completeness(ipaddr))",
         "FAILURE",
         "0.95",
         12,
         "2024-04-10T22:31:44.055+0000"
        ],
        [
         "Basic Check 2",
         "ComplianceConstraint(Compliance(quantity is non-negative))",
         "FAILURE",
         "0.85",
         24,
         "2024-04-10T22:32:52.699+0000"
        ],
        [
         "Basic Check 2",
         "CompletenessConstraint(Completeness(ipaddr))",
         "SUCCESS",
         "1.0",
         24,
         "2024-04-10T22:32:52.699+0000"
        ],
        [
         "Basic Check 2",
         "ComplianceConstraint(Compliance(quantity is non-negative))",
         "SUCCESS",
         "1.0",
         25,
         "2024-04-10T22:32:58.184+0000"
        ],
        [
         "Basic Check 2",
         "CompletenessConstraint(Completeness(ipaddr))",
         "FAILURE",
         "0.95",
         25,
         "2024-04-10T22:32:58.184+0000"
        ],
        [
         "Basic Check 2",
         "ComplianceConstraint(Compliance(quantity is non-negative))",
         "SUCCESS",
         "1.0",
         3,
         "2024-04-10T22:30:49.534+0000"
        ],
        [
         "Basic Check 2",
         "CompletenessConstraint(Completeness(ipaddr))",
         "FAILURE",
         "0.95",
         3,
         "2024-04-10T22:30:49.534+0000"
        ],
        [
         "Basic Check 2",
         "ComplianceConstraint(Compliance(quantity is non-negative))",
         "SUCCESS",
         "1.0",
         39,
         "2024-04-10T22:34:16.534+0000"
        ],
        [
         "Basic Check 2",
         "CompletenessConstraint(Completeness(ipaddr))",
         "FAILURE",
         "0.95",
         39,
         "2024-04-10T22:34:16.534+0000"
        ],
        [
         "Basic Check 2",
         "ComplianceConstraint(Compliance(quantity is non-negative))",
         "FAILURE",
         "0.95",
         26,
         "2024-04-10T22:33:03.783+0000"
        ],
        [
         "Basic Check 2",
         "CompletenessConstraint(Completeness(ipaddr))",
         "SUCCESS",
         "1.0",
         26,
         "2024-04-10T22:33:03.783+0000"
        ],
        [
         "Basic Check 2",
         "ComplianceConstraint(Compliance(quantity is non-negative))",
         "FAILURE",
         "0.95",
         20,
         "2024-04-10T22:32:29.773+0000"
        ],
        [
         "Basic Check 2",
         "CompletenessConstraint(Completeness(ipaddr))",
         "SUCCESS",
         "1.0",
         20,
         "2024-04-10T22:32:29.773+0000"
        ],
        [
         "Basic Check 2",
         "ComplianceConstraint(Compliance(quantity is non-negative))",
         "FAILURE",
         "0.95",
         45,
         "2024-04-10T22:34:49.528+0000"
        ],
        [
         "Basic Check 2",
         "CompletenessConstraint(Completeness(ipaddr))",
         "SUCCESS",
         "1.0",
         45,
         "2024-04-10T22:34:49.528+0000"
        ],
        [
         "Basic Check 2",
         "ComplianceConstraint(Compliance(quantity is non-negative))",
         "FAILURE",
         "0.85",
         35,
         "2024-04-10T22:33:54.531+0000"
        ],
        [
         "Basic Check 2",
         "CompletenessConstraint(Completeness(ipaddr))",
         "SUCCESS",
         "1.0",
         35,
         "2024-04-10T22:33:54.531+0000"
        ],
        [
         "Basic Check 2",
         "ComplianceConstraint(Compliance(quantity is non-negative))",
         "SUCCESS",
         "1.0",
         23,
         "2024-04-10T22:32:46.642+0000"
        ],
        [
         "Basic Check 2",
         "CompletenessConstraint(Completeness(ipaddr))",
         "FAILURE",
         "0.85",
         23,
         "2024-04-10T22:32:46.642+0000"
        ],
        [
         "Basic Check 2",
         "ComplianceConstraint(Compliance(quantity is non-negative))",
         "FAILURE",
         "0.95",
         34,
         "2024-04-10T22:33:48.686+0000"
        ],
        [
         "Basic Check 2",
         "CompletenessConstraint(Completeness(ipaddr))",
         "SUCCESS",
         "1.0",
         34,
         "2024-04-10T22:33:48.686+0000"
        ],
        [
         "Basic Check 2",
         "ComplianceConstraint(Compliance(quantity is non-negative))",
         "SUCCESS",
         "1.0",
         13,
         "2024-04-10T22:31:49.714+0000"
        ],
        [
         "Basic Check 2",
         "CompletenessConstraint(Completeness(ipaddr))",
         "FAILURE",
         "0.9",
         13,
         "2024-04-10T22:31:49.714+0000"
        ],
        [
         "Basic Check 2",
         "ComplianceConstraint(Compliance(quantity is non-negative))",
         "SUCCESS",
         "1.0",
         16,
         "2024-04-10T22:32:07.825+0000"
        ],
        [
         "Basic Check 2",
         "CompletenessConstraint(Completeness(ipaddr))",
         "FAILURE",
         "0.9",
         16,
         "2024-04-10T22:32:07.825+0000"
        ],
        [
         "Basic Check 2",
         "ComplianceConstraint(Compliance(quantity is non-negative))",
         "FAILURE",
         "0.9",
         19,
         "2024-04-10T22:32:23.783+0000"
        ],
        [
         "Basic Check 2",
         "CompletenessConstraint(Completeness(ipaddr))",
         "SUCCESS",
         "1.0",
         19,
         "2024-04-10T22:32:23.783+0000"
        ],
        [
         "Basic Check 2",
         "ComplianceConstraint(Compliance(quantity is non-negative))",
         "SUCCESS",
         "1.0",
         42,
         "2024-04-10T22:34:33.827+0000"
        ],
        [
         "Basic Check 2",
         "CompletenessConstraint(Completeness(ipaddr))",
         "FAILURE",
         "0.9",
         42,
         "2024-04-10T22:34:33.827+0000"
        ],
        [
         "Basic Check 2",
         "ComplianceConstraint(Compliance(quantity is non-negative))",
         "FAILURE",
         "0.9",
         0,
         "2024-04-10T22:30:28.100+0000"
        ],
        [
         "Basic Check 2",
         "CompletenessConstraint(Completeness(ipaddr))",
         "SUCCESS",
         "1.0",
         0,
         "2024-04-10T22:30:28.100+0000"
        ],
        [
         "Basic Check 2",
         "ComplianceConstraint(Compliance(quantity is non-negative))",
         "SUCCESS",
         "1.0",
         31,
         "2024-04-10T22:33:32.758+0000"
        ],
        [
         "Basic Check 2",
         "CompletenessConstraint(Completeness(ipaddr))",
         "FAILURE",
         "0.9",
         31,
         "2024-04-10T22:33:32.758+0000"
        ],
        [
         "Basic Check 2",
         "ComplianceConstraint(Compliance(quantity is non-negative))",
         "FAILURE",
         "0.8",
         40,
         "2024-04-10T22:34:22.714+0000"
        ],
        [
         "Basic Check 2",
         "CompletenessConstraint(Completeness(ipaddr))",
         "SUCCESS",
         "1.0",
         40,
         "2024-04-10T22:34:22.714+0000"
        ],
        [
         "Basic Check 2",
         "ComplianceConstraint(Compliance(quantity is non-negative))",
         "FAILURE",
         "0.9",
         46,
         "2024-04-10T22:34:55.037+0000"
        ],
        [
         "Basic Check 2",
         "CompletenessConstraint(Completeness(ipaddr))",
         "SUCCESS",
         "1.0",
         46,
         "2024-04-10T22:34:55.037+0000"
        ],
        [
         "Basic Check 2",
         "ComplianceConstraint(Compliance(quantity is non-negative))",
         "FAILURE",
         "0.9",
         28,
         "2024-04-10T22:33:14.794+0000"
        ],
        [
         "Basic Check 2",
         "CompletenessConstraint(Completeness(ipaddr))",
         "SUCCESS",
         "1.0",
         28,
         "2024-04-10T22:33:14.794+0000"
        ],
        [
         "Basic Check 2",
         "ComplianceConstraint(Compliance(quantity is non-negative))",
         "FAILURE",
         "0.9",
         30,
         "2024-04-10T22:33:25.962+0000"
        ],
        [
         "Basic Check 2",
         "CompletenessConstraint(Completeness(ipaddr))",
         "SUCCESS",
         "1.0",
         30,
         "2024-04-10T22:33:25.962+0000"
        ],
        [
         "Basic Check 2",
         "ComplianceConstraint(Compliance(quantity is non-negative))",
         "FAILURE",
         "0.9",
         22,
         "2024-04-10T22:32:40.819+0000"
        ],
        [
         "Basic Check 2",
         "CompletenessConstraint(Completeness(ipaddr))",
         "SUCCESS",
         "1.0",
         22,
         "2024-04-10T22:32:40.819+0000"
        ],
        [
         "Basic Check 2",
         "CompletenessConstraint(Completeness(price))",
         "FAILURE",
         "0.95",
         12,
         "2024-04-10T22:31:44.055+0000"
        ],
        [
         "Basic Check 2",
         "DistinctnessConstraint(Distinctness(symbol))",
         "SUCCESS",
         "1.0",
         12,
         "2024-04-10T22:31:44.055+0000"
        ],
        [
         "Basic Check 2",
         "CompletenessConstraint(Completeness(price))",
         "FAILURE",
         "0.95",
         41,
         "2024-04-10T22:34:29.068+0000"
        ],
        [
         "Basic Check 2",
         "DistinctnessConstraint(Distinctness(symbol))",
         "SUCCESS",
         "1.0",
         41,
         "2024-04-10T22:34:29.068+0000"
        ],
        [
         "Basic Check 2",
         "CompletenessConstraint(Completeness(price))",
         "FAILURE",
         "0.95",
         31,
         "2024-04-10T22:33:32.758+0000"
        ],
        [
         "Basic Check 2",
         "DistinctnessConstraint(Distinctness(symbol))",
         "SUCCESS",
         "1.0",
         31,
         "2024-04-10T22:33:32.758+0000"
        ],
        [
         "Basic Check 2",
         "CompletenessConstraint(Completeness(price))",
         "FAILURE",
         "0.95",
         4,
         "2024-04-10T22:30:54.802+0000"
        ],
        [
         "Basic Check 2",
         "DistinctnessConstraint(Distinctness(symbol))",
         "SUCCESS",
         "1.0",
         4,
         "2024-04-10T22:30:54.802+0000"
        ],
        [
         "Basic Check 2",
         "CompletenessConstraint(Completeness(price))",
         "FAILURE",
         "0.95",
         46,
         "2024-04-10T22:34:55.037+0000"
        ],
        [
         "Basic Check 2",
         "DistinctnessConstraint(Distinctness(symbol))",
         "SUCCESS",
         "1.0",
         46,
         "2024-04-10T22:34:55.037+0000"
        ],
        [
         "Basic Check 2",
         "CompletenessConstraint(Completeness(price))",
         "SUCCESS",
         "1.0",
         38,
         "2024-04-10T22:34:10.562+0000"
        ],
        [
         "Basic Check 2",
         "DistinctnessConstraint(Distinctness(symbol))",
         "FAILURE",
         "0.95",
         38,
         "2024-04-10T22:34:10.562+0000"
        ],
        [
         "Basic Check 2",
         "CompletenessConstraint(Completeness(price))",
         "FAILURE",
         "0.95",
         7,
         "2024-04-10T22:31:13.371+0000"
        ],
        [
         "Basic Check 2",
         "DistinctnessConstraint(Distinctness(symbol))",
         "SUCCESS",
         "1.0",
         7,
         "2024-04-10T22:31:13.371+0000"
        ],
        [
         "Basic Check 2",
         "CompletenessConstraint(Completeness(price))",
         "FAILURE",
         "0.95",
         29,
         "2024-04-10T22:33:20.551+0000"
        ],
        [
         "Basic Check 2",
         "DistinctnessConstraint(Distinctness(symbol))",
         "SUCCESS",
         "1.0",
         29,
         "2024-04-10T22:33:20.551+0000"
        ],
        [
         "Basic Check 2",
         "CompletenessConstraint(Completeness(price))",
         "FAILURE",
         "0.95",
         18,
         "2024-04-10T22:32:18.681+0000"
        ],
        [
         "Basic Check 2",
         "DistinctnessConstraint(Distinctness(symbol))",
         "SUCCESS",
         "1.0",
         18,
         "2024-04-10T22:32:18.681+0000"
        ],
        [
         "Basic Check 2",
         "CompletenessConstraint(Completeness(price))",
         "FAILURE",
         "0.95",
         26,
         "2024-04-10T22:33:03.783+0000"
        ],
        [
         "Basic Check 2",
         "DistinctnessConstraint(Distinctness(symbol))",
         "SUCCESS",
         "1.0",
         26,
         "2024-04-10T22:33:03.783+0000"
        ],
        [
         "Basic Check 2",
         "CompletenessConstraint(Completeness(price))",
         "FAILURE",
         "0.95",
         11,
         "2024-04-10T22:31:38.798+0000"
        ],
        [
         "Basic Check 2",
         "DistinctnessConstraint(Distinctness(symbol))",
         "SUCCESS",
         "1.0",
         11,
         "2024-04-10T22:31:38.798+0000"
        ],
        [
         "Basic Check 2",
         "CompletenessConstraint(Completeness(price))",
         "FAILURE",
         "0.95",
         45,
         "2024-04-10T22:34:49.528+0000"
        ],
        [
         "Basic Check 2",
         "DistinctnessConstraint(Distinctness(symbol))",
         "SUCCESS",
         "1.0",
         45,
         "2024-04-10T22:34:49.528+0000"
        ],
        [
         "Basic Check 2",
         "CompletenessConstraint(Completeness(price))",
         "FAILURE",
         "0.95",
         20,
         "2024-04-10T22:32:29.773+0000"
        ],
        [
         "Basic Check 2",
         "DistinctnessConstraint(Distinctness(symbol))",
         "SUCCESS",
         "1.0",
         20,
         "2024-04-10T22:32:29.773+0000"
        ],
        [
         "Basic Check 2",
         "CompletenessConstraint(Completeness(price))",
         "FAILURE",
         "0.95",
         16,
         "2024-04-10T22:32:07.825+0000"
        ],
        [
         "Basic Check 2",
         "DistinctnessConstraint(Distinctness(symbol))",
         "SUCCESS",
         "1.0",
         16,
         "2024-04-10T22:32:07.825+0000"
        ],
        [
         "Basic Check 2",
         "CompletenessConstraint(Completeness(price))",
         "FAILURE",
         "0.95",
         13,
         "2024-04-10T22:31:49.714+0000"
        ],
        [
         "Basic Check 2",
         "DistinctnessConstraint(Distinctness(symbol))",
         "SUCCESS",
         "1.0",
         13,
         "2024-04-10T22:31:49.714+0000"
        ],
        [
         "Basic Check 2",
         "CompletenessConstraint(Completeness(price))",
         "FAILURE",
         "0.95",
         42,
         "2024-04-10T22:34:33.827+0000"
        ],
        [
         "Basic Check 2",
         "DistinctnessConstraint(Distinctness(symbol))",
         "SUCCESS",
         "1.0",
         42,
         "2024-04-10T22:34:33.827+0000"
        ],
        [
         "Basic Check 2",
         "CompletenessConstraint(Completeness(price))",
         "FAILURE",
         "0.95",
         43,
         "2024-04-10T22:34:38.876+0000"
        ],
        [
         "Basic Check 2",
         "DistinctnessConstraint(Distinctness(symbol))",
         "SUCCESS",
         "1.0",
         43,
         "2024-04-10T22:34:38.876+0000"
        ],
        [
         "Basic Check 2",
         "CompletenessConstraint(Completeness(price))",
         "SUCCESS",
         "1.0",
         28,
         "2024-04-10T22:33:14.794+0000"
        ],
        [
         "Basic Check 2",
         "DistinctnessConstraint(Distinctness(symbol))",
         "FAILURE",
         "0.95",
         28,
         "2024-04-10T22:33:14.794+0000"
        ],
        [
         "Basic Check 2",
         "CompletenessConstraint(Completeness(price))",
         "FAILURE",
         "0.95",
         15,
         "2024-04-10T22:32:01.612+0000"
        ],
        [
         "Basic Check 2",
         "DistinctnessConstraint(Distinctness(symbol))",
         "SUCCESS",
         "1.0",
         15,
         "2024-04-10T22:32:01.612+0000"
        ],
        [
         "Basic Check 2",
         "CompletenessConstraint(Completeness(price))",
         "FAILURE",
         "0.95",
         30,
         "2024-04-10T22:33:25.962+0000"
        ],
        [
         "Basic Check 2",
         "DistinctnessConstraint(Distinctness(symbol))",
         "SUCCESS",
         "1.0",
         30,
         "2024-04-10T22:33:25.962+0000"
        ],
        [
         "Basic Check 2",
         "CompletenessConstraint(Completeness(price))",
         "FAILURE",
         "0.95",
         2,
         "2024-04-10T22:30:42.752+0000"
        ],
        [
         "Basic Check 2",
         "DistinctnessConstraint(Distinctness(symbol))",
         "SUCCESS",
         "1.0",
         2,
         "2024-04-10T22:30:42.752+0000"
        ],
        [
         "Basic Check 2",
         "CompletenessConstraint(Completeness(price))",
         "FAILURE",
         "0.9",
         50,
         "2024-04-10T22:35:17.270+0000"
        ],
        [
         "Basic Check 2",
         "DistinctnessConstraint(Distinctness(symbol))",
         "SUCCESS",
         "1.0",
         50,
         "2024-04-10T22:35:17.270+0000"
        ],
        [
         "Basic Check 2",
         "CompletenessConstraint(Completeness(price))",
         "FAILURE",
         "0.9",
         22,
         "2024-04-10T22:32:40.819+0000"
        ],
        [
         "Basic Check 2",
         "DistinctnessConstraint(Distinctness(symbol))",
         "SUCCESS",
         "1.0",
         22,
         "2024-04-10T22:32:40.819+0000"
        ],
        [
         "Basic Check 2",
         "CompletenessConstraint(Completeness(price))",
         "FAILURE",
         "0.9",
         23,
         "2024-04-10T22:32:46.642+0000"
        ],
        [
         "Basic Check 2",
         "DistinctnessConstraint(Distinctness(symbol))",
         "SUCCESS",
         "1.0",
         23,
         "2024-04-10T22:32:46.642+0000"
        ]
       ],
       "datasetInfos": [],
       "dbfsResultPath": null,
       "isJsonSchema": true,
       "metadata": {},
       "overflow": false,
       "plotOptions": {
        "customPlotOptions": {},
        "displayType": "table",
        "pivotAggregation": null,
        "pivotColumns": null,
        "xColumns": null,
        "yColumns": null
       },
       "removedWidgets": [],
       "schema": [
        {
         "metadata": "{}",
         "name": "Check",
         "type": "\"string\""
        },
        {
         "metadata": "{}",
         "name": "Constraint",
         "type": "\"string\""
        },
        {
         "metadata": "{}",
         "name": "Status",
         "type": "\"string\""
        },
        {
         "metadata": "{}",
         "name": "Metric",
         "type": "\"string\""
        },
        {
         "metadata": "{}",
         "name": "batchID",
         "type": "\"long\""
        },
        {
         "metadata": "{}",
         "name": "ts",
         "type": "\"timestamp\""
        }
       ],
       "type": "table"
      }
     },
     "output_type": "display_data"
    }
   ],
   "source": [
    "%scala\n",
    "display(spark.readStream.format(\"delta\")\n",
    "        .option(\"ignoreChanges\", \"true\")\n",
    "        .table(\"duck_metrics\"))"
   ]
  },
  {
   "cell_type": "code",
   "execution_count": null,
   "metadata": {
    "application/vnd.databricks.v1+cell": {
     "cellMetadata": {
      "byteLimit": 2048000,
      "rowLimit": 10000
     },
     "inputWidgets": {},
     "nuid": "9621507f-995f-421a-9794-4d155f7d2a6c",
     "showTitle": false,
     "title": ""
    }
   },
   "outputs": [
    {
     "data": {
      "text/html": [
       "<style scoped>\n",
       "  .table-result-container {\n",
       "    max-height: 300px;\n",
       "    overflow: auto;\n",
       "  }\n",
       "  table, th, td {\n",
       "    border: 1px solid black;\n",
       "    border-collapse: collapse;\n",
       "  }\n",
       "  th, td {\n",
       "    padding: 5px;\n",
       "  }\n",
       "  th {\n",
       "    text-align: left;\n",
       "  }\n",
       "</style><div class='table-result-container'><table class='table-result'><thead style='background-color: white'><tr><th>Check</th><th>Constraint</th><th>Status</th><th>Metric</th><th>batchID</th><th>ts</th></tr></thead><tbody><tr><td>Basic Check 2</td><td>CompletenessConstraint(Completeness(quantity))</td><td>FAILURE</td><td>0.9333333333333333</td><td>41</td><td>2024-04-10T03:42:16.949+0000</td></tr><tr><td>Basic Check 2</td><td>CompletenessConstraint(Completeness(quantity))</td><td>FAILURE</td><td>0.9666666666666667</td><td>1</td><td>2024-04-10T03:38:31.231+0000</td></tr><tr><td>Basic Check 2</td><td>CompletenessConstraint(Completeness(ipaddr))</td><td>FAILURE</td><td>0.9333333333333333</td><td>1</td><td>2024-04-10T03:38:31.231+0000</td></tr><tr><td>Basic Check 2</td><td>CompletenessConstraint(Completeness(ipaddr))</td><td>FAILURE</td><td>0.9333333333333333</td><td>21</td><td>2024-04-10T03:40:29.948+0000</td></tr><tr><td>Basic Check 2</td><td>CompletenessConstraint(Completeness(ipaddr))</td><td>FAILURE</td><td>0.9666666666666667</td><td>41</td><td>2024-04-10T03:42:16.949+0000</td></tr><tr><td>Basic Check 2</td><td>CompletenessConstraint(Completeness(quantity))</td><td>FAILURE</td><td>0.95</td><td>13</td><td>2024-04-10T03:39:44.192+0000</td></tr><tr><td>Basic Check 2</td><td>CompletenessConstraint(Completeness(quantity))</td><td>FAILURE</td><td>0.95</td><td>48</td><td>2024-04-10T03:42:52.082+0000</td></tr><tr><td>Basic Check 2</td><td>CompletenessConstraint(Completeness(quantity))</td><td>FAILURE</td><td>0.95</td><td>34</td><td>2024-04-10T03:41:38.765+0000</td></tr><tr><td>Basic Check 2</td><td>CompletenessConstraint(Completeness(quantity))</td><td>FAILURE</td><td>0.95</td><td>19</td><td>2024-04-10T03:40:17.402+0000</td></tr><tr><td>Basic Check 2</td><td>CompletenessConstraint(Completeness(quantity))</td><td>FAILURE</td><td>0.95</td><td>29</td><td>2024-04-10T03:41:11.565+0000</td></tr><tr><td>Basic Check 2</td><td>CompletenessConstraint(Completeness(quantity))</td><td>FAILURE</td><td>0.95</td><td>27</td><td>2024-04-10T03:41:01.120+0000</td></tr><tr><td>Basic Check 2</td><td>CompletenessConstraint(Completeness(quantity))</td><td>FAILURE</td><td>0.95</td><td>40</td><td>2024-04-10T03:42:10.594+0000</td></tr><tr><td>Basic Check 2</td><td>CompletenessConstraint(Completeness(quantity))</td><td>FAILURE</td><td>0.95</td><td>5</td><td>2024-04-10T03:38:56.963+0000</td></tr><tr><td>Basic Check 2</td><td>CompletenessConstraint(Completeness(quantity))</td><td>FAILURE</td><td>0.85</td><td>3</td><td>2024-04-10T03:38:42.332+0000</td></tr><tr><td>Basic Check 2</td><td>CompletenessConstraint(Completeness(quantity))</td><td>FAILURE</td><td>0.95</td><td>36</td><td>2024-04-10T03:41:49.469+0000</td></tr><tr><td>Basic Check 2</td><td>CompletenessConstraint(Completeness(quantity))</td><td>FAILURE</td><td>0.95</td><td>7</td><td>2024-04-10T03:39:09.402+0000</td></tr><tr><td>Basic Check 2</td><td>CompletenessConstraint(Completeness(quantity))</td><td>FAILURE</td><td>0.95</td><td>25</td><td>2024-04-10T03:40:50.290+0000</td></tr><tr><td>Basic Check 2</td><td>CompletenessConstraint(Completeness(quantity))</td><td>FAILURE</td><td>0.95</td><td>45</td><td>2024-04-10T03:42:36.421+0000</td></tr><tr><td>Basic Check 2</td><td>CompletenessConstraint(Completeness(quantity))</td><td>FAILURE</td><td>0.95</td><td>17</td><td>2024-04-10T03:40:06.479+0000</td></tr><tr><td>Basic Check 2</td><td>CompletenessConstraint(Completeness(quantity))</td><td>FAILURE</td><td>0.95</td><td>23</td><td>2024-04-10T03:40:39.646+0000</td></tr><tr><td>Basic Check 2</td><td>CompletenessConstraint(Completeness(ipaddr))</td><td>FAILURE</td><td>0.95</td><td>24</td><td>2024-04-10T03:40:45.331+0000</td></tr><tr><td>Basic Check 2</td><td>CompletenessConstraint(Completeness(ipaddr))</td><td>FAILURE</td><td>0.95</td><td>17</td><td>2024-04-10T03:40:06.479+0000</td></tr><tr><td>Basic Check 2</td><td>CompletenessConstraint(Completeness(ipaddr))</td><td>FAILURE</td><td>0.95</td><td>12</td><td>2024-04-10T03:39:38.855+0000</td></tr><tr><td>Basic Check 2</td><td>CompletenessConstraint(Completeness(ipaddr))</td><td>FAILURE</td><td>0.95</td><td>5</td><td>2024-04-10T03:38:56.963+0000</td></tr><tr><td>Basic Check 2</td><td>CompletenessConstraint(Completeness(ipaddr))</td><td>FAILURE</td><td>0.95</td><td>18</td><td>2024-04-10T03:40:12.118+0000</td></tr><tr><td>Basic Check 2</td><td>CompletenessConstraint(Completeness(ipaddr))</td><td>FAILURE</td><td>0.95</td><td>43</td><td>2024-04-10T03:42:25.946+0000</td></tr><tr><td>Basic Check 2</td><td>CompletenessConstraint(Completeness(ipaddr))</td><td>FAILURE</td><td>0.95</td><td>26</td><td>2024-04-10T03:40:55.924+0000</td></tr><tr><td>Basic Check 2</td><td>CompletenessConstraint(Completeness(ipaddr))</td><td>FAILURE</td><td>0.95</td><td>13</td><td>2024-04-10T03:39:44.192+0000</td></tr><tr><td>Basic Check 2</td><td>CompletenessConstraint(Completeness(ipaddr))</td><td>FAILURE</td><td>0.95</td><td>46</td><td>2024-04-10T03:42:41.989+0000</td></tr><tr><td>Basic Check 2</td><td>CompletenessConstraint(Completeness(quantity))</td><td>SUCCESS</td><td>1.0</td><td>8</td><td>2024-04-10T03:39:15.470+0000</td></tr><tr><td>Basic Check 2</td><td>CompletenessConstraint(Completeness(quantity))</td><td>SUCCESS</td><td>1.0</td><td>39</td><td>2024-04-10T03:42:04.735+0000</td></tr><tr><td>Basic Check 2</td><td>CompletenessConstraint(Completeness(quantity))</td><td>SUCCESS</td><td>1.0</td><td>35</td><td>2024-04-10T03:41:44.319+0000</td></tr><tr><td>Basic Check 2</td><td>CompletenessConstraint(Completeness(quantity))</td><td>SUCCESS</td><td>1.0</td><td>9</td><td>2024-04-10T03:39:20.633+0000</td></tr><tr><td>Basic Check 2</td><td>CompletenessConstraint(Completeness(quantity))</td><td>SUCCESS</td><td>1.0</td><td>22</td><td>2024-04-10T03:40:34.433+0000</td></tr><tr><td>Basic Check 2</td><td>CompletenessConstraint(Completeness(quantity))</td><td>SUCCESS</td><td>1.0</td><td>50</td><td>2024-04-10T03:43:02.032+0000</td></tr><tr><td>Basic Check 2</td><td>CompletenessConstraint(Completeness(quantity))</td><td>SUCCESS</td><td>1.0</td><td>28</td><td>2024-04-10T03:41:05.972+0000</td></tr><tr><td>Basic Check 2</td><td>CompletenessConstraint(Completeness(quantity))</td><td>SUCCESS</td><td>1.0</td><td>46</td><td>2024-04-10T03:42:41.989+0000</td></tr><tr><td>Basic Check 2</td><td>CompletenessConstraint(Completeness(quantity))</td><td>SUCCESS</td><td>1.0</td><td>38</td><td>2024-04-10T03:41:59.988+0000</td></tr><tr><td>Basic Check 2</td><td>CompletenessConstraint(Completeness(quantity))</td><td>SUCCESS</td><td>1.0</td><td>43</td><td>2024-04-10T03:42:25.946+0000</td></tr><tr><td>Basic Check 2</td><td>CompletenessConstraint(Completeness(ipaddr))</td><td>FAILURE</td><td>0.95</td><td>34</td><td>2024-04-10T03:41:38.765+0000</td></tr><tr><td>Basic Check 2</td><td>CompletenessConstraint(Completeness(quantity))</td><td>SUCCESS</td><td>1.0</td><td>31</td><td>2024-04-10T03:41:23.243+0000</td></tr><tr><td>Basic Check 2</td><td>CompletenessConstraint(Completeness(quantity))</td><td>SUCCESS</td><td>1.0</td><td>49</td><td>2024-04-10T03:42:57.855+0000</td></tr><tr><td>Basic Check 2</td><td>CompletenessConstraint(Completeness(quantity))</td><td>SUCCESS</td><td>1.0</td><td>21</td><td>2024-04-10T03:40:29.948+0000</td></tr><tr><td>Basic Check 2</td><td>CompletenessConstraint(Completeness(quantity))</td><td>SUCCESS</td><td>1.0</td><td>18</td><td>2024-04-10T03:40:12.118+0000</td></tr><tr><td>Basic Check 2</td><td>CompletenessConstraint(Completeness(quantity))</td><td>SUCCESS</td><td>1.0</td><td>20</td><td>2024-04-10T03:40:23.525+0000</td></tr><tr><td>Basic Check 2</td><td>CompletenessConstraint(Completeness(quantity))</td><td>SUCCESS</td><td>1.0</td><td>6</td><td>2024-04-10T03:39:02.871+0000</td></tr><tr><td>Basic Check 2</td><td>CompletenessConstraint(Completeness(quantity))</td><td>SUCCESS</td><td>1.0</td><td>14</td><td>2024-04-10T03:39:49.390+0000</td></tr><tr><td>Basic Check 2</td><td>CompletenessConstraint(Completeness(quantity))</td><td>SUCCESS</td><td>1.0</td><td>37</td><td>2024-04-10T03:41:54.540+0000</td></tr><tr><td>Basic Check 2</td><td>CompletenessConstraint(Completeness(quantity))</td><td>FAILURE</td><td>0.9</td><td>26</td><td>2024-04-10T03:40:55.924+0000</td></tr><tr><td>Basic Check 2</td><td>CompletenessConstraint(Completeness(quantity))</td><td>FAILURE</td><td>0.9</td><td>47</td><td>2024-04-10T03:42:47.227+0000</td></tr><tr><td>Basic Check 2</td><td>CompletenessConstraint(Completeness(quantity))</td><td>FAILURE</td><td>0.9</td><td>0</td><td>2024-04-10T03:38:22.642+0000</td></tr><tr><td>Basic Check 2</td><td>CompletenessConstraint(Completeness(quantity))</td><td>FAILURE</td><td>0.9</td><td>2</td><td>2024-04-10T03:38:36.814+0000</td></tr><tr><td>Basic Check 2</td><td>CompletenessConstraint(Completeness(quantity))</td><td>SUCCESS</td><td>1.0</td><td>4</td><td>2024-04-10T03:38:49.408+0000</td></tr><tr><td>Basic Check 2</td><td>CompletenessConstraint(Completeness(quantity))</td><td>FAILURE</td><td>0.9</td><td>11</td><td>2024-04-10T03:39:32.650+0000</td></tr><tr><td>Basic Check 2</td><td>CompletenessConstraint(Completeness(quantity))</td><td>FAILURE</td><td>0.9</td><td>33</td><td>2024-04-10T03:41:33.742+0000</td></tr><tr><td>Basic Check 2</td><td>CompletenessConstraint(Completeness(quantity))</td><td>FAILURE</td><td>0.9</td><td>44</td><td>2024-04-10T03:42:31.217+0000</td></tr><tr><td>Basic Check 2</td><td>CompletenessConstraint(Completeness(quantity))</td><td>FAILURE</td><td>0.9</td><td>15</td><td>2024-04-10T03:39:55.477+0000</td></tr><tr><td>Basic Check 2</td><td>CompletenessConstraint(Completeness(quantity))</td><td>FAILURE</td><td>0.9</td><td>24</td><td>2024-04-10T03:40:45.331+0000</td></tr><tr><td>Basic Check 2</td><td>CompletenessConstraint(Completeness(quantity))</td><td>SUCCESS</td><td>1.0</td><td>42</td><td>2024-04-10T03:42:21.335+0000</td></tr><tr><td>Basic Check 2</td><td>CompletenessConstraint(Completeness(quantity))</td><td>FAILURE</td><td>0.8</td><td>12</td><td>2024-04-10T03:39:38.855+0000</td></tr><tr><td>Basic Check 2</td><td>CompletenessConstraint(Completeness(quantity))</td><td>SUCCESS</td><td>1.0</td><td>32</td><td>2024-04-10T03:41:28.495+0000</td></tr><tr><td>Basic Check 2</td><td>CompletenessConstraint(Completeness(quantity))</td><td>FAILURE</td><td>0.9</td><td>16</td><td>2024-04-10T03:40:00.720+0000</td></tr><tr><td>Basic Check 2</td><td>CompletenessConstraint(Completeness(quantity))</td><td>FAILURE</td><td>0.9</td><td>10</td><td>2024-04-10T03:39:26.263+0000</td></tr><tr><td>Basic Check 2</td><td>CompletenessConstraint(Completeness(quantity))</td><td>FAILURE</td><td>0.9</td><td>30</td><td>2024-04-10T03:41:17.828+0000</td></tr><tr><td>Basic Check 2</td><td>CompletenessConstraint(Completeness(ipaddr))</td><td>SUCCESS</td><td>1.0</td><td>25</td><td>2024-04-10T03:40:50.290+0000</td></tr><tr><td>Basic Check 2</td><td>CompletenessConstraint(Completeness(ipaddr))</td><td>SUCCESS</td><td>1.0</td><td>39</td><td>2024-04-10T03:42:04.735+0000</td></tr><tr><td>Basic Check 2</td><td>CompletenessConstraint(Completeness(ipaddr))</td><td>SUCCESS</td><td>1.0</td><td>36</td><td>2024-04-10T03:41:49.469+0000</td></tr><tr><td>Basic Check 2</td><td>CompletenessConstraint(Completeness(ipaddr))</td><td>SUCCESS</td><td>1.0</td><td>48</td><td>2024-04-10T03:42:52.082+0000</td></tr><tr><td>Basic Check 2</td><td>CompletenessConstraint(Completeness(ipaddr))</td><td>SUCCESS</td><td>1.0</td><td>50</td><td>2024-04-10T03:43:02.032+0000</td></tr><tr><td>Basic Check 2</td><td>CompletenessConstraint(Completeness(ipaddr))</td><td>SUCCESS</td><td>1.0</td><td>0</td><td>2024-04-10T03:38:22.642+0000</td></tr><tr><td>Basic Check 2</td><td>CompletenessConstraint(Completeness(ipaddr))</td><td>SUCCESS</td><td>1.0</td><td>27</td><td>2024-04-10T03:41:01.120+0000</td></tr><tr><td>Basic Check 2</td><td>CompletenessConstraint(Completeness(ipaddr))</td><td>FAILURE</td><td>0.85</td><td>6</td><td>2024-04-10T03:39:02.871+0000</td></tr><tr><td>Basic Check 2</td><td>CompletenessConstraint(Completeness(ipaddr))</td><td>FAILURE</td><td>0.95</td><td>3</td><td>2024-04-10T03:38:42.332+0000</td></tr><tr><td>Basic Check 2</td><td>CompletenessConstraint(Completeness(ipaddr))</td><td>FAILURE</td><td>0.95</td><td>31</td><td>2024-04-10T03:41:23.243+0000</td></tr><tr><td>Basic Check 2</td><td>CompletenessConstraint(Completeness(ipaddr))</td><td>FAILURE</td><td>0.95</td><td>28</td><td>2024-04-10T03:41:05.972+0000</td></tr><tr><td>Basic Check 2</td><td>CompletenessConstraint(Completeness(ipaddr))</td><td>FAILURE</td><td>0.85</td><td>37</td><td>2024-04-10T03:41:54.540+0000</td></tr><tr><td>Basic Check 2</td><td>CompletenessConstraint(Completeness(ipaddr))</td><td>FAILURE</td><td>0.9</td><td>2</td><td>2024-04-10T03:38:36.814+0000</td></tr><tr><td>Basic Check 2</td><td>CompletenessConstraint(Completeness(ipaddr))</td><td>FAILURE</td><td>0.95</td><td>16</td><td>2024-04-10T03:40:00.720+0000</td></tr><tr><td>Basic Check 2</td><td>CompletenessConstraint(Completeness(price))</td><td>SUCCESS</td><td>1.0</td><td>5</td><td>2024-04-10T03:38:56.963+0000</td></tr><tr><td>Basic Check 2</td><td>DistinctnessConstraint(Distinctness(symbol))</td><td>SUCCESS</td><td>1.0</td><td>5</td><td>2024-04-10T03:38:56.963+0000</td></tr><tr><td>Basic Check 2</td><td>CompletenessConstraint(Completeness(price))</td><td>SUCCESS</td><td>1.0</td><td>39</td><td>2024-04-10T03:42:04.735+0000</td></tr><tr><td>Basic Check 2</td><td>DistinctnessConstraint(Distinctness(symbol))</td><td>SUCCESS</td><td>1.0</td><td>39</td><td>2024-04-10T03:42:04.735+0000</td></tr><tr><td>Basic Check 2</td><td>CompletenessConstraint(Completeness(price))</td><td>SUCCESS</td><td>1.0</td><td>46</td><td>2024-04-10T03:42:41.989+0000</td></tr><tr><td>Basic Check 2</td><td>DistinctnessConstraint(Distinctness(symbol))</td><td>SUCCESS</td><td>1.0</td><td>46</td><td>2024-04-10T03:42:41.989+0000</td></tr><tr><td>Basic Check 2</td><td>CompletenessConstraint(Completeness(price))</td><td>SUCCESS</td><td>1.0</td><td>49</td><td>2024-04-10T03:42:57.855+0000</td></tr><tr><td>Basic Check 2</td><td>DistinctnessConstraint(Distinctness(symbol))</td><td>SUCCESS</td><td>1.0</td><td>49</td><td>2024-04-10T03:42:57.855+0000</td></tr><tr><td>Basic Check 2</td><td>CompletenessConstraint(Completeness(price))</td><td>SUCCESS</td><td>1.0</td><td>50</td><td>2024-04-10T03:43:02.032+0000</td></tr><tr><td>Basic Check 2</td><td>DistinctnessConstraint(Distinctness(symbol))</td><td>SUCCESS</td><td>1.0</td><td>50</td><td>2024-04-10T03:43:02.032+0000</td></tr><tr><td>Basic Check 2</td><td>CompletenessConstraint(Completeness(price))</td><td>SUCCESS</td><td>1.0</td><td>29</td><td>2024-04-10T03:41:11.565+0000</td></tr><tr><td>Basic Check 2</td><td>DistinctnessConstraint(Distinctness(symbol))</td><td>SUCCESS</td><td>1.0</td><td>29</td><td>2024-04-10T03:41:11.565+0000</td></tr><tr><td>Basic Check 2</td><td>CompletenessConstraint(Completeness(price))</td><td>SUCCESS</td><td>1.0</td><td>26</td><td>2024-04-10T03:40:55.924+0000</td></tr><tr><td>Basic Check 2</td><td>DistinctnessConstraint(Distinctness(symbol))</td><td>SUCCESS</td><td>1.0</td><td>26</td><td>2024-04-10T03:40:55.924+0000</td></tr><tr><td>Basic Check 2</td><td>CompletenessConstraint(Completeness(price))</td><td>SUCCESS</td><td>1.0</td><td>0</td><td>2024-04-10T03:38:22.642+0000</td></tr><tr><td>Basic Check 2</td><td>DistinctnessConstraint(Distinctness(symbol))</td><td>SUCCESS</td><td>1.0</td><td>0</td><td>2024-04-10T03:38:22.642+0000</td></tr><tr><td>Basic Check 2</td><td>CompletenessConstraint(Completeness(price))</td><td>SUCCESS</td><td>1.0</td><td>19</td><td>2024-04-10T03:40:17.402+0000</td></tr><tr><td>Basic Check 2</td><td>DistinctnessConstraint(Distinctness(symbol))</td><td>SUCCESS</td><td>1.0</td><td>19</td><td>2024-04-10T03:40:17.402+0000</td></tr><tr><td>Basic Check 2</td><td>CompletenessConstraint(Completeness(price))</td><td>SUCCESS</td><td>1.0</td><td>37</td><td>2024-04-10T03:41:54.540+0000</td></tr><tr><td>Basic Check 2</td><td>DistinctnessConstraint(Distinctness(symbol))</td><td>SUCCESS</td><td>1.0</td><td>37</td><td>2024-04-10T03:41:54.540+0000</td></tr><tr><td>Basic Check 2</td><td>CompletenessConstraint(Completeness(price))</td><td>SUCCESS</td><td>1.0</td><td>28</td><td>2024-04-10T03:41:05.972+0000</td></tr><tr><td>Basic Check 2</td><td>DistinctnessConstraint(Distinctness(symbol))</td><td>SUCCESS</td><td>1.0</td><td>28</td><td>2024-04-10T03:41:05.972+0000</td></tr><tr><td>Basic Check 2</td><td>CompletenessConstraint(Completeness(price))</td><td>SUCCESS</td><td>1.0</td><td>6</td><td>2024-04-10T03:39:02.871+0000</td></tr><tr><td>Basic Check 2</td><td>DistinctnessConstraint(Distinctness(symbol))</td><td>SUCCESS</td><td>1.0</td><td>6</td><td>2024-04-10T03:39:02.871+0000</td></tr><tr><td>Basic Check 2</td><td>CompletenessConstraint(Completeness(price))</td><td>SUCCESS</td><td>1.0</td><td>18</td><td>2024-04-10T03:40:12.118+0000</td></tr><tr><td>Basic Check 2</td><td>DistinctnessConstraint(Distinctness(symbol))</td><td>SUCCESS</td><td>1.0</td><td>18</td><td>2024-04-10T03:40:12.118+0000</td></tr><tr><td>Basic Check 2</td><td>CompletenessConstraint(Completeness(price))</td><td>SUCCESS</td><td>1.0</td><td>43</td><td>2024-04-10T03:42:25.946+0000</td></tr><tr><td>Basic Check 2</td><td>DistinctnessConstraint(Distinctness(symbol))</td><td>SUCCESS</td><td>1.0</td><td>43</td><td>2024-04-10T03:42:25.946+0000</td></tr><tr><td>Basic Check 2</td><td>CompletenessConstraint(Completeness(price))</td><td>SUCCESS</td><td>1.0</td><td>20</td><td>2024-04-10T03:40:23.525+0000</td></tr><tr><td>Basic Check 2</td><td>DistinctnessConstraint(Distinctness(symbol))</td><td>SUCCESS</td><td>1.0</td><td>20</td><td>2024-04-10T03:40:23.525+0000</td></tr><tr><td>Basic Check 2</td><td>CompletenessConstraint(Completeness(price))</td><td>SUCCESS</td><td>1.0</td><td>13</td><td>2024-04-10T03:39:44.192+0000</td></tr><tr><td>Basic Check 2</td><td>DistinctnessConstraint(Distinctness(symbol))</td><td>SUCCESS</td><td>1.0</td><td>13</td><td>2024-04-10T03:39:44.192+0000</td></tr><tr><td>Basic Check 2</td><td>CompletenessConstraint(Completeness(price))</td><td>SUCCESS</td><td>1.0</td><td>7</td><td>2024-04-10T03:39:09.402+0000</td></tr><tr><td>Basic Check 2</td><td>DistinctnessConstraint(Distinctness(symbol))</td><td>SUCCESS</td><td>1.0</td><td>7</td><td>2024-04-10T03:39:09.402+0000</td></tr><tr><td>Basic Check 2</td><td>CompletenessConstraint(Completeness(price))</td><td>SUCCESS</td><td>1.0</td><td>33</td><td>2024-04-10T03:41:33.742+0000</td></tr><tr><td>Basic Check 2</td><td>DistinctnessConstraint(Distinctness(symbol))</td><td>SUCCESS</td><td>1.0</td><td>33</td><td>2024-04-10T03:41:33.742+0000</td></tr><tr><td>Basic Check 2</td><td>CompletenessConstraint(Completeness(price))</td><td>SUCCESS</td><td>1.0</td><td>24</td><td>2024-04-10T03:40:45.331+0000</td></tr><tr><td>Basic Check 2</td><td>DistinctnessConstraint(Distinctness(symbol))</td><td>SUCCESS</td><td>1.0</td><td>24</td><td>2024-04-10T03:40:45.331+0000</td></tr><tr><td>Basic Check 2</td><td>CompletenessConstraint(Completeness(price))</td><td>SUCCESS</td><td>1.0</td><td>40</td><td>2024-04-10T03:42:10.594+0000</td></tr><tr><td>Basic Check 2</td><td>DistinctnessConstraint(Distinctness(symbol))</td><td>SUCCESS</td><td>1.0</td><td>40</td><td>2024-04-10T03:42:10.594+0000</td></tr><tr><td>Basic Check 2</td><td>CompletenessConstraint(Completeness(price))</td><td>SUCCESS</td><td>1.0</td><td>14</td><td>2024-04-10T03:39:49.390+0000</td></tr><tr><td>Basic Check 2</td><td>DistinctnessConstraint(Distinctness(symbol))</td><td>SUCCESS</td><td>1.0</td><td>14</td><td>2024-04-10T03:39:49.390+0000</td></tr><tr><td>Basic Check 2</td><td>CompletenessConstraint(Completeness(price))</td><td>SUCCESS</td><td>1.0</td><td>42</td><td>2024-04-10T03:42:21.335+0000</td></tr><tr><td>Basic Check 2</td><td>DistinctnessConstraint(Distinctness(symbol))</td><td>SUCCESS</td><td>1.0</td><td>42</td><td>2024-04-10T03:42:21.335+0000</td></tr><tr><td>Basic Check 2</td><td>CompletenessConstraint(Completeness(price))</td><td>SUCCESS</td><td>1.0</td><td>10</td><td>2024-04-10T03:39:26.263+0000</td></tr><tr><td>Basic Check 2</td><td>DistinctnessConstraint(Distinctness(symbol))</td><td>SUCCESS</td><td>1.0</td><td>10</td><td>2024-04-10T03:39:26.263+0000</td></tr><tr><td>Basic Check 2</td><td>CompletenessConstraint(Completeness(price))</td><td>SUCCESS</td><td>1.0</td><td>17</td><td>2024-04-10T03:40:06.479+0000</td></tr><tr><td>Basic Check 2</td><td>DistinctnessConstraint(Distinctness(symbol))</td><td>SUCCESS</td><td>1.0</td><td>17</td><td>2024-04-10T03:40:06.479+0000</td></tr><tr><td>Basic Check 2</td><td>CompletenessConstraint(Completeness(price))</td><td>SUCCESS</td><td>1.0</td><td>30</td><td>2024-04-10T03:41:17.828+0000</td></tr><tr><td>Basic Check 2</td><td>DistinctnessConstraint(Distinctness(symbol))</td><td>SUCCESS</td><td>1.0</td><td>30</td><td>2024-04-10T03:41:17.828+0000</td></tr><tr><td>Basic Check 2</td><td>CompletenessConstraint(Completeness(price))</td><td>SUCCESS</td><td>1.0</td><td>23</td><td>2024-04-10T03:40:39.646+0000</td></tr><tr><td>Basic Check 2</td><td>DistinctnessConstraint(Distinctness(symbol))</td><td>SUCCESS</td><td>1.0</td><td>23</td><td>2024-04-10T03:40:39.646+0000</td></tr><tr><td>Basic Check 2</td><td>CompletenessConstraint(Completeness(price))</td><td>SUCCESS</td><td>1.0</td><td>45</td><td>2024-04-10T03:42:36.421+0000</td></tr><tr><td>Basic Check 2</td><td>DistinctnessConstraint(Distinctness(symbol))</td><td>SUCCESS</td><td>1.0</td><td>45</td><td>2024-04-10T03:42:36.421+0000</td></tr><tr><td>Basic Check 2</td><td>CompletenessConstraint(Completeness(price))</td><td>SUCCESS</td><td>1.0</td><td>34</td><td>2024-04-10T03:41:38.765+0000</td></tr><tr><td>Basic Check 2</td><td>DistinctnessConstraint(Distinctness(symbol))</td><td>SUCCESS</td><td>1.0</td><td>34</td><td>2024-04-10T03:41:38.765+0000</td></tr><tr><td>Basic Check 2</td><td>CompletenessConstraint(Completeness(price))</td><td>SUCCESS</td><td>1.0</td><td>32</td><td>2024-04-10T03:41:28.495+0000</td></tr><tr><td>Basic Check 2</td><td>DistinctnessConstraint(Distinctness(symbol))</td><td>SUCCESS</td><td>1.0</td><td>32</td><td>2024-04-10T03:41:28.495+0000</td></tr><tr><td>Basic Check 2</td><td>CompletenessConstraint(Completeness(price))</td><td>SUCCESS</td><td>1.0</td><td>4</td><td>2024-04-10T03:38:49.408+0000</td></tr><tr><td>Basic Check 2</td><td>DistinctnessConstraint(Distinctness(symbol))</td><td>SUCCESS</td><td>1.0</td><td>4</td><td>2024-04-10T03:38:49.408+0000</td></tr><tr><td>Basic Check 2</td><td>CompletenessConstraint(Completeness(price))</td><td>SUCCESS</td><td>1.0</td><td>2</td><td>2024-04-10T03:38:36.814+0000</td></tr><tr><td>Basic Check 2</td><td>DistinctnessConstraint(Distinctness(symbol))</td><td>SUCCESS</td><td>1.0</td><td>2</td><td>2024-04-10T03:38:36.814+0000</td></tr><tr><td>Basic Check 2</td><td>CompletenessConstraint(Completeness(ipaddr))</td><td>FAILURE</td><td>0.95</td><td>15</td><td>2024-04-10T03:39:55.477+0000</td></tr><tr><td>Basic Check 2</td><td>CompletenessConstraint(Completeness(ipaddr))</td><td>SUCCESS</td><td>1.0</td><td>40</td><td>2024-04-10T03:42:10.594+0000</td></tr><tr><td>Basic Check 2</td><td>CompletenessConstraint(Completeness(ipaddr))</td><td>FAILURE</td><td>0.85</td><td>8</td><td>2024-04-10T03:39:15.470+0000</td></tr><tr><td>Basic Check 2</td><td>CompletenessConstraint(Completeness(ipaddr))</td><td>FAILURE</td><td>0.95</td><td>29</td><td>2024-04-10T03:41:11.565+0000</td></tr><tr><td>Basic Check 2</td><td>CompletenessConstraint(Completeness(ipaddr))</td><td>SUCCESS</td><td>1.0</td><td>19</td><td>2024-04-10T03:40:17.402+0000</td></tr><tr><td>Basic Check 2</td><td>CompletenessConstraint(Completeness(ipaddr))</td><td>FAILURE</td><td>0.95</td><td>14</td><td>2024-04-10T03:39:49.390+0000</td></tr><tr><td>Basic Check 2</td><td>CompletenessConstraint(Completeness(ipaddr))</td><td>SUCCESS</td><td>1.0</td><td>7</td><td>2024-04-10T03:39:09.402+0000</td></tr><tr><td>Basic Check 2</td><td>CompletenessConstraint(Completeness(ipaddr))</td><td>FAILURE</td><td>0.95</td><td>38</td><td>2024-04-10T03:41:59.988+0000</td></tr><tr><td>Basic Check 2</td><td>CompletenessConstraint(Completeness(ipaddr))</td><td>FAILURE</td><td>0.95</td><td>45</td><td>2024-04-10T03:42:36.421+0000</td></tr><tr><td>Basic Check 2</td><td>CompletenessConstraint(Completeness(ipaddr))</td><td>FAILURE</td><td>0.85</td><td>49</td><td>2024-04-10T03:42:57.855+0000</td></tr><tr><td>Basic Check 2</td><td>CompletenessConstraint(Completeness(ipaddr))</td><td>SUCCESS</td><td>1.0</td><td>33</td><td>2024-04-10T03:41:33.742+0000</td></tr><tr><td>Basic Check 2</td><td>CompletenessConstraint(Completeness(ipaddr))</td><td>SUCCESS</td><td>1.0</td><td>44</td><td>2024-04-10T03:42:31.217+0000</td></tr><tr><td>Basic Check 2</td><td>CompletenessConstraint(Completeness(ipaddr))</td><td>SUCCESS</td><td>1.0</td><td>47</td><td>2024-04-10T03:42:47.227+0000</td></tr><tr><td>Basic Check 2</td><td>CompletenessConstraint(Completeness(ipaddr))</td><td>FAILURE</td><td>0.95</td><td>35</td><td>2024-04-10T03:41:44.319+0000</td></tr><tr><td>Basic Check 2</td><td>CompletenessConstraint(Completeness(ipaddr))</td><td>FAILURE</td><td>0.95</td><td>4</td><td>2024-04-10T03:38:49.408+0000</td></tr><tr><td>Basic Check 2</td><td>CompletenessConstraint(Completeness(ipaddr))</td><td>FAILURE</td><td>0.95</td><td>32</td><td>2024-04-10T03:41:28.495+0000</td></tr><tr><td>Basic Check 2</td><td>CompletenessConstraint(Completeness(ipaddr))</td><td>SUCCESS</td><td>1.0</td><td>42</td><td>2024-04-10T03:42:21.335+0000</td></tr><tr><td>Basic Check 2</td><td>CompletenessConstraint(Completeness(ipaddr))</td><td>FAILURE</td><td>0.9</td><td>10</td><td>2024-04-10T03:39:26.263+0000</td></tr><tr><td>Basic Check 2</td><td>CompletenessConstraint(Completeness(ipaddr))</td><td>SUCCESS</td><td>1.0</td><td>23</td><td>2024-04-10T03:40:39.646+0000</td></tr><tr><td>Basic Check 2</td><td>CompletenessConstraint(Completeness(ipaddr))</td><td>FAILURE</td><td>0.9</td><td>20</td><td>2024-04-10T03:40:23.525+0000</td></tr><tr><td>Basic Check 2</td><td>CompletenessConstraint(Completeness(ipaddr))</td><td>SUCCESS</td><td>1.0</td><td>9</td><td>2024-04-10T03:39:20.633+0000</td></tr><tr><td>Basic Check 2</td><td>CompletenessConstraint(Completeness(ipaddr))</td><td>FAILURE</td><td>0.9</td><td>11</td><td>2024-04-10T03:39:32.650+0000</td></tr><tr><td>Basic Check 2</td><td>CompletenessConstraint(Completeness(ipaddr))</td><td>SUCCESS</td><td>1.0</td><td>30</td><td>2024-04-10T03:41:17.828+0000</td></tr><tr><td>Basic Check 2</td><td>CompletenessConstraint(Completeness(ipaddr))</td><td>SUCCESS</td><td>1.0</td><td>22</td><td>2024-04-10T03:40:34.433+0000</td></tr><tr><td>Basic Check 2</td><td>CompletenessConstraint(Completeness(price))</td><td>FAILURE</td><td>0.9666666666666667</td><td>41</td><td>2024-04-10T03:42:16.949+0000</td></tr><tr><td>Basic Check 2</td><td>DistinctnessConstraint(Distinctness(symbol))</td><td>SUCCESS</td><td>1.0</td><td>41</td><td>2024-04-10T03:42:16.949+0000</td></tr><tr><td>Basic Check 2</td><td>CompletenessConstraint(Completeness(price))</td><td>FAILURE</td><td>0.9666666666666667</td><td>21</td><td>2024-04-10T03:40:29.948+0000</td></tr><tr><td>Basic Check 2</td><td>DistinctnessConstraint(Distinctness(symbol))</td><td>SUCCESS</td><td>1.0</td><td>21</td><td>2024-04-10T03:40:29.948+0000</td></tr><tr><td>Basic Check 2</td><td>CompletenessConstraint(Completeness(price))</td><td>FAILURE</td><td>0.9333333333333333</td><td>1</td><td>2024-04-10T03:38:31.231+0000</td></tr><tr><td>Basic Check 2</td><td>DistinctnessConstraint(Distinctness(symbol))</td><td>SUCCESS</td><td>1.0</td><td>1</td><td>2024-04-10T03:38:31.231+0000</td></tr><tr><td>Basic Check 2</td><td>CompletenessConstraint(Completeness(price))</td><td>FAILURE</td><td>0.95</td><td>15</td><td>2024-04-10T03:39:55.477+0000</td></tr><tr><td>Basic Check 2</td><td>DistinctnessConstraint(Distinctness(symbol))</td><td>SUCCESS</td><td>1.0</td><td>15</td><td>2024-04-10T03:39:55.477+0000</td></tr><tr><td>Basic Check 2</td><td>CompletenessConstraint(Completeness(price))</td><td>FAILURE</td><td>0.95</td><td>3</td><td>2024-04-10T03:38:42.332+0000</td></tr><tr><td>Basic Check 2</td><td>DistinctnessConstraint(Distinctness(symbol))</td><td>SUCCESS</td><td>1.0</td><td>3</td><td>2024-04-10T03:38:42.332+0000</td></tr><tr><td>Basic Check 2</td><td>CompletenessConstraint(Completeness(price))</td><td>FAILURE</td><td>0.95</td><td>27</td><td>2024-04-10T03:41:01.120+0000</td></tr><tr><td>Basic Check 2</td><td>DistinctnessConstraint(Distinctness(symbol))</td><td>SUCCESS</td><td>1.0</td><td>27</td><td>2024-04-10T03:41:01.120+0000</td></tr><tr><td>Basic Check 2</td><td>CompletenessConstraint(Completeness(price))</td><td>FAILURE</td><td>0.95</td><td>38</td><td>2024-04-10T03:41:59.988+0000</td></tr><tr><td>Basic Check 2</td><td>DistinctnessConstraint(Distinctness(symbol))</td><td>SUCCESS</td><td>1.0</td><td>38</td><td>2024-04-10T03:41:59.988+0000</td></tr><tr><td>Basic Check 2</td><td>CompletenessConstraint(Completeness(price))</td><td>FAILURE</td><td>0.95</td><td>11</td><td>2024-04-10T03:39:32.650+0000</td></tr><tr><td>Basic Check 2</td><td>DistinctnessConstraint(Distinctness(symbol))</td><td>SUCCESS</td><td>1.0</td><td>11</td><td>2024-04-10T03:39:32.650+0000</td></tr><tr><td>Basic Check 2</td><td>CompletenessConstraint(Completeness(price))</td><td>FAILURE</td><td>0.95</td><td>36</td><td>2024-04-10T03:41:49.469+0000</td></tr><tr><td>Basic Check 2</td><td>DistinctnessConstraint(Distinctness(symbol))</td><td>SUCCESS</td><td>1.0</td><td>36</td><td>2024-04-10T03:41:49.469+0000</td></tr><tr><td>Basic Check 2</td><td>CompletenessConstraint(Completeness(price))</td><td>FAILURE</td><td>0.95</td><td>12</td><td>2024-04-10T03:39:38.855+0000</td></tr><tr><td>Basic Check 2</td><td>DistinctnessConstraint(Distinctness(symbol))</td><td>SUCCESS</td><td>1.0</td><td>12</td><td>2024-04-10T03:39:38.855+0000</td></tr><tr><td>Basic Check 2</td><td>CompletenessConstraint(Completeness(price))</td><td>FAILURE</td><td>0.95</td><td>25</td><td>2024-04-10T03:40:50.290+0000</td></tr><tr><td>Basic Check 2</td><td>DistinctnessConstraint(Distinctness(symbol))</td><td>SUCCESS</td><td>1.0</td><td>25</td><td>2024-04-10T03:40:50.290+0000</td></tr><tr><td>Basic Check 2</td><td>CompletenessConstraint(Completeness(price))</td><td>FAILURE</td><td>0.95</td><td>31</td><td>2024-04-10T03:41:23.243+0000</td></tr><tr><td>Basic Check 2</td><td>DistinctnessConstraint(Distinctness(symbol))</td><td>SUCCESS</td><td>1.0</td><td>31</td><td>2024-04-10T03:41:23.243+0000</td></tr><tr><td>Basic Check 2</td><td>CompletenessConstraint(Completeness(price))</td><td>SUCCESS</td><td>1.0</td><td>44</td><td>2024-04-10T03:42:31.217+0000</td></tr><tr><td>Basic Check 2</td><td>DistinctnessConstraint(Distinctness(symbol))</td><td>FAILURE</td><td>0.95</td><td>44</td><td>2024-04-10T03:42:31.217+0000</td></tr><tr><td>Basic Check 2</td><td>CompletenessConstraint(Completeness(price))</td><td>FAILURE</td><td>0.95</td><td>48</td><td>2024-04-10T03:42:52.082+0000</td></tr><tr><td>Basic Check 2</td><td>DistinctnessConstraint(Distinctness(symbol))</td><td>SUCCESS</td><td>1.0</td><td>48</td><td>2024-04-10T03:42:52.082+0000</td></tr><tr><td>Basic Check 2</td><td>CompletenessConstraint(Completeness(price))</td><td>FAILURE</td><td>0.95</td><td>8</td><td>2024-04-10T03:39:15.470+0000</td></tr><tr><td>Basic Check 2</td><td>DistinctnessConstraint(Distinctness(symbol))</td><td>SUCCESS</td><td>1.0</td><td>8</td><td>2024-04-10T03:39:15.470+0000</td></tr><tr><td>Basic Check 2</td><td>CompletenessConstraint(Completeness(price))</td><td>FAILURE</td><td>0.8</td><td>9</td><td>2024-04-10T03:39:20.633+0000</td></tr><tr><td>Basic Check 2</td><td>DistinctnessConstraint(Distinctness(symbol))</td><td>SUCCESS</td><td>1.0</td><td>9</td><td>2024-04-10T03:39:20.633+0000</td></tr><tr><td>Basic Check 2</td><td>CompletenessConstraint(Completeness(price))</td><td>FAILURE</td><td>0.9</td><td>47</td><td>2024-04-10T03:42:47.227+0000</td></tr><tr><td>Basic Check 2</td><td>DistinctnessConstraint(Distinctness(symbol))</td><td>SUCCESS</td><td>1.0</td><td>47</td><td>2024-04-10T03:42:47.227+0000</td></tr><tr><td>Basic Check 2</td><td>CompletenessConstraint(Completeness(price))</td><td>FAILURE</td><td>0.9</td><td>35</td><td>2024-04-10T03:41:44.319+0000</td></tr><tr><td>Basic Check 2</td><td>DistinctnessConstraint(Distinctness(symbol))</td><td>SUCCESS</td><td>1.0</td><td>35</td><td>2024-04-10T03:41:44.319+0000</td></tr><tr><td>Basic Check 2</td><td>CompletenessConstraint(Completeness(price))</td><td>FAILURE</td><td>0.9</td><td>22</td><td>2024-04-10T03:40:34.433+0000</td></tr><tr><td>Basic Check 2</td><td>DistinctnessConstraint(Distinctness(symbol))</td><td>SUCCESS</td><td>1.0</td><td>22</td><td>2024-04-10T03:40:34.433+0000</td></tr><tr><td>Basic Check 2</td><td>CompletenessConstraint(Completeness(price))</td><td>FAILURE</td><td>0.9</td><td>16</td><td>2024-04-10T03:40:00.720+0000</td></tr><tr><td>Basic Check 2</td><td>DistinctnessConstraint(Distinctness(symbol))</td><td>SUCCESS</td><td>1.0</td><td>16</td><td>2024-04-10T03:40:00.720+0000</td></tr></tbody></table></div>"
      ]
     },
     "metadata": {
      "application/vnd.databricks.v1+output": {
       "addedWidgets": {},
       "aggData": [],
       "aggError": "",
       "aggOverflow": false,
       "aggSchema": [],
       "aggSeriesLimitReached": false,
       "aggType": "",
       "arguments": {},
       "columnCustomDisplayInfos": {},
       "data": [
        [
         "Basic Check 2",
         "CompletenessConstraint(Completeness(quantity))",
         "FAILURE",
         0.9333333333333333,
         41,
         "2024-04-10T03:42:16.949+0000"
        ],
        [
         "Basic Check 2",
         "CompletenessConstraint(Completeness(quantity))",
         "FAILURE",
         0.9666666666666667,
         1,
         "2024-04-10T03:38:31.231+0000"
        ],
        [
         "Basic Check 2",
         "CompletenessConstraint(Completeness(ipaddr))",
         "FAILURE",
         0.9333333333333333,
         1,
         "2024-04-10T03:38:31.231+0000"
        ],
        [
         "Basic Check 2",
         "CompletenessConstraint(Completeness(ipaddr))",
         "FAILURE",
         0.9333333333333333,
         21,
         "2024-04-10T03:40:29.948+0000"
        ],
        [
         "Basic Check 2",
         "CompletenessConstraint(Completeness(ipaddr))",
         "FAILURE",
         0.9666666666666667,
         41,
         "2024-04-10T03:42:16.949+0000"
        ],
        [
         "Basic Check 2",
         "CompletenessConstraint(Completeness(quantity))",
         "FAILURE",
         0.95,
         13,
         "2024-04-10T03:39:44.192+0000"
        ],
        [
         "Basic Check 2",
         "CompletenessConstraint(Completeness(quantity))",
         "FAILURE",
         0.95,
         48,
         "2024-04-10T03:42:52.082+0000"
        ],
        [
         "Basic Check 2",
         "CompletenessConstraint(Completeness(quantity))",
         "FAILURE",
         0.95,
         34,
         "2024-04-10T03:41:38.765+0000"
        ],
        [
         "Basic Check 2",
         "CompletenessConstraint(Completeness(quantity))",
         "FAILURE",
         0.95,
         19,
         "2024-04-10T03:40:17.402+0000"
        ],
        [
         "Basic Check 2",
         "CompletenessConstraint(Completeness(quantity))",
         "FAILURE",
         0.95,
         29,
         "2024-04-10T03:41:11.565+0000"
        ],
        [
         "Basic Check 2",
         "CompletenessConstraint(Completeness(quantity))",
         "FAILURE",
         0.95,
         27,
         "2024-04-10T03:41:01.120+0000"
        ],
        [
         "Basic Check 2",
         "CompletenessConstraint(Completeness(quantity))",
         "FAILURE",
         0.95,
         40,
         "2024-04-10T03:42:10.594+0000"
        ],
        [
         "Basic Check 2",
         "CompletenessConstraint(Completeness(quantity))",
         "FAILURE",
         0.95,
         5,
         "2024-04-10T03:38:56.963+0000"
        ],
        [
         "Basic Check 2",
         "CompletenessConstraint(Completeness(quantity))",
         "FAILURE",
         0.85,
         3,
         "2024-04-10T03:38:42.332+0000"
        ],
        [
         "Basic Check 2",
         "CompletenessConstraint(Completeness(quantity))",
         "FAILURE",
         0.95,
         36,
         "2024-04-10T03:41:49.469+0000"
        ],
        [
         "Basic Check 2",
         "CompletenessConstraint(Completeness(quantity))",
         "FAILURE",
         0.95,
         7,
         "2024-04-10T03:39:09.402+0000"
        ],
        [
         "Basic Check 2",
         "CompletenessConstraint(Completeness(quantity))",
         "FAILURE",
         0.95,
         25,
         "2024-04-10T03:40:50.290+0000"
        ],
        [
         "Basic Check 2",
         "CompletenessConstraint(Completeness(quantity))",
         "FAILURE",
         0.95,
         45,
         "2024-04-10T03:42:36.421+0000"
        ],
        [
         "Basic Check 2",
         "CompletenessConstraint(Completeness(quantity))",
         "FAILURE",
         0.95,
         17,
         "2024-04-10T03:40:06.479+0000"
        ],
        [
         "Basic Check 2",
         "CompletenessConstraint(Completeness(quantity))",
         "FAILURE",
         0.95,
         23,
         "2024-04-10T03:40:39.646+0000"
        ],
        [
         "Basic Check 2",
         "CompletenessConstraint(Completeness(ipaddr))",
         "FAILURE",
         0.95,
         24,
         "2024-04-10T03:40:45.331+0000"
        ],
        [
         "Basic Check 2",
         "CompletenessConstraint(Completeness(ipaddr))",
         "FAILURE",
         0.95,
         17,
         "2024-04-10T03:40:06.479+0000"
        ],
        [
         "Basic Check 2",
         "CompletenessConstraint(Completeness(ipaddr))",
         "FAILURE",
         0.95,
         12,
         "2024-04-10T03:39:38.855+0000"
        ],
        [
         "Basic Check 2",
         "CompletenessConstraint(Completeness(ipaddr))",
         "FAILURE",
         0.95,
         5,
         "2024-04-10T03:38:56.963+0000"
        ],
        [
         "Basic Check 2",
         "CompletenessConstraint(Completeness(ipaddr))",
         "FAILURE",
         0.95,
         18,
         "2024-04-10T03:40:12.118+0000"
        ],
        [
         "Basic Check 2",
         "CompletenessConstraint(Completeness(ipaddr))",
         "FAILURE",
         0.95,
         43,
         "2024-04-10T03:42:25.946+0000"
        ],
        [
         "Basic Check 2",
         "CompletenessConstraint(Completeness(ipaddr))",
         "FAILURE",
         0.95,
         26,
         "2024-04-10T03:40:55.924+0000"
        ],
        [
         "Basic Check 2",
         "CompletenessConstraint(Completeness(ipaddr))",
         "FAILURE",
         0.95,
         13,
         "2024-04-10T03:39:44.192+0000"
        ],
        [
         "Basic Check 2",
         "CompletenessConstraint(Completeness(ipaddr))",
         "FAILURE",
         0.95,
         46,
         "2024-04-10T03:42:41.989+0000"
        ],
        [
         "Basic Check 2",
         "CompletenessConstraint(Completeness(quantity))",
         "SUCCESS",
         1,
         8,
         "2024-04-10T03:39:15.470+0000"
        ],
        [
         "Basic Check 2",
         "CompletenessConstraint(Completeness(quantity))",
         "SUCCESS",
         1,
         39,
         "2024-04-10T03:42:04.735+0000"
        ],
        [
         "Basic Check 2",
         "CompletenessConstraint(Completeness(quantity))",
         "SUCCESS",
         1,
         35,
         "2024-04-10T03:41:44.319+0000"
        ],
        [
         "Basic Check 2",
         "CompletenessConstraint(Completeness(quantity))",
         "SUCCESS",
         1,
         9,
         "2024-04-10T03:39:20.633+0000"
        ],
        [
         "Basic Check 2",
         "CompletenessConstraint(Completeness(quantity))",
         "SUCCESS",
         1,
         22,
         "2024-04-10T03:40:34.433+0000"
        ],
        [
         "Basic Check 2",
         "CompletenessConstraint(Completeness(quantity))",
         "SUCCESS",
         1,
         50,
         "2024-04-10T03:43:02.032+0000"
        ],
        [
         "Basic Check 2",
         "CompletenessConstraint(Completeness(quantity))",
         "SUCCESS",
         1,
         28,
         "2024-04-10T03:41:05.972+0000"
        ],
        [
         "Basic Check 2",
         "CompletenessConstraint(Completeness(quantity))",
         "SUCCESS",
         1,
         46,
         "2024-04-10T03:42:41.989+0000"
        ],
        [
         "Basic Check 2",
         "CompletenessConstraint(Completeness(quantity))",
         "SUCCESS",
         1,
         38,
         "2024-04-10T03:41:59.988+0000"
        ],
        [
         "Basic Check 2",
         "CompletenessConstraint(Completeness(quantity))",
         "SUCCESS",
         1,
         43,
         "2024-04-10T03:42:25.946+0000"
        ],
        [
         "Basic Check 2",
         "CompletenessConstraint(Completeness(ipaddr))",
         "FAILURE",
         0.95,
         34,
         "2024-04-10T03:41:38.765+0000"
        ],
        [
         "Basic Check 2",
         "CompletenessConstraint(Completeness(quantity))",
         "SUCCESS",
         1,
         31,
         "2024-04-10T03:41:23.243+0000"
        ],
        [
         "Basic Check 2",
         "CompletenessConstraint(Completeness(quantity))",
         "SUCCESS",
         1,
         49,
         "2024-04-10T03:42:57.855+0000"
        ],
        [
         "Basic Check 2",
         "CompletenessConstraint(Completeness(quantity))",
         "SUCCESS",
         1,
         21,
         "2024-04-10T03:40:29.948+0000"
        ],
        [
         "Basic Check 2",
         "CompletenessConstraint(Completeness(quantity))",
         "SUCCESS",
         1,
         18,
         "2024-04-10T03:40:12.118+0000"
        ],
        [
         "Basic Check 2",
         "CompletenessConstraint(Completeness(quantity))",
         "SUCCESS",
         1,
         20,
         "2024-04-10T03:40:23.525+0000"
        ],
        [
         "Basic Check 2",
         "CompletenessConstraint(Completeness(quantity))",
         "SUCCESS",
         1,
         6,
         "2024-04-10T03:39:02.871+0000"
        ],
        [
         "Basic Check 2",
         "CompletenessConstraint(Completeness(quantity))",
         "SUCCESS",
         1,
         14,
         "2024-04-10T03:39:49.390+0000"
        ],
        [
         "Basic Check 2",
         "CompletenessConstraint(Completeness(quantity))",
         "SUCCESS",
         1,
         37,
         "2024-04-10T03:41:54.540+0000"
        ],
        [
         "Basic Check 2",
         "CompletenessConstraint(Completeness(quantity))",
         "FAILURE",
         0.9,
         26,
         "2024-04-10T03:40:55.924+0000"
        ],
        [
         "Basic Check 2",
         "CompletenessConstraint(Completeness(quantity))",
         "FAILURE",
         0.9,
         47,
         "2024-04-10T03:42:47.227+0000"
        ],
        [
         "Basic Check 2",
         "CompletenessConstraint(Completeness(quantity))",
         "FAILURE",
         0.9,
         0,
         "2024-04-10T03:38:22.642+0000"
        ],
        [
         "Basic Check 2",
         "CompletenessConstraint(Completeness(quantity))",
         "FAILURE",
         0.9,
         2,
         "2024-04-10T03:38:36.814+0000"
        ],
        [
         "Basic Check 2",
         "CompletenessConstraint(Completeness(quantity))",
         "SUCCESS",
         1,
         4,
         "2024-04-10T03:38:49.408+0000"
        ],
        [
         "Basic Check 2",
         "CompletenessConstraint(Completeness(quantity))",
         "FAILURE",
         0.9,
         11,
         "2024-04-10T03:39:32.650+0000"
        ],
        [
         "Basic Check 2",
         "CompletenessConstraint(Completeness(quantity))",
         "FAILURE",
         0.9,
         33,
         "2024-04-10T03:41:33.742+0000"
        ],
        [
         "Basic Check 2",
         "CompletenessConstraint(Completeness(quantity))",
         "FAILURE",
         0.9,
         44,
         "2024-04-10T03:42:31.217+0000"
        ],
        [
         "Basic Check 2",
         "CompletenessConstraint(Completeness(quantity))",
         "FAILURE",
         0.9,
         15,
         "2024-04-10T03:39:55.477+0000"
        ],
        [
         "Basic Check 2",
         "CompletenessConstraint(Completeness(quantity))",
         "FAILURE",
         0.9,
         24,
         "2024-04-10T03:40:45.331+0000"
        ],
        [
         "Basic Check 2",
         "CompletenessConstraint(Completeness(quantity))",
         "SUCCESS",
         1,
         42,
         "2024-04-10T03:42:21.335+0000"
        ],
        [
         "Basic Check 2",
         "CompletenessConstraint(Completeness(quantity))",
         "FAILURE",
         0.8,
         12,
         "2024-04-10T03:39:38.855+0000"
        ],
        [
         "Basic Check 2",
         "CompletenessConstraint(Completeness(quantity))",
         "SUCCESS",
         1,
         32,
         "2024-04-10T03:41:28.495+0000"
        ],
        [
         "Basic Check 2",
         "CompletenessConstraint(Completeness(quantity))",
         "FAILURE",
         0.9,
         16,
         "2024-04-10T03:40:00.720+0000"
        ],
        [
         "Basic Check 2",
         "CompletenessConstraint(Completeness(quantity))",
         "FAILURE",
         0.9,
         10,
         "2024-04-10T03:39:26.263+0000"
        ],
        [
         "Basic Check 2",
         "CompletenessConstraint(Completeness(quantity))",
         "FAILURE",
         0.9,
         30,
         "2024-04-10T03:41:17.828+0000"
        ],
        [
         "Basic Check 2",
         "CompletenessConstraint(Completeness(ipaddr))",
         "SUCCESS",
         1,
         25,
         "2024-04-10T03:40:50.290+0000"
        ],
        [
         "Basic Check 2",
         "CompletenessConstraint(Completeness(ipaddr))",
         "SUCCESS",
         1,
         39,
         "2024-04-10T03:42:04.735+0000"
        ],
        [
         "Basic Check 2",
         "CompletenessConstraint(Completeness(ipaddr))",
         "SUCCESS",
         1,
         36,
         "2024-04-10T03:41:49.469+0000"
        ],
        [
         "Basic Check 2",
         "CompletenessConstraint(Completeness(ipaddr))",
         "SUCCESS",
         1,
         48,
         "2024-04-10T03:42:52.082+0000"
        ],
        [
         "Basic Check 2",
         "CompletenessConstraint(Completeness(ipaddr))",
         "SUCCESS",
         1,
         50,
         "2024-04-10T03:43:02.032+0000"
        ],
        [
         "Basic Check 2",
         "CompletenessConstraint(Completeness(ipaddr))",
         "SUCCESS",
         1,
         0,
         "2024-04-10T03:38:22.642+0000"
        ],
        [
         "Basic Check 2",
         "CompletenessConstraint(Completeness(ipaddr))",
         "SUCCESS",
         1,
         27,
         "2024-04-10T03:41:01.120+0000"
        ],
        [
         "Basic Check 2",
         "CompletenessConstraint(Completeness(ipaddr))",
         "FAILURE",
         0.85,
         6,
         "2024-04-10T03:39:02.871+0000"
        ],
        [
         "Basic Check 2",
         "CompletenessConstraint(Completeness(ipaddr))",
         "FAILURE",
         0.95,
         3,
         "2024-04-10T03:38:42.332+0000"
        ],
        [
         "Basic Check 2",
         "CompletenessConstraint(Completeness(ipaddr))",
         "FAILURE",
         0.95,
         31,
         "2024-04-10T03:41:23.243+0000"
        ],
        [
         "Basic Check 2",
         "CompletenessConstraint(Completeness(ipaddr))",
         "FAILURE",
         0.95,
         28,
         "2024-04-10T03:41:05.972+0000"
        ],
        [
         "Basic Check 2",
         "CompletenessConstraint(Completeness(ipaddr))",
         "FAILURE",
         0.85,
         37,
         "2024-04-10T03:41:54.540+0000"
        ],
        [
         "Basic Check 2",
         "CompletenessConstraint(Completeness(ipaddr))",
         "FAILURE",
         0.9,
         2,
         "2024-04-10T03:38:36.814+0000"
        ],
        [
         "Basic Check 2",
         "CompletenessConstraint(Completeness(ipaddr))",
         "FAILURE",
         0.95,
         16,
         "2024-04-10T03:40:00.720+0000"
        ],
        [
         "Basic Check 2",
         "CompletenessConstraint(Completeness(price))",
         "SUCCESS",
         1,
         5,
         "2024-04-10T03:38:56.963+0000"
        ],
        [
         "Basic Check 2",
         "DistinctnessConstraint(Distinctness(symbol))",
         "SUCCESS",
         1,
         5,
         "2024-04-10T03:38:56.963+0000"
        ],
        [
         "Basic Check 2",
         "CompletenessConstraint(Completeness(price))",
         "SUCCESS",
         1,
         39,
         "2024-04-10T03:42:04.735+0000"
        ],
        [
         "Basic Check 2",
         "DistinctnessConstraint(Distinctness(symbol))",
         "SUCCESS",
         1,
         39,
         "2024-04-10T03:42:04.735+0000"
        ],
        [
         "Basic Check 2",
         "CompletenessConstraint(Completeness(price))",
         "SUCCESS",
         1,
         46,
         "2024-04-10T03:42:41.989+0000"
        ],
        [
         "Basic Check 2",
         "DistinctnessConstraint(Distinctness(symbol))",
         "SUCCESS",
         1,
         46,
         "2024-04-10T03:42:41.989+0000"
        ],
        [
         "Basic Check 2",
         "CompletenessConstraint(Completeness(price))",
         "SUCCESS",
         1,
         49,
         "2024-04-10T03:42:57.855+0000"
        ],
        [
         "Basic Check 2",
         "DistinctnessConstraint(Distinctness(symbol))",
         "SUCCESS",
         1,
         49,
         "2024-04-10T03:42:57.855+0000"
        ],
        [
         "Basic Check 2",
         "CompletenessConstraint(Completeness(price))",
         "SUCCESS",
         1,
         50,
         "2024-04-10T03:43:02.032+0000"
        ],
        [
         "Basic Check 2",
         "DistinctnessConstraint(Distinctness(symbol))",
         "SUCCESS",
         1,
         50,
         "2024-04-10T03:43:02.032+0000"
        ],
        [
         "Basic Check 2",
         "CompletenessConstraint(Completeness(price))",
         "SUCCESS",
         1,
         29,
         "2024-04-10T03:41:11.565+0000"
        ],
        [
         "Basic Check 2",
         "DistinctnessConstraint(Distinctness(symbol))",
         "SUCCESS",
         1,
         29,
         "2024-04-10T03:41:11.565+0000"
        ],
        [
         "Basic Check 2",
         "CompletenessConstraint(Completeness(price))",
         "SUCCESS",
         1,
         26,
         "2024-04-10T03:40:55.924+0000"
        ],
        [
         "Basic Check 2",
         "DistinctnessConstraint(Distinctness(symbol))",
         "SUCCESS",
         1,
         26,
         "2024-04-10T03:40:55.924+0000"
        ],
        [
         "Basic Check 2",
         "CompletenessConstraint(Completeness(price))",
         "SUCCESS",
         1,
         0,
         "2024-04-10T03:38:22.642+0000"
        ],
        [
         "Basic Check 2",
         "DistinctnessConstraint(Distinctness(symbol))",
         "SUCCESS",
         1,
         0,
         "2024-04-10T03:38:22.642+0000"
        ],
        [
         "Basic Check 2",
         "CompletenessConstraint(Completeness(price))",
         "SUCCESS",
         1,
         19,
         "2024-04-10T03:40:17.402+0000"
        ],
        [
         "Basic Check 2",
         "DistinctnessConstraint(Distinctness(symbol))",
         "SUCCESS",
         1,
         19,
         "2024-04-10T03:40:17.402+0000"
        ],
        [
         "Basic Check 2",
         "CompletenessConstraint(Completeness(price))",
         "SUCCESS",
         1,
         37,
         "2024-04-10T03:41:54.540+0000"
        ],
        [
         "Basic Check 2",
         "DistinctnessConstraint(Distinctness(symbol))",
         "SUCCESS",
         1,
         37,
         "2024-04-10T03:41:54.540+0000"
        ],
        [
         "Basic Check 2",
         "CompletenessConstraint(Completeness(price))",
         "SUCCESS",
         1,
         28,
         "2024-04-10T03:41:05.972+0000"
        ],
        [
         "Basic Check 2",
         "DistinctnessConstraint(Distinctness(symbol))",
         "SUCCESS",
         1,
         28,
         "2024-04-10T03:41:05.972+0000"
        ],
        [
         "Basic Check 2",
         "CompletenessConstraint(Completeness(price))",
         "SUCCESS",
         1,
         6,
         "2024-04-10T03:39:02.871+0000"
        ],
        [
         "Basic Check 2",
         "DistinctnessConstraint(Distinctness(symbol))",
         "SUCCESS",
         1,
         6,
         "2024-04-10T03:39:02.871+0000"
        ],
        [
         "Basic Check 2",
         "CompletenessConstraint(Completeness(price))",
         "SUCCESS",
         1,
         18,
         "2024-04-10T03:40:12.118+0000"
        ],
        [
         "Basic Check 2",
         "DistinctnessConstraint(Distinctness(symbol))",
         "SUCCESS",
         1,
         18,
         "2024-04-10T03:40:12.118+0000"
        ],
        [
         "Basic Check 2",
         "CompletenessConstraint(Completeness(price))",
         "SUCCESS",
         1,
         43,
         "2024-04-10T03:42:25.946+0000"
        ],
        [
         "Basic Check 2",
         "DistinctnessConstraint(Distinctness(symbol))",
         "SUCCESS",
         1,
         43,
         "2024-04-10T03:42:25.946+0000"
        ],
        [
         "Basic Check 2",
         "CompletenessConstraint(Completeness(price))",
         "SUCCESS",
         1,
         20,
         "2024-04-10T03:40:23.525+0000"
        ],
        [
         "Basic Check 2",
         "DistinctnessConstraint(Distinctness(symbol))",
         "SUCCESS",
         1,
         20,
         "2024-04-10T03:40:23.525+0000"
        ],
        [
         "Basic Check 2",
         "CompletenessConstraint(Completeness(price))",
         "SUCCESS",
         1,
         13,
         "2024-04-10T03:39:44.192+0000"
        ],
        [
         "Basic Check 2",
         "DistinctnessConstraint(Distinctness(symbol))",
         "SUCCESS",
         1,
         13,
         "2024-04-10T03:39:44.192+0000"
        ],
        [
         "Basic Check 2",
         "CompletenessConstraint(Completeness(price))",
         "SUCCESS",
         1,
         7,
         "2024-04-10T03:39:09.402+0000"
        ],
        [
         "Basic Check 2",
         "DistinctnessConstraint(Distinctness(symbol))",
         "SUCCESS",
         1,
         7,
         "2024-04-10T03:39:09.402+0000"
        ],
        [
         "Basic Check 2",
         "CompletenessConstraint(Completeness(price))",
         "SUCCESS",
         1,
         33,
         "2024-04-10T03:41:33.742+0000"
        ],
        [
         "Basic Check 2",
         "DistinctnessConstraint(Distinctness(symbol))",
         "SUCCESS",
         1,
         33,
         "2024-04-10T03:41:33.742+0000"
        ],
        [
         "Basic Check 2",
         "CompletenessConstraint(Completeness(price))",
         "SUCCESS",
         1,
         24,
         "2024-04-10T03:40:45.331+0000"
        ],
        [
         "Basic Check 2",
         "DistinctnessConstraint(Distinctness(symbol))",
         "SUCCESS",
         1,
         24,
         "2024-04-10T03:40:45.331+0000"
        ],
        [
         "Basic Check 2",
         "CompletenessConstraint(Completeness(price))",
         "SUCCESS",
         1,
         40,
         "2024-04-10T03:42:10.594+0000"
        ],
        [
         "Basic Check 2",
         "DistinctnessConstraint(Distinctness(symbol))",
         "SUCCESS",
         1,
         40,
         "2024-04-10T03:42:10.594+0000"
        ],
        [
         "Basic Check 2",
         "CompletenessConstraint(Completeness(price))",
         "SUCCESS",
         1,
         14,
         "2024-04-10T03:39:49.390+0000"
        ],
        [
         "Basic Check 2",
         "DistinctnessConstraint(Distinctness(symbol))",
         "SUCCESS",
         1,
         14,
         "2024-04-10T03:39:49.390+0000"
        ],
        [
         "Basic Check 2",
         "CompletenessConstraint(Completeness(price))",
         "SUCCESS",
         1,
         42,
         "2024-04-10T03:42:21.335+0000"
        ],
        [
         "Basic Check 2",
         "DistinctnessConstraint(Distinctness(symbol))",
         "SUCCESS",
         1,
         42,
         "2024-04-10T03:42:21.335+0000"
        ],
        [
         "Basic Check 2",
         "CompletenessConstraint(Completeness(price))",
         "SUCCESS",
         1,
         10,
         "2024-04-10T03:39:26.263+0000"
        ],
        [
         "Basic Check 2",
         "DistinctnessConstraint(Distinctness(symbol))",
         "SUCCESS",
         1,
         10,
         "2024-04-10T03:39:26.263+0000"
        ],
        [
         "Basic Check 2",
         "CompletenessConstraint(Completeness(price))",
         "SUCCESS",
         1,
         17,
         "2024-04-10T03:40:06.479+0000"
        ],
        [
         "Basic Check 2",
         "DistinctnessConstraint(Distinctness(symbol))",
         "SUCCESS",
         1,
         17,
         "2024-04-10T03:40:06.479+0000"
        ],
        [
         "Basic Check 2",
         "CompletenessConstraint(Completeness(price))",
         "SUCCESS",
         1,
         30,
         "2024-04-10T03:41:17.828+0000"
        ],
        [
         "Basic Check 2",
         "DistinctnessConstraint(Distinctness(symbol))",
         "SUCCESS",
         1,
         30,
         "2024-04-10T03:41:17.828+0000"
        ],
        [
         "Basic Check 2",
         "CompletenessConstraint(Completeness(price))",
         "SUCCESS",
         1,
         23,
         "2024-04-10T03:40:39.646+0000"
        ],
        [
         "Basic Check 2",
         "DistinctnessConstraint(Distinctness(symbol))",
         "SUCCESS",
         1,
         23,
         "2024-04-10T03:40:39.646+0000"
        ],
        [
         "Basic Check 2",
         "CompletenessConstraint(Completeness(price))",
         "SUCCESS",
         1,
         45,
         "2024-04-10T03:42:36.421+0000"
        ],
        [
         "Basic Check 2",
         "DistinctnessConstraint(Distinctness(symbol))",
         "SUCCESS",
         1,
         45,
         "2024-04-10T03:42:36.421+0000"
        ],
        [
         "Basic Check 2",
         "CompletenessConstraint(Completeness(price))",
         "SUCCESS",
         1,
         34,
         "2024-04-10T03:41:38.765+0000"
        ],
        [
         "Basic Check 2",
         "DistinctnessConstraint(Distinctness(symbol))",
         "SUCCESS",
         1,
         34,
         "2024-04-10T03:41:38.765+0000"
        ],
        [
         "Basic Check 2",
         "CompletenessConstraint(Completeness(price))",
         "SUCCESS",
         1,
         32,
         "2024-04-10T03:41:28.495+0000"
        ],
        [
         "Basic Check 2",
         "DistinctnessConstraint(Distinctness(symbol))",
         "SUCCESS",
         1,
         32,
         "2024-04-10T03:41:28.495+0000"
        ],
        [
         "Basic Check 2",
         "CompletenessConstraint(Completeness(price))",
         "SUCCESS",
         1,
         4,
         "2024-04-10T03:38:49.408+0000"
        ],
        [
         "Basic Check 2",
         "DistinctnessConstraint(Distinctness(symbol))",
         "SUCCESS",
         1,
         4,
         "2024-04-10T03:38:49.408+0000"
        ],
        [
         "Basic Check 2",
         "CompletenessConstraint(Completeness(price))",
         "SUCCESS",
         1,
         2,
         "2024-04-10T03:38:36.814+0000"
        ],
        [
         "Basic Check 2",
         "DistinctnessConstraint(Distinctness(symbol))",
         "SUCCESS",
         1,
         2,
         "2024-04-10T03:38:36.814+0000"
        ],
        [
         "Basic Check 2",
         "CompletenessConstraint(Completeness(ipaddr))",
         "FAILURE",
         0.95,
         15,
         "2024-04-10T03:39:55.477+0000"
        ],
        [
         "Basic Check 2",
         "CompletenessConstraint(Completeness(ipaddr))",
         "SUCCESS",
         1,
         40,
         "2024-04-10T03:42:10.594+0000"
        ],
        [
         "Basic Check 2",
         "CompletenessConstraint(Completeness(ipaddr))",
         "FAILURE",
         0.85,
         8,
         "2024-04-10T03:39:15.470+0000"
        ],
        [
         "Basic Check 2",
         "CompletenessConstraint(Completeness(ipaddr))",
         "FAILURE",
         0.95,
         29,
         "2024-04-10T03:41:11.565+0000"
        ],
        [
         "Basic Check 2",
         "CompletenessConstraint(Completeness(ipaddr))",
         "SUCCESS",
         1,
         19,
         "2024-04-10T03:40:17.402+0000"
        ],
        [
         "Basic Check 2",
         "CompletenessConstraint(Completeness(ipaddr))",
         "FAILURE",
         0.95,
         14,
         "2024-04-10T03:39:49.390+0000"
        ],
        [
         "Basic Check 2",
         "CompletenessConstraint(Completeness(ipaddr))",
         "SUCCESS",
         1,
         7,
         "2024-04-10T03:39:09.402+0000"
        ],
        [
         "Basic Check 2",
         "CompletenessConstraint(Completeness(ipaddr))",
         "FAILURE",
         0.95,
         38,
         "2024-04-10T03:41:59.988+0000"
        ],
        [
         "Basic Check 2",
         "CompletenessConstraint(Completeness(ipaddr))",
         "FAILURE",
         0.95,
         45,
         "2024-04-10T03:42:36.421+0000"
        ],
        [
         "Basic Check 2",
         "CompletenessConstraint(Completeness(ipaddr))",
         "FAILURE",
         0.85,
         49,
         "2024-04-10T03:42:57.855+0000"
        ],
        [
         "Basic Check 2",
         "CompletenessConstraint(Completeness(ipaddr))",
         "SUCCESS",
         1,
         33,
         "2024-04-10T03:41:33.742+0000"
        ],
        [
         "Basic Check 2",
         "CompletenessConstraint(Completeness(ipaddr))",
         "SUCCESS",
         1,
         44,
         "2024-04-10T03:42:31.217+0000"
        ],
        [
         "Basic Check 2",
         "CompletenessConstraint(Completeness(ipaddr))",
         "SUCCESS",
         1,
         47,
         "2024-04-10T03:42:47.227+0000"
        ],
        [
         "Basic Check 2",
         "CompletenessConstraint(Completeness(ipaddr))",
         "FAILURE",
         0.95,
         35,
         "2024-04-10T03:41:44.319+0000"
        ],
        [
         "Basic Check 2",
         "CompletenessConstraint(Completeness(ipaddr))",
         "FAILURE",
         0.95,
         4,
         "2024-04-10T03:38:49.408+0000"
        ],
        [
         "Basic Check 2",
         "CompletenessConstraint(Completeness(ipaddr))",
         "FAILURE",
         0.95,
         32,
         "2024-04-10T03:41:28.495+0000"
        ],
        [
         "Basic Check 2",
         "CompletenessConstraint(Completeness(ipaddr))",
         "SUCCESS",
         1,
         42,
         "2024-04-10T03:42:21.335+0000"
        ],
        [
         "Basic Check 2",
         "CompletenessConstraint(Completeness(ipaddr))",
         "FAILURE",
         0.9,
         10,
         "2024-04-10T03:39:26.263+0000"
        ],
        [
         "Basic Check 2",
         "CompletenessConstraint(Completeness(ipaddr))",
         "SUCCESS",
         1,
         23,
         "2024-04-10T03:40:39.646+0000"
        ],
        [
         "Basic Check 2",
         "CompletenessConstraint(Completeness(ipaddr))",
         "FAILURE",
         0.9,
         20,
         "2024-04-10T03:40:23.525+0000"
        ],
        [
         "Basic Check 2",
         "CompletenessConstraint(Completeness(ipaddr))",
         "SUCCESS",
         1,
         9,
         "2024-04-10T03:39:20.633+0000"
        ],
        [
         "Basic Check 2",
         "CompletenessConstraint(Completeness(ipaddr))",
         "FAILURE",
         0.9,
         11,
         "2024-04-10T03:39:32.650+0000"
        ],
        [
         "Basic Check 2",
         "CompletenessConstraint(Completeness(ipaddr))",
         "SUCCESS",
         1,
         30,
         "2024-04-10T03:41:17.828+0000"
        ],
        [
         "Basic Check 2",
         "CompletenessConstraint(Completeness(ipaddr))",
         "SUCCESS",
         1,
         22,
         "2024-04-10T03:40:34.433+0000"
        ],
        [
         "Basic Check 2",
         "CompletenessConstraint(Completeness(price))",
         "FAILURE",
         0.9666666666666667,
         41,
         "2024-04-10T03:42:16.949+0000"
        ],
        [
         "Basic Check 2",
         "DistinctnessConstraint(Distinctness(symbol))",
         "SUCCESS",
         1,
         41,
         "2024-04-10T03:42:16.949+0000"
        ],
        [
         "Basic Check 2",
         "CompletenessConstraint(Completeness(price))",
         "FAILURE",
         0.9666666666666667,
         21,
         "2024-04-10T03:40:29.948+0000"
        ],
        [
         "Basic Check 2",
         "DistinctnessConstraint(Distinctness(symbol))",
         "SUCCESS",
         1,
         21,
         "2024-04-10T03:40:29.948+0000"
        ],
        [
         "Basic Check 2",
         "CompletenessConstraint(Completeness(price))",
         "FAILURE",
         0.9333333333333333,
         1,
         "2024-04-10T03:38:31.231+0000"
        ],
        [
         "Basic Check 2",
         "DistinctnessConstraint(Distinctness(symbol))",
         "SUCCESS",
         1,
         1,
         "2024-04-10T03:38:31.231+0000"
        ],
        [
         "Basic Check 2",
         "CompletenessConstraint(Completeness(price))",
         "FAILURE",
         0.95,
         15,
         "2024-04-10T03:39:55.477+0000"
        ],
        [
         "Basic Check 2",
         "DistinctnessConstraint(Distinctness(symbol))",
         "SUCCESS",
         1,
         15,
         "2024-04-10T03:39:55.477+0000"
        ],
        [
         "Basic Check 2",
         "CompletenessConstraint(Completeness(price))",
         "FAILURE",
         0.95,
         3,
         "2024-04-10T03:38:42.332+0000"
        ],
        [
         "Basic Check 2",
         "DistinctnessConstraint(Distinctness(symbol))",
         "SUCCESS",
         1,
         3,
         "2024-04-10T03:38:42.332+0000"
        ],
        [
         "Basic Check 2",
         "CompletenessConstraint(Completeness(price))",
         "FAILURE",
         0.95,
         27,
         "2024-04-10T03:41:01.120+0000"
        ],
        [
         "Basic Check 2",
         "DistinctnessConstraint(Distinctness(symbol))",
         "SUCCESS",
         1,
         27,
         "2024-04-10T03:41:01.120+0000"
        ],
        [
         "Basic Check 2",
         "CompletenessConstraint(Completeness(price))",
         "FAILURE",
         0.95,
         38,
         "2024-04-10T03:41:59.988+0000"
        ],
        [
         "Basic Check 2",
         "DistinctnessConstraint(Distinctness(symbol))",
         "SUCCESS",
         1,
         38,
         "2024-04-10T03:41:59.988+0000"
        ],
        [
         "Basic Check 2",
         "CompletenessConstraint(Completeness(price))",
         "FAILURE",
         0.95,
         11,
         "2024-04-10T03:39:32.650+0000"
        ],
        [
         "Basic Check 2",
         "DistinctnessConstraint(Distinctness(symbol))",
         "SUCCESS",
         1,
         11,
         "2024-04-10T03:39:32.650+0000"
        ],
        [
         "Basic Check 2",
         "CompletenessConstraint(Completeness(price))",
         "FAILURE",
         0.95,
         36,
         "2024-04-10T03:41:49.469+0000"
        ],
        [
         "Basic Check 2",
         "DistinctnessConstraint(Distinctness(symbol))",
         "SUCCESS",
         1,
         36,
         "2024-04-10T03:41:49.469+0000"
        ],
        [
         "Basic Check 2",
         "CompletenessConstraint(Completeness(price))",
         "FAILURE",
         0.95,
         12,
         "2024-04-10T03:39:38.855+0000"
        ],
        [
         "Basic Check 2",
         "DistinctnessConstraint(Distinctness(symbol))",
         "SUCCESS",
         1,
         12,
         "2024-04-10T03:39:38.855+0000"
        ],
        [
         "Basic Check 2",
         "CompletenessConstraint(Completeness(price))",
         "FAILURE",
         0.95,
         25,
         "2024-04-10T03:40:50.290+0000"
        ],
        [
         "Basic Check 2",
         "DistinctnessConstraint(Distinctness(symbol))",
         "SUCCESS",
         1,
         25,
         "2024-04-10T03:40:50.290+0000"
        ],
        [
         "Basic Check 2",
         "CompletenessConstraint(Completeness(price))",
         "FAILURE",
         0.95,
         31,
         "2024-04-10T03:41:23.243+0000"
        ],
        [
         "Basic Check 2",
         "DistinctnessConstraint(Distinctness(symbol))",
         "SUCCESS",
         1,
         31,
         "2024-04-10T03:41:23.243+0000"
        ],
        [
         "Basic Check 2",
         "CompletenessConstraint(Completeness(price))",
         "SUCCESS",
         1,
         44,
         "2024-04-10T03:42:31.217+0000"
        ],
        [
         "Basic Check 2",
         "DistinctnessConstraint(Distinctness(symbol))",
         "FAILURE",
         0.95,
         44,
         "2024-04-10T03:42:31.217+0000"
        ],
        [
         "Basic Check 2",
         "CompletenessConstraint(Completeness(price))",
         "FAILURE",
         0.95,
         48,
         "2024-04-10T03:42:52.082+0000"
        ],
        [
         "Basic Check 2",
         "DistinctnessConstraint(Distinctness(symbol))",
         "SUCCESS",
         1,
         48,
         "2024-04-10T03:42:52.082+0000"
        ],
        [
         "Basic Check 2",
         "CompletenessConstraint(Completeness(price))",
         "FAILURE",
         0.95,
         8,
         "2024-04-10T03:39:15.470+0000"
        ],
        [
         "Basic Check 2",
         "DistinctnessConstraint(Distinctness(symbol))",
         "SUCCESS",
         1,
         8,
         "2024-04-10T03:39:15.470+0000"
        ],
        [
         "Basic Check 2",
         "CompletenessConstraint(Completeness(price))",
         "FAILURE",
         0.8,
         9,
         "2024-04-10T03:39:20.633+0000"
        ],
        [
         "Basic Check 2",
         "DistinctnessConstraint(Distinctness(symbol))",
         "SUCCESS",
         1,
         9,
         "2024-04-10T03:39:20.633+0000"
        ],
        [
         "Basic Check 2",
         "CompletenessConstraint(Completeness(price))",
         "FAILURE",
         0.9,
         47,
         "2024-04-10T03:42:47.227+0000"
        ],
        [
         "Basic Check 2",
         "DistinctnessConstraint(Distinctness(symbol))",
         "SUCCESS",
         1,
         47,
         "2024-04-10T03:42:47.227+0000"
        ],
        [
         "Basic Check 2",
         "CompletenessConstraint(Completeness(price))",
         "FAILURE",
         0.9,
         35,
         "2024-04-10T03:41:44.319+0000"
        ],
        [
         "Basic Check 2",
         "DistinctnessConstraint(Distinctness(symbol))",
         "SUCCESS",
         1,
         35,
         "2024-04-10T03:41:44.319+0000"
        ],
        [
         "Basic Check 2",
         "CompletenessConstraint(Completeness(price))",
         "FAILURE",
         0.9,
         22,
         "2024-04-10T03:40:34.433+0000"
        ],
        [
         "Basic Check 2",
         "DistinctnessConstraint(Distinctness(symbol))",
         "SUCCESS",
         1,
         22,
         "2024-04-10T03:40:34.433+0000"
        ],
        [
         "Basic Check 2",
         "CompletenessConstraint(Completeness(price))",
         "FAILURE",
         0.9,
         16,
         "2024-04-10T03:40:00.720+0000"
        ],
        [
         "Basic Check 2",
         "DistinctnessConstraint(Distinctness(symbol))",
         "SUCCESS",
         1,
         16,
         "2024-04-10T03:40:00.720+0000"
        ]
       ],
       "datasetInfos": [],
       "dbfsResultPath": null,
       "isJsonSchema": true,
       "metadata": {},
       "overflow": false,
       "plotOptions": {
        "customPlotOptions": {},
        "displayType": "table",
        "pivotAggregation": null,
        "pivotColumns": null,
        "xColumns": null,
        "yColumns": null
       },
       "removedWidgets": [],
       "schema": [
        {
         "metadata": "{}",
         "name": "Check",
         "type": "\"string\""
        },
        {
         "metadata": "{}",
         "name": "Constraint",
         "type": "\"string\""
        },
        {
         "metadata": "{}",
         "name": "Status",
         "type": "\"string\""
        },
        {
         "metadata": "{}",
         "name": "Metric",
         "type": "\"double\""
        },
        {
         "metadata": "{}",
         "name": "batchID",
         "type": "\"long\""
        },
        {
         "metadata": "{}",
         "name": "ts",
         "type": "\"timestamp\""
        }
       ],
       "type": "table"
      }
     },
     "output_type": "display_data"
    },
    {
     "data": {
      "text/plain": [
       "Databricks visualization. Run in Databricks to view."
      ]
     },
     "metadata": {
      "application/vnd.databricks.v1.subcommand+json": {
       "baseErrorDetails": null,
       "bindings": {},
       "collapsed": false,
       "command": "%python\n__backend_agg_display_orig = display\n__backend_agg_dfs = []\ndef __backend_agg_display_new(df):\n    __backend_agg_df_modules = [\"pandas.core.frame\", \"databricks.koalas.frame\", \"pyspark.sql.dataframe\", \"pyspark.pandas.frame\", \"pyspark.sql.connect.dataframe\"]\n    if (type(df).__module__ in __backend_agg_df_modules and type(df).__name__ == 'DataFrame') or isinstance(df, list):\n        __backend_agg_dfs.append(df)\n\ndisplay = __backend_agg_display_new\n\ndef __backend_agg_user_code_fn():\n    import base64\n    exec(base64.standard_b64decode(\"ZnJvbSBweXNwYXJrLnNxbC5zZXNzaW9uIGltcG9ydCBTcGFya1Nlc3Npb24KZnJvbSBweXNwYXJrLnNxbCBpbXBvcnQgUm93CmZyb20gcHlzcGFyay5zcWwuZnVuY3Rpb25zIGltcG9ydCBjdXJyZW50X3RpbWVzdGFtcAppbXBvcnQgcGFuZGFzIGFzIHBkCmZyb20gcHlzcGFyay5zcWwuZnVuY3Rpb25zIGltcG9ydCBjb2wKCmRmID0gc3BhcmsudGFibGUoImR1Y2tfbWV0cmljcyIpCmRmID0gZGYud2l0aENvbHVtbigiTWV0cmljIiwgY29sKCJNZXRyaWMiKS5jYXN0KERvdWJsZVR5cGUoKSkpCmRmX2ZpbHRlcmVkID0gZGYuZmlsdGVyKGNvbCgiQ29uc3RyYWludCIpLnN0YXJ0c3dpdGgoIkNvbXBsZXRlbmVzc0NvbnN0cmFpbnQiKSkKZGlzcGxheShkZl9maWx0ZXJlZCkK\").decode())\n\ntry:\n    # run user code\n    __backend_agg_user_code_fn()\n\n    #reset display function\n    display = __backend_agg_display_orig\n\n    if len(__backend_agg_dfs) > 0:\n        # create a temp view\n        if type(__backend_agg_dfs[0]).__module__ == \"databricks.koalas.frame\":\n            # koalas dataframe\n            __backend_agg_dfs[0].to_spark().createOrReplaceTempView(\"DatabricksView01c484d\")\n        elif type(__backend_agg_dfs[0]).__module__ == \"pandas.core.frame\" or isinstance(__backend_agg_dfs[0], list):\n            # pandas dataframe\n            spark.createDataFrame(__backend_agg_dfs[0]).createOrReplaceTempView(\"DatabricksView01c484d\")\n        else:\n            __backend_agg_dfs[0].createOrReplaceTempView(\"DatabricksView01c484d\")\n        #run backend agg\n        display(spark.sql(\"\"\"WITH q AS (select * from DatabricksView01c484d) SELECT SUM(`Metric`) `column_131b4d1732`,`Constraint`,`ts` FROM q GROUP BY `Constraint`,`ts`\"\"\"))\n    else:\n        displayHTML(\"dataframe no longer exists. If you're using dataframe.display(), use display(dataframe) instead.\")\n\n\nfinally:\n    spark.sql(\"drop view if exists DatabricksView01c484d\")\n    display = __backend_agg_display_orig\n    del __backend_agg_display_new\n    del __backend_agg_display_orig\n    del __backend_agg_dfs\n    del __backend_agg_user_code_fn\n\n",
       "commandTitle": "Visualization 1",
       "commandType": "auto",
       "commandVersion": 0,
       "commentThread": [],
       "commentsVisible": false,
       "contentSha256Hex": null,
       "customPlotOptions": {
        "redashChart": [
         {
          "key": "type",
          "value": "CHART"
         },
         {
          "key": "options",
          "value": {
           "alignYAxesAtZero": true,
           "coefficient": 1,
           "columnConfigurationMap": {
            "series": {
             "column": "Constraint",
             "id": "column_131b4d1734"
            },
            "x": {
             "column": "ts",
             "id": "column_852024ff10"
            },
            "y": [
             {
              "column": "Metric",
              "id": "column_131b4d1732",
              "transform": "SUM"
             }
            ]
           },
           "dateTimeFormat": "DD/MM/YYYY HH:mm",
           "direction": {
            "type": "counterclockwise"
           },
           "error_y": {
            "type": "data",
            "visible": true
           },
           "globalSeriesType": "line",
           "isAggregationOn": true,
           "legend": {
            "traceorder": "normal"
           },
           "missingValuesAsZero": true,
           "numberFormat": "0,0.[00]",
           "percentFormat": "0[.]00%",
           "series": {
            "error_y": {
             "type": "data",
             "visible": true
            },
            "stacking": null
           },
           "seriesOptions": {
            "column_131b4d1732": {
             "type": "line",
             "yAxis": 0
            }
           },
           "showDataLabels": false,
           "sizemode": "diameter",
           "sortX": true,
           "sortY": true,
           "swappedAxes": false,
           "textFormat": "",
           "useAggregationsUi": true,
           "valuesOptions": {},
           "version": 2,
           "xAxis": {
            "labels": {
             "enabled": true
            },
            "type": "-"
           },
           "yAxis": [
            {
             "type": "-"
            },
            {
             "opposite": true,
             "type": "-"
            }
           ]
          }
         }
        ]
       },
       "datasetPreviewNameToCmdIdMap": {},
       "diffDeletes": [],
       "diffInserts": [],
       "displayType": "redashChart",
       "error": null,
       "errorDetails": null,
       "errorSummary": null,
       "errorTraceType": null,
       "finishTime": 0,
       "globalVars": {},
       "guid": "",
       "height": "auto",
       "hideCommandCode": false,
       "hideCommandResult": false,
       "iPythonMetadata": null,
       "inputWidgets": {},
       "isLockedInExamMode": false,
       "latestUser": "a user",
       "latestUserId": null,
       "listResultMetadata": null,
       "metadata": {
        "byteLimit": 2048000,
        "rowLimit": 10000
       },
       "nuid": "94f3e6fc-3840-47e7-8dc8-126958ea6543",
       "origId": 0,
       "parentHierarchy": [],
       "pivotAggregation": null,
       "pivotColumns": null,
       "position": 13,
       "resultDbfsErrorMessage": null,
       "resultDbfsStatus": "INLINED_IN_TREE",
       "results": null,
       "showCommandTitle": false,
       "startTime": 0,
       "state": "input",
       "streamStates": {},
       "subcommandOptions": {
        "queryPlan": {
         "groups": [
          {
           "column": "Constraint",
           "type": "column"
          },
          {
           "column": "ts",
           "type": "column"
          }
         ],
         "selects": [
          {
           "alias": "column_131b4d1732",
           "args": [
            {
             "column": "Metric",
             "type": "column"
            }
           ],
           "function": "SUM",
           "type": "function"
          },
          {
           "column": "Constraint",
           "type": "column"
          },
          {
           "column": "ts",
           "type": "column"
          }
         ]
        }
       },
       "submitTime": 0,
       "subtype": "tableResultSubCmd.visualization",
       "tableResultIndex": 0,
       "useConsistentColors": false,
       "version": "CommandV1",
       "width": "auto",
       "workflows": [],
       "xColumns": null,
       "yColumns": null
      }
     },
     "output_type": "display_data"
    },
    {
     "data": {
      "text/plain": [
       "Databricks visualization. Run in Databricks to view."
      ]
     },
     "metadata": {
      "application/vnd.databricks.v1.subcommand+json": {
       "baseErrorDetails": null,
       "bindings": {},
       "collapsed": false,
       "command": "%python\n__backend_agg_display_orig = display\n__backend_agg_dfs = []\ndef __backend_agg_display_new(df):\n    __backend_agg_df_modules = [\"pandas.core.frame\", \"databricks.koalas.frame\", \"pyspark.sql.dataframe\", \"pyspark.pandas.frame\", \"pyspark.sql.connect.dataframe\"]\n    if (type(df).__module__ in __backend_agg_df_modules and type(df).__name__ == 'DataFrame') or isinstance(df, list):\n        __backend_agg_dfs.append(df)\n\ndisplay = __backend_agg_display_new\n\ndef __backend_agg_user_code_fn():\n    import base64\n    exec(base64.standard_b64decode(\"ZnJvbSBweXNwYXJrLnNxbC5zZXNzaW9uIGltcG9ydCBTcGFya1Nlc3Npb24KZnJvbSBweXNwYXJrLnNxbCBpbXBvcnQgUm93CmZyb20gcHlzcGFyay5zcWwuZnVuY3Rpb25zIGltcG9ydCBjdXJyZW50X3RpbWVzdGFtcAppbXBvcnQgcGFuZGFzIGFzIHBkCmZyb20gcHlzcGFyay5zcWwuZnVuY3Rpb25zIGltcG9ydCBjb2wKCmRmID0gc3BhcmsudGFibGUoImR1Y2tfbWV0cmljcyIpCmRmID0gZGYud2l0aENvbHVtbigiTWV0cmljIiwgY29sKCJNZXRyaWMiKS5jYXN0KERvdWJsZVR5cGUoKSkpCmRmX2ZpbHRlcmVkID0gZGYuZmlsdGVyKGNvbCgiQ29uc3RyYWludCIpLnN0YXJ0c3dpdGgoIkNvbXBsZXRlbmVzc0NvbnN0cmFpbnQiKSkKZGlzcGxheShkZl9maWx0ZXJlZCkK\").decode())\n\ntry:\n    # run user code\n    __backend_agg_user_code_fn()\n\n    #reset display function\n    display = __backend_agg_display_orig\n\n    if len(__backend_agg_dfs) > 0:\n        # create a temp view\n        if type(__backend_agg_dfs[0]).__module__ == \"databricks.koalas.frame\":\n            # koalas dataframe\n            __backend_agg_dfs[0].to_spark().createOrReplaceTempView(\"DatabricksView6e5a0e5\")\n        elif type(__backend_agg_dfs[0]).__module__ == \"pandas.core.frame\" or isinstance(__backend_agg_dfs[0], list):\n            # pandas dataframe\n            spark.createDataFrame(__backend_agg_dfs[0]).createOrReplaceTempView(\"DatabricksView6e5a0e5\")\n        else:\n            __backend_agg_dfs[0].createOrReplaceTempView(\"DatabricksView6e5a0e5\")\n        #run backend agg\n        display(spark.sql(\"\"\"WITH q AS (select * from DatabricksView6e5a0e5) SELECT `Status`,SUM(`Metric`) `column_131b4d1753` FROM q GROUP BY `Status`\"\"\"))\n    else:\n        displayHTML(\"dataframe no longer exists. If you're using dataframe.display(), use display(dataframe) instead.\")\n\n\nfinally:\n    spark.sql(\"drop view if exists DatabricksView6e5a0e5\")\n    display = __backend_agg_display_orig\n    del __backend_agg_display_new\n    del __backend_agg_display_orig\n    del __backend_agg_dfs\n    del __backend_agg_user_code_fn\n\n",
       "commandTitle": "Visualization 2",
       "commandType": "auto",
       "commandVersion": 0,
       "commentThread": [],
       "commentsVisible": false,
       "contentSha256Hex": null,
       "customPlotOptions": {
        "redashChart": [
         {
          "key": "type",
          "value": "CHART"
         },
         {
          "key": "options",
          "value": {
           "alignYAxesAtZero": true,
           "coefficient": 1,
           "columnConfigurationMap": {
            "series": {
             "column": "Constraint",
             "id": "column_852024ff21"
            },
            "x": {
             "column": "Constraint",
             "id": "column_852024ff20"
            },
            "y": [
             {
              "column": "Metric",
              "id": "column_131b4d1753",
              "transform": "AVG"
             }
            ]
           },
           "dateTimeFormat": "DD/MM/YYYY HH:mm",
           "direction": {
            "type": "counterclockwise"
           },
           "error_y": {
            "type": "data",
            "visible": true
           },
           "globalSeriesType": "column",
           "isAggregationOn": true,
           "legend": {
            "traceorder": "normal"
           },
           "missingValuesAsZero": true,
           "numberFormat": "0,0.[00000]",
           "percentFormat": "0[.]00%",
           "series": {
            "error_y": {
             "type": "data",
             "visible": true
            },
            "stacking": null
           },
           "seriesOptions": {
            "column_131b4d1753": {
             "type": "column",
             "yAxis": 0
            }
           },
           "showDataLabels": true,
           "sizemode": "diameter",
           "sortX": true,
           "sortY": true,
           "swappedAxes": false,
           "textFormat": "",
           "useAggregationsUi": true,
           "valuesOptions": {},
           "version": 2,
           "xAxis": {
            "labels": {
             "enabled": false
            },
            "type": "-"
           },
           "yAxis": [
            {
             "type": "-"
            },
            {
             "opposite": true,
             "type": "-"
            }
           ]
          }
         }
        ]
       },
       "datasetPreviewNameToCmdIdMap": {},
       "diffDeletes": [],
       "diffInserts": [],
       "displayType": "redashChart",
       "error": null,
       "errorDetails": null,
       "errorSummary": null,
       "errorTraceType": null,
       "finishTime": 0,
       "globalVars": {},
       "guid": "",
       "height": "auto",
       "hideCommandCode": false,
       "hideCommandResult": false,
       "iPythonMetadata": null,
       "inputWidgets": {},
       "isLockedInExamMode": false,
       "latestUser": "a user",
       "latestUserId": null,
       "listResultMetadata": null,
       "metadata": {
        "byteLimit": 2048000,
        "rowLimit": 10000
       },
       "nuid": "729bb8e6-3a4c-4f7a-aa02-4705565165c7",
       "origId": 0,
       "parentHierarchy": [],
       "pivotAggregation": null,
       "pivotColumns": null,
       "position": 14,
       "resultDbfsErrorMessage": null,
       "resultDbfsStatus": "INLINED_IN_TREE",
       "results": null,
       "showCommandTitle": false,
       "startTime": 0,
       "state": "input",
       "streamStates": {},
       "subcommandOptions": {
        "queryPlan": {
         "groups": [
          {
           "column": "Constraint",
           "type": "column"
          },
          {
           "column": "Constraint",
           "type": "column"
          }
         ],
         "selects": [
          {
           "column": "Constraint",
           "type": "column"
          },
          {
           "alias": "column_131b4d1753",
           "args": [
            {
             "column": "Metric",
             "type": "column"
            }
           ],
           "function": "AVG",
           "type": "function"
          },
          {
           "column": "Constraint",
           "type": "column"
          }
         ]
        }
       },
       "submitTime": 0,
       "subtype": "tableResultSubCmd.visualization",
       "tableResultIndex": 0,
       "useConsistentColors": false,
       "version": "CommandV1",
       "width": "auto",
       "workflows": [],
       "xColumns": null,
       "yColumns": null
      }
     },
     "output_type": "display_data"
    }
   ],
   "source": [
    "from pyspark.sql.session import SparkSession\n",
    "from pyspark.sql import Row\n",
    "from pyspark.sql.functions import current_timestamp\n",
    "import pandas as pd\n",
    "from pyspark.sql.functions import col\n",
    "\n",
    "df = spark.table(\"duck_metrics\")\n",
    "df = df.withColumn(\"Metric\", col(\"Metric\").cast(DoubleType()))\n",
    "df_filtered = df.filter(col(\"Constraint\").startswith(\"CompletenessConstraint\") | col(\"Constraint\").startswith(\"DistinctnessConstraint\"))\n",
    "display(df_filtered)\n"
   ]
  }
 ],
 "metadata": {
  "application/vnd.databricks.v1+notebook": {
   "dashboards": [],
   "language": "python",
   "notebookMetadata": {
    "mostRecentlyExecutedCommandWithImplicitDF": {
     "commandId": 2385787535382361,
     "dataframes": [
      "_sqldf"
     ]
    },
    "pythonIndentUnit": 4
   },
   "notebookName": "Streaming 2024-04-08 21:04:21",
   "widgets": {}
  },
  "language_info": {
   "name": "python"
  }
 },
 "nbformat": 4,
 "nbformat_minor": 0
}
