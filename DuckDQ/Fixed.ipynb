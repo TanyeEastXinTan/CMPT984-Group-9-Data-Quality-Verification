{
 "cells": [
  {
   "cell_type": "code",
   "execution_count": null,
   "metadata": {
    "application/vnd.databricks.v1+cell": {
     "cellMetadata": {
      "byteLimit": 2048000,
      "rowLimit": 10000
     },
     "inputWidgets": {},
     "nuid": "0097ae7d-205b-40b7-9381-a2f56c8c2d42",
     "showTitle": false,
     "title": ""
    }
   },
   "outputs": [
    {
     "data": {
      "text/html": [
       "<style scoped>\n",
       "  .ansiout {\n",
       "    display: block;\n",
       "    unicode-bidi: embed;\n",
       "    white-space: pre-wrap;\n",
       "    word-wrap: break-word;\n",
       "    word-break: break-all;\n",
       "    font-family: \"Menlo\", \"Monaco\", \"Consolas\", \"Ubuntu Mono\", \"Source Code Pro\", monospace;\n",
       "    font-size: 13px;\n",
       "    color: #555;\n",
       "    margin-left: 4px;\n",
       "    line-height: 19px;\n",
       "  }\n",
       "</style>\n",
       "<div class=\"ansiout\">Python interpreter will be restarted.\n",
       "Collecting git+https://github.com/tdoehmen/duckdq\n",
       "  Cloning https://github.com/tdoehmen/duckdq to /tmp/pip-req-build-bu2xjx_9\n",
       "  Running command git clone -q https://github.com/tdoehmen/duckdq /tmp/pip-req-build-bu2xjx_9\n",
       "Collecting duckdb&gt;=0.2.3\n",
       "  Using cached duckdb-0.10.1-cp38-cp38-manylinux_2_17_x86_64.manylinux2014_x86_64.whl (18.1 MB)\n",
       "Collecting SQLAlchemy\n",
       "  Using cached SQLAlchemy-2.0.29-cp38-cp38-manylinux_2_17_x86_64.manylinux2014_x86_64.whl (3.1 MB)\n",
       "Requirement already satisfied: pandas in /databricks/python3/lib/python3.8/site-packages (from duckdq==0.0.post0.dev9+g5032943) (1.2.4)\n",
       "Collecting whylabs-datasketches\n",
       "  Using cached whylabs_datasketches-2.2.0b1-cp38-cp38-manylinux2010_x86_64.whl (405 kB)\n",
       "Requirement already satisfied: dill in /databricks/python3/lib/python3.8/site-packages (from duckdq==0.0.post0.dev9+g5032943) (0.3.2)\n",
       "Collecting tryingsnake\n",
       "  Using cached tryingsnake-0.5.1-py3-none-any.whl\n",
       "Requirement already satisfied: pytz&gt;=2017.3 in /databricks/python3/lib/python3.8/site-packages (from pandas-&gt;duckdq==0.0.post0.dev9+g5032943) (2020.5)\n",
       "Requirement already satisfied: numpy&gt;=1.16.5 in /databricks/python3/lib/python3.8/site-packages (from pandas-&gt;duckdq==0.0.post0.dev9+g5032943) (1.19.2)\n",
       "Requirement already satisfied: python-dateutil&gt;=2.7.3 in /databricks/python3/lib/python3.8/site-packages (from pandas-&gt;duckdq==0.0.post0.dev9+g5032943) (2.8.1)\n",
       "Requirement already satisfied: six&gt;=1.5 in /databricks/python3/lib/python3.8/site-packages (from python-dateutil&gt;=2.7.3-&gt;pandas-&gt;duckdq==0.0.post0.dev9+g5032943) (1.15.0)\n",
       "Collecting typing-extensions&gt;=4.6.0\n",
       "  Using cached typing_extensions-4.11.0-py3-none-any.whl (34 kB)\n",
       "Collecting greenlet!=0.4.17\n",
       "  Using cached greenlet-3.0.3-cp38-cp38-manylinux_2_24_x86_64.manylinux_2_28_x86_64.whl (622 kB)\n",
       "Building wheels for collected packages: duckdq\n",
       "  Building wheel for duckdq (setup.py): started\n",
       "  Building wheel for duckdq (setup.py): finished with status &#39;done&#39;\n",
       "  Created wheel for duckdq: filename=duckdq-0.0.post0.dev9+g5032943-py2.py3-none-any.whl size=43626 sha256=9b7f84996fc68309d9bde685cb9f99fd0a8ac6835b191d7fa2da4c92c523b593\n",
       "  Stored in directory: /tmp/pip-ephem-wheel-cache-8_s0cwyl/wheels/88/a5/74/5b722e499bbd67855336523f1b88d3078e69eeb50f563fbfce\n",
       "Successfully built duckdq\n",
       "Installing collected packages: typing-extensions, greenlet, whylabs-datasketches, tryingsnake, SQLAlchemy, duckdb, duckdq\n",
       "  Attempting uninstall: typing-extensions\n",
       "    Found existing installation: typing-extensions 3.7.4.3\n",
       "    Not uninstalling typing-extensions at /databricks/python3/lib/python3.8/site-packages, outside environment /local_disk0/.ephemeral_nfs/envs/pythonEnv-acaaa9d9-904e-4f65-b474-dc8a237e9d4b\n",
       "    Can&#39;t uninstall &#39;typing-extensions&#39;. No files were found to uninstall.\n",
       "ERROR: pip&#39;s dependency resolver does not currently take into account all the packages that are installed. This behaviour is the source of the following dependency conflicts.\n",
       "tensorflow-cpu 2.6.0 requires typing-extensions~=3.7.4, but you have typing-extensions 4.11.0 which is incompatible.\n",
       "Successfully installed SQLAlchemy-2.0.29 duckdb-0.10.1 duckdq-0.0.post0.dev9+g5032943 greenlet-3.0.3 tryingsnake-0.5.1 typing-extensions-4.11.0 whylabs-datasketches-2.2.0b1\n",
       "WARNING: You are using pip version 21.0.1; however, version 24.0 is available.\n",
       "You should consider upgrading via the &#39;/local_disk0/.ephemeral_nfs/envs/pythonEnv-acaaa9d9-904e-4f65-b474-dc8a237e9d4b/bin/python -m pip install --upgrade pip&#39; command.\n",
       "Python interpreter will be restarted.\n",
       "</div>"
      ]
     },
     "metadata": {
      "application/vnd.databricks.v1+output": {
       "addedWidgets": {},
       "arguments": {},
       "data": "<div class=\"ansiout\">Python interpreter will be restarted.\nCollecting git+https://github.com/tdoehmen/duckdq\n  Cloning https://github.com/tdoehmen/duckdq to /tmp/pip-req-build-bu2xjx_9\n  Running command git clone -q https://github.com/tdoehmen/duckdq /tmp/pip-req-build-bu2xjx_9\nCollecting duckdb&gt;=0.2.3\n  Using cached duckdb-0.10.1-cp38-cp38-manylinux_2_17_x86_64.manylinux2014_x86_64.whl (18.1 MB)\nCollecting SQLAlchemy\n  Using cached SQLAlchemy-2.0.29-cp38-cp38-manylinux_2_17_x86_64.manylinux2014_x86_64.whl (3.1 MB)\nRequirement already satisfied: pandas in /databricks/python3/lib/python3.8/site-packages (from duckdq==0.0.post0.dev9+g5032943) (1.2.4)\nCollecting whylabs-datasketches\n  Using cached whylabs_datasketches-2.2.0b1-cp38-cp38-manylinux2010_x86_64.whl (405 kB)\nRequirement already satisfied: dill in /databricks/python3/lib/python3.8/site-packages (from duckdq==0.0.post0.dev9+g5032943) (0.3.2)\nCollecting tryingsnake\n  Using cached tryingsnake-0.5.1-py3-none-any.whl\nRequirement already satisfied: pytz&gt;=2017.3 in /databricks/python3/lib/python3.8/site-packages (from pandas-&gt;duckdq==0.0.post0.dev9+g5032943) (2020.5)\nRequirement already satisfied: numpy&gt;=1.16.5 in /databricks/python3/lib/python3.8/site-packages (from pandas-&gt;duckdq==0.0.post0.dev9+g5032943) (1.19.2)\nRequirement already satisfied: python-dateutil&gt;=2.7.3 in /databricks/python3/lib/python3.8/site-packages (from pandas-&gt;duckdq==0.0.post0.dev9+g5032943) (2.8.1)\nRequirement already satisfied: six&gt;=1.5 in /databricks/python3/lib/python3.8/site-packages (from python-dateutil&gt;=2.7.3-&gt;pandas-&gt;duckdq==0.0.post0.dev9+g5032943) (1.15.0)\nCollecting typing-extensions&gt;=4.6.0\n  Using cached typing_extensions-4.11.0-py3-none-any.whl (34 kB)\nCollecting greenlet!=0.4.17\n  Using cached greenlet-3.0.3-cp38-cp38-manylinux_2_24_x86_64.manylinux_2_28_x86_64.whl (622 kB)\nBuilding wheels for collected packages: duckdq\n  Building wheel for duckdq (setup.py): started\n  Building wheel for duckdq (setup.py): finished with status &#39;done&#39;\n  Created wheel for duckdq: filename=duckdq-0.0.post0.dev9+g5032943-py2.py3-none-any.whl size=43626 sha256=9b7f84996fc68309d9bde685cb9f99fd0a8ac6835b191d7fa2da4c92c523b593\n  Stored in directory: /tmp/pip-ephem-wheel-cache-8_s0cwyl/wheels/88/a5/74/5b722e499bbd67855336523f1b88d3078e69eeb50f563fbfce\nSuccessfully built duckdq\nInstalling collected packages: typing-extensions, greenlet, whylabs-datasketches, tryingsnake, SQLAlchemy, duckdb, duckdq\n  Attempting uninstall: typing-extensions\n    Found existing installation: typing-extensions 3.7.4.3\n    Not uninstalling typing-extensions at /databricks/python3/lib/python3.8/site-packages, outside environment /local_disk0/.ephemeral_nfs/envs/pythonEnv-acaaa9d9-904e-4f65-b474-dc8a237e9d4b\n    Can&#39;t uninstall &#39;typing-extensions&#39;. No files were found to uninstall.\nERROR: pip&#39;s dependency resolver does not currently take into account all the packages that are installed. This behaviour is the source of the following dependency conflicts.\ntensorflow-cpu 2.6.0 requires typing-extensions~=3.7.4, but you have typing-extensions 4.11.0 which is incompatible.\nSuccessfully installed SQLAlchemy-2.0.29 duckdb-0.10.1 duckdq-0.0.post0.dev9+g5032943 greenlet-3.0.3 tryingsnake-0.5.1 typing-extensions-4.11.0 whylabs-datasketches-2.2.0b1\nWARNING: You are using pip version 21.0.1; however, version 24.0 is available.\nYou should consider upgrading via the &#39;/local_disk0/.ephemeral_nfs/envs/pythonEnv-acaaa9d9-904e-4f65-b474-dc8a237e9d4b/bin/python -m pip install --upgrade pip&#39; command.\nPython interpreter will be restarted.\n</div>",
       "datasetInfos": [],
       "metadata": {},
       "removedWidgets": [],
       "type": "html"
      }
     },
     "output_type": "display_data"
    }
   ],
   "source": [
    "%pip install git+https://github.com/tdoehmen/duckdq"
   ]
  },
  {
   "cell_type": "code",
   "execution_count": null,
   "metadata": {
    "application/vnd.databricks.v1+cell": {
     "cellMetadata": {
      "byteLimit": 2048000,
      "rowLimit": 10000
     },
     "inputWidgets": {},
     "nuid": "800d1eb5-fefd-4a50-b2c9-3a4a7782e64c",
     "showTitle": false,
     "title": ""
    }
   },
   "outputs": [
    {
     "data": {
      "text/html": [
       "<style scoped>\n",
       "  .ansiout {\n",
       "    display: block;\n",
       "    unicode-bidi: embed;\n",
       "    white-space: pre-wrap;\n",
       "    word-wrap: break-word;\n",
       "    word-break: break-all;\n",
       "    font-family: \"Menlo\", \"Monaco\", \"Consolas\", \"Ubuntu Mono\", \"Source Code Pro\", monospace;\n",
       "    font-size: 13px;\n",
       "    color: #555;\n",
       "    margin-left: 4px;\n",
       "    line-height: 19px;\n",
       "  }\n",
       "</style>\n",
       "<div class=\"ansiout\"></div>"
      ]
     },
     "metadata": {
      "application/vnd.databricks.v1+output": {
       "addedWidgets": {},
       "arguments": {},
       "data": "<div class=\"ansiout\"></div>",
       "datasetInfos": [],
       "metadata": {},
       "removedWidgets": [],
       "type": "html"
      }
     },
     "output_type": "display_data"
    }
   ],
   "source": [
    "from duckdq.checks import Check, CheckLevel"
   ]
  },
  {
   "cell_type": "code",
   "execution_count": null,
   "metadata": {
    "application/vnd.databricks.v1+cell": {
     "cellMetadata": {
      "byteLimit": 2048000,
      "rowLimit": 10000
     },
     "inputWidgets": {},
     "nuid": "94d5f08a-6917-4d0f-a9a4-61acfc41bf88",
     "showTitle": false,
     "title": ""
    }
   },
   "outputs": [
    {
     "data": {
      "text/html": [
       "<style scoped>\n",
       "  .ansiout {\n",
       "    display: block;\n",
       "    unicode-bidi: embed;\n",
       "    white-space: pre-wrap;\n",
       "    word-wrap: break-word;\n",
       "    word-break: break-all;\n",
       "    font-family: \"Menlo\", \"Monaco\", \"Consolas\", \"Ubuntu Mono\", \"Source Code Pro\", monospace;\n",
       "    font-size: 13px;\n",
       "    color: #555;\n",
       "    margin-left: 4px;\n",
       "    line-height: 19px;\n",
       "  }\n",
       "</style>\n",
       "<div class=\"ansiout\"></div>"
      ]
     },
     "metadata": {
      "application/vnd.databricks.v1+output": {
       "addedWidgets": {},
       "arguments": {},
       "data": "<div class=\"ansiout\"></div>",
       "datasetInfos": [],
       "metadata": {},
       "removedWidgets": [],
       "type": "html"
      }
     },
     "output_type": "display_data"
    }
   ],
   "source": [
    "import time\n",
    "import pandas as pd\n",
    "from duckdq.checks import Check, CheckLevel\n",
    "from duckdq.verification_suite import VerificationResult, VerificationSuite\n",
    "from duckdq.engines.state_engine import StateEngine\n",
    "from duckdq.utils.analysis_runner import AnalyzerContext\n",
    "from duckdq.utils.exceptions import StateMergingException\n",
    "from duckdq.verification_suite import VerificationResult, VerificationSuite\n",
    "import duckdb\n",
    "from pyspark.sql.types import StructType, StructField, StringType, DoubleType\n",
    "from pyspark.sql.functions import lit, current_timestamp\n",
    "\n",
    "\n",
    "df = pd.read_json('/dbfs/FileStore/tables/stockTicks.json',  lines=True)\n",
    "\n",
    "verificationResult = (\n",
    "    VerificationSuite()\n",
    "    .on_data(df)\n",
    "    .add_check(\n",
    "    Check(CheckLevel.WARNING, \"Basic Check 2\")\n",
    "    .has_size(lambda mx: mx == 1000)\n",
    "\n",
    "    .is_unique(\"buysell\") \n",
    "    .is_unique(\"date\") \n",
    "    .is_unique(\"ipaddr\") \n",
    "    .is_unique(\"ordertype\") \n",
    "    .is_unique(\"price\") \n",
    "    .is_unique(\"quantity\") \n",
    "    .is_unique(\"symbol\") \n",
    "    .is_unique(\"time\") \n",
    "\n",
    "    .is_complete(\"buysell\") \n",
    "    .is_complete(\"date\") \n",
    "    .is_complete(\"ipaddr\") \n",
    "    .is_complete(\"ordertype\") \n",
    "    .is_complete(\"price\") \n",
    "    .is_complete(\"quantity\") \n",
    "    .is_complete(\"symbol\") \n",
    "    .is_complete(\"time\") \n",
    "\n",
    "    .has_distinctness(\"buysell\", lambda mx: mx > 0.1) \n",
    "    .has_distinctness(\"date\", lambda mx: mx > 0.1) \n",
    "    .has_distinctness(\"ipaddr\", lambda mx: mx > 0.1) \n",
    "    .has_distinctness(\"ordertype\", lambda mx: mx > 0.1) \n",
    "    .has_distinctness(\"price\", lambda mx: mx > 0.1) \n",
    "    .has_distinctness(\"quantity\", lambda mx: mx > 0.1) \n",
    "    .has_distinctness(\"symbol\", lambda mx: mx > 0.1) \n",
    "    .has_distinctness(\"time\", lambda mx: mx > 0.1) \n",
    "    \n",
    "    .has_approx_quantile(\"price\", 0.5, lambda mx: mx < 40 )\n",
    "    .has_approx_quantile(\"quantity\", 0.5, lambda mx: mx < 2000 )\n",
    "\n",
    "    .is_non_negative(\"price\")\n",
    "    .is_non_negative(\"quantity\")\n",
    "\n",
    "    )\n",
    "    .run()\n",
    ")\n"
   ]
  },
  {
   "cell_type": "code",
   "execution_count": null,
   "metadata": {
    "application/vnd.databricks.v1+cell": {
     "cellMetadata": {
      "byteLimit": 2048000,
      "rowLimit": 10000
     },
     "inputWidgets": {},
     "nuid": "3b2c9d09-74cb-40ae-86a0-01de36b2f3f5",
     "showTitle": false,
     "title": ""
    }
   },
   "outputs": [
    {
     "data": {
      "text/html": [
       "<style scoped>\n",
       "  .ansiout {\n",
       "    display: block;\n",
       "    unicode-bidi: embed;\n",
       "    white-space: pre-wrap;\n",
       "    word-wrap: break-word;\n",
       "    word-break: break-all;\n",
       "    font-family: \"Menlo\", \"Monaco\", \"Consolas\", \"Ubuntu Mono\", \"Source Code Pro\", monospace;\n",
       "    font-size: 13px;\n",
       "    color: #555;\n",
       "    margin-left: 4px;\n",
       "    line-height: 19px;\n",
       "  }\n",
       "</style>\n",
       "<div class=\"ansiout\">Out[39]: VerificationResult(status=&lt;CheckStatus.WARNING: 1&gt;, check_results={CheckWithLastConstraintFilterable(level=&lt;CheckLevel.WARNING: 0&gt;, description=&#39;Basic Check 2&#39;, constraints=(SizeConstraint(Size(*)), UniquenessConstraint(Uniqueness(buysell)), UniquenessConstraint(Uniqueness(date)), UniquenessConstraint(Uniqueness(ipaddr)), UniquenessConstraint(Uniqueness(ordertype)), UniquenessConstraint(Uniqueness(price)), UniquenessConstraint(Uniqueness(quantity)), UniquenessConstraint(Uniqueness(symbol)), UniquenessConstraint(Uniqueness(time)), CompletenessConstraint(Completeness(buysell)), CompletenessConstraint(Completeness(date)), CompletenessConstraint(Completeness(ipaddr)), CompletenessConstraint(Completeness(ordertype)), CompletenessConstraint(Completeness(price)), CompletenessConstraint(Completeness(quantity)), CompletenessConstraint(Completeness(symbol)), CompletenessConstraint(Completeness(time)), DistinctnessConstraint(Distinctness(buysell)), DistinctnessConstraint(Distinctness(date)), DistinctnessConstraint(Distinctness(ipaddr)), DistinctnessConstraint(Distinctness(ordertype)), DistinctnessConstraint(Distinctness(price)), DistinctnessConstraint(Distinctness(quantity)), DistinctnessConstraint(Distinctness(symbol)), DistinctnessConstraint(Distinctness(time)), QuantileConstraint(Quantile(price_0.5)), QuantileConstraint(Quantile(quantity_0.5)), ComplianceConstraint(Compliance(price is non-negative)), ComplianceConstraint(Compliance(quantity is non-negative)))): CheckResult(check=CheckWithLastConstraintFilterable(level=&lt;CheckLevel.WARNING: 0&gt;, description=&#39;Basic Check 2&#39;, constraints=(SizeConstraint(Size(*)), UniquenessConstraint(Uniqueness(buysell)), UniquenessConstraint(Uniqueness(date)), UniquenessConstraint(Uniqueness(ipaddr)), UniquenessConstraint(Uniqueness(ordertype)), UniquenessConstraint(Uniqueness(price)), UniquenessConstraint(Uniqueness(quantity)), UniquenessConstraint(Uniqueness(symbol)), UniquenessConstraint(Uniqueness(time)), CompletenessConstraint(Completeness(buysell)), CompletenessConstraint(Completeness(date)), CompletenessConstraint(Completeness(ipaddr)), CompletenessConstraint(Completeness(ordertype)), CompletenessConstraint(Completeness(price)), CompletenessConstraint(Completeness(quantity)), CompletenessConstraint(Completeness(symbol)), CompletenessConstraint(Completeness(time)), DistinctnessConstraint(Distinctness(buysell)), DistinctnessConstraint(Distinctness(date)), DistinctnessConstraint(Distinctness(ipaddr)), DistinctnessConstraint(Distinctness(ordertype)), DistinctnessConstraint(Distinctness(price)), DistinctnessConstraint(Distinctness(quantity)), DistinctnessConstraint(Distinctness(symbol)), DistinctnessConstraint(Distinctness(time)), QuantileConstraint(Quantile(price_0.5)), QuantileConstraint(Quantile(quantity_0.5)), ComplianceConstraint(Compliance(price is non-negative)), ComplianceConstraint(Compliance(quantity is non-negative)))), status=&lt;CheckStatus.WARNING: 1&gt;, constraint_results=[ConstraintResult(constraint=SizeConstraint(Size(*)), status=&lt;ConstraintStatus.SUCCESS: 0&gt;, message=None, metric=DoubleMetric(entity=&lt;Entity.DATASET: 1&gt;, name=&#39;Size&#39;, instance=&#39;*&#39;, value=Success(1000))), ConstraintResult(constraint=UniquenessConstraint(Uniqueness(buysell)), status=&lt;ConstraintStatus.FAILURE: 1&gt;, message=&#39;Value 0.0 does not meet the constraint requirement. &#39;, metric=DoubleMetric(entity=&lt;Entity.MULTICOLUMN: 4&gt;, name=&#39;Uniqueness&#39;, instance=&#39;buysell&#39;, value=Success(0.0))), ConstraintResult(constraint=UniquenessConstraint(Uniqueness(date)), status=&lt;ConstraintStatus.FAILURE: 1&gt;, message=&#39;Value 0.0 does not meet the constraint requirement. &#39;, metric=DoubleMetric(entity=&lt;Entity.MULTICOLUMN: 4&gt;, name=&#39;Uniqueness&#39;, instance=&#39;date&#39;, value=Success(0.0))), ConstraintResult(constraint=UniquenessConstraint(Uniqueness(ipaddr)), status=&lt;ConstraintStatus.FAILURE: 1&gt;, message=&#39;Value 0.957 does not meet the constraint requirement. &#39;, metric=DoubleMetric(entity=&lt;Entity.MULTICOLUMN: 4&gt;, name=&#39;Uniqueness&#39;, instance=&#39;ipaddr&#39;, value=Success(0.957))), ConstraintResult(constraint=UniquenessConstraint(Uniqueness(ordertype)), status=&lt;ConstraintStatus.FAILURE: 1&gt;, message=&#39;Value 0.0 does not meet the constraint requirement. &#39;, metric=DoubleMetric(entity=&lt;Entity.MULTICOLUMN: 4&gt;, name=&#39;Uniqueness&#39;, instance=&#39;ordertype&#39;, value=Success(0.0))), ConstraintResult(constraint=UniquenessConstraint(Uniqueness(price)), status=&lt;ConstraintStatus.FAILURE: 1&gt;, message=&#39;Value 0.966 does not meet the constraint requirement. &#39;, metric=DoubleMetric(entity=&lt;Entity.MULTICOLUMN: 4&gt;, name=&#39;Uniqueness&#39;, instance=&#39;price&#39;, value=Success(0.966))), ConstraintResult(constraint=UniquenessConstraint(Uniqueness(quantity)), status=&lt;ConstraintStatus.FAILURE: 1&gt;, message=&#39;Value 0.909 does not meet the constraint requirement. &#39;, metric=DoubleMetric(entity=&lt;Entity.MULTICOLUMN: 4&gt;, name=&#39;Uniqueness&#39;, instance=&#39;quantity&#39;, value=Success(0.909))), ConstraintResult(constraint=UniquenessConstraint(Uniqueness(symbol)), status=&lt;ConstraintStatus.FAILURE: 1&gt;, message=&#39;Value 0.864 does not meet the constraint requirement. &#39;, metric=DoubleMetric(entity=&lt;Entity.MULTICOLUMN: 4&gt;, name=&#39;Uniqueness&#39;, instance=&#39;symbol&#39;, value=Success(0.864))), ConstraintResult(constraint=UniquenessConstraint(Uniqueness(time)), status=&lt;ConstraintStatus.FAILURE: 1&gt;, message=&#39;Value 0.992 does not meet the constraint requirement. &#39;, metric=DoubleMetric(entity=&lt;Entity.MULTICOLUMN: 4&gt;, name=&#39;Uniqueness&#39;, instance=&#39;time&#39;, value=Success(0.992))), ConstraintResult(constraint=CompletenessConstraint(Completeness(buysell)), status=&lt;ConstraintStatus.FAILURE: 1&gt;, message=&#39;Value 0.964 does not meet the constraint requirement. &#39;, metric=DoubleMetric(entity=&lt;Entity.COLUMN: 2&gt;, name=&#39;Completeness&#39;, instance=&#39;buysell&#39;, value=Success(0.964))), ConstraintResult(constraint=CompletenessConstraint(Completeness(date)), status=&lt;ConstraintStatus.SUCCESS: 0&gt;, message=None, metric=DoubleMetric(entity=&lt;Entity.COLUMN: 2&gt;, name=&#39;Completeness&#39;, instance=&#39;date&#39;, value=Success(1.0))), ConstraintResult(constraint=CompletenessConstraint(Completeness(ipaddr)), status=&lt;ConstraintStatus.FAILURE: 1&gt;, message=&#39;Value 0.957 does not meet the constraint requirement. &#39;, metric=DoubleMetric(entity=&lt;Entity.COLUMN: 2&gt;, name=&#39;Completeness&#39;, instance=&#39;ipaddr&#39;, value=Success(0.957))), ConstraintResult(constraint=CompletenessConstraint(Completeness(ordertype)), status=&lt;ConstraintStatus.SUCCESS: 0&gt;, message=None, metric=DoubleMetric(entity=&lt;Entity.COLUMN: 2&gt;, name=&#39;Completeness&#39;, instance=&#39;ordertype&#39;, value=Success(1.0))), ConstraintResult(constraint=CompletenessConstraint(Completeness(price)), status=&lt;ConstraintStatus.FAILURE: 1&gt;, message=&#39;Value 0.982 does not meet the constraint requirement. &#39;, metric=DoubleMetric(entity=&lt;Entity.COLUMN: 2&gt;, name=&#39;Completeness&#39;, instance=&#39;price&#39;, value=Success(0.982))), ConstraintResult(constraint=CompletenessConstraint(Completeness(quantity)), status=&lt;ConstraintStatus.FAILURE: 1&gt;, message=&#39;Value 0.954 does not meet the constraint requirement. &#39;, metric=DoubleMetric(entity=&lt;Entity.COLUMN: 2&gt;, name=&#39;Completeness&#39;, instance=&#39;quantity&#39;, value=Success(0.954))), ConstraintResult(constraint=CompletenessConstraint(Completeness(symbol)), status=&lt;ConstraintStatus.SUCCESS: 0&gt;, message=None, metric=DoubleMetric(entity=&lt;Entity.COLUMN: 2&gt;, name=&#39;Completeness&#39;, instance=&#39;symbol&#39;, value=Success(1.0))), ConstraintResult(constraint=CompletenessConstraint(Completeness(time)), status=&lt;ConstraintStatus.SUCCESS: 0&gt;, message=None, metric=DoubleMetric(entity=&lt;Entity.COLUMN: 2&gt;, name=&#39;Completeness&#39;, instance=&#39;time&#39;, value=Success(1.0))), ConstraintResult(constraint=DistinctnessConstraint(Distinctness(buysell)), status=&lt;ConstraintStatus.FAILURE: 1&gt;, message=&#39;Value 0.003 does not meet the constraint requirement. &#39;, metric=DoubleMetric(entity=&lt;Entity.MULTICOLUMN: 4&gt;, name=&#39;Distinctness&#39;, instance=&#39;buysell&#39;, value=Success(0.003))), ConstraintResult(constraint=DistinctnessConstraint(Distinctness(date)), status=&lt;ConstraintStatus.FAILURE: 1&gt;, message=&#39;Value 0.03 does not meet the constraint requirement. &#39;, metric=DoubleMetric(entity=&lt;Entity.MULTICOLUMN: 4&gt;, name=&#39;Distinctness&#39;, instance=&#39;date&#39;, value=Success(0.03))), ConstraintResult(constraint=DistinctnessConstraint(Distinctness(ipaddr)), status=&lt;ConstraintStatus.SUCCESS: 0&gt;, message=None, metric=DoubleMetric(entity=&lt;Entity.MULTICOLUMN: 4&gt;, name=&#39;Distinctness&#39;, instance=&#39;ipaddr&#39;, value=Success(0.958))), ConstraintResult(constraint=DistinctnessConstraint(Distinctness(ordertype)), status=&lt;ConstraintStatus.FAILURE: 1&gt;, message=&#39;Value 0.009 does not meet the constraint requirement. &#39;, metric=DoubleMetric(entity=&lt;Entity.MULTICOLUMN: 4&gt;, name=&#39;Distinctness&#39;, instance=&#39;ordertype&#39;, value=Success(0.009))), ConstraintResult(constraint=DistinctnessConstraint(Distinctness(price)), status=&lt;ConstraintStatus.SUCCESS: 0&gt;, message=None, metric=DoubleMetric(entity=&lt;Entity.MULTICOLUMN: 4&gt;, name=&#39;Distinctness&#39;, instance=&#39;price&#39;, value=Success(0.975))), ConstraintResult(constraint=DistinctnessConstraint(Distinctness(quantity)), status=&lt;ConstraintStatus.SUCCESS: 0&gt;, message=None, metric=DoubleMetric(entity=&lt;Entity.MULTICOLUMN: 4&gt;, name=&#39;Distinctness&#39;, instance=&#39;quantity&#39;, value=Success(0.911))), ConstraintResult(constraint=DistinctnessConstraint(Distinctness(symbol)), status=&lt;ConstraintStatus.SUCCESS: 0&gt;, message=None, metric=DoubleMetric(entity=&lt;Entity.MULTICOLUMN: 4&gt;, name=&#39;Distinctness&#39;, instance=&#39;symbol&#39;, value=Success(0.93))), ConstraintResult(constraint=DistinctnessConstraint(Distinctness(time)), status=&lt;ConstraintStatus.SUCCESS: 0&gt;, message=None, metric=DoubleMetric(entity=&lt;Entity.MULTICOLUMN: 4&gt;, name=&#39;Distinctness&#39;, instance=&#39;time&#39;, value=Success(0.996))), ConstraintResult(constraint=QuantileConstraint(Quantile(price_0.5)), status=&lt;ConstraintStatus.SUCCESS: 0&gt;, message=None, metric=DoubleMetric(entity=&lt;Entity.COLUMN: 2&gt;, name=&#39;Quantile&#39;, instance=&#39;price_0.5&#39;, value=Success(20.08799934387207))), ConstraintResult(constraint=QuantileConstraint(Quantile(quantity_0.5)), status=&lt;ConstraintStatus.SUCCESS: 0&gt;, message=None, metric=DoubleMetric(entity=&lt;Entity.COLUMN: 2&gt;, name=&#39;Quantile&#39;, instance=&#39;quantity_0.5&#39;, value=Success(1910.9981689453125))), ConstraintResult(constraint=ComplianceConstraint(Compliance(price is non-negative)), status=&lt;ConstraintStatus.SUCCESS: 0&gt;, message=None, metric=DoubleMetric(entity=&lt;Entity.DATASET: 1&gt;, name=&#39;Compliance&#39;, instance=&#39;price is non-negative&#39;, value=Success(1.0))), ConstraintResult(constraint=ComplianceConstraint(Compliance(quantity is non-negative)), status=&lt;ConstraintStatus.FAILURE: 1&gt;, message=&#39;Value 0.955 does not meet the constraint requirement. &#39;, metric=DoubleMetric(entity=&lt;Entity.DATASET: 1&gt;, name=&#39;Compliance&#39;, instance=&#39;quantity is non-negative&#39;, value=Success(0.955)))])}, metrics={Compliance(quantity is non-negative): DoubleMetric(entity=&lt;Entity.DATASET: 1&gt;, name=&#39;Compliance&#39;, instance=&#39;quantity is non-negative&#39;, value=Success(0.955)), Size(*): DoubleMetric(entity=&lt;Entity.DATASET: 1&gt;, name=&#39;Size&#39;, instance=&#39;*&#39;, value=Success(1000)), Completeness(buysell): DoubleMetric(entity=&lt;Entity.COLUMN: 2&gt;, name=&#39;Completeness&#39;, instance=&#39;buysell&#39;, value=Success(0.964)), Compliance(price is non-negative): DoubleMetric(entity=&lt;Entity.DATASET: 1&gt;, name=&#39;Compliance&#39;, instance=&#39;price is non-negative&#39;, value=Success(1.0)), Completeness(symbol): DoubleMetric(entity=&lt;Entity.COLUMN: 2&gt;, name=&#39;Completeness&#39;, instance=&#39;symbol&#39;, value=Success(1.0)), Completeness(date): DoubleMetric(entity=&lt;Entity.COLUMN: 2&gt;, name=&#39;Completeness&#39;, instance=&#39;date&#39;, value=Success(1.0)), Completeness(ipaddr): DoubleMetric(entity=&lt;Entity.COLUMN: 2&gt;, name=&#39;Completeness&#39;, instance=&#39;ipaddr&#39;, value=Success(0.957)), Completeness(quantity): DoubleMetric(entity=&lt;Entity.COLUMN: 2&gt;, name=&#39;Completeness&#39;, instance=&#39;quantity&#39;, value=Success(0.954)), Completeness(ordertype): DoubleMetric(entity=&lt;Entity.COLUMN: 2&gt;, name=&#39;Completeness&#39;, instance=&#39;ordertype&#39;, value=Success(1.0)), Completeness(time): DoubleMetric(entity=&lt;Entity.COLUMN: 2&gt;, name=&#39;Completeness&#39;, instance=&#39;time&#39;, value=Success(1.0)), Completeness(price): DoubleMetric(entity=&lt;Entity.COLUMN: 2&gt;, name=&#39;Completeness&#39;, instance=&#39;price&#39;, value=Success(0.982)), Distinctness(ipaddr): DoubleMetric(entity=&lt;Entity.MULTICOLUMN: 4&gt;, name=&#39;Distinctness&#39;, instance=&#39;ipaddr&#39;, value=Success(0.958)), Uniqueness(ipaddr): DoubleMetric(entity=&lt;Entity.MULTICOLUMN: 4&gt;, name=&#39;Uniqueness&#39;, instance=&#39;ipaddr&#39;, value=Success(0.957)), Uniqueness(price): DoubleMetric(entity=&lt;Entity.MULTICOLUMN: 4&gt;, name=&#39;Uniqueness&#39;, instance=&#39;price&#39;, value=Success(0.966)), Distinctness(price): DoubleMetric(entity=&lt;Entity.MULTICOLUMN: 4&gt;, name=&#39;Distinctness&#39;, instance=&#39;price&#39;, value=Success(0.975)), Uniqueness(date): DoubleMetric(entity=&lt;Entity.MULTICOLUMN: 4&gt;, name=&#39;Uniqueness&#39;, instance=&#39;date&#39;, value=Success(0.0)), Distinctness(date): DoubleMetric(entity=&lt;Entity.MULTICOLUMN: 4&gt;, name=&#39;Distinctness&#39;, instance=&#39;date&#39;, value=Success(0.03)), Distinctness(buysell): DoubleMetric(entity=&lt;Entity.MULTICOLUMN: 4&gt;, name=&#39;Distinctness&#39;, instance=&#39;buysell&#39;, value=Success(0.003)), Uniqueness(buysell): DoubleMetric(entity=&lt;Entity.MULTICOLUMN: 4&gt;, name=&#39;Uniqueness&#39;, instance=&#39;buysell&#39;, value=Success(0.0)), Uniqueness(symbol): DoubleMetric(entity=&lt;Entity.MULTICOLUMN: 4&gt;, name=&#39;Uniqueness&#39;, instance=&#39;symbol&#39;, value=Success(0.864)), Distinctness(symbol): DoubleMetric(entity=&lt;Entity.MULTICOLUMN: 4&gt;, name=&#39;Distinctness&#39;, instance=&#39;symbol&#39;, value=Success(0.93)), Uniqueness(quantity): DoubleMetric(entity=&lt;Entity.MULTICOLUMN: 4&gt;, name=&#39;Uniqueness&#39;, instance=&#39;quantity&#39;, value=Success(0.909)), Distinctness(quantity): DoubleMetric(entity=&lt;Entity.MULTICOLUMN: 4&gt;, name=&#39;Distinctness&#39;, instance=&#39;quantity&#39;, value=Success(0.911)), Uniqueness(ordertype): DoubleMetric(entity=&lt;Entity.MULTICOLUMN: 4&gt;, name=&#39;Uniqueness&#39;, instance=&#39;ordertype&#39;, value=Success(0.0)), Distinctness(ordertype): DoubleMetric(entity=&lt;Entity.MULTICOLUMN: 4&gt;, name=&#39;Distinctness&#39;, instance=&#39;ordertype&#39;, value=Success(0.009)), Distinctness(time): DoubleMetric(entity=&lt;Entity.MULTICOLUMN: 4&gt;, name=&#39;Distinctness&#39;, instance=&#39;time&#39;, value=Success(0.996)), Uniqueness(time): DoubleMetric(entity=&lt;Entity.MULTICOLUMN: 4&gt;, name=&#39;Uniqueness&#39;, instance=&#39;time&#39;, value=Success(0.992)), Quantile(quantity_0.5): DoubleMetric(entity=&lt;Entity.COLUMN: 2&gt;, name=&#39;Quantile&#39;, instance=&#39;quantity_0.5&#39;, value=Success(1910.9981689453125)), Quantile(price_0.5): DoubleMetric(entity=&lt;Entity.COLUMN: 2&gt;, name=&#39;Quantile&#39;, instance=&#39;price_0.5&#39;, value=Success(20.08799934387207))})</div>"
      ]
     },
     "metadata": {
      "application/vnd.databricks.v1+output": {
       "addedWidgets": {},
       "arguments": {},
       "data": "<div class=\"ansiout\">Out[39]: VerificationResult(status=&lt;CheckStatus.WARNING: 1&gt;, check_results={CheckWithLastConstraintFilterable(level=&lt;CheckLevel.WARNING: 0&gt;, description=&#39;Basic Check 2&#39;, constraints=(SizeConstraint(Size(*)), UniquenessConstraint(Uniqueness(buysell)), UniquenessConstraint(Uniqueness(date)), UniquenessConstraint(Uniqueness(ipaddr)), UniquenessConstraint(Uniqueness(ordertype)), UniquenessConstraint(Uniqueness(price)), UniquenessConstraint(Uniqueness(quantity)), UniquenessConstraint(Uniqueness(symbol)), UniquenessConstraint(Uniqueness(time)), CompletenessConstraint(Completeness(buysell)), CompletenessConstraint(Completeness(date)), CompletenessConstraint(Completeness(ipaddr)), CompletenessConstraint(Completeness(ordertype)), CompletenessConstraint(Completeness(price)), CompletenessConstraint(Completeness(quantity)), CompletenessConstraint(Completeness(symbol)), CompletenessConstraint(Completeness(time)), DistinctnessConstraint(Distinctness(buysell)), DistinctnessConstraint(Distinctness(date)), DistinctnessConstraint(Distinctness(ipaddr)), DistinctnessConstraint(Distinctness(ordertype)), DistinctnessConstraint(Distinctness(price)), DistinctnessConstraint(Distinctness(quantity)), DistinctnessConstraint(Distinctness(symbol)), DistinctnessConstraint(Distinctness(time)), QuantileConstraint(Quantile(price_0.5)), QuantileConstraint(Quantile(quantity_0.5)), ComplianceConstraint(Compliance(price is non-negative)), ComplianceConstraint(Compliance(quantity is non-negative)))): CheckResult(check=CheckWithLastConstraintFilterable(level=&lt;CheckLevel.WARNING: 0&gt;, description=&#39;Basic Check 2&#39;, constraints=(SizeConstraint(Size(*)), UniquenessConstraint(Uniqueness(buysell)), UniquenessConstraint(Uniqueness(date)), UniquenessConstraint(Uniqueness(ipaddr)), UniquenessConstraint(Uniqueness(ordertype)), UniquenessConstraint(Uniqueness(price)), UniquenessConstraint(Uniqueness(quantity)), UniquenessConstraint(Uniqueness(symbol)), UniquenessConstraint(Uniqueness(time)), CompletenessConstraint(Completeness(buysell)), CompletenessConstraint(Completeness(date)), CompletenessConstraint(Completeness(ipaddr)), CompletenessConstraint(Completeness(ordertype)), CompletenessConstraint(Completeness(price)), CompletenessConstraint(Completeness(quantity)), CompletenessConstraint(Completeness(symbol)), CompletenessConstraint(Completeness(time)), DistinctnessConstraint(Distinctness(buysell)), DistinctnessConstraint(Distinctness(date)), DistinctnessConstraint(Distinctness(ipaddr)), DistinctnessConstraint(Distinctness(ordertype)), DistinctnessConstraint(Distinctness(price)), DistinctnessConstraint(Distinctness(quantity)), DistinctnessConstraint(Distinctness(symbol)), DistinctnessConstraint(Distinctness(time)), QuantileConstraint(Quantile(price_0.5)), QuantileConstraint(Quantile(quantity_0.5)), ComplianceConstraint(Compliance(price is non-negative)), ComplianceConstraint(Compliance(quantity is non-negative)))), status=&lt;CheckStatus.WARNING: 1&gt;, constraint_results=[ConstraintResult(constraint=SizeConstraint(Size(*)), status=&lt;ConstraintStatus.SUCCESS: 0&gt;, message=None, metric=DoubleMetric(entity=&lt;Entity.DATASET: 1&gt;, name=&#39;Size&#39;, instance=&#39;*&#39;, value=Success(1000))), ConstraintResult(constraint=UniquenessConstraint(Uniqueness(buysell)), status=&lt;ConstraintStatus.FAILURE: 1&gt;, message=&#39;Value 0.0 does not meet the constraint requirement. &#39;, metric=DoubleMetric(entity=&lt;Entity.MULTICOLUMN: 4&gt;, name=&#39;Uniqueness&#39;, instance=&#39;buysell&#39;, value=Success(0.0))), ConstraintResult(constraint=UniquenessConstraint(Uniqueness(date)), status=&lt;ConstraintStatus.FAILURE: 1&gt;, message=&#39;Value 0.0 does not meet the constraint requirement. &#39;, metric=DoubleMetric(entity=&lt;Entity.MULTICOLUMN: 4&gt;, name=&#39;Uniqueness&#39;, instance=&#39;date&#39;, value=Success(0.0))), ConstraintResult(constraint=UniquenessConstraint(Uniqueness(ipaddr)), status=&lt;ConstraintStatus.FAILURE: 1&gt;, message=&#39;Value 0.957 does not meet the constraint requirement. &#39;, metric=DoubleMetric(entity=&lt;Entity.MULTICOLUMN: 4&gt;, name=&#39;Uniqueness&#39;, instance=&#39;ipaddr&#39;, value=Success(0.957))), ConstraintResult(constraint=UniquenessConstraint(Uniqueness(ordertype)), status=&lt;ConstraintStatus.FAILURE: 1&gt;, message=&#39;Value 0.0 does not meet the constraint requirement. &#39;, metric=DoubleMetric(entity=&lt;Entity.MULTICOLUMN: 4&gt;, name=&#39;Uniqueness&#39;, instance=&#39;ordertype&#39;, value=Success(0.0))), ConstraintResult(constraint=UniquenessConstraint(Uniqueness(price)), status=&lt;ConstraintStatus.FAILURE: 1&gt;, message=&#39;Value 0.966 does not meet the constraint requirement. &#39;, metric=DoubleMetric(entity=&lt;Entity.MULTICOLUMN: 4&gt;, name=&#39;Uniqueness&#39;, instance=&#39;price&#39;, value=Success(0.966))), ConstraintResult(constraint=UniquenessConstraint(Uniqueness(quantity)), status=&lt;ConstraintStatus.FAILURE: 1&gt;, message=&#39;Value 0.909 does not meet the constraint requirement. &#39;, metric=DoubleMetric(entity=&lt;Entity.MULTICOLUMN: 4&gt;, name=&#39;Uniqueness&#39;, instance=&#39;quantity&#39;, value=Success(0.909))), ConstraintResult(constraint=UniquenessConstraint(Uniqueness(symbol)), status=&lt;ConstraintStatus.FAILURE: 1&gt;, message=&#39;Value 0.864 does not meet the constraint requirement. &#39;, metric=DoubleMetric(entity=&lt;Entity.MULTICOLUMN: 4&gt;, name=&#39;Uniqueness&#39;, instance=&#39;symbol&#39;, value=Success(0.864))), ConstraintResult(constraint=UniquenessConstraint(Uniqueness(time)), status=&lt;ConstraintStatus.FAILURE: 1&gt;, message=&#39;Value 0.992 does not meet the constraint requirement. &#39;, metric=DoubleMetric(entity=&lt;Entity.MULTICOLUMN: 4&gt;, name=&#39;Uniqueness&#39;, instance=&#39;time&#39;, value=Success(0.992))), ConstraintResult(constraint=CompletenessConstraint(Completeness(buysell)), status=&lt;ConstraintStatus.FAILURE: 1&gt;, message=&#39;Value 0.964 does not meet the constraint requirement. &#39;, metric=DoubleMetric(entity=&lt;Entity.COLUMN: 2&gt;, name=&#39;Completeness&#39;, instance=&#39;buysell&#39;, value=Success(0.964))), ConstraintResult(constraint=CompletenessConstraint(Completeness(date)), status=&lt;ConstraintStatus.SUCCESS: 0&gt;, message=None, metric=DoubleMetric(entity=&lt;Entity.COLUMN: 2&gt;, name=&#39;Completeness&#39;, instance=&#39;date&#39;, value=Success(1.0))), ConstraintResult(constraint=CompletenessConstraint(Completeness(ipaddr)), status=&lt;ConstraintStatus.FAILURE: 1&gt;, message=&#39;Value 0.957 does not meet the constraint requirement. &#39;, metric=DoubleMetric(entity=&lt;Entity.COLUMN: 2&gt;, name=&#39;Completeness&#39;, instance=&#39;ipaddr&#39;, value=Success(0.957))), ConstraintResult(constraint=CompletenessConstraint(Completeness(ordertype)), status=&lt;ConstraintStatus.SUCCESS: 0&gt;, message=None, metric=DoubleMetric(entity=&lt;Entity.COLUMN: 2&gt;, name=&#39;Completeness&#39;, instance=&#39;ordertype&#39;, value=Success(1.0))), ConstraintResult(constraint=CompletenessConstraint(Completeness(price)), status=&lt;ConstraintStatus.FAILURE: 1&gt;, message=&#39;Value 0.982 does not meet the constraint requirement. &#39;, metric=DoubleMetric(entity=&lt;Entity.COLUMN: 2&gt;, name=&#39;Completeness&#39;, instance=&#39;price&#39;, value=Success(0.982))), ConstraintResult(constraint=CompletenessConstraint(Completeness(quantity)), status=&lt;ConstraintStatus.FAILURE: 1&gt;, message=&#39;Value 0.954 does not meet the constraint requirement. &#39;, metric=DoubleMetric(entity=&lt;Entity.COLUMN: 2&gt;, name=&#39;Completeness&#39;, instance=&#39;quantity&#39;, value=Success(0.954))), ConstraintResult(constraint=CompletenessConstraint(Completeness(symbol)), status=&lt;ConstraintStatus.SUCCESS: 0&gt;, message=None, metric=DoubleMetric(entity=&lt;Entity.COLUMN: 2&gt;, name=&#39;Completeness&#39;, instance=&#39;symbol&#39;, value=Success(1.0))), ConstraintResult(constraint=CompletenessConstraint(Completeness(time)), status=&lt;ConstraintStatus.SUCCESS: 0&gt;, message=None, metric=DoubleMetric(entity=&lt;Entity.COLUMN: 2&gt;, name=&#39;Completeness&#39;, instance=&#39;time&#39;, value=Success(1.0))), ConstraintResult(constraint=DistinctnessConstraint(Distinctness(buysell)), status=&lt;ConstraintStatus.FAILURE: 1&gt;, message=&#39;Value 0.003 does not meet the constraint requirement. &#39;, metric=DoubleMetric(entity=&lt;Entity.MULTICOLUMN: 4&gt;, name=&#39;Distinctness&#39;, instance=&#39;buysell&#39;, value=Success(0.003))), ConstraintResult(constraint=DistinctnessConstraint(Distinctness(date)), status=&lt;ConstraintStatus.FAILURE: 1&gt;, message=&#39;Value 0.03 does not meet the constraint requirement. &#39;, metric=DoubleMetric(entity=&lt;Entity.MULTICOLUMN: 4&gt;, name=&#39;Distinctness&#39;, instance=&#39;date&#39;, value=Success(0.03))), ConstraintResult(constraint=DistinctnessConstraint(Distinctness(ipaddr)), status=&lt;ConstraintStatus.SUCCESS: 0&gt;, message=None, metric=DoubleMetric(entity=&lt;Entity.MULTICOLUMN: 4&gt;, name=&#39;Distinctness&#39;, instance=&#39;ipaddr&#39;, value=Success(0.958))), ConstraintResult(constraint=DistinctnessConstraint(Distinctness(ordertype)), status=&lt;ConstraintStatus.FAILURE: 1&gt;, message=&#39;Value 0.009 does not meet the constraint requirement. &#39;, metric=DoubleMetric(entity=&lt;Entity.MULTICOLUMN: 4&gt;, name=&#39;Distinctness&#39;, instance=&#39;ordertype&#39;, value=Success(0.009))), ConstraintResult(constraint=DistinctnessConstraint(Distinctness(price)), status=&lt;ConstraintStatus.SUCCESS: 0&gt;, message=None, metric=DoubleMetric(entity=&lt;Entity.MULTICOLUMN: 4&gt;, name=&#39;Distinctness&#39;, instance=&#39;price&#39;, value=Success(0.975))), ConstraintResult(constraint=DistinctnessConstraint(Distinctness(quantity)), status=&lt;ConstraintStatus.SUCCESS: 0&gt;, message=None, metric=DoubleMetric(entity=&lt;Entity.MULTICOLUMN: 4&gt;, name=&#39;Distinctness&#39;, instance=&#39;quantity&#39;, value=Success(0.911))), ConstraintResult(constraint=DistinctnessConstraint(Distinctness(symbol)), status=&lt;ConstraintStatus.SUCCESS: 0&gt;, message=None, metric=DoubleMetric(entity=&lt;Entity.MULTICOLUMN: 4&gt;, name=&#39;Distinctness&#39;, instance=&#39;symbol&#39;, value=Success(0.93))), ConstraintResult(constraint=DistinctnessConstraint(Distinctness(time)), status=&lt;ConstraintStatus.SUCCESS: 0&gt;, message=None, metric=DoubleMetric(entity=&lt;Entity.MULTICOLUMN: 4&gt;, name=&#39;Distinctness&#39;, instance=&#39;time&#39;, value=Success(0.996))), ConstraintResult(constraint=QuantileConstraint(Quantile(price_0.5)), status=&lt;ConstraintStatus.SUCCESS: 0&gt;, message=None, metric=DoubleMetric(entity=&lt;Entity.COLUMN: 2&gt;, name=&#39;Quantile&#39;, instance=&#39;price_0.5&#39;, value=Success(20.08799934387207))), ConstraintResult(constraint=QuantileConstraint(Quantile(quantity_0.5)), status=&lt;ConstraintStatus.SUCCESS: 0&gt;, message=None, metric=DoubleMetric(entity=&lt;Entity.COLUMN: 2&gt;, name=&#39;Quantile&#39;, instance=&#39;quantity_0.5&#39;, value=Success(1910.9981689453125))), ConstraintResult(constraint=ComplianceConstraint(Compliance(price is non-negative)), status=&lt;ConstraintStatus.SUCCESS: 0&gt;, message=None, metric=DoubleMetric(entity=&lt;Entity.DATASET: 1&gt;, name=&#39;Compliance&#39;, instance=&#39;price is non-negative&#39;, value=Success(1.0))), ConstraintResult(constraint=ComplianceConstraint(Compliance(quantity is non-negative)), status=&lt;ConstraintStatus.FAILURE: 1&gt;, message=&#39;Value 0.955 does not meet the constraint requirement. &#39;, metric=DoubleMetric(entity=&lt;Entity.DATASET: 1&gt;, name=&#39;Compliance&#39;, instance=&#39;quantity is non-negative&#39;, value=Success(0.955)))])}, metrics={Compliance(quantity is non-negative): DoubleMetric(entity=&lt;Entity.DATASET: 1&gt;, name=&#39;Compliance&#39;, instance=&#39;quantity is non-negative&#39;, value=Success(0.955)), Size(*): DoubleMetric(entity=&lt;Entity.DATASET: 1&gt;, name=&#39;Size&#39;, instance=&#39;*&#39;, value=Success(1000)), Completeness(buysell): DoubleMetric(entity=&lt;Entity.COLUMN: 2&gt;, name=&#39;Completeness&#39;, instance=&#39;buysell&#39;, value=Success(0.964)), Compliance(price is non-negative): DoubleMetric(entity=&lt;Entity.DATASET: 1&gt;, name=&#39;Compliance&#39;, instance=&#39;price is non-negative&#39;, value=Success(1.0)), Completeness(symbol): DoubleMetric(entity=&lt;Entity.COLUMN: 2&gt;, name=&#39;Completeness&#39;, instance=&#39;symbol&#39;, value=Success(1.0)), Completeness(date): DoubleMetric(entity=&lt;Entity.COLUMN: 2&gt;, name=&#39;Completeness&#39;, instance=&#39;date&#39;, value=Success(1.0)), Completeness(ipaddr): DoubleMetric(entity=&lt;Entity.COLUMN: 2&gt;, name=&#39;Completeness&#39;, instance=&#39;ipaddr&#39;, value=Success(0.957)), Completeness(quantity): DoubleMetric(entity=&lt;Entity.COLUMN: 2&gt;, name=&#39;Completeness&#39;, instance=&#39;quantity&#39;, value=Success(0.954)), Completeness(ordertype): DoubleMetric(entity=&lt;Entity.COLUMN: 2&gt;, name=&#39;Completeness&#39;, instance=&#39;ordertype&#39;, value=Success(1.0)), Completeness(time): DoubleMetric(entity=&lt;Entity.COLUMN: 2&gt;, name=&#39;Completeness&#39;, instance=&#39;time&#39;, value=Success(1.0)), Completeness(price): DoubleMetric(entity=&lt;Entity.COLUMN: 2&gt;, name=&#39;Completeness&#39;, instance=&#39;price&#39;, value=Success(0.982)), Distinctness(ipaddr): DoubleMetric(entity=&lt;Entity.MULTICOLUMN: 4&gt;, name=&#39;Distinctness&#39;, instance=&#39;ipaddr&#39;, value=Success(0.958)), Uniqueness(ipaddr): DoubleMetric(entity=&lt;Entity.MULTICOLUMN: 4&gt;, name=&#39;Uniqueness&#39;, instance=&#39;ipaddr&#39;, value=Success(0.957)), Uniqueness(price): DoubleMetric(entity=&lt;Entity.MULTICOLUMN: 4&gt;, name=&#39;Uniqueness&#39;, instance=&#39;price&#39;, value=Success(0.966)), Distinctness(price): DoubleMetric(entity=&lt;Entity.MULTICOLUMN: 4&gt;, name=&#39;Distinctness&#39;, instance=&#39;price&#39;, value=Success(0.975)), Uniqueness(date): DoubleMetric(entity=&lt;Entity.MULTICOLUMN: 4&gt;, name=&#39;Uniqueness&#39;, instance=&#39;date&#39;, value=Success(0.0)), Distinctness(date): DoubleMetric(entity=&lt;Entity.MULTICOLUMN: 4&gt;, name=&#39;Distinctness&#39;, instance=&#39;date&#39;, value=Success(0.03)), Distinctness(buysell): DoubleMetric(entity=&lt;Entity.MULTICOLUMN: 4&gt;, name=&#39;Distinctness&#39;, instance=&#39;buysell&#39;, value=Success(0.003)), Uniqueness(buysell): DoubleMetric(entity=&lt;Entity.MULTICOLUMN: 4&gt;, name=&#39;Uniqueness&#39;, instance=&#39;buysell&#39;, value=Success(0.0)), Uniqueness(symbol): DoubleMetric(entity=&lt;Entity.MULTICOLUMN: 4&gt;, name=&#39;Uniqueness&#39;, instance=&#39;symbol&#39;, value=Success(0.864)), Distinctness(symbol): DoubleMetric(entity=&lt;Entity.MULTICOLUMN: 4&gt;, name=&#39;Distinctness&#39;, instance=&#39;symbol&#39;, value=Success(0.93)), Uniqueness(quantity): DoubleMetric(entity=&lt;Entity.MULTICOLUMN: 4&gt;, name=&#39;Uniqueness&#39;, instance=&#39;quantity&#39;, value=Success(0.909)), Distinctness(quantity): DoubleMetric(entity=&lt;Entity.MULTICOLUMN: 4&gt;, name=&#39;Distinctness&#39;, instance=&#39;quantity&#39;, value=Success(0.911)), Uniqueness(ordertype): DoubleMetric(entity=&lt;Entity.MULTICOLUMN: 4&gt;, name=&#39;Uniqueness&#39;, instance=&#39;ordertype&#39;, value=Success(0.0)), Distinctness(ordertype): DoubleMetric(entity=&lt;Entity.MULTICOLUMN: 4&gt;, name=&#39;Distinctness&#39;, instance=&#39;ordertype&#39;, value=Success(0.009)), Distinctness(time): DoubleMetric(entity=&lt;Entity.MULTICOLUMN: 4&gt;, name=&#39;Distinctness&#39;, instance=&#39;time&#39;, value=Success(0.996)), Uniqueness(time): DoubleMetric(entity=&lt;Entity.MULTICOLUMN: 4&gt;, name=&#39;Uniqueness&#39;, instance=&#39;time&#39;, value=Success(0.992)), Quantile(quantity_0.5): DoubleMetric(entity=&lt;Entity.COLUMN: 2&gt;, name=&#39;Quantile&#39;, instance=&#39;quantity_0.5&#39;, value=Success(1910.9981689453125)), Quantile(price_0.5): DoubleMetric(entity=&lt;Entity.COLUMN: 2&gt;, name=&#39;Quantile&#39;, instance=&#39;price_0.5&#39;, value=Success(20.08799934387207))})</div>",
       "datasetInfos": [],
       "metadata": {},
       "removedWidgets": [],
       "type": "html"
      }
     },
     "output_type": "display_data"
    }
   ],
   "source": [
    "verificationResult"
   ]
  },
  {
   "cell_type": "code",
   "execution_count": null,
   "metadata": {
    "application/vnd.databricks.v1+cell": {
     "cellMetadata": {
      "byteLimit": 2048000,
      "rowLimit": 10000
     },
     "inputWidgets": {},
     "nuid": "d946979a-f9be-4c64-852e-b2e906ea7f4d",
     "showTitle": false,
     "title": ""
    }
   },
   "outputs": [
    {
     "data": {
      "text/html": [
       "<style scoped>\n",
       "  .ansiout {\n",
       "    display: block;\n",
       "    unicode-bidi: embed;\n",
       "    white-space: pre-wrap;\n",
       "    word-wrap: break-word;\n",
       "    word-break: break-all;\n",
       "    font-family: \"Menlo\", \"Monaco\", \"Consolas\", \"Ubuntu Mono\", \"Source Code Pro\", monospace;\n",
       "    font-size: 13px;\n",
       "    color: #555;\n",
       "    margin-left: 4px;\n",
       "    line-height: 19px;\n",
       "  }\n",
       "</style>\n",
       "<div class=\"ansiout\"></div>"
      ]
     },
     "metadata": {
      "application/vnd.databricks.v1+output": {
       "addedWidgets": {},
       "arguments": {},
       "data": "<div class=\"ansiout\"></div>",
       "datasetInfos": [],
       "metadata": {},
       "removedWidgets": [],
       "type": "html"
      }
     },
     "output_type": "display_data"
    }
   ],
   "source": [
    " \n",
    "data = [] \n",
    "\n",
    "for check, check_result in verificationResult.check_results.items():\n",
    "    check_description = check.description\n",
    "    for constraint_result in check_result.constraint_results:\n",
    "        constraint_s = constraint_result.constraint.__str__()\n",
    "        constraint_result_s = constraint_result.status.name\n",
    "        metric_value = constraint_result.metric.value\n",
    "        metric_s = metric_value.get() if metric_value.isSuccess else \"Error retrieving metric\"\n",
    "        data.append({\n",
    "            \"Check\": check_description,\n",
    "            \"Constraint\": constraint_s,\n",
    "            \"Status\": constraint_result_s,\n",
    "            \"Metric\": metric_s\n",
    "        })\n",
    "\n",
    "schema = StructType([\n",
    "    StructField(\"Check\", StringType(), True),\n",
    "    StructField(\"Constraint\", StringType(), True),\n",
    "    StructField(\"Status\", StringType(), True),\n",
    "    StructField(\"Metric\", StringType(), True)  \n",
    "])\n",
    "\n",
    "ver_df = spark.createDataFrame(data, schema=schema)\n",
    "\n",
    "metric_results = ver_df \n",
    "metric_results.withColumn(\"ts\", current_timestamp()).write.mode(\"overwrite\").saveAsTable(\"duck_metrics\")\n"
   ]
  },
  {
   "cell_type": "code",
   "execution_count": null,
   "metadata": {
    "application/vnd.databricks.v1+cell": {
     "cellMetadata": {
      "byteLimit": 2048000,
      "rowLimit": 10000
     },
     "inputWidgets": {},
     "nuid": "9621507f-995f-421a-9794-4d155f7d2a6c",
     "showTitle": false,
     "title": ""
    }
   },
   "outputs": [
    {
     "data": {
      "text/html": [
       "<style scoped>\n",
       "  .table-result-container {\n",
       "    max-height: 300px;\n",
       "    overflow: auto;\n",
       "  }\n",
       "  table, th, td {\n",
       "    border: 1px solid black;\n",
       "    border-collapse: collapse;\n",
       "  }\n",
       "  th, td {\n",
       "    padding: 5px;\n",
       "  }\n",
       "  th {\n",
       "    text-align: left;\n",
       "  }\n",
       "</style><div class='table-result-container'><table class='table-result'><thead style='background-color: white'><tr><th>Check</th><th>Constraint</th><th>Status</th><th>Metric</th><th>batchID</th><th>ts</th></tr></thead><tbody><tr><td>Basic Check 2</td><td>DistinctnessConstraint(Distinctness(price))</td><td>SUCCESS</td><td>0.975</td><td>null</td><td>2024-04-11T02:39:19.342+0000</td></tr><tr><td>Basic Check 2</td><td>DistinctnessConstraint(Distinctness(quantity))</td><td>SUCCESS</td><td>0.911</td><td>null</td><td>2024-04-11T02:39:19.342+0000</td></tr><tr><td>Basic Check 2</td><td>DistinctnessConstraint(Distinctness(symbol))</td><td>SUCCESS</td><td>0.93</td><td>null</td><td>2024-04-11T02:39:19.342+0000</td></tr><tr><td>Basic Check 2</td><td>DistinctnessConstraint(Distinctness(time))</td><td>SUCCESS</td><td>0.996</td><td>null</td><td>2024-04-11T02:39:19.342+0000</td></tr><tr><td>Basic Check 2</td><td>QuantileConstraint(Quantile(price_0.5))</td><td>SUCCESS</td><td>20.08799934387207</td><td>null</td><td>2024-04-11T02:39:19.342+0000</td></tr><tr><td>Basic Check 2</td><td>QuantileConstraint(Quantile(quantity_0.5))</td><td>SUCCESS</td><td>1910.9981689453125</td><td>null</td><td>2024-04-11T02:39:19.342+0000</td></tr><tr><td>Basic Check 2</td><td>ComplianceConstraint(Compliance(price is non-negative))</td><td>SUCCESS</td><td>1.0</td><td>null</td><td>2024-04-11T02:39:19.342+0000</td></tr><tr><td>Basic Check 2</td><td>ComplianceConstraint(Compliance(quantity is non-negative))</td><td>FAILURE</td><td>0.955</td><td>null</td><td>2024-04-11T02:39:19.342+0000</td></tr><tr><td>Basic Check 2</td><td>CompletenessConstraint(Completeness(quantity))</td><td>FAILURE</td><td>0.954</td><td>null</td><td>2024-04-11T02:39:19.342+0000</td></tr><tr><td>Basic Check 2</td><td>CompletenessConstraint(Completeness(symbol))</td><td>SUCCESS</td><td>1.0</td><td>null</td><td>2024-04-11T02:39:19.342+0000</td></tr><tr><td>Basic Check 2</td><td>CompletenessConstraint(Completeness(time))</td><td>SUCCESS</td><td>1.0</td><td>null</td><td>2024-04-11T02:39:19.342+0000</td></tr><tr><td>Basic Check 2</td><td>DistinctnessConstraint(Distinctness(buysell))</td><td>FAILURE</td><td>0.003</td><td>null</td><td>2024-04-11T02:39:19.342+0000</td></tr><tr><td>Basic Check 2</td><td>DistinctnessConstraint(Distinctness(date))</td><td>FAILURE</td><td>0.03</td><td>null</td><td>2024-04-11T02:39:19.342+0000</td></tr><tr><td>Basic Check 2</td><td>DistinctnessConstraint(Distinctness(ipaddr))</td><td>SUCCESS</td><td>0.958</td><td>null</td><td>2024-04-11T02:39:19.342+0000</td></tr><tr><td>Basic Check 2</td><td>DistinctnessConstraint(Distinctness(ordertype))</td><td>FAILURE</td><td>0.009</td><td>null</td><td>2024-04-11T02:39:19.342+0000</td></tr><tr><td>Basic Check 2</td><td>UniquenessConstraint(Uniqueness(symbol))</td><td>FAILURE</td><td>0.864</td><td>null</td><td>2024-04-11T02:39:19.342+0000</td></tr><tr><td>Basic Check 2</td><td>UniquenessConstraint(Uniqueness(time))</td><td>FAILURE</td><td>0.992</td><td>null</td><td>2024-04-11T02:39:19.342+0000</td></tr><tr><td>Basic Check 2</td><td>CompletenessConstraint(Completeness(buysell))</td><td>FAILURE</td><td>0.964</td><td>null</td><td>2024-04-11T02:39:19.342+0000</td></tr><tr><td>Basic Check 2</td><td>CompletenessConstraint(Completeness(date))</td><td>SUCCESS</td><td>1.0</td><td>null</td><td>2024-04-11T02:39:19.342+0000</td></tr><tr><td>Basic Check 2</td><td>CompletenessConstraint(Completeness(ipaddr))</td><td>FAILURE</td><td>0.957</td><td>null</td><td>2024-04-11T02:39:19.342+0000</td></tr><tr><td>Basic Check 2</td><td>CompletenessConstraint(Completeness(ordertype))</td><td>SUCCESS</td><td>1.0</td><td>null</td><td>2024-04-11T02:39:19.342+0000</td></tr><tr><td>Basic Check 2</td><td>CompletenessConstraint(Completeness(price))</td><td>FAILURE</td><td>0.982</td><td>null</td><td>2024-04-11T02:39:19.342+0000</td></tr><tr><td>Basic Check 2</td><td>SizeConstraint(Size(*))</td><td>SUCCESS</td><td>1000.0</td><td>null</td><td>2024-04-11T02:39:19.342+0000</td></tr><tr><td>Basic Check 2</td><td>UniquenessConstraint(Uniqueness(buysell))</td><td>FAILURE</td><td>0.0</td><td>null</td><td>2024-04-11T02:39:19.342+0000</td></tr><tr><td>Basic Check 2</td><td>UniquenessConstraint(Uniqueness(date))</td><td>FAILURE</td><td>0.0</td><td>null</td><td>2024-04-11T02:39:19.342+0000</td></tr><tr><td>Basic Check 2</td><td>UniquenessConstraint(Uniqueness(ipaddr))</td><td>FAILURE</td><td>0.957</td><td>null</td><td>2024-04-11T02:39:19.342+0000</td></tr><tr><td>Basic Check 2</td><td>UniquenessConstraint(Uniqueness(ordertype))</td><td>FAILURE</td><td>0.0</td><td>null</td><td>2024-04-11T02:39:19.342+0000</td></tr><tr><td>Basic Check 2</td><td>UniquenessConstraint(Uniqueness(price))</td><td>FAILURE</td><td>0.966</td><td>null</td><td>2024-04-11T02:39:19.342+0000</td></tr><tr><td>Basic Check 2</td><td>UniquenessConstraint(Uniqueness(quantity))</td><td>FAILURE</td><td>0.909</td><td>null</td><td>2024-04-11T02:39:19.342+0000</td></tr></tbody></table></div>"
      ]
     },
     "metadata": {
      "application/vnd.databricks.v1+output": {
       "addedWidgets": {},
       "aggData": [],
       "aggError": "",
       "aggOverflow": false,
       "aggSchema": [],
       "aggSeriesLimitReached": false,
       "aggType": "",
       "arguments": {},
       "columnCustomDisplayInfos": {},
       "data": [
        [
         "Basic Check 2",
         "DistinctnessConstraint(Distinctness(price))",
         "SUCCESS",
         0.975,
         null,
         "2024-04-11T02:39:19.342+0000"
        ],
        [
         "Basic Check 2",
         "DistinctnessConstraint(Distinctness(quantity))",
         "SUCCESS",
         0.911,
         null,
         "2024-04-11T02:39:19.342+0000"
        ],
        [
         "Basic Check 2",
         "DistinctnessConstraint(Distinctness(symbol))",
         "SUCCESS",
         0.93,
         null,
         "2024-04-11T02:39:19.342+0000"
        ],
        [
         "Basic Check 2",
         "DistinctnessConstraint(Distinctness(time))",
         "SUCCESS",
         0.996,
         null,
         "2024-04-11T02:39:19.342+0000"
        ],
        [
         "Basic Check 2",
         "QuantileConstraint(Quantile(price_0.5))",
         "SUCCESS",
         20.08799934387207,
         null,
         "2024-04-11T02:39:19.342+0000"
        ],
        [
         "Basic Check 2",
         "QuantileConstraint(Quantile(quantity_0.5))",
         "SUCCESS",
         1910.9981689453125,
         null,
         "2024-04-11T02:39:19.342+0000"
        ],
        [
         "Basic Check 2",
         "ComplianceConstraint(Compliance(price is non-negative))",
         "SUCCESS",
         1,
         null,
         "2024-04-11T02:39:19.342+0000"
        ],
        [
         "Basic Check 2",
         "ComplianceConstraint(Compliance(quantity is non-negative))",
         "FAILURE",
         0.955,
         null,
         "2024-04-11T02:39:19.342+0000"
        ],
        [
         "Basic Check 2",
         "CompletenessConstraint(Completeness(quantity))",
         "FAILURE",
         0.954,
         null,
         "2024-04-11T02:39:19.342+0000"
        ],
        [
         "Basic Check 2",
         "CompletenessConstraint(Completeness(symbol))",
         "SUCCESS",
         1,
         null,
         "2024-04-11T02:39:19.342+0000"
        ],
        [
         "Basic Check 2",
         "CompletenessConstraint(Completeness(time))",
         "SUCCESS",
         1,
         null,
         "2024-04-11T02:39:19.342+0000"
        ],
        [
         "Basic Check 2",
         "DistinctnessConstraint(Distinctness(buysell))",
         "FAILURE",
         0.003,
         null,
         "2024-04-11T02:39:19.342+0000"
        ],
        [
         "Basic Check 2",
         "DistinctnessConstraint(Distinctness(date))",
         "FAILURE",
         0.03,
         null,
         "2024-04-11T02:39:19.342+0000"
        ],
        [
         "Basic Check 2",
         "DistinctnessConstraint(Distinctness(ipaddr))",
         "SUCCESS",
         0.958,
         null,
         "2024-04-11T02:39:19.342+0000"
        ],
        [
         "Basic Check 2",
         "DistinctnessConstraint(Distinctness(ordertype))",
         "FAILURE",
         0.009,
         null,
         "2024-04-11T02:39:19.342+0000"
        ],
        [
         "Basic Check 2",
         "UniquenessConstraint(Uniqueness(symbol))",
         "FAILURE",
         0.864,
         null,
         "2024-04-11T02:39:19.342+0000"
        ],
        [
         "Basic Check 2",
         "UniquenessConstraint(Uniqueness(time))",
         "FAILURE",
         0.992,
         null,
         "2024-04-11T02:39:19.342+0000"
        ],
        [
         "Basic Check 2",
         "CompletenessConstraint(Completeness(buysell))",
         "FAILURE",
         0.964,
         null,
         "2024-04-11T02:39:19.342+0000"
        ],
        [
         "Basic Check 2",
         "CompletenessConstraint(Completeness(date))",
         "SUCCESS",
         1,
         null,
         "2024-04-11T02:39:19.342+0000"
        ],
        [
         "Basic Check 2",
         "CompletenessConstraint(Completeness(ipaddr))",
         "FAILURE",
         0.957,
         null,
         "2024-04-11T02:39:19.342+0000"
        ],
        [
         "Basic Check 2",
         "CompletenessConstraint(Completeness(ordertype))",
         "SUCCESS",
         1,
         null,
         "2024-04-11T02:39:19.342+0000"
        ],
        [
         "Basic Check 2",
         "CompletenessConstraint(Completeness(price))",
         "FAILURE",
         0.982,
         null,
         "2024-04-11T02:39:19.342+0000"
        ],
        [
         "Basic Check 2",
         "SizeConstraint(Size(*))",
         "SUCCESS",
         1000,
         null,
         "2024-04-11T02:39:19.342+0000"
        ],
        [
         "Basic Check 2",
         "UniquenessConstraint(Uniqueness(buysell))",
         "FAILURE",
         0,
         null,
         "2024-04-11T02:39:19.342+0000"
        ],
        [
         "Basic Check 2",
         "UniquenessConstraint(Uniqueness(date))",
         "FAILURE",
         0,
         null,
         "2024-04-11T02:39:19.342+0000"
        ],
        [
         "Basic Check 2",
         "UniquenessConstraint(Uniqueness(ipaddr))",
         "FAILURE",
         0.957,
         null,
         "2024-04-11T02:39:19.342+0000"
        ],
        [
         "Basic Check 2",
         "UniquenessConstraint(Uniqueness(ordertype))",
         "FAILURE",
         0,
         null,
         "2024-04-11T02:39:19.342+0000"
        ],
        [
         "Basic Check 2",
         "UniquenessConstraint(Uniqueness(price))",
         "FAILURE",
         0.966,
         null,
         "2024-04-11T02:39:19.342+0000"
        ],
        [
         "Basic Check 2",
         "UniquenessConstraint(Uniqueness(quantity))",
         "FAILURE",
         0.909,
         null,
         "2024-04-11T02:39:19.342+0000"
        ]
       ],
       "datasetInfos": [],
       "dbfsResultPath": null,
       "isJsonSchema": true,
       "metadata": {},
       "overflow": false,
       "plotOptions": {
        "customPlotOptions": {},
        "displayType": "table",
        "pivotAggregation": null,
        "pivotColumns": null,
        "xColumns": null,
        "yColumns": null
       },
       "removedWidgets": [],
       "schema": [
        {
         "metadata": "{}",
         "name": "Check",
         "type": "\"string\""
        },
        {
         "metadata": "{}",
         "name": "Constraint",
         "type": "\"string\""
        },
        {
         "metadata": "{}",
         "name": "Status",
         "type": "\"string\""
        },
        {
         "metadata": "{}",
         "name": "Metric",
         "type": "\"double\""
        },
        {
         "metadata": "{}",
         "name": "batchID",
         "type": "\"long\""
        },
        {
         "metadata": "{}",
         "name": "ts",
         "type": "\"timestamp\""
        }
       ],
       "type": "table"
      }
     },
     "output_type": "display_data"
    },
    {
     "data": {
      "text/plain": [
       "Databricks visualization. Run in Databricks to view."
      ]
     },
     "metadata": {
      "application/vnd.databricks.v1.subcommand+json": {
       "baseErrorDetails": null,
       "bindings": {},
       "collapsed": false,
       "command": "%python\n__backend_agg_display_orig = display\n__backend_agg_dfs = []\ndef __backend_agg_display_new(df):\n    __backend_agg_df_modules = [\"pandas.core.frame\", \"databricks.koalas.frame\", \"pyspark.sql.dataframe\", \"pyspark.pandas.frame\", \"pyspark.sql.connect.dataframe\"]\n    if (type(df).__module__ in __backend_agg_df_modules and type(df).__name__ == 'DataFrame') or isinstance(df, list):\n        __backend_agg_dfs.append(df)\n\ndisplay = __backend_agg_display_new\n\ndef __backend_agg_user_code_fn():\n    import base64\n    exec(base64.standard_b64decode(\"ZnJvbSBweXNwYXJrLnNxbC5zZXNzaW9uIGltcG9ydCBTcGFya1Nlc3Npb24KZnJvbSBweXNwYXJrLnNxbCBpbXBvcnQgUm93CmZyb20gcHlzcGFyay5zcWwuZnVuY3Rpb25zIGltcG9ydCBjdXJyZW50X3RpbWVzdGFtcAppbXBvcnQgcGFuZGFzIGFzIHBkCmZyb20gcHlzcGFyay5zcWwuZnVuY3Rpb25zIGltcG9ydCBjb2wKCmRmID0gc3BhcmsudGFibGUoImR1Y2tfbWV0cmljcyIpCmRmID0gZGYud2l0aENvbHVtbigiTWV0cmljIiwgY29sKCJNZXRyaWMiKS5jYXN0KERvdWJsZVR5cGUoKSkpCgpkaXNwbGF5KGRmKQoKIyBpbXBvcnQgbWF0cGxvdGxpYi5weXBsb3QgYXMgcGx0CiMgaW1wb3J0IG1hdHBsb3RsaWIuZGF0ZXMgYXMgbWRhdGVzCgojIHBsdC5maWd1cmUoZmlnc2l6ZT0oMTAsIDYpKQoKIyAjIFBsb3QgZWFjaCBtZXRyaWMKIyBwbHQucGxvdChwZGZfYVsndHMnXSwgcGRmX2FbJ01ldHJpYyddLCBsYWJlbD0nTWV0cmljIEEnLCBtYXJrZXI9J28nLCBsaW5lc3R5bGU9Jy0nKQojIHBsdC5wbG90KHBkZl9iWyd0cyddLCBwZGZfYlsnTWV0cmljJ10sIGxhYmVsPSdNZXRyaWMgQicsIG1hcmtlcj0nbycsIGxpbmVzdHlsZT0nLScpCiMgcGx0LnBsb3QocGRmX2NbJ3RzJ10sIHBkZl9jWydNZXRyaWMnXSwgbGFiZWw9J01ldHJpYyBDJywgbWFya2VyPSdvJywgbGluZXN0eWxlPSctJykKCiMgIyBGb3JtYXR0aW5nIHRoZSBwbG90CiMgcGx0LnRpdGxlKCdNZXRyaWNzIE92ZXIgVGltZScpCiMgcGx0LnhsYWJlbCgnVGltZXN0YW1wJykKIyBwbHQueWxhYmVsKCdNZXRyaWMgVmFsdWUnKQojIHBsdC5sZWdlbmQoKQojIHBsdC54dGlja3Mocm90YXRpb249NDUpCiMgcGx0LmdjYSgpLnhheGlzLnNldF9tYWpvcl9mb3JtYXR0ZXIobWRhdGVzLkRhdGVGb3JtYXR0ZXIoJyVZLSVtLSVkICVIOiVNOiVTJykpCiMgcGx0LmdjYSgpLnhheGlzLnNldF9tYWpvcl9sb2NhdG9yKG1kYXRlcy5BdXRvRGF0ZUxvY2F0b3IoKSkKCiMgcGx0LnRpZ2h0X2xheW91dCgpICAjIEFkanVzdCBsYXlvdXQgdG8gbm90IGN1dCBvZmYgbGFiZWxzCiMgcGx0LnNob3coKQo=\").decode())\n\ntry:\n    # run user code\n    __backend_agg_user_code_fn()\n\n    #reset display function\n    display = __backend_agg_display_orig\n\n    if len(__backend_agg_dfs) > 0:\n        # create a temp view\n        if type(__backend_agg_dfs[0]).__module__ == \"databricks.koalas.frame\":\n            # koalas dataframe\n            __backend_agg_dfs[0].to_spark().createOrReplaceTempView(\"DatabricksView7eaecae\")\n        elif type(__backend_agg_dfs[0]).__module__ == \"pandas.core.frame\" or isinstance(__backend_agg_dfs[0], list):\n            # pandas dataframe\n            spark.createDataFrame(__backend_agg_dfs[0]).createOrReplaceTempView(\"DatabricksView7eaecae\")\n        else:\n            __backend_agg_dfs[0].createOrReplaceTempView(\"DatabricksView7eaecae\")\n        #run backend agg\n        display(spark.sql(\"\"\"WITH q AS (select * from DatabricksView7eaecae) SELECT `ts`,SUM(`Metric`) `column_131b4d1732`,`Constraint` FROM q GROUP BY `Constraint`,`ts`\"\"\"))\n    else:\n        displayHTML(\"dataframe no longer exists. If you're using dataframe.display(), use display(dataframe) instead.\")\n\n\nfinally:\n    spark.sql(\"drop view if exists DatabricksView7eaecae\")\n    display = __backend_agg_display_orig\n    del __backend_agg_display_new\n    del __backend_agg_display_orig\n    del __backend_agg_dfs\n    del __backend_agg_user_code_fn\n\n",
       "commandTitle": "Visualization 1",
       "commandType": "auto",
       "commandVersion": 0,
       "commentThread": [],
       "commentsVisible": false,
       "contentSha256Hex": null,
       "customPlotOptions": {
        "redashChart": [
         {
          "key": "type",
          "value": "CHART"
         },
         {
          "key": "options",
          "value": {
           "alignYAxesAtZero": true,
           "coefficient": 1,
           "columnConfigurationMap": {
            "series": {
             "column": "Constraint",
             "id": "column_131b4d1734"
            },
            "x": {
             "column": "Constraint",
             "id": "column_fd7471a43"
            },
            "y": [
             {
              "column": "Metric",
              "id": "column_131b4d1732",
              "transform": "AVG"
             }
            ]
           },
           "dateTimeFormat": "DD/MM/YYYY HH:mm",
           "direction": {
            "type": "counterclockwise"
           },
           "error_y": {
            "type": "data",
            "visible": true
           },
           "globalSeriesType": "column",
           "isAggregationOn": true,
           "legend": {
            "traceorder": "normal"
           },
           "missingValuesAsZero": true,
           "numberFormat": "0,0.[00]",
           "percentFormat": "0[.]00%",
           "series": {
            "error_y": {
             "type": "data",
             "visible": true
            },
            "stacking": null
           },
           "seriesOptions": {
            "column_131b4d1732": {
             "type": "column",
             "yAxis": 0
            }
           },
           "showDataLabels": true,
           "sizemode": "diameter",
           "sortX": true,
           "sortY": true,
           "swappedAxes": false,
           "textFormat": "",
           "useAggregationsUi": true,
           "valuesOptions": {},
           "version": 2,
           "xAxis": {
            "labels": {
             "enabled": false
            },
            "type": "-"
           },
           "yAxis": [
            {
             "type": "-"
            },
            {
             "opposite": true,
             "type": "-"
            }
           ]
          }
         }
        ]
       },
       "datasetPreviewNameToCmdIdMap": {},
       "diffDeletes": [],
       "diffInserts": [],
       "displayType": "redashChart",
       "error": null,
       "errorDetails": null,
       "errorSummary": null,
       "errorTraceType": null,
       "finishTime": 0,
       "globalVars": {},
       "guid": "",
       "height": "auto",
       "hideCommandCode": false,
       "hideCommandResult": false,
       "iPythonMetadata": null,
       "inputWidgets": {},
       "isLockedInExamMode": false,
       "latestUser": "a user",
       "latestUserId": null,
       "listResultMetadata": null,
       "metadata": {},
       "nuid": "94f3e6fc-3840-47e7-8dc8-126958ea6543",
       "origId": 0,
       "parentHierarchy": [],
       "pivotAggregation": null,
       "pivotColumns": null,
       "position": 13,
       "resultDbfsErrorMessage": null,
       "resultDbfsStatus": "INLINED_IN_TREE",
       "results": null,
       "showCommandTitle": false,
       "startTime": 0,
       "state": "input",
       "streamStates": {},
       "subcommandOptions": {
        "queryPlan": {
         "groups": [
          {
           "column": "Constraint",
           "type": "column"
          },
          {
           "column": "Constraint",
           "type": "column"
          }
         ],
         "selects": [
          {
           "alias": "column_131b4d1732",
           "args": [
            {
             "column": "Metric",
             "type": "column"
            }
           ],
           "function": "AVG",
           "type": "function"
          },
          {
           "column": "Constraint",
           "type": "column"
          },
          {
           "column": "Constraint",
           "type": "column"
          }
         ]
        }
       },
       "submitTime": 0,
       "subtype": "tableResultSubCmd.visualization",
       "tableResultIndex": 0,
       "useConsistentColors": false,
       "version": "CommandV1",
       "width": "auto",
       "workflows": [],
       "xColumns": null,
       "yColumns": null
      }
     },
     "output_type": "display_data"
    },
    {
     "data": {
      "text/plain": [
       "Databricks visualization. Run in Databricks to view."
      ]
     },
     "metadata": {
      "application/vnd.databricks.v1.subcommand+json": {
       "baseErrorDetails": null,
       "bindings": {},
       "collapsed": false,
       "command": "%python\n__backend_agg_display_orig = display\n__backend_agg_dfs = []\ndef __backend_agg_display_new(df):\n    __backend_agg_df_modules = [\"pandas.core.frame\", \"databricks.koalas.frame\", \"pyspark.sql.dataframe\", \"pyspark.pandas.frame\", \"pyspark.sql.connect.dataframe\"]\n    if (type(df).__module__ in __backend_agg_df_modules and type(df).__name__ == 'DataFrame') or isinstance(df, list):\n        __backend_agg_dfs.append(df)\n\ndisplay = __backend_agg_display_new\n\ndef __backend_agg_user_code_fn():\n    import base64\n    exec(base64.standard_b64decode(\"ZnJvbSBweXNwYXJrLnNxbC5zZXNzaW9uIGltcG9ydCBTcGFya1Nlc3Npb24KZnJvbSBweXNwYXJrLnNxbCBpbXBvcnQgUm93CmZyb20gcHlzcGFyay5zcWwuZnVuY3Rpb25zIGltcG9ydCBjdXJyZW50X3RpbWVzdGFtcAppbXBvcnQgcGFuZGFzIGFzIHBkCmZyb20gcHlzcGFyay5zcWwuZnVuY3Rpb25zIGltcG9ydCBjb2wKCmRmID0gc3BhcmsudGFibGUoImR1Y2tfbWV0cmljcyIpCmRmID0gZGYud2l0aENvbHVtbigiTWV0cmljIiwgY29sKCJNZXRyaWMiKS5jYXN0KERvdWJsZVR5cGUoKSkpCmRmX2ZpbHRlcmVkID0gZGYuZmlsdGVyKGNvbCgiQ29uc3RyYWludCIpLnN0YXJ0c3dpdGgoIkNvbXBsZXRlbmVzc0NvbnN0cmFpbnQiKSkKZGlzcGxheShkZl9maWx0ZXJlZCkK\").decode())\n\ntry:\n    # run user code\n    __backend_agg_user_code_fn()\n\n    #reset display function\n    display = __backend_agg_display_orig\n\n    if len(__backend_agg_dfs) > 0:\n        # create a temp view\n        if type(__backend_agg_dfs[0]).__module__ == \"databricks.koalas.frame\":\n            # koalas dataframe\n            __backend_agg_dfs[0].to_spark().createOrReplaceTempView(\"DatabricksView28135d7\")\n        elif type(__backend_agg_dfs[0]).__module__ == \"pandas.core.frame\" or isinstance(__backend_agg_dfs[0], list):\n            # pandas dataframe\n            spark.createDataFrame(__backend_agg_dfs[0]).createOrReplaceTempView(\"DatabricksView28135d7\")\n        else:\n            __backend_agg_dfs[0].createOrReplaceTempView(\"DatabricksView28135d7\")\n        #run backend agg\n        display(spark.sql(\"\"\"WITH q AS (select * from DatabricksView28135d7) SELECT `Status`,SUM(`Metric`) `column_131b4d1753` FROM q GROUP BY `Status`\"\"\"))\n    else:\n        displayHTML(\"dataframe no longer exists. If you're using dataframe.display(), use display(dataframe) instead.\")\n\n\nfinally:\n    spark.sql(\"drop view if exists DatabricksView28135d7\")\n    display = __backend_agg_display_orig\n    del __backend_agg_display_new\n    del __backend_agg_display_orig\n    del __backend_agg_dfs\n    del __backend_agg_user_code_fn\n\n",
       "commandTitle": "Visualization 2",
       "commandType": "auto",
       "commandVersion": 0,
       "commentThread": [],
       "commentsVisible": false,
       "contentSha256Hex": null,
       "customPlotOptions": {
        "redashChart": [
         {
          "key": "type",
          "value": "CHART"
         },
         {
          "key": "options",
          "value": {
           "alignYAxesAtZero": true,
           "coefficient": 1,
           "columnConfigurationMap": {
            "x": {
             "column": "Status",
             "id": "column_131b4d1755"
            },
            "y": [
             {
              "column": "Metric",
              "id": "column_131b4d1753",
              "transform": "SUM"
             }
            ]
           },
           "dateTimeFormat": "DD/MM/YYYY HH:mm",
           "direction": {
            "type": "counterclockwise"
           },
           "error_y": {
            "type": "data",
            "visible": true
           },
           "globalSeriesType": "pie",
           "isAggregationOn": true,
           "legend": {
            "traceorder": "normal"
           },
           "missingValuesAsZero": true,
           "numberFormat": "0,0.[00000]",
           "percentFormat": "0[.]00%",
           "series": {
            "error_y": {
             "type": "data",
             "visible": true
            },
            "stacking": null
           },
           "seriesOptions": {
            "column_131b4d1753": {
             "type": "pie",
             "yAxis": 0
            }
           },
           "showDataLabels": true,
           "sizemode": "diameter",
           "sortX": true,
           "sortY": true,
           "swappedAxes": false,
           "textFormat": "",
           "useAggregationsUi": true,
           "valuesOptions": {},
           "version": 2,
           "xAxis": {
            "labels": {
             "enabled": true
            },
            "type": "-"
           },
           "yAxis": [
            {
             "type": "-"
            },
            {
             "opposite": true,
             "type": "-"
            }
           ]
          }
         }
        ]
       },
       "datasetPreviewNameToCmdIdMap": {},
       "diffDeletes": [],
       "diffInserts": [],
       "displayType": "redashChart",
       "error": null,
       "errorDetails": null,
       "errorSummary": null,
       "errorTraceType": null,
       "finishTime": 0,
       "globalVars": {},
       "guid": "",
       "height": "auto",
       "hideCommandCode": false,
       "hideCommandResult": false,
       "iPythonMetadata": null,
       "inputWidgets": {},
       "isLockedInExamMode": false,
       "latestUser": "a user",
       "latestUserId": null,
       "listResultMetadata": null,
       "metadata": {},
       "nuid": "729bb8e6-3a4c-4f7a-aa02-4705565165c7",
       "origId": 0,
       "parentHierarchy": [],
       "pivotAggregation": null,
       "pivotColumns": null,
       "position": 14,
       "resultDbfsErrorMessage": null,
       "resultDbfsStatus": "INLINED_IN_TREE",
       "results": null,
       "showCommandTitle": false,
       "startTime": 0,
       "state": "input",
       "streamStates": {},
       "subcommandOptions": {
        "queryPlan": {
         "groups": [
          {
           "column": "Status",
           "type": "column"
          }
         ],
         "selects": [
          {
           "column": "Status",
           "type": "column"
          },
          {
           "alias": "column_131b4d1753",
           "args": [
            {
             "column": "Metric",
             "type": "column"
            }
           ],
           "function": "SUM",
           "type": "function"
          }
         ]
        }
       },
       "submitTime": 0,
       "subtype": "tableResultSubCmd.visualization",
       "tableResultIndex": 0,
       "useConsistentColors": false,
       "version": "CommandV1",
       "width": "auto",
       "workflows": [],
       "xColumns": null,
       "yColumns": null
      }
     },
     "output_type": "display_data"
    }
   ],
   "source": [
    "from pyspark.sql.session import SparkSession\n",
    "from pyspark.sql import Row\n",
    "from pyspark.sql.functions import current_timestamp\n",
    "import pandas as pd\n",
    "from pyspark.sql.functions import col\n",
    "from pyspark.sql.types import StructType, StructField, StringType, DoubleType\n",
    "\n",
    "\n",
    "df = spark.table(\"duck_metrics\")\n",
    "df = df.withColumn(\"Metric\", col(\"Metric\").cast(DoubleType()))\n",
    "# df_filtered = df.filter(col(\"Constraint\").startswith(\"CompletenessConstraint\") | col(\"Constraint\").startswith(\"DistinctnessConstraint\"))\n",
    "display(df)\n"
   ]
  }
 ],
 "metadata": {
  "application/vnd.databricks.v1+notebook": {
   "dashboards": [],
   "language": "python",
   "notebookMetadata": {
    "mostRecentlyExecutedCommandWithImplicitDF": {
     "commandId": 2440729243756787,
     "dataframes": [
      "_sqldf"
     ]
    },
    "pythonIndentUnit": 4
   },
   "notebookName": "Fixed DBFS",
   "widgets": {}
  },
  "language_info": {
   "name": "python"
  }
 },
 "nbformat": 4,
 "nbformat_minor": 0
}
