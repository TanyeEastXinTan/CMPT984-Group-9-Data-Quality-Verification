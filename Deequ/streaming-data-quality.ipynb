{
 "cells": [
  {
   "cell_type": "markdown",
   "metadata": {
    "application/vnd.databricks.v1+cell": {
     "cellMetadata": {},
     "inputWidgets": {},
     "nuid": "f4984fe1-fe2d-4531-86a9-cb55796f1042",
     "showTitle": false,
     "title": ""
    }
   },
   "source": [
    "##Streaming Data Quality using AWS Deequ\n",
    "\n",
    "This notebook uses the `Deequ` package from AWS to run analysis on a streaming data source, and to derive key quality metrics about the data. Deequ is able to provide a variety of quantitative statistics and metrics about a dataset, and has utilities to generate, track, and interpret these metrics. See [this blog](https://aws.amazon.com/blogs/big-data/test-data-quality-at-scale-with-deequ/) for more detailed examples, or check the [GitHub repo](https://github.com/awslabs/deequ/).\n",
    "\n",
    "For this notebook, we use structured streaming, combined with Delta tables and the Deequ package, to provide a live view of a dataset's \"health\".\n",
    "\n",
    "<div style=\"text-align: center; line-height: 0; padding-top: 9px;\"><img src=\"https://i.imgur.com/zrMP9oM.png\" height=\"700\" width = \"700\"/></div>\n",
    "\n",
    "We'll use several Deequ metrics in our analysis; some of these are explained below. The full list can be found in the above links.\n",
    "- `ApproxCountDistinct`: returns the approximate count of distinct values in a column\n",
    "- `Distinctness`: returns the fraction of (distinct values / total values) in a column\n",
    "- `Completeness`: returns the fraction of values that are non-null in a column\n",
    "- `Compliance`: returns the fraction of values in a column that meet a given constraint\n",
    "\n",
    "_Note: this notebook requires the Deequ package; add the package from Maven Central using com.amazon.deequ. For Slack notifications, [spark-slack](https://github.com/MrPowers/spark-slack) or a similar package is required._"
   ]
  },
  {
   "cell_type": "markdown",
   "metadata": {
    "application/vnd.databricks.v1+cell": {
     "cellMetadata": {},
     "inputWidgets": {},
     "nuid": "93b07e19-367a-4694-9fb9-cfd98dee834d",
     "showTitle": false,
     "title": ""
    }
   },
   "source": [
    "Before we begin, we need to do some cleanup; we'll also need to download some data."
   ]
  },
  {
   "cell_type": "code",
   "execution_count": 0,
   "metadata": {
    "application/vnd.databricks.v1+cell": {
     "cellMetadata": {},
     "inputWidgets": {},
     "nuid": "b39531f1-5086-46f3-8f3d-3beeeffaebb2",
     "showTitle": false,
     "title": ""
    }
   },
   "outputs": [
    {
     "output_type": "display_data",
     "data": {
      "text/html": [
       "<style scoped>\n",
       "  .ansiout {\n",
       "    display: block;\n",
       "    unicode-bidi: embed;\n",
       "    white-space: pre-wrap;\n",
       "    word-wrap: break-word;\n",
       "    word-break: break-all;\n",
       "    font-family: \"Menlo\", \"Monaco\", \"Consolas\", \"Ubuntu Mono\", \"Source Code Pro\", monospace;\n",
       "    font-size: 13px;\n",
       "    color: #555;\n",
       "    margin-left: 4px;\n",
       "    line-height: 19px;\n",
       "  }\n",
       "</style>\n",
       "<div class=\"ansiout\">res5: Boolean = true\n",
       "</div>"
      ]
     },
     "metadata": {
      "application/vnd.databricks.v1+output": {
       "addedWidgets": {},
       "arguments": {},
       "data": "<div class=\"ansiout\">res5: Boolean = true\n</div>",
       "datasetInfos": [],
       "metadata": {},
       "removedWidgets": [],
       "type": "html"
      }
     },
     "output_type": "display_data"
    }
   ],
   "source": [
    "%fs\n",
    "mkdirs /tmp/StreamingDataQuality/"
   ]
  },
  {
   "cell_type": "code",
   "execution_count": 0,
   "metadata": {
    "application/vnd.databricks.v1+cell": {
     "cellMetadata": {},
     "inputWidgets": {},
     "nuid": "62f64bbc-7e36-4dda-923a-8327bc5312b6",
     "showTitle": false,
     "title": ""
    },
    "jupyter": {
     "outputs_hidden": true
    }
   },
   "outputs": [
    {
     "output_type": "display_data",
     "data": {
      "text/html": [
       "<style scoped>\n",
       "  .ansiout {\n",
       "    display: block;\n",
       "    unicode-bidi: embed;\n",
       "    white-space: pre-wrap;\n",
       "    word-wrap: break-word;\n",
       "    word-break: break-all;\n",
       "    font-family: \"Menlo\", \"Monaco\", \"Consolas\", \"Ubuntu Mono\", \"Source Code Pro\", monospace;\n",
       "    font-size: 13px;\n",
       "    color: #555;\n",
       "    margin-left: 4px;\n",
       "    line-height: 19px;\n",
       "  }\n",
       "</style>\n",
       "<div class=\"ansiout\">  % Total    % Received % Xferd  Average Speed   Time    Time     Time  Current\n",
       "                                 Dload  Upload   Total   Spent    Left  Speed\n",
       "\n",
       "  0     0    0     0    0     0      0      0 --:--:-- --:--:-- --:--:--     0\n",
       "  0     0    0     0    0     0      0      0 --:--:--  0:00:01 --:--:--     0\n",
       "  0     0    0     0    0     0      0      0 --:--:--  0:00:02 --:--:--     0\n",
       "  0     0    0     0    0     0      0      0 --:--:--  0:00:03 --:--:--     0\n",
       "  0     0    0     0    0     0      0      0 --:--:--  0:00:04 --:--:--     0\n",
       "  0     0    0     0    0     0      0      0 --:--:--  0:00:05 --:--:--     0\n",
       "  0     0    0     0    0     0      0      0 --:--:--  0:00:06 --:--:--     0\n",
       "  0     0    0     0    0     0      0      0 --:--:--  0:00:07 --:--:--     0\n",
       "100 16384    0 16384    0     0   2089      0 --:--:--  0:00:07 --:--:--  3744\n",
       "100  149k    0  149k    0     0  19187      0 --:--:--  0:00:07 --:--:-- 43600\n",
       "</div>"
      ]
     },
     "metadata": {
      "application/vnd.databricks.v1+output": {
       "addedWidgets": {},
       "arguments": {},
       "data": "<div class=\"ansiout\">  % Total    % Received % Xferd  Average Speed   Time    Time     Time  Current\n                                 Dload  Upload   Total   Spent    Left  Speed\n\n  0     0    0     0    0     0      0      0 --:--:-- --:--:-- --:--:--     0\n  0     0    0     0    0     0      0      0 --:--:--  0:00:01 --:--:--     0\n  0     0    0     0    0     0      0      0 --:--:--  0:00:02 --:--:--     0\n  0     0    0     0    0     0      0      0 --:--:--  0:00:03 --:--:--     0\n  0     0    0     0    0     0      0      0 --:--:--  0:00:04 --:--:--     0\n  0     0    0     0    0     0      0      0 --:--:--  0:00:05 --:--:--     0\n  0     0    0     0    0     0      0      0 --:--:--  0:00:06 --:--:--     0\n  0     0    0     0    0     0      0      0 --:--:--  0:00:07 --:--:--     0\n100 16384    0 16384    0     0   2089      0 --:--:--  0:00:07 --:--:--  3744\n100  149k    0  149k    0     0  19187      0 --:--:--  0:00:07 --:--:-- 43600\n</div>",
       "datasetInfos": [],
       "metadata": {},
       "removedWidgets": [],
       "type": "html"
      }
     },
     "output_type": "display_data"
    }
   ],
   "source": [
    "%sh\n",
    "# clear the delta checkpoint\n",
    "rm -rf /dbfs/tmp/StreamingDataQuality/checkpoint\n",
    "\n",
    "# download some generated stock tick data; this is a public Mockaroo endpoint- as such, we can't guarantee availability!\n",
    "curl \"https://api.mockaroo.com/api/2aedaa80?count=1000&key=8eb06b50\" > /dbfs/tmp/StreamingDataQuality/stockTicks.json"
   ]
  },
  {
   "cell_type": "code",
   "execution_count": 0,
   "metadata": {
    "application/vnd.databricks.v1+cell": {
     "cellMetadata": {},
     "inputWidgets": {},
     "nuid": "78cd80f2-b043-4814-be4d-bb6ee27e0a2f",
     "showTitle": false,
     "title": ""
    }
   },
   "outputs": [
    {
     "output_type": "display_data",
     "data": {
      "text/html": [
       "<style scoped>\n",
       "  .ansiout {\n",
       "    display: block;\n",
       "    unicode-bidi: embed;\n",
       "    white-space: pre-wrap;\n",
       "    word-wrap: break-word;\n",
       "    word-break: break-all;\n",
       "    font-family: \"Menlo\", \"Monaco\", \"Consolas\", \"Ubuntu Mono\", \"Source Code Pro\", monospace;\n",
       "    font-size: 13px;\n",
       "    color: #555;\n",
       "    margin-left: 4px;\n",
       "    line-height: 19px;\n",
       "  }\n",
       "</style>\n",
       "<div class=\"ansiout\"></div>"
      ]
     },
     "metadata": {
      "application/vnd.databricks.v1+output": {
       "addedWidgets": {},
       "arguments": {},
       "data": "<div class=\"ansiout\"></div>",
       "datasetInfos": [],
       "metadata": {},
       "removedWidgets": [],
       "type": "html"
      }
     },
     "output_type": "display_data"
    }
   ],
   "source": [
    "# read the raw JSON, then repartition and write into a tmp parquet folder\n",
    "spark.read.json(\"/tmp/StreamingDataQuality/stockTicks.json\").repartition(100).write.mode(\"overwrite\").parquet(\"/tmp/StreamingDataQuality/source/\")"
   ]
  },
  {
   "cell_type": "markdown",
   "metadata": {
    "application/vnd.databricks.v1+cell": {
     "cellMetadata": {},
     "inputWidgets": {},
     "nuid": "569a48f0-7a3b-43fa-85b7-782388d6e5f4",
     "showTitle": false,
     "title": ""
    }
   },
   "source": [
    "First we'll set up our delta tables and any necessary temporary views, as well as importing the packages to be used."
   ]
  },
  {
   "cell_type": "code",
   "execution_count": 0,
   "metadata": {
    "application/vnd.databricks.v1+cell": {
     "cellMetadata": {},
     "inputWidgets": {},
     "nuid": "678ec756-9617-4431-a871-ada1168a6c73",
     "showTitle": false,
     "title": ""
    },
    "jupyter": {
     "outputs_hidden": true
    }
   },
   "outputs": [
    {
     "output_type": "display_data",
     "data": {
      "text/html": [
       "<style scoped>\n",
       "  .ansiout {\n",
       "    display: block;\n",
       "    unicode-bidi: embed;\n",
       "    white-space: pre-wrap;\n",
       "    word-wrap: break-word;\n",
       "    word-break: break-all;\n",
       "    font-family: \"Menlo\", \"Monaco\", \"Consolas\", \"Ubuntu Mono\", \"Source Code Pro\", monospace;\n",
       "    font-size: 13px;\n",
       "    color: #555;\n",
       "    margin-left: 4px;\n",
       "    line-height: 19px;\n",
       "  }\n",
       "</style>\n",
       "<div class=\"ansiout\">import spark.implicits._\n",
       "import org.apache.spark.sql._\n",
       "import org.apache.spark.sql.functions._\n",
       "import org.apache.spark.sql.functions.concat\n",
       "import com.amazon.deequ.{VerificationSuite, VerificationResult}\n",
       "import com.amazon.deequ.VerificationResult.checkResultsAsDataFrame\n",
       "import com.amazon.deequ.checks.{Check, CheckLevel, CheckStatus}\n",
       "import com.amazon.deequ.suggestions.{ConstraintSuggestionRunner, Rules}\n",
       "import com.amazon.deequ.analyzers._\n",
       "import com.amazon.deequ.analyzers.runners.AnalysisRunner\n",
       "import com.amazon.deequ.analyzers.runners.AnalyzerContext.successMetricsAsDataFrame\n",
       "import com.amazon.deequ.analyzers.{Analysis, ApproxCountDistinct, Completeness, Compliance, Distinctness, InMemoryStateProvider, Size}\n",
       "data_path: String = /tmp/StreamingDataQuality/source/\n",
       "checkpoint_path: String = /tmp/StreamingDataQuality/checkpoint/\n",
       "base_df: org.apache.spark.sql.DataFrame = [buysell: string, date: string ... 6 more fields]\n",
       "empty_df: org.apache.spark.sql.Dataset[org.apache.spark.sql.Row] = [buysell: string, date: string ... 6 more fields]\n",
       "l1: Long = 0\n",
       "res6: Boolean = true\n",
       "</div>"
      ]
     },
     "metadata": {
      "application/vnd.databricks.v1+output": {
       "addedWidgets": {},
       "arguments": {},
       "data": "<div class=\"ansiout\">import spark.implicits._\nimport org.apache.spark.sql._\nimport org.apache.spark.sql.functions._\nimport org.apache.spark.sql.functions.concat\nimport com.amazon.deequ.{VerificationSuite, VerificationResult}\nimport com.amazon.deequ.VerificationResult.checkResultsAsDataFrame\nimport com.amazon.deequ.checks.{Check, CheckLevel, CheckStatus}\nimport com.amazon.deequ.suggestions.{ConstraintSuggestionRunner, Rules}\nimport com.amazon.deequ.analyzers._\nimport com.amazon.deequ.analyzers.runners.AnalysisRunner\nimport com.amazon.deequ.analyzers.runners.AnalyzerContext.successMetricsAsDataFrame\nimport com.amazon.deequ.analyzers.{Analysis, ApproxCountDistinct, Completeness, Compliance, Distinctness, InMemoryStateProvider, Size}\ndata_path: String = /tmp/StreamingDataQuality/source/\ncheckpoint_path: String = /tmp/StreamingDataQuality/checkpoint/\nbase_df: org.apache.spark.sql.DataFrame = [buysell: string, date: string ... 6 more fields]\nempty_df: org.apache.spark.sql.Dataset[org.apache.spark.sql.Row] = [buysell: string, date: string ... 6 more fields]\nl1: Long = 0\nres6: Boolean = true\n</div>",
       "datasetInfos": [],
       "metadata": {},
       "removedWidgets": [],
       "type": "html"
      }
     },
     "output_type": "display_data"
    }
   ],
   "source": [
    "%scala\n",
    "import spark.implicits._\n",
    "import org.apache.spark.sql._\n",
    "import org.apache.spark.sql.functions._\n",
    "import org.apache.spark.sql.functions.concat\n",
    "import com.amazon.deequ.{VerificationSuite, VerificationResult}\n",
    "import com.amazon.deequ.VerificationResult.checkResultsAsDataFrame\n",
    "import com.amazon.deequ.checks.{Check, CheckLevel, CheckStatus}\n",
    "import com.amazon.deequ.suggestions.{ConstraintSuggestionRunner, Rules}\n",
    "import com.amazon.deequ.analyzers._\n",
    "import com.amazon.deequ.analyzers.runners.AnalysisRunner\n",
    "import com.amazon.deequ.analyzers.runners.AnalyzerContext.successMetricsAsDataFrame\n",
    "import com.amazon.deequ.analyzers.{Analysis, ApproxCountDistinct, Completeness, Compliance, Distinctness, InMemoryStateProvider, Size}\n",
    "\n",
    "val data_path = \"/tmp/StreamingDataQuality/source/\"\n",
    "val checkpoint_path = \"/tmp/StreamingDataQuality/checkpoint/\"\n",
    "val base_df = spark.read.parquet(data_path)\n",
    "val empty_df = base_df.where(\"0 = 1\")\n",
    "val l1: Long = 0\n",
    "\n",
    "spark.sql(\"DROP TABLE IF EXISTS trades_delta\")\n",
    "spark.sql(\"DROP TABLE IF EXISTS bad_records\")\n",
    "spark.sql(\"DROP TABLE IF EXISTS deequ_metrics\")\n",
    "\n",
    "base_df.createOrReplaceTempView(\"trades_historical\")\n",
    "empty_df.write.format(\"delta\").saveAsTable(\"trades_delta\")\n",
    "empty_df.withColumn(\"batchID\",lit(l1)).write.format(\"delta\").saveAsTable(\"bad_records\")\n",
    "dbutils.fs.mkdirs(checkpoint_path)"
   ]
  },
  {
   "cell_type": "markdown",
   "metadata": {
    "application/vnd.databricks.v1+cell": {
     "cellMetadata": {},
     "inputWidgets": {},
     "nuid": "a5936b3f-b597-4fa9-87ca-e04a3005e8d2",
     "showTitle": false,
     "title": ""
    }
   },
   "source": [
    "First, we'll take a look at the suggested quality constraints that Deequ can automatically generate. Deequ will inspect the data you give it, and generate constraints that assume future data should look similar."
   ]
  },
  {
   "cell_type": "code",
   "execution_count": 0,
   "metadata": {
    "application/vnd.databricks.v1+cell": {
     "cellMetadata": {},
     "inputWidgets": {},
     "nuid": "bab251ea-dbc5-4075-a8d2-a254d910f904",
     "showTitle": false,
     "title": ""
    }
   },
   "outputs": [
    {
     "output_type": "display_data",
     "data": {
      "text/html": [
       "<style scoped>\n",
       "  .ansiout {\n",
       "    display: block;\n",
       "    unicode-bidi: embed;\n",
       "    white-space: pre-wrap;\n",
       "    word-wrap: break-word;\n",
       "    word-break: break-all;\n",
       "    font-family: \"Menlo\", \"Monaco\", \"Consolas\", \"Ubuntu Mono\", \"Source Code Pro\", monospace;\n",
       "    font-size: 13px;\n",
       "    color: #555;\n",
       "    margin-left: 4px;\n",
       "    line-height: 19px;\n",
       "  }\n",
       "</style>\n",
       "<div class=\"ansiout\">Constraint suggestion for 'quantity':\t'quantity' has less than 6% missing values\n",
       "The corresponding scala code is .hasCompleteness(&quot;quantity&quot;, _ &gt;= 0.93, Some(&quot;It should be above 0.93!&quot;))\n",
       "\n",
       "Constraint suggestion for 'price':\t'price' has less than 3% missing values\n",
       "The corresponding scala code is .hasCompleteness(&quot;price&quot;, _ &gt;= 0.97, Some(&quot;It should be above 0.97!&quot;))\n",
       "\n",
       "Constraint suggestion for 'price':\t'price' has no negative values\n",
       "The corresponding scala code is .isNonNegative(&quot;price&quot;)\n",
       "\n",
       "Constraint suggestion for 'ipaddr':\t'ipaddr' has less than 6% missing values\n",
       "The corresponding scala code is .hasCompleteness(&quot;ipaddr&quot;, _ &gt;= 0.93, Some(&quot;It should be above 0.93!&quot;))\n",
       "\n",
       "Constraint suggestion for 'symbol':\t'symbol' is not null\n",
       "The corresponding scala code is .isComplete(&quot;symbol&quot;)\n",
       "\n",
       "Constraint suggestion for 'date':\t'date' is not null\n",
       "The corresponding scala code is .isComplete(&quot;date&quot;)\n",
       "\n",
       "Constraint suggestion for 'date':\t'date' has value range '08/07/2019', '08/22/2019', '08/21/2019', '08/15/2019', '08/08/2019', '08/09/2019', '08/02/2019', '08/17/2019', '08/19/2019', '08/26/2019', '08/16/2019', '08/18/2019', '08/11/2019', '08/29/2019', '08/13/2019', '08/28/2019', '08/06/2019', '08/27/2019', '08/01/2019', '08/04/2019', '08/25/2019', '08/24/2019', '08/05/2019', '08/10/2019', '08/14/2019', '08/03/2019', '08/20/2019', '08/30/2019', '08/23/2019', '08/12/2019'\n",
       "The corresponding scala code is .isContainedIn(&quot;date&quot;, Array(&quot;08/07/2019&quot;, &quot;08/22/2019&quot;, &quot;08/21/2019&quot;, &quot;08/15/2019&quot;, &quot;08/08/2019&quot;, &quot;08/09/2019&quot;, &quot;08/02/2019&quot;, &quot;08/17/2019&quot;, &quot;08/19/2019&quot;, &quot;08/26/2019&quot;, &quot;08/16/2019&quot;, &quot;08/18/2019&quot;, &quot;08/11/2019&quot;, &quot;08/29/2019&quot;, &quot;08/13/2019&quot;, &quot;08/28/2019&quot;, &quot;08/06/2019&quot;, &quot;08/27/2019&quot;, &quot;08/01/2019&quot;, &quot;08/04/2019&quot;, &quot;08/25/2019&quot;, &quot;08/24/2019&quot;, &quot;08/05/2019&quot;, &quot;08/10/2019&quot;, &quot;08/14/2019&quot;, &quot;08/03/2019&quot;, &quot;08/20/2019&quot;, &quot;08/30/2019&quot;, &quot;08/23/2019&quot;, &quot;08/12/2019&quot;))\n",
       "\n",
       "Constraint suggestion for 'date':\t'date' has value range '08/07/2019', '08/22/2019', '08/21/2019', '08/15/2019', '08/08/2019', '08/09/2019', '08/02/2019', '08/17/2019', '08/19/2019', '08/26/2019', '08/16/2019', '08/18/2019', '08/11/2019', '08/29/2019', '08/13/2019', '08/28/2019', '08/06/2019', '08/27/2019', '08/01/2019', '08/04/2019', '08/25/2019', '08/24/2019', '08/05/2019', '08/10/2019', '08/14/2019', '08/03/2019' for at least 88.0% of values\n",
       "The corresponding scala code is .isContainedIn(&quot;date&quot;, Array(&quot;08/07/2019&quot;, &quot;08/22/2019&quot;, &quot;08/21/2019&quot;, &quot;08/15/2019&quot;, &quot;08/08/2019&quot;, &quot;08/09/2019&quot;, &quot;08/02/2019&quot;, &quot;08/17/2019&quot;, &quot;08/19/2019&quot;, &quot;08/26/2019&quot;, &quot;08/16/2019&quot;, &quot;08/18/2019&quot;, &quot;08/11/2019&quot;, &quot;08/29/2019&quot;, &quot;08/13/2019&quot;, &quot;08/28/2019&quot;, &quot;08/06/2019&quot;, &quot;08/27/2019&quot;, &quot;08/01/2019&quot;, &quot;08/04/2019&quot;, &quot;08/25/2019&quot;, &quot;08/24/2019&quot;, &quot;08/05/2019&quot;, &quot;08/10/2019&quot;, &quot;08/14/2019&quot;, &quot;08/03/2019&quot;), _ &gt;= 0.88, Some(&quot;It should be above 0.88!&quot;))\n",
       "\n",
       "Constraint suggestion for 'ordertype':\t'ordertype' is not null\n",
       "The corresponding scala code is .isComplete(&quot;ordertype&quot;)\n",
       "\n",
       "Constraint suggestion for 'ordertype':\t'ordertype' has value range 'quote', 'bestLimit', 'cmo', 'batch', 'market', 'marketToLimit', 'cross', 'oco', 'limit'\n",
       "The corresponding scala code is .isContainedIn(&quot;ordertype&quot;, Array(&quot;quote&quot;, &quot;bestLimit&quot;, &quot;cmo&quot;, &quot;batch&quot;, &quot;market&quot;, &quot;marketToLimit&quot;, &quot;cross&quot;, &quot;oco&quot;, &quot;limit&quot;))\n",
       "\n",
       "Constraint suggestion for 'ordertype':\t'ordertype' has value range 'quote', 'bestLimit', 'cmo', 'batch', 'market', 'marketToLimit', 'cross', 'oco' for at least 89.0% of values\n",
       "The corresponding scala code is .isContainedIn(&quot;ordertype&quot;, Array(&quot;quote&quot;, &quot;bestLimit&quot;, &quot;cmo&quot;, &quot;batch&quot;, &quot;market&quot;, &quot;marketToLimit&quot;, &quot;cross&quot;, &quot;oco&quot;), _ &gt;= 0.89, Some(&quot;It should be above 0.89!&quot;))\n",
       "\n",
       "Constraint suggestion for 'buysell':\t'buysell' has less than 5% missing values\n",
       "The corresponding scala code is .hasCompleteness(&quot;buysell&quot;, _ &gt;= 0.95, Some(&quot;It should be above 0.95!&quot;))\n",
       "\n",
       "Constraint suggestion for 'buysell':\t'buysell' has value range 'buy', 'sell'\n",
       "The corresponding scala code is .isContainedIn(&quot;buysell&quot;, Array(&quot;buy&quot;, &quot;sell&quot;))\n",
       "\n",
       "Constraint suggestion for 'buysell':\t'buysell' has value range 'buy', 'sell' for at least 95.0% of values\n",
       "The corresponding scala code is .isContainedIn(&quot;buysell&quot;, Array(&quot;buy&quot;, &quot;sell&quot;), _ &gt;= 0.95, Some(&quot;It should be above 0.95!&quot;))\n",
       "\n",
       "Constraint suggestion for 'time':\t'time' is not null\n",
       "The corresponding scala code is .isComplete(&quot;time&quot;)\n",
       "\n",
       "suggestionResult: com.amazon.deequ.suggestions.ConstraintSuggestionResult = ConstraintSuggestionResult(Map(quantity -&gt; NumericColumnProfile(quantity,0.946,989,Fractional,false,Map(),None,Some(2003.9279169133195),Some(5460.124),Some(-1.0),Some(1895715.8094000001),Some(1029.0453421568704),Some(Stream(-1.0, ?))), price -&gt; NumericColumnProfile(price,0.982,971,Fractional,false,Map(),None,Some(21.893290835030548),Some(59.3216),Some(2.4675),Some(21499.2116),Some(10.674116507040917),Some(Stream(2.4675, ?))), ipaddr -&gt; StandardColumnProfile(ipaddr,0.946,917,String,true,Map(Boolean -&gt; 0, Fractional -&gt; 0, Integral -&gt; 0, Unknown -&gt; 54, String -&gt; 946),None), symbol -&gt; StandardColumnProfile(symbol,1.0,936,String,true,Map(Boolean -&gt; 0, Fractional -&gt; 0, Integral -&gt; 0, Unknown -&gt; 0, String -&gt; 1000),None), date -&gt; StandardColumnProfile(date,1.0,31,String,true,Map(Boolean -&gt; 0, Fractional -&gt; 0, Integral -&gt; 0, Unknown -&gt; 0, String -&gt; 1000),Some(Distribution(Map(08/21/2019 -&gt; DistributionValue(40,0.04), 08/17/2019 -&gt; DistributionValue(37,0.037), 08/26/2019 -&gt; DistributionValue(36,0.036), 08/04/2019 -&gt; DistributionValue(32,0.032), 08/03/2019 -&gt; DistributionValue(29,0.029), 08/19/2019 -&gt; DistributionValue(36,0.036), 08/01/2019 -&gt; DistributionValue(32,0.032), 08/28/2019 -&gt; DistributionValue(34,0.034), 08/23/2019 -&gt; DistributionValue(24,0.024), 08/09/2019 -&gt; DistributionValue(38,0.038), 08/10/2019 -&gt; DistributionValue(30,0.03), 08/18/2019 -&gt; DistributionValue(35,0.035), 08/15/2019 -&gt; DistributionValue(39,0.039), 08/06/2019 -&gt; DistributionValue(33,0.033), 08/22/2019 -&gt; DistributionValue(40,0.04), 08/16/2019 -&gt; DistributionValue(35,0.035), 08/05/2019 -&gt; DistributionValue(30,0.03), 08/24/2019 -&gt; DistributionValue(31,0.031), 08/14/2019 -&gt; DistributionValue(29,0.029), 08/08/2019 -&gt; DistributionValue(38,0.038), 08/30/2019 -&gt; DistributionValue(25,0.025), 08/20/2019 -&gt; DistributionValue(28,0.028), 08/02/2019 -&gt; DistributionValue(37,0.037), 08/13/2019 -&gt; DistributionValue(34,0.034), 08/25/2019 -&gt; DistributionValue(31,0.031), 08/29/2019 -&gt; DistributionValue(34,0.034), 08/27/2019 -&gt; DistributionValue(32,0.032), 08/11/2019 -&gt; DistributionValue(34,0.034), 08/07/2019 -&gt; DistributionValue(46,0.046), 08/12/2019 -&gt; DistributionValue(21,0.021)),30))), ordertype -&gt; StandardColumnProfile(ordertype,1.0,9,String,true,Map(Boolean -&gt; 0, Fractional -&gt; 0, Integral -&gt; 0, Unknown -&gt; 0, String -&gt; 1000),Some(Distribution(Map(oco -&gt; DistributionValue(104,0.104), market -&gt; DistributionValue(110,0.11), marketToLimit -&gt; DistributionValue(109,0.109), quote -&gt; DistributionValue(129,0.129), batch -&gt; DistributionValue(116,0.116), bestLimit -&gt; DistributionValue(121,0.121), cross -&gt; DistributionValue(106,0.106), cmo -&gt; DistributionValue(119,0.119), limit -&gt; DistributionValue(86,0.086)),9))), buysell -&gt; StandardColumnProfile(buysell,0.962,2,String,true,Map(Boolean -&gt; 0, Fractional -&gt; 0, Integral -&gt; 0, Unknown -&gt; 38, String -&gt; 962),Some(Distribution(Map(sell -&gt; DistributionValue(446,0.446), buy -&gt; DistributionValue(516,0.516), NullValue -&gt; DistributionValue(38,0.038)),3))), time -&gt; StandardColumnProfile(time,1.0,965,String,true,Map(Boolean -&gt; 0, Fractional -&gt; 0, Integral -&gt; 0, Unknown -&gt; 0, String -&gt; 1000),None)),Map(quantity -&gt; ArraySeq(ConstraintSuggestion(CompletenessConstraint(Completeness(quantity,None)),quantity,Completeness: 0.946,'quantity' has less than 6% missing values,RetainCompletenessRule(),.hasCompleteness(&quot;quantity&quot;, _ &gt;= 0.93, Some(&quot;It should be above 0.93!&quot;)))), price -&gt; ArraySeq(ConstraintSuggestion(CompletenessConstraint(Completeness(price,None)),price,Completeness: 0.982,'price' has less than 3% missing values,RetainCompletenessRule(),.hasCompleteness(&quot;price&quot;, _ &gt;= 0.97, Some(&quot;It should be above 0.97!&quot;))), ConstraintSuggestion(ComplianceConstraint(Compliance('price' has no negative values,price &gt;= 0,None)),price,Minimum: 2.4675,'price' has no negative values,NonNegativeNumbersRule(),.isNonNegative(&quot;price&quot;))), ipaddr -&gt; ArraySeq(ConstraintSuggestion(CompletenessConstraint(Completeness(ipaddr,None)),ipaddr,Completeness: 0.946,'ipaddr' has less than 6% missing values,RetainCompletenessRule(),.hasCompleteness(&quot;ipaddr&quot;, _ &gt;= 0.93, Some(&quot;It should be above 0.93!&quot;)))), symbol -&gt; ArraySeq(ConstraintSuggestion(CompletenessConstraint(Completeness(symbol,None)),symbol,Completeness: 1.0,'symbol' is not null,CompleteIfCompleteRule(),.isComplete(&quot;symbol&quot;))), date -&gt; ArraySeq(ConstraintSuggestion(CompletenessConstraint(Completeness(date,None)),date,Completeness: 1.0,'date' is not null,CompleteIfCompleteRule(),.isComplete(&quot;date&quot;)), ConstraintSuggestion(ComplianceConstraint(Compliance('date' has value range '08/07/2019', '08/22/2019', '08/21/2019', '08/15/2019', '08/08/2019', '08/09/2019', '08/02/2019', '08/17/2019', '08/19/2019', '08/26/2019', '08/16/2019', '08/18/2019', '08/11/2019', '08/29/2019', '08/13/2019', '08/28/2019', '08/06/2019', '08/27/2019', '08/01/2019', '08/04/2019', '08/25/2019', '08/24/2019', '08/05/2019', '08/10/2019', '08/14/2019', '08/03/2019', '08/20/2019', '08/30/2019', '08/23/2019', '08/12/2019',`date` IN ('08/07/2019', '08/22/2019', '08/21/2019', '08/15/2019', '08/08/2019', '08/09/2019', '08/02/2019', '08/17/2019', '08/19/2019', '08/26/2019', '08/16/2019', '08/18/2019', '08/11/2019', '08/29/2019', '08/13/2019', '08/28/2019', '08/06/2019', '08/27/2019', '08/01/2019', '08/04/2019', '08/25/2019', '08/24/2019', '08/05/2019', '08/10/2019', '08/14/2019', '08/03/2019', '08/20/2019', '08/30/2019', '08/23/2019', '08/12/2019'),None)),date,Compliance: 1,'date' has value range '08/07/2019', '08/22/2019', '08/21/2019', '08/15/2019', '08/08/2019', '08/09/2019', '08/02/2019', '08/17/2019', '08/19/2019', '08/26/2019', '08/16/2019', '08/18/2019', '08/11/2019', '08/29/2019', '08/13/2019', '08/28/2019', '08/06/2019', '08/27/2019', '08/01/2019', '08/04/2019', '08/25/2019', '08/24/2019', '08/05/2019', '08/10/2019', '08/14/2019', '08/03/2019', '08/20/2019', '08/30/2019', '08/23/2019', '08/12/2019',CategoricalRangeRule(),.isContainedIn(&quot;date&quot;, Array(&quot;08/07/2019&quot;, &quot;08/22/2019&quot;, &quot;08/21/2019&quot;, &quot;08/15/2019&quot;, &quot;08/08/2019&quot;, &quot;08/09/2019&quot;, &quot;08/02/2019&quot;, &quot;08/17/2019&quot;, &quot;08/19/2019&quot;, &quot;08/26/2019&quot;, &quot;08/16/2019&quot;, &quot;08/18/2019&quot;, &quot;08/11/2019&quot;, &quot;08/29/2019&quot;, &quot;08/13/2019&quot;, &quot;08/28/2019&quot;, &quot;08/06/2019&quot;, &quot;08/27/2019&quot;, &quot;08/01/2019&quot;, &quot;08/04/2019&quot;, &quot;08/25/2019&quot;, &quot;08/24/2019&quot;, &quot;08/05/2019&quot;, &quot;08/10/2019&quot;, &quot;08/14/2019&quot;, &quot;08/03/2019&quot;, &quot;08/20/2019&quot;, &quot;08/30/2019&quot;, &quot;08/23/2019&quot;, &quot;08/12/2019&quot;))), ConstraintSuggestion(ComplianceConstraint(Compliance('date' has value range '08/07/2019', '08/22/2019', '08/21/2019', '08/15/2019', '08/08/2019', '08/09/2019', '08/02/2019', '08/17/2019', '08/19/2019', '08/26/2019', '08/16/2019', '08/18/2019', '08/11/2019', '08/29/2019', '08/13/2019', '08/28/2019', '08/06/2019', '08/27/2019', '08/01/2019', '08/04/2019', '08/25/2019', '08/24/2019', '08/05/2019', '08/10/2019', '08/14/2019', '08/03/2019' for at least 88.0% of values,`date` IN ('08/07/2019', '08/22/2019', '08/21/2019', '08/15/2019', '08/08/2019', '08/09/2019', '08/02/2019', '08/17/2019', '08/19/2019', '08/26/2019', '08/16/2019', '08/18/2019', '08/11/2019', '08/29/2019', '08/13/2019', '08/28/2019', '08/06/2019', '08/27/2019', '08/01/2019', '08/04/2019', '08/25/2019', '08/24/2019', '08/05/2019', '08/10/2019', '08/14/2019', '08/03/2019'),None)),date,Compliance: 0.9020000000000002,'date' has value range '08/07/2019', '08/22/2019', '08/21/2019', '08/15/2019', '08/08/2019', '08/09/2019', '08/02/2019', '08/17/2019', '08/19/2019', '08/26/2019', '08/16/2019', '08/18/2019', '08/11/2019', '08/29/2019', '08/13/2019', '08/28/2019', '08/06/2019', '08/27/2019', '08/01/2019', '08/04/2019', '08/25/2019', '08/24/2019', '08/05/2019', '08/10/2019', '08/14/2019', '08/03/2019' for at least 88.0% of values,FractionalCategoricalRangeRule(0.9),.isContainedIn(&quot;date&quot;, Array(&quot;08/07/2019&quot;, &quot;08/22/2019&quot;, &quot;08/21/2019&quot;, &quot;08/15/2019&quot;, &quot;08/08/2019&quot;, &quot;08/09/2019&quot;, &quot;08/02/2019&quot;, &quot;08/17/2019&quot;, &quot;08/19/2019&quot;, &quot;08/26/2019&quot;, &quot;08/16/2019&quot;, &quot;08/18/2019&quot;, &quot;08/11/2019&quot;, &quot;08/29/2019&quot;, &quot;08/13/2019&quot;, &quot;08/28/2019&quot;, &quot;08/06/2019&quot;, &quot;08/27/2019&quot;, &quot;08/01/2019&quot;, &quot;08/04/2019&quot;, &quot;08/25/2019&quot;, &quot;08/24/2019&quot;, &quot;08/05/2019&quot;, &quot;08/10/2019&quot;, &quot;08/14/2019&quot;, &quot;08/03/2019&quot;), _ &gt;= 0.88, Some(&quot;It should be above 0.88!&quot;)))), ordertype -&gt; ArraySeq(ConstraintSuggestion(CompletenessConstraint(Completeness(ordertype,None)),ordertype,Completeness: 1.0,'ordertype' is not null,CompleteIfCompleteRule(),.isComplete(&quot;ordertype&quot;)), ConstraintSuggestion(ComplianceConstraint(Compliance('ordertype' has value range 'quote', 'bestLimit', 'cmo', 'batch', 'market', 'marketToLimit', 'cross', 'oco', 'limit',`ordertype` IN ('quote', 'bestLimit', 'cmo', 'batch', 'market', 'marketToLimit', 'cross', 'oco', 'limit'),None)),ordertype,Compliance: 1,'ordertype' has value range 'quote', 'bestLimit', 'cmo', 'batch', 'market', 'marketToLimit', 'cross', 'oco', 'limit',CategoricalRangeRule(),.isContainedIn(&quot;ordertype&quot;, Array(&quot;quote&quot;, &quot;bestLimit&quot;, &quot;cmo&quot;, &quot;batch&quot;, &quot;market&quot;, &quot;marketToLimit&quot;, &quot;cross&quot;, &quot;oco&quot;, &quot;limit&quot;))), ConstraintSuggestion(ComplianceConstraint(Compliance('ordertype' has value range 'quote', 'bestLimit', 'cmo', 'batch', 'market', 'marketToLimit', 'cross', 'oco' for at least 89.0% of values,`ordertype` IN ('quote', 'bestLimit', 'cmo', 'batch', 'market', 'marketToLimit', 'cross', 'oco'),None)),ordertype,Compliance: 0.914,'ordertype' has value range 'quote', 'bestLimit', 'cmo', 'batch', 'market', 'marketToLimit', 'cross', 'oco' for at least 89.0% of values,FractionalCategoricalRangeRule(0.9),.isContainedIn(&quot;ordertype&quot;, Array(&quot;quote&quot;, &quot;bestLimit&quot;, &quot;cmo&quot;, &quot;batch&quot;, &quot;market&quot;, &quot;marketToLimit&quot;, &quot;cross&quot;, &quot;oco&quot;), _ &gt;= 0.89, Some(&quot;It should be above 0.89!&quot;)))), buysell -&gt; ArraySeq(ConstraintSuggestion(CompletenessConstraint(Completeness(buysell,None)),buysell,Completeness: 0.962,'buysell' has less than 5% missing values,RetainCompletenessRule(),.hasCompleteness(&quot;buysell&quot;, _ &gt;= 0.95, Some(&quot;It should be above 0.95!&quot;))), ConstraintSuggestion(ComplianceConstraint(Compliance('buysell' has value range 'buy', 'sell',`buysell` IN ('buy', 'sell'),None)),buysell,Compliance: 1,'buysell' has value range 'buy', 'sell',CategoricalRangeRule(),.isContainedIn(&quot;buysell&quot;, Array(&quot;buy&quot;, &quot;sell&quot;))), ConstraintSuggestion(ComplianceConstraint(Compliance('buysell' has value range 'buy', 'sell' for at least 95.0% of values,`buysell` IN ('buy', 'sell'),None)),buysell,Compliance: 0.962,'buysell' has value range 'buy', 'sell' for at least 95.0% of values,FractionalCategoricalRangeRule(0.9),.isContainedIn(&quot;buysell&quot;, Array(&quot;buy&quot;, &quot;sell&quot;), _ &gt;= 0.95, Some(&quot;It should be above 0.95!&quot;)))), time -&gt; ArraySeq(ConstraintSuggestion(CompletenessConstraint(Completeness(time,None)),time,Completeness: 1.0,'time' is not null,CompleteIfCompleteRule(),.isComplete(&quot;time&quot;)))),None)\n",
       "</div>"
      ]
     },
     "metadata": {
      "application/vnd.databricks.v1+output": {
       "addedWidgets": {},
       "arguments": {},
       "data": "<div class=\"ansiout\">Constraint suggestion for 'quantity':\t'quantity' has less than 6% missing values\nThe corresponding scala code is .hasCompleteness(&quot;quantity&quot;, _ &gt;= 0.93, Some(&quot;It should be above 0.93!&quot;))\n\nConstraint suggestion for 'price':\t'price' has less than 3% missing values\nThe corresponding scala code is .hasCompleteness(&quot;price&quot;, _ &gt;= 0.97, Some(&quot;It should be above 0.97!&quot;))\n\nConstraint suggestion for 'price':\t'price' has no negative values\nThe corresponding scala code is .isNonNegative(&quot;price&quot;)\n\nConstraint suggestion for 'ipaddr':\t'ipaddr' has less than 6% missing values\nThe corresponding scala code is .hasCompleteness(&quot;ipaddr&quot;, _ &gt;= 0.93, Some(&quot;It should be above 0.93!&quot;))\n\nConstraint suggestion for 'symbol':\t'symbol' is not null\nThe corresponding scala code is .isComplete(&quot;symbol&quot;)\n\nConstraint suggestion for 'date':\t'date' is not null\nThe corresponding scala code is .isComplete(&quot;date&quot;)\n\nConstraint suggestion for 'date':\t'date' has value range '08/07/2019', '08/22/2019', '08/21/2019', '08/15/2019', '08/08/2019', '08/09/2019', '08/02/2019', '08/17/2019', '08/19/2019', '08/26/2019', '08/16/2019', '08/18/2019', '08/11/2019', '08/29/2019', '08/13/2019', '08/28/2019', '08/06/2019', '08/27/2019', '08/01/2019', '08/04/2019', '08/25/2019', '08/24/2019', '08/05/2019', '08/10/2019', '08/14/2019', '08/03/2019', '08/20/2019', '08/30/2019', '08/23/2019', '08/12/2019'\nThe corresponding scala code is .isContainedIn(&quot;date&quot;, Array(&quot;08/07/2019&quot;, &quot;08/22/2019&quot;, &quot;08/21/2019&quot;, &quot;08/15/2019&quot;, &quot;08/08/2019&quot;, &quot;08/09/2019&quot;, &quot;08/02/2019&quot;, &quot;08/17/2019&quot;, &quot;08/19/2019&quot;, &quot;08/26/2019&quot;, &quot;08/16/2019&quot;, &quot;08/18/2019&quot;, &quot;08/11/2019&quot;, &quot;08/29/2019&quot;, &quot;08/13/2019&quot;, &quot;08/28/2019&quot;, &quot;08/06/2019&quot;, &quot;08/27/2019&quot;, &quot;08/01/2019&quot;, &quot;08/04/2019&quot;, &quot;08/25/2019&quot;, &quot;08/24/2019&quot;, &quot;08/05/2019&quot;, &quot;08/10/2019&quot;, &quot;08/14/2019&quot;, &quot;08/03/2019&quot;, &quot;08/20/2019&quot;, &quot;08/30/2019&quot;, &quot;08/23/2019&quot;, &quot;08/12/2019&quot;))\n\nConstraint suggestion for 'date':\t'date' has value range '08/07/2019', '08/22/2019', '08/21/2019', '08/15/2019', '08/08/2019', '08/09/2019', '08/02/2019', '08/17/2019', '08/19/2019', '08/26/2019', '08/16/2019', '08/18/2019', '08/11/2019', '08/29/2019', '08/13/2019', '08/28/2019', '08/06/2019', '08/27/2019', '08/01/2019', '08/04/2019', '08/25/2019', '08/24/2019', '08/05/2019', '08/10/2019', '08/14/2019', '08/03/2019' for at least 88.0% of values\nThe corresponding scala code is .isContainedIn(&quot;date&quot;, Array(&quot;08/07/2019&quot;, &quot;08/22/2019&quot;, &quot;08/21/2019&quot;, &quot;08/15/2019&quot;, &quot;08/08/2019&quot;, &quot;08/09/2019&quot;, &quot;08/02/2019&quot;, &quot;08/17/2019&quot;, &quot;08/19/2019&quot;, &quot;08/26/2019&quot;, &quot;08/16/2019&quot;, &quot;08/18/2019&quot;, &quot;08/11/2019&quot;, &quot;08/29/2019&quot;, &quot;08/13/2019&quot;, &quot;08/28/2019&quot;, &quot;08/06/2019&quot;, &quot;08/27/2019&quot;, &quot;08/01/2019&quot;, &quot;08/04/2019&quot;, &quot;08/25/2019&quot;, &quot;08/24/2019&quot;, &quot;08/05/2019&quot;, &quot;08/10/2019&quot;, &quot;08/14/2019&quot;, &quot;08/03/2019&quot;), _ &gt;= 0.88, Some(&quot;It should be above 0.88!&quot;))\n\nConstraint suggestion for 'ordertype':\t'ordertype' is not null\nThe corresponding scala code is .isComplete(&quot;ordertype&quot;)\n\nConstraint suggestion for 'ordertype':\t'ordertype' has value range 'quote', 'bestLimit', 'cmo', 'batch', 'market', 'marketToLimit', 'cross', 'oco', 'limit'\nThe corresponding scala code is .isContainedIn(&quot;ordertype&quot;, Array(&quot;quote&quot;, &quot;bestLimit&quot;, &quot;cmo&quot;, &quot;batch&quot;, &quot;market&quot;, &quot;marketToLimit&quot;, &quot;cross&quot;, &quot;oco&quot;, &quot;limit&quot;))\n\nConstraint suggestion for 'ordertype':\t'ordertype' has value range 'quote', 'bestLimit', 'cmo', 'batch', 'market', 'marketToLimit', 'cross', 'oco' for at least 89.0% of values\nThe corresponding scala code is .isContainedIn(&quot;ordertype&quot;, Array(&quot;quote&quot;, &quot;bestLimit&quot;, &quot;cmo&quot;, &quot;batch&quot;, &quot;market&quot;, &quot;marketToLimit&quot;, &quot;cross&quot;, &quot;oco&quot;), _ &gt;= 0.89, Some(&quot;It should be above 0.89!&quot;))\n\nConstraint suggestion for 'buysell':\t'buysell' has less than 5% missing values\nThe corresponding scala code is .hasCompleteness(&quot;buysell&quot;, _ &gt;= 0.95, Some(&quot;It should be above 0.95!&quot;))\n\nConstraint suggestion for 'buysell':\t'buysell' has value range 'buy', 'sell'\nThe corresponding scala code is .isContainedIn(&quot;buysell&quot;, Array(&quot;buy&quot;, &quot;sell&quot;))\n\nConstraint suggestion for 'buysell':\t'buysell' has value range 'buy', 'sell' for at least 95.0% of values\nThe corresponding scala code is .isContainedIn(&quot;buysell&quot;, Array(&quot;buy&quot;, &quot;sell&quot;), _ &gt;= 0.95, Some(&quot;It should be above 0.95!&quot;))\n\nConstraint suggestion for 'time':\t'time' is not null\nThe corresponding scala code is .isComplete(&quot;time&quot;)\n\nsuggestionResult: com.amazon.deequ.suggestions.ConstraintSuggestionResult = ConstraintSuggestionResult(Map(quantity -&gt; NumericColumnProfile(quantity,0.946,989,Fractional,false,Map(),None,Some(2003.9279169133195),Some(5460.124),Some(-1.0),Some(1895715.8094000001),Some(1029.0453421568704),Some(Stream(-1.0, ?))), price -&gt; NumericColumnProfile(price,0.982,971,Fractional,false,Map(),None,Some(21.893290835030548),Some(59.3216),Some(2.4675),Some(21499.2116),Some(10.674116507040917),Some(Stream(2.4675, ?))), ipaddr -&gt; StandardColumnProfile(ipaddr,0.946,917,String,true,Map(Boolean -&gt; 0, Fractional -&gt; 0, Integral -&gt; 0, Unknown -&gt; 54, String -&gt; 946),None), symbol -&gt; StandardColumnProfile(symbol,1.0,936,String,true,Map(Boolean -&gt; 0, Fractional -&gt; 0, Integral -&gt; 0, Unknown -&gt; 0, String -&gt; 1000),None), date -&gt; StandardColumnProfile(date,1.0,31,String,true,Map(Boolean -&gt; 0, Fractional -&gt; 0, Integral -&gt; 0, Unknown -&gt; 0, String -&gt; 1000),Some(Distribution(Map(08/21/2019 -&gt; DistributionValue(40,0.04), 08/17/2019 -&gt; DistributionValue(37,0.037), 08/26/2019 -&gt; DistributionValue(36,0.036), 08/04/2019 -&gt; DistributionValue(32,0.032), 08/03/2019 -&gt; DistributionValue(29,0.029), 08/19/2019 -&gt; DistributionValue(36,0.036), 08/01/2019 -&gt; DistributionValue(32,0.032), 08/28/2019 -&gt; DistributionValue(34,0.034), 08/23/2019 -&gt; DistributionValue(24,0.024), 08/09/2019 -&gt; DistributionValue(38,0.038), 08/10/2019 -&gt; DistributionValue(30,0.03), 08/18/2019 -&gt; DistributionValue(35,0.035), 08/15/2019 -&gt; DistributionValue(39,0.039), 08/06/2019 -&gt; DistributionValue(33,0.033), 08/22/2019 -&gt; DistributionValue(40,0.04), 08/16/2019 -&gt; DistributionValue(35,0.035), 08/05/2019 -&gt; DistributionValue(30,0.03), 08/24/2019 -&gt; DistributionValue(31,0.031), 08/14/2019 -&gt; DistributionValue(29,0.029), 08/08/2019 -&gt; DistributionValue(38,0.038), 08/30/2019 -&gt; DistributionValue(25,0.025), 08/20/2019 -&gt; DistributionValue(28,0.028), 08/02/2019 -&gt; DistributionValue(37,0.037), 08/13/2019 -&gt; DistributionValue(34,0.034), 08/25/2019 -&gt; DistributionValue(31,0.031), 08/29/2019 -&gt; DistributionValue(34,0.034), 08/27/2019 -&gt; DistributionValue(32,0.032), 08/11/2019 -&gt; DistributionValue(34,0.034), 08/07/2019 -&gt; DistributionValue(46,0.046), 08/12/2019 -&gt; DistributionValue(21,0.021)),30))), ordertype -&gt; StandardColumnProfile(ordertype,1.0,9,String,true,Map(Boolean -&gt; 0, Fractional -&gt; 0, Integral -&gt; 0, Unknown -&gt; 0, String -&gt; 1000),Some(Distribution(Map(oco -&gt; DistributionValue(104,0.104), market -&gt; DistributionValue(110,0.11), marketToLimit -&gt; DistributionValue(109,0.109), quote -&gt; DistributionValue(129,0.129), batch -&gt; DistributionValue(116,0.116), bestLimit -&gt; DistributionValue(121,0.121), cross -&gt; DistributionValue(106,0.106), cmo -&gt; DistributionValue(119,0.119), limit -&gt; DistributionValue(86,0.086)),9))), buysell -&gt; StandardColumnProfile(buysell,0.962,2,String,true,Map(Boolean -&gt; 0, Fractional -&gt; 0, Integral -&gt; 0, Unknown -&gt; 38, String -&gt; 962),Some(Distribution(Map(sell -&gt; DistributionValue(446,0.446), buy -&gt; DistributionValue(516,0.516), NullValue -&gt; DistributionValue(38,0.038)),3))), time -&gt; StandardColumnProfile(time,1.0,965,String,true,Map(Boolean -&gt; 0, Fractional -&gt; 0, Integral -&gt; 0, Unknown -&gt; 0, String -&gt; 1000),None)),Map(quantity -&gt; ArraySeq(ConstraintSuggestion(CompletenessConstraint(Completeness(quantity,None)),quantity,Completeness: 0.946,'quantity' has less than 6% missing values,RetainCompletenessRule(),.hasCompleteness(&quot;quantity&quot;, _ &gt;= 0.93, Some(&quot;It should be above 0.93!&quot;)))), price -&gt; ArraySeq(ConstraintSuggestion(CompletenessConstraint(Completeness(price,None)),price,Completeness: 0.982,'price' has less than 3% missing values,RetainCompletenessRule(),.hasCompleteness(&quot;price&quot;, _ &gt;= 0.97, Some(&quot;It should be above 0.97!&quot;))), ConstraintSuggestion(ComplianceConstraint(Compliance('price' has no negative values,price &gt;= 0,None)),price,Minimum: 2.4675,'price' has no negative values,NonNegativeNumbersRule(),.isNonNegative(&quot;price&quot;))), ipaddr -&gt; ArraySeq(ConstraintSuggestion(CompletenessConstraint(Completeness(ipaddr,None)),ipaddr,Completeness: 0.946,'ipaddr' has less than 6% missing values,RetainCompletenessRule(),.hasCompleteness(&quot;ipaddr&quot;, _ &gt;= 0.93, Some(&quot;It should be above 0.93!&quot;)))), symbol -&gt; ArraySeq(ConstraintSuggestion(CompletenessConstraint(Completeness(symbol,None)),symbol,Completeness: 1.0,'symbol' is not null,CompleteIfCompleteRule(),.isComplete(&quot;symbol&quot;))), date -&gt; ArraySeq(ConstraintSuggestion(CompletenessConstraint(Completeness(date,None)),date,Completeness: 1.0,'date' is not null,CompleteIfCompleteRule(),.isComplete(&quot;date&quot;)), ConstraintSuggestion(ComplianceConstraint(Compliance('date' has value range '08/07/2019', '08/22/2019', '08/21/2019', '08/15/2019', '08/08/2019', '08/09/2019', '08/02/2019', '08/17/2019', '08/19/2019', '08/26/2019', '08/16/2019', '08/18/2019', '08/11/2019', '08/29/2019', '08/13/2019', '08/28/2019', '08/06/2019', '08/27/2019', '08/01/2019', '08/04/2019', '08/25/2019', '08/24/2019', '08/05/2019', '08/10/2019', '08/14/2019', '08/03/2019', '08/20/2019', '08/30/2019', '08/23/2019', '08/12/2019',`date` IN ('08/07/2019', '08/22/2019', '08/21/2019', '08/15/2019', '08/08/2019', '08/09/2019', '08/02/2019', '08/17/2019', '08/19/2019', '08/26/2019', '08/16/2019', '08/18/2019', '08/11/2019', '08/29/2019', '08/13/2019', '08/28/2019', '08/06/2019', '08/27/2019', '08/01/2019', '08/04/2019', '08/25/2019', '08/24/2019', '08/05/2019', '08/10/2019', '08/14/2019', '08/03/2019', '08/20/2019', '08/30/2019', '08/23/2019', '08/12/2019'),None)),date,Compliance: 1,'date' has value range '08/07/2019', '08/22/2019', '08/21/2019', '08/15/2019', '08/08/2019', '08/09/2019', '08/02/2019', '08/17/2019', '08/19/2019', '08/26/2019', '08/16/2019', '08/18/2019', '08/11/2019', '08/29/2019', '08/13/2019', '08/28/2019', '08/06/2019', '08/27/2019', '08/01/2019', '08/04/2019', '08/25/2019', '08/24/2019', '08/05/2019', '08/10/2019', '08/14/2019', '08/03/2019', '08/20/2019', '08/30/2019', '08/23/2019', '08/12/2019',CategoricalRangeRule(),.isContainedIn(&quot;date&quot;, Array(&quot;08/07/2019&quot;, &quot;08/22/2019&quot;, &quot;08/21/2019&quot;, &quot;08/15/2019&quot;, &quot;08/08/2019&quot;, &quot;08/09/2019&quot;, &quot;08/02/2019&quot;, &quot;08/17/2019&quot;, &quot;08/19/2019&quot;, &quot;08/26/2019&quot;, &quot;08/16/2019&quot;, &quot;08/18/2019&quot;, &quot;08/11/2019&quot;, &quot;08/29/2019&quot;, &quot;08/13/2019&quot;, &quot;08/28/2019&quot;, &quot;08/06/2019&quot;, &quot;08/27/2019&quot;, &quot;08/01/2019&quot;, &quot;08/04/2019&quot;, &quot;08/25/2019&quot;, &quot;08/24/2019&quot;, &quot;08/05/2019&quot;, &quot;08/10/2019&quot;, &quot;08/14/2019&quot;, &quot;08/03/2019&quot;, &quot;08/20/2019&quot;, &quot;08/30/2019&quot;, &quot;08/23/2019&quot;, &quot;08/12/2019&quot;))), ConstraintSuggestion(ComplianceConstraint(Compliance('date' has value range '08/07/2019', '08/22/2019', '08/21/2019', '08/15/2019', '08/08/2019', '08/09/2019', '08/02/2019', '08/17/2019', '08/19/2019', '08/26/2019', '08/16/2019', '08/18/2019', '08/11/2019', '08/29/2019', '08/13/2019', '08/28/2019', '08/06/2019', '08/27/2019', '08/01/2019', '08/04/2019', '08/25/2019', '08/24/2019', '08/05/2019', '08/10/2019', '08/14/2019', '08/03/2019' for at least 88.0% of values,`date` IN ('08/07/2019', '08/22/2019', '08/21/2019', '08/15/2019', '08/08/2019', '08/09/2019', '08/02/2019', '08/17/2019', '08/19/2019', '08/26/2019', '08/16/2019', '08/18/2019', '08/11/2019', '08/29/2019', '08/13/2019', '08/28/2019', '08/06/2019', '08/27/2019', '08/01/2019', '08/04/2019', '08/25/2019', '08/24/2019', '08/05/2019', '08/10/2019', '08/14/2019', '08/03/2019'),None)),date,Compliance: 0.9020000000000002,'date' has value range '08/07/2019', '08/22/2019', '08/21/2019', '08/15/2019', '08/08/2019', '08/09/2019', '08/02/2019', '08/17/2019', '08/19/2019', '08/26/2019', '08/16/2019', '08/18/2019', '08/11/2019', '08/29/2019', '08/13/2019', '08/28/2019', '08/06/2019', '08/27/2019', '08/01/2019', '08/04/2019', '08/25/2019', '08/24/2019', '08/05/2019', '08/10/2019', '08/14/2019', '08/03/2019' for at least 88.0% of values,FractionalCategoricalRangeRule(0.9),.isContainedIn(&quot;date&quot;, Array(&quot;08/07/2019&quot;, &quot;08/22/2019&quot;, &quot;08/21/2019&quot;, &quot;08/15/2019&quot;, &quot;08/08/2019&quot;, &quot;08/09/2019&quot;, &quot;08/02/2019&quot;, &quot;08/17/2019&quot;, &quot;08/19/2019&quot;, &quot;08/26/2019&quot;, &quot;08/16/2019&quot;, &quot;08/18/2019&quot;, &quot;08/11/2019&quot;, &quot;08/29/2019&quot;, &quot;08/13/2019&quot;, &quot;08/28/2019&quot;, &quot;08/06/2019&quot;, &quot;08/27/2019&quot;, &quot;08/01/2019&quot;, &quot;08/04/2019&quot;, &quot;08/25/2019&quot;, &quot;08/24/2019&quot;, &quot;08/05/2019&quot;, &quot;08/10/2019&quot;, &quot;08/14/2019&quot;, &quot;08/03/2019&quot;), _ &gt;= 0.88, Some(&quot;It should be above 0.88!&quot;)))), ordertype -&gt; ArraySeq(ConstraintSuggestion(CompletenessConstraint(Completeness(ordertype,None)),ordertype,Completeness: 1.0,'ordertype' is not null,CompleteIfCompleteRule(),.isComplete(&quot;ordertype&quot;)), ConstraintSuggestion(ComplianceConstraint(Compliance('ordertype' has value range 'quote', 'bestLimit', 'cmo', 'batch', 'market', 'marketToLimit', 'cross', 'oco', 'limit',`ordertype` IN ('quote', 'bestLimit', 'cmo', 'batch', 'market', 'marketToLimit', 'cross', 'oco', 'limit'),None)),ordertype,Compliance: 1,'ordertype' has value range 'quote', 'bestLimit', 'cmo', 'batch', 'market', 'marketToLimit', 'cross', 'oco', 'limit',CategoricalRangeRule(),.isContainedIn(&quot;ordertype&quot;, Array(&quot;quote&quot;, &quot;bestLimit&quot;, &quot;cmo&quot;, &quot;batch&quot;, &quot;market&quot;, &quot;marketToLimit&quot;, &quot;cross&quot;, &quot;oco&quot;, &quot;limit&quot;))), ConstraintSuggestion(ComplianceConstraint(Compliance('ordertype' has value range 'quote', 'bestLimit', 'cmo', 'batch', 'market', 'marketToLimit', 'cross', 'oco' for at least 89.0% of values,`ordertype` IN ('quote', 'bestLimit', 'cmo', 'batch', 'market', 'marketToLimit', 'cross', 'oco'),None)),ordertype,Compliance: 0.914,'ordertype' has value range 'quote', 'bestLimit', 'cmo', 'batch', 'market', 'marketToLimit', 'cross', 'oco' for at least 89.0% of values,FractionalCategoricalRangeRule(0.9),.isContainedIn(&quot;ordertype&quot;, Array(&quot;quote&quot;, &quot;bestLimit&quot;, &quot;cmo&quot;, &quot;batch&quot;, &quot;market&quot;, &quot;marketToLimit&quot;, &quot;cross&quot;, &quot;oco&quot;), _ &gt;= 0.89, Some(&quot;It should be above 0.89!&quot;)))), buysell -&gt; ArraySeq(ConstraintSuggestion(CompletenessConstraint(Completeness(buysell,None)),buysell,Completeness: 0.962,'buysell' has less than 5% missing values,RetainCompletenessRule(),.hasCompleteness(&quot;buysell&quot;, _ &gt;= 0.95, Some(&quot;It should be above 0.95!&quot;))), ConstraintSuggestion(ComplianceConstraint(Compliance('buysell' has value range 'buy', 'sell',`buysell` IN ('buy', 'sell'),None)),buysell,Compliance: 1,'buysell' has value range 'buy', 'sell',CategoricalRangeRule(),.isContainedIn(&quot;buysell&quot;, Array(&quot;buy&quot;, &quot;sell&quot;))), ConstraintSuggestion(ComplianceConstraint(Compliance('buysell' has value range 'buy', 'sell' for at least 95.0% of values,`buysell` IN ('buy', 'sell'),None)),buysell,Compliance: 0.962,'buysell' has value range 'buy', 'sell' for at least 95.0% of values,FractionalCategoricalRangeRule(0.9),.isContainedIn(&quot;buysell&quot;, Array(&quot;buy&quot;, &quot;sell&quot;), _ &gt;= 0.95, Some(&quot;It should be above 0.95!&quot;)))), time -&gt; ArraySeq(ConstraintSuggestion(CompletenessConstraint(Completeness(time,None)),time,Completeness: 1.0,'time' is not null,CompleteIfCompleteRule(),.isComplete(&quot;time&quot;)))),None)\n</div>",
       "datasetInfos": [],
       "metadata": {},
       "removedWidgets": [],
       "type": "html"
      }
     },
     "output_type": "display_data"
    }
   ],
   "source": [
    "%scala\n",
    "val suggestionResult = ConstraintSuggestionRunner()\n",
    "  .onData(spark.sql(\"SELECT * FROM trades_historical\"))\n",
    "  .addConstraintRules(Rules.DEFAULT)\n",
    "  .run()\n",
    "\n",
    "suggestionResult.constraintSuggestions.foreach { case (column, suggestions) =>\n",
    "  suggestions.foreach { suggestion =>\n",
    "    println(s\"Constraint suggestion for '$column':\\t${suggestion.description}\\n\" +\n",
    "      s\"The corresponding scala code is ${suggestion.codeForConstraint}\\n\")\n",
    "  }\n",
    "}"
   ]
  },
  {
   "cell_type": "markdown",
   "metadata": {
    "application/vnd.databricks.v1+cell": {
     "cellMetadata": {},
     "inputWidgets": {},
     "nuid": "e5f1f270-dc33-4f05-be41-3600af6685cd",
     "showTitle": false,
     "title": ""
    }
   },
   "source": [
    "Currently, Deequ leaves it to us to decide which of these constraints to actually use. We'll choose a few to run on our full dataset. We'll also set up a few other pieces provided by Deequ to hold our stateful metrics."
   ]
  },
  {
   "cell_type": "code",
   "execution_count": 0,
   "metadata": {
    "application/vnd.databricks.v1+cell": {
     "cellMetadata": {},
     "inputWidgets": {},
     "nuid": "aa5a5617-2998-4787-b457-4339d0e3af87",
     "showTitle": false,
     "title": ""
    }
   },
   "outputs": [
    {
     "output_type": "display_data",
     "data": {
      "text/html": [
       "<style scoped>\n",
       "  .ansiout {\n",
       "    display: block;\n",
       "    unicode-bidi: embed;\n",
       "    white-space: pre-wrap;\n",
       "    word-wrap: break-word;\n",
       "    word-break: break-all;\n",
       "    font-family: \"Menlo\", \"Monaco\", \"Consolas\", \"Ubuntu Mono\", \"Source Code Pro\", monospace;\n",
       "    font-size: 13px;\n",
       "    color: #555;\n",
       "    margin-left: 4px;\n",
       "    line-height: 19px;\n",
       "  }\n",
       "</style>\n",
       "<div class=\"ansiout\">stateStoreCurr: com.amazon.deequ.analyzers.InMemoryStateProvider =\n",
       "stateStoreNext: com.amazon.deequ.analyzers.InMemoryStateProvider =\n",
       "analysis: com.amazon.deequ.analyzers.Analysis = Analysis(List(Size(None), ApproxCountDistinct(symbol,None), Distinctness(List(symbol)), Completeness(ipaddr,None), Completeness(quantity,None), Completeness(price,None), Compliance(top quantity,quantity &gt;= 0,None)))\n",
       "</div>"
      ]
     },
     "metadata": {
      "application/vnd.databricks.v1+output": {
       "addedWidgets": {},
       "arguments": {},
       "data": "<div class=\"ansiout\">stateStoreCurr: com.amazon.deequ.analyzers.InMemoryStateProvider =\nstateStoreNext: com.amazon.deequ.analyzers.InMemoryStateProvider =\nanalysis: com.amazon.deequ.analyzers.Analysis = Analysis(List(Size(None), ApproxCountDistinct(symbol,None), Distinctness(List(symbol)), Completeness(ipaddr,None), Completeness(quantity,None), Completeness(price,None), Compliance(top quantity,quantity &gt;= 0,None)))\n</div>",
       "datasetInfos": [],
       "metadata": {},
       "removedWidgets": [],
       "type": "html"
      }
     },
     "output_type": "display_data"
    }
   ],
   "source": [
    "%scala\n",
    "// create a stateStore to hold our stateful metrics\n",
    "val stateStoreCurr = InMemoryStateProvider()\n",
    "val stateStoreNext = InMemoryStateProvider()\n",
    "\n",
    "// create the analyzer to run on the streaming data\n",
    "val analysis = Analysis()\n",
    ".addAnalyzer(Size())\n",
    ".addAnalyzer(ApproxCountDistinct(\"symbol\"))\n",
    ".addAnalyzer(Distinctness(\"symbol\"))\n",
    ".addAnalyzer(Completeness(\"ipaddr\"))\n",
    ".addAnalyzer(Completeness(\"quantity\"))\n",
    ".addAnalyzer(Completeness(\"price\"))\n",
    ".addAnalyzer(Compliance(\"top quantity\", \"quantity >= 0\"))"
   ]
  },
  {
   "cell_type": "markdown",
   "metadata": {
    "application/vnd.databricks.v1+cell": {
     "cellMetadata": {},
     "inputWidgets": {},
     "nuid": "a6660b26-cbbf-4acc-9023-41cff006ae4b",
     "showTitle": false,
     "title": ""
    }
   },
   "source": [
    "Now that everything is in place, we can run the stream to populate our delta table. \n",
    "\n",
    "Note that before running this cell, it is preferable to run the other streaming cells below first, so that they will consume all of the records from this producer."
   ]
  },
  {
   "cell_type": "code",
   "execution_count": 0,
   "metadata": {
    "application/vnd.databricks.v1+cell": {
     "cellMetadata": {},
     "inputWidgets": {},
     "nuid": "7ecc9d02-1984-415c-8180-a93a24eca9c3",
     "showTitle": false,
     "title": ""
    }
   },
   "outputs": [
    {
     "output_type": "display_data",
     "data": {
      "text/html": [
       "<style scoped>\n",
       "  .ansiout {\n",
       "    display: block;\n",
       "    unicode-bidi: embed;\n",
       "    white-space: pre-wrap;\n",
       "    word-wrap: break-word;\n",
       "    word-break: break-all;\n",
       "    font-family: \"Menlo\", \"Monaco\", \"Consolas\", \"Ubuntu Mono\", \"Source Code Pro\", monospace;\n",
       "    font-size: 13px;\n",
       "    color: #555;\n",
       "    margin-left: 4px;\n",
       "    line-height: 19px;\n",
       "  }\n",
       "</style>\n",
       "<div class=\"ansiout\">schema: org.apache.spark.sql.types.StructType = StructType(StructField(buysell,StringType,true), StructField(date,StringType,true), StructField(ipaddr,StringType,true), StructField(ordertype,StringType,true), StructField(price,DoubleType,true), StructField(quantity,DoubleType,true), StructField(symbol,StringType,true), StructField(time,StringType,true))\n",
       "res8: org.apache.spark.sql.streaming.StreamingQuery = org.apache.spark.sql.execution.streaming.StreamingQueryWrapper@16d376e9\n",
       "</div>"
      ]
     },
     "metadata": {
      "application/vnd.databricks.v1+output": {
       "addedWidgets": {},
       "arguments": {},
       "data": "<div class=\"ansiout\">schema: org.apache.spark.sql.types.StructType = StructType(StructField(buysell,StringType,true), StructField(date,StringType,true), StructField(ipaddr,StringType,true), StructField(ordertype,StringType,true), StructField(price,DoubleType,true), StructField(quantity,DoubleType,true), StructField(symbol,StringType,true), StructField(time,StringType,true))\nres8: org.apache.spark.sql.streaming.StreamingQuery = org.apache.spark.sql.execution.streaming.StreamingQueryWrapper@16d376e9\n</div>",
       "datasetInfos": [],
       "metadata": {},
       "removedWidgets": [],
       "type": "html"
      }
     },
     "output_type": "display_data"
    }
   ],
   "source": [
    "%scala\n",
    "// parse the schema for the source parquet\n",
    "val schema = base_df.schema\n",
    "\n",
    "// start the stream\n",
    "spark.readStream\n",
    ".schema(schema)\n",
    ".format(\"parquet\")\n",
    ".option(\"maxFilesPerTrigger\",1)\n",
    ".load(data_path)\n",
    ".writeStream.format(\"delta\")\n",
    ".option(\"failOnDataLoss\", false)\n",
    ".option(\"checkpointLocation\", checkpoint_path)\n",
    ".format(\"delta\").table(\"trades_delta\")"
   ]
  },
  {
   "cell_type": "markdown",
   "metadata": {
    "application/vnd.databricks.v1+cell": {
     "cellMetadata": {},
     "inputWidgets": {},
     "nuid": "cc1d5b5a-4df0-4098-9c9a-a2f2028ac7f9",
     "showTitle": false,
     "title": ""
    }
   },
   "source": [
    "We now need to read the delta table we just created, so that we can apply the Deequ analysis to this data. To do this, we first read the previous delta table as a stream, and then use foreachBatch to do the following:\n",
    "- Set up the stateStores\n",
    "- Run our analysis on the current batch\n",
    "- Run a unit validation on the current batch\n",
    "- If unit verification fails, add the batch to the bad records table\n",
    "- Update the metrics table with the current batch\n",
    "\n",
    "This cell writes to two tables: bad_records (which contains records from any batch that fails validation) and deequ_metrics (which contains the latest aggregated metrics from all streaming records)."
   ]
  },
  {
   "cell_type": "code",
   "execution_count": 0,
   "metadata": {
    "application/vnd.databricks.v1+cell": {
     "cellMetadata": {},
     "inputWidgets": {},
     "nuid": "04a7edeb-c6d7-4c5b-80ad-6785e9ba69be",
     "showTitle": false,
     "title": ""
    }
   },
   "outputs": [
    {
     "output_type": "display_data",
     "data": {
      "text/html": [
       "<style scoped>\n",
       "  .ansiout {\n",
       "    display: block;\n",
       "    unicode-bidi: embed;\n",
       "    white-space: pre-wrap;\n",
       "    word-wrap: break-word;\n",
       "    word-break: break-all;\n",
       "    font-family: \"Menlo\", \"Monaco\", \"Consolas\", \"Ubuntu Mono\", \"Source Code Pro\", monospace;\n",
       "    font-size: 13px;\n",
       "    color: #555;\n",
       "    margin-left: 4px;\n",
       "    line-height: 19px;\n",
       "  }\n",
       "</style>\n",
       "<div class=\"ansiout\">res9: org.apache.spark.sql.streaming.StreamingQuery = org.apache.spark.sql.execution.streaming.StreamingQueryWrapper@3af87bb4\n",
       "</div>"
      ]
     },
     "metadata": {
      "application/vnd.databricks.v1+output": {
       "addedWidgets": {},
       "arguments": {},
       "data": "<div class=\"ansiout\">res9: org.apache.spark.sql.streaming.StreamingQuery = org.apache.spark.sql.execution.streaming.StreamingQueryWrapper@3af87bb4\n</div>",
       "datasetInfos": [],
       "metadata": {},
       "removedWidgets": [],
       "type": "html"
      }
     },
     "output_type": "display_data"
    }
   ],
   "source": [
    "%scala\n",
    "// read the delta table and analyze\n",
    "spark.readStream\n",
    ".format(\"delta\")\n",
    ".table(\"trades_delta\")\n",
    ".writeStream\n",
    ".foreachBatch { (batchDF: DataFrame, batchId: Long) =>\n",
    "  \n",
    "  // reassign our current state to the previous next state\n",
    "  val stateStoreCurr = stateStoreNext\n",
    "  \n",
    "  // run our analysis on the current batch, aggregate with saved state\n",
    "  val metricsResult = AnalysisRunner.run(\n",
    "    data = batchDF,\n",
    "    analysis = analysis,\n",
    "    aggregateWith = Some(stateStoreCurr),\n",
    "    saveStatesWith = Some(stateStoreNext))\n",
    "  \n",
    "  // verify critical metrics for this microbatch i.e., trade quantity, ipaddr not null, etc.\n",
    "  val verificationResult = VerificationSuite()\n",
    "  .onData(batchDF)\n",
    "  .addCheck(\n",
    "    Check(CheckLevel.Error, \"unitTest\")\n",
    "      .hasMax(\"quantity\", _ <= 10000) // max is 10000\n",
    "      .hasCompleteness(\"ipaddr\", _ >= 0.95) // 95%+ non-null IPs\n",
    "      .isNonNegative(\"quantity\")) // should not contain negative values\n",
    "    .run()\n",
    "  \n",
    "  // if verification fails, write batch to bad records table\n",
    "  if (verificationResult.status != CheckStatus.Success) {\n",
    "    batchDF.withColumn(\"batchID\",lit(batchId))\n",
    "    .write.format(\"delta\").mode(\"append\").saveAsTable(\"bad_records\")\n",
    "  }\n",
    "  \n",
    "  // get the current metrics as a dataframe\n",
    "  val metric_results = successMetricsAsDataFrame(spark, metricsResult)\n",
    "  .withColumn(\"ts\", current_timestamp())\n",
    "  \n",
    "  // write the current results into the metrics table\n",
    "  metric_results.write.format(\"delta\").mode(\"Overwrite\").saveAsTable(\"deequ_metrics\")\n",
    "\n",
    "}\n",
    ".start()"
   ]
  },
  {
   "cell_type": "markdown",
   "metadata": {
    "application/vnd.databricks.v1+cell": {
     "cellMetadata": {},
     "inputWidgets": {},
     "nuid": "0dd5aebf-4ab9-4ccc-a201-2e0067dfda62",
     "showTitle": false,
     "title": ""
    }
   },
   "source": [
    "Now, we can visualize the metrics. Note that because we are updating the table, we need to set `ignoreChanges` to `true`. This means each update of the metrics will be written as a duplicate entry; we can parse this out to only take the latest view, or we can use this to create a time series view of the data quality."
   ]
  },
  {
   "cell_type": "code",
   "execution_count": 0,
   "metadata": {
    "application/vnd.databricks.v1+cell": {
     "cellMetadata": {},
     "inputWidgets": {},
     "nuid": "504db2f1-4d39-456c-81fd-155116133305",
     "showTitle": false,
     "title": ""
    }
   },
   "outputs": [
    {
     "output_type": "display_data",
     "data": {
      "text/html": [
       "<style scoped>\n",
       "  .table-result-container {\n",
       "    max-height: 300px;\n",
       "    overflow: auto;\n",
       "  }\n",
       "  table, th, td {\n",
       "    border: 1px solid black;\n",
       "    border-collapse: collapse;\n",
       "  }\n",
       "  th, td {\n",
       "    padding: 5px;\n",
       "  }\n",
       "  th {\n",
       "    text-align: left;\n",
       "  }\n",
       "</style><div class='table-result-container'><table class='table-result'><thead style='background-color: white'><tr><th>entity</th><th>instance</th><th>name</th><th>value</th><th>ts</th></tr></thead><tbody><tr><td>Column</td><td>symbol</td><td>ApproxCountDistinct</td><td>778.0</td><td>2019-10-14T14:27:04.009+0000</td></tr><tr><td>Dataset</td><td>*</td><td>Size</td><td>798.0</td><td>2019-10-14T14:27:04.009+0000</td></tr><tr><td>Column</td><td>symbol</td><td>ApproxCountDistinct</td><td>2124.0</td><td>2019-10-14T14:27:26.832+0000</td></tr><tr><td>Dataset</td><td>*</td><td>Size</td><td>2798.0</td><td>2019-10-14T14:27:26.832+0000</td></tr><tr><td>Dataset</td><td>*</td><td>Size</td><td>4500.0</td><td>2019-10-14T14:27:43.096+0000</td></tr><tr><td>Column</td><td>symbol</td><td>ApproxCountDistinct</td><td>3054.0</td><td>2019-10-14T14:27:43.096+0000</td></tr><tr><td>Dataset</td><td>*</td><td>Size</td><td>5300.0</td><td>2019-10-14T14:28:00.349+0000</td></tr><tr><td>Column</td><td>symbol</td><td>ApproxCountDistinct</td><td>3355.0</td><td>2019-10-14T14:28:00.349+0000</td></tr><tr><td>Dataset</td><td>*</td><td>Size</td><td>6798.0</td><td>2019-10-14T14:28:17.592+0000</td></tr><tr><td>Column</td><td>symbol</td><td>ApproxCountDistinct</td><td>3965.0</td><td>2019-10-14T14:28:17.592+0000</td></tr><tr><td>Column</td><td>symbol</td><td>ApproxCountDistinct</td><td>4720.0</td><td>2019-10-14T14:28:37.115+0000</td></tr><tr><td>Dataset</td><td>*</td><td>Size</td><td>8798.0</td><td>2019-10-14T14:28:37.115+0000</td></tr><tr><td>Dataset</td><td>*</td><td>Size</td><td>10499.0</td><td>2019-10-14T14:28:58.151+0000</td></tr><tr><td>Column</td><td>symbol</td><td>ApproxCountDistinct</td><td>5144.0</td><td>2019-10-14T14:28:58.151+0000</td></tr><tr><td>Dataset</td><td>*</td><td>Size</td><td>11798.0</td><td>2019-10-14T14:29:22.389+0000</td></tr><tr><td>Column</td><td>symbol</td><td>ApproxCountDistinct</td><td>5313.0</td><td>2019-10-14T14:29:22.389+0000</td></tr><tr><td>Dataset</td><td>*</td><td>Size</td><td>13098.0</td><td>2019-10-14T14:29:49.314+0000</td></tr><tr><td>Column</td><td>symbol</td><td>ApproxCountDistinct</td><td>5512.0</td><td>2019-10-14T14:29:49.314+0000</td></tr><tr><td>Column</td><td>symbol</td><td>ApproxCountDistinct</td><td>5677.0</td><td>2019-10-14T14:30:27.609+0000</td></tr><tr><td>Dataset</td><td>*</td><td>Size</td><td>15502.0</td><td>2019-10-14T14:30:27.609+0000</td></tr></tbody></table></div>"
      ]
     },
     "metadata": {
      "application/vnd.databricks.v1+output": {
       "addedWidgets": {},
       "aggData": [],
       "aggError": "",
       "aggOverflow": false,
       "aggSchema": [],
       "aggSeriesLimitReached": false,
       "aggType": "",
       "arguments": {},
       "columnCustomDisplayInfos": {},
       "data": [
        [
         "Column",
         "symbol",
         "ApproxCountDistinct",
         778.0,
         "2019-10-14T14:27:04.009+0000"
        ],
        [
         "Dataset",
         "*",
         "Size",
         798.0,
         "2019-10-14T14:27:04.009+0000"
        ],
        [
         "Column",
         "symbol",
         "ApproxCountDistinct",
         2124.0,
         "2019-10-14T14:27:26.832+0000"
        ],
        [
         "Dataset",
         "*",
         "Size",
         2798.0,
         "2019-10-14T14:27:26.832+0000"
        ],
        [
         "Dataset",
         "*",
         "Size",
         4500.0,
         "2019-10-14T14:27:43.096+0000"
        ],
        [
         "Column",
         "symbol",
         "ApproxCountDistinct",
         3054.0,
         "2019-10-14T14:27:43.096+0000"
        ],
        [
         "Dataset",
         "*",
         "Size",
         5300.0,
         "2019-10-14T14:28:00.349+0000"
        ],
        [
         "Column",
         "symbol",
         "ApproxCountDistinct",
         3355.0,
         "2019-10-14T14:28:00.349+0000"
        ],
        [
         "Dataset",
         "*",
         "Size",
         6798.0,
         "2019-10-14T14:28:17.592+0000"
        ],
        [
         "Column",
         "symbol",
         "ApproxCountDistinct",
         3965.0,
         "2019-10-14T14:28:17.592+0000"
        ],
        [
         "Column",
         "symbol",
         "ApproxCountDistinct",
         4720.0,
         "2019-10-14T14:28:37.115+0000"
        ],
        [
         "Dataset",
         "*",
         "Size",
         8798.0,
         "2019-10-14T14:28:37.115+0000"
        ],
        [
         "Dataset",
         "*",
         "Size",
         10499.0,
         "2019-10-14T14:28:58.151+0000"
        ],
        [
         "Column",
         "symbol",
         "ApproxCountDistinct",
         5144.0,
         "2019-10-14T14:28:58.151+0000"
        ],
        [
         "Dataset",
         "*",
         "Size",
         11798.0,
         "2019-10-14T14:29:22.389+0000"
        ],
        [
         "Column",
         "symbol",
         "ApproxCountDistinct",
         5313.0,
         "2019-10-14T14:29:22.389+0000"
        ],
        [
         "Dataset",
         "*",
         "Size",
         13098.0,
         "2019-10-14T14:29:49.314+0000"
        ],
        [
         "Column",
         "symbol",
         "ApproxCountDistinct",
         5512.0,
         "2019-10-14T14:29:49.314+0000"
        ],
        [
         "Column",
         "symbol",
         "ApproxCountDistinct",
         5677.0,
         "2019-10-14T14:30:27.609+0000"
        ],
        [
         "Dataset",
         "*",
         "Size",
         15502.0,
         "2019-10-14T14:30:27.609+0000"
        ]
       ],
       "datasetInfos": [],
       "dbfsResultPath": null,
       "isJsonSchema": true,
       "metadata": {},
       "overflow": false,
       "plotOptions": {
        "customPlotOptions": {
         "barChart": [
          {
           "key": "grouped",
           "value": true
          },
          {
           "key": "stacked",
           "value": false
          },
          {
           "key": "100_stacked",
           "value": false
          }
         ],
         "mgLine": [
          {
           "key": "param",
           "value": "{\"top\":20,\"bottom\":50,\"area\":false,\"missing_is_hidden\":true,\"legend_target\":\".dummy\",\"animate_on_load\":false,\"transition_on_update\":false,\"legend\":[\"ApproxCountDistinct\",\"Size\"],\"x_label\":\"ts\",\"colors\":[\"#1f77b4\",\"#ff7f0e\"]}"
          }
         ]
        },
        "displayType": "mgLine",
        "pivotAggregation": "sum",
        "pivotColumns": [
         "name",
         "instance"
        ],
        "xColumns": [
         "ts"
        ],
        "yColumns": [
         "value"
        ]
       },
       "removedWidgets": [],
       "schema": [
        {
         "metadata": "{}",
         "name": "entity",
         "type": "\"string\""
        },
        {
         "metadata": "{}",
         "name": "instance",
         "type": "\"string\""
        },
        {
         "metadata": "{}",
         "name": "name",
         "type": "\"string\""
        },
        {
         "metadata": "{}",
         "name": "value",
         "type": "\"double\""
        },
        {
         "metadata": "{}",
         "name": "ts",
         "type": "\"timestamp\""
        }
       ],
       "type": "table"
      }
     },
     "output_type": "display_data"
    }
   ],
   "source": [
    "%scala\n",
    "display(spark.readStream.format(\"delta\")\n",
    "        .option(\"ignoreChanges\", \"true\")\n",
    "        .table(\"deequ_metrics\")\n",
    "        .where($\"name\" === \"Size\" || $\"name\" === \"ApproxCountDistinct\"))"
   ]
  },
  {
   "cell_type": "code",
   "execution_count": 0,
   "metadata": {
    "application/vnd.databricks.v1+cell": {
     "cellMetadata": {},
     "inputWidgets": {},
     "nuid": "e2608573-e816-4deb-bfe8-3ab6204f6597",
     "showTitle": false,
     "title": ""
    }
   },
   "outputs": [
    {
     "output_type": "display_data",
     "data": {
      "text/html": [
       "<style scoped>\n",
       "  .table-result-container {\n",
       "    max-height: 300px;\n",
       "    overflow: auto;\n",
       "  }\n",
       "  table, th, td {\n",
       "    border: 1px solid black;\n",
       "    border-collapse: collapse;\n",
       "  }\n",
       "  th, td {\n",
       "    padding: 5px;\n",
       "  }\n",
       "  th {\n",
       "    text-align: left;\n",
       "  }\n",
       "</style><div class='table-result-container'><table class='table-result'><thead style='background-color: white'><tr><th>entity</th><th>instance</th><th>name</th><th>value</th><th>ts</th></tr></thead><tbody><tr><td>Column</td><td>quantity</td><td>Completeness</td><td>0.9473684210526315</td><td>2019-10-14T14:27:04.009+0000</td></tr><tr><td>Column</td><td>price</td><td>Completeness</td><td>0.9799498746867168</td><td>2019-10-14T14:27:04.009+0000</td></tr><tr><td>Column</td><td>symbol</td><td>Distinctness</td><td>0.943609022556391</td><td>2019-10-14T14:27:04.009+0000</td></tr><tr><td>Column</td><td>ipaddr</td><td>Completeness</td><td>0.9473684210526315</td><td>2019-10-14T14:27:04.009+0000</td></tr><tr><td>Column</td><td>price</td><td>Completeness</td><td>0.9796283059328091</td><td>2019-10-14T14:27:26.832+0000</td></tr><tr><td>Column</td><td>ipaddr</td><td>Completeness</td><td>0.9610436025732666</td><td>2019-10-14T14:27:26.832+0000</td></tr><tr><td>Column</td><td>quantity</td><td>Completeness</td><td>0.9610436025732666</td><td>2019-10-14T14:27:26.832+0000</td></tr><tr><td>Column</td><td>symbol</td><td>Distinctness</td><td>0.8070050035739814</td><td>2019-10-14T14:27:26.832+0000</td></tr><tr><td>Column</td><td>price</td><td>Completeness</td><td>0.9793333333333333</td><td>2019-10-14T14:27:43.096+0000</td></tr><tr><td>Column</td><td>quantity</td><td>Completeness</td><td>0.9631111111111111</td><td>2019-10-14T14:27:43.096+0000</td></tr><tr><td>Column</td><td>symbol</td><td>Distinctness</td><td>0.7202222222222222</td><td>2019-10-14T14:27:43.096+0000</td></tr><tr><td>Column</td><td>ipaddr</td><td>Completeness</td><td>0.9631111111111111</td><td>2019-10-14T14:27:43.096+0000</td></tr><tr><td>Column</td><td>price</td><td>Completeness</td><td>0.979811320754717</td><td>2019-10-14T14:28:00.349+0000</td></tr><tr><td>Column</td><td>ipaddr</td><td>Completeness</td><td>0.9622641509433962</td><td>2019-10-14T14:28:00.349+0000</td></tr><tr><td>Column</td><td>symbol</td><td>Distinctness</td><td>0.6777358490566038</td><td>2019-10-14T14:28:00.349+0000</td></tr><tr><td>Column</td><td>quantity</td><td>Completeness</td><td>0.9622641509433962</td><td>2019-10-14T14:28:00.349+0000</td></tr><tr><td>Column</td><td>price</td><td>Completeness</td><td>0.9802883200941453</td><td>2019-10-14T14:28:17.592+0000</td></tr><tr><td>Column</td><td>symbol</td><td>Distinctness</td><td>0.6110620770814945</td><td>2019-10-14T14:28:17.592+0000</td></tr><tr><td>Column</td><td>ipaddr</td><td>Completeness</td><td>0.9599882318328921</td><td>2019-10-14T14:28:17.592+0000</td></tr><tr><td>Column</td><td>quantity</td><td>Completeness</td><td>0.9599882318328921</td><td>2019-10-14T14:28:17.592+0000</td></tr><tr><td>Column</td><td>ipaddr</td><td>Completeness</td><td>0.9619231643555354</td><td>2019-10-14T14:28:37.115+0000</td></tr><tr><td>Column</td><td>quantity</td><td>Completeness</td><td>0.9619231643555354</td><td>2019-10-14T14:28:37.115+0000</td></tr><tr><td>Column</td><td>price</td><td>Completeness</td><td>0.9813593998636053</td><td>2019-10-14T14:28:37.115+0000</td></tr><tr><td>Column</td><td>symbol</td><td>Distinctness</td><td>0.5378495112525574</td><td>2019-10-14T14:28:37.115+0000</td></tr><tr><td>Column</td><td>quantity</td><td>Completeness</td><td>0.9622821221068674</td><td>2019-10-14T14:28:58.151+0000</td></tr><tr><td>Column</td><td>ipaddr</td><td>Completeness</td><td>0.9622821221068674</td><td>2019-10-14T14:28:58.151+0000</td></tr><tr><td>Column</td><td>symbol</td><td>Distinctness</td><td>0.4861415372892656</td><td>2019-10-14T14:28:58.151+0000</td></tr><tr><td>Column</td><td>price</td><td>Completeness</td><td>0.9803790837222592</td><td>2019-10-14T14:28:58.151+0000</td></tr><tr><td>Column</td><td>quantity</td><td>Completeness</td><td>0.9627055433124259</td><td>2019-10-14T14:29:22.389+0000</td></tr><tr><td>Column</td><td>price</td><td>Completeness</td><td>0.9806746906255297</td><td>2019-10-14T14:29:22.389+0000</td></tr><tr><td>Column</td><td>symbol</td><td>Distinctness</td><td>0.4506696050177996</td><td>2019-10-14T14:29:22.389+0000</td></tr><tr><td>Column</td><td>ipaddr</td><td>Completeness</td><td>0.9627055433124259</td><td>2019-10-14T14:29:22.389+0000</td></tr><tr><td>Column</td><td>symbol</td><td>Distinctness</td><td>0.4208276072682852</td><td>2019-10-14T14:29:49.314+0000</td></tr><tr><td>Column</td><td>ipaddr</td><td>Completeness</td><td>0.9622843182165216</td><td>2019-10-14T14:29:49.314+0000</td></tr><tr><td>Column</td><td>price</td><td>Completeness</td><td>0.9804550313024889</td><td>2019-10-14T14:29:49.314+0000</td></tr><tr><td>Column</td><td>quantity</td><td>Completeness</td><td>0.9622843182165216</td><td>2019-10-14T14:29:49.314+0000</td></tr><tr><td>Column</td><td>ipaddr</td><td>Completeness</td><td>0.9612953167333247</td><td>2019-10-14T14:30:27.609+0000</td></tr><tr><td>Column</td><td>symbol</td><td>Distinctness</td><td>0.3719520061927493</td><td>2019-10-14T14:30:27.609+0000</td></tr><tr><td>Column</td><td>price</td><td>Completeness</td><td>0.9803251193394401</td><td>2019-10-14T14:30:27.609+0000</td></tr><tr><td>Column</td><td>quantity</td><td>Completeness</td><td>0.9612953167333247</td><td>2019-10-14T14:30:27.609+0000</td></tr></tbody></table></div>"
      ]
     },
     "metadata": {
      "application/vnd.databricks.v1+output": {
       "addedWidgets": {},
       "aggData": [],
       "aggError": "",
       "aggOverflow": false,
       "aggSchema": [],
       "aggSeriesLimitReached": false,
       "aggType": "",
       "arguments": {},
       "columnCustomDisplayInfos": {},
       "data": [
        [
         "Column",
         "quantity",
         "Completeness",
         0.9473684210526315,
         "2019-10-14T14:27:04.009+0000"
        ],
        [
         "Column",
         "price",
         "Completeness",
         0.9799498746867168,
         "2019-10-14T14:27:04.009+0000"
        ],
        [
         "Column",
         "symbol",
         "Distinctness",
         0.943609022556391,
         "2019-10-14T14:27:04.009+0000"
        ],
        [
         "Column",
         "ipaddr",
         "Completeness",
         0.9473684210526315,
         "2019-10-14T14:27:04.009+0000"
        ],
        [
         "Column",
         "price",
         "Completeness",
         0.9796283059328091,
         "2019-10-14T14:27:26.832+0000"
        ],
        [
         "Column",
         "ipaddr",
         "Completeness",
         0.9610436025732666,
         "2019-10-14T14:27:26.832+0000"
        ],
        [
         "Column",
         "quantity",
         "Completeness",
         0.9610436025732666,
         "2019-10-14T14:27:26.832+0000"
        ],
        [
         "Column",
         "symbol",
         "Distinctness",
         0.8070050035739814,
         "2019-10-14T14:27:26.832+0000"
        ],
        [
         "Column",
         "price",
         "Completeness",
         0.9793333333333333,
         "2019-10-14T14:27:43.096+0000"
        ],
        [
         "Column",
         "quantity",
         "Completeness",
         0.9631111111111111,
         "2019-10-14T14:27:43.096+0000"
        ],
        [
         "Column",
         "symbol",
         "Distinctness",
         0.7202222222222222,
         "2019-10-14T14:27:43.096+0000"
        ],
        [
         "Column",
         "ipaddr",
         "Completeness",
         0.9631111111111111,
         "2019-10-14T14:27:43.096+0000"
        ],
        [
         "Column",
         "price",
         "Completeness",
         0.979811320754717,
         "2019-10-14T14:28:00.349+0000"
        ],
        [
         "Column",
         "ipaddr",
         "Completeness",
         0.9622641509433962,
         "2019-10-14T14:28:00.349+0000"
        ],
        [
         "Column",
         "symbol",
         "Distinctness",
         0.6777358490566038,
         "2019-10-14T14:28:00.349+0000"
        ],
        [
         "Column",
         "quantity",
         "Completeness",
         0.9622641509433962,
         "2019-10-14T14:28:00.349+0000"
        ],
        [
         "Column",
         "price",
         "Completeness",
         0.9802883200941453,
         "2019-10-14T14:28:17.592+0000"
        ],
        [
         "Column",
         "symbol",
         "Distinctness",
         0.6110620770814945,
         "2019-10-14T14:28:17.592+0000"
        ],
        [
         "Column",
         "ipaddr",
         "Completeness",
         0.9599882318328921,
         "2019-10-14T14:28:17.592+0000"
        ],
        [
         "Column",
         "quantity",
         "Completeness",
         0.9599882318328921,
         "2019-10-14T14:28:17.592+0000"
        ],
        [
         "Column",
         "ipaddr",
         "Completeness",
         0.9619231643555354,
         "2019-10-14T14:28:37.115+0000"
        ],
        [
         "Column",
         "quantity",
         "Completeness",
         0.9619231643555354,
         "2019-10-14T14:28:37.115+0000"
        ],
        [
         "Column",
         "price",
         "Completeness",
         0.9813593998636053,
         "2019-10-14T14:28:37.115+0000"
        ],
        [
         "Column",
         "symbol",
         "Distinctness",
         0.5378495112525574,
         "2019-10-14T14:28:37.115+0000"
        ],
        [
         "Column",
         "quantity",
         "Completeness",
         0.9622821221068674,
         "2019-10-14T14:28:58.151+0000"
        ],
        [
         "Column",
         "ipaddr",
         "Completeness",
         0.9622821221068674,
         "2019-10-14T14:28:58.151+0000"
        ],
        [
         "Column",
         "symbol",
         "Distinctness",
         0.4861415372892656,
         "2019-10-14T14:28:58.151+0000"
        ],
        [
         "Column",
         "price",
         "Completeness",
         0.9803790837222592,
         "2019-10-14T14:28:58.151+0000"
        ],
        [
         "Column",
         "quantity",
         "Completeness",
         0.9627055433124259,
         "2019-10-14T14:29:22.389+0000"
        ],
        [
         "Column",
         "price",
         "Completeness",
         0.9806746906255297,
         "2019-10-14T14:29:22.389+0000"
        ],
        [
         "Column",
         "symbol",
         "Distinctness",
         0.4506696050177996,
         "2019-10-14T14:29:22.389+0000"
        ],
        [
         "Column",
         "ipaddr",
         "Completeness",
         0.9627055433124259,
         "2019-10-14T14:29:22.389+0000"
        ],
        [
         "Column",
         "symbol",
         "Distinctness",
         0.4208276072682852,
         "2019-10-14T14:29:49.314+0000"
        ],
        [
         "Column",
         "ipaddr",
         "Completeness",
         0.9622843182165216,
         "2019-10-14T14:29:49.314+0000"
        ],
        [
         "Column",
         "price",
         "Completeness",
         0.9804550313024889,
         "2019-10-14T14:29:49.314+0000"
        ],
        [
         "Column",
         "quantity",
         "Completeness",
         0.9622843182165216,
         "2019-10-14T14:29:49.314+0000"
        ],
        [
         "Column",
         "ipaddr",
         "Completeness",
         0.9612953167333247,
         "2019-10-14T14:30:27.609+0000"
        ],
        [
         "Column",
         "symbol",
         "Distinctness",
         0.3719520061927493,
         "2019-10-14T14:30:27.609+0000"
        ],
        [
         "Column",
         "price",
         "Completeness",
         0.9803251193394401,
         "2019-10-14T14:30:27.609+0000"
        ],
        [
         "Column",
         "quantity",
         "Completeness",
         0.9612953167333247,
         "2019-10-14T14:30:27.609+0000"
        ]
       ],
       "datasetInfos": [],
       "dbfsResultPath": null,
       "isJsonSchema": true,
       "metadata": {},
       "overflow": false,
       "plotOptions": {
        "customPlotOptions": {
         "mgLine": [
          {
           "key": "param",
           "value": "{\"top\":20,\"bottom\":50,\"area\":false,\"missing_is_hidden\":true,\"legend_target\":\".dummy\",\"animate_on_load\":false,\"transition_on_update\":false,\"legend\":[\"quantity\",\"price\",\"symbol\",\"ipaddr\"],\"x_label\":\"ts\",\"colors\":[\"#2ca02c\",\"#ff7f0e\",\"#d62728\",\"#1f77b4\"]}"
          }
         ]
        },
        "displayType": "mgLine",
        "pivotAggregation": "sum",
        "pivotColumns": [
         "instance",
         "name"
        ],
        "xColumns": [
         "ts"
        ],
        "yColumns": [
         "value"
        ]
       },
       "removedWidgets": [],
       "schema": [
        {
         "metadata": "{}",
         "name": "entity",
         "type": "\"string\""
        },
        {
         "metadata": "{}",
         "name": "instance",
         "type": "\"string\""
        },
        {
         "metadata": "{}",
         "name": "name",
         "type": "\"string\""
        },
        {
         "metadata": "{}",
         "name": "value",
         "type": "\"double\""
        },
        {
         "metadata": "{}",
         "name": "ts",
         "type": "\"timestamp\""
        }
       ],
       "type": "table"
      }
     },
     "output_type": "display_data"
    }
   ],
   "source": [
    "%scala\n",
    "display(spark.readStream.format(\"delta\")\n",
    "        .option(\"ignoreChanges\", \"true\")\n",
    "        .table(\"deequ_metrics\")\n",
    "        .where($\"name\" === \"Completeness\" || $\"name\" === \"Distinctness\"))"
   ]
  },
  {
   "cell_type": "code",
   "execution_count": 0,
   "metadata": {
    "application/vnd.databricks.v1+cell": {
     "cellMetadata": {},
     "inputWidgets": {},
     "nuid": "3d4ad5b3-bc77-4aa9-8d6f-2faa82b70a9b",
     "showTitle": false,
     "title": ""
    }
   },
   "outputs": [
    {
     "output_type": "display_data",
     "data": {
      "text/html": [
       "<style scoped>\n",
       "  .table-result-container {\n",
       "    max-height: 300px;\n",
       "    overflow: auto;\n",
       "  }\n",
       "  table, th, td {\n",
       "    border: 1px solid black;\n",
       "    border-collapse: collapse;\n",
       "  }\n",
       "  th, td {\n",
       "    padding: 5px;\n",
       "  }\n",
       "  th {\n",
       "    text-align: left;\n",
       "  }\n",
       "</style><div class='table-result-container'><table class='table-result'><thead style='background-color: white'><tr><th>entity</th><th>instance</th><th>name</th><th>value</th><th>ts</th></tr></thead><tbody><tr><td>Column</td><td>ipaddr</td><td>Completeness</td><td>0.9473684210526315</td><td>2019-10-14T14:27:04.009+0000</td></tr><tr><td>Column</td><td>symbol</td><td>Distinctness</td><td>0.943609022556391</td><td>2019-10-14T14:27:04.009+0000</td></tr><tr><td>Column</td><td>price</td><td>Completeness</td><td>0.9799498746867168</td><td>2019-10-14T14:27:04.009+0000</td></tr><tr><td>Column</td><td>quantity</td><td>Completeness</td><td>0.9473684210526315</td><td>2019-10-14T14:27:04.009+0000</td></tr><tr><td>Column</td><td>symbol</td><td>Distinctness</td><td>0.8070050035739814</td><td>2019-10-14T14:27:26.832+0000</td></tr><tr><td>Column</td><td>quantity</td><td>Completeness</td><td>0.9610436025732666</td><td>2019-10-14T14:27:26.832+0000</td></tr><tr><td>Column</td><td>ipaddr</td><td>Completeness</td><td>0.9610436025732666</td><td>2019-10-14T14:27:26.832+0000</td></tr><tr><td>Column</td><td>price</td><td>Completeness</td><td>0.9796283059328091</td><td>2019-10-14T14:27:26.832+0000</td></tr><tr><td>Column</td><td>price</td><td>Completeness</td><td>0.9793333333333333</td><td>2019-10-14T14:27:43.096+0000</td></tr><tr><td>Column</td><td>symbol</td><td>Distinctness</td><td>0.7202222222222222</td><td>2019-10-14T14:27:43.096+0000</td></tr><tr><td>Column</td><td>ipaddr</td><td>Completeness</td><td>0.9631111111111111</td><td>2019-10-14T14:27:43.096+0000</td></tr><tr><td>Column</td><td>quantity</td><td>Completeness</td><td>0.9631111111111111</td><td>2019-10-14T14:27:43.096+0000</td></tr><tr><td>Column</td><td>ipaddr</td><td>Completeness</td><td>0.9622641509433962</td><td>2019-10-14T14:28:00.349+0000</td></tr><tr><td>Column</td><td>price</td><td>Completeness</td><td>0.979811320754717</td><td>2019-10-14T14:28:00.349+0000</td></tr><tr><td>Column</td><td>symbol</td><td>Distinctness</td><td>0.6777358490566038</td><td>2019-10-14T14:28:00.349+0000</td></tr><tr><td>Column</td><td>quantity</td><td>Completeness</td><td>0.9622641509433962</td><td>2019-10-14T14:28:00.349+0000</td></tr><tr><td>Column</td><td>price</td><td>Completeness</td><td>0.9802883200941453</td><td>2019-10-14T14:28:17.592+0000</td></tr><tr><td>Column</td><td>ipaddr</td><td>Completeness</td><td>0.9599882318328921</td><td>2019-10-14T14:28:17.592+0000</td></tr><tr><td>Column</td><td>quantity</td><td>Completeness</td><td>0.9599882318328921</td><td>2019-10-14T14:28:17.592+0000</td></tr><tr><td>Column</td><td>symbol</td><td>Distinctness</td><td>0.6110620770814945</td><td>2019-10-14T14:28:17.592+0000</td></tr><tr><td>Column</td><td>symbol</td><td>Distinctness</td><td>0.5378495112525574</td><td>2019-10-14T14:28:37.115+0000</td></tr><tr><td>Column</td><td>quantity</td><td>Completeness</td><td>0.9619231643555354</td><td>2019-10-14T14:28:37.115+0000</td></tr><tr><td>Column</td><td>price</td><td>Completeness</td><td>0.9813593998636053</td><td>2019-10-14T14:28:37.115+0000</td></tr><tr><td>Column</td><td>ipaddr</td><td>Completeness</td><td>0.9619231643555354</td><td>2019-10-14T14:28:37.115+0000</td></tr><tr><td>Column</td><td>quantity</td><td>Completeness</td><td>0.9622821221068674</td><td>2019-10-14T14:28:58.151+0000</td></tr><tr><td>Column</td><td>price</td><td>Completeness</td><td>0.9803790837222592</td><td>2019-10-14T14:28:58.151+0000</td></tr><tr><td>Column</td><td>ipaddr</td><td>Completeness</td><td>0.9622821221068674</td><td>2019-10-14T14:28:58.151+0000</td></tr><tr><td>Column</td><td>symbol</td><td>Distinctness</td><td>0.4861415372892656</td><td>2019-10-14T14:28:58.151+0000</td></tr><tr><td>Column</td><td>quantity</td><td>Completeness</td><td>0.9627055433124259</td><td>2019-10-14T14:29:22.389+0000</td></tr><tr><td>Column</td><td>ipaddr</td><td>Completeness</td><td>0.9627055433124259</td><td>2019-10-14T14:29:22.389+0000</td></tr><tr><td>Column</td><td>price</td><td>Completeness</td><td>0.9806746906255297</td><td>2019-10-14T14:29:22.389+0000</td></tr><tr><td>Column</td><td>symbol</td><td>Distinctness</td><td>0.4506696050177996</td><td>2019-10-14T14:29:22.389+0000</td></tr><tr><td>Column</td><td>ipaddr</td><td>Completeness</td><td>0.9622843182165216</td><td>2019-10-14T14:29:49.314+0000</td></tr><tr><td>Column</td><td>price</td><td>Completeness</td><td>0.9804550313024889</td><td>2019-10-14T14:29:49.314+0000</td></tr><tr><td>Column</td><td>symbol</td><td>Distinctness</td><td>0.4208276072682852</td><td>2019-10-14T14:29:49.314+0000</td></tr><tr><td>Column</td><td>quantity</td><td>Completeness</td><td>0.9622843182165216</td><td>2019-10-14T14:29:49.314+0000</td></tr><tr><td>Column</td><td>symbol</td><td>Distinctness</td><td>0.3719520061927493</td><td>2019-10-14T14:30:27.609+0000</td></tr><tr><td>Column</td><td>price</td><td>Completeness</td><td>0.9803251193394401</td><td>2019-10-14T14:30:27.609+0000</td></tr><tr><td>Column</td><td>quantity</td><td>Completeness</td><td>0.9612953167333247</td><td>2019-10-14T14:30:27.609+0000</td></tr><tr><td>Column</td><td>ipaddr</td><td>Completeness</td><td>0.9612953167333247</td><td>2019-10-14T14:30:27.609+0000</td></tr></tbody></table></div>"
      ]
     },
     "metadata": {
      "application/vnd.databricks.v1+output": {
       "addedWidgets": {},
       "aggData": [],
       "aggError": "",
       "aggOverflow": false,
       "aggSchema": [],
       "aggSeriesLimitReached": false,
       "aggType": "",
       "arguments": {},
       "columnCustomDisplayInfos": {},
       "data": [
        [
         "Column",
         "ipaddr",
         "Completeness",
         0.9473684210526315,
         "2019-10-14T14:27:04.009+0000"
        ],
        [
         "Column",
         "symbol",
         "Distinctness",
         0.943609022556391,
         "2019-10-14T14:27:04.009+0000"
        ],
        [
         "Column",
         "price",
         "Completeness",
         0.9799498746867168,
         "2019-10-14T14:27:04.009+0000"
        ],
        [
         "Column",
         "quantity",
         "Completeness",
         0.9473684210526315,
         "2019-10-14T14:27:04.009+0000"
        ],
        [
         "Column",
         "symbol",
         "Distinctness",
         0.8070050035739814,
         "2019-10-14T14:27:26.832+0000"
        ],
        [
         "Column",
         "quantity",
         "Completeness",
         0.9610436025732666,
         "2019-10-14T14:27:26.832+0000"
        ],
        [
         "Column",
         "ipaddr",
         "Completeness",
         0.9610436025732666,
         "2019-10-14T14:27:26.832+0000"
        ],
        [
         "Column",
         "price",
         "Completeness",
         0.9796283059328091,
         "2019-10-14T14:27:26.832+0000"
        ],
        [
         "Column",
         "price",
         "Completeness",
         0.9793333333333333,
         "2019-10-14T14:27:43.096+0000"
        ],
        [
         "Column",
         "symbol",
         "Distinctness",
         0.7202222222222222,
         "2019-10-14T14:27:43.096+0000"
        ],
        [
         "Column",
         "ipaddr",
         "Completeness",
         0.9631111111111111,
         "2019-10-14T14:27:43.096+0000"
        ],
        [
         "Column",
         "quantity",
         "Completeness",
         0.9631111111111111,
         "2019-10-14T14:27:43.096+0000"
        ],
        [
         "Column",
         "ipaddr",
         "Completeness",
         0.9622641509433962,
         "2019-10-14T14:28:00.349+0000"
        ],
        [
         "Column",
         "price",
         "Completeness",
         0.979811320754717,
         "2019-10-14T14:28:00.349+0000"
        ],
        [
         "Column",
         "symbol",
         "Distinctness",
         0.6777358490566038,
         "2019-10-14T14:28:00.349+0000"
        ],
        [
         "Column",
         "quantity",
         "Completeness",
         0.9622641509433962,
         "2019-10-14T14:28:00.349+0000"
        ],
        [
         "Column",
         "price",
         "Completeness",
         0.9802883200941453,
         "2019-10-14T14:28:17.592+0000"
        ],
        [
         "Column",
         "ipaddr",
         "Completeness",
         0.9599882318328921,
         "2019-10-14T14:28:17.592+0000"
        ],
        [
         "Column",
         "quantity",
         "Completeness",
         0.9599882318328921,
         "2019-10-14T14:28:17.592+0000"
        ],
        [
         "Column",
         "symbol",
         "Distinctness",
         0.6110620770814945,
         "2019-10-14T14:28:17.592+0000"
        ],
        [
         "Column",
         "symbol",
         "Distinctness",
         0.5378495112525574,
         "2019-10-14T14:28:37.115+0000"
        ],
        [
         "Column",
         "quantity",
         "Completeness",
         0.9619231643555354,
         "2019-10-14T14:28:37.115+0000"
        ],
        [
         "Column",
         "price",
         "Completeness",
         0.9813593998636053,
         "2019-10-14T14:28:37.115+0000"
        ],
        [
         "Column",
         "ipaddr",
         "Completeness",
         0.9619231643555354,
         "2019-10-14T14:28:37.115+0000"
        ],
        [
         "Column",
         "quantity",
         "Completeness",
         0.9622821221068674,
         "2019-10-14T14:28:58.151+0000"
        ],
        [
         "Column",
         "price",
         "Completeness",
         0.9803790837222592,
         "2019-10-14T14:28:58.151+0000"
        ],
        [
         "Column",
         "ipaddr",
         "Completeness",
         0.9622821221068674,
         "2019-10-14T14:28:58.151+0000"
        ],
        [
         "Column",
         "symbol",
         "Distinctness",
         0.4861415372892656,
         "2019-10-14T14:28:58.151+0000"
        ],
        [
         "Column",
         "quantity",
         "Completeness",
         0.9627055433124259,
         "2019-10-14T14:29:22.389+0000"
        ],
        [
         "Column",
         "ipaddr",
         "Completeness",
         0.9627055433124259,
         "2019-10-14T14:29:22.389+0000"
        ],
        [
         "Column",
         "price",
         "Completeness",
         0.9806746906255297,
         "2019-10-14T14:29:22.389+0000"
        ],
        [
         "Column",
         "symbol",
         "Distinctness",
         0.4506696050177996,
         "2019-10-14T14:29:22.389+0000"
        ],
        [
         "Column",
         "ipaddr",
         "Completeness",
         0.9622843182165216,
         "2019-10-14T14:29:49.314+0000"
        ],
        [
         "Column",
         "price",
         "Completeness",
         0.9804550313024889,
         "2019-10-14T14:29:49.314+0000"
        ],
        [
         "Column",
         "symbol",
         "Distinctness",
         0.4208276072682852,
         "2019-10-14T14:29:49.314+0000"
        ],
        [
         "Column",
         "quantity",
         "Completeness",
         0.9622843182165216,
         "2019-10-14T14:29:49.314+0000"
        ],
        [
         "Column",
         "symbol",
         "Distinctness",
         0.3719520061927493,
         "2019-10-14T14:30:27.609+0000"
        ],
        [
         "Column",
         "price",
         "Completeness",
         0.9803251193394401,
         "2019-10-14T14:30:27.609+0000"
        ],
        [
         "Column",
         "quantity",
         "Completeness",
         0.9612953167333247,
         "2019-10-14T14:30:27.609+0000"
        ],
        [
         "Column",
         "ipaddr",
         "Completeness",
         0.9612953167333247,
         "2019-10-14T14:30:27.609+0000"
        ]
       ],
       "datasetInfos": [],
       "dbfsResultPath": null,
       "isJsonSchema": true,
       "metadata": {},
       "overflow": false,
       "plotOptions": {
        "customPlotOptions": {
         "barChart": [
          {
           "key": "grouped",
           "value": true
          },
          {
           "key": "stacked",
           "value": false
          },
          {
           "key": "100_stacked",
           "value": false
          }
         ]
        },
        "displayType": "barChart",
        "pivotAggregation": "sum",
        "pivotColumns": [
         "name",
         "instance"
        ],
        "xColumns": [],
        "yColumns": [
         "value"
        ]
       },
       "removedWidgets": [],
       "schema": [
        {
         "metadata": "{}",
         "name": "entity",
         "type": "\"string\""
        },
        {
         "metadata": "{}",
         "name": "instance",
         "type": "\"string\""
        },
        {
         "metadata": "{}",
         "name": "name",
         "type": "\"string\""
        },
        {
         "metadata": "{}",
         "name": "value",
         "type": "\"double\""
        },
        {
         "metadata": "{}",
         "name": "ts",
         "type": "\"timestamp\""
        }
       ],
       "type": "table"
      }
     },
     "output_type": "display_data"
    }
   ],
   "source": [
    "%scala\n",
    "display(spark.readStream.format(\"delta\")\n",
    "        .option(\"ignoreChanges\", \"true\")\n",
    "        .table(\"deequ_metrics\")\n",
    "        .where($\"name\" === \"Completeness\" || $\"name\" === \"Distinctness\"))"
   ]
  },
  {
   "cell_type": "code",
   "execution_count": 0,
   "metadata": {
    "application/vnd.databricks.v1+cell": {
     "cellMetadata": {},
     "inputWidgets": {},
     "nuid": "a8d7faef-e900-42a3-87a6-6eab777d1728",
     "showTitle": false,
     "title": ""
    }
   },
   "outputs": [
    {
     "output_type": "display_data",
     "data": {
      "text/html": [
       "<style scoped>\n",
       "  .table-result-container {\n",
       "    max-height: 300px;\n",
       "    overflow: auto;\n",
       "  }\n",
       "  table, th, td {\n",
       "    border: 1px solid black;\n",
       "    border-collapse: collapse;\n",
       "  }\n",
       "  th, td {\n",
       "    padding: 5px;\n",
       "  }\n",
       "  th {\n",
       "    text-align: left;\n",
       "  }\n",
       "</style><div class='table-result-container'><table class='table-result'><thead style='background-color: white'><tr><th>batchId</th><th>count</th><th>total</th><th>percent_bad</th></tr></thead><tbody><tr><td>3</td><td>6</td><td>800</td><td>0.75</td></tr><tr><td>2</td><td>6</td><td>1702</td><td>0.353</td></tr><tr><td>4</td><td>5</td><td>1498</td><td>0.334</td></tr><tr><td>1</td><td>6</td><td>2000</td><td>0.3</td></tr><tr><td>0</td><td>2</td><td>798</td><td>0.251</td></tr><tr><td>8</td><td>3</td><td>1300</td><td>0.231</td></tr><tr><td>5</td><td>4</td><td>2000</td><td>0.2</td></tr><tr><td>6</td><td>3</td><td>1701</td><td>0.176</td></tr><tr><td>7</td><td>2</td><td>1299</td><td>0.154</td></tr></tbody></table></div>"
      ]
     },
     "metadata": {
      "application/vnd.databricks.v1+output": {
       "addedWidgets": {},
       "aggData": [],
       "aggError": "",
       "aggOverflow": false,
       "aggSchema": [],
       "aggSeriesLimitReached": false,
       "aggType": "",
       "arguments": {},
       "columnCustomDisplayInfos": {},
       "data": [
        [
         3,
         6,
         800,
         0.75
        ],
        [
         2,
         6,
         1702,
         0.353
        ],
        [
         4,
         5,
         1498,
         0.334
        ],
        [
         1,
         6,
         2000,
         0.3
        ],
        [
         0,
         2,
         798,
         0.251
        ],
        [
         8,
         3,
         1300,
         0.231
        ],
        [
         5,
         4,
         2000,
         0.2
        ],
        [
         6,
         3,
         1701,
         0.176
        ],
        [
         7,
         2,
         1299,
         0.154
        ]
       ],
       "datasetInfos": [
        {
         "name": "batchCounts",
         "schema": {
          "fields": [
           {
            "metadata": {},
            "name": "batchId2",
            "nullable": true,
            "type": "long"
           },
           {
            "metadata": {},
            "name": "total",
            "nullable": false,
            "type": "long"
           }
          ],
          "type": "struct"
         },
         "tableIdentifier": null,
         "typeStr": "org.apache.spark.sql.DataFrame"
        }
       ],
       "dbfsResultPath": null,
       "isJsonSchema": true,
       "metadata": {},
       "overflow": false,
       "plotOptions": {
        "customPlotOptions": {},
        "displayType": "table",
        "pivotAggregation": null,
        "pivotColumns": null,
        "xColumns": null,
        "yColumns": null
       },
       "removedWidgets": [],
       "schema": [
        {
         "metadata": "{}",
         "name": "batchId",
         "type": "\"long\""
        },
        {
         "metadata": "{}",
         "name": "count",
         "type": "\"long\""
        },
        {
         "metadata": "{}",
         "name": "total",
         "type": "\"long\""
        },
        {
         "metadata": "{}",
         "name": "percent_bad",
         "type": "\"double\""
        }
       ],
       "type": "table"
      }
     },
     "output_type": "display_data"
    }
   ],
   "source": [
    "%scala\n",
    "val batchCounts = spark.read.format(\"delta\").table(\"bad_records\")\n",
    ".groupBy($\"batchId\").count().withColumnRenamed(\"batchId\", \"batchId2\").withColumnRenamed(\"count\", \"total\")\n",
    "\n",
    "display(spark.read.format(\"delta\").table(\"bad_records\")\n",
    "        .filter($\"quantity\" < 0 || $\"quantity\" > 10000 || $\"ipaddr\" === null)\n",
    "        .groupBy($\"batchId\").count()\n",
    "        .join(batchCounts, $\"batchId2\" === $\"batchId\", \"inner\")\n",
    "        .withColumn(\"percent_bad\", bround(lit(100)*$\"count\"/$\"total\",3))\n",
    "        .drop(\"batchId2\").orderBy(desc(\"percent_bad\")))"
   ]
  },
  {
   "cell_type": "code",
   "execution_count": 0,
   "metadata": {
    "application/vnd.databricks.v1+cell": {
     "cellMetadata": {},
     "inputWidgets": {},
     "nuid": "134d5ffd-1c20-4ce3-910a-fbb04fc8012f",
     "showTitle": false,
     "title": ""
    }
   },
   "outputs": [
    {
     "output_type": "display_data",
     "data": {
      "text/html": [
       "<style scoped>\n",
       "  .table-result-container {\n",
       "    max-height: 300px;\n",
       "    overflow: auto;\n",
       "  }\n",
       "  table, th, td {\n",
       "    border: 1px solid black;\n",
       "    border-collapse: collapse;\n",
       "  }\n",
       "  th, td {\n",
       "    padding: 5px;\n",
       "  }\n",
       "  th {\n",
       "    text-align: left;\n",
       "  }\n",
       "</style><div class='table-result-container'><table class='table-result'><thead style='background-color: white'><tr><th>timestamp</th><th>symbol</th><th>price</th><th>quantity</th><th>ordertype</th><th>ipaddr</th><th>buysell</th><th>batchID</th></tr></thead><tbody><tr><td>2019-09-17T14:09:06.370+0000</td><td>PLT</td><td>26.691</td><td>-1.0</td><td>limit</td><td>25.248.90.194</td><td>buy</td><td>1</td></tr><tr><td>2019-09-17T14:09:06.395+0000</td><td>DGAS</td><td>10.88</td><td>-1.0</td><td>cmo</td><td>169.57.229.38</td><td>buy</td><td>1</td></tr><tr><td>2019-09-17T14:09:06.400+0000</td><td>TWLO</td><td>22.1793</td><td>-1.0</td><td>cmo</td><td>215.5.66.144</td><td>buy</td><td>1</td></tr><tr><td>2019-09-17T14:09:06.403+0000</td><td>HIMX</td><td>12.8466</td><td>-1.0</td><td>marketToLimit</td><td>144.109.213.132</td><td>sell</td><td>1</td></tr><tr><td>2019-09-17T14:09:25.672+0000</td><td>BOCH</td><td>12.881</td><td>-1.0</td><td>oco</td><td>218.55.44.89</td><td>sell</td><td>3</td></tr><tr><td>2019-09-17T14:09:25.682+0000</td><td>CXP</td><td>23.5872</td><td>-1.0</td><td>market</td><td>217.18.88.207</td><td>buy</td><td>3</td></tr><tr><td>2019-09-17T14:09:25.706+0000</td><td>HL</td><td>17.7628</td><td>-1.0</td><td>batch</td><td>236.38.102.150</td><td>sell</td><td>3</td></tr><tr><td>2019-09-17T14:09:25.707+0000</td><td>SEE</td><td>16.1892</td><td>-1.0</td><td>batch</td><td>48.174.126.90</td><td>sell</td><td>3</td></tr><tr><td>2019-09-17T14:09:49.856+0000</td><td>KIRK</td><td>24.9568</td><td>-1.0</td><td>cross</td><td>20.229.3.126</td><td>buy</td><td>7</td></tr><tr><td>2019-09-17T14:09:39.977+0000</td><td>SFR</td><td>28.7648</td><td>-1.0</td><td>limit</td><td>30.135.43.27</td><td>buy</td><td>5</td></tr><tr><td>2019-09-17T14:09:40.011+0000</td><td>INTX</td><td>19.3344</td><td>-1.0</td><td>oco</td><td>248.157.32.255</td><td>sell</td><td>5</td></tr><tr><td>2019-09-17T14:09:40.026+0000</td><td>UDR</td><td>24.8794</td><td>-1.0</td><td>batch</td><td>6.232.160.143</td><td>buy</td><td>5</td></tr><tr><td>2019-09-17T14:09:54.554+0000</td><td>GS^A</td><td>17.8852</td><td>-1.0</td><td>quote</td><td>69.87.118.254</td><td>buy</td><td>7</td></tr><tr><td>2019-09-17T14:09:35.252+0000</td><td>LNC</td><td>33.2416</td><td>-1.0</td><td>cmo</td><td>104.60.247.57</td><td>sell</td><td>5</td></tr><tr><td>2019-09-17T14:09:20.892+0000</td><td>MTFB</td><td>19.7902</td><td>-1.0</td><td>bestLimit</td><td>190.3.139.166</td><td>sell</td><td>3</td></tr><tr><td>2019-09-17T14:09:20.904+0000</td><td>PAH</td><td>31.9676</td><td>-1.0</td><td>cross</td><td>71.161.32.227</td><td>sell</td><td>3</td></tr><tr><td>2019-09-17T14:09:45.011+0000</td><td>SYNT</td><td>14.0283</td><td>-1.0</td><td>marketToLimit</td><td>131.82.104.217</td><td>sell</td><td>6</td></tr><tr><td>2019-09-17T14:09:30.492+0000</td><td>NPK</td><td>16.1784</td><td>-1.0</td><td>marketToLimit</td><td>169.179.180.191</td><td>sell</td><td>4</td></tr><tr><td>2019-09-17T14:09:30.504+0000</td><td>USCR</td><td>9.7848</td><td>-1.0</td><td>marketToLimit</td><td>89.235.45.83</td><td>buy</td><td>4</td></tr><tr><td>2019-09-17T14:09:30.510+0000</td><td>MRT</td><td>4.555</td><td>-1.0</td><td>quote</td><td>49.221.251.87</td><td>buy</td><td>4</td></tr><tr><td>2019-09-17T14:09:59.248+0000</td><td>PTX</td><td>26.775</td><td>-1.0</td><td>limit</td><td>85.235.125.168</td><td>sell</td><td>8</td></tr><tr><td>2019-09-17T14:09:59.275+0000</td><td>FDUS</td><td>23.8374</td><td>-1.0</td><td>limit</td><td>58.110.118.125</td><td>buy</td><td>8</td></tr><tr><td>2019-09-17T14:09:30.434+0000</td><td>PSA^Z</td><td>33.0105</td><td>-1.0</td><td>quote</td><td>70.124.162.35</td><td>buy</td><td>4</td></tr><tr><td>2019-09-17T14:09:11.147+0000</td><td>YGE</td><td>29.4015</td><td>-1.0</td><td>quote</td><td>187.7.223.207</td><td>sell</td><td>1</td></tr><tr><td>2019-09-17T14:09:01.450+0000</td><td>FLOW</td><td>26.996</td><td>-1.0</td><td>marketToLimit</td><td>23.64.240.39</td><td>sell</td><td>0</td></tr><tr><td>2019-09-17T14:09:01.450+0000</td><td>NTB</td><td>42.596</td><td>-1.0</td><td>oco</td><td>250.104.103.108</td><td>buy</td><td>0</td></tr><tr><td>2019-09-17T14:09:49.810+0000</td><td>PWE</td><td>25.0976</td><td>-1.0</td><td>cross</td><td>153.179.210.138</td><td>buy</td><td>6</td></tr><tr><td>2019-09-17T14:09:20.830+0000</td><td>CASS</td><td>19.5481</td><td>-1.0</td><td>limit</td><td>56.165.185.196</td><td>sell</td><td>2</td></tr><tr><td>2019-09-17T14:09:20.861+0000</td><td>UG</td><td>27.7712</td><td>-1.0</td><td>limit</td><td>240.128.132.172</td><td>buy</td><td>2</td></tr><tr><td>2019-09-17T14:09:20.871+0000</td><td>ACWI</td><td>9.1344</td><td>-1.0</td><td>marketToLimit</td><td>131.112.78.64</td><td>sell</td><td>2</td></tr><tr><td>2019-09-17T14:09:20.884+0000</td><td>MUX</td><td>27.4625</td><td>-1.0</td><td>market</td><td>72.101.202.129</td><td>sell</td><td>2</td></tr><tr><td>2019-09-17T14:09:16.140+0000</td><td>MRT</td><td>4.555</td><td>-1.0</td><td>quote</td><td>49.221.251.87</td><td>buy</td><td>2</td></tr><tr><td>2019-09-17T14:09:16.142+0000</td><td>ANH^C</td><td>9.1981</td><td>-1.0</td><td>cmo</td><td>140.193.71.118</td><td>sell</td><td>2</td></tr><tr><td>2019-09-17T14:09:11.067+0000</td><td>GD</td><td>21.42</td><td>-1.0</td><td>limit</td><td>139.248.37.208</td><td>buy</td><td>1</td></tr><tr><td>2019-09-17T14:09:25.736+0000</td><td>ESRT</td><td>13.0866</td><td>-1.0</td><td>oco</td><td>71.99.225.177</td><td>sell</td><td>4</td></tr><tr><td>2019-09-17T14:09:59.325+0000</td><td>MMI</td><td>26.3064</td><td>-1.0</td><td>oco</td><td>163.108.159.162</td><td>sell</td><td>8</td></tr><tr><td>2019-09-17T14:09:44.948+0000</td><td>FMBH</td><td>14.445</td><td>-1.0</td><td>quote</td><td>254.68.222.250</td><td>buy</td><td>6</td></tr><tr><td>2019-09-17T14:10:04.194+0000</td><td>DPG</td><td>14.2779</td><td>-1.0</td><td>cross</td><td>78.222.44.162</td><td>sell</td><td>9</td></tr><tr><td>2019-09-17T14:10:04.196+0000</td><td>GCH</td><td>12.6765</td><td>-1.0</td><td>market</td><td>13.112.223.21</td><td>buy</td><td>9</td></tr><tr><td>2019-09-17T14:10:04.238+0000</td><td>ATRI</td><td>23.452</td><td>-1.0</td><td>quote</td><td>27.211.140.106</td><td>sell</td><td>9</td></tr><tr><td>2019-09-17T14:10:08.961+0000</td><td>NAC</td><td>30.4836</td><td>-1.0</td><td>marketToLimit</td><td>208.31.85.153</td><td>buy</td><td>9</td></tr><tr><td>2019-09-17T14:10:13.741+0000</td><td>NXC</td><td>34.5481</td><td>-1.0</td><td>batch</td><td>165.223.197.173</td><td>buy</td><td>9</td></tr><tr><td>2019-09-17T14:10:13.787+0000</td><td>ULH</td><td>33.389</td><td>-1.0</td><td>batch</td><td>154.75.151.31</td><td>buy</td><td>9</td></tr><tr><td>2019-09-17T14:10:13.800+0000</td><td>BWG</td><td>5.6542</td><td>-1.0</td><td>limit</td><td>5.1.167.126</td><td>buy</td><td>9</td></tr><tr><td>2019-09-17T14:10:08.996+0000</td><td>ASND</td><td>27.9384</td><td>-1.0</td><td>quote</td><td>196.2.158.214</td><td>sell</td><td>9</td></tr><tr><td>2019-09-17T14:10:18.523+0000</td><td>STT^D</td><td>27.3824</td><td>-1.0</td><td>quote</td><td>145.49.22.143</td><td>buy</td><td>10</td></tr><tr><td>2019-09-17T14:10:18.538+0000</td><td>VIVO</td><td>16.1035</td><td>-1.0</td><td>cmo</td><td>136.60.42.54</td><td>buy</td><td>10</td></tr><tr><td>2019-09-17T14:10:18.538+0000</td><td>SNA</td><td>38.808</td><td>-1.0</td><td>batch</td><td>96.212.69.214</td><td>buy</td><td>10</td></tr><tr><td>2019-09-17T14:10:18.539+0000</td><td>TPVZ</td><td>13.8498</td><td>-1.0</td><td>cross</td><td>125.78.49.53</td><td>sell</td><td>10</td></tr><tr><td>2019-09-17T14:10:18.601+0000</td><td>GJH</td><td>14.2687</td><td>-1.0</td><td>limit</td><td>71.135.220.236</td><td>sell</td><td>10</td></tr><tr><td>2019-09-17T14:10:18.606+0000</td><td>DCIX</td><td>8.085</td><td>-1.0</td><td>batch</td><td>132.53.198.137</td><td>buy</td><td>10</td></tr><tr><td>2019-09-17T14:10:23.236+0000</td><td>PMBC</td><td>11.9428</td><td>-1.0</td><td>quote</td><td>136.88.19.176</td><td>null</td><td>10</td></tr><tr><td>2019-09-17T14:10:23.253+0000</td><td>HRB</td><td>14.2688</td><td>-1.0</td><td>limit</td><td>245.228.153.212</td><td>sell</td><td>10</td></tr></tbody></table></div>"
      ]
     },
     "metadata": {
      "application/vnd.databricks.v1+output": {
       "addedWidgets": {},
       "aggData": [],
       "aggError": "",
       "aggOverflow": false,
       "aggSchema": [],
       "aggSeriesLimitReached": false,
       "aggType": "",
       "arguments": {},
       "columnCustomDisplayInfos": {},
       "data": [
        [
         "2019-09-17T14:09:06.370+0000",
         "PLT",
         26.691,
         -1.0,
         "limit",
         "25.248.90.194",
         "buy",
         1
        ],
        [
         "2019-09-17T14:09:06.395+0000",
         "DGAS",
         10.88,
         -1.0,
         "cmo",
         "169.57.229.38",
         "buy",
         1
        ],
        [
         "2019-09-17T14:09:06.400+0000",
         "TWLO",
         22.1793,
         -1.0,
         "cmo",
         "215.5.66.144",
         "buy",
         1
        ],
        [
         "2019-09-17T14:09:06.403+0000",
         "HIMX",
         12.8466,
         -1.0,
         "marketToLimit",
         "144.109.213.132",
         "sell",
         1
        ],
        [
         "2019-09-17T14:09:25.672+0000",
         "BOCH",
         12.881,
         -1.0,
         "oco",
         "218.55.44.89",
         "sell",
         3
        ],
        [
         "2019-09-17T14:09:25.682+0000",
         "CXP",
         23.5872,
         -1.0,
         "market",
         "217.18.88.207",
         "buy",
         3
        ],
        [
         "2019-09-17T14:09:25.706+0000",
         "HL",
         17.7628,
         -1.0,
         "batch",
         "236.38.102.150",
         "sell",
         3
        ],
        [
         "2019-09-17T14:09:25.707+0000",
         "SEE",
         16.1892,
         -1.0,
         "batch",
         "48.174.126.90",
         "sell",
         3
        ],
        [
         "2019-09-17T14:09:49.856+0000",
         "KIRK",
         24.9568,
         -1.0,
         "cross",
         "20.229.3.126",
         "buy",
         7
        ],
        [
         "2019-09-17T14:09:39.977+0000",
         "SFR",
         28.7648,
         -1.0,
         "limit",
         "30.135.43.27",
         "buy",
         5
        ],
        [
         "2019-09-17T14:09:40.011+0000",
         "INTX",
         19.3344,
         -1.0,
         "oco",
         "248.157.32.255",
         "sell",
         5
        ],
        [
         "2019-09-17T14:09:40.026+0000",
         "UDR",
         24.8794,
         -1.0,
         "batch",
         "6.232.160.143",
         "buy",
         5
        ],
        [
         "2019-09-17T14:09:54.554+0000",
         "GS^A",
         17.8852,
         -1.0,
         "quote",
         "69.87.118.254",
         "buy",
         7
        ],
        [
         "2019-09-17T14:09:35.252+0000",
         "LNC",
         33.2416,
         -1.0,
         "cmo",
         "104.60.247.57",
         "sell",
         5
        ],
        [
         "2019-09-17T14:09:20.892+0000",
         "MTFB",
         19.7902,
         -1.0,
         "bestLimit",
         "190.3.139.166",
         "sell",
         3
        ],
        [
         "2019-09-17T14:09:20.904+0000",
         "PAH",
         31.9676,
         -1.0,
         "cross",
         "71.161.32.227",
         "sell",
         3
        ],
        [
         "2019-09-17T14:09:45.011+0000",
         "SYNT",
         14.0283,
         -1.0,
         "marketToLimit",
         "131.82.104.217",
         "sell",
         6
        ],
        [
         "2019-09-17T14:09:30.492+0000",
         "NPK",
         16.1784,
         -1.0,
         "marketToLimit",
         "169.179.180.191",
         "sell",
         4
        ],
        [
         "2019-09-17T14:09:30.504+0000",
         "USCR",
         9.7848,
         -1.0,
         "marketToLimit",
         "89.235.45.83",
         "buy",
         4
        ],
        [
         "2019-09-17T14:09:30.510+0000",
         "MRT",
         4.555,
         -1.0,
         "quote",
         "49.221.251.87",
         "buy",
         4
        ],
        [
         "2019-09-17T14:09:59.248+0000",
         "PTX",
         26.775,
         -1.0,
         "limit",
         "85.235.125.168",
         "sell",
         8
        ],
        [
         "2019-09-17T14:09:59.275+0000",
         "FDUS",
         23.8374,
         -1.0,
         "limit",
         "58.110.118.125",
         "buy",
         8
        ],
        [
         "2019-09-17T14:09:30.434+0000",
         "PSA^Z",
         33.0105,
         -1.0,
         "quote",
         "70.124.162.35",
         "buy",
         4
        ],
        [
         "2019-09-17T14:09:11.147+0000",
         "YGE",
         29.4015,
         -1.0,
         "quote",
         "187.7.223.207",
         "sell",
         1
        ],
        [
         "2019-09-17T14:09:01.450+0000",
         "FLOW",
         26.996,
         -1.0,
         "marketToLimit",
         "23.64.240.39",
         "sell",
         0
        ],
        [
         "2019-09-17T14:09:01.450+0000",
         "NTB",
         42.596,
         -1.0,
         "oco",
         "250.104.103.108",
         "buy",
         0
        ],
        [
         "2019-09-17T14:09:49.810+0000",
         "PWE",
         25.0976,
         -1.0,
         "cross",
         "153.179.210.138",
         "buy",
         6
        ],
        [
         "2019-09-17T14:09:20.830+0000",
         "CASS",
         19.5481,
         -1.0,
         "limit",
         "56.165.185.196",
         "sell",
         2
        ],
        [
         "2019-09-17T14:09:20.861+0000",
         "UG",
         27.7712,
         -1.0,
         "limit",
         "240.128.132.172",
         "buy",
         2
        ],
        [
         "2019-09-17T14:09:20.871+0000",
         "ACWI",
         9.1344,
         -1.0,
         "marketToLimit",
         "131.112.78.64",
         "sell",
         2
        ],
        [
         "2019-09-17T14:09:20.884+0000",
         "MUX",
         27.4625,
         -1.0,
         "market",
         "72.101.202.129",
         "sell",
         2
        ],
        [
         "2019-09-17T14:09:16.140+0000",
         "MRT",
         4.555,
         -1.0,
         "quote",
         "49.221.251.87",
         "buy",
         2
        ],
        [
         "2019-09-17T14:09:16.142+0000",
         "ANH^C",
         9.1981,
         -1.0,
         "cmo",
         "140.193.71.118",
         "sell",
         2
        ],
        [
         "2019-09-17T14:09:11.067+0000",
         "GD",
         21.42,
         -1.0,
         "limit",
         "139.248.37.208",
         "buy",
         1
        ],
        [
         "2019-09-17T14:09:25.736+0000",
         "ESRT",
         13.0866,
         -1.0,
         "oco",
         "71.99.225.177",
         "sell",
         4
        ],
        [
         "2019-09-17T14:09:59.325+0000",
         "MMI",
         26.3064,
         -1.0,
         "oco",
         "163.108.159.162",
         "sell",
         8
        ],
        [
         "2019-09-17T14:09:44.948+0000",
         "FMBH",
         14.445,
         -1.0,
         "quote",
         "254.68.222.250",
         "buy",
         6
        ],
        [
         "2019-09-17T14:10:04.194+0000",
         "DPG",
         14.2779,
         -1.0,
         "cross",
         "78.222.44.162",
         "sell",
         9
        ],
        [
         "2019-09-17T14:10:04.196+0000",
         "GCH",
         12.6765,
         -1.0,
         "market",
         "13.112.223.21",
         "buy",
         9
        ],
        [
         "2019-09-17T14:10:04.238+0000",
         "ATRI",
         23.452,
         -1.0,
         "quote",
         "27.211.140.106",
         "sell",
         9
        ],
        [
         "2019-09-17T14:10:08.961+0000",
         "NAC",
         30.4836,
         -1.0,
         "marketToLimit",
         "208.31.85.153",
         "buy",
         9
        ],
        [
         "2019-09-17T14:10:13.741+0000",
         "NXC",
         34.5481,
         -1.0,
         "batch",
         "165.223.197.173",
         "buy",
         9
        ],
        [
         "2019-09-17T14:10:13.787+0000",
         "ULH",
         33.389,
         -1.0,
         "batch",
         "154.75.151.31",
         "buy",
         9
        ],
        [
         "2019-09-17T14:10:13.800+0000",
         "BWG",
         5.6542,
         -1.0,
         "limit",
         "5.1.167.126",
         "buy",
         9
        ],
        [
         "2019-09-17T14:10:08.996+0000",
         "ASND",
         27.9384,
         -1.0,
         "quote",
         "196.2.158.214",
         "sell",
         9
        ],
        [
         "2019-09-17T14:10:18.523+0000",
         "STT^D",
         27.3824,
         -1.0,
         "quote",
         "145.49.22.143",
         "buy",
         10
        ],
        [
         "2019-09-17T14:10:18.538+0000",
         "VIVO",
         16.1035,
         -1.0,
         "cmo",
         "136.60.42.54",
         "buy",
         10
        ],
        [
         "2019-09-17T14:10:18.538+0000",
         "SNA",
         38.808,
         -1.0,
         "batch",
         "96.212.69.214",
         "buy",
         10
        ],
        [
         "2019-09-17T14:10:18.539+0000",
         "TPVZ",
         13.8498,
         -1.0,
         "cross",
         "125.78.49.53",
         "sell",
         10
        ],
        [
         "2019-09-17T14:10:18.601+0000",
         "GJH",
         14.2687,
         -1.0,
         "limit",
         "71.135.220.236",
         "sell",
         10
        ],
        [
         "2019-09-17T14:10:18.606+0000",
         "DCIX",
         8.085,
         -1.0,
         "batch",
         "132.53.198.137",
         "buy",
         10
        ],
        [
         "2019-09-17T14:10:23.236+0000",
         "PMBC",
         11.9428,
         -1.0,
         "quote",
         "136.88.19.176",
         null,
         10
        ],
        [
         "2019-09-17T14:10:23.253+0000",
         "HRB",
         14.2688,
         -1.0,
         "limit",
         "245.228.153.212",
         "sell",
         10
        ]
       ],
       "datasetInfos": [],
       "dbfsResultPath": null,
       "isJsonSchema": true,
       "metadata": {},
       "overflow": false,
       "plotOptions": {
        "customPlotOptions": {},
        "displayType": "table",
        "pivotAggregation": null,
        "pivotColumns": null,
        "xColumns": null,
        "yColumns": null
       },
       "removedWidgets": [],
       "schema": [
        {
         "metadata": "{}",
         "name": "timestamp",
         "type": "\"timestamp\""
        },
        {
         "metadata": "{}",
         "name": "symbol",
         "type": "\"string\""
        },
        {
         "metadata": "{}",
         "name": "price",
         "type": "\"double\""
        },
        {
         "metadata": "{}",
         "name": "quantity",
         "type": "\"double\""
        },
        {
         "metadata": "{}",
         "name": "ordertype",
         "type": "\"string\""
        },
        {
         "metadata": "{}",
         "name": "ipaddr",
         "type": "\"string\""
        },
        {
         "metadata": "{}",
         "name": "buysell",
         "type": "\"string\""
        },
        {
         "metadata": "{}",
         "name": "batchID",
         "type": "\"long\""
        }
       ],
       "type": "table"
      }
     },
     "output_type": "display_data"
    }
   ],
   "source": [
    "%scala\n",
    "display(spark.readStream.format(\"delta\").table(\"bad_records\")\n",
    "        .filter($\"quantity\" < 0 || $\"quantity\" > 10000 || $\"ipaddr\" === null))"
   ]
  },
  {
   "cell_type": "code",
   "execution_count": 0,
   "metadata": {
    "application/vnd.databricks.v1+cell": {
     "cellMetadata": {},
     "inputWidgets": {},
     "nuid": "b6db1cbd-1589-429a-aed1-417d05299fd5",
     "showTitle": false,
     "title": ""
    }
   },
   "outputs": [
    {
     "output_type": "display_data",
     "data": {
      "text/html": [
       "<style scoped>\n",
       "  .table-result-container {\n",
       "    max-height: 300px;\n",
       "    overflow: auto;\n",
       "  }\n",
       "  table, th, td {\n",
       "    border: 1px solid black;\n",
       "    border-collapse: collapse;\n",
       "  }\n",
       "  th, td {\n",
       "    padding: 5px;\n",
       "  }\n",
       "  th {\n",
       "    text-align: left;\n",
       "  }\n",
       "</style><div class='table-result-container'><table class='table-result'><thead style='background-color: white'><tr><th>check</th><th>check_level</th><th>check_status</th><th>constraint</th><th>constraint_status</th><th>constraint_message</th></tr></thead><tbody><tr><td>Review Check</td><td>Error</td><td>Error</td><td>MaximumConstraint(Maximum(quantity,None))</td><td>Success</td><td></td></tr><tr><td>Review Check</td><td>Error</td><td>Error</td><td>CompletenessConstraint(Completeness(quantity,None))</td><td>Success</td><td></td></tr><tr><td>Review Check</td><td>Error</td><td>Error</td><td>UniquenessConstraint(Uniqueness(List(ipaddr)))</td><td>Failure</td><td>Value: 0.9276539132030461 does not meet the constraint requirement!</td></tr><tr><td>Review Check</td><td>Error</td><td>Error</td><td>CompletenessConstraint(Completeness(ipaddr,None))</td><td>Success</td><td></td></tr><tr><td>Review Check</td><td>Error</td><td>Error</td><td>ComplianceConstraint(Compliance(buysell contained in buy,sell,`buysell` IS NULL OR `buysell` IN ('buy','sell'),None))</td><td>Success</td><td></td></tr><tr><td>Review Check</td><td>Error</td><td>Error</td><td>ComplianceConstraint(Compliance(quantity is non-negative,COALESCE(quantity, 0.0) >= 0,None))</td><td>Failure</td><td>Value: 0.996559317368566 does not meet the constraint requirement!</td></tr></tbody></table></div>"
      ]
     },
     "metadata": {
      "application/vnd.databricks.v1+output": {
       "addedWidgets": {},
       "aggData": [],
       "aggError": "",
       "aggOverflow": false,
       "aggSchema": [],
       "aggSeriesLimitReached": false,
       "aggType": "",
       "arguments": {},
       "columnCustomDisplayInfos": {},
       "data": [
        [
         "Review Check",
         "Error",
         "Error",
         "MaximumConstraint(Maximum(quantity,None))",
         "Success",
         ""
        ],
        [
         "Review Check",
         "Error",
         "Error",
         "CompletenessConstraint(Completeness(quantity,None))",
         "Success",
         ""
        ],
        [
         "Review Check",
         "Error",
         "Error",
         "UniquenessConstraint(Uniqueness(List(ipaddr)))",
         "Failure",
         "Value: 0.9276539132030461 does not meet the constraint requirement!"
        ],
        [
         "Review Check",
         "Error",
         "Error",
         "CompletenessConstraint(Completeness(ipaddr,None))",
         "Success",
         ""
        ],
        [
         "Review Check",
         "Error",
         "Error",
         "ComplianceConstraint(Compliance(buysell contained in buy,sell,`buysell` IS NULL OR `buysell` IN ('buy','sell'),None))",
         "Success",
         ""
        ],
        [
         "Review Check",
         "Error",
         "Error",
         "ComplianceConstraint(Compliance(quantity is non-negative,COALESCE(quantity, 0.0) >= 0,None))",
         "Failure",
         "Value: 0.996559317368566 does not meet the constraint requirement!"
        ]
       ],
       "datasetInfos": [
        {
         "name": "resultDataFrame",
         "schema": {
          "fields": [
           {
            "metadata": {},
            "name": "check",
            "nullable": true,
            "type": "string"
           },
           {
            "metadata": {},
            "name": "check_level",
            "nullable": true,
            "type": "string"
           },
           {
            "metadata": {},
            "name": "check_status",
            "nullable": true,
            "type": "string"
           },
           {
            "metadata": {},
            "name": "constraint",
            "nullable": true,
            "type": "string"
           },
           {
            "metadata": {},
            "name": "constraint_status",
            "nullable": true,
            "type": "string"
           },
           {
            "metadata": {},
            "name": "constraint_message",
            "nullable": true,
            "type": "string"
           }
          ],
          "type": "struct"
         },
         "tableIdentifier": null,
         "typeStr": "org.apache.spark.sql.DataFrame"
        }
       ],
       "dbfsResultPath": null,
       "isJsonSchema": true,
       "metadata": {},
       "overflow": false,
       "plotOptions": {
        "customPlotOptions": {},
        "displayType": "table",
        "pivotAggregation": null,
        "pivotColumns": null,
        "xColumns": null,
        "yColumns": null
       },
       "removedWidgets": [],
       "schema": [
        {
         "metadata": "{}",
         "name": "check",
         "type": "\"string\""
        },
        {
         "metadata": "{}",
         "name": "check_level",
         "type": "\"string\""
        },
        {
         "metadata": "{}",
         "name": "check_status",
         "type": "\"string\""
        },
        {
         "metadata": "{}",
         "name": "constraint",
         "type": "\"string\""
        },
        {
         "metadata": "{}",
         "name": "constraint_status",
         "type": "\"string\""
        },
        {
         "metadata": "{}",
         "name": "constraint_message",
         "type": "\"string\""
        }
       ],
       "type": "table"
      }
     },
     "output_type": "display_data"
    }
   ],
   "source": [
    "%scala\n",
    "val verificationResult: VerificationResult = { VerificationSuite()\n",
    "  .onData(spark.sql(\"select * from trades_delta\"))\n",
    "  .addCheck(\n",
    "    Check(CheckLevel.Error, \"Review Check\") \n",
    "      .hasMax(\"quantity\", _ <= 10000) // max is 10000\n",
    "      .hasCompleteness(\"quantity\", _ >= 0.95) // should never be NULL\n",
    "      .isUnique(\"ipaddr\") // should not contain duplicates\n",
    "      .hasCompleteness(\"ipaddr\", _ >= 0.95)\n",
    "      .isContainedIn(\"buysell\", Array(\"buy\",\"sell\")) // contains only the listed values\n",
    "      .isNonNegative(\"quantity\")) // should not contain negative values\n",
    "  .run()\n",
    "}\n",
    "\n",
    "// convert check results to a Spark data frame\n",
    "val resultDataFrame = checkResultsAsDataFrame(spark, verificationResult)\n",
    "display(resultDataFrame)"
   ]
  },
  {
   "cell_type": "code",
   "execution_count": 0,
   "metadata": {
    "application/vnd.databricks.v1+cell": {
     "cellMetadata": {},
     "inputWidgets": {},
     "nuid": "39436173-9528-4b90-ab4c-7e9956f43f65",
     "showTitle": false,
     "title": ""
    }
   },
   "outputs": [
    {
     "output_type": "display_data",
     "data": {
      "text/html": [
       "<style scoped>\n",
       "  .table-result-container {\n",
       "    max-height: 300px;\n",
       "    overflow: auto;\n",
       "  }\n",
       "  table, th, td {\n",
       "    border: 1px solid black;\n",
       "    border-collapse: collapse;\n",
       "  }\n",
       "  th, td {\n",
       "    padding: 5px;\n",
       "  }\n",
       "  th {\n",
       "    text-align: left;\n",
       "  }\n",
       "</style><div class='table-result-container'><table class='table-result'><thead style='background-color: white'><tr><th>check</th><th>check_level</th><th>check_status</th><th>constraint</th><th>constraint_status</th><th>constraint_message</th></tr></thead><tbody><tr><td>Review Check</td><td>Error</td><td>Error</td><td>MaximumConstraint(Maximum(quantity,None))</td><td>Success</td><td></td></tr><tr><td>Review Check</td><td>Error</td><td>Error</td><td>CompletenessConstraint(Completeness(quantity,None))</td><td>Success</td><td></td></tr><tr><td>Review Check</td><td>Error</td><td>Error</td><td>UniquenessConstraint(Uniqueness(List(ipaddr)))</td><td>Failure</td><td>Value: 0.9276539132030461 does not meet the constraint requirement!</td></tr><tr><td>Review Check</td><td>Error</td><td>Error</td><td>CompletenessConstraint(Completeness(ipaddr,None))</td><td>Success</td><td></td></tr><tr><td>Review Check</td><td>Error</td><td>Error</td><td>ComplianceConstraint(Compliance(buysell contained in buy,sell,`buysell` IS NULL OR `buysell` IN ('buy','sell'),None))</td><td>Success</td><td></td></tr><tr><td>Review Check</td><td>Error</td><td>Error</td><td>ComplianceConstraint(Compliance(quantity is non-negative,COALESCE(quantity, 0.0) >= 0,None))</td><td>Failure</td><td>Value: 0.996559317368566 does not meet the constraint requirement!</td></tr></tbody></table></div>"
      ]
     },
     "metadata": {
      "application/vnd.databricks.v1+output": {
       "addedWidgets": {},
       "aggData": [],
       "aggError": "",
       "aggOverflow": false,
       "aggSchema": [],
       "aggSeriesLimitReached": false,
       "aggType": "",
       "arguments": {},
       "columnCustomDisplayInfos": {},
       "data": [
        [
         "Review Check",
         "Error",
         "Error",
         "MaximumConstraint(Maximum(quantity,None))",
         "Success",
         ""
        ],
        [
         "Review Check",
         "Error",
         "Error",
         "CompletenessConstraint(Completeness(quantity,None))",
         "Success",
         ""
        ],
        [
         "Review Check",
         "Error",
         "Error",
         "UniquenessConstraint(Uniqueness(List(ipaddr)))",
         "Failure",
         "Value: 0.9276539132030461 does not meet the constraint requirement!"
        ],
        [
         "Review Check",
         "Error",
         "Error",
         "CompletenessConstraint(Completeness(ipaddr,None))",
         "Success",
         ""
        ],
        [
         "Review Check",
         "Error",
         "Error",
         "ComplianceConstraint(Compliance(buysell contained in buy,sell,`buysell` IS NULL OR `buysell` IN ('buy','sell'),None))",
         "Success",
         ""
        ],
        [
         "Review Check",
         "Error",
         "Error",
         "ComplianceConstraint(Compliance(quantity is non-negative,COALESCE(quantity, 0.0) >= 0,None))",
         "Failure",
         "Value: 0.996559317368566 does not meet the constraint requirement!"
        ]
       ],
       "datasetInfos": [],
       "dbfsResultPath": null,
       "isJsonSchema": true,
       "metadata": {},
       "overflow": false,
       "plotOptions": {
        "customPlotOptions": {
         "barChart": [
          {
           "key": "grouped",
           "value": true
          },
          {
           "key": "stacked",
           "value": false
          },
          {
           "key": "100_stacked",
           "value": false
          }
         ],
         "pieChart": [
          {
           "key": "donut",
           "value": true
          }
         ]
        },
        "displayType": "pieChart",
        "pivotAggregation": "count",
        "pivotColumns": [],
        "xColumns": [
         "constraint_status"
        ],
        "yColumns": [
         "check"
        ]
       },
       "removedWidgets": [],
       "schema": [
        {
         "metadata": "{}",
         "name": "check",
         "type": "\"string\""
        },
        {
         "metadata": "{}",
         "name": "check_level",
         "type": "\"string\""
        },
        {
         "metadata": "{}",
         "name": "check_status",
         "type": "\"string\""
        },
        {
         "metadata": "{}",
         "name": "constraint",
         "type": "\"string\""
        },
        {
         "metadata": "{}",
         "name": "constraint_status",
         "type": "\"string\""
        },
        {
         "metadata": "{}",
         "name": "constraint_message",
         "type": "\"string\""
        }
       ],
       "type": "table"
      }
     },
     "output_type": "display_data"
    }
   ],
   "source": [
    "%scala\n",
    "display(resultDataFrame)"
   ]
  },
  {
   "cell_type": "markdown",
   "metadata": {
    "application/vnd.databricks.v1+cell": {
     "cellMetadata": {},
     "inputWidgets": {},
     "nuid": "de092b50-efdf-4eab-b871-1c8a1b6c357a",
     "showTitle": false,
     "title": ""
    }
   },
   "source": [
    "MLFlow also works well as a tracking tool for quality metrics- we can use Databricks' built-in MLFlow runs to directly log parameters and metrics against our notebook. Cells 21 and 22 can be run multiple times to capture snapshots across delta versions and timestamps."
   ]
  },
  {
   "cell_type": "code",
   "execution_count": 0,
   "metadata": {
    "application/vnd.databricks.v1+cell": {
     "cellMetadata": {},
     "inputWidgets": {},
     "nuid": "38ced102-ba4b-42ed-8af8-afa61a6ae645",
     "showTitle": false,
     "title": ""
    },
    "jupyter": {
     "outputs_hidden": true
    }
   },
   "outputs": [
    {
     "output_type": "display_data",
     "data": {
      "text/html": [
       "<style scoped>\n",
       "  .ansiout {\n",
       "    display: block;\n",
       "    unicode-bidi: embed;\n",
       "    white-space: pre-wrap;\n",
       "    word-wrap: break-word;\n",
       "    word-break: break-all;\n",
       "    font-family: \"Menlo\", \"Monaco\", \"Consolas\", \"Ubuntu Mono\", \"Source Code Pro\", monospace;\n",
       "    font-size: 13px;\n",
       "    color: #555;\n",
       "    margin-left: 4px;\n",
       "    line-height: 19px;\n",
       "  }\n",
       "</style>\n",
       "<div class=\"ansiout\">import io.delta.tables._\n",
       "fullPath: String = dbfs:/user/hive/warehouse/gregw.db/deequ_metrics/part-00000-2fd89f83-7f70-49fa-baae-e409b03f619a-c000.snappy.parquet\n",
       "regPattern: scala.util.matching.Regex = ^(.+)/([^/]+)$\n",
       "tablePath: String = dbfs:/user/hive/warehouse/gregw.db/deequ_metrics\n",
       "fileName: String = part-00000-2fd89f83-7f70-49fa-baae-e409b03f619a-c000.snappy.parquet\n",
       "deltaTable: io.delta.tables.DeltaTable = io.delta.tables.DeltaTable@4d7276bb\n",
       "lastOperationDF: org.apache.spark.sql.DataFrame = [version: bigint, timestamp: timestamp ... 10 more fields]\n",
       "</div>"
      ]
     },
     "metadata": {
      "application/vnd.databricks.v1+output": {
       "addedWidgets": {},
       "arguments": {},
       "data": "<div class=\"ansiout\">import io.delta.tables._\nfullPath: String = dbfs:/user/hive/warehouse/gregw.db/deequ_metrics/part-00000-2fd89f83-7f70-49fa-baae-e409b03f619a-c000.snappy.parquet\nregPattern: scala.util.matching.Regex = ^(.+)/([^/]+)$\ntablePath: String = dbfs:/user/hive/warehouse/gregw.db/deequ_metrics\nfileName: String = part-00000-2fd89f83-7f70-49fa-baae-e409b03f619a-c000.snappy.parquet\ndeltaTable: io.delta.tables.DeltaTable = io.delta.tables.DeltaTable@4d7276bb\nlastOperationDF: org.apache.spark.sql.DataFrame = [version: bigint, timestamp: timestamp ... 10 more fields]\n</div>",
       "datasetInfos": [
        {
         "name": "lastOperationDF",
         "schema": {
          "fields": [
           {
            "metadata": {},
            "name": "version",
            "nullable": true,
            "type": "long"
           },
           {
            "metadata": {},
            "name": "timestamp",
            "nullable": true,
            "type": "timestamp"
           },
           {
            "metadata": {},
            "name": "userId",
            "nullable": true,
            "type": "string"
           },
           {
            "metadata": {},
            "name": "userName",
            "nullable": true,
            "type": "string"
           },
           {
            "metadata": {},
            "name": "operation",
            "nullable": true,
            "type": "string"
           },
           {
            "metadata": {},
            "name": "operationParameters",
            "nullable": true,
            "type": {
             "keyType": "string",
             "type": "map",
             "valueContainsNull": true,
             "valueType": "string"
            }
           },
           {
            "metadata": {},
            "name": "job",
            "nullable": true,
            "type": {
             "fields": [
              {
               "metadata": {},
               "name": "jobId",
               "nullable": true,
               "type": "string"
              },
              {
               "metadata": {},
               "name": "jobName",
               "nullable": true,
               "type": "string"
              },
              {
               "metadata": {},
               "name": "runId",
               "nullable": true,
               "type": "string"
              },
              {
               "metadata": {},
               "name": "jobOwnerId",
               "nullable": true,
               "type": "string"
              },
              {
               "metadata": {},
               "name": "triggerType",
               "nullable": true,
               "type": "string"
              }
             ],
             "type": "struct"
            }
           },
           {
            "metadata": {},
            "name": "notebook",
            "nullable": true,
            "type": {
             "fields": [
              {
               "metadata": {},
               "name": "notebookId",
               "nullable": true,
               "type": "string"
              }
             ],
             "type": "struct"
            }
           },
           {
            "metadata": {},
            "name": "clusterId",
            "nullable": true,
            "type": "string"
           },
           {
            "metadata": {},
            "name": "readVersion",
            "nullable": true,
            "type": "long"
           },
           {
            "metadata": {},
            "name": "isolationLevel",
            "nullable": true,
            "type": "string"
           },
           {
            "metadata": {},
            "name": "isBlindAppend",
            "nullable": true,
            "type": "boolean"
           }
          ],
          "type": "struct"
         },
         "tableIdentifier": null,
         "typeStr": "org.apache.spark.sql.DataFrame"
        }
       ],
       "metadata": {},
       "removedWidgets": [],
       "type": "html"
      }
     },
     "output_type": "display_data"
    }
   ],
   "source": [
    "%scala\n",
    "import io.delta.tables._\n",
    "// get the path of the deequ_metrics delta table\n",
    "val fullPath = spark.read.table(\"deequ_metrics\").select(input_file_name).take(1)(0)(0).toString\n",
    "val regPattern = \"^(.+)/([^/]+)$\".r\n",
    "val regPattern(tablePath, fileName) = fullPath\n",
    "\n",
    "// pull the current delta history and create a temp table (to be read by python)\n",
    "val deltaTable = DeltaTable.forPath(spark, tablePath)\n",
    "val lastOperationDF = deltaTable.history(1)\n",
    "lastOperationDF.createOrReplaceTempView(\"deltaVersion\")"
   ]
  },
  {
   "cell_type": "code",
   "execution_count": 0,
   "metadata": {
    "application/vnd.databricks.v1+cell": {
     "cellMetadata": {},
     "inputWidgets": {},
     "nuid": "97013f5c-ca2d-48fe-9907-d0968df8cbae",
     "showTitle": false,
     "title": ""
    }
   },
   "outputs": [
    {
     "output_type": "display_data",
     "data": {
      "text/html": [
       "<style scoped>\n",
       "  .ansiout {\n",
       "    display: block;\n",
       "    unicode-bidi: embed;\n",
       "    white-space: pre-wrap;\n",
       "    word-wrap: break-word;\n",
       "    word-break: break-all;\n",
       "    font-family: \"Menlo\", \"Monaco\", \"Consolas\", \"Ubuntu Mono\", \"Source Code Pro\", monospace;\n",
       "    font-size: 13px;\n",
       "    color: #555;\n",
       "    margin-left: 4px;\n",
       "    line-height: 19px;\n",
       "  }\n",
       "</style>\n",
       "<div class=\"ansiout\"></div>"
      ]
     },
     "metadata": {
      "application/vnd.databricks.v1+output": {
       "addedWidgets": {},
       "arguments": {},
       "data": "<div class=\"ansiout\"></div>",
       "datasetInfos": [
        {
         "name": "delta_df",
         "schema": {
          "fields": [
           {
            "metadata": {},
            "name": "version",
            "nullable": true,
            "type": "long"
           },
           {
            "metadata": {},
            "name": "timestamp",
            "nullable": true,
            "type": "timestamp"
           },
           {
            "metadata": {},
            "name": "userId",
            "nullable": true,
            "type": "string"
           },
           {
            "metadata": {},
            "name": "userName",
            "nullable": true,
            "type": "string"
           },
           {
            "metadata": {},
            "name": "operation",
            "nullable": true,
            "type": "string"
           },
           {
            "metadata": {},
            "name": "operationParameters",
            "nullable": true,
            "type": {
             "keyType": "string",
             "type": "map",
             "valueContainsNull": true,
             "valueType": "string"
            }
           },
           {
            "metadata": {},
            "name": "job",
            "nullable": true,
            "type": {
             "fields": [
              {
               "metadata": {},
               "name": "jobId",
               "nullable": true,
               "type": "string"
              },
              {
               "metadata": {},
               "name": "jobName",
               "nullable": true,
               "type": "string"
              },
              {
               "metadata": {},
               "name": "runId",
               "nullable": true,
               "type": "string"
              },
              {
               "metadata": {},
               "name": "jobOwnerId",
               "nullable": true,
               "type": "string"
              },
              {
               "metadata": {},
               "name": "triggerType",
               "nullable": true,
               "type": "string"
              }
             ],
             "type": "struct"
            }
           },
           {
            "metadata": {},
            "name": "notebook",
            "nullable": true,
            "type": {
             "fields": [
              {
               "metadata": {},
               "name": "notebookId",
               "nullable": true,
               "type": "string"
              }
             ],
             "type": "struct"
            }
           },
           {
            "metadata": {},
            "name": "clusterId",
            "nullable": true,
            "type": "string"
           },
           {
            "metadata": {},
            "name": "readVersion",
            "nullable": true,
            "type": "long"
           },
           {
            "metadata": {},
            "name": "isolationLevel",
            "nullable": true,
            "type": "string"
           },
           {
            "metadata": {},
            "name": "isBlindAppend",
            "nullable": true,
            "type": "boolean"
           }
          ],
          "type": "struct"
         },
         "tableIdentifier": null,
         "typeStr": "pyspark.sql.dataframe.DataFrame"
        }
       ],
       "metadata": {},
       "removedWidgets": [],
       "type": "html"
      }
     },
     "output_type": "display_data"
    }
   ],
   "source": [
    "import mlflow\n",
    "import time\n",
    "from pyspark.sql.functions import col\n",
    "\n",
    "# get the deequ metrics table as a dataframe\n",
    "rows = spark.read.table(\"deequ_metrics\").collect()\n",
    "\n",
    "# get the delta table version\n",
    "delta_df = spark.read.table(\"deltaVersion\")\n",
    "ts = delta_df.select(\"timestamp\").take(1)[0][0]\n",
    "deltaVersion = delta_df.select(\"version\").take(1)[0][0]\n",
    "\n",
    "# get number of bad records\n",
    "num_bad_recs = (spark.read.table(\"bad_records\")\n",
    ".filter(\"quantity < 0\" or \"quantity > 10000\" or \"ipaddr == ''\").count())\n",
    "\n",
    "# start a new mlflow run\n",
    "with mlflow.start_run():\n",
    "\n",
    "  mlflow.log_param(\"timestamp\", ts)\n",
    "  mlflow.log_param(\"delta_version\", deltaVersion)\n",
    "  mlflow.log_metric(\"num_bad_records\", num_bad_recs)\n",
    "\n",
    "  for i in range(len(rows)):\n",
    "\n",
    "    # build the key-value pairs for the metrics\n",
    "    instance = rows[i][1]\n",
    "    name = rows[i][2]\n",
    "    key = instance.replace(\"*\",\"all\") + \"_\" + name\n",
    "    val = rows[i][3]\n",
    "\n",
    "    # log the metric\n",
    "    mlflow.log_metric(key, val)"
   ]
  },
  {
   "cell_type": "markdown",
   "metadata": {
    "application/vnd.databricks.v1+cell": {
     "cellMetadata": {},
     "inputWidgets": {},
     "nuid": "2d576232-e8e4-46a8-9cc5-131eea18ce41",
     "showTitle": false,
     "title": ""
    }
   },
   "source": [
    "We can even send alerts based on our data quality checks. Use Slack, email, or the client of your choice!"
   ]
  },
  {
   "cell_type": "code",
   "execution_count": 0,
   "metadata": {
    "application/vnd.databricks.v1+cell": {
     "cellMetadata": {},
     "inputWidgets": {},
     "nuid": "b8fb396d-6165-4624-9ade-37eba73fa5d2",
     "showTitle": false,
     "title": ""
    }
   },
   "outputs": [],
   "source": [
    "%scala\n",
    "import com.github.mrpowers.spark.slack.Notifier\n",
    "\n",
    "val webhookUrl = \"<my.slack.webhook>\"\n",
    "val notifier = new Notifier(webhookUrl)\n",
    "\n",
    "val num_fail = resultDataFrame.filter($\"constraint_status\" === \"Failure\").count()\n",
    "val error_string = s\"\"\":rotating_light: Looks like you've got some Data Quality errors! :rotating_light: \n",
    "There were ${num_fail} errors in the latest unit test.\"\"\"\n",
    "\n",
    "if(num_fail > 0){\n",
    "  notifier.speak(error_string,\"Slackbot\",\"alert\",\"user.name\")\n",
    "}"
   ]
  },
  {
   "cell_type": "markdown",
   "metadata": {
    "application/vnd.databricks.v1+cell": {
     "cellMetadata": {},
     "inputWidgets": {},
     "nuid": "795aa58d-bff5-4e30-b582-4776cad504c3",
     "showTitle": false,
     "title": ""
    }
   },
   "source": [
    "Finally, we'll clean up the assets we created."
   ]
  },
  {
   "cell_type": "code",
   "execution_count": 0,
   "metadata": {
    "application/vnd.databricks.v1+cell": {
     "cellMetadata": {},
     "inputWidgets": {},
     "nuid": "5f733aec-6a57-4e5e-a9d4-47c459753a80",
     "showTitle": false,
     "title": ""
    }
   },
   "outputs": [
    {
     "output_type": "display_data",
     "data": {
      "text/html": [
       "<style scoped>\n",
       "  .ansiout {\n",
       "    display: block;\n",
       "    unicode-bidi: embed;\n",
       "    white-space: pre-wrap;\n",
       "    word-wrap: break-word;\n",
       "    word-break: break-all;\n",
       "    font-family: \"Menlo\", \"Monaco\", \"Consolas\", \"Ubuntu Mono\", \"Source Code Pro\", monospace;\n",
       "    font-size: 13px;\n",
       "    color: #555;\n",
       "    margin-left: 4px;\n",
       "    line-height: 19px;\n",
       "  }\n",
       "</style>\n",
       "<div class=\"ansiout\">res41: Boolean = true\n",
       "</div>"
      ]
     },
     "metadata": {
      "application/vnd.databricks.v1+output": {
       "addedWidgets": {},
       "arguments": {},
       "data": "<div class=\"ansiout\">res41: Boolean = true\n</div>",
       "datasetInfos": [],
       "metadata": {},
       "removedWidgets": [],
       "type": "html"
      }
     },
     "output_type": "display_data"
    }
   ],
   "source": [
    "%scala\n",
    "spark.sql(\"DROP TABLE IF EXISTS trades_delta\")\n",
    "spark.sql(\"DROP TABLE IF EXISTS bad_records\")\n",
    "spark.sql(\"DROP TABLE IF EXISTS deequ_metrics\")\n",
    "dbutils.fs.rm(checkpoint_path, true)"
   ]
  }
 ],
 "metadata": {
  "application/vnd.databricks.v1+notebook": {
   "dashboards": [
    {
     "elements": [
      {
       "dashboardResultIndex": null,
       "elementNUID": "a8d7faef-e900-42a3-87a6-6eab777d1728",
       "elementType": "command",
       "guid": "0a2004d7-4269-4c75-8022-dd8448beb5b7",
       "options": {
        "autoScaleImg": false,
        "scale": 0,
        "showTitle": true,
        "title": "Bad Records per Batch",
        "titleAlign": "center"
       },
       "position": {
        "height": 8,
        "width": 12,
        "x": 0,
        "y": 6,
        "z": null
       },
       "resultIndex": null
      },
      {
       "dashboardResultIndex": null,
       "elementNUID": "e2608573-e816-4deb-bfe8-3ab6204f6597",
       "elementType": "command",
       "guid": "651461cf-037a-49bf-bfa1-0da3cc52ed22",
       "options": {
        "autoScaleImg": false,
        "scale": 0,
        "showTitle": true,
        "title": "Historical Completeness",
        "titleAlign": "center"
       },
       "position": {
        "height": 7,
        "width": 24,
        "x": 0,
        "y": 14,
        "z": null
       },
       "resultIndex": null
      },
      {
       "dashboardResultIndex": null,
       "elementNUID": "3d4ad5b3-bc77-4aa9-8d6f-2faa82b70a9b",
       "elementType": "command",
       "guid": "b5b58e00-0570-4537-badd-d3d64de5f812",
       "options": {
        "autoScaleImg": false,
        "scale": 0,
        "showTitle": true,
        "title": "Current Metrics: Completeness",
        "titleAlign": "center"
       },
       "position": {
        "height": 6,
        "width": 12,
        "x": 0,
        "y": 0,
        "z": null
       },
       "resultIndex": null
      },
      {
       "dashboardResultIndex": null,
       "elementNUID": "504db2f1-4d39-456c-81fd-155116133305",
       "elementType": "command",
       "guid": "c6f1cb37-9817-43b6-bf0a-2692c382d207",
       "options": {
        "autoScaleImg": false,
        "scale": 0,
        "showTitle": true,
        "title": "Historical Distinctness",
        "titleAlign": "center"
       },
       "position": {
        "height": 6,
        "width": 12,
        "x": 12,
        "y": 0,
        "z": null
       },
       "resultIndex": null
      },
      {
       "dashboardResultIndex": null,
       "elementNUID": "39436173-9528-4b90-ab4c-7e9956f43f65",
       "elementType": "command",
       "guid": "d45d7244-6f26-41c6-bc48-43982fb819e6",
       "options": {
        "autoScaleImg": false,
        "scale": 0,
        "showTitle": true,
        "title": "Unit Validation Status",
        "titleAlign": "center"
       },
       "position": {
        "height": 8,
        "width": 12,
        "x": 12,
        "y": 6,
        "z": null
       },
       "resultIndex": null
      },
      {
       "dashboardResultIndex": null,
       "elementNUID": "134d5ffd-1c20-4ce3-910a-fbb04fc8012f",
       "elementType": "command",
       "guid": "ebbd49f1-a4f7-47e0-9a50-aff225386648",
       "options": {
        "autoScaleImg": false,
        "scale": 0,
        "showTitle": true,
        "title": "Records Failing Validation",
        "titleAlign": "center"
       },
       "position": {
        "height": 7,
        "width": 24,
        "x": 0,
        "y": 21,
        "z": null
       },
       "resultIndex": null
      }
     ],
     "globalVars": {},
     "guid": "",
     "layoutOption": {
      "grid": true,
      "stack": true
     },
     "nuid": "35e1da5c-fcb4-4e08-b146-82bb44291fb6",
     "origId": 241607327630173,
     "title": "DQ Status Dashboard",
     "version": "DashboardViewV1",
     "width": 1024
    }
   ],
   "language": "python",
   "notebookMetadata": {
    "pythonIndentUnit": 2
   },
   "notebookName": "streaming-data-quality",
   "widgets": {}
  }
 },
 "nbformat": 4,
 "nbformat_minor": 0
}
