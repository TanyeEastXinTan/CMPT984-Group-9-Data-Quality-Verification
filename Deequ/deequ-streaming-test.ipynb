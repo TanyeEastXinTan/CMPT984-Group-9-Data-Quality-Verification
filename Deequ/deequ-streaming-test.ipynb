{
 "cells": [
  {
   "cell_type": "markdown",
   "metadata": {
    "application/vnd.databricks.v1+cell": {
     "cellMetadata": {
      "byteLimit": 2048000,
      "rowLimit": 10000
     },
     "inputWidgets": {},
     "nuid": "f4984fe1-fe2d-4531-86a9-cb55796f1042",
     "showTitle": false,
     "title": ""
    }
   },
   "source": [
    "##Streaming Data Quality using AWS Deequ\n",
    "\n",
    "This notebook uses the `Deequ` package from AWS to run analysis on a streaming data source, and to derive key quality metrics about the data. Deequ is able to provide a variety of quantitative statistics and metrics about a dataset, and has utilities to generate, track, and interpret these metrics. See [this Amazon official blog](https://aws.amazon.com/blogs/big-data/test-data-quality-at-scale-with-deequ/) or check the [GitHub repo](https://github.com/awslabs/deequ/) for more details.\n",
    "\n",
    "For this notebook, we use structured streaming, combined with Delta tables and the Deequ package, to provide a live view of a dataset's \"health\".\n",
    "\n",
    "We'll use several Deequ metrics in our analysis; some of these are explained below. The full list can be found in the above links.\n",
    "- `ApproxCountDistinct`: returns the approximate count of distinct values in a column\n",
    "- `Distinctness`: returns the fraction of (distinct values / total values) in a column\n",
    "- `Completeness`: returns the fraction of values that are non-null in a column\n",
    "- `Compliance`: returns the fraction of values in a column that meet a given constraint\n",
    "\n",
    "_Note: this notebook requires the Deequ package; add the package from Maven Central using com.amazon.deequ. For Slack notifications, [spark-slack](https://github.com/MrPowers/spark-slack) or a similar package is required._"
   ]
  },
  {
   "cell_type": "markdown",
   "metadata": {
    "application/vnd.databricks.v1+cell": {
     "cellMetadata": {
      "byteLimit": 2048000,
      "rowLimit": 10000
     },
     "inputWidgets": {},
     "nuid": "93b07e19-367a-4694-9fb9-cfd98dee834d",
     "showTitle": false,
     "title": ""
    }
   },
   "source": [
    "Before we begin, we need to do some cleanup; we'll also need to download some data."
   ]
  },
  {
   "cell_type": "code",
   "execution_count": 0,
   "metadata": {
    "application/vnd.databricks.v1+cell": {
     "cellMetadata": {
      "byteLimit": 2048000,
      "rowLimit": 10000
     },
     "inputWidgets": {},
     "nuid": "b39531f1-5086-46f3-8f3d-3beeeffaebb2",
     "showTitle": false,
     "title": ""
    }
   },
   "outputs": [
    {
     "output_type": "display_data",
     "data": {
      "text/html": [
       "<style scoped>\n",
       "  .ansiout {\n",
       "    display: block;\n",
       "    unicode-bidi: embed;\n",
       "    white-space: pre-wrap;\n",
       "    word-wrap: break-word;\n",
       "    word-break: break-all;\n",
       "    font-family: \"Menlo\", \"Monaco\", \"Consolas\", \"Ubuntu Mono\", \"Source Code Pro\", monospace;\n",
       "    font-size: 13px;\n",
       "    color: #555;\n",
       "    margin-left: 4px;\n",
       "    line-height: 19px;\n",
       "  }\n",
       "</style>\n",
       "<div class=\"ansiout\">res0: Boolean = true\n",
       "</div>"
      ]
     },
     "metadata": {
      "application/vnd.databricks.v1+output": {
       "addedWidgets": {},
       "arguments": {},
       "data": "<div class=\"ansiout\">res0: Boolean = true\n</div>",
       "datasetInfos": [],
       "metadata": {
        "isDbfsCommandResult": false
       },
       "removedWidgets": [],
       "type": "html"
      }
     },
     "output_type": "display_data"
    }
   ],
   "source": [
    "%fs\n",
    "mkdirs /tmp/StreamingDataQuality/"
   ]
  },
  {
   "cell_type": "code",
   "execution_count": 0,
   "metadata": {
    "application/vnd.databricks.v1+cell": {
     "cellMetadata": {
      "byteLimit": 2048000,
      "rowLimit": 10000
     },
     "inputWidgets": {},
     "nuid": "62f64bbc-7e36-4dda-923a-8327bc5312b6",
     "showTitle": false,
     "title": ""
    },
    "jupyter": {
     "outputs_hidden": true
    }
   },
   "outputs": [
    {
     "output_type": "stream",
     "name": "stderr",
     "output_type": "stream",
     "text": [
      "  % Total    % Received % Xferd  Average Speed   Time    Time     Time  Current\n                                 Dload  Upload   Total   Spent    Left  Speed\n\r  0     0    0     0    0     0      0      0 --:--:-- --:--:-- --:--:--     0\r100 12428    0 12428    0     0  12378      0 --:--:--  0:00:01 --:--:-- 12390\r100 94851    0 94851    0     0  46367      0 --:--:--  0:00:02 --:--:-- 46381\r100  149k    0  149k    0     0  60533      0 --:--:--  0:00:02 --:--:-- 60555\n"
     ]
    }
   ],
   "source": [
    "%sh\n",
    "# clear the delta checkpoint\n",
    "rm -rf /dbfs/tmp/StreamingDataQuality/checkpoint\n",
    "\n",
    "# download some generated stock tick data; this is a public Mockaroo endpoint- as such, we can't guarantee availability!\n",
    "curl \"https://api.mockaroo.com/api/2aedaa80?count=1000&key=8eb06b50\" > /dbfs/tmp/StreamingDataQuality/stockTicks.json"
   ]
  },
  {
   "cell_type": "code",
   "execution_count": 0,
   "metadata": {
    "application/vnd.databricks.v1+cell": {
     "cellMetadata": {
      "byteLimit": 2048000,
      "rowLimit": 10000
     },
     "inputWidgets": {},
     "nuid": "78cd80f2-b043-4814-be4d-bb6ee27e0a2f",
     "showTitle": false,
     "title": ""
    }
   },
   "outputs": [],
   "source": [
    "# read the raw JSON, then repartition and write into a tmp parquet folder\n",
    "spark.read.json(\"/tmp/StreamingDataQuality/stockTicks.json\").repartition(100).write.mode(\"overwrite\").parquet(\"/tmp/StreamingDataQuality/source/\")"
   ]
  },
  {
   "cell_type": "code",
   "execution_count": 0,
   "metadata": {
    "application/vnd.databricks.v1+cell": {
     "cellMetadata": {
      "byteLimit": 2048000,
      "rowLimit": 10000
     },
     "inputWidgets": {},
     "nuid": "744059fa-1c93-4194-860e-9bca0bd27db6",
     "showTitle": false,
     "title": ""
    }
   },
   "outputs": [
    {
     "output_type": "display_data",
     "data": {
      "text/html": [
       "<style scoped>\n",
       "  .table-result-container {\n",
       "    max-height: 300px;\n",
       "    overflow: auto;\n",
       "  }\n",
       "  table, th, td {\n",
       "    border: 1px solid black;\n",
       "    border-collapse: collapse;\n",
       "  }\n",
       "  th, td {\n",
       "    padding: 5px;\n",
       "  }\n",
       "  th {\n",
       "    text-align: left;\n",
       "  }\n",
       "</style><div class='table-result-container'><table class='table-result'><thead style='background-color: white'><tr><th>path</th><th>name</th><th>size</th><th>modificationTime</th></tr></thead><tbody><tr><td>dbfs:/tmp/StreamingDataQuality/stockTicks.json</td><td>stockTicks.json</td><td>152903</td><td>1712688780360</td></tr></tbody></table></div>"
      ]
     },
     "metadata": {
      "application/vnd.databricks.v1+output": {
       "addedWidgets": {},
       "aggData": [],
       "aggError": "",
       "aggOverflow": false,
       "aggSchema": [],
       "aggSeriesLimitReached": false,
       "aggType": "",
       "arguments": {},
       "columnCustomDisplayInfos": {},
       "data": [
        [
         "dbfs:/tmp/StreamingDataQuality/stockTicks.json",
         "stockTicks.json",
         152903,
         1712688780360
        ]
       ],
       "datasetInfos": [],
       "dbfsResultPath": null,
       "isJsonSchema": true,
       "metadata": {
        "isDbfsCommandResult": false
       },
       "overflow": false,
       "plotOptions": {
        "customPlotOptions": {},
        "displayType": "table",
        "pivotAggregation": null,
        "pivotColumns": null,
        "xColumns": null,
        "yColumns": null
       },
       "removedWidgets": [],
       "schema": [
        {
         "metadata": "{}",
         "name": "path",
         "type": "\"string\""
        },
        {
         "metadata": "{}",
         "name": "name",
         "type": "\"string\""
        },
        {
         "metadata": "{}",
         "name": "size",
         "type": "\"long\""
        },
        {
         "metadata": "{}",
         "name": "modificationTime",
         "type": "\"long\""
        }
       ],
       "type": "table"
      }
     },
     "output_type": "display_data"
    }
   ],
   "source": [
    "%fs ls /tmp/StreamingDataQuality/stockTicks.json"
   ]
  },
  {
   "cell_type": "markdown",
   "metadata": {
    "application/vnd.databricks.v1+cell": {
     "cellMetadata": {
      "byteLimit": 2048000,
      "rowLimit": 10000
     },
     "inputWidgets": {},
     "nuid": "569a48f0-7a3b-43fa-85b7-782388d6e5f4",
     "showTitle": false,
     "title": ""
    }
   },
   "source": [
    "First we'll set up our delta tables and any necessary temporary views, as well as importing the packages to be used."
   ]
  },
  {
   "cell_type": "code",
   "execution_count": 0,
   "metadata": {
    "application/vnd.databricks.v1+cell": {
     "cellMetadata": {
      "byteLimit": 2048000,
      "rowLimit": 10000
     },
     "inputWidgets": {},
     "nuid": "49c58389-9f21-4e01-aef0-433ac29ef759",
     "showTitle": false,
     "title": ""
    }
   },
   "outputs": [
    {
     "output_type": "display_data",
     "data": {
      "text/html": [
       "<style scoped>\n",
       "  .ansiout {\n",
       "    display: block;\n",
       "    unicode-bidi: embed;\n",
       "    white-space: pre-wrap;\n",
       "    word-wrap: break-word;\n",
       "    word-break: break-all;\n",
       "    font-family: \"Menlo\", \"Monaco\", \"Consolas\", \"Ubuntu Mono\", \"Source Code Pro\", monospace;\n",
       "    font-size: 13px;\n",
       "    color: #555;\n",
       "    margin-left: 4px;\n",
       "    line-height: 19px;\n",
       "  }\n",
       "</style>\n",
       "<div class=\"ansiout\">import spark.implicits._\n",
       "import org.apache.spark.sql._\n",
       "import org.apache.spark.sql.functions._\n",
       "import org.apache.spark.sql.functions.concat\n",
       "import com.amazon.deequ.{VerificationSuite, VerificationResult}\n",
       "import com.amazon.deequ.VerificationResult.checkResultsAsDataFrame\n",
       "import com.amazon.deequ.checks.{Check, CheckLevel, CheckStatus}\n",
       "import com.amazon.deequ.suggestions.{ConstraintSuggestionRunner, Rules}\n",
       "import com.amazon.deequ.analyzers._\n",
       "import com.amazon.deequ.analyzers.runners.AnalysisRunner\n",
       "import com.amazon.deequ.analyzers.runners.AnalyzerContext.successMetricsAsDataFrame\n",
       "import com.amazon.deequ.analyzers.{Analysis, ApproxCountDistinct, Completeness, Compliance, Distinctness, InMemoryStateProvider, Size}\n",
       "</div>"
      ]
     },
     "metadata": {
      "application/vnd.databricks.v1+output": {
       "addedWidgets": {},
       "arguments": {},
       "data": "<div class=\"ansiout\">import spark.implicits._\nimport org.apache.spark.sql._\nimport org.apache.spark.sql.functions._\nimport org.apache.spark.sql.functions.concat\nimport com.amazon.deequ.{VerificationSuite, VerificationResult}\nimport com.amazon.deequ.VerificationResult.checkResultsAsDataFrame\nimport com.amazon.deequ.checks.{Check, CheckLevel, CheckStatus}\nimport com.amazon.deequ.suggestions.{ConstraintSuggestionRunner, Rules}\nimport com.amazon.deequ.analyzers._\nimport com.amazon.deequ.analyzers.runners.AnalysisRunner\nimport com.amazon.deequ.analyzers.runners.AnalyzerContext.successMetricsAsDataFrame\nimport com.amazon.deequ.analyzers.{Analysis, ApproxCountDistinct, Completeness, Compliance, Distinctness, InMemoryStateProvider, Size}\n</div>",
       "datasetInfos": [],
       "metadata": {
        "isDbfsCommandResult": false
       },
       "removedWidgets": [],
       "type": "html"
      }
     },
     "output_type": "display_data"
    }
   ],
   "source": [
    "%scala\n",
    "import spark.implicits._\n",
    "import org.apache.spark.sql._\n",
    "import org.apache.spark.sql.functions._\n",
    "import org.apache.spark.sql.functions.concat\n",
    "import com.amazon.deequ.{VerificationSuite, VerificationResult}\n",
    "import com.amazon.deequ.VerificationResult.checkResultsAsDataFrame\n",
    "import com.amazon.deequ.checks.{Check, CheckLevel, CheckStatus}\n",
    "import com.amazon.deequ.suggestions.{ConstraintSuggestionRunner, Rules}\n",
    "import com.amazon.deequ.analyzers._\n",
    "import com.amazon.deequ.analyzers.runners.AnalysisRunner\n",
    "import com.amazon.deequ.analyzers.runners.AnalyzerContext.successMetricsAsDataFrame\n",
    "import com.amazon.deequ.analyzers.{Analysis, ApproxCountDistinct, Completeness, Compliance, Distinctness, InMemoryStateProvider, Size}"
   ]
  },
  {
   "cell_type": "code",
   "execution_count": 0,
   "metadata": {
    "application/vnd.databricks.v1+cell": {
     "cellMetadata": {
      "byteLimit": 2048000,
      "rowLimit": 10000
     },
     "inputWidgets": {},
     "nuid": "678ec756-9617-4431-a871-ada1168a6c73",
     "showTitle": false,
     "title": ""
    }
   },
   "outputs": [
    {
     "output_type": "display_data",
     "data": {
      "text/html": [
       "<style scoped>\n",
       "  .ansiout {\n",
       "    display: block;\n",
       "    unicode-bidi: embed;\n",
       "    white-space: pre-wrap;\n",
       "    word-wrap: break-word;\n",
       "    word-break: break-all;\n",
       "    font-family: \"Menlo\", \"Monaco\", \"Consolas\", \"Ubuntu Mono\", \"Source Code Pro\", monospace;\n",
       "    font-size: 13px;\n",
       "    color: #555;\n",
       "    margin-left: 4px;\n",
       "    line-height: 19px;\n",
       "  }\n",
       "</style>\n",
       "<div class=\"ansiout\">import spark.implicits._\n",
       "import org.apache.spark.sql._\n",
       "import org.apache.spark.sql.functions._\n",
       "import org.apache.spark.sql.functions.concat\n",
       "import com.amazon.deequ.{VerificationSuite, VerificationResult}\n",
       "import com.amazon.deequ.VerificationResult.checkResultsAsDataFrame\n",
       "import com.amazon.deequ.checks.{Check, CheckLevel, CheckStatus}\n",
       "import com.amazon.deequ.suggestions.{ConstraintSuggestionRunner, Rules}\n",
       "import com.amazon.deequ.analyzers._\n",
       "import com.amazon.deequ.analyzers.runners.AnalysisRunner\n",
       "import com.amazon.deequ.analyzers.runners.AnalyzerContext.successMetricsAsDataFrame\n",
       "import com.amazon.deequ.analyzers.{Analysis, ApproxCountDistinct, Completeness, Compliance, Distinctness, InMemoryStateProvider, Size}\n",
       "data_path: String = /tmp/StreamingDataQuality/source/\n",
       "checkpoint_path: String = /tmp/StreamingDataQuality/checkpoint/\n",
       "base_df: org.apache.spark.sql.DataFrame = [buysell: string, date: string ... 6 more fields]\n",
       "empty_df: org.apache.spark.sql.Dataset[org.apache.spark.sql.Row] = [buysell: string, date: string ... 6 more fields]\n",
       "l1: Long = 0\n",
       "res2: Boolean = true\n",
       "</div>"
      ]
     },
     "metadata": {
      "application/vnd.databricks.v1+output": {
       "addedWidgets": {},
       "arguments": {},
       "data": "<div class=\"ansiout\">import spark.implicits._\nimport org.apache.spark.sql._\nimport org.apache.spark.sql.functions._\nimport org.apache.spark.sql.functions.concat\nimport com.amazon.deequ.{VerificationSuite, VerificationResult}\nimport com.amazon.deequ.VerificationResult.checkResultsAsDataFrame\nimport com.amazon.deequ.checks.{Check, CheckLevel, CheckStatus}\nimport com.amazon.deequ.suggestions.{ConstraintSuggestionRunner, Rules}\nimport com.amazon.deequ.analyzers._\nimport com.amazon.deequ.analyzers.runners.AnalysisRunner\nimport com.amazon.deequ.analyzers.runners.AnalyzerContext.successMetricsAsDataFrame\nimport com.amazon.deequ.analyzers.{Analysis, ApproxCountDistinct, Completeness, Compliance, Distinctness, InMemoryStateProvider, Size}\ndata_path: String = /tmp/StreamingDataQuality/source/\ncheckpoint_path: String = /tmp/StreamingDataQuality/checkpoint/\nbase_df: org.apache.spark.sql.DataFrame = [buysell: string, date: string ... 6 more fields]\nempty_df: org.apache.spark.sql.Dataset[org.apache.spark.sql.Row] = [buysell: string, date: string ... 6 more fields]\nl1: Long = 0\nres2: Boolean = true\n</div>",
       "datasetInfos": [],
       "metadata": {
        "isDbfsCommandResult": false
       },
       "removedWidgets": [],
       "type": "html"
      }
     },
     "output_type": "display_data"
    }
   ],
   "source": [
    "%scala\n",
    "import spark.implicits._\n",
    "import org.apache.spark.sql._\n",
    "import org.apache.spark.sql.functions._\n",
    "import org.apache.spark.sql.functions.concat\n",
    "import com.amazon.deequ.{VerificationSuite, VerificationResult}\n",
    "import com.amazon.deequ.VerificationResult.checkResultsAsDataFrame\n",
    "import com.amazon.deequ.checks.{Check, CheckLevel, CheckStatus}\n",
    "import com.amazon.deequ.suggestions.{ConstraintSuggestionRunner, Rules}\n",
    "import com.amazon.deequ.analyzers._\n",
    "import com.amazon.deequ.analyzers.runners.AnalysisRunner\n",
    "import com.amazon.deequ.analyzers.runners.AnalyzerContext.successMetricsAsDataFrame\n",
    "import com.amazon.deequ.analyzers.{Analysis, ApproxCountDistinct, Completeness, Compliance, Distinctness, InMemoryStateProvider, Size}\n",
    "\n",
    "val data_path = \"/tmp/StreamingDataQuality/source/\"\n",
    "val checkpoint_path = \"/tmp/StreamingDataQuality/checkpoint/\"\n",
    "val base_df = spark.read.parquet(data_path)\n",
    "val empty_df = base_df.where(\"0 = 1\")\n",
    "val l1: Long = 0\n",
    "\n",
    "spark.sql(\"DROP TABLE IF EXISTS trades_delta\")\n",
    "spark.sql(\"DROP TABLE IF EXISTS bad_records\")\n",
    "spark.sql(\"DROP TABLE IF EXISTS deequ_metrics\")\n",
    "\n",
    "base_df.createOrReplaceTempView(\"trades_historical\")\n",
    "empty_df.write.format(\"delta\").saveAsTable(\"trades_delta\")\n",
    "empty_df.withColumn(\"batchID\",lit(l1)).write.format(\"delta\").saveAsTable(\"bad_records\")\n",
    "dbutils.fs.mkdirs(checkpoint_path)"
   ]
  },
  {
   "cell_type": "markdown",
   "metadata": {
    "application/vnd.databricks.v1+cell": {
     "cellMetadata": {
      "byteLimit": 2048000,
      "rowLimit": 10000
     },
     "inputWidgets": {},
     "nuid": "a5936b3f-b597-4fa9-87ca-e04a3005e8d2",
     "showTitle": false,
     "title": ""
    }
   },
   "source": [
    "First, we'll take a look at the suggested quality constraints that Deequ can automatically generate. Deequ will inspect the data you give it, and generate constraints that assume future data should look similar."
   ]
  },
  {
   "cell_type": "code",
   "execution_count": 0,
   "metadata": {
    "application/vnd.databricks.v1+cell": {
     "cellMetadata": {
      "byteLimit": 2048000,
      "rowLimit": 10000
     },
     "inputWidgets": {},
     "nuid": "bab251ea-dbc5-4075-a8d2-a254d910f904",
     "showTitle": false,
     "title": ""
    }
   },
   "outputs": [],
   "source": [
    "%scala\n",
    "val suggestionResult = ConstraintSuggestionRunner()\n",
    "  .onData(spark.sql(\"SELECT * FROM trades_historical\"))\n",
    "  .addConstraintRules(Rules.DEFAULT)\n",
    "  .run()\n",
    "\n",
    "suggestionResult.constraintSuggestions.foreach { case (column, suggestions) =>\n",
    "  suggestions.foreach { suggestion =>\n",
    "    println(s\"Constraint suggestion for '$column':\\t${suggestion.description}\\n\" +\n",
    "      s\"The corresponding scala code is ${suggestion.codeForConstraint}\\n\")\n",
    "  }\n",
    "}"
   ]
  },
  {
   "cell_type": "markdown",
   "metadata": {
    "application/vnd.databricks.v1+cell": {
     "cellMetadata": {
      "byteLimit": 2048000,
      "rowLimit": 10000
     },
     "inputWidgets": {},
     "nuid": "e5f1f270-dc33-4f05-be41-3600af6685cd",
     "showTitle": false,
     "title": ""
    }
   },
   "source": [
    "Currently, Deequ leaves it to us to decide which of these constraints to actually use. We'll choose a few to run on our full dataset. We'll also set up a few other pieces provided by Deequ to hold our stateful metrics."
   ]
  },
  {
   "cell_type": "code",
   "execution_count": 0,
   "metadata": {
    "application/vnd.databricks.v1+cell": {
     "cellMetadata": {
      "byteLimit": 2048000,
      "rowLimit": 10000
     },
     "inputWidgets": {},
     "nuid": "aa5a5617-2998-4787-b457-4339d0e3af87",
     "showTitle": false,
     "title": ""
    }
   },
   "outputs": [
    {
     "output_type": "display_data",
     "data": {
      "text/html": [
       "<style scoped>\n",
       "  .ansiout {\n",
       "    display: block;\n",
       "    unicode-bidi: embed;\n",
       "    white-space: pre-wrap;\n",
       "    word-wrap: break-word;\n",
       "    word-break: break-all;\n",
       "    font-family: \"Menlo\", \"Monaco\", \"Consolas\", \"Ubuntu Mono\", \"Source Code Pro\", monospace;\n",
       "    font-size: 13px;\n",
       "    color: #555;\n",
       "    margin-left: 4px;\n",
       "    line-height: 19px;\n",
       "  }\n",
       "</style>\n",
       "<div class=\"ansiout\">stateStoreCurr: com.amazon.deequ.analyzers.InMemoryStateProvider =\n",
       "stateStoreNext: com.amazon.deequ.analyzers.InMemoryStateProvider =\n",
       "analysis: com.amazon.deequ.analyzers.Analysis = Analysis(List(Size(None), ApproxCountDistinct(symbol,None), Distinctness(List(symbol),None), Completeness(ipaddr,None), Completeness(quantity,None), Completeness(price,None), Compliance(top quantity,quantity &gt;= 0,None,List())))\n",
       "</div>"
      ]
     },
     "metadata": {
      "application/vnd.databricks.v1+output": {
       "addedWidgets": {},
       "arguments": {},
       "data": "<div class=\"ansiout\">stateStoreCurr: com.amazon.deequ.analyzers.InMemoryStateProvider =\nstateStoreNext: com.amazon.deequ.analyzers.InMemoryStateProvider =\nanalysis: com.amazon.deequ.analyzers.Analysis = Analysis(List(Size(None), ApproxCountDistinct(symbol,None), Distinctness(List(symbol),None), Completeness(ipaddr,None), Completeness(quantity,None), Completeness(price,None), Compliance(top quantity,quantity &gt;= 0,None,List())))\n</div>",
       "datasetInfos": [],
       "metadata": {
        "isDbfsCommandResult": false
       },
       "removedWidgets": [],
       "type": "html"
      }
     },
     "output_type": "display_data"
    }
   ],
   "source": [
    "%scala\n",
    "// create a stateStore to hold our stateful metrics\n",
    "val stateStoreCurr = InMemoryStateProvider()\n",
    "val stateStoreNext = InMemoryStateProvider()\n",
    "\n",
    "// create the analyzer to run on the streaming data\n",
    "val analysis = Analysis()\n",
    ".addAnalyzer(Size())\n",
    ".addAnalyzer(ApproxCountDistinct(\"symbol\"))\n",
    ".addAnalyzer(Distinctness(\"symbol\"))\n",
    ".addAnalyzer(Completeness(\"ipaddr\"))\n",
    ".addAnalyzer(Completeness(\"quantity\"))\n",
    ".addAnalyzer(Completeness(\"price\"))\n",
    ".addAnalyzer(Compliance(\"top quantity\", \"quantity >= 0\"))"
   ]
  },
  {
   "cell_type": "markdown",
   "metadata": {
    "application/vnd.databricks.v1+cell": {
     "cellMetadata": {
      "byteLimit": 2048000,
      "rowLimit": 10000
     },
     "inputWidgets": {},
     "nuid": "a6660b26-cbbf-4acc-9023-41cff006ae4b",
     "showTitle": false,
     "title": ""
    }
   },
   "source": [
    "Now that everything is in place, we can run the stream to populate our delta table. \n",
    "\n",
    "Note that before running this cell, it is preferable to run the other streaming cells below first, so that they will consume all of the records from this producer."
   ]
  },
  {
   "cell_type": "code",
   "execution_count": 0,
   "metadata": {
    "application/vnd.databricks.v1+cell": {
     "cellMetadata": {
      "byteLimit": 2048000,
      "rowLimit": 10000
     },
     "inputWidgets": {},
     "nuid": "7ecc9d02-1984-415c-8180-a93a24eca9c3",
     "showTitle": false,
     "title": ""
    }
   },
   "outputs": [
    {
     "output_type": "display_data",
     "data": {
      "text/html": [
       "<style scoped>\n",
       "  .ansiout {\n",
       "    display: block;\n",
       "    unicode-bidi: embed;\n",
       "    white-space: pre-wrap;\n",
       "    word-wrap: break-word;\n",
       "    word-break: break-all;\n",
       "    font-family: \"Menlo\", \"Monaco\", \"Consolas\", \"Ubuntu Mono\", \"Source Code Pro\", monospace;\n",
       "    font-size: 13px;\n",
       "    color: #555;\n",
       "    margin-left: 4px;\n",
       "    line-height: 19px;\n",
       "  }\n",
       "</style>\n",
       "<div class=\"ansiout\">schema: org.apache.spark.sql.types.StructType = StructType(StructField(buysell,StringType,true),StructField(date,StringType,true),StructField(ipaddr,StringType,true),StructField(ordertype,StringType,true),StructField(price,DoubleType,true),StructField(quantity,DoubleType,true),StructField(symbol,StringType,true),StructField(time,StringType,true))\n",
       "res7: org.apache.spark.sql.streaming.StreamingQuery = org.apache.spark.sql.execution.streaming.StreamingQueryWrapper@24df4553\n",
       "</div>"
      ]
     },
     "metadata": {
      "application/vnd.databricks.v1+output": {
       "addedWidgets": {},
       "arguments": {},
       "data": "<div class=\"ansiout\">schema: org.apache.spark.sql.types.StructType = StructType(StructField(buysell,StringType,true),StructField(date,StringType,true),StructField(ipaddr,StringType,true),StructField(ordertype,StringType,true),StructField(price,DoubleType,true),StructField(quantity,DoubleType,true),StructField(symbol,StringType,true),StructField(time,StringType,true))\nres7: org.apache.spark.sql.streaming.StreamingQuery = org.apache.spark.sql.execution.streaming.StreamingQueryWrapper@24df4553\n</div>",
       "datasetInfos": [],
       "metadata": {
        "isDbfsCommandResult": false
       },
       "removedWidgets": [],
       "type": "html"
      }
     },
     "output_type": "display_data"
    }
   ],
   "source": [
    "%scala\n",
    "// parse the schema for the source parquet\n",
    "val schema = base_df.schema\n",
    "\n",
    "// start the stream\n",
    "spark.readStream\n",
    ".schema(schema)\n",
    ".format(\"parquet\")\n",
    ".option(\"maxFilesPerTrigger\",1)\n",
    ".load(data_path)\n",
    ".writeStream.format(\"delta\")\n",
    ".option(\"failOnDataLoss\", false)\n",
    ".option(\"checkpointLocation\", checkpoint_path)\n",
    ".format(\"delta\").table(\"trades_delta\")"
   ]
  },
  {
   "cell_type": "markdown",
   "metadata": {
    "application/vnd.databricks.v1+cell": {
     "cellMetadata": {
      "byteLimit": 2048000,
      "rowLimit": 10000
     },
     "inputWidgets": {},
     "nuid": "cc1d5b5a-4df0-4098-9c9a-a2f2028ac7f9",
     "showTitle": false,
     "title": ""
    }
   },
   "source": [
    "We now need to read the delta table we just created, so that we can apply the Deequ analysis to this data. To do this, we first read the previous delta table as a stream, and then use foreachBatch to do the following:\n",
    "- Set up the stateStores\n",
    "- Run our analysis on the current batch\n",
    "- Run a unit validation on the current batch\n",
    "- If unit verification fails, add the batch to the bad records table\n",
    "- Update the metrics table with the current batch\n",
    "\n",
    "This cell writes to two tables: bad_records (which contains records from any batch that fails validation) and deequ_metrics (which contains the latest aggregated metrics from all streaming records)."
   ]
  },
  {
   "cell_type": "code",
   "execution_count": 0,
   "metadata": {
    "application/vnd.databricks.v1+cell": {
     "cellMetadata": {
      "byteLimit": 2048000,
      "rowLimit": 10000
     },
     "inputWidgets": {},
     "nuid": "04a7edeb-c6d7-4c5b-80ad-6785e9ba69be",
     "showTitle": false,
     "title": ""
    }
   },
   "outputs": [
    {
     "output_type": "display_data",
     "data": {
      "text/html": [
       "<style scoped>\n",
       "  .ansiout {\n",
       "    display: block;\n",
       "    unicode-bidi: embed;\n",
       "    white-space: pre-wrap;\n",
       "    word-wrap: break-word;\n",
       "    word-break: break-all;\n",
       "    font-family: \"Menlo\", \"Monaco\", \"Consolas\", \"Ubuntu Mono\", \"Source Code Pro\", monospace;\n",
       "    font-size: 13px;\n",
       "    color: #555;\n",
       "    margin-left: 4px;\n",
       "    line-height: 19px;\n",
       "  }\n",
       "</style>\n",
       "<div class=\"ansiout\">res8: org.apache.spark.sql.streaming.StreamingQuery = org.apache.spark.sql.execution.streaming.StreamingQueryWrapper@5a3a7d24\n",
       "</div>"
      ]
     },
     "metadata": {
      "application/vnd.databricks.v1+output": {
       "addedWidgets": {},
       "arguments": {},
       "data": "<div class=\"ansiout\">res8: org.apache.spark.sql.streaming.StreamingQuery = org.apache.spark.sql.execution.streaming.StreamingQueryWrapper@5a3a7d24\n</div>",
       "datasetInfos": [],
       "metadata": {
        "isDbfsCommandResult": false
       },
       "removedWidgets": [],
       "type": "html"
      }
     },
     "output_type": "display_data"
    }
   ],
   "source": [
    "%scala\n",
    "// read the delta table and analyze\n",
    "spark.readStream\n",
    ".format(\"delta\")\n",
    ".table(\"trades_delta\")\n",
    ".writeStream\n",
    ".foreachBatch { (batchDF: DataFrame, batchId: Long) =>\n",
    "  \n",
    "  // reassign our current state to the previous next state\n",
    "  val stateStoreCurr = stateStoreNext\n",
    "  \n",
    "  // run our analysis on the current batch, aggregate with saved state\n",
    "  val metricsResult = AnalysisRunner.run(\n",
    "    data = batchDF,\n",
    "    analysis = analysis,\n",
    "    aggregateWith = Some(stateStoreCurr),\n",
    "    saveStatesWith = Some(stateStoreNext))\n",
    "  \n",
    "  // verify critical metrics for this microbatch i.e., trade quantity, ipaddr not null, etc.\n",
    "  val verificationResult = VerificationSuite()\n",
    "  .onData(batchDF)\n",
    "  .addCheck(\n",
    "    Check(CheckLevel.Error, \"unitTest\")\n",
    "      .hasMax(\"quantity\", _ <= 10000) // max is 10000\n",
    "      .hasCompleteness(\"ipaddr\", _ >= 0.95) // 95%+ non-null IPs\n",
    "      .isNonNegative(\"quantity\")) // should not contain negative values\n",
    "    .run()\n",
    "  \n",
    "  // if verification fails, write batch to bad records table\n",
    "  if (verificationResult.status != CheckStatus.Success) {\n",
    "    batchDF.withColumn(\"batchID\",lit(batchId))\n",
    "    .write.format(\"delta\").mode(\"append\").saveAsTable(\"bad_records\")\n",
    "  }\n",
    "  \n",
    "  // get the current metrics as a dataframe\n",
    "  val metric_results = successMetricsAsDataFrame(spark, metricsResult)\n",
    "  .withColumn(\"ts\", current_timestamp())\n",
    "  \n",
    "  // write the current results into the metrics table\n",
    "  metric_results.write.format(\"delta\").mode(\"Overwrite\").saveAsTable(\"deequ_metrics\")\n",
    "\n",
    "}\n",
    ".start()"
   ]
  },
  {
   "cell_type": "markdown",
   "metadata": {
    "application/vnd.databricks.v1+cell": {
     "cellMetadata": {
      "byteLimit": 2048000,
      "rowLimit": 10000
     },
     "inputWidgets": {},
     "nuid": "0dd5aebf-4ab9-4ccc-a201-2e0067dfda62",
     "showTitle": false,
     "title": ""
    }
   },
   "source": [
    "Now, we can visualize the metrics. Note that because we are updating the table, we need to set `ignoreChanges` to `true`. This means each update of the metrics will be written as a duplicate entry; we can parse this out to only take the latest view, or we can use this to create a time series view of the data quality."
   ]
  },
  {
   "cell_type": "code",
   "execution_count": 0,
   "metadata": {
    "application/vnd.databricks.v1+cell": {
     "cellMetadata": {
      "byteLimit": 2048000,
      "rowLimit": 10000
     },
     "inputWidgets": {},
     "nuid": "504db2f1-4d39-456c-81fd-155116133305",
     "showTitle": false,
     "title": ""
    }
   },
   "outputs": [
    {
     "output_type": "display_data",
     "data": {
      "text/plain": [
       "Databricks visualization. Run in Databricks to view."
      ]
     },
     "metadata": {
      "application/vnd.databricks.v1.subcommand+json": {
       "baseErrorDetails": null,
       "bindings": {},
       "collapsed": false,
       "command": "# Databricks no-op command",
       "commandTitle": "Legacy - Line (v2)",
       "commandType": "auto",
       "commandVersion": 0,
       "commentThread": [],
       "commentsVisible": false,
       "contentSha256Hex": null,
       "customPlotOptions": {
        "mgLine": [
         {
          "key": "param",
          "value": "{\"top\":20,\"bottom\":50,\"area\":false,\"missing_is_hidden\":true,\"legend_target\":\".dummy\",\"animate_on_load\":false,\"transition_on_update\":false,\"legend\":[\"ApproxCountDistinct\",\"Size\"],\"x_label\":\"ts\",\"colors\":[\"#1f77b4\",\"#ff7f0e\"]}"
         }
        ]
       },
       "datasetPreviewNameToCmdIdMap": {},
       "diffDeletes": [],
       "diffInserts": [],
       "displayType": "mgLine",
       "error": null,
       "errorDetails": null,
       "errorSummary": null,
       "errorTraceType": null,
       "finishTime": 0,
       "globalVars": {},
       "guid": "",
       "height": "294",
       "hideCommandCode": false,
       "hideCommandResult": false,
       "iPythonMetadata": null,
       "inputWidgets": {},
       "isLockedInExamMode": false,
       "latestUser": "a user",
       "latestUserId": null,
       "listResultMetadata": null,
       "metadata": {},
       "nuid": "86595fc4-7f28-4753-a4e8-fc72954d5b4b",
       "origId": 0,
       "parentHierarchy": [],
       "pivotAggregation": "sum",
       "pivotColumns": [
        "name",
        "instance"
       ],
       "position": -1.0,
       "resultDbfsErrorMessage": null,
       "resultDbfsStatus": "INLINED_IN_TREE",
       "results": null,
       "showCommandTitle": false,
       "startTime": 0,
       "state": "input",
       "streamStates": {},
       "subcommandOptions": null,
       "submitTime": 0,
       "subtype": "tableResultSubCmd.visualization",
       "tableResultIndex": 0,
       "useConsistentColors": false,
       "version": "CommandV1",
       "width": "696",
       "workflows": [],
       "xColumns": [
        "ts"
       ],
       "yColumns": [
        "value"
       ]
      }
     },
     "output_type": "display_data"
    },
    {
     "output_type": "display_data",
     "data": {
      "text/html": [
       "<style scoped>\n",
       "  .table-result-container {\n",
       "    max-height: 300px;\n",
       "    overflow: auto;\n",
       "  }\n",
       "  table, th, td {\n",
       "    border: 1px solid black;\n",
       "    border-collapse: collapse;\n",
       "  }\n",
       "  th, td {\n",
       "    padding: 5px;\n",
       "  }\n",
       "  th {\n",
       "    text-align: left;\n",
       "  }\n",
       "</style><div class='table-result-container'><table class='table-result'><thead style='background-color: white'><tr><th>entity</th><th>instance</th><th>name</th><th>value</th><th>ts</th></tr></thead><tbody><tr><td>Column</td><td>symbol</td><td>ApproxCountDistinct</td><td>100.0</td><td>2024-04-09T18:56:17.48Z</td></tr><tr><td>Dataset</td><td>*</td><td>Size</td><td>100.0</td><td>2024-04-09T18:56:17.48Z</td></tr><tr><td>Column</td><td>symbol</td><td>ApproxCountDistinct</td><td>118.0</td><td>2024-04-09T18:56:39.526Z</td></tr><tr><td>Dataset</td><td>*</td><td>Size</td><td>120.0</td><td>2024-04-09T18:56:39.526Z</td></tr><tr><td>Column</td><td>symbol</td><td>ApproxCountDistinct</td><td>153.0</td><td>2024-04-09T18:56:59.399Z</td></tr><tr><td>Dataset</td><td>*</td><td>Size</td><td>160.0</td><td>2024-04-09T18:56:59.399Z</td></tr><tr><td>Column</td><td>symbol</td><td>ApproxCountDistinct</td><td>179.0</td><td>2024-04-09T18:57:22.035Z</td></tr><tr><td>Dataset</td><td>*</td><td>Size</td><td>190.0</td><td>2024-04-09T18:57:22.035Z</td></tr><tr><td>Column</td><td>symbol</td><td>ApproxCountDistinct</td><td>220.0</td><td>2024-04-09T18:57:45.848Z</td></tr><tr><td>Dataset</td><td>*</td><td>Size</td><td>230.0</td><td>2024-04-09T18:57:45.848Z</td></tr><tr><td>Column</td><td>symbol</td><td>ApproxCountDistinct</td><td>269.0</td><td>2024-04-09T18:58:10.158Z</td></tr><tr><td>Dataset</td><td>*</td><td>Size</td><td>280.0</td><td>2024-04-09T18:58:10.158Z</td></tr><tr><td>Column</td><td>symbol</td><td>ApproxCountDistinct</td><td>298.0</td><td>2024-04-09T18:58:47.082Z</td></tr><tr><td>Dataset</td><td>*</td><td>Size</td><td>310.0</td><td>2024-04-09T18:58:47.082Z</td></tr><tr><td>Column</td><td>symbol</td><td>ApproxCountDistinct</td><td>335.0</td><td>2024-04-09T18:59:10.349Z</td></tr><tr><td>Dataset</td><td>*</td><td>Size</td><td>350.0</td><td>2024-04-09T18:59:10.349Z</td></tr><tr><td>Column</td><td>symbol</td><td>ApproxCountDistinct</td><td>371.0</td><td>2024-04-09T18:59:29.714Z</td></tr><tr><td>Dataset</td><td>*</td><td>Size</td><td>390.0</td><td>2024-04-09T18:59:29.714Z</td></tr><tr><td>Column</td><td>symbol</td><td>ApproxCountDistinct</td><td>390.0</td><td>2024-04-09T18:59:54.714Z</td></tr><tr><td>Dataset</td><td>*</td><td>Size</td><td>410.0</td><td>2024-04-09T18:59:54.714Z</td></tr><tr><td>Column</td><td>symbol</td><td>ApproxCountDistinct</td><td>430.0</td><td>2024-04-09T19:00:22.026Z</td></tr><tr><td>Dataset</td><td>*</td><td>Size</td><td>450.0</td><td>2024-04-09T19:00:22.026Z</td></tr><tr><td>Column</td><td>symbol</td><td>ApproxCountDistinct</td><td>464.0</td><td>2024-04-09T19:00:51.611Z</td></tr><tr><td>Dataset</td><td>*</td><td>Size</td><td>490.0</td><td>2024-04-09T19:00:51.611Z</td></tr><tr><td>Column</td><td>symbol</td><td>ApproxCountDistinct</td><td>510.0</td><td>2024-04-09T19:01:20.706Z</td></tr><tr><td>Dataset</td><td>*</td><td>Size</td><td>530.0</td><td>2024-04-09T19:01:20.706Z</td></tr><tr><td>Column</td><td>symbol</td><td>ApproxCountDistinct</td><td>560.0</td><td>2024-04-09T19:01:50.348Z</td></tr><tr><td>Dataset</td><td>*</td><td>Size</td><td>580.0</td><td>2024-04-09T19:01:50.348Z</td></tr><tr><td>Column</td><td>symbol</td><td>ApproxCountDistinct</td><td>595.0</td><td>2024-04-09T19:02:37.193Z</td></tr><tr><td>Dataset</td><td>*</td><td>Size</td><td>620.0</td><td>2024-04-09T19:02:37.193Z</td></tr><tr><td>Column</td><td>symbol</td><td>ApproxCountDistinct</td><td>645.0</td><td>2024-04-09T19:03:14.986Z</td></tr><tr><td>Dataset</td><td>*</td><td>Size</td><td>670.0</td><td>2024-04-09T19:03:14.986Z</td></tr><tr><td>Column</td><td>symbol</td><td>ApproxCountDistinct</td><td>686.0</td><td>2024-04-09T19:03:49.774Z</td></tr><tr><td>Dataset</td><td>*</td><td>Size</td><td>720.0</td><td>2024-04-09T19:03:49.774Z</td></tr><tr><td>Column</td><td>symbol</td><td>ApproxCountDistinct</td><td>721.0</td><td>2024-04-09T19:04:27.271Z</td></tr><tr><td>Dataset</td><td>*</td><td>Size</td><td>770.0</td><td>2024-04-09T19:04:27.271Z</td></tr><tr><td>Column</td><td>symbol</td><td>ApproxCountDistinct</td><td>774.0</td><td>2024-04-09T19:05:03.344Z</td></tr><tr><td>Dataset</td><td>*</td><td>Size</td><td>820.0</td><td>2024-04-09T19:05:03.344Z</td></tr><tr><td>Column</td><td>symbol</td><td>ApproxCountDistinct</td><td>812.0</td><td>2024-04-09T19:05:44.523Z</td></tr><tr><td>Dataset</td><td>*</td><td>Size</td><td>880.0</td><td>2024-04-09T19:05:44.523Z</td></tr><tr><td>Column</td><td>symbol</td><td>ApproxCountDistinct</td><td>875.0</td><td>2024-04-09T19:06:46.837Z</td></tr><tr><td>Dataset</td><td>*</td><td>Size</td><td>930.0</td><td>2024-04-09T19:06:46.837Z</td></tr><tr><td>Column</td><td>symbol</td><td>ApproxCountDistinct</td><td>926.0</td><td>2024-04-09T19:07:34.52Z</td></tr><tr><td>Dataset</td><td>*</td><td>Size</td><td>990.0</td><td>2024-04-09T19:07:34.52Z</td></tr><tr><td>Column</td><td>symbol</td><td>ApproxCountDistinct</td><td>929.0</td><td>2024-04-09T19:08:10.352Z</td></tr><tr><td>Dataset</td><td>*</td><td>Size</td><td>1000.0</td><td>2024-04-09T19:08:10.352Z</td></tr></tbody></table></div>"
      ]
     },
     "metadata": {
      "application/vnd.databricks.v1+output": {
       "addedWidgets": {},
       "aggData": [],
       "aggError": "",
       "aggOverflow": false,
       "aggSchema": [],
       "aggSeriesLimitReached": false,
       "aggType": "",
       "arguments": {},
       "columnCustomDisplayInfos": {},
       "data": [
        [
         "Column",
         "symbol",
         "ApproxCountDistinct",
         100.0,
         "2024-04-09T18:56:17.48Z"
        ],
        [
         "Dataset",
         "*",
         "Size",
         100.0,
         "2024-04-09T18:56:17.48Z"
        ],
        [
         "Column",
         "symbol",
         "ApproxCountDistinct",
         118.0,
         "2024-04-09T18:56:39.526Z"
        ],
        [
         "Dataset",
         "*",
         "Size",
         120.0,
         "2024-04-09T18:56:39.526Z"
        ],
        [
         "Column",
         "symbol",
         "ApproxCountDistinct",
         153.0,
         "2024-04-09T18:56:59.399Z"
        ],
        [
         "Dataset",
         "*",
         "Size",
         160.0,
         "2024-04-09T18:56:59.399Z"
        ],
        [
         "Column",
         "symbol",
         "ApproxCountDistinct",
         179.0,
         "2024-04-09T18:57:22.035Z"
        ],
        [
         "Dataset",
         "*",
         "Size",
         190.0,
         "2024-04-09T18:57:22.035Z"
        ],
        [
         "Column",
         "symbol",
         "ApproxCountDistinct",
         220.0,
         "2024-04-09T18:57:45.848Z"
        ],
        [
         "Dataset",
         "*",
         "Size",
         230.0,
         "2024-04-09T18:57:45.848Z"
        ],
        [
         "Column",
         "symbol",
         "ApproxCountDistinct",
         269.0,
         "2024-04-09T18:58:10.158Z"
        ],
        [
         "Dataset",
         "*",
         "Size",
         280.0,
         "2024-04-09T18:58:10.158Z"
        ],
        [
         "Column",
         "symbol",
         "ApproxCountDistinct",
         298.0,
         "2024-04-09T18:58:47.082Z"
        ],
        [
         "Dataset",
         "*",
         "Size",
         310.0,
         "2024-04-09T18:58:47.082Z"
        ],
        [
         "Column",
         "symbol",
         "ApproxCountDistinct",
         335.0,
         "2024-04-09T18:59:10.349Z"
        ],
        [
         "Dataset",
         "*",
         "Size",
         350.0,
         "2024-04-09T18:59:10.349Z"
        ],
        [
         "Column",
         "symbol",
         "ApproxCountDistinct",
         371.0,
         "2024-04-09T18:59:29.714Z"
        ],
        [
         "Dataset",
         "*",
         "Size",
         390.0,
         "2024-04-09T18:59:29.714Z"
        ],
        [
         "Column",
         "symbol",
         "ApproxCountDistinct",
         390.0,
         "2024-04-09T18:59:54.714Z"
        ],
        [
         "Dataset",
         "*",
         "Size",
         410.0,
         "2024-04-09T18:59:54.714Z"
        ],
        [
         "Column",
         "symbol",
         "ApproxCountDistinct",
         430.0,
         "2024-04-09T19:00:22.026Z"
        ],
        [
         "Dataset",
         "*",
         "Size",
         450.0,
         "2024-04-09T19:00:22.026Z"
        ],
        [
         "Column",
         "symbol",
         "ApproxCountDistinct",
         464.0,
         "2024-04-09T19:00:51.611Z"
        ],
        [
         "Dataset",
         "*",
         "Size",
         490.0,
         "2024-04-09T19:00:51.611Z"
        ],
        [
         "Column",
         "symbol",
         "ApproxCountDistinct",
         510.0,
         "2024-04-09T19:01:20.706Z"
        ],
        [
         "Dataset",
         "*",
         "Size",
         530.0,
         "2024-04-09T19:01:20.706Z"
        ],
        [
         "Column",
         "symbol",
         "ApproxCountDistinct",
         560.0,
         "2024-04-09T19:01:50.348Z"
        ],
        [
         "Dataset",
         "*",
         "Size",
         580.0,
         "2024-04-09T19:01:50.348Z"
        ],
        [
         "Column",
         "symbol",
         "ApproxCountDistinct",
         595.0,
         "2024-04-09T19:02:37.193Z"
        ],
        [
         "Dataset",
         "*",
         "Size",
         620.0,
         "2024-04-09T19:02:37.193Z"
        ],
        [
         "Column",
         "symbol",
         "ApproxCountDistinct",
         645.0,
         "2024-04-09T19:03:14.986Z"
        ],
        [
         "Dataset",
         "*",
         "Size",
         670.0,
         "2024-04-09T19:03:14.986Z"
        ],
        [
         "Column",
         "symbol",
         "ApproxCountDistinct",
         686.0,
         "2024-04-09T19:03:49.774Z"
        ],
        [
         "Dataset",
         "*",
         "Size",
         720.0,
         "2024-04-09T19:03:49.774Z"
        ],
        [
         "Column",
         "symbol",
         "ApproxCountDistinct",
         721.0,
         "2024-04-09T19:04:27.271Z"
        ],
        [
         "Dataset",
         "*",
         "Size",
         770.0,
         "2024-04-09T19:04:27.271Z"
        ],
        [
         "Column",
         "symbol",
         "ApproxCountDistinct",
         774.0,
         "2024-04-09T19:05:03.344Z"
        ],
        [
         "Dataset",
         "*",
         "Size",
         820.0,
         "2024-04-09T19:05:03.344Z"
        ],
        [
         "Column",
         "symbol",
         "ApproxCountDistinct",
         812.0,
         "2024-04-09T19:05:44.523Z"
        ],
        [
         "Dataset",
         "*",
         "Size",
         880.0,
         "2024-04-09T19:05:44.523Z"
        ],
        [
         "Column",
         "symbol",
         "ApproxCountDistinct",
         875.0,
         "2024-04-09T19:06:46.837Z"
        ],
        [
         "Dataset",
         "*",
         "Size",
         930.0,
         "2024-04-09T19:06:46.837Z"
        ],
        [
         "Column",
         "symbol",
         "ApproxCountDistinct",
         926.0,
         "2024-04-09T19:07:34.52Z"
        ],
        [
         "Dataset",
         "*",
         "Size",
         990.0,
         "2024-04-09T19:07:34.52Z"
        ],
        [
         "Column",
         "symbol",
         "ApproxCountDistinct",
         929.0,
         "2024-04-09T19:08:10.352Z"
        ],
        [
         "Dataset",
         "*",
         "Size",
         1000.0,
         "2024-04-09T19:08:10.352Z"
        ]
       ],
       "datasetInfos": [],
       "dbfsResultPath": null,
       "isJsonSchema": true,
       "metadata": {
        "isDbfsCommandResult": false
       },
       "overflow": false,
       "plotOptions": {
        "customPlotOptions": {
         "__migrate__": [
          {
           "key": "status",
           "value": "complete"
          },
          {
           "key": "dashboards",
           "value": [
            4014151619774418,
            4014151619774455,
            4014151619774455,
            4014151619774455,
            4014151619774455,
            4014151619774455,
            4014151619774455,
            4014151619774455,
            4014151619774455,
            4014151619774455,
            4014151619774455,
            4014151619774455,
            4014151619774455,
            4014151619774455,
            4014151619774455,
            4014151619774455,
            4014151619774455,
            4014151619774455,
            4014151619774455,
            4014151619774455,
            4014151619774455,
            4014151619774455,
            4014151619774455,
            4014151619774455,
            4014151619774455,
            4014151619774455,
            4014151619774455,
            4014151619774455,
            4014151619774455,
            4014151619774455,
            4014151619774455,
            4014151619774455,
            4014151619774455,
            4014151619774455,
            4014151619774455,
            4014151619774455,
            4014151619774455,
            4014151619774455,
            4014151619774455,
            4014151619774455,
            4014151619774455,
            4014151619774455,
            4014151619774455,
            4014151619774455,
            4014151619774455,
            4014151619774455,
            4014151619774455
           ]
          },
          {
           "key": "origDisplayType",
           "value": "mgLine"
          }
         ],
         "barChart": [
          {
           "key": "grouped",
           "value": true
          },
          {
           "key": "stacked",
           "value": false
          },
          {
           "key": "100_stacked",
           "value": false
          }
         ],
         "mgLine": [
          {
           "key": "param",
           "value": "{\"top\":20,\"bottom\":50,\"area\":false,\"missing_is_hidden\":true,\"legend_target\":\".dummy\",\"animate_on_load\":false,\"transition_on_update\":false,\"legend\":[\"ApproxCountDistinct\",\"Size\"],\"x_label\":\"ts\",\"colors\":[\"#1f77b4\",\"#ff7f0e\"]}"
          }
         ]
        },
        "displayType": "table",
        "pivotAggregation": "sum",
        "pivotColumns": [
         "name",
         "instance"
        ],
        "xColumns": [
         "ts"
        ],
        "yColumns": [
         "value"
        ]
       },
       "removedWidgets": [],
       "schema": [
        {
         "metadata": "{}",
         "name": "entity",
         "type": "\"string\""
        },
        {
         "metadata": "{}",
         "name": "instance",
         "type": "\"string\""
        },
        {
         "metadata": "{}",
         "name": "name",
         "type": "\"string\""
        },
        {
         "metadata": "{}",
         "name": "value",
         "type": "\"double\""
        },
        {
         "metadata": "{}",
         "name": "ts",
         "type": "\"timestamp\""
        }
       ],
       "type": "table"
      }
     },
     "output_type": "display_data"
    }
   ],
   "source": [
    "%scala\n",
    "display(spark.readStream.format(\"delta\")\n",
    "        .option(\"ignoreChanges\", \"true\")\n",
    "        .table(\"deequ_metrics\")\n",
    "        .where($\"name\" === \"Size\" || $\"name\" === \"ApproxCountDistinct\"))"
   ]
  },
  {
   "cell_type": "code",
   "execution_count": 0,
   "metadata": {
    "application/vnd.databricks.v1+cell": {
     "cellMetadata": {
      "byteLimit": 2048000,
      "rowLimit": 10000
     },
     "inputWidgets": {},
     "nuid": "e2608573-e816-4deb-bfe8-3ab6204f6597",
     "showTitle": false,
     "title": ""
    }
   },
   "outputs": [
    {
     "output_type": "display_data",
     "data": {
      "text/html": [
       "<style scoped>\n",
       "  .table-result-container {\n",
       "    max-height: 300px;\n",
       "    overflow: auto;\n",
       "  }\n",
       "  table, th, td {\n",
       "    border: 1px solid black;\n",
       "    border-collapse: collapse;\n",
       "  }\n",
       "  th, td {\n",
       "    padding: 5px;\n",
       "  }\n",
       "  th {\n",
       "    text-align: left;\n",
       "  }\n",
       "</style><div class='table-result-container'><table class='table-result'><thead style='background-color: white'><tr><th>entity</th><th>instance</th><th>name</th><th>value</th><th>ts</th></tr></thead><tbody><tr><td>Column</td><td>quantity</td><td>Completeness</td><td>0.96</td><td>2024-04-09T18:56:17.48Z</td></tr><tr><td>Column</td><td>symbol</td><td>Distinctness</td><td>1.0</td><td>2024-04-09T18:56:17.48Z</td></tr><tr><td>Column</td><td>price</td><td>Completeness</td><td>0.98</td><td>2024-04-09T18:56:17.48Z</td></tr><tr><td>Column</td><td>ipaddr</td><td>Completeness</td><td>0.96</td><td>2024-04-09T18:56:17.48Z</td></tr><tr><td>Column</td><td>quantity</td><td>Completeness</td><td>0.9583333333333334</td><td>2024-04-09T18:56:39.526Z</td></tr><tr><td>Column</td><td>symbol</td><td>Distinctness</td><td>0.9916666666666667</td><td>2024-04-09T18:56:39.526Z</td></tr><tr><td>Column</td><td>price</td><td>Completeness</td><td>0.9833333333333333</td><td>2024-04-09T18:56:39.526Z</td></tr><tr><td>Column</td><td>ipaddr</td><td>Completeness</td><td>0.9666666666666667</td><td>2024-04-09T18:56:39.526Z</td></tr><tr><td>Column</td><td>quantity</td><td>Completeness</td><td>0.95625</td><td>2024-04-09T18:56:59.399Z</td></tr><tr><td>Column</td><td>symbol</td><td>Distinctness</td><td>0.99375</td><td>2024-04-09T18:56:59.399Z</td></tr><tr><td>Column</td><td>price</td><td>Completeness</td><td>0.98125</td><td>2024-04-09T18:56:59.399Z</td></tr><tr><td>Column</td><td>ipaddr</td><td>Completeness</td><td>0.9625</td><td>2024-04-09T18:56:59.399Z</td></tr><tr><td>Column</td><td>quantity</td><td>Completeness</td><td>0.9578947368421052</td><td>2024-04-09T18:57:22.035Z</td></tr><tr><td>Column</td><td>symbol</td><td>Distinctness</td><td>0.9842105263157894</td><td>2024-04-09T18:57:22.035Z</td></tr><tr><td>Column</td><td>price</td><td>Completeness</td><td>0.9789473684210527</td><td>2024-04-09T18:57:22.035Z</td></tr><tr><td>Column</td><td>ipaddr</td><td>Completeness</td><td>0.9631578947368421</td><td>2024-04-09T18:57:22.035Z</td></tr><tr><td>Column</td><td>quantity</td><td>Completeness</td><td>0.9434782608695652</td><td>2024-04-09T18:57:45.848Z</td></tr><tr><td>Column</td><td>symbol</td><td>Distinctness</td><td>0.9869565217391304</td><td>2024-04-09T18:57:45.848Z</td></tr><tr><td>Column</td><td>price</td><td>Completeness</td><td>0.9826086956521739</td><td>2024-04-09T18:57:45.848Z</td></tr><tr><td>Column</td><td>ipaddr</td><td>Completeness</td><td>0.9695652173913043</td><td>2024-04-09T18:57:45.848Z</td></tr><tr><td>Column</td><td>quantity</td><td>Completeness</td><td>0.9428571428571428</td><td>2024-04-09T18:58:10.158Z</td></tr><tr><td>Column</td><td>symbol</td><td>Distinctness</td><td>0.9821428571428571</td><td>2024-04-09T18:58:10.158Z</td></tr><tr><td>Column</td><td>price</td><td>Completeness</td><td>0.9821428571428571</td><td>2024-04-09T18:58:10.158Z</td></tr><tr><td>Column</td><td>ipaddr</td><td>Completeness</td><td>0.975</td><td>2024-04-09T18:58:10.158Z</td></tr><tr><td>Column</td><td>quantity</td><td>Completeness</td><td>0.9451612903225807</td><td>2024-04-09T18:58:47.082Z</td></tr><tr><td>Column</td><td>symbol</td><td>Distinctness</td><td>0.9806451612903225</td><td>2024-04-09T18:58:47.082Z</td></tr><tr><td>Column</td><td>price</td><td>Completeness</td><td>0.9806451612903225</td><td>2024-04-09T18:58:47.082Z</td></tr><tr><td>Column</td><td>ipaddr</td><td>Completeness</td><td>0.9741935483870968</td><td>2024-04-09T18:58:47.082Z</td></tr><tr><td>Column</td><td>quantity</td><td>Completeness</td><td>0.9514285714285714</td><td>2024-04-09T18:59:10.349Z</td></tr><tr><td>Column</td><td>symbol</td><td>Distinctness</td><td>0.9714285714285714</td><td>2024-04-09T18:59:10.349Z</td></tr><tr><td>Column</td><td>price</td><td>Completeness</td><td>0.98</td><td>2024-04-09T18:59:10.349Z</td></tr><tr><td>Column</td><td>ipaddr</td><td>Completeness</td><td>0.9714285714285714</td><td>2024-04-09T18:59:10.349Z</td></tr><tr><td>Column</td><td>quantity</td><td>Completeness</td><td>0.9538461538461539</td><td>2024-04-09T18:59:29.714Z</td></tr><tr><td>Column</td><td>symbol</td><td>Distinctness</td><td>0.958974358974359</td><td>2024-04-09T18:59:29.714Z</td></tr><tr><td>Column</td><td>price</td><td>Completeness</td><td>0.9769230769230769</td><td>2024-04-09T18:59:29.714Z</td></tr><tr><td>Column</td><td>ipaddr</td><td>Completeness</td><td>0.9717948717948718</td><td>2024-04-09T18:59:29.714Z</td></tr><tr><td>Column</td><td>quantity</td><td>Completeness</td><td>0.9536585365853658</td><td>2024-04-09T18:59:54.714Z</td></tr><tr><td>Column</td><td>symbol</td><td>Distinctness</td><td>0.9585365853658536</td><td>2024-04-09T18:59:54.714Z</td></tr><tr><td>Column</td><td>price</td><td>Completeness</td><td>0.9780487804878049</td><td>2024-04-09T18:59:54.714Z</td></tr><tr><td>Column</td><td>ipaddr</td><td>Completeness</td><td>0.9658536585365853</td><td>2024-04-09T18:59:54.714Z</td></tr><tr><td>Column</td><td>quantity</td><td>Completeness</td><td>0.9511111111111111</td><td>2024-04-09T19:00:22.026Z</td></tr><tr><td>Column</td><td>symbol</td><td>Distinctness</td><td>0.96</td><td>2024-04-09T19:00:22.026Z</td></tr><tr><td>Column</td><td>price</td><td>Completeness</td><td>0.98</td><td>2024-04-09T19:00:22.026Z</td></tr><tr><td>Column</td><td>ipaddr</td><td>Completeness</td><td>0.9666666666666667</td><td>2024-04-09T19:00:22.026Z</td></tr><tr><td>Column</td><td>quantity</td><td>Completeness</td><td>0.9530612244897959</td><td>2024-04-09T19:00:51.611Z</td></tr><tr><td>Column</td><td>symbol</td><td>Distinctness</td><td>0.9571428571428572</td><td>2024-04-09T19:00:51.611Z</td></tr><tr><td>Column</td><td>price</td><td>Completeness</td><td>0.9816326530612245</td><td>2024-04-09T19:00:51.611Z</td></tr><tr><td>Column</td><td>ipaddr</td><td>Completeness</td><td>0.963265306122449</td><td>2024-04-09T19:00:51.611Z</td></tr><tr><td>Column</td><td>quantity</td><td>Completeness</td><td>0.9566037735849057</td><td>2024-04-09T19:01:20.706Z</td></tr><tr><td>Column</td><td>symbol</td><td>Distinctness</td><td>0.9584905660377359</td><td>2024-04-09T19:01:20.706Z</td></tr><tr><td>Column</td><td>price</td><td>Completeness</td><td>0.9830188679245283</td><td>2024-04-09T19:01:20.706Z</td></tr><tr><td>Column</td><td>ipaddr</td><td>Completeness</td><td>0.9584905660377359</td><td>2024-04-09T19:01:20.706Z</td></tr><tr><td>Column</td><td>quantity</td><td>Completeness</td><td>0.9551724137931035</td><td>2024-04-09T19:01:50.348Z</td></tr><tr><td>Column</td><td>symbol</td><td>Distinctness</td><td>0.9603448275862069</td><td>2024-04-09T19:01:50.348Z</td></tr><tr><td>Column</td><td>price</td><td>Completeness</td><td>0.9844827586206897</td><td>2024-04-09T19:01:50.348Z</td></tr><tr><td>Column</td><td>ipaddr</td><td>Completeness</td><td>0.9568965517241379</td><td>2024-04-09T19:01:50.348Z</td></tr><tr><td>Column</td><td>quantity</td><td>Completeness</td><td>0.9532258064516129</td><td>2024-04-09T19:02:37.193Z</td></tr><tr><td>Column</td><td>symbol</td><td>Distinctness</td><td>0.9596774193548387</td><td>2024-04-09T19:02:37.193Z</td></tr><tr><td>Column</td><td>price</td><td>Completeness</td><td>0.9854838709677419</td><td>2024-04-09T19:02:37.193Z</td></tr><tr><td>Column</td><td>ipaddr</td><td>Completeness</td><td>0.9564516129032258</td><td>2024-04-09T19:02:37.193Z</td></tr><tr><td>Column</td><td>quantity</td><td>Completeness</td><td>0.9567164179104478</td><td>2024-04-09T19:03:14.986Z</td></tr><tr><td>Column</td><td>symbol</td><td>Distinctness</td><td>0.9522388059701492</td><td>2024-04-09T19:03:14.986Z</td></tr><tr><td>Column</td><td>price</td><td>Completeness</td><td>0.982089552238806</td><td>2024-04-09T19:03:14.986Z</td></tr><tr><td>Column</td><td>ipaddr</td><td>Completeness</td><td>0.9567164179104478</td><td>2024-04-09T19:03:14.986Z</td></tr><tr><td>Column</td><td>quantity</td><td>Completeness</td><td>0.9541666666666667</td><td>2024-04-09T19:03:49.774Z</td></tr><tr><td>Column</td><td>symbol</td><td>Distinctness</td><td>0.9458333333333333</td><td>2024-04-09T19:03:49.774Z</td></tr><tr><td>Column</td><td>price</td><td>Completeness</td><td>0.9819444444444444</td><td>2024-04-09T19:03:49.774Z</td></tr><tr><td>Column</td><td>ipaddr</td><td>Completeness</td><td>0.9597222222222223</td><td>2024-04-09T19:03:49.774Z</td></tr><tr><td>Column</td><td>quantity</td><td>Completeness</td><td>0.9532467532467532</td><td>2024-04-09T19:04:27.271Z</td></tr><tr><td>Column</td><td>symbol</td><td>Distinctness</td><td>0.9441558441558442</td><td>2024-04-09T19:04:27.271Z</td></tr><tr><td>Column</td><td>price</td><td>Completeness</td><td>0.9818181818181818</td><td>2024-04-09T19:04:27.271Z</td></tr><tr><td>Column</td><td>ipaddr</td><td>Completeness</td><td>0.961038961038961</td><td>2024-04-09T19:04:27.271Z</td></tr><tr><td>Column</td><td>quantity</td><td>Completeness</td><td>0.9548780487804878</td><td>2024-04-09T19:05:03.344Z</td></tr><tr><td>Column</td><td>symbol</td><td>Distinctness</td><td>0.9414634146341463</td><td>2024-04-09T19:05:03.344Z</td></tr><tr><td>Column</td><td>price</td><td>Completeness</td><td>0.9829268292682927</td><td>2024-04-09T19:05:03.344Z</td></tr><tr><td>Column</td><td>ipaddr</td><td>Completeness</td><td>0.9609756097560975</td><td>2024-04-09T19:05:03.344Z</td></tr><tr><td>Column</td><td>quantity</td><td>Completeness</td><td>0.9545454545454546</td><td>2024-04-09T19:05:44.523Z</td></tr><tr><td>Column</td><td>symbol</td><td>Distinctness</td><td>0.9329545454545455</td><td>2024-04-09T19:05:44.523Z</td></tr><tr><td>Column</td><td>price</td><td>Completeness</td><td>0.9818181818181818</td><td>2024-04-09T19:05:44.523Z</td></tr><tr><td>Column</td><td>ipaddr</td><td>Completeness</td><td>0.9636363636363636</td><td>2024-04-09T19:05:44.523Z</td></tr><tr><td>Column</td><td>quantity</td><td>Completeness</td><td>0.9548387096774194</td><td>2024-04-09T19:06:46.837Z</td></tr><tr><td>Column</td><td>symbol</td><td>Distinctness</td><td>0.9290322580645162</td><td>2024-04-09T19:06:46.837Z</td></tr><tr><td>Column</td><td>price</td><td>Completeness</td><td>0.9827956989247312</td><td>2024-04-09T19:06:46.837Z</td></tr><tr><td>Column</td><td>ipaddr</td><td>Completeness</td><td>0.9634408602150538</td><td>2024-04-09T19:06:46.837Z</td></tr><tr><td>Column</td><td>quantity</td><td>Completeness</td><td>0.9515151515151515</td><td>2024-04-09T19:07:34.52Z</td></tr><tr><td>Column</td><td>symbol</td><td>Distinctness</td><td>0.9272727272727272</td><td>2024-04-09T19:07:34.52Z</td></tr><tr><td>Column</td><td>price</td><td>Completeness</td><td>0.9838383838383838</td><td>2024-04-09T19:07:34.52Z</td></tr><tr><td>Column</td><td>ipaddr</td><td>Completeness</td><td>0.9636363636363636</td><td>2024-04-09T19:07:34.52Z</td></tr><tr><td>Column</td><td>quantity</td><td>Completeness</td><td>0.952</td><td>2024-04-09T19:08:10.352Z</td></tr><tr><td>Column</td><td>symbol</td><td>Distinctness</td><td>0.927</td><td>2024-04-09T19:08:10.352Z</td></tr><tr><td>Column</td><td>price</td><td>Completeness</td><td>0.984</td><td>2024-04-09T19:08:10.352Z</td></tr><tr><td>Column</td><td>ipaddr</td><td>Completeness</td><td>0.964</td><td>2024-04-09T19:08:10.352Z</td></tr></tbody></table></div>"
      ]
     },
     "metadata": {
      "application/vnd.databricks.v1+output": {
       "addedWidgets": {},
       "aggData": [],
       "aggError": "",
       "aggOverflow": false,
       "aggSchema": [],
       "aggSeriesLimitReached": false,
       "aggType": "",
       "arguments": {},
       "columnCustomDisplayInfos": {},
       "data": [
        [
         "Column",
         "quantity",
         "Completeness",
         0.96,
         "2024-04-09T18:56:17.48Z"
        ],
        [
         "Column",
         "symbol",
         "Distinctness",
         1.0,
         "2024-04-09T18:56:17.48Z"
        ],
        [
         "Column",
         "price",
         "Completeness",
         0.98,
         "2024-04-09T18:56:17.48Z"
        ],
        [
         "Column",
         "ipaddr",
         "Completeness",
         0.96,
         "2024-04-09T18:56:17.48Z"
        ],
        [
         "Column",
         "quantity",
         "Completeness",
         0.9583333333333334,
         "2024-04-09T18:56:39.526Z"
        ],
        [
         "Column",
         "symbol",
         "Distinctness",
         0.9916666666666667,
         "2024-04-09T18:56:39.526Z"
        ],
        [
         "Column",
         "price",
         "Completeness",
         0.9833333333333333,
         "2024-04-09T18:56:39.526Z"
        ],
        [
         "Column",
         "ipaddr",
         "Completeness",
         0.9666666666666667,
         "2024-04-09T18:56:39.526Z"
        ],
        [
         "Column",
         "quantity",
         "Completeness",
         0.95625,
         "2024-04-09T18:56:59.399Z"
        ],
        [
         "Column",
         "symbol",
         "Distinctness",
         0.99375,
         "2024-04-09T18:56:59.399Z"
        ],
        [
         "Column",
         "price",
         "Completeness",
         0.98125,
         "2024-04-09T18:56:59.399Z"
        ],
        [
         "Column",
         "ipaddr",
         "Completeness",
         0.9625,
         "2024-04-09T18:56:59.399Z"
        ],
        [
         "Column",
         "quantity",
         "Completeness",
         0.9578947368421052,
         "2024-04-09T18:57:22.035Z"
        ],
        [
         "Column",
         "symbol",
         "Distinctness",
         0.9842105263157894,
         "2024-04-09T18:57:22.035Z"
        ],
        [
         "Column",
         "price",
         "Completeness",
         0.9789473684210527,
         "2024-04-09T18:57:22.035Z"
        ],
        [
         "Column",
         "ipaddr",
         "Completeness",
         0.9631578947368421,
         "2024-04-09T18:57:22.035Z"
        ],
        [
         "Column",
         "quantity",
         "Completeness",
         0.9434782608695652,
         "2024-04-09T18:57:45.848Z"
        ],
        [
         "Column",
         "symbol",
         "Distinctness",
         0.9869565217391304,
         "2024-04-09T18:57:45.848Z"
        ],
        [
         "Column",
         "price",
         "Completeness",
         0.9826086956521739,
         "2024-04-09T18:57:45.848Z"
        ],
        [
         "Column",
         "ipaddr",
         "Completeness",
         0.9695652173913043,
         "2024-04-09T18:57:45.848Z"
        ],
        [
         "Column",
         "quantity",
         "Completeness",
         0.9428571428571428,
         "2024-04-09T18:58:10.158Z"
        ],
        [
         "Column",
         "symbol",
         "Distinctness",
         0.9821428571428571,
         "2024-04-09T18:58:10.158Z"
        ],
        [
         "Column",
         "price",
         "Completeness",
         0.9821428571428571,
         "2024-04-09T18:58:10.158Z"
        ],
        [
         "Column",
         "ipaddr",
         "Completeness",
         0.975,
         "2024-04-09T18:58:10.158Z"
        ],
        [
         "Column",
         "quantity",
         "Completeness",
         0.9451612903225807,
         "2024-04-09T18:58:47.082Z"
        ],
        [
         "Column",
         "symbol",
         "Distinctness",
         0.9806451612903225,
         "2024-04-09T18:58:47.082Z"
        ],
        [
         "Column",
         "price",
         "Completeness",
         0.9806451612903225,
         "2024-04-09T18:58:47.082Z"
        ],
        [
         "Column",
         "ipaddr",
         "Completeness",
         0.9741935483870968,
         "2024-04-09T18:58:47.082Z"
        ],
        [
         "Column",
         "quantity",
         "Completeness",
         0.9514285714285714,
         "2024-04-09T18:59:10.349Z"
        ],
        [
         "Column",
         "symbol",
         "Distinctness",
         0.9714285714285714,
         "2024-04-09T18:59:10.349Z"
        ],
        [
         "Column",
         "price",
         "Completeness",
         0.98,
         "2024-04-09T18:59:10.349Z"
        ],
        [
         "Column",
         "ipaddr",
         "Completeness",
         0.9714285714285714,
         "2024-04-09T18:59:10.349Z"
        ],
        [
         "Column",
         "quantity",
         "Completeness",
         0.9538461538461539,
         "2024-04-09T18:59:29.714Z"
        ],
        [
         "Column",
         "symbol",
         "Distinctness",
         0.958974358974359,
         "2024-04-09T18:59:29.714Z"
        ],
        [
         "Column",
         "price",
         "Completeness",
         0.9769230769230769,
         "2024-04-09T18:59:29.714Z"
        ],
        [
         "Column",
         "ipaddr",
         "Completeness",
         0.9717948717948718,
         "2024-04-09T18:59:29.714Z"
        ],
        [
         "Column",
         "quantity",
         "Completeness",
         0.9536585365853658,
         "2024-04-09T18:59:54.714Z"
        ],
        [
         "Column",
         "symbol",
         "Distinctness",
         0.9585365853658536,
         "2024-04-09T18:59:54.714Z"
        ],
        [
         "Column",
         "price",
         "Completeness",
         0.9780487804878049,
         "2024-04-09T18:59:54.714Z"
        ],
        [
         "Column",
         "ipaddr",
         "Completeness",
         0.9658536585365853,
         "2024-04-09T18:59:54.714Z"
        ],
        [
         "Column",
         "quantity",
         "Completeness",
         0.9511111111111111,
         "2024-04-09T19:00:22.026Z"
        ],
        [
         "Column",
         "symbol",
         "Distinctness",
         0.96,
         "2024-04-09T19:00:22.026Z"
        ],
        [
         "Column",
         "price",
         "Completeness",
         0.98,
         "2024-04-09T19:00:22.026Z"
        ],
        [
         "Column",
         "ipaddr",
         "Completeness",
         0.9666666666666667,
         "2024-04-09T19:00:22.026Z"
        ],
        [
         "Column",
         "quantity",
         "Completeness",
         0.9530612244897959,
         "2024-04-09T19:00:51.611Z"
        ],
        [
         "Column",
         "symbol",
         "Distinctness",
         0.9571428571428572,
         "2024-04-09T19:00:51.611Z"
        ],
        [
         "Column",
         "price",
         "Completeness",
         0.9816326530612245,
         "2024-04-09T19:00:51.611Z"
        ],
        [
         "Column",
         "ipaddr",
         "Completeness",
         0.963265306122449,
         "2024-04-09T19:00:51.611Z"
        ],
        [
         "Column",
         "quantity",
         "Completeness",
         0.9566037735849057,
         "2024-04-09T19:01:20.706Z"
        ],
        [
         "Column",
         "symbol",
         "Distinctness",
         0.9584905660377359,
         "2024-04-09T19:01:20.706Z"
        ],
        [
         "Column",
         "price",
         "Completeness",
         0.9830188679245283,
         "2024-04-09T19:01:20.706Z"
        ],
        [
         "Column",
         "ipaddr",
         "Completeness",
         0.9584905660377359,
         "2024-04-09T19:01:20.706Z"
        ],
        [
         "Column",
         "quantity",
         "Completeness",
         0.9551724137931035,
         "2024-04-09T19:01:50.348Z"
        ],
        [
         "Column",
         "symbol",
         "Distinctness",
         0.9603448275862069,
         "2024-04-09T19:01:50.348Z"
        ],
        [
         "Column",
         "price",
         "Completeness",
         0.9844827586206897,
         "2024-04-09T19:01:50.348Z"
        ],
        [
         "Column",
         "ipaddr",
         "Completeness",
         0.9568965517241379,
         "2024-04-09T19:01:50.348Z"
        ],
        [
         "Column",
         "quantity",
         "Completeness",
         0.9532258064516129,
         "2024-04-09T19:02:37.193Z"
        ],
        [
         "Column",
         "symbol",
         "Distinctness",
         0.9596774193548387,
         "2024-04-09T19:02:37.193Z"
        ],
        [
         "Column",
         "price",
         "Completeness",
         0.9854838709677419,
         "2024-04-09T19:02:37.193Z"
        ],
        [
         "Column",
         "ipaddr",
         "Completeness",
         0.9564516129032258,
         "2024-04-09T19:02:37.193Z"
        ],
        [
         "Column",
         "quantity",
         "Completeness",
         0.9567164179104478,
         "2024-04-09T19:03:14.986Z"
        ],
        [
         "Column",
         "symbol",
         "Distinctness",
         0.9522388059701492,
         "2024-04-09T19:03:14.986Z"
        ],
        [
         "Column",
         "price",
         "Completeness",
         0.982089552238806,
         "2024-04-09T19:03:14.986Z"
        ],
        [
         "Column",
         "ipaddr",
         "Completeness",
         0.9567164179104478,
         "2024-04-09T19:03:14.986Z"
        ],
        [
         "Column",
         "quantity",
         "Completeness",
         0.9541666666666667,
         "2024-04-09T19:03:49.774Z"
        ],
        [
         "Column",
         "symbol",
         "Distinctness",
         0.9458333333333333,
         "2024-04-09T19:03:49.774Z"
        ],
        [
         "Column",
         "price",
         "Completeness",
         0.9819444444444444,
         "2024-04-09T19:03:49.774Z"
        ],
        [
         "Column",
         "ipaddr",
         "Completeness",
         0.9597222222222223,
         "2024-04-09T19:03:49.774Z"
        ],
        [
         "Column",
         "quantity",
         "Completeness",
         0.9532467532467532,
         "2024-04-09T19:04:27.271Z"
        ],
        [
         "Column",
         "symbol",
         "Distinctness",
         0.9441558441558442,
         "2024-04-09T19:04:27.271Z"
        ],
        [
         "Column",
         "price",
         "Completeness",
         0.9818181818181818,
         "2024-04-09T19:04:27.271Z"
        ],
        [
         "Column",
         "ipaddr",
         "Completeness",
         0.961038961038961,
         "2024-04-09T19:04:27.271Z"
        ],
        [
         "Column",
         "quantity",
         "Completeness",
         0.9548780487804878,
         "2024-04-09T19:05:03.344Z"
        ],
        [
         "Column",
         "symbol",
         "Distinctness",
         0.9414634146341463,
         "2024-04-09T19:05:03.344Z"
        ],
        [
         "Column",
         "price",
         "Completeness",
         0.9829268292682927,
         "2024-04-09T19:05:03.344Z"
        ],
        [
         "Column",
         "ipaddr",
         "Completeness",
         0.9609756097560975,
         "2024-04-09T19:05:03.344Z"
        ],
        [
         "Column",
         "quantity",
         "Completeness",
         0.9545454545454546,
         "2024-04-09T19:05:44.523Z"
        ],
        [
         "Column",
         "symbol",
         "Distinctness",
         0.9329545454545455,
         "2024-04-09T19:05:44.523Z"
        ],
        [
         "Column",
         "price",
         "Completeness",
         0.9818181818181818,
         "2024-04-09T19:05:44.523Z"
        ],
        [
         "Column",
         "ipaddr",
         "Completeness",
         0.9636363636363636,
         "2024-04-09T19:05:44.523Z"
        ],
        [
         "Column",
         "quantity",
         "Completeness",
         0.9548387096774194,
         "2024-04-09T19:06:46.837Z"
        ],
        [
         "Column",
         "symbol",
         "Distinctness",
         0.9290322580645162,
         "2024-04-09T19:06:46.837Z"
        ],
        [
         "Column",
         "price",
         "Completeness",
         0.9827956989247312,
         "2024-04-09T19:06:46.837Z"
        ],
        [
         "Column",
         "ipaddr",
         "Completeness",
         0.9634408602150538,
         "2024-04-09T19:06:46.837Z"
        ],
        [
         "Column",
         "quantity",
         "Completeness",
         0.9515151515151515,
         "2024-04-09T19:07:34.52Z"
        ],
        [
         "Column",
         "symbol",
         "Distinctness",
         0.9272727272727272,
         "2024-04-09T19:07:34.52Z"
        ],
        [
         "Column",
         "price",
         "Completeness",
         0.9838383838383838,
         "2024-04-09T19:07:34.52Z"
        ],
        [
         "Column",
         "ipaddr",
         "Completeness",
         0.9636363636363636,
         "2024-04-09T19:07:34.52Z"
        ],
        [
         "Column",
         "quantity",
         "Completeness",
         0.952,
         "2024-04-09T19:08:10.352Z"
        ],
        [
         "Column",
         "symbol",
         "Distinctness",
         0.927,
         "2024-04-09T19:08:10.352Z"
        ],
        [
         "Column",
         "price",
         "Completeness",
         0.984,
         "2024-04-09T19:08:10.352Z"
        ],
        [
         "Column",
         "ipaddr",
         "Completeness",
         0.964,
         "2024-04-09T19:08:10.352Z"
        ]
       ],
       "datasetInfos": [],
       "dbfsResultPath": null,
       "isJsonSchema": true,
       "metadata": {
        "isDbfsCommandResult": false
       },
       "overflow": false,
       "plotOptions": {
        "customPlotOptions": {
         "__migrate__": [
          {
           "key": "status",
           "value": "complete"
          },
          {
           "key": "dashboards",
           "value": [
            4014151619774418
           ]
          },
          {
           "key": "origDisplayType",
           "value": "mgLine"
          }
         ],
         "mgLine": [
          {
           "key": "param",
           "value": "{\"top\":20,\"bottom\":50,\"area\":false,\"missing_is_hidden\":true,\"legend_target\":\".dummy\",\"animate_on_load\":false,\"transition_on_update\":false,\"x_label\":\"ts\",\"colors\":[\"#2ca02c\",\"#ff7f0e\",\"#d62728\",\"#1f77b4\"]}"
          }
         ]
        },
        "displayType": "table",
        "pivotAggregation": "sum",
        "pivotColumns": [
         "instance",
         "name"
        ],
        "xColumns": [
         "ts"
        ],
        "yColumns": [
         "value"
        ]
       },
       "removedWidgets": [],
       "schema": [
        {
         "metadata": "{}",
         "name": "entity",
         "type": "\"string\""
        },
        {
         "metadata": "{}",
         "name": "instance",
         "type": "\"string\""
        },
        {
         "metadata": "{}",
         "name": "name",
         "type": "\"string\""
        },
        {
         "metadata": "{}",
         "name": "value",
         "type": "\"double\""
        },
        {
         "metadata": "{}",
         "name": "ts",
         "type": "\"timestamp\""
        }
       ],
       "type": "table"
      }
     },
     "output_type": "display_data"
    },
    {
     "output_type": "display_data",
     "data": {
      "text/plain": [
       "Databricks visualization. Run in Databricks to view."
      ]
     },
     "metadata": {
      "application/vnd.databricks.v1.subcommand+json": {
       "baseErrorDetails": null,
       "bindings": {},
       "collapsed": false,
       "command": "# Databricks no-op command",
       "commandTitle": "Legacy - Line (v2)",
       "commandType": "auto",
       "commandVersion": 0,
       "commentThread": [],
       "commentsVisible": false,
       "contentSha256Hex": null,
       "customPlotOptions": {
        "mgLine": [
         {
          "key": "param",
          "value": "{\"top\":20,\"bottom\":50,\"area\":false,\"missing_is_hidden\":true,\"legend_target\":\".dummy\",\"animate_on_load\":false,\"transition_on_update\":false,\"x_label\":\"ts\",\"colors\":[\"#2ca02c\",\"#ff7f0e\",\"#d62728\",\"#1f77b4\"]}"
         }
        ]
       },
       "datasetPreviewNameToCmdIdMap": {},
       "diffDeletes": [],
       "diffInserts": [],
       "displayType": "mgLine",
       "error": null,
       "errorDetails": null,
       "errorSummary": null,
       "errorTraceType": null,
       "finishTime": 0,
       "globalVars": {},
       "guid": "",
       "height": "auto",
       "hideCommandCode": false,
       "hideCommandResult": false,
       "iPythonMetadata": null,
       "inputWidgets": {},
       "isLockedInExamMode": false,
       "latestUser": "a user",
       "latestUserId": null,
       "listResultMetadata": null,
       "metadata": {},
       "nuid": "5761bb71-90e3-4763-9d25-0349fdc03b9d",
       "origId": 0,
       "parentHierarchy": [],
       "pivotAggregation": "sum",
       "pivotColumns": [
        "instance",
        "name"
       ],
       "position": 1.0,
       "resultDbfsErrorMessage": null,
       "resultDbfsStatus": "INLINED_IN_TREE",
       "results": null,
       "showCommandTitle": false,
       "startTime": 0,
       "state": "input",
       "streamStates": {},
       "subcommandOptions": null,
       "submitTime": 0,
       "subtype": "tableResultSubCmd.visualization",
       "tableResultIndex": 0,
       "useConsistentColors": false,
       "version": "CommandV1",
       "width": "auto",
       "workflows": [],
       "xColumns": [
        "ts"
       ],
       "yColumns": [
        "value"
       ]
      }
     },
     "output_type": "display_data"
    }
   ],
   "source": [
    "%scala\n",
    "display(spark.readStream.format(\"delta\")\n",
    "        .option(\"ignoreChanges\", \"true\")\n",
    "        .table(\"deequ_metrics\")\n",
    "        .where($\"name\" === \"Completeness\" || $\"name\" === \"Distinctness\"))"
   ]
  },
  {
   "cell_type": "code",
   "execution_count": 0,
   "metadata": {
    "application/vnd.databricks.v1+cell": {
     "cellMetadata": {
      "byteLimit": 2048000,
      "rowLimit": 10000
     },
     "inputWidgets": {},
     "nuid": "3d4ad5b3-bc77-4aa9-8d6f-2faa82b70a9b",
     "showTitle": false,
     "title": ""
    }
   },
   "outputs": [
    {
     "output_type": "display_data",
     "data": {
      "text/html": [
       "<style scoped>\n",
       "  .table-result-container {\n",
       "    max-height: 300px;\n",
       "    overflow: auto;\n",
       "  }\n",
       "  table, th, td {\n",
       "    border: 1px solid black;\n",
       "    border-collapse: collapse;\n",
       "  }\n",
       "  th, td {\n",
       "    padding: 5px;\n",
       "  }\n",
       "  th {\n",
       "    text-align: left;\n",
       "  }\n",
       "</style><div class='table-result-container'><table class='table-result'><thead style='background-color: white'><tr><th>entity</th><th>instance</th><th>name</th><th>value</th><th>ts</th></tr></thead><tbody><tr><td>Column</td><td>quantity</td><td>Completeness</td><td>0.96</td><td>2024-04-09T18:56:17.48Z</td></tr><tr><td>Column</td><td>symbol</td><td>Distinctness</td><td>1.0</td><td>2024-04-09T18:56:17.48Z</td></tr><tr><td>Column</td><td>price</td><td>Completeness</td><td>0.98</td><td>2024-04-09T18:56:17.48Z</td></tr><tr><td>Column</td><td>ipaddr</td><td>Completeness</td><td>0.96</td><td>2024-04-09T18:56:17.48Z</td></tr><tr><td>Column</td><td>quantity</td><td>Completeness</td><td>0.9583333333333334</td><td>2024-04-09T18:56:39.526Z</td></tr><tr><td>Column</td><td>symbol</td><td>Distinctness</td><td>0.9916666666666667</td><td>2024-04-09T18:56:39.526Z</td></tr><tr><td>Column</td><td>price</td><td>Completeness</td><td>0.9833333333333333</td><td>2024-04-09T18:56:39.526Z</td></tr><tr><td>Column</td><td>ipaddr</td><td>Completeness</td><td>0.9666666666666667</td><td>2024-04-09T18:56:39.526Z</td></tr><tr><td>Column</td><td>quantity</td><td>Completeness</td><td>0.95625</td><td>2024-04-09T18:56:59.399Z</td></tr><tr><td>Column</td><td>symbol</td><td>Distinctness</td><td>0.99375</td><td>2024-04-09T18:56:59.399Z</td></tr><tr><td>Column</td><td>price</td><td>Completeness</td><td>0.98125</td><td>2024-04-09T18:56:59.399Z</td></tr><tr><td>Column</td><td>ipaddr</td><td>Completeness</td><td>0.9625</td><td>2024-04-09T18:56:59.399Z</td></tr><tr><td>Column</td><td>quantity</td><td>Completeness</td><td>0.9578947368421052</td><td>2024-04-09T18:57:22.035Z</td></tr><tr><td>Column</td><td>symbol</td><td>Distinctness</td><td>0.9842105263157894</td><td>2024-04-09T18:57:22.035Z</td></tr><tr><td>Column</td><td>price</td><td>Completeness</td><td>0.9789473684210527</td><td>2024-04-09T18:57:22.035Z</td></tr><tr><td>Column</td><td>ipaddr</td><td>Completeness</td><td>0.9631578947368421</td><td>2024-04-09T18:57:22.035Z</td></tr><tr><td>Column</td><td>quantity</td><td>Completeness</td><td>0.9434782608695652</td><td>2024-04-09T18:57:45.848Z</td></tr><tr><td>Column</td><td>symbol</td><td>Distinctness</td><td>0.9869565217391304</td><td>2024-04-09T18:57:45.848Z</td></tr><tr><td>Column</td><td>price</td><td>Completeness</td><td>0.9826086956521739</td><td>2024-04-09T18:57:45.848Z</td></tr><tr><td>Column</td><td>ipaddr</td><td>Completeness</td><td>0.9695652173913043</td><td>2024-04-09T18:57:45.848Z</td></tr><tr><td>Column</td><td>quantity</td><td>Completeness</td><td>0.9428571428571428</td><td>2024-04-09T18:58:10.158Z</td></tr><tr><td>Column</td><td>symbol</td><td>Distinctness</td><td>0.9821428571428571</td><td>2024-04-09T18:58:10.158Z</td></tr><tr><td>Column</td><td>price</td><td>Completeness</td><td>0.9821428571428571</td><td>2024-04-09T18:58:10.158Z</td></tr><tr><td>Column</td><td>ipaddr</td><td>Completeness</td><td>0.975</td><td>2024-04-09T18:58:10.158Z</td></tr><tr><td>Column</td><td>quantity</td><td>Completeness</td><td>0.9451612903225807</td><td>2024-04-09T18:58:47.082Z</td></tr><tr><td>Column</td><td>symbol</td><td>Distinctness</td><td>0.9806451612903225</td><td>2024-04-09T18:58:47.082Z</td></tr><tr><td>Column</td><td>price</td><td>Completeness</td><td>0.9806451612903225</td><td>2024-04-09T18:58:47.082Z</td></tr><tr><td>Column</td><td>ipaddr</td><td>Completeness</td><td>0.9741935483870968</td><td>2024-04-09T18:58:47.082Z</td></tr><tr><td>Column</td><td>quantity</td><td>Completeness</td><td>0.9514285714285714</td><td>2024-04-09T18:59:10.349Z</td></tr><tr><td>Column</td><td>symbol</td><td>Distinctness</td><td>0.9714285714285714</td><td>2024-04-09T18:59:10.349Z</td></tr><tr><td>Column</td><td>price</td><td>Completeness</td><td>0.98</td><td>2024-04-09T18:59:10.349Z</td></tr><tr><td>Column</td><td>ipaddr</td><td>Completeness</td><td>0.9714285714285714</td><td>2024-04-09T18:59:10.349Z</td></tr><tr><td>Column</td><td>quantity</td><td>Completeness</td><td>0.9538461538461539</td><td>2024-04-09T18:59:29.714Z</td></tr><tr><td>Column</td><td>symbol</td><td>Distinctness</td><td>0.958974358974359</td><td>2024-04-09T18:59:29.714Z</td></tr><tr><td>Column</td><td>price</td><td>Completeness</td><td>0.9769230769230769</td><td>2024-04-09T18:59:29.714Z</td></tr><tr><td>Column</td><td>ipaddr</td><td>Completeness</td><td>0.9717948717948718</td><td>2024-04-09T18:59:29.714Z</td></tr><tr><td>Column</td><td>quantity</td><td>Completeness</td><td>0.9536585365853658</td><td>2024-04-09T18:59:54.714Z</td></tr><tr><td>Column</td><td>symbol</td><td>Distinctness</td><td>0.9585365853658536</td><td>2024-04-09T18:59:54.714Z</td></tr><tr><td>Column</td><td>price</td><td>Completeness</td><td>0.9780487804878049</td><td>2024-04-09T18:59:54.714Z</td></tr><tr><td>Column</td><td>ipaddr</td><td>Completeness</td><td>0.9658536585365853</td><td>2024-04-09T18:59:54.714Z</td></tr><tr><td>Column</td><td>quantity</td><td>Completeness</td><td>0.9511111111111111</td><td>2024-04-09T19:00:22.026Z</td></tr><tr><td>Column</td><td>symbol</td><td>Distinctness</td><td>0.96</td><td>2024-04-09T19:00:22.026Z</td></tr><tr><td>Column</td><td>price</td><td>Completeness</td><td>0.98</td><td>2024-04-09T19:00:22.026Z</td></tr><tr><td>Column</td><td>ipaddr</td><td>Completeness</td><td>0.9666666666666667</td><td>2024-04-09T19:00:22.026Z</td></tr><tr><td>Column</td><td>quantity</td><td>Completeness</td><td>0.9530612244897959</td><td>2024-04-09T19:00:51.611Z</td></tr><tr><td>Column</td><td>symbol</td><td>Distinctness</td><td>0.9571428571428572</td><td>2024-04-09T19:00:51.611Z</td></tr><tr><td>Column</td><td>price</td><td>Completeness</td><td>0.9816326530612245</td><td>2024-04-09T19:00:51.611Z</td></tr><tr><td>Column</td><td>ipaddr</td><td>Completeness</td><td>0.963265306122449</td><td>2024-04-09T19:00:51.611Z</td></tr><tr><td>Column</td><td>quantity</td><td>Completeness</td><td>0.9566037735849057</td><td>2024-04-09T19:01:20.706Z</td></tr><tr><td>Column</td><td>symbol</td><td>Distinctness</td><td>0.9584905660377359</td><td>2024-04-09T19:01:20.706Z</td></tr><tr><td>Column</td><td>price</td><td>Completeness</td><td>0.9830188679245283</td><td>2024-04-09T19:01:20.706Z</td></tr><tr><td>Column</td><td>ipaddr</td><td>Completeness</td><td>0.9584905660377359</td><td>2024-04-09T19:01:20.706Z</td></tr><tr><td>Column</td><td>quantity</td><td>Completeness</td><td>0.9551724137931035</td><td>2024-04-09T19:01:50.348Z</td></tr><tr><td>Column</td><td>symbol</td><td>Distinctness</td><td>0.9603448275862069</td><td>2024-04-09T19:01:50.348Z</td></tr><tr><td>Column</td><td>price</td><td>Completeness</td><td>0.9844827586206897</td><td>2024-04-09T19:01:50.348Z</td></tr><tr><td>Column</td><td>ipaddr</td><td>Completeness</td><td>0.9568965517241379</td><td>2024-04-09T19:01:50.348Z</td></tr><tr><td>Column</td><td>quantity</td><td>Completeness</td><td>0.9532258064516129</td><td>2024-04-09T19:02:37.193Z</td></tr><tr><td>Column</td><td>symbol</td><td>Distinctness</td><td>0.9596774193548387</td><td>2024-04-09T19:02:37.193Z</td></tr><tr><td>Column</td><td>price</td><td>Completeness</td><td>0.9854838709677419</td><td>2024-04-09T19:02:37.193Z</td></tr><tr><td>Column</td><td>ipaddr</td><td>Completeness</td><td>0.9564516129032258</td><td>2024-04-09T19:02:37.193Z</td></tr><tr><td>Column</td><td>quantity</td><td>Completeness</td><td>0.9567164179104478</td><td>2024-04-09T19:03:14.986Z</td></tr><tr><td>Column</td><td>symbol</td><td>Distinctness</td><td>0.9522388059701492</td><td>2024-04-09T19:03:14.986Z</td></tr><tr><td>Column</td><td>price</td><td>Completeness</td><td>0.982089552238806</td><td>2024-04-09T19:03:14.986Z</td></tr><tr><td>Column</td><td>ipaddr</td><td>Completeness</td><td>0.9567164179104478</td><td>2024-04-09T19:03:14.986Z</td></tr><tr><td>Column</td><td>quantity</td><td>Completeness</td><td>0.9541666666666667</td><td>2024-04-09T19:03:49.774Z</td></tr><tr><td>Column</td><td>symbol</td><td>Distinctness</td><td>0.9458333333333333</td><td>2024-04-09T19:03:49.774Z</td></tr><tr><td>Column</td><td>price</td><td>Completeness</td><td>0.9819444444444444</td><td>2024-04-09T19:03:49.774Z</td></tr><tr><td>Column</td><td>ipaddr</td><td>Completeness</td><td>0.9597222222222223</td><td>2024-04-09T19:03:49.774Z</td></tr><tr><td>Column</td><td>quantity</td><td>Completeness</td><td>0.9532467532467532</td><td>2024-04-09T19:04:27.271Z</td></tr><tr><td>Column</td><td>symbol</td><td>Distinctness</td><td>0.9441558441558442</td><td>2024-04-09T19:04:27.271Z</td></tr><tr><td>Column</td><td>price</td><td>Completeness</td><td>0.9818181818181818</td><td>2024-04-09T19:04:27.271Z</td></tr><tr><td>Column</td><td>ipaddr</td><td>Completeness</td><td>0.961038961038961</td><td>2024-04-09T19:04:27.271Z</td></tr><tr><td>Column</td><td>quantity</td><td>Completeness</td><td>0.9548780487804878</td><td>2024-04-09T19:05:03.344Z</td></tr><tr><td>Column</td><td>symbol</td><td>Distinctness</td><td>0.9414634146341463</td><td>2024-04-09T19:05:03.344Z</td></tr><tr><td>Column</td><td>price</td><td>Completeness</td><td>0.9829268292682927</td><td>2024-04-09T19:05:03.344Z</td></tr><tr><td>Column</td><td>ipaddr</td><td>Completeness</td><td>0.9609756097560975</td><td>2024-04-09T19:05:03.344Z</td></tr><tr><td>Column</td><td>quantity</td><td>Completeness</td><td>0.9545454545454546</td><td>2024-04-09T19:05:44.523Z</td></tr><tr><td>Column</td><td>symbol</td><td>Distinctness</td><td>0.9329545454545455</td><td>2024-04-09T19:05:44.523Z</td></tr><tr><td>Column</td><td>price</td><td>Completeness</td><td>0.9818181818181818</td><td>2024-04-09T19:05:44.523Z</td></tr><tr><td>Column</td><td>ipaddr</td><td>Completeness</td><td>0.9636363636363636</td><td>2024-04-09T19:05:44.523Z</td></tr><tr><td>Column</td><td>quantity</td><td>Completeness</td><td>0.9548387096774194</td><td>2024-04-09T19:06:46.837Z</td></tr><tr><td>Column</td><td>symbol</td><td>Distinctness</td><td>0.9290322580645162</td><td>2024-04-09T19:06:46.837Z</td></tr><tr><td>Column</td><td>price</td><td>Completeness</td><td>0.9827956989247312</td><td>2024-04-09T19:06:46.837Z</td></tr><tr><td>Column</td><td>ipaddr</td><td>Completeness</td><td>0.9634408602150538</td><td>2024-04-09T19:06:46.837Z</td></tr><tr><td>Column</td><td>quantity</td><td>Completeness</td><td>0.9515151515151515</td><td>2024-04-09T19:07:34.52Z</td></tr><tr><td>Column</td><td>symbol</td><td>Distinctness</td><td>0.9272727272727272</td><td>2024-04-09T19:07:34.52Z</td></tr><tr><td>Column</td><td>price</td><td>Completeness</td><td>0.9838383838383838</td><td>2024-04-09T19:07:34.52Z</td></tr><tr><td>Column</td><td>ipaddr</td><td>Completeness</td><td>0.9636363636363636</td><td>2024-04-09T19:07:34.52Z</td></tr><tr><td>Column</td><td>quantity</td><td>Completeness</td><td>0.952</td><td>2024-04-09T19:08:10.352Z</td></tr><tr><td>Column</td><td>symbol</td><td>Distinctness</td><td>0.927</td><td>2024-04-09T19:08:10.352Z</td></tr><tr><td>Column</td><td>price</td><td>Completeness</td><td>0.984</td><td>2024-04-09T19:08:10.352Z</td></tr><tr><td>Column</td><td>ipaddr</td><td>Completeness</td><td>0.964</td><td>2024-04-09T19:08:10.352Z</td></tr></tbody></table></div>"
      ]
     },
     "metadata": {
      "application/vnd.databricks.v1+output": {
       "addedWidgets": {},
       "aggData": [],
       "aggError": "",
       "aggOverflow": false,
       "aggSchema": [],
       "aggSeriesLimitReached": false,
       "aggType": "",
       "arguments": {},
       "columnCustomDisplayInfos": {},
       "data": [
        [
         "Column",
         "quantity",
         "Completeness",
         0.96,
         "2024-04-09T18:56:17.48Z"
        ],
        [
         "Column",
         "symbol",
         "Distinctness",
         1.0,
         "2024-04-09T18:56:17.48Z"
        ],
        [
         "Column",
         "price",
         "Completeness",
         0.98,
         "2024-04-09T18:56:17.48Z"
        ],
        [
         "Column",
         "ipaddr",
         "Completeness",
         0.96,
         "2024-04-09T18:56:17.48Z"
        ],
        [
         "Column",
         "quantity",
         "Completeness",
         0.9583333333333334,
         "2024-04-09T18:56:39.526Z"
        ],
        [
         "Column",
         "symbol",
         "Distinctness",
         0.9916666666666667,
         "2024-04-09T18:56:39.526Z"
        ],
        [
         "Column",
         "price",
         "Completeness",
         0.9833333333333333,
         "2024-04-09T18:56:39.526Z"
        ],
        [
         "Column",
         "ipaddr",
         "Completeness",
         0.9666666666666667,
         "2024-04-09T18:56:39.526Z"
        ],
        [
         "Column",
         "quantity",
         "Completeness",
         0.95625,
         "2024-04-09T18:56:59.399Z"
        ],
        [
         "Column",
         "symbol",
         "Distinctness",
         0.99375,
         "2024-04-09T18:56:59.399Z"
        ],
        [
         "Column",
         "price",
         "Completeness",
         0.98125,
         "2024-04-09T18:56:59.399Z"
        ],
        [
         "Column",
         "ipaddr",
         "Completeness",
         0.9625,
         "2024-04-09T18:56:59.399Z"
        ],
        [
         "Column",
         "quantity",
         "Completeness",
         0.9578947368421052,
         "2024-04-09T18:57:22.035Z"
        ],
        [
         "Column",
         "symbol",
         "Distinctness",
         0.9842105263157894,
         "2024-04-09T18:57:22.035Z"
        ],
        [
         "Column",
         "price",
         "Completeness",
         0.9789473684210527,
         "2024-04-09T18:57:22.035Z"
        ],
        [
         "Column",
         "ipaddr",
         "Completeness",
         0.9631578947368421,
         "2024-04-09T18:57:22.035Z"
        ],
        [
         "Column",
         "quantity",
         "Completeness",
         0.9434782608695652,
         "2024-04-09T18:57:45.848Z"
        ],
        [
         "Column",
         "symbol",
         "Distinctness",
         0.9869565217391304,
         "2024-04-09T18:57:45.848Z"
        ],
        [
         "Column",
         "price",
         "Completeness",
         0.9826086956521739,
         "2024-04-09T18:57:45.848Z"
        ],
        [
         "Column",
         "ipaddr",
         "Completeness",
         0.9695652173913043,
         "2024-04-09T18:57:45.848Z"
        ],
        [
         "Column",
         "quantity",
         "Completeness",
         0.9428571428571428,
         "2024-04-09T18:58:10.158Z"
        ],
        [
         "Column",
         "symbol",
         "Distinctness",
         0.9821428571428571,
         "2024-04-09T18:58:10.158Z"
        ],
        [
         "Column",
         "price",
         "Completeness",
         0.9821428571428571,
         "2024-04-09T18:58:10.158Z"
        ],
        [
         "Column",
         "ipaddr",
         "Completeness",
         0.975,
         "2024-04-09T18:58:10.158Z"
        ],
        [
         "Column",
         "quantity",
         "Completeness",
         0.9451612903225807,
         "2024-04-09T18:58:47.082Z"
        ],
        [
         "Column",
         "symbol",
         "Distinctness",
         0.9806451612903225,
         "2024-04-09T18:58:47.082Z"
        ],
        [
         "Column",
         "price",
         "Completeness",
         0.9806451612903225,
         "2024-04-09T18:58:47.082Z"
        ],
        [
         "Column",
         "ipaddr",
         "Completeness",
         0.9741935483870968,
         "2024-04-09T18:58:47.082Z"
        ],
        [
         "Column",
         "quantity",
         "Completeness",
         0.9514285714285714,
         "2024-04-09T18:59:10.349Z"
        ],
        [
         "Column",
         "symbol",
         "Distinctness",
         0.9714285714285714,
         "2024-04-09T18:59:10.349Z"
        ],
        [
         "Column",
         "price",
         "Completeness",
         0.98,
         "2024-04-09T18:59:10.349Z"
        ],
        [
         "Column",
         "ipaddr",
         "Completeness",
         0.9714285714285714,
         "2024-04-09T18:59:10.349Z"
        ],
        [
         "Column",
         "quantity",
         "Completeness",
         0.9538461538461539,
         "2024-04-09T18:59:29.714Z"
        ],
        [
         "Column",
         "symbol",
         "Distinctness",
         0.958974358974359,
         "2024-04-09T18:59:29.714Z"
        ],
        [
         "Column",
         "price",
         "Completeness",
         0.9769230769230769,
         "2024-04-09T18:59:29.714Z"
        ],
        [
         "Column",
         "ipaddr",
         "Completeness",
         0.9717948717948718,
         "2024-04-09T18:59:29.714Z"
        ],
        [
         "Column",
         "quantity",
         "Completeness",
         0.9536585365853658,
         "2024-04-09T18:59:54.714Z"
        ],
        [
         "Column",
         "symbol",
         "Distinctness",
         0.9585365853658536,
         "2024-04-09T18:59:54.714Z"
        ],
        [
         "Column",
         "price",
         "Completeness",
         0.9780487804878049,
         "2024-04-09T18:59:54.714Z"
        ],
        [
         "Column",
         "ipaddr",
         "Completeness",
         0.9658536585365853,
         "2024-04-09T18:59:54.714Z"
        ],
        [
         "Column",
         "quantity",
         "Completeness",
         0.9511111111111111,
         "2024-04-09T19:00:22.026Z"
        ],
        [
         "Column",
         "symbol",
         "Distinctness",
         0.96,
         "2024-04-09T19:00:22.026Z"
        ],
        [
         "Column",
         "price",
         "Completeness",
         0.98,
         "2024-04-09T19:00:22.026Z"
        ],
        [
         "Column",
         "ipaddr",
         "Completeness",
         0.9666666666666667,
         "2024-04-09T19:00:22.026Z"
        ],
        [
         "Column",
         "quantity",
         "Completeness",
         0.9530612244897959,
         "2024-04-09T19:00:51.611Z"
        ],
        [
         "Column",
         "symbol",
         "Distinctness",
         0.9571428571428572,
         "2024-04-09T19:00:51.611Z"
        ],
        [
         "Column",
         "price",
         "Completeness",
         0.9816326530612245,
         "2024-04-09T19:00:51.611Z"
        ],
        [
         "Column",
         "ipaddr",
         "Completeness",
         0.963265306122449,
         "2024-04-09T19:00:51.611Z"
        ],
        [
         "Column",
         "quantity",
         "Completeness",
         0.9566037735849057,
         "2024-04-09T19:01:20.706Z"
        ],
        [
         "Column",
         "symbol",
         "Distinctness",
         0.9584905660377359,
         "2024-04-09T19:01:20.706Z"
        ],
        [
         "Column",
         "price",
         "Completeness",
         0.9830188679245283,
         "2024-04-09T19:01:20.706Z"
        ],
        [
         "Column",
         "ipaddr",
         "Completeness",
         0.9584905660377359,
         "2024-04-09T19:01:20.706Z"
        ],
        [
         "Column",
         "quantity",
         "Completeness",
         0.9551724137931035,
         "2024-04-09T19:01:50.348Z"
        ],
        [
         "Column",
         "symbol",
         "Distinctness",
         0.9603448275862069,
         "2024-04-09T19:01:50.348Z"
        ],
        [
         "Column",
         "price",
         "Completeness",
         0.9844827586206897,
         "2024-04-09T19:01:50.348Z"
        ],
        [
         "Column",
         "ipaddr",
         "Completeness",
         0.9568965517241379,
         "2024-04-09T19:01:50.348Z"
        ],
        [
         "Column",
         "quantity",
         "Completeness",
         0.9532258064516129,
         "2024-04-09T19:02:37.193Z"
        ],
        [
         "Column",
         "symbol",
         "Distinctness",
         0.9596774193548387,
         "2024-04-09T19:02:37.193Z"
        ],
        [
         "Column",
         "price",
         "Completeness",
         0.9854838709677419,
         "2024-04-09T19:02:37.193Z"
        ],
        [
         "Column",
         "ipaddr",
         "Completeness",
         0.9564516129032258,
         "2024-04-09T19:02:37.193Z"
        ],
        [
         "Column",
         "quantity",
         "Completeness",
         0.9567164179104478,
         "2024-04-09T19:03:14.986Z"
        ],
        [
         "Column",
         "symbol",
         "Distinctness",
         0.9522388059701492,
         "2024-04-09T19:03:14.986Z"
        ],
        [
         "Column",
         "price",
         "Completeness",
         0.982089552238806,
         "2024-04-09T19:03:14.986Z"
        ],
        [
         "Column",
         "ipaddr",
         "Completeness",
         0.9567164179104478,
         "2024-04-09T19:03:14.986Z"
        ],
        [
         "Column",
         "quantity",
         "Completeness",
         0.9541666666666667,
         "2024-04-09T19:03:49.774Z"
        ],
        [
         "Column",
         "symbol",
         "Distinctness",
         0.9458333333333333,
         "2024-04-09T19:03:49.774Z"
        ],
        [
         "Column",
         "price",
         "Completeness",
         0.9819444444444444,
         "2024-04-09T19:03:49.774Z"
        ],
        [
         "Column",
         "ipaddr",
         "Completeness",
         0.9597222222222223,
         "2024-04-09T19:03:49.774Z"
        ],
        [
         "Column",
         "quantity",
         "Completeness",
         0.9532467532467532,
         "2024-04-09T19:04:27.271Z"
        ],
        [
         "Column",
         "symbol",
         "Distinctness",
         0.9441558441558442,
         "2024-04-09T19:04:27.271Z"
        ],
        [
         "Column",
         "price",
         "Completeness",
         0.9818181818181818,
         "2024-04-09T19:04:27.271Z"
        ],
        [
         "Column",
         "ipaddr",
         "Completeness",
         0.961038961038961,
         "2024-04-09T19:04:27.271Z"
        ],
        [
         "Column",
         "quantity",
         "Completeness",
         0.9548780487804878,
         "2024-04-09T19:05:03.344Z"
        ],
        [
         "Column",
         "symbol",
         "Distinctness",
         0.9414634146341463,
         "2024-04-09T19:05:03.344Z"
        ],
        [
         "Column",
         "price",
         "Completeness",
         0.9829268292682927,
         "2024-04-09T19:05:03.344Z"
        ],
        [
         "Column",
         "ipaddr",
         "Completeness",
         0.9609756097560975,
         "2024-04-09T19:05:03.344Z"
        ],
        [
         "Column",
         "quantity",
         "Completeness",
         0.9545454545454546,
         "2024-04-09T19:05:44.523Z"
        ],
        [
         "Column",
         "symbol",
         "Distinctness",
         0.9329545454545455,
         "2024-04-09T19:05:44.523Z"
        ],
        [
         "Column",
         "price",
         "Completeness",
         0.9818181818181818,
         "2024-04-09T19:05:44.523Z"
        ],
        [
         "Column",
         "ipaddr",
         "Completeness",
         0.9636363636363636,
         "2024-04-09T19:05:44.523Z"
        ],
        [
         "Column",
         "quantity",
         "Completeness",
         0.9548387096774194,
         "2024-04-09T19:06:46.837Z"
        ],
        [
         "Column",
         "symbol",
         "Distinctness",
         0.9290322580645162,
         "2024-04-09T19:06:46.837Z"
        ],
        [
         "Column",
         "price",
         "Completeness",
         0.9827956989247312,
         "2024-04-09T19:06:46.837Z"
        ],
        [
         "Column",
         "ipaddr",
         "Completeness",
         0.9634408602150538,
         "2024-04-09T19:06:46.837Z"
        ],
        [
         "Column",
         "quantity",
         "Completeness",
         0.9515151515151515,
         "2024-04-09T19:07:34.52Z"
        ],
        [
         "Column",
         "symbol",
         "Distinctness",
         0.9272727272727272,
         "2024-04-09T19:07:34.52Z"
        ],
        [
         "Column",
         "price",
         "Completeness",
         0.9838383838383838,
         "2024-04-09T19:07:34.52Z"
        ],
        [
         "Column",
         "ipaddr",
         "Completeness",
         0.9636363636363636,
         "2024-04-09T19:07:34.52Z"
        ],
        [
         "Column",
         "quantity",
         "Completeness",
         0.952,
         "2024-04-09T19:08:10.352Z"
        ],
        [
         "Column",
         "symbol",
         "Distinctness",
         0.927,
         "2024-04-09T19:08:10.352Z"
        ],
        [
         "Column",
         "price",
         "Completeness",
         0.984,
         "2024-04-09T19:08:10.352Z"
        ],
        [
         "Column",
         "ipaddr",
         "Completeness",
         0.964,
         "2024-04-09T19:08:10.352Z"
        ]
       ],
       "datasetInfos": [],
       "dbfsResultPath": null,
       "isJsonSchema": true,
       "metadata": {
        "isDbfsCommandResult": false
       },
       "overflow": false,
       "plotOptions": {
        "customPlotOptions": {
         "__migrate__": [
          {
           "key": "status",
           "value": "complete"
          },
          {
           "key": "dashboards",
           "value": [
            4014151619774418
           ]
          },
          {
           "key": "origDisplayType",
           "value": "barChart"
          }
         ],
         "barChart": [
          {
           "key": "grouped",
           "value": true
          },
          {
           "key": "stacked",
           "value": false
          },
          {
           "key": "100_stacked",
           "value": false
          }
         ]
        },
        "displayType": "table",
        "pivotAggregation": "sum",
        "pivotColumns": [
         "name",
         "instance"
        ],
        "xColumns": [],
        "yColumns": [
         "value"
        ]
       },
       "removedWidgets": [],
       "schema": [
        {
         "metadata": "{}",
         "name": "entity",
         "type": "\"string\""
        },
        {
         "metadata": "{}",
         "name": "instance",
         "type": "\"string\""
        },
        {
         "metadata": "{}",
         "name": "name",
         "type": "\"string\""
        },
        {
         "metadata": "{}",
         "name": "value",
         "type": "\"double\""
        },
        {
         "metadata": "{}",
         "name": "ts",
         "type": "\"timestamp\""
        }
       ],
       "type": "table"
      }
     },
     "output_type": "display_data"
    },
    {
     "output_type": "display_data",
     "data": {
      "text/plain": [
       "Databricks visualization. Run in Databricks to view."
      ]
     },
     "metadata": {
      "application/vnd.databricks.v1.subcommand+json": {
       "baseErrorDetails": null,
       "bindings": {},
       "collapsed": false,
       "command": "# Databricks no-op command",
       "commandTitle": "Legacy - Bar (v1)",
       "commandType": "auto",
       "commandVersion": 0,
       "commentThread": [],
       "commentsVisible": false,
       "contentSha256Hex": null,
       "customPlotOptions": {
        "barChart": [
         {
          "key": "grouped",
          "value": true
         },
         {
          "key": "stacked",
          "value": false
         },
         {
          "key": "100_stacked",
          "value": false
         }
        ]
       },
       "datasetPreviewNameToCmdIdMap": {},
       "diffDeletes": [],
       "diffInserts": [],
       "displayType": "barChart",
       "error": null,
       "errorDetails": null,
       "errorSummary": null,
       "errorTraceType": null,
       "finishTime": 0,
       "globalVars": {},
       "guid": "",
       "height": "auto",
       "hideCommandCode": false,
       "hideCommandResult": false,
       "iPythonMetadata": null,
       "inputWidgets": {},
       "isLockedInExamMode": false,
       "latestUser": "a user",
       "latestUserId": null,
       "listResultMetadata": null,
       "metadata": {},
       "nuid": "58b44ecb-4de3-4b10-8721-cc0d3247b4c7",
       "origId": 0,
       "parentHierarchy": [],
       "pivotAggregation": "sum",
       "pivotColumns": [
        "name",
        "instance"
       ],
       "position": 1.0,
       "resultDbfsErrorMessage": null,
       "resultDbfsStatus": "INLINED_IN_TREE",
       "results": null,
       "showCommandTitle": false,
       "startTime": 0,
       "state": "input",
       "streamStates": {},
       "subcommandOptions": null,
       "submitTime": 0,
       "subtype": "tableResultSubCmd.visualization",
       "tableResultIndex": 0,
       "useConsistentColors": false,
       "version": "CommandV1",
       "width": "auto",
       "workflows": [],
       "xColumns": [],
       "yColumns": [
        "value"
       ]
      }
     },
     "output_type": "display_data"
    }
   ],
   "source": [
    "%scala\n",
    "display(spark.readStream.format(\"delta\")\n",
    "        .option(\"ignoreChanges\", \"true\")\n",
    "        .table(\"deequ_metrics\")\n",
    "        .where($\"name\" === \"Completeness\" || $\"name\" === \"Distinctness\"))"
   ]
  },
  {
   "cell_type": "code",
   "execution_count": 0,
   "metadata": {
    "application/vnd.databricks.v1+cell": {
     "cellMetadata": {
      "byteLimit": 2048000,
      "rowLimit": 10000
     },
     "inputWidgets": {},
     "nuid": "a8d7faef-e900-42a3-87a6-6eab777d1728",
     "showTitle": false,
     "title": ""
    }
   },
   "outputs": [
    {
     "output_type": "display_data",
     "data": {
      "text/html": [
       "<style scoped>\n",
       "  .table-result-container {\n",
       "    max-height: 300px;\n",
       "    overflow: auto;\n",
       "  }\n",
       "  table, th, td {\n",
       "    border: 1px solid black;\n",
       "    border-collapse: collapse;\n",
       "  }\n",
       "  th, td {\n",
       "    padding: 5px;\n",
       "  }\n",
       "  th {\n",
       "    text-align: left;\n",
       "  }\n",
       "</style><div class='table-result-container'><table class='table-result'><thead style='background-color: white'><tr><th>batchId</th><th>count</th><th>total</th><th>percent_bad</th></tr></thead><tbody><tr><td>3</td><td>3</td><td>20</td><td>15.0</td></tr><tr><td>8</td><td>4</td><td>30</td><td>13.333</td></tr><tr><td>17</td><td>5</td><td>50</td><td>10.0</td></tr><tr><td>4</td><td>4</td><td>40</td><td>10.0</td></tr><tr><td>14</td><td>4</td><td>40</td><td>10.0</td></tr><tr><td>23</td><td>6</td><td>60</td><td>10.0</td></tr><tr><td>20</td><td>4</td><td>50</td><td>8.0</td></tr><tr><td>13</td><td>3</td><td>40</td><td>7.5</td></tr><tr><td>5</td><td>2</td><td>30</td><td>6.667</td></tr><tr><td>1</td><td>2</td><td>30</td><td>6.667</td></tr><tr><td>7</td><td>3</td><td>50</td><td>6.0</td></tr><tr><td>15</td><td>3</td><td>50</td><td>6.0</td></tr><tr><td>6</td><td>2</td><td>40</td><td>5.0</td></tr><tr><td>9</td><td>2</td><td>40</td><td>5.0</td></tr><tr><td>16</td><td>2</td><td>40</td><td>5.0</td></tr><tr><td>19</td><td>2</td><td>50</td><td>4.0</td></tr><tr><td>21</td><td>2</td><td>60</td><td>3.333</td></tr><tr><td>12</td><td>1</td><td>40</td><td>2.5</td></tr><tr><td>22</td><td>1</td><td>50</td><td>2.0</td></tr><tr><td>18</td><td>1</td><td>50</td><td>2.0</td></tr></tbody></table></div>"
      ]
     },
     "metadata": {
      "application/vnd.databricks.v1+output": {
       "addedWidgets": {},
       "aggData": [],
       "aggError": "",
       "aggOverflow": false,
       "aggSchema": [],
       "aggSeriesLimitReached": false,
       "aggType": "",
       "arguments": {},
       "columnCustomDisplayInfos": {},
       "data": [
        [
         3,
         3,
         20,
         15.0
        ],
        [
         8,
         4,
         30,
         13.333
        ],
        [
         17,
         5,
         50,
         10.0
        ],
        [
         4,
         4,
         40,
         10.0
        ],
        [
         14,
         4,
         40,
         10.0
        ],
        [
         23,
         6,
         60,
         10.0
        ],
        [
         20,
         4,
         50,
         8.0
        ],
        [
         13,
         3,
         40,
         7.5
        ],
        [
         5,
         2,
         30,
         6.667
        ],
        [
         1,
         2,
         30,
         6.667
        ],
        [
         7,
         3,
         50,
         6.0
        ],
        [
         15,
         3,
         50,
         6.0
        ],
        [
         6,
         2,
         40,
         5.0
        ],
        [
         9,
         2,
         40,
         5.0
        ],
        [
         16,
         2,
         40,
         5.0
        ],
        [
         19,
         2,
         50,
         4.0
        ],
        [
         21,
         2,
         60,
         3.333
        ],
        [
         12,
         1,
         40,
         2.5
        ],
        [
         22,
         1,
         50,
         2.0
        ],
        [
         18,
         1,
         50,
         2.0
        ]
       ],
       "datasetInfos": [
        {
         "name": "batchCounts",
         "schema": {
          "fields": [
           {
            "metadata": {},
            "name": "batchId2",
            "nullable": true,
            "type": "long"
           },
           {
            "metadata": {},
            "name": "total",
            "nullable": false,
            "type": "long"
           }
          ],
          "type": "struct"
         },
         "tableIdentifier": null,
         "typeStr": "org.apache.spark.sql.DataFrame"
        }
       ],
       "dbfsResultPath": null,
       "isJsonSchema": true,
       "metadata": {
        "isDbfsCommandResult": false
       },
       "overflow": false,
       "plotOptions": {
        "customPlotOptions": {},
        "displayType": "table",
        "pivotAggregation": null,
        "pivotColumns": null,
        "xColumns": null,
        "yColumns": null
       },
       "removedWidgets": [],
       "schema": [
        {
         "metadata": "{}",
         "name": "batchId",
         "type": "\"long\""
        },
        {
         "metadata": "{}",
         "name": "count",
         "type": "\"long\""
        },
        {
         "metadata": "{}",
         "name": "total",
         "type": "\"long\""
        },
        {
         "metadata": "{}",
         "name": "percent_bad",
         "type": "\"double\""
        }
       ],
       "type": "table"
      }
     },
     "output_type": "display_data"
    }
   ],
   "source": [
    "%scala\n",
    "val batchCounts = spark.read.format(\"delta\").table(\"bad_records\")\n",
    ".groupBy($\"batchId\").count().withColumnRenamed(\"batchId\", \"batchId2\").withColumnRenamed(\"count\", \"total\")\n",
    "\n",
    "display(spark.read.format(\"delta\").table(\"bad_records\")\n",
    "        .filter($\"quantity\" < 0 || $\"quantity\" > 10000 || $\"ipaddr\" === null)\n",
    "        .groupBy($\"batchId\").count()\n",
    "        .join(batchCounts, $\"batchId2\" === $\"batchId\", \"inner\")\n",
    "        .withColumn(\"percent_bad\", bround(lit(100)*$\"count\"/$\"total\",3))\n",
    "        .drop(\"batchId2\").orderBy(desc(\"percent_bad\")))"
   ]
  },
  {
   "cell_type": "code",
   "execution_count": 0,
   "metadata": {
    "application/vnd.databricks.v1+cell": {
     "cellMetadata": {
      "byteLimit": 2048000,
      "rowLimit": 10000
     },
     "inputWidgets": {},
     "nuid": "134d5ffd-1c20-4ce3-910a-fbb04fc8012f",
     "showTitle": false,
     "title": ""
    }
   },
   "outputs": [
    {
     "output_type": "display_data",
     "data": {
      "text/html": [
       "<style scoped>\n",
       "  .table-result-container {\n",
       "    max-height: 300px;\n",
       "    overflow: auto;\n",
       "  }\n",
       "  table, th, td {\n",
       "    border: 1px solid black;\n",
       "    border-collapse: collapse;\n",
       "  }\n",
       "  th, td {\n",
       "    padding: 5px;\n",
       "  }\n",
       "  th {\n",
       "    text-align: left;\n",
       "  }\n",
       "</style><div class='table-result-container'><table class='table-result'><thead style='background-color: white'><tr><th>buysell</th><th>date</th><th>ipaddr</th><th>ordertype</th><th>price</th><th>quantity</th><th>symbol</th><th>time</th><th>batchID</th></tr></thead><tbody><tr><td>sell</td><td>08/13/2019</td><td>91.109.140.52</td><td>bestLimit</td><td>41.5177</td><td>-1.0</td><td>CKH</td><td>0:52:48</td><td>1</td></tr><tr><td>sell</td><td>08/04/2019</td><td>148.244.172.177</td><td>oco</td><td>25.0386</td><td>-1.0</td><td>RRD</td><td>18:10:28</td><td>3</td></tr><tr><td>buy</td><td>08/19/2019</td><td>18.221.112.226</td><td>cmo</td><td>3.96</td><td>-1.0</td><td>DOOR</td><td>18:06:32</td><td>4</td></tr><tr><td>sell</td><td>08/27/2019</td><td>27.230.151.23</td><td>cross</td><td>22.9554</td><td>-1.0</td><td>MRK</td><td>9:47:07</td><td>4</td></tr><tr><td>buy</td><td>08/22/2019</td><td>175.207.13.251</td><td>oco</td><td>34.4796</td><td>-1.0</td><td>EVHC</td><td>9:46:14</td><td>5</td></tr><tr><td>sell</td><td>08/24/2019</td><td>154.4.144.87</td><td>market</td><td>null</td><td>-1.0</td><td>CIE</td><td>8:48:38</td><td>5</td></tr><tr><td>buy</td><td>08/30/2019</td><td>112.18.43.14</td><td>oco</td><td>18.995</td><td>-1.0</td><td>F</td><td>12:06:03</td><td>1</td></tr><tr><td>buy</td><td>08/18/2019</td><td>185.120.6.137</td><td>cross</td><td>19.4768</td><td>-1.0</td><td>PLD</td><td>10:04:09</td><td>3</td></tr><tr><td>sell</td><td>08/30/2019</td><td>7.92.118.255</td><td>quote</td><td>3.52</td><td>-1.0</td><td>SR</td><td>18:08:02</td><td>3</td></tr><tr><td>sell</td><td>08/27/2019</td><td>189.196.57.127</td><td>marketToLimit</td><td>9.958</td><td>-1.0</td><td>STAA</td><td>5:49:49</td><td>4</td></tr><tr><td>buy</td><td>08/01/2019</td><td>29.246.75.1</td><td>cross</td><td>32.889</td><td>-1.0</td><td>RCKY</td><td>21:36:28</td><td>4</td></tr><tr><td>buy</td><td>08/01/2019</td><td>234.188.65.122</td><td>batch</td><td>50.4982</td><td>-1.0</td><td>TWNKW</td><td>2:54:52</td><td>6</td></tr><tr><td>sell</td><td>08/19/2019</td><td>253.192.56.155</td><td>quote</td><td>17.6368</td><td>-1.0</td><td>SNES</td><td>14:51:34</td><td>6</td></tr><tr><td>sell</td><td>08/30/2019</td><td>241.50.67.97</td><td>quote</td><td>19.9665</td><td>-1.0</td><td>VEDL</td><td>4:37:40</td><td>7</td></tr><tr><td>buy</td><td>08/01/2019</td><td>26.106.12.47</td><td>oco</td><td>20.163</td><td>-1.0</td><td>CRIS</td><td>7:05:20</td><td>7</td></tr><tr><td>buy</td><td>08/29/2019</td><td>76.65.152.127</td><td>batch</td><td>21.4005</td><td>-1.0</td><td>JAX</td><td>3:56:29</td><td>7</td></tr><tr><td>buy</td><td>08/10/2019</td><td>177.42.97.167</td><td>cmo</td><td>55.913</td><td>-1.0</td><td>LMB</td><td>16:23:40</td><td>8</td></tr><tr><td>buy</td><td>08/25/2019</td><td>182.244.110.166</td><td>batch</td><td>37.6736</td><td>-1.0</td><td>OMCL</td><td>16:31:47</td><td>8</td></tr><tr><td>sell</td><td>08/16/2019</td><td>190.170.42.96</td><td>cross</td><td>24.945</td><td>-1.0</td><td>INSI</td><td>15:08:41</td><td>8</td></tr><tr><td>buy</td><td>08/22/2019</td><td>163.130.241.95</td><td>quote</td><td>4.44</td><td>-1.0</td><td>SGLBW</td><td>7:58:25</td><td>8</td></tr><tr><td>null</td><td>08/23/2019</td><td>113.114.194.211</td><td>marketToLimit</td><td>18.513</td><td>-1.0</td><td>BHAC</td><td>1:55:11</td><td>9</td></tr><tr><td>buy</td><td>08/06/2019</td><td>37.149.105.138</td><td>limit</td><td>23.698</td><td>-1.0</td><td>ASA</td><td>11:40:34</td><td>9</td></tr><tr><td>buy</td><td>08/04/2019</td><td>76.142.49.90</td><td>limit</td><td>12.8492</td><td>-1.0</td><td>DORM</td><td>12:43:22</td><td>12</td></tr><tr><td>sell</td><td>08/16/2019</td><td>156.25.19.31</td><td>oco</td><td>19.494</td><td>-1.0</td><td>BSBR</td><td>16:18:56</td><td>13</td></tr><tr><td>sell</td><td>08/27/2019</td><td>198.99.169.23</td><td>quote</td><td>12.8667</td><td>-1.0</td><td>VGIT</td><td>2:25:41</td><td>13</td></tr><tr><td>sell</td><td>08/16/2019</td><td>40.175.31.221</td><td>market</td><td>27.5652</td><td>-1.0</td><td>CALA</td><td>12:29:48</td><td>13</td></tr><tr><td>buy</td><td>08/23/2019</td><td>168.61.73.29</td><td>cmo</td><td>45.1278</td><td>-1.0</td><td>BEP</td><td>4:50:19</td><td>14</td></tr><tr><td>buy</td><td>08/13/2019</td><td>44.109.230.90</td><td>market</td><td>4.565</td><td>-1.0</td><td>GVA</td><td>16:18:31</td><td>14</td></tr><tr><td>buy</td><td>08/06/2019</td><td>32.160.168.18</td><td>oco</td><td>29.8575</td><td>-1.0</td><td>EBAYL</td><td>10:25:02</td><td>14</td></tr><tr><td>sell</td><td>08/25/2019</td><td>12.96.183.27</td><td>batch</td><td>8.8056</td><td>-1.0</td><td>BFR</td><td>23:58:57</td><td>14</td></tr><tr><td>buy</td><td>08/12/2019</td><td>157.106.169.223</td><td>bestLimit</td><td>20.9232</td><td>-1.0</td><td>NEV</td><td>16:13:59</td><td>15</td></tr><tr><td>sell</td><td>08/09/2019</td><td>224.241.83.12</td><td>cmo</td><td>29.133</td><td>-1.0</td><td>WFT</td><td>14:17:46</td><td>15</td></tr><tr><td>sell</td><td>08/25/2019</td><td>172.15.155.251</td><td>market</td><td>29.8205</td><td>-1.0</td><td>EP^C</td><td>10:59:10</td><td>15</td></tr><tr><td>buy</td><td>08/09/2019</td><td>151.106.46.203</td><td>limit</td><td>41.7852</td><td>-1.0</td><td>FMBH</td><td>20:29:52</td><td>16</td></tr><tr><td>sell</td><td>08/13/2019</td><td>186.230.181.58</td><td>oco</td><td>24.9227</td><td>-1.0</td><td>PSB^W</td><td>17:33:29</td><td>16</td></tr><tr><td>sell</td><td>08/15/2019</td><td>180.137.84.165</td><td>cmo</td><td>39.9399</td><td>-1.0</td><td>GERN</td><td>12:28:12</td><td>17</td></tr><tr><td>sell</td><td>08/14/2019</td><td>21.17.139.209</td><td>quote</td><td>30.1484</td><td>-1.0</td><td>XCRA</td><td>12:15:18</td><td>17</td></tr><tr><td>sell</td><td>08/29/2019</td><td>211.189.199.127</td><td>market</td><td>34.6731</td><td>-1.0</td><td>NESR</td><td>17:05:06</td><td>17</td></tr><tr><td>buy</td><td>08/02/2019</td><td>250.164.90.13</td><td>limit</td><td>25.1979</td><td>-1.0</td><td>SB</td><td>8:54:43</td><td>17</td></tr><tr><td>sell</td><td>08/04/2019</td><td>57.227.145.84</td><td>batch</td><td>17.48</td><td>-1.0</td><td>SWNC</td><td>6:32:08</td><td>17</td></tr><tr><td>buy</td><td>08/16/2019</td><td>255.53.252.116</td><td>batch</td><td>4.4658</td><td>-1.0</td><td>WAL</td><td>12:42:04</td><td>18</td></tr><tr><td>sell</td><td>08/10/2019</td><td>29.243.130.63</td><td>oco</td><td>33.8424</td><td>-1.0</td><td>BLFS</td><td>20:45:54</td><td>19</td></tr><tr><td>buy</td><td>08/25/2019</td><td>47.57.1.113</td><td>batch</td><td>30.5344</td><td>-1.0</td><td>BLDR</td><td>0:48:03</td><td>19</td></tr><tr><td>buy</td><td>08/29/2019</td><td>45.21.206.69</td><td>marketToLimit</td><td>10.4832</td><td>-1.0</td><td>IBB</td><td>12:37:26</td><td>20</td></tr><tr><td>buy</td><td>08/13/2019</td><td>221.165.234.111</td><td>limit</td><td>4.7824</td><td>-1.0</td><td>MDRX</td><td>20:09:23</td><td>20</td></tr><tr><td>sell</td><td>08/26/2019</td><td>241.37.191.140</td><td>limit</td><td>10.2102</td><td>-1.0</td><td>BJZ</td><td>10:21:57</td><td>20</td></tr><tr><td>null</td><td>08/10/2019</td><td>135.66.41.132</td><td>cmo</td><td>4.015</td><td>-1.0</td><td>QLC</td><td>2:23:03</td><td>20</td></tr><tr><td>buy</td><td>08/05/2019</td><td>143.66.102.162</td><td>cmo</td><td>13.968</td><td>-1.0</td><td>TWO^A</td><td>21:58:26</td><td>21</td></tr><tr><td>sell</td><td>08/09/2019</td><td>67.9.201.200</td><td>quote</td><td>3.93</td><td>-1.0</td><td>CRS</td><td>14:03:08</td><td>21</td></tr><tr><td>sell</td><td>08/10/2019</td><td>94.86.70.167</td><td>marketToLimit</td><td>19.5672</td><td>-1.0</td><td>TEL</td><td>2:41:08</td><td>22</td></tr><tr><td>sell</td><td>08/05/2019</td><td>76.134.6.227</td><td>batch</td><td>30.3388</td><td>-1.0</td><td>VCRA</td><td>15:30:59</td><td>23</td></tr><tr><td>sell</td><td>08/05/2019</td><td>216.5.129.171</td><td>cmo</td><td>15.0747</td><td>-1.0</td><td>CRY</td><td>2:32:52</td><td>23</td></tr><tr><td>sell</td><td>08/02/2019</td><td>49.254.80.79</td><td>batch</td><td>12.3396</td><td>-1.0</td><td>UEPS</td><td>15:32:20</td><td>23</td></tr><tr><td>sell</td><td>08/25/2019</td><td>71.146.89.98</td><td>market</td><td>25.1641</td><td>-1.0</td><td>ACNB</td><td>22:53:50</td><td>23</td></tr><tr><td>buy</td><td>08/07/2019</td><td>206.184.81.167</td><td>market</td><td>7.4965</td><td>-1.0</td><td>NGLS^A</td><td>4:55:44</td><td>23</td></tr><tr><td>sell</td><td>08/13/2019</td><td>235.148.38.197</td><td>oco</td><td>35.3118</td><td>-1.0</td><td>AGU</td><td>0:18:38</td><td>23</td></tr></tbody></table></div>"
      ]
     },
     "metadata": {
      "application/vnd.databricks.v1+output": {
       "addedWidgets": {},
       "aggData": [],
       "aggError": "",
       "aggOverflow": false,
       "aggSchema": [],
       "aggSeriesLimitReached": false,
       "aggType": "",
       "arguments": {},
       "columnCustomDisplayInfos": {},
       "data": [
        [
         "sell",
         "08/13/2019",
         "91.109.140.52",
         "bestLimit",
         41.5177,
         -1.0,
         "CKH",
         "0:52:48",
         1
        ],
        [
         "sell",
         "08/04/2019",
         "148.244.172.177",
         "oco",
         25.0386,
         -1.0,
         "RRD",
         "18:10:28",
         3
        ],
        [
         "buy",
         "08/19/2019",
         "18.221.112.226",
         "cmo",
         3.96,
         -1.0,
         "DOOR",
         "18:06:32",
         4
        ],
        [
         "sell",
         "08/27/2019",
         "27.230.151.23",
         "cross",
         22.9554,
         -1.0,
         "MRK",
         "9:47:07",
         4
        ],
        [
         "buy",
         "08/22/2019",
         "175.207.13.251",
         "oco",
         34.4796,
         -1.0,
         "EVHC",
         "9:46:14",
         5
        ],
        [
         "sell",
         "08/24/2019",
         "154.4.144.87",
         "market",
         null,
         -1.0,
         "CIE",
         "8:48:38",
         5
        ],
        [
         "buy",
         "08/30/2019",
         "112.18.43.14",
         "oco",
         18.995,
         -1.0,
         "F",
         "12:06:03",
         1
        ],
        [
         "buy",
         "08/18/2019",
         "185.120.6.137",
         "cross",
         19.4768,
         -1.0,
         "PLD",
         "10:04:09",
         3
        ],
        [
         "sell",
         "08/30/2019",
         "7.92.118.255",
         "quote",
         3.52,
         -1.0,
         "SR",
         "18:08:02",
         3
        ],
        [
         "sell",
         "08/27/2019",
         "189.196.57.127",
         "marketToLimit",
         9.958,
         -1.0,
         "STAA",
         "5:49:49",
         4
        ],
        [
         "buy",
         "08/01/2019",
         "29.246.75.1",
         "cross",
         32.889,
         -1.0,
         "RCKY",
         "21:36:28",
         4
        ],
        [
         "buy",
         "08/01/2019",
         "234.188.65.122",
         "batch",
         50.4982,
         -1.0,
         "TWNKW",
         "2:54:52",
         6
        ],
        [
         "sell",
         "08/19/2019",
         "253.192.56.155",
         "quote",
         17.6368,
         -1.0,
         "SNES",
         "14:51:34",
         6
        ],
        [
         "sell",
         "08/30/2019",
         "241.50.67.97",
         "quote",
         19.9665,
         -1.0,
         "VEDL",
         "4:37:40",
         7
        ],
        [
         "buy",
         "08/01/2019",
         "26.106.12.47",
         "oco",
         20.163,
         -1.0,
         "CRIS",
         "7:05:20",
         7
        ],
        [
         "buy",
         "08/29/2019",
         "76.65.152.127",
         "batch",
         21.4005,
         -1.0,
         "JAX",
         "3:56:29",
         7
        ],
        [
         "buy",
         "08/10/2019",
         "177.42.97.167",
         "cmo",
         55.913,
         -1.0,
         "LMB",
         "16:23:40",
         8
        ],
        [
         "buy",
         "08/25/2019",
         "182.244.110.166",
         "batch",
         37.6736,
         -1.0,
         "OMCL",
         "16:31:47",
         8
        ],
        [
         "sell",
         "08/16/2019",
         "190.170.42.96",
         "cross",
         24.945,
         -1.0,
         "INSI",
         "15:08:41",
         8
        ],
        [
         "buy",
         "08/22/2019",
         "163.130.241.95",
         "quote",
         4.44,
         -1.0,
         "SGLBW",
         "7:58:25",
         8
        ],
        [
         null,
         "08/23/2019",
         "113.114.194.211",
         "marketToLimit",
         18.513,
         -1.0,
         "BHAC",
         "1:55:11",
         9
        ],
        [
         "buy",
         "08/06/2019",
         "37.149.105.138",
         "limit",
         23.698,
         -1.0,
         "ASA",
         "11:40:34",
         9
        ],
        [
         "buy",
         "08/04/2019",
         "76.142.49.90",
         "limit",
         12.8492,
         -1.0,
         "DORM",
         "12:43:22",
         12
        ],
        [
         "sell",
         "08/16/2019",
         "156.25.19.31",
         "oco",
         19.494,
         -1.0,
         "BSBR",
         "16:18:56",
         13
        ],
        [
         "sell",
         "08/27/2019",
         "198.99.169.23",
         "quote",
         12.8667,
         -1.0,
         "VGIT",
         "2:25:41",
         13
        ],
        [
         "sell",
         "08/16/2019",
         "40.175.31.221",
         "market",
         27.5652,
         -1.0,
         "CALA",
         "12:29:48",
         13
        ],
        [
         "buy",
         "08/23/2019",
         "168.61.73.29",
         "cmo",
         45.1278,
         -1.0,
         "BEP",
         "4:50:19",
         14
        ],
        [
         "buy",
         "08/13/2019",
         "44.109.230.90",
         "market",
         4.565,
         -1.0,
         "GVA",
         "16:18:31",
         14
        ],
        [
         "buy",
         "08/06/2019",
         "32.160.168.18",
         "oco",
         29.8575,
         -1.0,
         "EBAYL",
         "10:25:02",
         14
        ],
        [
         "sell",
         "08/25/2019",
         "12.96.183.27",
         "batch",
         8.8056,
         -1.0,
         "BFR",
         "23:58:57",
         14
        ],
        [
         "buy",
         "08/12/2019",
         "157.106.169.223",
         "bestLimit",
         20.9232,
         -1.0,
         "NEV",
         "16:13:59",
         15
        ],
        [
         "sell",
         "08/09/2019",
         "224.241.83.12",
         "cmo",
         29.133,
         -1.0,
         "WFT",
         "14:17:46",
         15
        ],
        [
         "sell",
         "08/25/2019",
         "172.15.155.251",
         "market",
         29.8205,
         -1.0,
         "EP^C",
         "10:59:10",
         15
        ],
        [
         "buy",
         "08/09/2019",
         "151.106.46.203",
         "limit",
         41.7852,
         -1.0,
         "FMBH",
         "20:29:52",
         16
        ],
        [
         "sell",
         "08/13/2019",
         "186.230.181.58",
         "oco",
         24.9227,
         -1.0,
         "PSB^W",
         "17:33:29",
         16
        ],
        [
         "sell",
         "08/15/2019",
         "180.137.84.165",
         "cmo",
         39.9399,
         -1.0,
         "GERN",
         "12:28:12",
         17
        ],
        [
         "sell",
         "08/14/2019",
         "21.17.139.209",
         "quote",
         30.1484,
         -1.0,
         "XCRA",
         "12:15:18",
         17
        ],
        [
         "sell",
         "08/29/2019",
         "211.189.199.127",
         "market",
         34.6731,
         -1.0,
         "NESR",
         "17:05:06",
         17
        ],
        [
         "buy",
         "08/02/2019",
         "250.164.90.13",
         "limit",
         25.1979,
         -1.0,
         "SB",
         "8:54:43",
         17
        ],
        [
         "sell",
         "08/04/2019",
         "57.227.145.84",
         "batch",
         17.48,
         -1.0,
         "SWNC",
         "6:32:08",
         17
        ],
        [
         "buy",
         "08/16/2019",
         "255.53.252.116",
         "batch",
         4.4658,
         -1.0,
         "WAL",
         "12:42:04",
         18
        ],
        [
         "sell",
         "08/10/2019",
         "29.243.130.63",
         "oco",
         33.8424,
         -1.0,
         "BLFS",
         "20:45:54",
         19
        ],
        [
         "buy",
         "08/25/2019",
         "47.57.1.113",
         "batch",
         30.5344,
         -1.0,
         "BLDR",
         "0:48:03",
         19
        ],
        [
         "buy",
         "08/29/2019",
         "45.21.206.69",
         "marketToLimit",
         10.4832,
         -1.0,
         "IBB",
         "12:37:26",
         20
        ],
        [
         "buy",
         "08/13/2019",
         "221.165.234.111",
         "limit",
         4.7824,
         -1.0,
         "MDRX",
         "20:09:23",
         20
        ],
        [
         "sell",
         "08/26/2019",
         "241.37.191.140",
         "limit",
         10.2102,
         -1.0,
         "BJZ",
         "10:21:57",
         20
        ],
        [
         null,
         "08/10/2019",
         "135.66.41.132",
         "cmo",
         4.015,
         -1.0,
         "QLC",
         "2:23:03",
         20
        ],
        [
         "buy",
         "08/05/2019",
         "143.66.102.162",
         "cmo",
         13.968,
         -1.0,
         "TWO^A",
         "21:58:26",
         21
        ],
        [
         "sell",
         "08/09/2019",
         "67.9.201.200",
         "quote",
         3.93,
         -1.0,
         "CRS",
         "14:03:08",
         21
        ],
        [
         "sell",
         "08/10/2019",
         "94.86.70.167",
         "marketToLimit",
         19.5672,
         -1.0,
         "TEL",
         "2:41:08",
         22
        ],
        [
         "sell",
         "08/05/2019",
         "76.134.6.227",
         "batch",
         30.3388,
         -1.0,
         "VCRA",
         "15:30:59",
         23
        ],
        [
         "sell",
         "08/05/2019",
         "216.5.129.171",
         "cmo",
         15.0747,
         -1.0,
         "CRY",
         "2:32:52",
         23
        ],
        [
         "sell",
         "08/02/2019",
         "49.254.80.79",
         "batch",
         12.3396,
         -1.0,
         "UEPS",
         "15:32:20",
         23
        ],
        [
         "sell",
         "08/25/2019",
         "71.146.89.98",
         "market",
         25.1641,
         -1.0,
         "ACNB",
         "22:53:50",
         23
        ],
        [
         "buy",
         "08/07/2019",
         "206.184.81.167",
         "market",
         7.4965,
         -1.0,
         "NGLS^A",
         "4:55:44",
         23
        ],
        [
         "sell",
         "08/13/2019",
         "235.148.38.197",
         "oco",
         35.3118,
         -1.0,
         "AGU",
         "0:18:38",
         23
        ]
       ],
       "datasetInfos": [],
       "dbfsResultPath": null,
       "isJsonSchema": true,
       "metadata": {
        "isDbfsCommandResult": false
       },
       "overflow": false,
       "plotOptions": {
        "customPlotOptions": {},
        "displayType": "table",
        "pivotAggregation": null,
        "pivotColumns": null,
        "xColumns": null,
        "yColumns": null
       },
       "removedWidgets": [],
       "schema": [
        {
         "metadata": "{}",
         "name": "buysell",
         "type": "\"string\""
        },
        {
         "metadata": "{}",
         "name": "date",
         "type": "\"string\""
        },
        {
         "metadata": "{}",
         "name": "ipaddr",
         "type": "\"string\""
        },
        {
         "metadata": "{}",
         "name": "ordertype",
         "type": "\"string\""
        },
        {
         "metadata": "{}",
         "name": "price",
         "type": "\"double\""
        },
        {
         "metadata": "{}",
         "name": "quantity",
         "type": "\"double\""
        },
        {
         "metadata": "{}",
         "name": "symbol",
         "type": "\"string\""
        },
        {
         "metadata": "{}",
         "name": "time",
         "type": "\"string\""
        },
        {
         "metadata": "{}",
         "name": "batchID",
         "type": "\"long\""
        }
       ],
       "type": "table"
      }
     },
     "output_type": "display_data"
    }
   ],
   "source": [
    "%scala\n",
    "display(spark.readStream.format(\"delta\").table(\"bad_records\")\n",
    "        .filter($\"quantity\" < 0 || $\"quantity\" > 10000 || $\"ipaddr\" === null))"
   ]
  },
  {
   "cell_type": "code",
   "execution_count": 0,
   "metadata": {
    "application/vnd.databricks.v1+cell": {
     "cellMetadata": {
      "byteLimit": 2048000,
      "rowLimit": 10000
     },
     "inputWidgets": {},
     "nuid": "b6db1cbd-1589-429a-aed1-417d05299fd5",
     "showTitle": false,
     "title": ""
    }
   },
   "outputs": [
    {
     "output_type": "display_data",
     "data": {
      "text/html": [
       "<style scoped>\n",
       "  .table-result-container {\n",
       "    max-height: 300px;\n",
       "    overflow: auto;\n",
       "  }\n",
       "  table, th, td {\n",
       "    border: 1px solid black;\n",
       "    border-collapse: collapse;\n",
       "  }\n",
       "  th, td {\n",
       "    padding: 5px;\n",
       "  }\n",
       "  th {\n",
       "    text-align: left;\n",
       "  }\n",
       "</style><div class='table-result-container'><table class='table-result'><thead style='background-color: white'><tr><th>check</th><th>check_level</th><th>check_status</th><th>constraint</th><th>constraint_status</th><th>constraint_message</th></tr></thead><tbody><tr><td>Review Check</td><td>Error</td><td>Error</td><td>MaximumConstraint(Maximum(quantity,None))</td><td>Success</td><td></td></tr><tr><td>Review Check</td><td>Error</td><td>Error</td><td>CompletenessConstraint(Completeness(quantity,None))</td><td>Success</td><td></td></tr><tr><td>Review Check</td><td>Error</td><td>Error</td><td>UniquenessConstraint(Uniqueness(List(ipaddr),None))</td><td>Success</td><td></td></tr><tr><td>Review Check</td><td>Error</td><td>Error</td><td>CompletenessConstraint(Completeness(ipaddr,None))</td><td>Success</td><td></td></tr><tr><td>Review Check</td><td>Error</td><td>Error</td><td>ComplianceConstraint(Compliance(buysell contained in buy,sell,`buysell` IS NULL OR `buysell` IN ('buy','sell'),None,List(buysell)))</td><td>Success</td><td></td></tr><tr><td>Review Check</td><td>Error</td><td>Error</td><td>ComplianceConstraint(Compliance(quantity is non-negative,COALESCE(CAST(quantity AS DECIMAL(20,10)), 0.0) >= 0,None,List(quantity)))</td><td>Failure</td><td>Value: 0.944 does not meet the constraint requirement!</td></tr></tbody></table></div>"
      ]
     },
     "metadata": {
      "application/vnd.databricks.v1+output": {
       "addedWidgets": {},
       "aggData": [],
       "aggError": "",
       "aggOverflow": false,
       "aggSchema": [],
       "aggSeriesLimitReached": false,
       "aggType": "",
       "arguments": {},
       "columnCustomDisplayInfos": {},
       "data": [
        [
         "Review Check",
         "Error",
         "Error",
         "MaximumConstraint(Maximum(quantity,None))",
         "Success",
         ""
        ],
        [
         "Review Check",
         "Error",
         "Error",
         "CompletenessConstraint(Completeness(quantity,None))",
         "Success",
         ""
        ],
        [
         "Review Check",
         "Error",
         "Error",
         "UniquenessConstraint(Uniqueness(List(ipaddr),None))",
         "Success",
         ""
        ],
        [
         "Review Check",
         "Error",
         "Error",
         "CompletenessConstraint(Completeness(ipaddr,None))",
         "Success",
         ""
        ],
        [
         "Review Check",
         "Error",
         "Error",
         "ComplianceConstraint(Compliance(buysell contained in buy,sell,`buysell` IS NULL OR `buysell` IN ('buy','sell'),None,List(buysell)))",
         "Success",
         ""
        ],
        [
         "Review Check",
         "Error",
         "Error",
         "ComplianceConstraint(Compliance(quantity is non-negative,COALESCE(CAST(quantity AS DECIMAL(20,10)), 0.0) >= 0,None,List(quantity)))",
         "Failure",
         "Value: 0.944 does not meet the constraint requirement!"
        ]
       ],
       "datasetInfos": [
        {
         "name": "resultDataFrame",
         "schema": {
          "fields": [
           {
            "metadata": {},
            "name": "check",
            "nullable": true,
            "type": "string"
           },
           {
            "metadata": {},
            "name": "check_level",
            "nullable": true,
            "type": "string"
           },
           {
            "metadata": {},
            "name": "check_status",
            "nullable": true,
            "type": "string"
           },
           {
            "metadata": {},
            "name": "constraint",
            "nullable": true,
            "type": "string"
           },
           {
            "metadata": {},
            "name": "constraint_status",
            "nullable": true,
            "type": "string"
           },
           {
            "metadata": {},
            "name": "constraint_message",
            "nullable": true,
            "type": "string"
           }
          ],
          "type": "struct"
         },
         "tableIdentifier": null,
         "typeStr": "org.apache.spark.sql.DataFrame"
        }
       ],
       "dbfsResultPath": null,
       "isJsonSchema": true,
       "metadata": {
        "isDbfsCommandResult": false
       },
       "overflow": false,
       "plotOptions": {
        "customPlotOptions": {},
        "displayType": "table",
        "pivotAggregation": null,
        "pivotColumns": null,
        "xColumns": null,
        "yColumns": null
       },
       "removedWidgets": [],
       "schema": [
        {
         "metadata": "{}",
         "name": "check",
         "type": "\"string\""
        },
        {
         "metadata": "{}",
         "name": "check_level",
         "type": "\"string\""
        },
        {
         "metadata": "{}",
         "name": "check_status",
         "type": "\"string\""
        },
        {
         "metadata": "{}",
         "name": "constraint",
         "type": "\"string\""
        },
        {
         "metadata": "{}",
         "name": "constraint_status",
         "type": "\"string\""
        },
        {
         "metadata": "{}",
         "name": "constraint_message",
         "type": "\"string\""
        }
       ],
       "type": "table"
      }
     },
     "output_type": "display_data"
    }
   ],
   "source": [
    "%scala\n",
    "val verificationResult: VerificationResult = { VerificationSuite()\n",
    "  .onData(spark.sql(\"select * from trades_delta\"))\n",
    "  .addCheck(\n",
    "    Check(CheckLevel.Error, \"Review Check\") \n",
    "      .hasMax(\"quantity\", _ <= 10000) // max is 10000\n",
    "      .hasCompleteness(\"quantity\", _ >= 0.95) // should never be NULL\n",
    "      .isUnique(\"ipaddr\") // should not contain duplicates\n",
    "      .hasCompleteness(\"ipaddr\", _ >= 0.95)\n",
    "      .isContainedIn(\"buysell\", Array(\"buy\",\"sell\")) // contains only the listed values\n",
    "      .isNonNegative(\"quantity\")) // should not contain negative values\n",
    "  .run()\n",
    "}\n",
    "\n",
    "// convert check results to a Spark data frame\n",
    "val resultDataFrame = checkResultsAsDataFrame(spark, verificationResult)\n",
    "display(resultDataFrame)"
   ]
  },
  {
   "cell_type": "code",
   "execution_count": 0,
   "metadata": {
    "application/vnd.databricks.v1+cell": {
     "cellMetadata": {
      "byteLimit": 2048000,
      "rowLimit": 10000
     },
     "inputWidgets": {},
     "nuid": "39436173-9528-4b90-ab4c-7e9956f43f65",
     "showTitle": false,
     "title": ""
    }
   },
   "outputs": [
    {
     "output_type": "display_data",
     "data": {
      "text/html": [
       "<style scoped>\n",
       "  .table-result-container {\n",
       "    max-height: 300px;\n",
       "    overflow: auto;\n",
       "  }\n",
       "  table, th, td {\n",
       "    border: 1px solid black;\n",
       "    border-collapse: collapse;\n",
       "  }\n",
       "  th, td {\n",
       "    padding: 5px;\n",
       "  }\n",
       "  th {\n",
       "    text-align: left;\n",
       "  }\n",
       "</style><div class='table-result-container'><table class='table-result'><thead style='background-color: white'><tr><th>check</th><th>check_level</th><th>check_status</th><th>constraint</th><th>constraint_status</th><th>constraint_message</th></tr></thead><tbody><tr><td>Review Check</td><td>Error</td><td>Error</td><td>MaximumConstraint(Maximum(quantity,None))</td><td>Success</td><td></td></tr><tr><td>Review Check</td><td>Error</td><td>Error</td><td>CompletenessConstraint(Completeness(quantity,None))</td><td>Success</td><td></td></tr><tr><td>Review Check</td><td>Error</td><td>Error</td><td>UniquenessConstraint(Uniqueness(List(ipaddr),None))</td><td>Success</td><td></td></tr><tr><td>Review Check</td><td>Error</td><td>Error</td><td>CompletenessConstraint(Completeness(ipaddr,None))</td><td>Success</td><td></td></tr><tr><td>Review Check</td><td>Error</td><td>Error</td><td>ComplianceConstraint(Compliance(buysell contained in buy,sell,`buysell` IS NULL OR `buysell` IN ('buy','sell'),None,List(buysell)))</td><td>Success</td><td></td></tr><tr><td>Review Check</td><td>Error</td><td>Error</td><td>ComplianceConstraint(Compliance(quantity is non-negative,COALESCE(CAST(quantity AS DECIMAL(20,10)), 0.0) >= 0,None,List(quantity)))</td><td>Failure</td><td>Value: 0.944 does not meet the constraint requirement!</td></tr></tbody></table></div>"
      ]
     },
     "metadata": {
      "application/vnd.databricks.v1+output": {
       "addedWidgets": {},
       "aggData": [],
       "aggError": "",
       "aggOverflow": false,
       "aggSchema": [],
       "aggSeriesLimitReached": false,
       "aggType": "",
       "arguments": {},
       "columnCustomDisplayInfos": {},
       "data": [
        [
         "Review Check",
         "Error",
         "Error",
         "MaximumConstraint(Maximum(quantity,None))",
         "Success",
         ""
        ],
        [
         "Review Check",
         "Error",
         "Error",
         "CompletenessConstraint(Completeness(quantity,None))",
         "Success",
         ""
        ],
        [
         "Review Check",
         "Error",
         "Error",
         "UniquenessConstraint(Uniqueness(List(ipaddr),None))",
         "Success",
         ""
        ],
        [
         "Review Check",
         "Error",
         "Error",
         "CompletenessConstraint(Completeness(ipaddr,None))",
         "Success",
         ""
        ],
        [
         "Review Check",
         "Error",
         "Error",
         "ComplianceConstraint(Compliance(buysell contained in buy,sell,`buysell` IS NULL OR `buysell` IN ('buy','sell'),None,List(buysell)))",
         "Success",
         ""
        ],
        [
         "Review Check",
         "Error",
         "Error",
         "ComplianceConstraint(Compliance(quantity is non-negative,COALESCE(CAST(quantity AS DECIMAL(20,10)), 0.0) >= 0,None,List(quantity)))",
         "Failure",
         "Value: 0.944 does not meet the constraint requirement!"
        ]
       ],
       "datasetInfos": [],
       "dbfsResultPath": null,
       "isJsonSchema": true,
       "metadata": {
        "isDbfsCommandResult": false
       },
       "overflow": false,
       "plotOptions": {
        "customPlotOptions": {
         "barChart": [
          {
           "key": "grouped",
           "value": true
          },
          {
           "key": "stacked",
           "value": false
          },
          {
           "key": "100_stacked",
           "value": false
          }
         ],
         "pieChart": [
          {
           "key": "donut",
           "value": true
          }
         ]
        },
        "displayType": "pieChart",
        "pivotAggregation": "count",
        "pivotColumns": [],
        "xColumns": [
         "constraint_status"
        ],
        "yColumns": [
         "check"
        ]
       },
       "removedWidgets": [],
       "schema": [
        {
         "metadata": "{}",
         "name": "check",
         "type": "\"string\""
        },
        {
         "metadata": "{}",
         "name": "check_level",
         "type": "\"string\""
        },
        {
         "metadata": "{}",
         "name": "check_status",
         "type": "\"string\""
        },
        {
         "metadata": "{}",
         "name": "constraint",
         "type": "\"string\""
        },
        {
         "metadata": "{}",
         "name": "constraint_status",
         "type": "\"string\""
        },
        {
         "metadata": "{}",
         "name": "constraint_message",
         "type": "\"string\""
        }
       ],
       "type": "table"
      }
     },
     "output_type": "display_data"
    }
   ],
   "source": [
    "%scala\n",
    "display(resultDataFrame)"
   ]
  }
 ],
 "metadata": {
  "application/vnd.databricks.v1+notebook": {
   "dashboards": [
    {
     "elements": [
      {
       "dashboardResultIndex": null,
       "elementNUID": "5761bb71-90e3-4763-9d25-0349fdc03b9d",
       "elementType": "command",
       "guid": "089a901a-ca86-4379-8981-caa232210a6d",
       "options": {
        "autoScaleImg": false,
        "scale": 0,
        "showTitle": true,
        "title": "Historical Completeness",
        "titleAlign": "center"
       },
       "position": {
        "height": 8,
        "width": 16,
        "x": 0,
        "y": 15,
        "z": null
       },
       "resultIndex": null
      },
      {
       "dashboardResultIndex": null,
       "elementNUID": "a8d7faef-e900-42a3-87a6-6eab777d1728",
       "elementType": "command",
       "guid": "0a2004d7-4269-4c75-8022-dd8448beb5b7",
       "options": {
        "autoScaleImg": false,
        "scale": 0,
        "showTitle": true,
        "title": "Bad Records per Batch",
        "titleAlign": "center"
       },
       "position": {
        "height": 15,
        "width": 13,
        "x": 0,
        "y": 30,
        "z": null
       },
       "resultIndex": null
      },
      {
       "dashboardResultIndex": null,
       "elementNUID": "58b44ecb-4de3-4b10-8721-cc0d3247b4c7",
       "elementType": "command",
       "guid": "363cc517-b94a-45e4-8792-ff33e91b9c47",
       "options": {
        "autoScaleImg": false,
        "scale": 0,
        "showTitle": true,
        "title": "Current Metrics: Completeness",
        "titleAlign": "center"
       },
       "position": {
        "height": 7,
        "width": 13,
        "x": 0,
        "y": 8,
        "z": null
       },
       "resultIndex": null
      },
      {
       "dashboardResultIndex": null,
       "elementNUID": "86595fc4-7f28-4753-a4e8-fc72954d5b4b",
       "elementType": "command",
       "guid": "a0bfb616-3941-41e8-a0fd-6208eb011642",
       "options": {
        "autoScaleImg": false,
        "scale": 0,
        "showTitle": true,
        "title": "Historical Distinctness",
        "titleAlign": "center"
       },
       "position": {
        "height": 8,
        "width": 17,
        "x": 1,
        "y": 0,
        "z": null
       },
       "resultIndex": null
      },
      {
       "dashboardResultIndex": null,
       "elementNUID": "39436173-9528-4b90-ab4c-7e9956f43f65",
       "elementType": "command",
       "guid": "d45d7244-6f26-41c6-bc48-43982fb819e6",
       "options": {
        "autoScaleImg": false,
        "scale": 0,
        "showTitle": true,
        "title": "Unit Validation Status",
        "titleAlign": "center"
       },
       "position": {
        "height": 7,
        "width": 11,
        "x": 0,
        "y": 23,
        "z": null
       },
       "resultIndex": null
      },
      {
       "dashboardResultIndex": null,
       "elementNUID": "134d5ffd-1c20-4ce3-910a-fbb04fc8012f",
       "elementType": "command",
       "guid": "ebbd49f1-a4f7-47e0-9a50-aff225386648",
       "options": {
        "autoScaleImg": false,
        "scale": 0,
        "showRunButton": false,
        "showTitle": true,
        "title": "Records Failing Validation",
        "titleAlign": "center"
       },
       "position": {
        "height": 18,
        "width": 24,
        "x": 0,
        "y": 45,
        "z": null
       },
       "resultIndex": null
      }
     ],
     "globalVars": {},
     "guid": "",
     "layoutOption": {
      "grid": true,
      "stack": false
     },
     "nuid": "35e1da5c-fcb4-4e08-b146-82bb44291fb6",
     "origId": 4014151619774418,
     "title": "DQ Status Dashboard",
     "version": "DashboardViewV1",
     "width": 1440
    },
    {
     "elements": [
      {
       "dashboardResultIndex": 44,
       "elementNUID": "86595fc4-7f28-4753-a4e8-fc72954d5b4b",
       "elementType": "command",
       "guid": "0905f034-bfb4-46c4-85e7-558786c8a387",
       "options": null,
       "position": {
        "height": 6,
        "width": 12,
        "x": 0,
        "y": 264,
        "z": null
       },
       "resultIndex": null
      },
      {
       "dashboardResultIndex": 45,
       "elementNUID": "86595fc4-7f28-4753-a4e8-fc72954d5b4b",
       "elementType": "command",
       "guid": "09326490-a65b-4f86-b1e5-d445787c0a06",
       "options": null,
       "position": {
        "height": 6,
        "width": 12,
        "x": 0,
        "y": 270,
        "z": null
       },
       "resultIndex": null
      },
      {
       "dashboardResultIndex": 37,
       "elementNUID": "86595fc4-7f28-4753-a4e8-fc72954d5b4b",
       "elementType": "command",
       "guid": "0bfd0ec7-97b9-4f58-a04c-f7061cf0e898",
       "options": null,
       "position": {
        "height": 6,
        "width": 12,
        "x": 0,
        "y": 222,
        "z": null
       },
       "resultIndex": null
      },
      {
       "dashboardResultIndex": 15,
       "elementNUID": "86595fc4-7f28-4753-a4e8-fc72954d5b4b",
       "elementType": "command",
       "guid": "10c7ead6-b38c-4dc4-8c9e-e5dc7250805f",
       "options": null,
       "position": {
        "height": 6,
        "width": 12,
        "x": 0,
        "y": 90,
        "z": null
       },
       "resultIndex": null
      },
      {
       "dashboardResultIndex": 1,
       "elementNUID": "86595fc4-7f28-4753-a4e8-fc72954d5b4b",
       "elementType": "command",
       "guid": "16f4a2ab-4472-4d13-a887-501b36fb0a5d",
       "options": null,
       "position": {
        "height": 6,
        "width": 12,
        "x": 0,
        "y": 6,
        "z": null
       },
       "resultIndex": null
      },
      {
       "dashboardResultIndex": 16,
       "elementNUID": "86595fc4-7f28-4753-a4e8-fc72954d5b4b",
       "elementType": "command",
       "guid": "1e3f1fcd-8b3a-43d0-8336-4d42137f72a5",
       "options": null,
       "position": {
        "height": 6,
        "width": 12,
        "x": 0,
        "y": 96,
        "z": null
       },
       "resultIndex": null
      },
      {
       "dashboardResultIndex": 25,
       "elementNUID": "86595fc4-7f28-4753-a4e8-fc72954d5b4b",
       "elementType": "command",
       "guid": "2be9e7d1-b0ad-4a2e-8e0f-e380ee5c043c",
       "options": null,
       "position": {
        "height": 6,
        "width": 12,
        "x": 0,
        "y": 150,
        "z": null
       },
       "resultIndex": null
      },
      {
       "dashboardResultIndex": 24,
       "elementNUID": "86595fc4-7f28-4753-a4e8-fc72954d5b4b",
       "elementType": "command",
       "guid": "2f6dd6e7-eac3-47d5-a358-b6508be9ccdb",
       "options": null,
       "position": {
        "height": 6,
        "width": 12,
        "x": 0,
        "y": 144,
        "z": null
       },
       "resultIndex": null
      },
      {
       "dashboardResultIndex": 40,
       "elementNUID": "86595fc4-7f28-4753-a4e8-fc72954d5b4b",
       "elementType": "command",
       "guid": "32d32905-7f55-4883-8ce1-f9329b3c12d0",
       "options": null,
       "position": {
        "height": 6,
        "width": 12,
        "x": 0,
        "y": 240,
        "z": null
       },
       "resultIndex": null
      },
      {
       "dashboardResultIndex": 30,
       "elementNUID": "86595fc4-7f28-4753-a4e8-fc72954d5b4b",
       "elementType": "command",
       "guid": "38cef573-3916-4212-b198-b43608cfb4aa",
       "options": null,
       "position": {
        "height": 6,
        "width": 12,
        "x": 0,
        "y": 180,
        "z": null
       },
       "resultIndex": null
      },
      {
       "dashboardResultIndex": 29,
       "elementNUID": "86595fc4-7f28-4753-a4e8-fc72954d5b4b",
       "elementType": "command",
       "guid": "3ea47f3a-07ae-4a41-aeb8-58d31ea16f6b",
       "options": null,
       "position": {
        "height": 6,
        "width": 12,
        "x": 0,
        "y": 174,
        "z": null
       },
       "resultIndex": null
      },
      {
       "dashboardResultIndex": 33,
       "elementNUID": "86595fc4-7f28-4753-a4e8-fc72954d5b4b",
       "elementType": "command",
       "guid": "3f8dbcdf-eff4-4210-b17f-bf4010eddcf0",
       "options": null,
       "position": {
        "height": 6,
        "width": 12,
        "x": 0,
        "y": 198,
        "z": null
       },
       "resultIndex": null
      },
      {
       "dashboardResultIndex": 14,
       "elementNUID": "86595fc4-7f28-4753-a4e8-fc72954d5b4b",
       "elementType": "command",
       "guid": "48ade6b1-5bc5-4747-90df-25c829fd8e40",
       "options": null,
       "position": {
        "height": 6,
        "width": 12,
        "x": 0,
        "y": 84,
        "z": null
       },
       "resultIndex": null
      },
      {
       "dashboardResultIndex": 26,
       "elementNUID": "86595fc4-7f28-4753-a4e8-fc72954d5b4b",
       "elementType": "command",
       "guid": "4b622a8a-d87c-475d-9dbe-981a879e3faf",
       "options": null,
       "position": {
        "height": 6,
        "width": 12,
        "x": 0,
        "y": 156,
        "z": null
       },
       "resultIndex": null
      },
      {
       "dashboardResultIndex": 38,
       "elementNUID": "86595fc4-7f28-4753-a4e8-fc72954d5b4b",
       "elementType": "command",
       "guid": "5c6a6039-3fa5-4af2-850c-c300c096d526",
       "options": null,
       "position": {
        "height": 6,
        "width": 12,
        "x": 0,
        "y": 228,
        "z": null
       },
       "resultIndex": null
      },
      {
       "dashboardResultIndex": 39,
       "elementNUID": "86595fc4-7f28-4753-a4e8-fc72954d5b4b",
       "elementType": "command",
       "guid": "6246018b-fbca-4973-bc4a-27ce4a5ebb16",
       "options": null,
       "position": {
        "height": 6,
        "width": 12,
        "x": 0,
        "y": 234,
        "z": null
       },
       "resultIndex": null
      },
      {
       "dashboardResultIndex": 31,
       "elementNUID": "86595fc4-7f28-4753-a4e8-fc72954d5b4b",
       "elementType": "command",
       "guid": "6bcd3a75-af95-4b39-b06c-fa50579e8ad3",
       "options": null,
       "position": {
        "height": 6,
        "width": 12,
        "x": 0,
        "y": 186,
        "z": null
       },
       "resultIndex": null
      },
      {
       "dashboardResultIndex": 34,
       "elementNUID": "86595fc4-7f28-4753-a4e8-fc72954d5b4b",
       "elementType": "command",
       "guid": "6d70da31-99e9-4616-ab8c-0e5d71fb28f3",
       "options": null,
       "position": {
        "height": 6,
        "width": 12,
        "x": 0,
        "y": 204,
        "z": null
       },
       "resultIndex": null
      },
      {
       "dashboardResultIndex": 4,
       "elementNUID": "86595fc4-7f28-4753-a4e8-fc72954d5b4b",
       "elementType": "command",
       "guid": "703f1d6a-9c54-4918-8027-e710234ec440",
       "options": null,
       "position": {
        "height": 6,
        "width": 12,
        "x": 0,
        "y": 24,
        "z": null
       },
       "resultIndex": null
      },
      {
       "dashboardResultIndex": 9,
       "elementNUID": "86595fc4-7f28-4753-a4e8-fc72954d5b4b",
       "elementType": "command",
       "guid": "78586228-0650-448e-80ef-b81be700547c",
       "options": null,
       "position": {
        "height": 6,
        "width": 12,
        "x": 0,
        "y": 54,
        "z": null
       },
       "resultIndex": null
      },
      {
       "dashboardResultIndex": 0,
       "elementNUID": "86595fc4-7f28-4753-a4e8-fc72954d5b4b",
       "elementType": "command",
       "guid": "7dd1d106-cfa2-4650-b94e-809b3c901d11",
       "options": null,
       "position": {
        "height": 6,
        "width": 12,
        "x": 0,
        "y": 0,
        "z": null
       },
       "resultIndex": null
      },
      {
       "dashboardResultIndex": 35,
       "elementNUID": "86595fc4-7f28-4753-a4e8-fc72954d5b4b",
       "elementType": "command",
       "guid": "7ef64dee-2681-4c85-aeae-3ecbe920f9d5",
       "options": null,
       "position": {
        "height": 6,
        "width": 12,
        "x": 0,
        "y": 210,
        "z": null
       },
       "resultIndex": null
      },
      {
       "dashboardResultIndex": 12,
       "elementNUID": "86595fc4-7f28-4753-a4e8-fc72954d5b4b",
       "elementType": "command",
       "guid": "84d86f3a-c6a2-4b90-94fd-6be0234da29f",
       "options": null,
       "position": {
        "height": 6,
        "width": 12,
        "x": 0,
        "y": 72,
        "z": null
       },
       "resultIndex": null
      },
      {
       "dashboardResultIndex": 42,
       "elementNUID": "86595fc4-7f28-4753-a4e8-fc72954d5b4b",
       "elementType": "command",
       "guid": "8a78d0c2-de23-4c1e-aa3b-f136c305aeec",
       "options": null,
       "position": {
        "height": 6,
        "width": 12,
        "x": 0,
        "y": 252,
        "z": null
       },
       "resultIndex": null
      },
      {
       "dashboardResultIndex": 5,
       "elementNUID": "86595fc4-7f28-4753-a4e8-fc72954d5b4b",
       "elementType": "command",
       "guid": "a59a8bfe-0a8d-4328-a2d0-02a4a1193943",
       "options": null,
       "position": {
        "height": 6,
        "width": 12,
        "x": 0,
        "y": 30,
        "z": null
       },
       "resultIndex": null
      },
      {
       "dashboardResultIndex": 43,
       "elementNUID": "86595fc4-7f28-4753-a4e8-fc72954d5b4b",
       "elementType": "command",
       "guid": "adaa1b59-02c9-4bae-b184-0b17039ef24a",
       "options": null,
       "position": {
        "height": 6,
        "width": 12,
        "x": 0,
        "y": 258,
        "z": null
       },
       "resultIndex": null
      },
      {
       "dashboardResultIndex": 17,
       "elementNUID": "86595fc4-7f28-4753-a4e8-fc72954d5b4b",
       "elementType": "command",
       "guid": "af4184cf-da98-4fe3-b7c3-707270a8ebe1",
       "options": null,
       "position": {
        "height": 6,
        "width": 12,
        "x": 0,
        "y": 102,
        "z": null
       },
       "resultIndex": null
      },
      {
       "dashboardResultIndex": 13,
       "elementNUID": "86595fc4-7f28-4753-a4e8-fc72954d5b4b",
       "elementType": "command",
       "guid": "b7f50a90-bacf-4923-b1f1-9a9993ccc138",
       "options": null,
       "position": {
        "height": 6,
        "width": 12,
        "x": 0,
        "y": 78,
        "z": null
       },
       "resultIndex": null
      },
      {
       "dashboardResultIndex": 8,
       "elementNUID": "86595fc4-7f28-4753-a4e8-fc72954d5b4b",
       "elementType": "command",
       "guid": "c50daefb-1065-4dce-86cc-0a019bfe6fea",
       "options": null,
       "position": {
        "height": 6,
        "width": 12,
        "x": 0,
        "y": 48,
        "z": null
       },
       "resultIndex": null
      },
      {
       "dashboardResultIndex": 20,
       "elementNUID": "86595fc4-7f28-4753-a4e8-fc72954d5b4b",
       "elementType": "command",
       "guid": "c5ed9ef7-e23d-4f45-9894-b59df1856862",
       "options": null,
       "position": {
        "height": 6,
        "width": 12,
        "x": 0,
        "y": 120,
        "z": null
       },
       "resultIndex": null
      },
      {
       "dashboardResultIndex": 7,
       "elementNUID": "86595fc4-7f28-4753-a4e8-fc72954d5b4b",
       "elementType": "command",
       "guid": "cc965b0d-653d-4b93-90f8-32260edf60b5",
       "options": null,
       "position": {
        "height": 6,
        "width": 12,
        "x": 0,
        "y": 42,
        "z": null
       },
       "resultIndex": null
      },
      {
       "dashboardResultIndex": 23,
       "elementNUID": "86595fc4-7f28-4753-a4e8-fc72954d5b4b",
       "elementType": "command",
       "guid": "ce665f01-a043-4644-89cc-d4e795a17862",
       "options": null,
       "position": {
        "height": 6,
        "width": 12,
        "x": 0,
        "y": 138,
        "z": null
       },
       "resultIndex": null
      },
      {
       "dashboardResultIndex": 32,
       "elementNUID": "86595fc4-7f28-4753-a4e8-fc72954d5b4b",
       "elementType": "command",
       "guid": "d2d4a683-0e78-45b9-95ae-8f55d4cc2d94",
       "options": null,
       "position": {
        "height": 6,
        "width": 12,
        "x": 0,
        "y": 192,
        "z": null
       },
       "resultIndex": null
      },
      {
       "dashboardResultIndex": 18,
       "elementNUID": "86595fc4-7f28-4753-a4e8-fc72954d5b4b",
       "elementType": "command",
       "guid": "dacf2d36-8d0e-4a14-a374-970b89475009",
       "options": null,
       "position": {
        "height": 6,
        "width": 12,
        "x": 0,
        "y": 108,
        "z": null
       },
       "resultIndex": null
      },
      {
       "dashboardResultIndex": 22,
       "elementNUID": "86595fc4-7f28-4753-a4e8-fc72954d5b4b",
       "elementType": "command",
       "guid": "e2714a48-7524-4e17-a825-62ae5edda474",
       "options": null,
       "position": {
        "height": 6,
        "width": 12,
        "x": 0,
        "y": 132,
        "z": null
       },
       "resultIndex": null
      },
      {
       "dashboardResultIndex": 6,
       "elementNUID": "86595fc4-7f28-4753-a4e8-fc72954d5b4b",
       "elementType": "command",
       "guid": "e2a66b63-752d-4e1d-a25c-093811781f79",
       "options": null,
       "position": {
        "height": 6,
        "width": 12,
        "x": 0,
        "y": 36,
        "z": null
       },
       "resultIndex": null
      },
      {
       "dashboardResultIndex": 19,
       "elementNUID": "86595fc4-7f28-4753-a4e8-fc72954d5b4b",
       "elementType": "command",
       "guid": "e33d2b4a-ab8a-43ef-a28d-d2c9230ecf98",
       "options": null,
       "position": {
        "height": 6,
        "width": 12,
        "x": 0,
        "y": 114,
        "z": null
       },
       "resultIndex": null
      },
      {
       "dashboardResultIndex": 28,
       "elementNUID": "86595fc4-7f28-4753-a4e8-fc72954d5b4b",
       "elementType": "command",
       "guid": "e9a3f86d-1a94-4951-9b40-27124c81ab42",
       "options": null,
       "position": {
        "height": 6,
        "width": 12,
        "x": 0,
        "y": 168,
        "z": null
       },
       "resultIndex": null
      },
      {
       "dashboardResultIndex": 27,
       "elementNUID": "86595fc4-7f28-4753-a4e8-fc72954d5b4b",
       "elementType": "command",
       "guid": "ea8bee8e-1098-4ed5-a0c9-37822f716c08",
       "options": null,
       "position": {
        "height": 6,
        "width": 12,
        "x": 0,
        "y": 162,
        "z": null
       },
       "resultIndex": null
      },
      {
       "dashboardResultIndex": 41,
       "elementNUID": "86595fc4-7f28-4753-a4e8-fc72954d5b4b",
       "elementType": "command",
       "guid": "eadbc969-229e-40e8-954d-0f7af2a9d412",
       "options": null,
       "position": {
        "height": 6,
        "width": 12,
        "x": 0,
        "y": 246,
        "z": null
       },
       "resultIndex": null
      },
      {
       "dashboardResultIndex": 2,
       "elementNUID": "86595fc4-7f28-4753-a4e8-fc72954d5b4b",
       "elementType": "command",
       "guid": "ec8f9bc9-e5ed-4d8c-b3a3-17c0f0c5edc7",
       "options": null,
       "position": {
        "height": 6,
        "width": 12,
        "x": 0,
        "y": 12,
        "z": null
       },
       "resultIndex": null
      },
      {
       "dashboardResultIndex": 11,
       "elementNUID": "86595fc4-7f28-4753-a4e8-fc72954d5b4b",
       "elementType": "command",
       "guid": "efb883ab-c637-4fcf-ba89-b518d7bc0b30",
       "options": null,
       "position": {
        "height": 6,
        "width": 12,
        "x": 0,
        "y": 66,
        "z": null
       },
       "resultIndex": null
      },
      {
       "dashboardResultIndex": 36,
       "elementNUID": "86595fc4-7f28-4753-a4e8-fc72954d5b4b",
       "elementType": "command",
       "guid": "f0abbece-ece3-4436-96fa-eb5767c23458",
       "options": null,
       "position": {
        "height": 6,
        "width": 12,
        "x": 0,
        "y": 216,
        "z": null
       },
       "resultIndex": null
      },
      {
       "dashboardResultIndex": 10,
       "elementNUID": "86595fc4-7f28-4753-a4e8-fc72954d5b4b",
       "elementType": "command",
       "guid": "f103e5ad-eb92-4be3-8139-3ab2e6d7a686",
       "options": null,
       "position": {
        "height": 6,
        "width": 12,
        "x": 0,
        "y": 60,
        "z": null
       },
       "resultIndex": null
      },
      {
       "dashboardResultIndex": 3,
       "elementNUID": "86595fc4-7f28-4753-a4e8-fc72954d5b4b",
       "elementType": "command",
       "guid": "f909ed59-7c06-4a55-853a-af3b43b319e7",
       "options": null,
       "position": {
        "height": 6,
        "width": 12,
        "x": 0,
        "y": 18,
        "z": null
       },
       "resultIndex": null
      },
      {
       "dashboardResultIndex": 21,
       "elementNUID": "86595fc4-7f28-4753-a4e8-fc72954d5b4b",
       "elementType": "command",
       "guid": "fa74d203-a67d-41c7-8eb9-9e82a0417839",
       "options": null,
       "position": {
        "height": 6,
        "width": 12,
        "x": 0,
        "y": 126,
        "z": null
       },
       "resultIndex": null
      }
     ],
     "globalVars": {},
     "guid": "",
     "layoutOption": {
      "grid": true,
      "stack": true
     },
     "nuid": "ee73f20b-cacf-4fc3-ae86-e1ce84a30a04",
     "origId": 4014151619774455,
     "title": "Untitled",
     "version": "DashboardViewV1",
     "width": 1024
    }
   ],
   "language": "python",
   "notebookMetadata": {
    "mostRecentlyExecutedCommandWithImplicitDF": {
     "commandId": 4014151619774391,
     "dataframes": [
      "_sqldf"
     ]
    },
    "pythonIndentUnit": 2
   },
   "notebookName": "Deequ Streaming Test",
   "widgets": {}
  }
 },
 "nbformat": 4,
 "nbformat_minor": 0
}
